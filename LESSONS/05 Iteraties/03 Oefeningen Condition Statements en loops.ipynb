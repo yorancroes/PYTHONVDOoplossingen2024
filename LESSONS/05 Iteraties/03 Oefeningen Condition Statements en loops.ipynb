{
 "cells": [
  {
   "cell_type": "markdown",
   "metadata": {},
   "source": [
    "![alt text](../../pythonexposed-high-resolution-logo-black.jpg \"Optionele titel\")"
   ]
  },
  {
   "cell_type": "markdown",
   "metadata": {},
   "source": [
    "### Oefening 1"
   ]
  },
  {
   "cell_type": "markdown",
   "metadata": {},
   "source": [
    "Schrijf een Python-programma om die getallen te vinden die deelbaar zijn door 7 en een veelvoud van 5 zijn, tussen 1500 en 2700 (beide inbegrepen)."
   ]
  },
  {
   "cell_type": "code",
   "execution_count": 1,
   "metadata": {},
   "outputs": [],
   "source": [
    "# Oplossing:"
   ]
  },
  {
   "cell_type": "markdown",
   "metadata": {},
   "source": [
    "### Oefening 2"
   ]
  },
  {
   "cell_type": "markdown",
   "metadata": {},
   "source": [
    "Schrijf een Python-programma om temperaturen om te zetten van en naar Celsius en Fahrenheit."
   ]
  },
  {
   "cell_type": "markdown",
   "metadata": {},
   "source": [
    "Formule voor het omrekenen: C = (5/9) * (F - 32)"
   ]
  },
  {
   "cell_type": "code",
   "execution_count": 2,
   "metadata": {},
   "outputs": [],
   "source": [
    "# Oplossing:"
   ]
  },
  {
   "cell_type": "markdown",
   "metadata": {},
   "source": [
    "### Oefening 3"
   ]
  },
  {
   "cell_type": "markdown",
   "metadata": {},
   "source": [
    "Schrijf een Python-programma om een getal tussen 1 en 9 te raden.\n",
    "Opmerking: De gebruiker wordt gevraagd om een gok te doen. Als de gebruiker verkeerd raadt, verschijnt de prompt opnieuw totdat de gok correct is. Bij een correcte gok krijgt de gebruiker de boodschap \"Goed geraden!\" en stopt het programma."
   ]
  },
  {
   "cell_type": "code",
   "execution_count": 3,
   "metadata": {},
   "outputs": [],
   "source": [
    "# Oplossing:"
   ]
  },
  {
   "cell_type": "markdown",
   "metadata": {},
   "source": [
    "### Oefening 4"
   ]
  },
  {
   "cell_type": "markdown",
   "metadata": {},
   "source": [
    "Schrijf een Python-programma dat een woord van de gebruiker accepteert en het omkeert."
   ]
  },
  {
   "cell_type": "code",
   "execution_count": 5,
   "metadata": {},
   "outputs": [],
   "source": [
    "# Oplossing:"
   ]
  },
  {
   "cell_type": "markdown",
   "metadata": {},
   "source": [
    "### Oefening 5"
   ]
  },
  {
   "cell_type": "markdown",
   "metadata": {},
   "source": [
    "Schrijf een Python-programma dat door de gehele getallen van 1 tot 50 loopt. Voor veelvouden van drie print je \"Fizz\" in plaats van het getal, en voor veelvouden van vijf print je \"Buzz\". Voor getallen die een veelvoud zijn van zowel drie als vijf, print je \"FizzBuzz\".\n",
    "Sample Output :\r\n",
    "fizzbuzz\r\n",
    "1\r\n",
    "2\r\n",
    "fizz\r\n",
    "4\r\n",
    "buzz"
   ]
  },
  {
   "cell_type": "code",
   "execution_count": 7,
   "metadata": {},
   "outputs": [],
   "source": [
    "# Oplossing:"
   ]
  },
  {
   "cell_type": "markdown",
   "metadata": {},
   "source": [
    "### Oefening 6"
   ]
  },
  {
   "cell_type": "markdown",
   "metadata": {},
   "source": [
    "Schrijf een Python-programma dat twee cijfers, m (rij) en n (kolom), als invoer neemt en een tweedimensionale array genereert. De elementwaarde in de i-de rij en j-de kolom van de array moet i*j zijn.\n",
    "\n",
    "Opmerking:\n",
    "\n",
    "i = 0,1,..., m-1\n",
    "j = 0,1,..., n-1\n",
    "Testgegevens: Rijen = 3, Kolommen = 4\n",
    "Verwacht Resultaat: [[0, 0, 0, 0], [0, 1, 2, 3], [0, 2, 4, 6]]"
   ]
  },
  {
   "cell_type": "code",
   "execution_count": 8,
   "metadata": {},
   "outputs": [],
   "source": [
    "# Oplossing:"
   ]
  },
  {
   "cell_type": "markdown",
   "metadata": {},
   "source": [
    "### Oefening 7"
   ]
  },
  {
   "cell_type": "markdown",
   "metadata": {},
   "source": [
    "Schrijf een Python-programma dat een string accepteert en het aantal cijfers en letters berekent. \n",
    "Voorbeeldgegevens: String: Python 3.2\n",
    "Verwachte uitvoer:\n",
    "Letters: 6\n",
    "Cijfers: 2"
   ]
  },
  {
   "cell_type": "code",
   "execution_count": 10,
   "metadata": {},
   "outputs": [],
   "source": [
    "# Oplossing:"
   ]
  },
  {
   "cell_type": "markdown",
   "metadata": {},
   "source": [
    "### Oefening 8"
   ]
  },
  {
   "cell_type": "raw",
   "metadata": {},
   "source": [
    "Schrijf een Python-programma om het alfabetpatroon 'G' af te drukken.\n",
    " ***                                                                   \n",
    " *   *                                                                  \n",
    " *                                                                      \n",
    " * ***                                                                  \n",
    " *   *                                                                  \n",
    " *   *                                                                  \n",
    "  *** "
   ]
  },
  {
   "cell_type": "code",
   "execution_count": 1,
   "metadata": {},
   "outputs": [],
   "source": [
    "# Oplossing:"
   ]
  },
  {
   "cell_type": "markdown",
   "metadata": {},
   "source": [
    "### Oefening 9"
   ]
  },
  {
   "cell_type": "raw",
   "metadata": {},
   "source": [
    "Schrijf een Python-programma om het alfabetpatroon 'R' af te drukken.\n",
    " ****                                                                   \r\n",
    " *   *                                                                  \r\n",
    " *   *                                                                  \r\n",
    " ****                                                                   \r\n",
    " * *                                                                    \r\n",
    " *  *                                                                   \r\n",
    " *   *"
   ]
  },
  {
   "cell_type": "code",
   "execution_count": 14,
   "metadata": {},
   "outputs": [],
   "source": [
    "# Oplossing:"
   ]
  },
  {
   "cell_type": "markdown",
   "metadata": {},
   "source": [
    "### Oefening 10"
   ]
  },
  {
   "cell_type": "raw",
   "metadata": {},
   "source": [
    "Schrijf een Python-programma om het alfabetpatroon 'X' af te drukken.\n",
    " *   *                                                                  \r\n",
    " *   *                                                                  \r\n",
    "  * *                                                                   \r\n",
    "   *                                                                    \r\n",
    "  * *                                                                   \r\n",
    " *   *                                                                  \r\n",
    " *   *"
   ]
  },
  {
   "cell_type": "code",
   "execution_count": 15,
   "metadata": {},
   "outputs": [],
   "source": [
    "# Oplossing:"
   ]
  },
  {
   "cell_type": "markdown",
   "metadata": {},
   "source": [
    "### Oefening 11"
   ]
  },
  {
   "cell_type": "markdown",
   "metadata": {},
   "source": [
    "Schrijf een Python-programma om de leeftijd van een hond in hondenjaren te berekenen.\n",
    "\n",
    "Opmerking: Voor de eerste twee jaar is één hondenjaar gelijk aan 10,5 menselijke jaren. Daarna is elk hondenjaar gelijk aan 4 menselijke jaren."
   ]
  },
  {
   "cell_type": "code",
   "execution_count": 16,
   "metadata": {},
   "outputs": [],
   "source": [
    "# Oplossing:"
   ]
  },
  {
   "cell_type": "markdown",
   "metadata": {},
   "source": [
    "### Oefening 12"
   ]
  },
  {
   "cell_type": "markdown",
   "metadata": {},
   "source": [
    "Schrijf een Python-programma om een maandnaam om te zetten in het aantal dagen met behulp van de switch-case-functionaliteit.\n",
    "\n",
    "Verwachte output:\n",
    "\n",
    "Lijst van maanden: Januari, Februari, Maart, April, Mei, Juni, Juli, Augustus, \n",
    "September, Oktober, November, December\n",
    "\n",
    "Voer de naam van de maand in: Februari\n",
    "\n",
    "Aantal dagen: 28/29 dagen"
   ]
  },
  {
   "cell_type": "code",
   "execution_count": 17,
   "metadata": {},
   "outputs": [],
   "source": [
    "# Oplossing:"
   ]
  },
  {
   "cell_type": "markdown",
   "metadata": {},
   "source": [
    "### Oefening 13"
   ]
  },
  {
   "cell_type": "markdown",
   "metadata": {},
   "source": [
    "Schrijf een Python-programma om te controleren of een driehoek gelijkzijdig, gelijkbenig of ongelijkzijdig is.\n",
    "\n",
    "Opmerking:\n",
    "\n",
    "Een gelijkzijdige driehoek is een driehoek waarin alle drie de zijden gelijk zijn.\n",
    "Een ongelijkzijdige driehoek is een driehoek waarin alle drie de zijden ongelijk zijn.\n",
    "Een gelijkbenige driehoek is een driehoek met (minstens) twee gelijke zijden.\n",
    "\n",
    "Verwachte output:\n",
    "\n",
    "Voer de lengtes van de zijden van de driehoek in:\n",
    "\n",
    "x: 6\n",
    "\n",
    "y: 8\n",
    "\n",
    "z: 12\n",
    "\n",
    "Ongelijkzijdige driehoek"
   ]
  },
  {
   "cell_type": "code",
   "execution_count": 18,
   "metadata": {},
   "outputs": [],
   "source": [
    "# Oplossing:"
   ]
  },
  {
   "cell_type": "markdown",
   "metadata": {},
   "source": [
    "### Oefening 14"
   ]
  },
  {
   "cell_type": "markdown",
   "metadata": {},
   "source": [
    "Schrijf een Python-programma om de mediaan van drie waarden te vinden.\n",
    "\n",
    "Verwachte output: \n",
    "\n",
    "Voer het eerste getal in: 15\n",
    "\n",
    "Voer het tweede getal in: 26\n",
    "\n",
    "Voer het derde getal in: 29\n",
    "\n",
    "De mediaan is 26.0"
   ]
  },
  {
   "cell_type": "code",
   "execution_count": 19,
   "metadata": {},
   "outputs": [],
   "source": [
    "# Oplossing:"
   ]
  },
  {
   "cell_type": "markdown",
   "metadata": {},
   "source": [
    "#### Oefening 15\n",
    "\n",
    "Schrijf een Python-programma om de volgende dag van een opgegeven datum te krijgen.\n",
    "\n",
    "Verwachte output: \n",
    "\n",
    "Voer een jaar in: 2016\n",
    "\n",
    "Voer een maand in [1-12]: 08\n",
    "\n",
    "Voer een dag in [1-31]: 23\n",
    "\n",
    "De volgende datum is [jjjj-mm-dd] 2016-8-24"
   ]
  },
  {
   "cell_type": "code",
   "execution_count": 20,
   "metadata": {},
   "outputs": [],
   "source": [
    "# Oplossing: "
   ]
  },
  {
   "cell_type": "markdown",
   "metadata": {},
   "source": [
    "### Oefening 16"
   ]
  },
  {
   "cell_type": "markdown",
   "metadata": {},
   "source": [
    "Schrijf een Python-programma om de tafel van vermenigvuldiging (van 1 tot 10) van een getal te maken.\n",
    "\n",
    "Verwachte output: \n",
    "\n",
    "Voer een getal in: 6\n",
    "\n",
    "6 x 1 = 6\n",
    "\n",
    "6 x 2 = 12\n",
    "\n",
    "6 x 3 = 18\n",
    "\n",
    "6 x 4 = 24\n",
    "\n",
    "6 x 5 = 30\n",
    "\n",
    "6 x 6 = 36\n",
    "\n",
    "6 x 7 = 42\n",
    "\n",
    "6 x 8 = 48\n",
    "\n",
    "6 x 9 = 54\n",
    "\n",
    "6 x 10 = 60"
   ]
  },
  {
   "cell_type": "code",
   "execution_count": 21,
   "metadata": {},
   "outputs": [],
   "source": [
    "# Oplossing: "
   ]
  },
  {
   "cell_type": "markdown",
   "metadata": {},
   "source": [
    "### Oefening 17"
   ]
  },
  {
   "cell_type": "markdown",
   "metadata": {},
   "source": [
    "Schrijf een Python-programma om het volgende patroon te construeren, gebruikmakend van een loop.\n",
    "\n",
    "1\n",
    "\n",
    "22\n",
    "\n",
    "333\n",
    "\n",
    "4444\n",
    "\n",
    "55555\n",
    "\n",
    "666666\n",
    "\n",
    "7777777\n",
    "\n",
    "88888888\n",
    "\n",
    "999999999"
   ]
  },
  {
   "cell_type": "code",
   "execution_count": 22,
   "metadata": {},
   "outputs": [],
   "source": [
    "# Oplossing:"
   ]
  },
  {
   "cell_type": "markdown",
   "metadata": {},
   "source": [
    "### Oefening 18"
   ]
  },
  {
   "cell_type": "markdown",
   "metadata": {},
   "source": [
    "Schrijf een Python-programma om de som en het gemiddelde van n gehele getallen te berekenen (invoer door de gebruiker). Voer 0 in om te stoppen."
   ]
  },
  {
   "cell_type": "code",
   "execution_count": 23,
   "metadata": {},
   "outputs": [],
   "source": [
    "# Oplossing:"
   ]
  },
  {
   "cell_type": "markdown",
   "metadata": {},
   "source": [
    "### Oefening 19"
   ]
  },
  {
   "cell_type": "markdown",
   "metadata": {},
   "source": [
    "Schrijf een Python-programma dat twee gehele getallen leest die een maand en een dag vertegenwoordigen en de bijbehorende seizoen afdrukt voor die maand en dag. Doe dit met een if-elif-else en met een match case constructie.\n",
    "\n",
    "Lente (Voorjaar): Start op 20 maart.  \n",
    "Zomer: Start op 21 juni.  \n",
    "Herfst (Najaar): Start op 23 september.  \n",
    "Winter: Start op 21 december.  \n",
    "\n",
    "Verwachte output: \n",
    "\n",
    "Voer de maand in (bijv. Januari, Februari etc.): juli\n",
    "\n",
    "Voer de dag in: 31\n",
    "\n",
    "Het seizoen is herfst"
   ]
  },
  {
   "cell_type": "code",
   "execution_count": 25,
   "metadata": {},
   "outputs": [],
   "source": [
    "# Oplossing:"
   ]
  }
 ],
 "metadata": {
  "kernelspec": {
   "display_name": "Python 3 (ipykernel)",
   "language": "python",
   "name": "python3"
  },
  "language_info": {
   "codemirror_mode": {
    "name": "ipython",
    "version": 3
   },
   "file_extension": ".py",
   "mimetype": "text/x-python",
   "name": "python",
   "nbconvert_exporter": "python",
   "pygments_lexer": "ipython3",
   "version": "3.11.6"
  }
 },
 "nbformat": 4,
 "nbformat_minor": 4
}
