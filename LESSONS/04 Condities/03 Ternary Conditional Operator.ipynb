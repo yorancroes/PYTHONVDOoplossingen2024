{
 "cells": [
  {
   "cell_type": "markdown",
   "metadata": {},
   "source": [
    "![alt text](../../pythonexposed-high-resolution-logo-black.jpg \"Optionele titel\")"
   ]
  },
  {
   "cell_type": "markdown",
   "metadata": {},
   "source": [
    "### Ternaire conditionele operator"
   ]
  },
  {
   "cell_type": "markdown",
   "metadata": {},
   "source": [
    "Deze operator neemt drie inputs:\n",
    "* de voorwaarde om te evalueren\n",
    "* de expressie om te evalueren en terug te geven als de voorwaarde `True` is\n",
    "* de expressie om te evalueren en terug te geven als de voorwaarde `False` is"
   ]
  },
  {
   "cell_type": "markdown",
   "metadata": {},
   "source": [
    "Deze operator is zo gestructureerd dat het lezen van de code erg intuïtief is."
   ]
  },
  {
   "cell_type": "markdown",
   "metadata": {},
   "source": [
    "Opnieuw: **leesbaarheid** van je code is bijzonder belangrijk!\n",
    "\n",
    "Wanneer je begint met het schrijven van een stuk code, moet je je eerst richten op correctheid (geen bugs) en leesbaarheid. Misschien kan de code compacter geschreven worden, maar dat gaat ten koste van de leesbaarheid. Of misschien kan de code efficiënter geschreven worden, maar ook dan gaat het ten koste van de leesbaarheid. Het zou kunnen... Maar val niet in die valkuil - schrijf je code eerst met helderheid en correctheid voor ogen. Pas later, wanneer de code werkt en je vaststelt dat dat stuk code een knelpunt vormt voor je algehele programma, dan en alleen dan, kun je teruggaan en het optimaliseren.\n",
    "\n",
    "En leesbaarheid is niet bedoeld voor de Python-compiler - het is voor ons, mensen, die de code moeten lezen!"
   ]
  },
  {
   "cell_type": "markdown",
   "metadata": {},
   "source": [
    "**Hoe werkt de ternaire conditionele operator?**"
   ]
  },
  {
   "cell_type": "markdown",
   "metadata": {},
   "source": [
    "Stel dat we het volume van een bod (hoeveel wil ik kopen?) willen berekenen, op basis van de vraagprijs van een bepaald aandeel - dit zouden we als volgt kunnen doen:"
   ]
  },
  {
   "cell_type": "code",
   "execution_count": 1,
   "metadata": {},
   "outputs": [
    {
     "name": "stdout",
     "output_type": "stream",
     "text": [
      "50\n"
     ]
    }
   ],
   "source": [
    "ask_price = 100\n",
    "\n",
    "if ask_price > 50:\n",
    "    volume = 50\n",
    "else:\n",
    "    volume = 80\n",
    "    \n",
    "print(volume)"
   ]
  },
  {
   "cell_type": "markdown",
   "metadata": {},
   "source": [
    "Maar we kunnen dit vereenvoudigen, zonder leesbaarheid te verliezen, als volgt:"
   ]
  },
  {
   "cell_type": "code",
   "execution_count": 1,
   "metadata": {},
   "outputs": [
    {
     "name": "stdout",
     "output_type": "stream",
     "text": [
      "50\n"
     ]
    }
   ],
   "source": [
    "ask_price = 100\n",
    "\n",
    "volume = 50 if ask_price > 50 else 80\n",
    "\n",
    "print(volume)"
   ]
  },
  {
   "cell_type": "markdown",
   "metadata": {},
   "source": [
    "Natuurlijk kan de \"returnwaarde\" elke expressie zijn, niet enkel een letterlijke waarde:"
   ]
  },
  {
   "cell_type": "markdown",
   "metadata": {},
   "source": [
    "Laten we zeggen dat we de \"afstand\" tussen twee getallen willen vinden, maar we zijn de `abs()` functie vergeten.\n",
    "Dit kan als volgt:"
   ]
  },
  {
   "cell_type": "code",
   "execution_count": 3,
   "metadata": {},
   "outputs": [
    {
     "name": "stdout",
     "output_type": "stream",
     "text": [
      "10\n"
     ]
    }
   ],
   "source": [
    "a = 10\n",
    "b = 20\n",
    "\n",
    "distance = a - b if a >= b else b-a\n",
    "\n",
    "print(distance)"
   ]
  },
  {
   "cell_type": "code",
   "execution_count": 4,
   "metadata": {},
   "outputs": [
    {
     "name": "stdout",
     "output_type": "stream",
     "text": [
      "10\n"
     ]
    }
   ],
   "source": [
    "a = 20\n",
    "b = 10\n",
    "\n",
    "distance = a - b if a >= b else b-a\n",
    "\n",
    "print(distance)"
   ]
  },
  {
   "cell_type": "markdown",
   "metadata": {},
   "source": [
    "De ternaire operator kan ook zeer nuttig zijn om om te gaan met \"null\"-waarden.\n",
    "Vaak, wanneer we data verwerken, kan het voorkomen dat we enkele ontbrekende gegevens hebben die we willen vervangen door een standaardwaarde of een berekende waarde (bijvoorbeeld uit de vorige rij, of het gemiddelde van alle voorgaande rijen, enzovoort)."
   ]
  },
  {
   "cell_type": "markdown",
   "metadata": {},
   "source": [
    "Stel dat we door een gegevensbestand loopen en voor elke rij die we verwerken, hebben we de volgende gegevens:\n",
    "- `current_value` - de waarde van een kolom in onze huidige rij. Een waarde van `-999` geeft aan dat de waarde ontbreekt.\n",
    "- `running_total` - som van de waarden in die kolom tot nu toe, mogelijk nul\n",
    "- `running_count` - aantal rijen (exclusief de huidige rij)"
   ]
  },
  {
   "cell_type": "markdown",
   "metadata": {},
   "source": [
    "Op een gegeven moment kunnen we deze gegevens hebben:"
   ]
  },
  {
   "cell_type": "code",
   "execution_count": 5,
   "metadata": {},
   "outputs": [],
   "source": [
    "current_value = 100\n",
    "running_total = 15000\n",
    "running_count = 125"
   ]
  },
  {
   "cell_type": "markdown",
   "metadata": {},
   "source": [
    "We berekenen vervolgens de `cleaned_value` op deze manier voordat we `running_total` bijwerken (en het bijwerken van `running_count` zou op een vergelijkbare manier worden gedaan):"
   ]
  },
  {
   "cell_type": "code",
   "execution_count": 6,
   "metadata": {},
   "outputs": [
    {
     "name": "stdout",
     "output_type": "stream",
     "text": [
      "15100\n"
     ]
    }
   ],
   "source": [
    "cleaned_value = 0 if current_value == -999 else current_value\n",
    "\n",
    "running_total = running_total + cleaned_value\n",
    "\n",
    "print(running_total)"
   ]
  },
  {
   "cell_type": "markdown",
   "metadata": {},
   "source": [
    "Zoals je kunt zien, ontbrak onze waarde niet, dus hebben we deze zoals hij was gebruikt."
   ]
  },
  {
   "cell_type": "markdown",
   "metadata": {},
   "source": [
    "Aan de andere kant, als de waarde ontbrak, zouden we mogelijk gegevens hebben zoals deze:"
   ]
  },
  {
   "cell_type": "code",
   "execution_count": 5,
   "metadata": {},
   "outputs": [],
   "source": [
    "current_value = -999\n",
    "running_total = 15000\n",
    "running_count = 125"
   ]
  },
  {
   "cell_type": "markdown",
   "metadata": {},
   "source": [
    "En dezelfde code als eerder zou opleveren:"
   ]
  },
  {
   "cell_type": "code",
   "execution_count": 3,
   "metadata": {},
   "outputs": [
    {
     "name": "stdout",
     "output_type": "stream",
     "text": [
      "15000\n"
     ]
    }
   ],
   "source": [
    "cleaned_value = 0 if current_value == -999 else current_value\n",
    "running_total = running_total + cleaned_value\n",
    "\n",
    "print(running_total)"
   ]
  },
  {
   "cell_type": "markdown",
   "metadata": {},
   "source": [
    "Als we die tijdelijke variabele `cleaned_value` willen vermijden, kunnen we onze code als volgt herschrijven:"
   ]
  },
  {
   "cell_type": "code",
   "execution_count": 6,
   "metadata": {},
   "outputs": [
    {
     "name": "stdout",
     "output_type": "stream",
     "text": [
      "15000\n"
     ]
    }
   ],
   "source": [
    "running_total = running_total + (0 if current_value == -999 else current_value)\n",
    "print(running_total)"
   ]
  },
  {
   "cell_type": "markdown",
   "metadata": {},
   "source": [
    "Wees hier voorzichtig! de ternaire voorwaardelijke operator heeft **lagere** prioriteit dan `+`, dus we **moeten** haakjes gebruiken om ons code zich te laten gedragen zoals we willen (eerst de opgeschoonde waarde berekenen, en dan deze toevoegen aan het totaal)."
   ]
  },
  {
   "cell_type": "markdown",
   "metadata": {},
   "source": [
    "Houd de ternaire operator in gedachten voor **eenvoudige** gevallen. Als het ingewikkeld begint te worden, gebruik dan een reguliere `if...elif...else` statement!"
   ]
  },
  {
   "cell_type": "markdown",
   "metadata": {},
   "source": [
    "Later zullen we leren over functies en hoe we die 'if...elif...else' verklaring kunnen \"verbergen\" achter een aan te roepen functie die onze hoofdcode nog steeds zeer leesbaar houdt."
   ]
  },
  {
   "cell_type": "code",
   "execution_count": null,
   "metadata": {},
   "outputs": [],
   "source": []
  }
 ],
 "metadata": {
  "kernelspec": {
   "display_name": "Python 3 (ipykernel)",
   "language": "python",
   "name": "python3"
  },
  "language_info": {
   "codemirror_mode": {
    "name": "ipython",
    "version": 3
   },
   "file_extension": ".py",
   "mimetype": "text/x-python",
   "name": "python",
   "nbconvert_exporter": "python",
   "pygments_lexer": "ipython3",
   "version": "3.11.6"
  }
 },
 "nbformat": 4,
 "nbformat_minor": 4
}
