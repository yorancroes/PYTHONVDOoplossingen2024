{
 "cells": [
  {
   "cell_type": "markdown",
   "id": "0e60eec7-5bfc-4e8d-9133-9eac92c3e77d",
   "metadata": {
    "tags": []
   },
   "source": [
    "![alt text](../../pythonexposed-high-resolution-logo-black.jpg \"Optionele titel\")"
   ]
  },
  {
   "cell_type": "markdown",
   "id": "dc1e3fa6-7883-4a16-96a1-adc90d47b3e3",
   "metadata": {
    "tags": []
   },
   "source": [
    "### Iteraties - oefeningen"
   ]
  },
  {
   "cell_type": "markdown",
   "id": "7e1f9413-f696-4060-bc00-0ac266034a17",
   "metadata": {},
   "source": [
    "- Gebruik een loop om de gebruiker om een getal als input te vragen. Wanneer de gebruiker een getal ingeeft, tel je dit getal op bij de reeds ingevoerde getallen.  Als de gebruiker q invoert, stop je en print je het totaal nog eens af.  Tips: denk aan type casting: wat is het type van de user input?  Je kan dit controleren met print(type(..)). Je zal deze oefening ook in Pycharm moeten maken en laten runnen in de terminal.\n",
    "- Schrijf een programma dat de gebruiker een getal laat ingeven. Het programma geeft de tafel van vermenigvuldiging van het getal voor 1 tot en met 10. Bijvoorbeeld, als de gebruiker 12 ingeeft, dan is de eerste regel die afgedrukt wordt “ 1 * 12 = 12 ” en de laatste regel “ 10 * 12 = 120 ”.\n",
    "- Als je de vorige opgave met een while loop hebt gedaan, doe hem dan nogmaals met een for loop. Als je hem met een for loop hebt gedaan, doe hem dan nogmaals met een while loop. Als je hem gedaan hebt zonder loop, dan moet je je schamen.\n",
    "- Schrijf een programma dat de gebruiker vraagt om 10 getallen, en dan de grootste, de kleinste, en het aantal deelbaar door 3 afdrukt. Gebruik het algoritme dat eerder in dit hoofdstuk beschreven is.\n",
    "- “99 bottles of beer” is a traditioneel liedje gezongen in Amerika en Canada. Het wordt vaak gezongen op lange reizen omdat het gemakkelijk te onthouden en mee te zingen is, en lang duurt. In vertaling is de tekst: “99 flesjes met bier op de muur, 99 flesjes met bier. Open er een, drink hem meteen, 98 flesjes met bier op de muur.” Deze tekst wordt herhaald, steeds met één flesje minder. Het lied is voorbij als de zangers nul bereiken. Schrijf een programma dat het hele lied afdrukt (ik raad je aan te beginnen met niet meer dan 10 flesjes). Kijk uit dat je je loop niet eindeloos maakt. Zorg er ook voor dat je het juiste meervoud voor het woord “flesje” gebruikt.\n",
    "- De Fibonacci reeks is een serie getallen die start met 1, gevolgd door nogmaals 1. Ieder volgende getal is de som van de twee voorgaande getallen. De reeks start dus met 1, 1, 2, 3, 5, 8, 13, 21,... Schrijf een programma dat de Fibonacci reeks afdrukt totdat de getallen groter dan 1000 zijn.\n",
    "- Schrijf een programma dat vraagt om twee woorden. Druk alle letters af die de woorden gemeen hebben. Je mag hoofletters beschouwen als verschillend van kleine letters, maar iedere letter die je rapporteert, mag slechts één keer gerapporteerd worden (bijvoorbeeld, de strings “een” en “peer” hebben slechts één letter gemeen, namelijk de letter “e”). Hint: Sla de letters die de woorden gemeen hebben op in een derde string, en als je een letter vindt die beide woorden gemeen hebben, test je of de letter al in de derde string staat alvorens je hem rapporteert."
   ]
  },
  {
   "cell_type": "code",
   "execution_count": null,
   "id": "3c366f67-d441-406b-9c5d-754dfdbc2128",
   "metadata": {},
   "outputs": [],
   "source": []
  }
 ],
 "metadata": {
  "kernelspec": {
   "display_name": "Python 3 (ipykernel)",
   "language": "python",
   "name": "python3"
  },
  "language_info": {
   "codemirror_mode": {
    "name": "ipython",
    "version": 3
   },
   "file_extension": ".py",
   "mimetype": "text/x-python",
   "name": "python",
   "nbconvert_exporter": "python",
   "pygments_lexer": "ipython3",
   "version": "3.11.6"
  }
 },
 "nbformat": 4,
 "nbformat_minor": 5
}
