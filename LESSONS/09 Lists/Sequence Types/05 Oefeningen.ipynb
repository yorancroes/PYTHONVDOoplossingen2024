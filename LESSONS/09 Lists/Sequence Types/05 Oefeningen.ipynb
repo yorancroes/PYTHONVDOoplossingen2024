{
 "cells": [
  {
   "cell_type": "markdown",
   "id": "51f0d75f-59e6-4200-9ec8-dbdb2fc3b006",
   "metadata": {},
   "source": [
    "![alt text](../../../pythonexposed-high-resolution-logo-black.jpg \"Optionele titel\")"
   ]
  },
  {
   "cell_type": "markdown",
   "id": "animal-encoding",
   "metadata": {},
   "source": [
    "### Oefeningen"
   ]
  },
  {
   "cell_type": "markdown",
   "id": "editorial-church",
   "metadata": {},
   "source": [
    "#### Oefening 1"
   ]
  },
  {
   "cell_type": "markdown",
   "id": "coordinated-victor",
   "metadata": {},
   "source": [
    "Gegeven de volgende string:"
   ]
  },
  {
   "cell_type": "code",
   "execution_count": 1,
   "id": "quick-symposium",
   "metadata": {},
   "outputs": [],
   "source": [
    "s = 'FfEeDdCcBbAa'"
   ]
  },
  {
   "cell_type": "markdown",
   "id": "imported-crown",
   "metadata": {},
   "source": [
    "Maak twee nieuwe variabelen aan die respectievelijk enkel de kleine letters en de hoofdletters van `s` bevatten, in de juiste alfabetische volgorde, d.w.z.:\n",
    "- `'ABCDEF'`\n",
    "- `'abcdef'`"
   ]
  },
  {
   "cell_type": "markdown",
   "id": "copyrighted-spirit",
   "metadata": {},
   "source": [
    "#### Oefening 2"
   ]
  },
  {
   "cell_type": "markdown",
   "id": "powered-gazette",
   "metadata": {},
   "source": [
    "Concateneer de volgende tuples tot één, maar vervang de oneven waarden door nullen (`0`)."
   ]
  },
  {
   "cell_type": "code",
   "execution_count": 1,
   "id": "interior-webster",
   "metadata": {
    "tags": []
   },
   "outputs": [],
   "source": [
    "t1 = 1, 2, 3, 4, 5, 6\n",
    "t2 = 7, 8, 9, 10\n",
    "t3 = 11, 12, 13, 14, 15, 16, 17"
   ]
  },
  {
   "cell_type": "code",
   "execution_count": 5,
   "id": "fd40f70a-7c49-4df6-af54-ad3a3b0e3dcb",
   "metadata": {
    "tags": []
   },
   "outputs": [],
   "source": [
    "large_tuple = [x if x%2 == 0 else 0 for x in (*t1,*t2,*t3)]"
   ]
  },
  {
   "cell_type": "code",
   "execution_count": 6,
   "id": "d6681707-a3df-4132-bf8f-3914a76f6f95",
   "metadata": {
    "tags": []
   },
   "outputs": [
    {
     "data": {
      "text/plain": [
       "[0, 2, 0, 4, 0, 6, 0, 8, 0, 10, 0, 12, 0, 14, 0, 16, 0]"
      ]
     },
     "execution_count": 6,
     "metadata": {},
     "output_type": "execute_result"
    }
   ],
   "source": [
    "large_tuple"
   ]
  },
  {
   "cell_type": "markdown",
   "id": "allied-ladder",
   "metadata": {},
   "source": [
    "Je mag ervan uitgaan dat elke tuple een reeks opeenvolgende oneven getallen is.\n",
    "Schrijf je code zo generiek als mogelijk."
   ]
  },
  {
   "cell_type": "markdown",
   "id": "controversial-crest",
   "metadata": {},
   "source": [
    "#### Oefening 3"
   ]
  },
  {
   "cell_type": "markdown",
   "id": "lucky-divide",
   "metadata": {},
   "source": [
    "Gegeven de volgende matrix:"
   ]
  },
  {
   "cell_type": "code",
   "execution_count": 3,
   "id": "israeli-porter",
   "metadata": {},
   "outputs": [],
   "source": [
    "m = [\n",
    "    [0, 0, 0],\n",
    "    [0, 0, 0],\n",
    "    [0, 0, 0]\n",
    "]"
   ]
  },
  {
   "cell_type": "markdown",
   "id": "independent-blast",
   "metadata": {},
   "source": [
    "Wijzig deze matrix tot een identiteitsmatrix (waarbij de diagonaalelementen worden ingesteld op `1`).\n",
    "Je code moet dus `m` *muteren*."
   ]
  },
  {
   "cell_type": "markdown",
   "id": "damaged-response",
   "metadata": {},
   "source": [
    "#### Oefening 4"
   ]
  },
  {
   "cell_type": "markdown",
   "id": "separated-april",
   "metadata": {},
   "source": [
    "Doe hetzelfde probleem als Oefening 3, maar muteer `m` **niet**."
   ]
  },
  {
   "cell_type": "markdown",
   "id": "respiratory-uniform",
   "metadata": {},
   "source": [
    "#### Oefening 5"
   ]
  },
  {
   "cell_type": "markdown",
   "id": "heard-hurricane",
   "metadata": {},
   "source": [
    "Je krijgt een lijst van tuples die elk 4 waarden bevatten:\n",
    "```\n",
    "(amount, currency, target_currency, exchange_rate)\n",
    "```"
   ]
  },
  {
   "cell_type": "code",
   "execution_count": 4,
   "id": "positive-welcome",
   "metadata": {},
   "outputs": [],
   "source": [
    "data = [\n",
    "    (100, 'USD', 'EUR', 0.83),\n",
    "    (100, 'USD', 'CAD', 1.27),\n",
    "    (100, 'CAD', 'EUR', 0.65)\n",
    "]"
   ]
  },
  {
   "cell_type": "markdown",
   "id": "alternative-lobby",
   "metadata": {},
   "source": [
    "Schrijf code die de `amount` van zijn `currency` naar zijn `target_currency` omzet met behulp van de `exchange_rate` (die de wisselkoers is voor `1` `currency` in `target_currency`).\n",
    "Maak je code zo generiek mogelijk. \n",
    "\n",
    "Gebruik unpacking om de waarden in elke tuple aan variabelen toe te wijzen.  Je resultaat per rij zou iets moeten geven als \n",
    "\n",
    "```\n",
    "100 USD = 83 EUR\n",
    "```"
   ]
  }
 ],
 "metadata": {
  "kernelspec": {
   "display_name": "Python 3 (ipykernel)",
   "language": "python",
   "name": "python3"
  },
  "language_info": {
   "codemirror_mode": {
    "name": "ipython",
    "version": 3
   },
   "file_extension": ".py",
   "mimetype": "text/x-python",
   "name": "python",
   "nbconvert_exporter": "python",
   "pygments_lexer": "ipython3",
   "version": "3.11.6"
  }
 },
 "nbformat": 4,
 "nbformat_minor": 5
}
