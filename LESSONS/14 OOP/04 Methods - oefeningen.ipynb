{
 "cells": [
  {
   "cell_type": "markdown",
   "id": "4ea1d736-a7a2-471c-b6d7-2ec5f1112fa8",
   "metadata": {},
   "source": [
    "![alt text](../../pythonexposed-high-resolution-logo-black.jpg \"Optionele titel\")"
   ]
  },
  {
   "cell_type": "markdown",
   "id": "854e3d50-68ec-477b-8c12-f0fb3c86c808",
   "metadata": {},
   "source": [
    "## Oefeningen OOP - Methods"
   ]
  },
  {
   "cell_type": "markdown",
   "id": "7f2ed20f-67ce-408f-a896-8347f306729e",
   "metadata": {},
   "source": [
    "### Oefening 1: Class Restaurant\n",
    "\n",
    "Maak een klasse genaamd `Restaurant` die informatie over het restaurant opslaat en methoden bevat om het restaurant te beschrijven. Implementeer de volgende eigenschappen:\n",
    "\n",
    "- **Attributen**\n",
    "  - `naam`: De naam van het restaurant.\n",
    "  - `keuken_type`: Het type keuken dat het restaurant serveert.\n",
    "- **Methoden**\n",
    "  - `beschrijf_restaurant()`: Print een bericht met de naam van het restaurant en het type keuken.\n",
    "  - `open_restaurant()`: Print een bericht dat het restaurant open is."
   ]
  },
  {
   "cell_type": "code",
   "execution_count": null,
   "id": "8ca3152b-af14-437d-958f-c5d4374fbb71",
   "metadata": {},
   "outputs": [],
   "source": [
    "from itertools import product\n",
    "\n",
    "from parso.python.tree import Class\n",
    "\n",
    "\n",
    "class Restaurant():\n",
    "    def __init__(self, restaurant_name, cuisine_type):\n",
    "        self.restaurant_name = restaurant_name\n",
    "        self.cuisine_type = cuisine_type\n",
    "\n",
    "    def beschrijf_restaurant(self):\n",
    "        print(f\"Restaurant {self.restaurant_name}  with an {self.cuisine_type} kitchen\")\n",
    "\n",
    "    def open_restaurant(self):\n",
    "        print(f\"Restaurant {self.restaurant_name} is open\")\n"
   ]
  },
  {
   "cell_type": "markdown",
   "id": "7899a69c-d544-4f5f-8584-c368cda59e3e",
   "metadata": {},
   "source": [
    "### Oefening 2: Class Student\n",
    "\n",
    "Maak een klasse genaamd `Student` die informatie over een student opslaat en een methode bevat om de student voor een cursus in te schrijven. Implementeer de volgende eigenschappen:\n",
    "\n",
    "- **Attributen**\n",
    "  - `naam`: De naam van de student.\n",
    "  - `geboortedatum`: De geboortedatum van de student.\n",
    "  - `cursussen`: Een lijst van cursussen waarvoor de student is ingeschreven.\n",
    "- **Methoden**\n",
    "  - `registreer_cursus(cursus)`: Voeg een cursus toe aan de lijst van cursussen en print een bericht dat de student is ingeschreven voor de cursus.\n"
   ]
  },
  {
   "cell_type": "code",
   "id": "9155c4ba-4ac1-42bd-aea9-3c880cc24e4d",
   "metadata": {
    "ExecuteTime": {
     "end_time": "2025-03-10T20:50:30.229534Z",
     "start_time": "2025-03-10T20:50:30.221281Z"
    }
   },
   "source": [
    "class Student():\n",
    "    def __init__(self,name, geboortedatum, cursussen):\n",
    "        self.name = name\n",
    "        self.geboortedatum = geboortedatum\n",
    "        self.cursussen = cursussen\n",
    "\n",
    "    def registreer_cursus(self, cursus):\n",
    "        self.cursussen.append(cursus)\n",
    "        print(f\"{cursus} is now registered\")\n"
   ],
   "outputs": [],
   "execution_count": 1
  },
  {
   "cell_type": "markdown",
   "id": "ec3216f7-4927-4f38-9d9d-7255abcd0b1b",
   "metadata": {},
   "source": [
    "### Oefening 3: Class Circle\n",
    "\n",
    "Maak een klasse genaamd `Circle` die een cirkel vertegenwoordigt en methoden bevat om de oppervlakte en de omtrek te berekenen. Implementeer de volgende eigenschappen:\n",
    "\n",
    "- **Attributen**\n",
    "  - `radius`: De straal van de cirkel.\n",
    "- **Methoden**\n",
    "  - `oppervlakte()`: Bereken de oppervlakte van de cirkel.\n",
    "  - `omtrek()`: Bereken de omtrek van de cirkel."
   ]
  },
  {
   "cell_type": "code",
   "id": "062bee8d-2953-448a-92db-d461e96ce61b",
   "metadata": {
    "ExecuteTime": {
     "end_time": "2025-03-10T20:54:04.458520Z",
     "start_time": "2025-03-10T20:54:04.455777Z"
    }
   },
   "source": [
    "import math\n",
    "class Circle():\n",
    "    def __init__(self, radius):\n",
    "        self.radius = radius\n",
    "\n",
    "    def oppervlakte(self):\n",
    "        return math.pi * self.radius * self.radius\n",
    "\n",
    "    def omtrek(self):\n",
    "        return 2 * math.pi * self.radius\n",
    "\n",
    "circle = Circle(5)\n",
    "print(circle.oppervlakte())\n",
    "print(circle.omtrek())"
   ],
   "outputs": [
    {
     "name": "stdout",
     "output_type": "stream",
     "text": [
      "78.53981633974483\n",
      "31.41592653589793\n"
     ]
    }
   ],
   "execution_count": 3
  },
  {
   "cell_type": "markdown",
   "id": "0fa02f34-3387-4e5c-a95b-f88673b67d7e",
   "metadata": {},
   "source": [
    "### Oefening 4: Class Person\n",
    "\n",
    "Maak een klasse genaamd `Person` die informatie over een persoon opslaat en een methode bevat om de leeftijd van de persoon te bepalen. Implementeer de volgende eigenschappen:\n",
    "\n",
    "- **Attributen**\n",
    "  - `naam`: De naam van de persoon.\n",
    "  - `geboortedatum`: De geboortedatum van de persoon.\n",
    "  - `land`: Het land van de persoon.\n",
    "- **Methoden**\n",
    "  - `bereken_leeftijd()`: Berekent de leeftijd van de persoon.\n",
    "  - `bereken_volwassen_op()`: Berekent de leeftijd waarop de persoon de volwassen leeftijd bereikte.\n",
    "  - `bereken_pensioenleeftijd()`: Berekent de leeftijd waarop de persoon op pensioen mag (ga uit van 67 jaar)."
   ]
  },
  {
   "cell_type": "code",
   "execution_count": null,
   "id": "6a939a19-b374-4c61-860a-f221c19bcf6c",
   "metadata": {},
   "outputs": [],
   "source": [
    "import datetime\n",
    "class Person():\n",
    "    def __init__(self, name, geboortedatum, land):\n",
    "        self.name = name\n",
    "        self.geboortedatum = geboortedatum\n",
    "        self.land = land\n",
    "\n",
    "    def bereken_leeftijd(self):\n",
    "        vandaag = datetime.date.today()\n",
    "        leeftijd = vandaag.year - vandaag.year - 1\n",
    "\n",
    "        if (vandaag.month, vandaag.day) < (self.geboortedatum.month, self.geboortedatum.day):\n",
    "            leeftijd -= 1\n",
    "\n",
    "        return leeftijd\n",
    "\n",
    "    def bereken_volwassen_op(self):\n",
    "        volwassen_leeftijd = 18\n",
    "        volwassen_datum = datetime.date(self.geboortedatum.year + volwassen_leeftijd,\n",
    "                                        self.geboortedatum.month,\n",
    "                                        self.geboortedatum.day)\n",
    "        return volwassen_datum\n",
    "\n",
    "    def bereken_pensioenleeftijd(self):\n",
    "        pensioen_leeftijd = 67\n",
    "        pensioen_datum = datetime.date(self.geboortedatum.year + pensioen_leeftijd,\n",
    "                                       self.geboortedatum.month,\n",
    "                                       self.geboortedatum.day)\n",
    "        return pensioen_datum\n",
    "\n"
   ]
  },
  {
   "cell_type": "markdown",
   "id": "f32a0588-b968-4c41-93c7-d2232ceb1fa2",
   "metadata": {},
   "source": [
    "### Oefening 5: Class ShoppingCart\n",
    "\n",
    "Maak een klasse genaamd `ShoppingCart` die een winkelwagentje vertegenwoordigt en methoden bevat om items toe te voegen, te verwijderen en de totale prijs te berekenen. Implementeer de volgende eigenschappen:\n",
    "\n",
    "- **Attributen**\n",
    "  - `items`: Een lijst van items in het winkelwagentje, waarbij elk item een dictionary is met `naam` en `prijs`.\n",
    "- **Methoden**\n",
    "  - `voeg_toe(item, prijs)`: Voeg een item toe aan het winkelwagentje.\n",
    "  - `verwijder(item)`: Verwijder een item uit het winkelwagentje.\n",
    "  - `totaal_prijs()`: Bereken de totale prijs van alle items in het winkelwagentje."
   ]
  },
  {
   "cell_type": "code",
   "id": "bfcc8974-ee61-4009-b08d-37e76463e7c3",
   "metadata": {
    "ExecuteTime": {
     "end_time": "2025-03-10T21:09:43.314588Z",
     "start_time": "2025-03-10T21:09:43.311132Z"
    }
   },
   "source": [
    "class ShoppingCart():\n",
    "    def __init__(self):\n",
    "        self.items = []\n",
    "\n",
    "    def voeg_toe(self, item, price):\n",
    "        self.items.append({\n",
    "            'item': item,\n",
    "            'price': price\n",
    "        })\n",
    "\n",
    "    def verwijder(self,item):\n",
    "        for product in self.items:\n",
    "            if product['item'] == item:\n",
    "                self.items.remove(product)\n",
    "                break\n",
    "\n",
    "        else:\n",
    "            print(\"Item not found\")\n",
    "\n",
    "    def totaal_prijs(self):\n",
    "        totaal = sum(product[\"price\"] for product in self.items)\n",
    "        return totaal\n",
    "\n",
    "winkelwagen = ShoppingCart()\n",
    "winkelwagen.voeg_toe(\"Appel\", 1.50)\n",
    "winkelwagen.voeg_toe(\"Banaan\", 2.00)\n",
    "winkelwagen.voeg_toe(\"Brood\", 3.20)\n",
    "\n",
    "print(\"Totaal prijs:\", winkelwagen.totaal_prijs())\n",
    "\n",
    "winkelwagen.verwijder(\"Banaan\")\n",
    "print(\"Totaal prijs na verwijderen:\", winkelwagen.totaal_prijs())\n"
   ],
   "outputs": [
    {
     "name": "stdout",
     "output_type": "stream",
     "text": [
      "Totaal prijs: 6.7\n",
      "Totaal prijs na verwijderen: 4.7\n"
     ]
    }
   ],
   "execution_count": 7
  }
 ],
 "metadata": {
  "kernelspec": {
   "display_name": "Python 3 (ipykernel)",
   "language": "python",
   "name": "python3"
  },
  "language_info": {
   "codemirror_mode": {
    "name": "ipython",
    "version": 3
   },
   "file_extension": ".py",
   "mimetype": "text/x-python",
   "name": "python",
   "nbconvert_exporter": "python",
   "pygments_lexer": "ipython3",
   "version": "3.12.7"
  }
 },
 "nbformat": 4,
 "nbformat_minor": 5
}
