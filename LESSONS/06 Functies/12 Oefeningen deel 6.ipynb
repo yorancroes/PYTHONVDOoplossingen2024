{
 "cells": [
  {
   "cell_type": "markdown",
   "id": "5181419e-f8d6-4d4c-96bd-15554a98b5a7",
   "metadata": {
    "tags": []
   },
   "source": [
    "![alt text](../../pythonexposed-high-resolution-logo-black.jpg \"Optionele titel\")"
   ]
  },
  {
   "cell_type": "markdown",
   "id": "5f2d910d-03d0-460b-b455-5dffc53db589",
   "metadata": {
    "tags": []
   },
   "source": [
    "### Functies - oefeningen"
   ]
  },
  {
   "cell_type": "markdown",
   "id": "7814de06-a56d-4c5d-b16e-1934649b833e",
   "metadata": {},
   "source": [
    "- extreme(array, min = True) geeft de kleinste waarde van array terug. Als min niet de defaultwaarde True heeft, dan wordt het maximum teruggegeven.\n",
    "- shiftToPositive(array) verschuift alle waarden met een gelijke waarde in array zodat deze geen negatieve getallen meer bevat.\n",
    "- sumOf(array) geeft de som van alle waarden in array terug\n",
    "- copyOf(array) geeft een exacte kopie van array terug zonder de meegegeven array te wijzigen\n",
    "- sort(array) sorteert de meegegeven array\n",
    "- sortedCopyOf(array) geeft een gesorteerde kopie van array terug zonder de meegegeven array te wijzigen"
   ]
  },
  {
   "cell_type": "markdown",
   "id": "d0aaa027-9b5d-430c-9251-34149e8742df",
   "metadata": {},
   "source": [
    "### Opgave\n",
    "\n",
    "Later zien we nog unit tests in Python.  Hieronder staan unit testen geschreven voor de functies die jij moet schrijven."
   ]
  },
  {
   "cell_type": "code",
   "execution_count": null,
   "id": "26575039-8f27-45ff-a9a0-4a294adad0c3",
   "metadata": {},
   "outputs": [],
   "source": [
    "# Zorg ervoor dat alle import statements en de testklasse in dezelfde cel staan\n",
    "import unittest\n",
    "\n",
    "class opgavetester(unittest.TestCase):\n",
    "    def testExtreme(self):\n",
    "        self.assertEqual(-7, extreme([-2, 1, 0, -3, -7]))\n",
    "        self.assertEqual(7, extreme([1, 7, 0, -3, -7], False))\n",
    "\n",
    "    def testScaleToPositive(self):\n",
    "        array = [-2, 1, 0, -3, -7]\n",
    "        self.assertEqual([5, 8, 7, 4, 0], shiftToPositive(array))\n",
    "        self.assertEqual([-2, 1, 0, -3, -7], array)\n",
    "        self.assertEqual([1, 2, 3, 4], shiftToPositive([1, 2, 3, 4]))\n",
    "\n",
    "    def testSumAndDistribution(self):\n",
    "        array = [-2, -1, 0, 1, 2]\n",
    "        self.assertEqual(0, sumOf(array))\n",
    "        self.assertEqual([0.0, 0.1, 0.2, 0.3, 0.4], distribution(array))\n",
    "        self.assertEqual([-2, -1, 0, 1, 2], array)\n",
    "        self.assertEqual([0.25, 0.25, 0.25, 0.25], distribution([3, 3, 3, 3]))\n",
    "\n",
    "    def testHistogram(self):\n",
    "        array = [-0.05, -0.05, -0.01, 0, 0.02, 0.01, 0.01, 0.01, -0.05]\n",
    "        self.assertEqual([3, 0, 0, 0, 1, 1, 3, 1], histogram(array, 2))\n",
    "        self.assertEqual([-0.05, -0.05, -0.01, 0, 0.02, 0.01, 0.01, 0.01, -0.05], array)\n",
    "\n",
    "    def testSortThis(self):\n",
    "        array = [9, 1, 5, 7, 3, 8, 4, 6, 2, 0]\n",
    "        sort(array)\n",
    "        self.assertEqual([0, 1, 2, 3, 4, 5, 6, 7, 8, 9], array)\n",
    "\n",
    "    def testGimmeSortedCopyOf(self):\n",
    "        array = [9, 1, 5, 7, 3, 8, 4, 6, 2, 0]\n",
    "        hardcopy = [9, 1, 5, 7, 3, 8, 4, 6, 2, 0]\n",
    "        self.assertEqual([0, 1, 2, 3, 4, 5, 6, 7, 8, 9], sortedCopyOf(array))\n",
    "        self.assertEqual(hardcopy, array)\n",
    "        self.assertEqual([-10, 0, 100], sortedCopyOf([100, -10, 0]))\n",
    "\n",
    "if __name__ == '__main__':\n",
    "    unittest.main(argv=['first-arg-is-ignored'], exit=False)"
   ]
  },
  {
   "cell_type": "markdown",
   "id": "276b2add-40a3-42c1-b17e-ed9e74693e0b",
   "metadata": {},
   "source": [
    "### Oplossingen"
   ]
  },
  {
   "cell_type": "code",
   "execution_count": null,
   "id": "5dbd00db-5d6c-469e-b21d-6cdfbc31c1b0",
   "metadata": {},
   "outputs": [],
   "source": []
  }
 ],
 "metadata": {
  "kernelspec": {
   "display_name": "Python 3 (ipykernel)",
   "language": "python",
   "name": "python3"
  },
  "language_info": {
   "codemirror_mode": {
    "name": "ipython",
    "version": 3
   },
   "file_extension": ".py",
   "mimetype": "text/x-python",
   "name": "python",
   "nbconvert_exporter": "python",
   "pygments_lexer": "ipython3",
   "version": "3.11.6"
  }
 },
 "nbformat": 4,
 "nbformat_minor": 5
}
