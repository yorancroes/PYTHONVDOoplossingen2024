{
 "cells": [
  {
   "cell_type": "markdown",
   "id": "5181419e-f8d6-4d4c-96bd-15554a98b5a7",
   "metadata": {
    "tags": []
   },
   "source": [
    "![alt text](../../pythonexposed-high-resolution-logo-black.jpg \"Optionele titel\")"
   ]
  },
  {
   "cell_type": "markdown",
   "id": "5f2d910d-03d0-460b-b455-5dffc53db589",
   "metadata": {
    "tags": []
   },
   "source": [
    "### Functies - oefeningen"
   ]
  },
  {
   "cell_type": "markdown",
   "id": "7814de06-a56d-4c5d-b16e-1934649b833e",
   "metadata": {},
   "source": [
    "- line(length, fill = True, indentation = 0,  char = '*') geeft een lijn terug van length keer het karakter char, al dan niet opgevuld en voorafgegaan door indentation spaties\n",
    "- square(size, fill = True, indentation = 0,  char = '*') geeft vierkant terug met zijde size als string (andere parameters gedragen zich zoals hierboven)\n",
    "- rectangle(width, height, fill = True, indentation = 0,  char = '*') geeft een rechthoek terug als string van height rijen met telkens width karakters (andere parameters gedragen zich zoals hierboven)\n",
    "- parallelogram(width, height, fill = True, indentation = 0,  char = '*', step = -1) geeft een parallellogram terug als string van height rijen met telkens width karakters die wijzigen met step per lijn (andere parameters gedragen zich zoals hierboven)"
   ]
  },
  {
   "cell_type": "markdown",
   "id": "d0aaa027-9b5d-430c-9251-34149e8742df",
   "metadata": {},
   "source": [
    "### Opgave\n",
    "\n",
    "Later zien we nog unit tests in Python.  Hieronder staan unit testen geschreven voor de functies die jij moet schrijven."
   ]
  },
  {
   "cell_type": "code",
   "execution_count": null,
   "id": "26575039-8f27-45ff-a9a0-4a294adad0c3",
   "metadata": {},
   "outputs": [],
   "source": [
    "# Zorg ervoor dat alle import statements en de testklasse in dezelfde cel staan\n",
    "import unittest\n",
    "\n",
    "class opgavetester(unittest.TestCase):\n",
    "    def testLine(self):\n",
    "        self.assertEqual('****', line(4))\n",
    "        self.assertEqual('   *  *', line(4, False, 3))\n",
    "        self.assertEqual('+', line(1, True, 0, '+'))\n",
    "        self.assertEqual(' +- +-', line(3, False, 1, '+-'))\n",
    "        self.assertEqual('', line(0, False, 0, '+'))\n",
    "\n",
    "    def testRectangleAndSquare(self):\n",
    "        self.assertEqual('  +++\\r\\n  + +\\r\\n  + +\\r\\n  +++', rectangle(3, 4, False, 2, '+'))\n",
    "        self.assertEqual('*', rectangle(1, 1, False))\n",
    "        self.assertEqual(' --\\r\\n --', rectangle(2, 2, False, 1, '-'))\n",
    "        self.assertEqual('  *****', rectangle(5, 1, False, 2))\n",
    "        self.assertEqual('*\\r\\n*\\r\\n*\\r\\n*\\r\\n*', rectangle(1, 5, False))\n",
    "        self.assertEqual(' 88888\\r\\n 8   8\\r\\n 8   8\\r\\n 8   8\\r\\n 88888', square(5, False, 1, '8'))\n",
    "\n",
    "    def testParallelogram(self):\n",
    "        self.assertEqual('    ++++\\r\\n   +  +\\r\\n  ++++', parallelogram(4, 3, False, 2, '+'))\n",
    "        self.assertEqual('      OO\\r\\n    OO', parallelogram(2, 2, True, 4, 'O', -2))\n",
    "        self.assertEqual('    OO\\r\\n      OO', parallelogram(2, 2, True, 4, 'O', 2))\n",
    "        self.assertEqual('XXX\\r\\n   X X\\r\\n      XXX', parallelogram(3, 3, False, 0, 'X', 3))\n",
    "        self.assertEqual('      XXX\\r\\n   X X\\r\\nXXX', parallelogram(3, 3, False, 0, 'X', -3))\n",
    "\n",
    "    def testRightTriangle(self):\n",
    "        self.assertEqual('  o\\r\\n    oo\\r\\n      ooo\\r\\n        oooo\\r\\n          ooooo', triangle(5, True, 2, 'o', 2))\n",
    "        self.assertEqual('  o\\r\\n    oo\\r\\n      o o\\r\\n        o  o\\r\\n          ooooo', triangle(5, False, 2, 'o', 2))\n",
    "        self.assertEqual('      x\\r\\n     xx\\r\\n    xxx\\r\\n   xxxx\\r\\n  xxxxx', triangle(5, True, 2, 'x', 1, True))\n",
    "        self.assertEqual('  xxxxx\\r\\n   xxxx\\r\\n    xxx\\r\\n     xx\\r\\n      x', triangle(5, True, 2, 'x', 1, True, False))\n",
    "        self.assertEqual('  xxxxx\\r\\n  x  x\\r\\n  x x\\r\\n  xx\\r\\n  x', triangle(5, False, 2, 'x', 0, False, False))\n",
    "        self.assertEqual('  xxxxx\\r\\n  xxxx\\r\\n  xxx\\r\\n  xx\\r\\n  x', triangle(5, True, 2, 'x', 0, True, False))\n",
    "        self.assertEqual('     *\\r\\n    * *\\r\\n   *   *\\r\\n  *******', triangle(7, False, 2, '*', 0, True, True, False))\n",
    "        self.assertEqual('     **\\r\\n    *  *\\r\\n   *    *\\r\\n  ********', triangle(8, False, 2, '*', 0, True, True, False))\n",
    "        self.assertEqual('  *******\\r\\n   *   *\\r\\n    * *\\r\\n     *', triangle(7, False, 2, '*', 0, True, False, False))\n",
    "        self.assertEqual('  ********\\r\\n   *    *\\r\\n    *  *\\r\\n     **', triangle(8, False, 2, '*', 0, True, False, False))\n",
    "\n",
    "if __name__ == '__main__':\n",
    "    unittest.main(argv=['first-arg-is-ignored'], exit=False)"
   ]
  },
  {
   "cell_type": "markdown",
   "id": "276b2add-40a3-42c1-b17e-ed9e74693e0b",
   "metadata": {},
   "source": [
    "### Oplossingen"
   ]
  },
  {
   "cell_type": "code",
   "execution_count": null,
   "id": "5dbd00db-5d6c-469e-b21d-6cdfbc31c1b0",
   "metadata": {},
   "outputs": [],
   "source": []
  }
 ],
 "metadata": {
  "kernelspec": {
   "display_name": "Python 3 (ipykernel)",
   "language": "python",
   "name": "python3"
  },
  "language_info": {
   "codemirror_mode": {
    "name": "ipython",
    "version": 3
   },
   "file_extension": ".py",
   "mimetype": "text/x-python",
   "name": "python",
   "nbconvert_exporter": "python",
   "pygments_lexer": "ipython3",
   "version": "3.11.6"
  }
 },
 "nbformat": 4,
 "nbformat_minor": 5
}
