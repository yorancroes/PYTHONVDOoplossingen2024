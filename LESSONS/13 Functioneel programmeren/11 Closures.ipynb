{
 "cells": [
  {
   "cell_type": "markdown",
   "id": "e207b0da-ebf9-4ece-8f25-778025de964b",
   "metadata": {},
   "source": [
    "![alt text](../../pythonexposed-high-resolution-logo-black.jpg \"Optionele titel\")"
   ]
  },
  {
   "cell_type": "markdown",
   "id": "28154491-5710-4f05-b6f1-7f49d4abbf23",
   "metadata": {},
   "source": [
    "# Closures in Python\n",
    "\n",
    "## Wat zijn closures?\n",
    "Closures zijn functies die toegang hebben tot variabelen uit hun omvattende scope, zelfs nadat die scope is afgesloten. Dit maakt het mogelijk om functies te maken die gegevens of \"toestand (state)\" onthouden zonder globale variabelen te gebruiken.\n",
    "\n",
    "Voorbeeld:\n",
    "```python\n",
    "def maak_som(basis):\n",
    "    def voeg_toe(waarde):\n",
    "        return basis + waarde\n",
    "    return voeg_toe\n",
    "\n",
    "som = maak_som(10)\n",
    "print(som(5))  # Output: 15\n",
    "```\n",
    "\n",
    "In dit voorbeeld blijft de functie `voeg_toe` toegang houden tot de variabele `basis`, zelfs nadat `maak_som` is afgesloten."
   ]
  },
  {
   "cell_type": "markdown",
   "id": "47b2cc46-645b-4ef7-a19f-2f24c3ef4728",
   "metadata": {},
   "source": [
    "## Eigenschappen van closures\n",
    "1. **Behoud van toestand:** Een closure kan de context van zijn omvattende scope onthouden.\n",
    "2. **Encapsulatie:** Het verbergt gegevens en beperkt toegang tot specifieke variabelen.\n",
    "3. **Flexibiliteit:** Geschikt voor het maken van dynamische functies en gedrag."
   ]
  },
  {
   "cell_type": "markdown",
   "id": "a153ddfd-1edd-4d9e-b6d2-91780adced0f",
   "metadata": {},
   "source": [
    "## Gebruik van closures\n",
    "\n",
    "### **1. Functie als returnwaarde**\n",
    "Closures worden vaak gebruikt wanneer een functie een andere functie retourneert.\n",
    "```python\n",
    "def vermenigvuldiger(factor):\n",
    "    def vermenigvuldig_met(waarde):\n",
    "        return waarde * factor\n",
    "    return vermenigvuldig_met\n",
    "\n",
    "keer_drie = vermenigvuldiger(3)\n",
    "print(keer_drie(10))  # Output: 30\n",
    "```"
   ]
  },
  {
   "cell_type": "markdown",
   "id": "fa9e210e-b6c3-41d8-9ab3-a8fe4ee90382",
   "metadata": {},
   "source": [
    "### **2. Functie decoratoren**  \n",
    "\n",
    "Decoratoren maken gebruik van closures om extra functionaliteit toe te voegen aan functies."
   ]
  },
  {
   "cell_type": "code",
   "execution_count": 1,
   "id": "cf922ef8-92cd-4fc8-b9f4-e2062bcc8562",
   "metadata": {},
   "outputs": [
    {
     "name": "stdout",
     "output_type": "stream",
     "text": [
      "Voor de functie wordt uitgevoerd\n",
      "Hallo!\n",
      "Na de functie wordt uitgevoerd\n"
     ]
    }
   ],
   "source": [
    "def decorator(func):\n",
    "    def wrapper(*args, **kwargs):\n",
    "        print(\"Voor de functie wordt uitgevoerd\")\n",
    "        resultaat = func(*args, **kwargs)\n",
    "        print(\"Na de functie wordt uitgevoerd\")\n",
    "        return resultaat\n",
    "    return wrapper\n",
    "\n",
    "@decorator\n",
    "def zeg_hallo():\n",
    "    print(\"Hallo!\")\n",
    "\n",
    "zeg_hallo()"
   ]
  },
  {
   "cell_type": "markdown",
   "id": "af8da74b-f9d3-4906-85a0-70b0f2518d70",
   "metadata": {},
   "source": [
    "### **3. Het beheren van toestand**\n",
    "Closures zijn handig als alternatief voor klassen om gegevens te beheren.\n",
    "```python\n",
    "def teller():\n",
    "    aantal = 0\n",
    "\n",
    "    def verhoog():\n",
    "        nonlocal aantal\n",
    "        aantal += 1\n",
    "        return aantal\n",
    "\n",
    "    return verhoog\n",
    "\n",
    "mijn_teller = teller()\n",
    "print(mijn_teller())  # Output: 1\n",
    "print(mijn_teller())  # Output: 2\n",
    "```"
   ]
  },
  {
   "cell_type": "markdown",
   "id": "fc787602-6f4b-4583-b013-4ec981385615",
   "metadata": {},
   "source": [
    "## Belang van `nonlocal`\n",
    "Het sleutelwoord `nonlocal` is nodig wanneer je een variabele in een closure wilt wijzigen die zich in de omvattende scope bevindt.\n",
    "\n",
    "Voorbeeld:\n",
    "```python\n",
    "def buiten():\n",
    "    x = 10\n",
    "\n",
    "    def binnen():\n",
    "        nonlocal x\n",
    "        x += 1\n",
    "        return x\n",
    "\n",
    "    return binnen\n",
    "\n",
    "closure = buiten()\n",
    "print(closure())  # Output: 11\n",
    "print(closure())  # Output: 12\n",
    "```"
   ]
  },
  {
   "cell_type": "markdown",
   "id": "4cb51dc2-5a2e-464d-aa55-b04ba2fc941d",
   "metadata": {},
   "source": [
    "## Veelvoorkomende fouten\n",
    "\n",
    "### **1. Gebruik van globale variabelen**\n",
    "Globale variabelen kunnen onvoorspelbaar gedrag veroorzaken in closures.\n",
    "```python\n",
    "x = 10\n",
    "\n",
    "def maak_closure():\n",
    "    def binnen(y):\n",
    "        return x + y\n",
    "    return binnen\n",
    "\n",
    "closure = maak_closure()\n",
    "x = 20\n",
    "print(closure(5))  # Output: 25 (door wijziging in globale variabele)\n",
    "```\n",
    "\n",
    "**Oplossing:** Gebruik `nonlocal` of geef expliciete parameters door."
   ]
  },
  {
   "cell_type": "markdown",
   "id": "0787256e-7f8a-4ecd-9a39-505574d9104d",
   "metadata": {},
   "source": [
    "### **2. Late binding**\n",
    "Late binding betekent dat de waarden van vrije variabelen (zoals i in dit voorbeeld) pas worden geëvalueerd op het moment dat de functie wordt uitgevoerd, niet op het moment dat de functie wordt gedefinieerd.  \n",
    "\n",
    "```python\n",
    "def maak_functies():\n",
    "    functies = []\n",
    "    for i in range(5):\n",
    "        def binnen():\n",
    "            return i\n",
    "        functies.append(binnen)\n",
    "    return functies\n",
    "\n",
    "functies = maak_functies()\n",
    "print(functies[0]())  # Output: 4\n",
    "print(functies[1]())  # Output: 4\n",
    "```"
   ]
  },
  {
   "cell_type": "markdown",
   "id": "85dfd0f3-fdc7-468e-b394-d073249f14e7",
   "metadata": {},
   "source": [
    "*Waarom is de output altijd 4?*  \n",
    "- Closure: Alle binnen-functies hebben een closure die naar dezelfde variabele i verwijst in de scope van maak_functies.\n",
    "- Late binding: De waarde van i wordt pas opgehaald wanneer de functie wordt uitgevoerd, en tegen die tijd is i al gelijk aan de laatste waarde van de lus, namelijk 4.\n",
    "\n",
    "Dit betekent dat alle binnen-functies die worden toegevoegd aan de lijst functies naar dezelfde variabele i verwijzen. Wanneer een van deze functies wordt uitgevoerd, wordt de huidige waarde van i opgehaald, niet de waarde die i had op het moment dat de functie werd gedefinieerd."
   ]
  },
  {
   "cell_type": "markdown",
   "id": "919187eb-86c0-4072-9d2c-e96a04618157",
   "metadata": {},
   "source": [
    "**Oplossing:** Gebruik standaardargumenten om de waarde vast te leggen.  Default argumenten worden geëvalueerd op het moment dat de functie wordt gedefinieerd, niet tijdens de uitvoer.\n",
    "```python\n",
    "def maak_functies():\n",
    "    functies = []\n",
    "    for i in range(5):\n",
    "        def binnen(waarde=i):\n",
    "            return waarde\n",
    "        functies.append(binnen)\n",
    "    return functies\n",
    "\n",
    "functies = maak_functies()\n",
    "print(functies[0]())  # Output: 0\n",
    "print(functies[1]())  # Output: 1\n",
    "```"
   ]
  },
  {
   "cell_type": "markdown",
   "id": "2553771d-dcc4-474a-a1d1-67f827976070",
   "metadata": {},
   "source": [
    "## Samenvatting\n",
    "Closures in Python zijn een krachtige manier om functies dynamisch gedrag en geheugen te geven. Ze zijn ideaal voor het beheren van toestand en het maken van flexibele oplossingen. Door gebruik te maken van `nonlocal` en te voorkomen dat late binding problemen veroorzaakt, kun je closures effectief en betrouwbaar inzetten in je projecten."
   ]
  }
 ],
 "metadata": {
  "kernelspec": {
   "display_name": "Python 3 (ipykernel)",
   "language": "python",
   "name": "python3"
  },
  "language_info": {
   "codemirror_mode": {
    "name": "ipython",
    "version": 3
   },
   "file_extension": ".py",
   "mimetype": "text/x-python",
   "name": "python",
   "nbconvert_exporter": "python",
   "pygments_lexer": "ipython3",
   "version": "3.12.7"
  }
 },
 "nbformat": 4,
 "nbformat_minor": 5
}
