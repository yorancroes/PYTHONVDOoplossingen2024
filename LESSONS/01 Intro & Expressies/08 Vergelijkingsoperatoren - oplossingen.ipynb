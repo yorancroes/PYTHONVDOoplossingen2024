{
 "cells": [
  {
   "cell_type": "markdown",
   "metadata": {},
   "source": [
    "![alt text](../../pythonexposed-high-resolution-logo-black.jpg \"Optionele titel\")"
   ]
  },
  {
   "cell_type": "markdown",
   "metadata": {},
   "source": [
    "https://www.w3resource.com/python-exercises/python-conditional-statements-and-loop-exercises.php"
   ]
  },
  {
   "cell_type": "markdown",
   "metadata": {},
   "source": [
    "### Oefening 1"
   ]
  },
  {
   "cell_type": "markdown",
   "metadata": {},
   "source": [
    "Gegeven twee floats `a` en `b`, en een zekere tolerantie `tol`, schrijf een expressie die zal testen of `a` en `b` binnen `tol` van elkaar liggen."
   ]
  },
  {
   "cell_type": "markdown",
   "metadata": {},
   "source": [
    "We willen er in essentie voor zorgen dat de *afstand* tussen `a` en `b` begrensd is door een zekere tolerantie `tol`."
   ]
  },
  {
   "cell_type": "markdown",
   "metadata": {},
   "source": [
    "We kunnen de `abs()` functie gebruiken om de absolute waarde van een waarde te berekenen, dus:\n",
    "```abs(a-b)```\n",
    "\n",
    "dit berekent de afstand tussen `a` and `b`."
   ]
  },
  {
   "cell_type": "code",
   "execution_count": 8,
   "metadata": {},
   "outputs": [
    {
     "name": "stdout",
     "output_type": "stream",
     "text": [
      "10.0 ligt NIET binnen 0.1 van 10.5\n"
     ]
    }
   ],
   "source": [
    "a = 10.0\n",
    "b = 10.5\n",
    "tol = 0.1\n",
    "if abs(a - b) < tol:\n",
    "    print(f\"{a} ligt binnen {tol} van {b}\")\n",
    "else:\n",
    "    print(f\"{a} ligt NIET binnen {tol} van {b}\")"
   ]
  },
  {
   "cell_type": "code",
   "execution_count": 13,
   "metadata": {},
   "outputs": [
    {
     "name": "stdout",
     "output_type": "stream",
     "text": [
      "1e-16\n",
      "-5.551115123125783e-17\n"
     ]
    }
   ],
   "source": [
    "# Ik wil graag weten hoe klein de tolerantie tussen 2 floats is\n",
    "a = 0.3\n",
    "b = 0.1 + 0.1 + 0.1\n",
    "x = 0\n",
    "\n",
    "tol = 10**-x\n",
    "\n",
    "while abs(a-b) < 10**-x:\n",
    "    x += 1\n",
    "    \n",
    "print(10**-(x-1))\n",
    "print(f\"{a - b}\")"
   ]
  },
  {
   "cell_type": "markdown",
   "metadata": {},
   "source": [
    "### Oefening 2"
   ]
  },
  {
   "cell_type": "markdown",
   "metadata": {},
   "source": [
    "Stel dat je een variabele `elapsed` hebt die de verstreken tijd in seconden bevat."
   ]
  },
  {
   "cell_type": "markdown",
   "metadata": {},
   "source": [
    "Creëer drie nieuwe variabelen: `uren`, `minuten` en `seconden`, die het aantal uren, minuten en seconden vertegenwoordigen die worden weergegeven door `elapsed`."
   ]
  },
  {
   "cell_type": "markdown",
   "metadata": {},
   "source": [
    "Bijvoorbeeld, als `elapsed = 7835`, dan is `uren = 2`, `minuten = 10` en `seconden = 35`."
   ]
  },
  {
   "cell_type": "code",
   "execution_count": 2,
   "metadata": {},
   "outputs": [
    {
     "name": "stdout",
     "output_type": "stream",
     "text": [
      "7835 seconden komt overeen met 2 uren, 10 en 35 seconden.\n"
     ]
    }
   ],
   "source": [
    "elapsed = 7835\n",
    "uren = elapsed // 3600\n",
    "rest_na_uren = elapsed % 3600\n",
    "minuten = rest_na_uren // 60\n",
    "seconden = rest_na_uren % 60\n",
    "print(f\"{elapsed} seconden komt overeen met {uren} uren, {minuten} en {seconden} seconden.\")"
   ]
  },
  {
   "cell_type": "markdown",
   "metadata": {},
   "source": [
    "### Oefening 3"
   ]
  },
  {
   "cell_type": "markdown",
   "metadata": {},
   "source": [
    "Maak twee variabelen die naar dezelfde lijst verwijzen. Vergelijk hun gelijkheid met == en is. Wat is het verschil?"
   ]
  },
  {
   "cell_type": "code",
   "execution_count": 15,
   "metadata": {},
   "outputs": [
    {
     "name": "stdout",
     "output_type": "stream",
     "text": [
      "True\n",
      "True\n",
      "False\n",
      "False\n"
     ]
    }
   ],
   "source": [
    "lijst = [1,2,3]\n",
    "lijst_1 = lijst\n",
    "# lijst_1 = [1,2,3]\n",
    "\n",
    "print(lijst == lijst_1)\n",
    "print(lijst is lijst_1)\n",
    "\n",
    "lijst_1 = lijst[:]\n",
    "print(lijst is lijst_1)\n",
    "\n",
    "lijst_1 = lijst.copy()\n",
    "print(lijst is lijst_1)"
   ]
  },
  {
   "cell_type": "markdown",
   "metadata": {},
   "source": [
    "### Oefening 4"
   ]
  },
  {
   "cell_type": "markdown",
   "metadata": {},
   "source": [
    "Maak twee verschillende lijsten met dezelfde inhoud. Vergelijk ze met == en is. Wat is het verschil?"
   ]
  },
  {
   "cell_type": "code",
   "execution_count": 4,
   "metadata": {},
   "outputs": [
    {
     "name": "stdout",
     "output_type": "stream",
     "text": [
      "True\n",
      "False\n"
     ]
    }
   ],
   "source": [
    "lijst_1 = [1,2,3]\n",
    "lijst_2 = [1,2,3]\n",
    "\n",
    "print(lijst_1 == lijst_2)\n",
    "print(lijst_1 is lijst_2)"
   ]
  },
  {
   "cell_type": "markdown",
   "metadata": {},
   "source": [
    "### Oefening 5"
   ]
  },
  {
   "cell_type": "markdown",
   "metadata": {},
   "source": [
    "Maak twee verschillende strings met dezelfde inhoud. Vergelijk ze met == en is. Wat is het verschil?"
   ]
  },
  {
   "cell_type": "code",
   "execution_count": 5,
   "metadata": {},
   "outputs": [
    {
     "name": "stdout",
     "output_type": "stream",
     "text": [
      "True\n",
      "True\n"
     ]
    }
   ],
   "source": [
    "s_1 = 'syntra'\n",
    "s_2 = 'syntra'\n",
    "\n",
    "print(s_1 == s_2)\n",
    "print(s_1 is s_2)"
   ]
  },
  {
   "cell_type": "markdown",
   "metadata": {},
   "source": [
    "### Oefening 6"
   ]
  },
  {
   "cell_type": "markdown",
   "metadata": {},
   "source": [
    "Gebruik de functie id() om het geheugenadres van twee verschillende variabelen te vinden die naar hetzelfde object verwijzen."
   ]
  },
  {
   "cell_type": "code",
   "execution_count": 6,
   "metadata": {},
   "outputs": [
    {
     "name": "stdout",
     "output_type": "stream",
     "text": [
      "124126463986224\n",
      "124126463986224\n"
     ]
    }
   ],
   "source": [
    "print(id(s_1))\n",
    "print(id(s_2))"
   ]
  },
  {
   "cell_type": "code",
   "execution_count": 7,
   "metadata": {},
   "outputs": [
    {
     "name": "stdout",
     "output_type": "stream",
     "text": [
      "109853077868496\n",
      "109853077869792\n",
      "True\n"
     ]
    }
   ],
   "source": [
    "# langer (>20 chars) strings\n",
    "s_3 = \"\"\"Hoort, hoort! Een nieuw instrument genaamd Docker, gelijk een magisch vat, \n",
    "waarin gij uwe programmakunst in een ‘container’ sluit. \n",
    "Waar gij ook reist, uwe code werkt zonder vrees voor vreemde machines! \n",
    "Geen draken meer, slechts voorspoed en rust in den digitale werelt!\"\"\"\n",
    "s_4 = \"\"\"Hoort, hoort! Een nieuw instrument genaamd Docker, gelijk een magisch vat, \n",
    "waarin gij uwe programmakunst in een ‘container’ sluit. \n",
    "Waar gij ook reist, uwe code werkt zonder vrees voor vreemde machines! \n",
    "Geen draken meer, slechts voorspoed en rust in den digitale werelt!\"\"\"\n",
    "print(id(s_3))\n",
    "print(id(s_4))\n",
    "print(s_3==s_4)"
   ]
  },
  {
   "cell_type": "markdown",
   "metadata": {},
   "source": [
    "### Oefening 7"
   ]
  },
  {
   "cell_type": "markdown",
   "metadata": {},
   "source": [
    "Gebruik de functie id() om het geheugenadres van twee verschillende objecten met dezelfde waarde te vinden. Wat is het verschil?"
   ]
  },
  {
   "cell_type": "code",
   "execution_count": 29,
   "metadata": {},
   "outputs": [
    {
     "name": "stdout",
     "output_type": "stream",
     "text": [
      "110162582002728\n",
      "132282296903920\n",
      "110162582002728\n"
     ]
    }
   ],
   "source": [
    "object_1 = int(5)\n",
    "object_2 = float(5)\n",
    "object_3 = int(5)\n",
    "print(id(object_1))\n",
    "print(id(object_2))\n",
    "print(id(object_3))"
   ]
  },
  {
   "cell_type": "markdown",
   "metadata": {},
   "source": [
    "### Oefening 8"
   ]
  },
  {
   "cell_type": "markdown",
   "metadata": {},
   "source": [
    "Vergelijk getallen, gebruik makend van verschillende vergelijkingsoperatoren, en bepaal welke expressie True en welke False is. Bijvoorbeeld:    \n",
    "5 == 5   # True  \n",
    "5 == 4   # False"
   ]
  },
  {
   "cell_type": "code",
   "execution_count": 9,
   "metadata": {},
   "outputs": [
    {
     "name": "stdout",
     "output_type": "stream",
     "text": [
      "True\n",
      "False\n",
      "True\n",
      "False\n",
      "True\n",
      "False\n"
     ]
    }
   ],
   "source": [
    "print(7 != 3)   # True\n",
    "print(4 != 4)  # False\n",
    "print(10 > 8)   # True\n",
    "print(6 > 9)    # False\n",
    "print(3 < 7)    # True\n",
    "print(9 < 2)    # False"
   ]
  },
  {
   "cell_type": "markdown",
   "metadata": {},
   "source": [
    "### Oefening 9"
   ]
  },
  {
   "cell_type": "markdown",
   "metadata": {},
   "source": [
    "Vergelijk twee strings met de == en != operatoren. Wat is het resultaat?"
   ]
  },
  {
   "cell_type": "code",
   "execution_count": 10,
   "metadata": {},
   "outputs": [
    {
     "name": "stdout",
     "output_type": "stream",
     "text": [
      "True\n",
      "False\n"
     ]
    }
   ],
   "source": [
    "print(s_3 == s_4)\n",
    "print(s_3 != s_4)"
   ]
  },
  {
   "cell_type": "markdown",
   "metadata": {},
   "source": [
    "### Oefening 10"
   ]
  },
  {
   "cell_type": "markdown",
   "metadata": {},
   "source": [
    "Vergelijk twee tuples met de vergelijkingsoperatoren (<, >, <=, >=). Wat is het resultaat en waarom?"
   ]
  },
  {
   "cell_type": "code",
   "execution_count": 11,
   "metadata": {},
   "outputs": [
    {
     "name": "stdout",
     "output_type": "stream",
     "text": [
      "True\n",
      "False\n",
      "True\n",
      "False\n",
      "True\n"
     ]
    }
   ],
   "source": [
    "t_1 = (1,2,3)\n",
    "t_2 = (4,5,6)\n",
    "\n",
    "t_3 = 'ik','heb','dorst'\n",
    "t_4 = 'jullie','ook?'\n",
    "\n",
    "print(t_1 < t_2)\n",
    "print(t_1 > t_2)\n",
    "print(t_1 <= t_2)\n",
    "print(t_1 >= t_2)\n",
    "\n",
    "print(t_3 < t_4)"
   ]
  },
  {
   "cell_type": "markdown",
   "metadata": {},
   "source": [
    "### Oefening 11"
   ]
  },
  {
   "cell_type": "markdown",
   "metadata": {},
   "source": [
    "Controleer of het verschil tussen twee floats, die gelijk zouden moeten zijn, kleiner is dan een kleine drempelwaarde (epsilon). Waarom is dit nodig?"
   ]
  },
  {
   "cell_type": "code",
   "execution_count": 66,
   "metadata": {},
   "outputs": [
    {
     "name": "stdout",
     "output_type": "stream",
     "text": [
      "0.1 != 0.3\n"
     ]
    }
   ],
   "source": [
    "f_1 = 0.1\n",
    "f_2 = 0.3\n",
    "f_1*3 == f_2\n",
    "eps = 0.00000000000000001\n",
    "\n",
    "if abs(f_1*3 - f_2) < eps:\n",
    "    print(f\"{f_1} == {f_2}\")\n",
    "else:\n",
    "    print(f\"{f_1} != {f_2}\")"
   ]
  },
  {
   "cell_type": "markdown",
   "metadata": {},
   "source": [
    "### Oefening 12"
   ]
  },
  {
   "cell_type": "markdown",
   "metadata": {},
   "source": [
    "Vergelijk twee floats met == en !=. Wat is het resultaat en waarom?"
   ]
  },
  {
   "cell_type": "code",
   "execution_count": 13,
   "metadata": {},
   "outputs": [
    {
     "name": "stdout",
     "output_type": "stream",
     "text": [
      "True\n",
      "False\n"
     ]
    }
   ],
   "source": [
    "f_3 = 98.7\n",
    "f_4 = 98.7\n",
    "\n",
    "print(f_3 == f_4)\n",
    "print(f_3 is f_4)\n",
    "# PYTHON VOERT GEEN INTERNING VAN FLOATS UIT!"
   ]
  },
  {
   "cell_type": "markdown",
   "metadata": {},
   "source": [
    "### Oefening 13"
   ]
  },
  {
   "cell_type": "markdown",
   "metadata": {},
   "source": [
    "Controleer of een bepaald element zich in een lijst bevindt met de in-operator."
   ]
  },
  {
   "cell_type": "code",
   "execution_count": 14,
   "metadata": {},
   "outputs": [
    {
     "data": {
      "text/plain": [
       "True"
      ]
     },
     "execution_count": 14,
     "metadata": {},
     "output_type": "execute_result"
    }
   ],
   "source": [
    "mijn_lijst = ['a', 'b', 'c', 'd', 'e']\n",
    "\n",
    "'b' in mijn_lijst"
   ]
  },
  {
   "cell_type": "markdown",
   "metadata": {},
   "source": [
    "### Oefening 14"
   ]
  },
  {
   "cell_type": "markdown",
   "metadata": {},
   "source": [
    "Controleer of een substring aanwezig is in een string met de in-operator."
   ]
  },
  {
   "cell_type": "code",
   "execution_count": 15,
   "metadata": {},
   "outputs": [
    {
     "data": {
      "text/plain": [
       "True"
      ]
     },
     "execution_count": 15,
     "metadata": {},
     "output_type": "execute_result"
    }
   ],
   "source": [
    "'Docker' in s_3"
   ]
  },
  {
   "cell_type": "markdown",
   "metadata": {},
   "source": [
    "### Oefening 15"
   ]
  },
  {
   "cell_type": "markdown",
   "metadata": {},
   "source": [
    "Controleer of een key aanwezig is in een dictionary met de in-operator."
   ]
  },
  {
   "cell_type": "code",
   "execution_count": 30,
   "metadata": {},
   "outputs": [
    {
     "data": {
      "text/plain": [
       "True"
      ]
     },
     "execution_count": 30,
     "metadata": {},
     "output_type": "execute_result"
    }
   ],
   "source": [
    "git_voordelen = {\n",
    "    \"Versiebeheer\": \"Git stelt gebruikers in staat om de geschiedenis van wijzigingen in hun code te beheren.\",\n",
    "    \"Samenwerking\": \"Meerdere ontwikkelaars kunnen gelijktijdig aan hetzelfde project werken zonder conflicten.\",\n",
    "    \"Branching en Merging\": \"Met branches kunnen gebruikers nieuwe functies ontwikkelen los van de hoofdcodebasis. Merges combineren deze uiteindelijk veilig.\",\n",
    "    \"Distributed\": \"Git is gedistribueerd, wat betekent dat elke gebruiker een volledige kopie van de repository heeft. Dit maakt het robuust tegen netwerkproblemen.\",\n",
    "    \"Efficiëntie\": \"Git is zeer snel bij het uitvoeren van veel voorkomende taken zoals commits, diffs en merges.\",\n",
    "    \"Veiligheid\": \"Git slaat elke versie van je code veilig op, waardoor het moeilijk is om data te verliezen.\",\n",
    "    \"Reproductie\": \"Je kunt eenvoudig terugkeren naar een eerdere versie van de code, wat debugging en foutopsporing vergemakkelijkt.\",\n",
    "    \"Open-source\": \"Git is gratis en open-source, met een grote gemeenschap en ondersteuning.\"\n",
    "}\n",
    "\n",
    "'Veiligheid' in git_voordelen"
   ]
  },
  {
   "cell_type": "markdown",
   "metadata": {},
   "source": [
    "#### Oefening 16\n",
    "\n",
    "Ga na tot welke integer waarde interning wordt toegepast door python"
   ]
  },
  {
   "cell_type": "code",
   "execution_count": 2,
   "metadata": {},
   "outputs": [],
   "source": [
    "a = 0\n",
    "b = 0\n",
    "\n",
    "for i in range(1000):\n",
    "    a = a + 1\n",
    "    b = b + 1\n",
    "    if id(a) != id(b):\n",
    "        print(a-1)\n",
    "        break"
   ]
  },
  {
   "cell_type": "code",
   "execution_count": 3,
   "metadata": {},
   "outputs": [
    {
     "data": {
      "text/plain": [
       "256"
      ]
     },
     "execution_count": 3,
     "metadata": {},
     "output_type": "execute_result"
    }
   ],
   "source": [
    "a = 0\n",
    "b = 0\n",
    "\n",
    "while id(a) == id(b):\n",
    "    a += 1\n",
    "    b += 1\n",
    "\n",
    "a\n",
    "\n",
    "while a is b:\n",
    "    a += 1\n",
    "    b += 1\n",
    "\n",
    "a-1"
   ]
  },
  {
   "cell_type": "code",
   "execution_count": null,
   "metadata": {},
   "outputs": [],
   "source": []
  }
 ],
 "metadata": {
  "kernelspec": {
   "display_name": "Python 3 (ipykernel)",
   "language": "python",
   "name": "python3"
  },
  "language_info": {
   "codemirror_mode": {
    "name": "ipython",
    "version": 3
   },
   "file_extension": ".py",
   "mimetype": "text/x-python",
   "name": "python",
   "nbconvert_exporter": "python",
   "pygments_lexer": "ipython3",
   "version": "3.11.6"
  }
 },
 "nbformat": 4,
 "nbformat_minor": 4
}
