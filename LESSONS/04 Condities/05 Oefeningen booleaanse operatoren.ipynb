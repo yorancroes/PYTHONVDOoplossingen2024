{
 "cells": [
  {
   "cell_type": "markdown",
   "metadata": {
    "tags": []
   },
   "source": [
    "![alt text](../../pythonexposed-high-resolution-logo-black.jpg \"Optionele titel\")"
   ]
  },
  {
   "cell_type": "markdown",
   "metadata": {
    "tags": []
   },
   "source": [
    "### Booleaanse operatoren - oefeningen"
   ]
  },
  {
   "cell_type": "markdown",
   "metadata": {},
   "source": [
    "#### 1: Vergelijkingsoperatoren\n",
    "Schrijf expressies die de volgende voorwaarden evalueren en print het resultaat:\n",
    "\n",
    "Of het getal 7 groter is dan 3.\n",
    "Of de string \"Python\" gelijk is aan \"python\".\n",
    "Of het getal 5 niet gelijk is aan 10.  \n",
    "\n",
    "#### 2: Logische Operatoren\n",
    "Gegeven de variabelen a = True, b = False, en c = True, schrijf expressies die de volgende voorwaarden evalueren en print het resultaat:\n",
    "\n",
    "Of a en b beide waar zijn.\n",
    "Of ten minste een van a of b waar is.\n",
    "Of a waar is, maar b niet.  \n",
    "\n",
    "#### 3: Gecombineerde Booleaanse Expressies\n",
    "Gebruik vergelijkings- en logische operatoren om de volgende expressies te evalueren:\n",
    "\n",
    "Of het getal 10 groter is dan 5 en tegelijkertijd kleiner dan 15.\n",
    "Of het getal 5 kleiner is of gelijk aan 5.\n",
    "Of de lengte van de string \"hello\" groter is dan 3 en of \"e\" voorkomt in \"hello\".\n",
    "\n",
    "#### 4: Conditionele Statements\n",
    "Schrijf een klein programma dat:\n",
    "\n",
    "De gebruiker vraagt om een getal in te voeren.\n",
    "Print \"Dit getal is positief.\" als het getal groter is dan 0, \"Dit getal is negatief.\" als het getal kleiner is dan 0, en \"Dit getal is nul.\" als het getal 0 is.\n",
    "\n",
    "#### 5: Complexere Booleaanse Logica\n",
    "Gegeven de lijst getallen = [1, 2, 3, 4, 5], schrijf een Python script dat:\n",
    "\n",
    "Controleert of de lijst de getallen 2 en 3 bevat. Als dat zo is, print \"Bevat 2 en 3\".\n",
    "Controleert of de lijst niet het getal 0 bevat. Als dat zo is, print \"Bevat geen 0\".\n",
    "\n",
    "#### 6: Short-circuiting met and en or\n",
    "Schrijf een functie divide_if_not_zero(a, b) die a / b retourneert als b niet nul is. Gebruik de and operator voor short-circuiting. Als b wel nul is, retourneer \"Kan niet door nul delen\".\n",
    "\n",
    "\n",
    "Schrijf een functie min_max(a, b) die a retourneert als a kleiner is dan b en anders b. Gebruik de or operator voor short-circuiting.\n",
    "\n",
    "#### 7: Break statements\n",
    "Schrijf een functie vind_eerste_meervoud_van_7(lijst) die het eerste getal retourneert dat een veelvoud is van 7 in een gegeven lijst van getallen. Gebruik een for-lus en een break-statement om de lus te stoppen wanneer het getal gevonden is. Als er geen veelvoud van 7 is, retourneer \"Geen veelvoud van 7 gevonden\"\n",
    "\n",
    "\n",
    "#### 8: For loop met break\n",
    "Schrijf een functie zoek_woord_in_tekst(woord, tekst) die True retourneert als een gegeven woord voorkomt in de tekst. Gebruik een for-lus om door elk woord in de tekst te itereren."
   ]
  },
  {
   "cell_type": "code",
   "execution_count": null,
   "metadata": {},
   "outputs": [],
   "source": []
  }
 ],
 "metadata": {
  "kernelspec": {
   "display_name": "Python 3 (ipykernel)",
   "language": "python",
   "name": "python3"
  },
  "language_info": {
   "codemirror_mode": {
    "name": "ipython",
    "version": 3
   },
   "file_extension": ".py",
   "mimetype": "text/x-python",
   "name": "python",
   "nbconvert_exporter": "python",
   "pygments_lexer": "ipython3",
   "version": "3.11.6"
  }
 },
 "nbformat": 4,
 "nbformat_minor": 4
}
