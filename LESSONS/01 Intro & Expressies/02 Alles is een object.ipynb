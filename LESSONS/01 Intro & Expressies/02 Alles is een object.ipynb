{
 "cells": [
  {
   "cell_type": "markdown",
   "metadata": {
    "tags": []
   },
   "source": [
    "![alt text](../../pythonexposed-high-resolution-logo-black.jpg \"Optionele titel\")"
   ]
  },
  {
   "cell_type": "markdown",
   "metadata": {},
   "source": [
    "### Objecten"
   ]
  },
  {
   "cell_type": "markdown",
   "metadata": {},
   "source": [
    "We behandelen objecten later in de cursus, maar bij deze alvast een zeer eenvoudige intro tot objecten.  Later wordt deze code duidelijk (wanneer we OOP zien).  We tonen hier 2 belangrijke concepten van objecten: State en Functionality.  \n",
    "\n",
    "State is wat een object \"weet\" (zijn data of attributen) op een bepaald moment.  \n",
    "\n",
    "Functionality is wat een object \"doet\" (zijn methoden of gedrag)."
   ]
  },
  {
   "cell_type": "code",
   "execution_count": 7,
   "metadata": {
    "tags": []
   },
   "outputs": [],
   "source": [
    "class Rekening:\n",
    "    def __init__(self, rekening_nummer, soort_rekening, start_balans):\n",
    "        self.rekening_nummer = rekening_nummer\n",
    "        self.soort_rekening = soort_rekening\n",
    "        self.balans = start_balans\n",
    "        \n",
    "    def storting(self, bedrag):\n",
    "        # we moeten controleren of bedrag een getal is!\n",
    "        if bedrag > 0:\n",
    "            self.balans = self.balans + bedrag\n",
    "            print(f'{bedrag} werd gestort')\n",
    "            print(f'De nieuwe balans bedraagt: {self.balans}')\n",
    "        else:\n",
    "            print(f'{bedrag} is een ongeldig bedrag.')\n",
    "            \n",
    "    def opvraging(self, bedrag):\n",
    "        # we moeten controleren of bedrag een getal is!\n",
    "        if bedrag > 0 and bedrag <= self.balans:\n",
    "            self.balans = self.balans - bedrag\n",
    "            print(f'Opname: {bedrag}')\n",
    "            print(f'Nieuwe balans: {self.balans}')\n",
    "        else:\n",
    "            if bedrag < 0:\n",
    "                print(f'{bedrag} is ongeldig')\n",
    "            else:\n",
    "                print('Onvoldoende middelen.')\n",
    "                print(f'De huidige balans bedraagt {self.balans}')"
   ]
  },
  {
   "cell_type": "code",
   "execution_count": 8,
   "metadata": {
    "tags": []
   },
   "outputs": [],
   "source": [
    "mijn_rekening = Rekening('123-456', 'spaar', 1_000.00)"
   ]
  },
  {
   "cell_type": "markdown",
   "metadata": {},
   "source": [
    "`mijn_rekening` is een **object** met **status**:"
   ]
  },
  {
   "cell_type": "code",
   "execution_count": 9,
   "metadata": {},
   "outputs": [
    {
     "data": {
      "text/plain": [
       "1000.0"
      ]
     },
     "execution_count": 9,
     "metadata": {},
     "output_type": "execute_result"
    }
   ],
   "source": [
    "mijn_rekening.balans"
   ]
  },
  {
   "cell_type": "code",
   "execution_count": 3,
   "metadata": {
    "tags": []
   },
   "outputs": [
    {
     "data": {
      "text/plain": [
       "'123-456'"
      ]
     },
     "execution_count": 3,
     "metadata": {},
     "output_type": "execute_result"
    }
   ],
   "source": [
    "mijn_rekening.rekening_nummer"
   ]
  },
  {
   "cell_type": "code",
   "execution_count": 4,
   "metadata": {
    "tags": []
   },
   "outputs": [
    {
     "data": {
      "text/plain": [
       "'spaar'"
      ]
     },
     "execution_count": 4,
     "metadata": {},
     "output_type": "execute_result"
    }
   ],
   "source": [
    "mijn_rekening.soort_rekening"
   ]
  },
  {
   "cell_type": "code",
   "execution_count": 5,
   "metadata": {
    "tags": []
   },
   "outputs": [
    {
     "data": {
      "text/plain": [
       "1000.0"
      ]
     },
     "execution_count": 5,
     "metadata": {},
     "output_type": "execute_result"
    }
   ],
   "source": [
    "mijn_rekening.balans"
   ]
  },
  {
   "cell_type": "markdown",
   "metadata": {},
   "source": [
    "En het object heeft ook **functionaliteit**:"
   ]
  },
  {
   "cell_type": "code",
   "execution_count": 6,
   "metadata": {
    "tags": []
   },
   "outputs": [
    {
     "name": "stdout",
     "output_type": "stream",
     "text": [
      "100 werd gestort\n",
      "De nieuwe balans bedraagt: 1100.0\n"
     ]
    }
   ],
   "source": [
    "mijn_rekening.storting(100)"
   ]
  },
  {
   "cell_type": "code",
   "execution_count": 7,
   "metadata": {
    "tags": []
   },
   "outputs": [
    {
     "name": "stdout",
     "output_type": "stream",
     "text": [
      "Opname: 500\n",
      "Nieuwe balans: 600.0\n"
     ]
    }
   ],
   "source": [
    "mijn_rekening.opvraging(500)"
   ]
  },
  {
   "cell_type": "code",
   "execution_count": 8,
   "metadata": {
    "tags": []
   },
   "outputs": [
    {
     "name": "stdout",
     "output_type": "stream",
     "text": [
      "Onvoldoende middelen.\n",
      "De huidige balans bedraagt 600.0\n"
     ]
    }
   ],
   "source": [
    "mijn_rekening.opvraging(5000)"
   ]
  },
  {
   "cell_type": "markdown",
   "metadata": {},
   "source": [
    "Zoals je kunt zien, kunnen we toegang krijgen tot de toestand en functionaliteit van objecten met behulp van deze **punt** notatie."
   ]
  },
  {
   "cell_type": "markdown",
   "metadata": {},
   "source": [
    "In Python is alles een object - dit betekent dat alles waarmee we werken staat en functionaliteit heeft."
   ]
  },
  {
   "cell_type": "markdown",
   "metadata": {},
   "source": [
    "Bijvoorbeeld, integers zijn objecten - ze hebben **toestand** (hun waarde), evenals **functionaliteit** (ze weten hoe ze een ander getal aan henzelf kunnen toevoegen):"
   ]
  },
  {
   "cell_type": "code",
   "execution_count": 9,
   "metadata": {
    "tags": []
   },
   "outputs": [
    {
     "data": {
      "text/plain": [
       "25"
      ]
     },
     "execution_count": 9,
     "metadata": {},
     "output_type": "execute_result"
    }
   ],
   "source": [
    "10 + 15"
   ]
  },
  {
   "cell_type": "code",
   "execution_count": 2,
   "metadata": {},
   "outputs": [],
   "source": [
    "# help(int)"
   ]
  },
  {
   "cell_type": "markdown",
   "metadata": {},
   "source": [
    "De `+` operator maakt eigenlijk gebruik van een functioneel attribuut van het integer, genaamd `__add__`."
   ]
  },
  {
   "cell_type": "markdown",
   "metadata": {},
   "source": [
    "We hadden de optelling op deze manier kunnen doen:"
   ]
  },
  {
   "cell_type": "code",
   "execution_count": 10,
   "metadata": {
    "tags": []
   },
   "outputs": [
    {
     "data": {
      "text/plain": [
       "25"
      ]
     },
     "execution_count": 10,
     "metadata": {},
     "output_type": "execute_result"
    }
   ],
   "source": [
    "(10).__add__(15)"
   ]
  },
  {
   "cell_type": "markdown",
   "metadata": {},
   "source": [
    "Op dezelfde manier zijn `floats` ook objecten:"
   ]
  },
  {
   "cell_type": "code",
   "execution_count": 11,
   "metadata": {
    "tags": []
   },
   "outputs": [
    {
     "data": {
      "text/plain": [
       "0.125"
      ]
     },
     "execution_count": 11,
     "metadata": {},
     "output_type": "execute_result"
    }
   ],
   "source": [
    "0.125"
   ]
  },
  {
   "cell_type": "markdown",
   "metadata": {},
   "source": [
    "Eén functionaliteit die ze hebben is de `as_integer_ratio` methode, die handig kan zijn als je een exacte representatie van de float wilt krijgen:"
   ]
  },
  {
   "cell_type": "code",
   "execution_count": 12,
   "metadata": {
    "tags": []
   },
   "outputs": [
    {
     "data": {
      "text/plain": [
       "(1, 8)"
      ]
     },
     "execution_count": 12,
     "metadata": {},
     "output_type": "execute_result"
    }
   ],
   "source": [
    "(0.125).as_integer_ratio()"
   ]
  },
  {
   "cell_type": "markdown",
   "metadata": {},
   "source": [
    "Zoals je kunt zien wordt `0.125` **exact** opgeslagen als `1/8`."
   ]
  },
  {
   "cell_type": "markdown",
   "metadata": {},
   "source": [
    "Maar zoals we weten, kan niet elke drijvende-kommagetalliteral die we specificeren precies worden opgeslagen zoals we die hebben geschreven:"
   ]
  },
  {
   "cell_type": "code",
   "execution_count": 13,
   "metadata": {
    "tags": []
   },
   "outputs": [
    {
     "data": {
      "text/plain": [
       "0.1"
      ]
     },
     "execution_count": 13,
     "metadata": {},
     "output_type": "execute_result"
    }
   ],
   "source": [
    "0.1"
   ]
  },
  {
   "cell_type": "markdown",
   "metadata": {},
   "source": [
    "Dit lijkt misschien alsof Python dit opslaat als `0.1`, maar wij weten beter:"
   ]
  },
  {
   "cell_type": "code",
   "execution_count": 14,
   "metadata": {
    "tags": []
   },
   "outputs": [
    {
     "data": {
      "text/plain": [
       "'0.1000000000000000055511151'"
      ]
     },
     "execution_count": 14,
     "metadata": {},
     "output_type": "execute_result"
    }
   ],
   "source": [
    "format(0.1, '.25f')"
   ]
  },
  {
   "cell_type": "markdown",
   "metadata": {},
   "source": [
    "Maar wat is het **exacte** nummer?"
   ]
  },
  {
   "cell_type": "code",
   "execution_count": 15,
   "metadata": {
    "tags": []
   },
   "outputs": [
    {
     "data": {
      "text/plain": [
       "(3602879701896397, 36028797018963968)"
      ]
     },
     "execution_count": 15,
     "metadata": {},
     "output_type": "execute_result"
    }
   ],
   "source": [
    "(0.1).as_integer_ratio()"
   ]
  },
  {
   "cell_type": "markdown",
   "metadata": {},
   "source": [
    "Dit is een grote breuk, heel dicht bij `1`, maar niet exact `1`."
   ]
  },
  {
   "cell_type": "markdown",
   "metadata": {},
   "source": [
    "**Voor nu is de belangrijkste conclusie dat alles waarmee we werken in Python een object is.**"
   ]
  },
  {
   "cell_type": "code",
   "execution_count": null,
   "metadata": {},
   "outputs": [],
   "source": []
  }
 ],
 "metadata": {
  "kernelspec": {
   "display_name": "Python 3 (ipykernel)",
   "language": "python",
   "name": "python3"
  },
  "language_info": {
   "codemirror_mode": {
    "name": "ipython",
    "version": 3
   },
   "file_extension": ".py",
   "mimetype": "text/x-python",
   "name": "python",
   "nbconvert_exporter": "python",
   "pygments_lexer": "ipython3",
   "version": "3.11.6"
  }
 },
 "nbformat": 4,
 "nbformat_minor": 4
}
