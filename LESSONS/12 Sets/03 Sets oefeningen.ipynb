{
 "cells": [
  {
   "cell_type": "markdown",
   "id": "neural-details",
   "metadata": {},
   "source": [
    "### Oefeningen"
   ]
  },
  {
   "cell_type": "markdown",
   "id": "liked-hearts",
   "metadata": {},
   "source": [
    "#### Vraag 1"
   ]
  },
  {
   "cell_type": "markdown",
   "id": "indonesian-municipality",
   "metadata": {},
   "source": [
    "Je hebt een lijst met strings gekregen waaruit je alle unieke waarden wilt genereren."
   ]
  },
  {
   "cell_type": "markdown",
   "id": "artificial-heritage",
   "metadata": {},
   "source": [
    "Bijvoorbeeld, als je deze lijst kreeg:\n",
    "```\n",
    "['a', 'A', 'b', 'B', 'B', 'A', 'a', 'c']\n",
    "```\n",
    "\n",
    "dan moet je resultaat volgende waarden bevatten:\n",
    "\n",
    "```\n",
    "['a', 'A', 'b', 'B', 'c']\n",
    "```"
   ]
  },
  {
   "cell_type": "markdown",
   "id": "muslim-hurricane",
   "metadata": {},
   "source": [
    "Let op dat de volgorde van de elementen in de resulterende lijst niet belangrijk is."
   ]
  },
  {
   "cell_type": "markdown",
   "id": "brave-pasta",
   "metadata": {},
   "source": [
    "Je kunt deze lijst gebruiken voor deze oefening."
   ]
  },
  {
   "cell_type": "code",
   "execution_count": 34,
   "id": "rotary-mirror",
   "metadata": {
    "tags": []
   },
   "outputs": [],
   "source": [
    "l = ['AAPL', 'AAPL', 'Aapl', 'aapl', 'MSFT']"
   ]
  },
  {
   "cell_type": "markdown",
   "id": "closing-massage",
   "metadata": {},
   "source": [
    "#### Vraag 2"
   ]
  },
  {
   "cell_type": "markdown",
   "id": "labeled-bouquet",
   "metadata": {},
   "source": [
    "Met dezelfde gegevens die we in vraag 1 zagen, is het doel om alle unieke waarden op een **hoofdletterongevoelige** manier te vinden."
   ]
  },
  {
   "cell_type": "markdown",
   "id": "handled-cruise",
   "metadata": {},
   "source": [
    "Bijvoorbeeld, `AAPL`, `Aapl` en `aapl` moeten elk als dezelfde waarde worden beschouwd."
   ]
  },
  {
   "cell_type": "markdown",
   "id": "adjacent-southwest",
   "metadata": {},
   "source": [
    "#### Vraag 3"
   ]
  },
  {
   "cell_type": "markdown",
   "id": "authorized-cathedral",
   "metadata": {},
   "source": [
    "Gegeven deze datastructuur:"
   ]
  },
  {
   "cell_type": "code",
   "execution_count": 1,
   "id": "flying-processor",
   "metadata": {
    "tags": []
   },
   "outputs": [],
   "source": [
    "data = {\n",
    "    'd1': {'a': 1, 'b': 2, 'c': 3},\n",
    "    'd2': {'b': 20, 'c': 30, 'd': 40},\n",
    "    'd3': {'d': 100, 'x': 200}\n",
    "}"
   ]
  },
  {
   "cell_type": "markdown",
   "id": "emotional-respect",
   "metadata": {},
   "source": [
    "Vind alle unieke keys in de sub-dictionaries.\n",
    "In dit geval moet je resultaat zijn:\n",
    "\n",
    "```\n",
    "{'a', 'b', 'c', 'd', 'x'}\n",
    "```\n",
    "\n",
    "De volgorde in het resultaat is irrelevant (sets kennen geen volgorde).  "
   ]
  },
  {
   "cell_type": "markdown",
   "id": "a57d85e9-9eaa-4cfd-966c-cecb508f3a0c",
   "metadata": {},
   "source": [
    "#### Vraag 4"
   ]
  },
  {
   "cell_type": "markdown",
   "id": "a34c4946-af37-42b3-8892-beb0e998446a",
   "metadata": {},
   "source": [
    "Een beroemd syllogisme zegt: Alle mensen zijn sterfelijk. Socrates is een mens.\n",
    "Daarom is Socrates sterfelijk.  \n",
    "\n",
    "In de code hieronder zie je een aantal sets. De eerste is een set\n",
    "van alle dingen (ik weet dat er een paar ontbreken, maar beschouw hem maar als compleet voor deze opgave). De tweede is een set van alle mensen (aannemende dat de eerste\n",
    "set inderdaad compleet is). De derde bevat alles wat sterfelijk is (wederom, aannemende\n",
    "dat...).  \n",
    "\n",
    "Maak gebruik van set operatoren en methodes om te laten zien dat inderdaad geldt\n",
    "dat (a) alle mensen sterfelijk zijn, (b) Socrates een mens is, en (c) Socrates sterfelijk is. Laat\n",
    "ook zien dat (d) er sterfelijke dingen zijn die geen mens zijn, en (e) er dingen zijn die niet\n",
    "sterfelijk zijn."
   ]
  },
  {
   "cell_type": "code",
   "execution_count": 35,
   "id": "1a887585-78d3-4460-8913-5551cdaf67ff",
   "metadata": {
    "tags": []
   },
   "outputs": [],
   "source": [
    "alles = { \"Socrates\", \"Plato\", \"Eratosthenes\", \"Zeus\", \"Hera\", \"Athene\", \"Acropolis\", \"Kat\", \"Hond\" }\n",
    "mensen = { \"Socrates\", \"Plato\", \"Eratosthenes\" }\n",
    "sterfelijken = { \"Socrates\", \"Plato\", \"Eratosthenes\", \"Kat\", \"Hond\" }"
   ]
  },
  {
   "cell_type": "code",
   "execution_count": 36,
   "id": "58b09bc0-84bd-4155-af23-5f40ff624123",
   "metadata": {
    "tags": []
   },
   "outputs": [],
   "source": [
    "# aantonen dat alle mensen sterfelijk zijn\n"
   ]
  },
  {
   "cell_type": "code",
   "execution_count": 37,
   "id": "4fb22a33-b61f-4f0f-bdae-0f1b00eca7cd",
   "metadata": {
    "tags": []
   },
   "outputs": [],
   "source": [
    "# socrates is een mens\n"
   ]
  },
  {
   "cell_type": "code",
   "execution_count": 38,
   "id": "9e11723d-1516-4eaa-946c-7d31b2bca076",
   "metadata": {
    "tags": []
   },
   "outputs": [],
   "source": [
    "# Socrates is sterfelijk\n"
   ]
  },
  {
   "cell_type": "code",
   "execution_count": 39,
   "id": "2af1bb44-81f8-4627-8ff6-94675f12034a",
   "metadata": {
    "tags": []
   },
   "outputs": [],
   "source": [
    "# Sterfelijke dingen die geen mens zijn\n"
   ]
  },
  {
   "cell_type": "code",
   "execution_count": 40,
   "id": "8c3721b6-be72-46d3-8787-c359d966ce3b",
   "metadata": {
    "tags": []
   },
   "outputs": [],
   "source": [
    "# dingen die niet sterfelijk zijn\n"
   ]
  },
  {
   "cell_type": "markdown",
   "id": "fe684175-0c82-480a-9ff5-254bdb030b04",
   "metadata": {
    "tags": []
   },
   "source": [
    "#### Vraag 5"
   ]
  },
  {
   "cell_type": "markdown",
   "id": "270389cc-fdf0-465e-a7da-fb0073e1cecf",
   "metadata": {},
   "source": [
    "Schrijf een programma dat drie sets van getallen tussen de 1 en 1000 produceert; de eerste set bestaat uit alle getallen die deelbaar zijn door 3, de tweede uit alle getallen die deelbaar zijn door 7, en de derde uit alle getallen die deelbaar zijn door 11. Dit is het gemakkelijkste te doen met list comprehensions, maar dat is niet noodzakelijk.  \n",
    "\n",
    "Produceer vervolgens sets van alle getallen tussen die 1 en 1000 die (a) zowel door 3, 7, en 11 deelbaar zijn, (b) die deelbaar zijn door 3 en 7, maar niet oor 11, en (c) die noch deelbaar zijn door 3, noch door 7, en noch door 11"
   ]
  },
  {
   "cell_type": "code",
   "execution_count": 42,
   "id": "a9ffdb3d-0159-4d9a-a053-646ebcaece9b",
   "metadata": {
    "tags": []
   },
   "outputs": [],
   "source": [
    "deelbaar_door_drie = None\n",
    "deelbaar_door_zeven = None\n",
    "deelbaar_door_elf = None\n",
    "\n",
    "# getallen tussen 1 en 1000 die deelbaar zijn door 3, 7 en 11:\n",
    "\n",
    "\n",
    "# getallen tussen 1 en 1000 die deelbaar zijn door 3, 7 maar niet door 11:\n",
    "\n",
    "\n",
    "# getallen tussen 1 en 1000 die noch door 3, 7 of 11 deelbaar zijn:\n",
    "\n"
   ]
  }
 ],
 "metadata": {
  "kernelspec": {
   "display_name": "Python 3 (ipykernel)",
   "language": "python",
   "name": "python3"
  },
  "language_info": {
   "codemirror_mode": {
    "name": "ipython",
    "version": 3
   },
   "file_extension": ".py",
   "mimetype": "text/x-python",
   "name": "python",
   "nbconvert_exporter": "python",
   "pygments_lexer": "ipython3",
   "version": "3.11.6"
  }
 },
 "nbformat": 4,
 "nbformat_minor": 5
}
