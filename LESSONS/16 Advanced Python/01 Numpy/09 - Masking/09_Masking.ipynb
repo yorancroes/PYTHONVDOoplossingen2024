{
 "cells": [
  {
   "cell_type": "markdown",
   "metadata": {},
   "source": [
    "### Boolean Masking"
   ]
  },
  {
   "cell_type": "markdown",
   "metadata": {},
   "source": [
    "Boolean masking is eigenlijk net een filter die op een array kan worden geplaatst om elementen die aan bepaalde criteria voldoen te kunnen selecteren.  \n",
    "\n",
    "We bekijken eerst de `np.less` functie:"
   ]
  },
  {
   "cell_type": "code",
   "execution_count": 2,
   "metadata": {
    "tags": []
   },
   "outputs": [],
   "source": [
    "import numpy as np"
   ]
  },
  {
   "cell_type": "code",
   "execution_count": 3,
   "metadata": {
    "tags": []
   },
   "outputs": [],
   "source": [
    "m = np.array([-1, 1, -2, 2, -3, 3])"
   ]
  },
  {
   "cell_type": "markdown",
   "metadata": {},
   "source": [
    "We kunnen de `np.less` functie aanroepen om te bepalen welke waarden in `m` lager zijn dan een bepaalde waarde:"
   ]
  },
  {
   "cell_type": "code",
   "execution_count": 4,
   "metadata": {
    "tags": []
   },
   "outputs": [
    {
     "data": {
      "text/plain": [
       "array([ True, False,  True, False,  True, False])"
      ]
     },
     "execution_count": 4,
     "metadata": {},
     "output_type": "execute_result"
    }
   ],
   "source": [
    "np.less(m, 0)"
   ]
  },
  {
   "cell_type": "markdown",
   "metadata": {},
   "source": [
    "Zoals je kan zien krijgen we een array bestaande uit Boolean values die aangeven of de waarde lager was dan `0` of niet."
   ]
  },
  {
   "cell_type": "markdown",
   "metadata": {},
   "source": [
    "We zouden dit ook kunnen bereiken door de Python comparison operators te gebruiken, die op hun beurt de Numpy comparison functies gebruiken:"
   ]
  },
  {
   "cell_type": "code",
   "execution_count": 6,
   "metadata": {
    "tags": []
   },
   "outputs": [
    {
     "data": {
      "text/plain": [
       "array([ True, False,  True, False,  True, False])"
      ]
     },
     "execution_count": 6,
     "metadata": {},
     "output_type": "execute_result"
    }
   ],
   "source": [
    "m < 0"
   ]
  },
  {
   "cell_type": "markdown",
   "metadata": {},
   "source": [
    "Het resultaat is een array die we kunnen aan een variabele toewijzen.  We noemen deze variabele `mask`:"
   ]
  },
  {
   "cell_type": "code",
   "execution_count": 7,
   "metadata": {
    "tags": []
   },
   "outputs": [],
   "source": [
    "mask = m > 0"
   ]
  },
  {
   "cell_type": "code",
   "execution_count": 8,
   "metadata": {
    "tags": []
   },
   "outputs": [
    {
     "data": {
      "text/plain": [
       "array([False,  True, False,  True, False,  True])"
      ]
     },
     "execution_count": 8,
     "metadata": {},
     "output_type": "execute_result"
    }
   ],
   "source": [
    "mask"
   ]
  },
  {
   "cell_type": "markdown",
   "metadata": {},
   "source": [
    "Vervolgens kunnen we de elementen van `m` \"filteren\" (of **masken**) met behulp van deze array die bestaat uit Boolean values:"
   ]
  },
  {
   "cell_type": "code",
   "execution_count": 9,
   "metadata": {
    "tags": []
   },
   "outputs": [
    {
     "data": {
      "text/plain": [
       "array([1, 2, 3])"
      ]
     },
     "execution_count": 9,
     "metadata": {},
     "output_type": "execute_result"
    }
   ],
   "source": [
    "m[mask]"
   ]
  },
  {
   "cell_type": "markdown",
   "metadata": {},
   "source": [
    "We kunnen dit vereenvoudigen door dit in een enkel statement te plaatsen:"
   ]
  },
  {
   "cell_type": "code",
   "execution_count": 10,
   "metadata": {
    "tags": []
   },
   "outputs": [
    {
     "data": {
      "text/plain": [
       "array([1, 2, 3])"
      ]
     },
     "execution_count": 10,
     "metadata": {},
     "output_type": "execute_result"
    }
   ],
   "source": [
    "m[m > 0]"
   ]
  },
  {
   "cell_type": "markdown",
   "metadata": {},
   "source": [
    "Onze originele array had één enkele dimensie, en onze masked array heeft ook één enkele dimensie.  In dit geval was waarschijnlijk wat je had verwacht.  Maar wat met arrays met meer dimensies?  Ook daar zal de masked array nog steeds 1 dimensionaal zijn!"
   ]
  },
  {
   "cell_type": "code",
   "execution_count": 11,
   "metadata": {
    "tags": []
   },
   "outputs": [],
   "source": [
    "m = np.array(\n",
    "    [\n",
    "        [-1, 1, -2, 2],\n",
    "        [-3, 3, -4, 4],\n",
    "        [-5, 5, -6, 6]\n",
    "    ]\n",
    ")"
   ]
  },
  {
   "cell_type": "code",
   "execution_count": 12,
   "metadata": {
    "tags": []
   },
   "outputs": [],
   "source": [
    "negative_numbers = m[m < 0]"
   ]
  },
  {
   "cell_type": "code",
   "execution_count": 13,
   "metadata": {
    "tags": []
   },
   "outputs": [
    {
     "data": {
      "text/plain": [
       "array([-1, -2, -3, -4, -5, -6])"
      ]
     },
     "execution_count": 13,
     "metadata": {},
     "output_type": "execute_result"
    }
   ],
   "source": [
    "negative_numbers"
   ]
  },
  {
   "cell_type": "markdown",
   "metadata": {},
   "source": [
    "We kunnen boolean masks ook met elkaar combineren met behulp van **and**, **or** en **not**.\n",
    "\n",
    "Binnen NumPy gebruiken we echter niet de standaard Python operatoren, maar `&` voor **and**, `|` voor **or** en `~` voor **not**."
   ]
  },
  {
   "cell_type": "code",
   "execution_count": 14,
   "metadata": {
    "tags": []
   },
   "outputs": [
    {
     "data": {
      "text/plain": [
       "array([-5, -4, -3, -2, -1,  0,  1,  2,  3,  4,  5])"
      ]
     },
     "execution_count": 14,
     "metadata": {},
     "output_type": "execute_result"
    }
   ],
   "source": [
    "arr = np.arange(-5, 6)\n",
    "arr"
   ]
  },
  {
   "cell_type": "code",
   "execution_count": 15,
   "metadata": {
    "tags": []
   },
   "outputs": [
    {
     "data": {
      "text/plain": [
       "array([1, 2, 3])"
      ]
     },
     "execution_count": 15,
     "metadata": {},
     "output_type": "execute_result"
    }
   ],
   "source": [
    "arr[(arr > 0) & (arr < 4)]"
   ]
  },
  {
   "cell_type": "markdown",
   "metadata": {},
   "source": [
    "Merk op dat omwille van operator precedence (voorrangsregels) we haakjes moeten gebruiken zoals hierboven getoond. "
   ]
  },
  {
   "cell_type": "markdown",
   "metadata": {},
   "source": [
    "In plaats van de **not** operator, gebruiken we `~`:"
   ]
  },
  {
   "cell_type": "code",
   "execution_count": 16,
   "metadata": {
    "tags": []
   },
   "outputs": [
    {
     "data": {
      "text/plain": [
       "array([0, 1, 2, 3, 4, 5])"
      ]
     },
     "execution_count": 16,
     "metadata": {},
     "output_type": "execute_result"
    }
   ],
   "source": [
    "arr[~(arr < 0)]"
   ]
  },
  {
   "cell_type": "markdown",
   "metadata": {},
   "source": [
    "Natuurlijk gebruiken we hier beter de eenvoudiger te begrijpen `>=` operator in de plaats."
   ]
  },
  {
   "cell_type": "code",
   "execution_count": 15,
   "metadata": {},
   "outputs": [
    {
     "data": {
      "text/plain": [
       "array([0, 1, 2, 3, 4, 5])"
      ]
     },
     "execution_count": 15,
     "metadata": {},
     "output_type": "execute_result"
    }
   ],
   "source": [
    "arr[arr >= 0]"
   ]
  },
  {
   "cell_type": "markdown",
   "metadata": {},
   "source": [
    "We kunnen even een voorbeeld bekijken waar we bepaalde rijen wensen uit te filteren op basis van de waarden in één van de kolommen."
   ]
  },
  {
   "cell_type": "markdown",
   "metadata": {},
   "source": [
    "We gebruiken opnieuw de Apple dataset `AAPL.csv`, en we laden deze naar twee arrays: één voor de datums, en een andere met de OHLC/Volume data (numeriek)."
   ]
  },
  {
   "cell_type": "code",
   "execution_count": 16,
   "metadata": {},
   "outputs": [],
   "source": [
    "import csv\n",
    "from dateutil import parser"
   ]
  },
  {
   "cell_type": "markdown",
   "metadata": {},
   "source": [
    "We kijken opnieuw wat in de file aanwezig is:"
   ]
  },
  {
   "cell_type": "code",
   "execution_count": 17,
   "metadata": {},
   "outputs": [
    {
     "name": "stdout",
     "output_type": "stream",
     "text": [
      "['Symbol', 'Date', 'Close', 'Volume', 'Open', 'High', 'Low']\n",
      "['AAPL', '10/29/2020', '115.32', '146129200', '112.37', '116.93', '112.2']\n",
      "['AAPL', '10/28/2020', '111.2', '143937800', '115.05', '115.43', '111.1']\n",
      "['AAPL', '10/27/2020', '116.6', '92276770', '115.49', '117.28', '114.5399']\n",
      "['AAPL', '10/26/2020', '115.05', '111850700', '114.01', '116.55', '112.88']\n",
      "['AAPL', '10/23/2020', '115.04', '82572650', '116.39', '116.55', '114.28']\n",
      "['AAPL', '10/22/2020', '115.75', '101988000', '117.45', '118.04', '114.59']\n",
      "['AAPL', '10/21/2020', '116.87', '89945980', '116.67', '118.705', '116.45']\n",
      "['AAPL', '10/20/2020', '117.51', '124423700', '116.2', '118.98', '115.63']\n",
      "['AAPL', '10/19/2020', '115.98', '120639300', '119.96', '120.419', '115.66']\n",
      "['AAPL', '10/16/2020', '119.02', '115393800', '121.28', '121.548', '118.81']\n",
      "['AAPL', '10/15/2020', '120.71', '112559200', '118.72', '121.2', '118.15']\n",
      "['AAPL', '10/14/2020', '121.19', '151062300', '121', '123.03', '119.62']\n",
      "['AAPL', '10/13/2020', '121.1', '262330500', '125.27', '125.39', '119.65']\n",
      "['AAPL', '10/12/2020', '124.4', '240226800', '120.06', '125.18', '119.2845']\n",
      "['AAPL', '10/09/2020', '116.97', '100506900', '115.28', '117', '114.92']\n",
      "['AAPL', '10/08/2020', '114.97', '83477150', '116.25', '116.4', '114.5901']\n",
      "['AAPL', '10/07/2020', '115.08', '96848990', '114.62', '115.55', '114.13']\n",
      "['AAPL', '10/06/2020', '113.16', '161498200', '115.7', '116.12', '112.25']\n",
      "['AAPL', '10/05/2020', '116.5', '106243800', '113.91', '116.65', '113.55']\n",
      "['AAPL', '10/02/2020', '113.02', '144712000', '112.89', '115.37', '112.22']\n",
      "['AAPL', '10/01/2020', '116.79', '116120400', '117.64', '117.72', '115.83']\n",
      "['AAPL', '09/30/2020', '115.81', '142675200', '113.79', '117.26', '113.62']\n",
      "['AAPL', '09/29/2020', '114.09', '100060500', '114.55', '115.31', '113.57']\n"
     ]
    }
   ],
   "source": [
    "with open('AAPL.csv') as f:\n",
    "    reader = csv.reader(f, skipinitialspace=True)\n",
    "    headers = next(reader)\n",
    "    data = list(reader)\n",
    "\n",
    "print(headers)\n",
    "for row in data:\n",
    "    print(row)"
   ]
  },
  {
   "cell_type": "markdown",
   "metadata": {},
   "source": [
    "We laden alles in een NumPy array:"
   ]
  },
  {
   "cell_type": "code",
   "execution_count": 18,
   "metadata": {},
   "outputs": [
    {
     "data": {
      "text/plain": [
       "array([['AAPL', '10/29/2020', '115.32', '146129200', '112.37', '116.93',\n",
       "        '112.2'],\n",
       "       ['AAPL', '10/28/2020', '111.2', '143937800', '115.05', '115.43',\n",
       "        '111.1'],\n",
       "       ['AAPL', '10/27/2020', '116.6', '92276770', '115.49', '117.28',\n",
       "        '114.5399'],\n",
       "       ['AAPL', '10/26/2020', '115.05', '111850700', '114.01', '116.55',\n",
       "        '112.88'],\n",
       "       ['AAPL', '10/23/2020', '115.04', '82572650', '116.39', '116.55',\n",
       "        '114.28'],\n",
       "       ['AAPL', '10/22/2020', '115.75', '101988000', '117.45', '118.04',\n",
       "        '114.59'],\n",
       "       ['AAPL', '10/21/2020', '116.87', '89945980', '116.67', '118.705',\n",
       "        '116.45'],\n",
       "       ['AAPL', '10/20/2020', '117.51', '124423700', '116.2', '118.98',\n",
       "        '115.63'],\n",
       "       ['AAPL', '10/19/2020', '115.98', '120639300', '119.96', '120.419',\n",
       "        '115.66'],\n",
       "       ['AAPL', '10/16/2020', '119.02', '115393800', '121.28', '121.548',\n",
       "        '118.81'],\n",
       "       ['AAPL', '10/15/2020', '120.71', '112559200', '118.72', '121.2',\n",
       "        '118.15'],\n",
       "       ['AAPL', '10/14/2020', '121.19', '151062300', '121', '123.03',\n",
       "        '119.62'],\n",
       "       ['AAPL', '10/13/2020', '121.1', '262330500', '125.27', '125.39',\n",
       "        '119.65'],\n",
       "       ['AAPL', '10/12/2020', '124.4', '240226800', '120.06', '125.18',\n",
       "        '119.2845'],\n",
       "       ['AAPL', '10/09/2020', '116.97', '100506900', '115.28', '117',\n",
       "        '114.92'],\n",
       "       ['AAPL', '10/08/2020', '114.97', '83477150', '116.25', '116.4',\n",
       "        '114.5901'],\n",
       "       ['AAPL', '10/07/2020', '115.08', '96848990', '114.62', '115.55',\n",
       "        '114.13'],\n",
       "       ['AAPL', '10/06/2020', '113.16', '161498200', '115.7', '116.12',\n",
       "        '112.25'],\n",
       "       ['AAPL', '10/05/2020', '116.5', '106243800', '113.91', '116.65',\n",
       "        '113.55'],\n",
       "       ['AAPL', '10/02/2020', '113.02', '144712000', '112.89', '115.37',\n",
       "        '112.22'],\n",
       "       ['AAPL', '10/01/2020', '116.79', '116120400', '117.64', '117.72',\n",
       "        '115.83'],\n",
       "       ['AAPL', '09/30/2020', '115.81', '142675200', '113.79', '117.26',\n",
       "        '113.62'],\n",
       "       ['AAPL', '09/29/2020', '114.09', '100060500', '114.55', '115.31',\n",
       "        '113.57']], dtype='<U10')"
      ]
     },
     "execution_count": 18,
     "metadata": {},
     "output_type": "execute_result"
    }
   ],
   "source": [
    "arr = np.array(data)\n",
    "arr"
   ]
  },
  {
   "cell_type": "markdown",
   "metadata": {},
   "source": [
    "Daarna maken we een array met enkel de datums:"
   ]
  },
  {
   "cell_type": "code",
   "execution_count": 19,
   "metadata": {},
   "outputs": [
    {
     "data": {
      "text/plain": [
       "array([datetime.datetime(2020, 10, 29, 0, 0),\n",
       "       datetime.datetime(2020, 10, 28, 0, 0),\n",
       "       datetime.datetime(2020, 10, 27, 0, 0),\n",
       "       datetime.datetime(2020, 10, 26, 0, 0),\n",
       "       datetime.datetime(2020, 10, 23, 0, 0),\n",
       "       datetime.datetime(2020, 10, 22, 0, 0),\n",
       "       datetime.datetime(2020, 10, 21, 0, 0),\n",
       "       datetime.datetime(2020, 10, 20, 0, 0),\n",
       "       datetime.datetime(2020, 10, 19, 0, 0),\n",
       "       datetime.datetime(2020, 10, 16, 0, 0),\n",
       "       datetime.datetime(2020, 10, 15, 0, 0),\n",
       "       datetime.datetime(2020, 10, 14, 0, 0),\n",
       "       datetime.datetime(2020, 10, 13, 0, 0),\n",
       "       datetime.datetime(2020, 10, 12, 0, 0),\n",
       "       datetime.datetime(2020, 10, 9, 0, 0),\n",
       "       datetime.datetime(2020, 10, 8, 0, 0),\n",
       "       datetime.datetime(2020, 10, 7, 0, 0),\n",
       "       datetime.datetime(2020, 10, 6, 0, 0),\n",
       "       datetime.datetime(2020, 10, 5, 0, 0),\n",
       "       datetime.datetime(2020, 10, 2, 0, 0),\n",
       "       datetime.datetime(2020, 10, 1, 0, 0),\n",
       "       datetime.datetime(2020, 9, 30, 0, 0),\n",
       "       datetime.datetime(2020, 9, 29, 0, 0)], dtype=object)"
      ]
     },
     "execution_count": 19,
     "metadata": {},
     "output_type": "execute_result"
    }
   ],
   "source": [
    "dates = np.array([parser.parse(dt) for dt in arr[:, 1]])\n",
    "dates"
   ]
  },
  {
   "cell_type": "markdown",
   "metadata": {},
   "source": [
    "Vervolgens maken we een float array met de numerieke waarden:"
   ]
  },
  {
   "cell_type": "code",
   "execution_count": 20,
   "metadata": {},
   "outputs": [
    {
     "data": {
      "text/plain": [
       "array([[112.37  , 116.93  , 112.2   , 115.32  ],\n",
       "       [115.05  , 115.43  , 111.1   , 111.2   ],\n",
       "       [115.49  , 117.28  , 114.5399, 116.6   ],\n",
       "       [114.01  , 116.55  , 112.88  , 115.05  ],\n",
       "       [116.39  , 116.55  , 114.28  , 115.04  ],\n",
       "       [117.45  , 118.04  , 114.59  , 115.75  ],\n",
       "       [116.67  , 118.705 , 116.45  , 116.87  ],\n",
       "       [116.2   , 118.98  , 115.63  , 117.51  ],\n",
       "       [119.96  , 120.419 , 115.66  , 115.98  ],\n",
       "       [121.28  , 121.548 , 118.81  , 119.02  ],\n",
       "       [118.72  , 121.2   , 118.15  , 120.71  ],\n",
       "       [121.    , 123.03  , 119.62  , 121.19  ],\n",
       "       [125.27  , 125.39  , 119.65  , 121.1   ],\n",
       "       [120.06  , 125.18  , 119.2845, 124.4   ],\n",
       "       [115.28  , 117.    , 114.92  , 116.97  ],\n",
       "       [116.25  , 116.4   , 114.5901, 114.97  ],\n",
       "       [114.62  , 115.55  , 114.13  , 115.08  ],\n",
       "       [115.7   , 116.12  , 112.25  , 113.16  ],\n",
       "       [113.91  , 116.65  , 113.55  , 116.5   ],\n",
       "       [112.89  , 115.37  , 112.22  , 113.02  ],\n",
       "       [117.64  , 117.72  , 115.83  , 116.79  ],\n",
       "       [113.79  , 117.26  , 113.62  , 115.81  ],\n",
       "       [114.55  , 115.31  , 113.57  , 114.09  ]])"
      ]
     },
     "execution_count": 20,
     "metadata": {},
     "output_type": "execute_result"
    }
   ],
   "source": [
    "ohlc = arr[:, [4, 5, 6, 2]].astype(float)\n",
    "ohlc"
   ]
  },
  {
   "cell_type": "markdown",
   "metadata": {},
   "source": [
    "We wensen de dagen te identificeren waarop de aandelen sluiten op een prijs hoger dan `116.00`."
   ]
  },
  {
   "cell_type": "markdown",
   "metadata": {},
   "source": [
    "Om dit te doen maken we een mask op kolom #3:"
   ]
  },
  {
   "cell_type": "code",
   "execution_count": 21,
   "metadata": {},
   "outputs": [
    {
     "data": {
      "text/plain": [
       "array([False, False,  True, False, False, False,  True,  True, False,\n",
       "        True,  True,  True,  True,  True,  True, False, False, False,\n",
       "        True, False,  True, False, False])"
      ]
     },
     "execution_count": 21,
     "metadata": {},
     "output_type": "execute_result"
    }
   ],
   "source": [
    "ohlc[:, 3] > 116.0"
   ]
  },
  {
   "cell_type": "markdown",
   "metadata": {},
   "source": [
    "We zouden dit mask kunnen gebruiken op de `ohlc` array om de records uit te filteren die een sluitingsprijs hoger dan `116.00` hebben:"
   ]
  },
  {
   "cell_type": "code",
   "execution_count": 22,
   "metadata": {},
   "outputs": [
    {
     "data": {
      "text/plain": [
       "array([[115.49  , 117.28  , 114.5399, 116.6   ],\n",
       "       [116.67  , 118.705 , 116.45  , 116.87  ],\n",
       "       [116.2   , 118.98  , 115.63  , 117.51  ],\n",
       "       [121.28  , 121.548 , 118.81  , 119.02  ],\n",
       "       [118.72  , 121.2   , 118.15  , 120.71  ],\n",
       "       [121.    , 123.03  , 119.62  , 121.19  ],\n",
       "       [125.27  , 125.39  , 119.65  , 121.1   ],\n",
       "       [120.06  , 125.18  , 119.2845, 124.4   ],\n",
       "       [115.28  , 117.    , 114.92  , 116.97  ],\n",
       "       [113.91  , 116.65  , 113.55  , 116.5   ],\n",
       "       [117.64  , 117.72  , 115.83  , 116.79  ]])"
      ]
     },
     "execution_count": 22,
     "metadata": {},
     "output_type": "execute_result"
    }
   ],
   "source": [
    "ohlc[ohlc[:, 3] > 116.0]"
   ]
  },
  {
   "cell_type": "markdown",
   "metadata": {},
   "source": [
    "Maar eigenlijk zijn we geïnteresseerd in de datums waarop dit het geval was... De `dates` en `ohlc` arrays bevatten evenveel rijen, dus kunnen we het mask wat we in de `ohlc` array bekomen toepassen op de `dates` array:"
   ]
  },
  {
   "cell_type": "code",
   "execution_count": 23,
   "metadata": {},
   "outputs": [
    {
     "data": {
      "text/plain": [
       "array([datetime.datetime(2020, 10, 27, 0, 0),\n",
       "       datetime.datetime(2020, 10, 21, 0, 0),\n",
       "       datetime.datetime(2020, 10, 20, 0, 0),\n",
       "       datetime.datetime(2020, 10, 16, 0, 0),\n",
       "       datetime.datetime(2020, 10, 15, 0, 0),\n",
       "       datetime.datetime(2020, 10, 14, 0, 0),\n",
       "       datetime.datetime(2020, 10, 13, 0, 0),\n",
       "       datetime.datetime(2020, 10, 12, 0, 0),\n",
       "       datetime.datetime(2020, 10, 9, 0, 0),\n",
       "       datetime.datetime(2020, 10, 5, 0, 0),\n",
       "       datetime.datetime(2020, 10, 1, 0, 0)], dtype=object)"
      ]
     },
     "execution_count": 23,
     "metadata": {},
     "output_type": "execute_result"
    }
   ],
   "source": [
    "dates[ohlc[:, 3] > 116.0]"
   ]
  },
  {
   "cell_type": "markdown",
   "metadata": {},
   "source": [
    "We kunnen deze data samenvoegen in een Python list zodat we de datums en de numerieke waarden naast elkaar hebben:"
   ]
  },
  {
   "cell_type": "code",
   "execution_count": 24,
   "metadata": {},
   "outputs": [],
   "source": [
    "mask = ohlc[:, 3] > 116.0"
   ]
  },
  {
   "cell_type": "markdown",
   "metadata": {},
   "source": [
    "Deze aanpak werkt bijna:"
   ]
  },
  {
   "cell_type": "code",
   "execution_count": 25,
   "metadata": {},
   "outputs": [
    {
     "name": "stdout",
     "output_type": "stream",
     "text": [
      "[datetime.datetime(2020, 10, 27, 0, 0), array([115.49  , 117.28  , 114.5399, 116.6   ])]\n",
      "[datetime.datetime(2020, 10, 21, 0, 0), array([116.67 , 118.705, 116.45 , 116.87 ])]\n",
      "[datetime.datetime(2020, 10, 20, 0, 0), array([116.2 , 118.98, 115.63, 117.51])]\n",
      "[datetime.datetime(2020, 10, 16, 0, 0), array([121.28 , 121.548, 118.81 , 119.02 ])]\n",
      "[datetime.datetime(2020, 10, 15, 0, 0), array([118.72, 121.2 , 118.15, 120.71])]\n",
      "[datetime.datetime(2020, 10, 14, 0, 0), array([121.  , 123.03, 119.62, 121.19])]\n",
      "[datetime.datetime(2020, 10, 13, 0, 0), array([125.27, 125.39, 119.65, 121.1 ])]\n",
      "[datetime.datetime(2020, 10, 12, 0, 0), array([120.06  , 125.18  , 119.2845, 124.4   ])]\n",
      "[datetime.datetime(2020, 10, 9, 0, 0), array([115.28, 117.  , 114.92, 116.97])]\n",
      "[datetime.datetime(2020, 10, 5, 0, 0), array([113.91, 116.65, 113.55, 116.5 ])]\n",
      "[datetime.datetime(2020, 10, 1, 0, 0), array([117.64, 117.72, 115.83, 116.79])]\n"
     ]
    }
   ],
   "source": [
    "filtered_data = [\n",
    "    [date, row]\n",
    "    for date, row in zip(dates[mask], ohlc[mask])\n",
    "]\n",
    "\n",
    "for row in filtered_data:\n",
    "    print(row)"
   ]
  },
  {
   "cell_type": "markdown",
   "metadata": {},
   "source": [
    "Het probleem hier is dat onze resulterende rijen twee elementen bevatten: de datum en een array die de OHLC data horend bij die rij bevat.  Dit kunnen we oplossen door de numerieke waarden van elke rij te unpacken, en dit samen te voegen.  Laat ons even bekijken hoe we dit kunnen doen aan de hand van een eenvoudiger voorbeeld:"
   ]
  },
  {
   "cell_type": "code",
   "execution_count": 1,
   "metadata": {
    "tags": []
   },
   "outputs": [
    {
     "data": {
      "text/plain": [
       "['10/1/2020', [100, 200, 300, 400]]"
      ]
     },
     "execution_count": 1,
     "metadata": {},
     "output_type": "execute_result"
    }
   ],
   "source": [
    "date = '10/1/2020'\n",
    "numbers = [100, 200, 300, 400]\n",
    "\n",
    "[date, numbers]"
   ]
  },
  {
   "cell_type": "markdown",
   "metadata": {},
   "source": [
    "Dit is dus hetzelfde probleem.  Herinner je dat we een iterable kunnen 'unpacken' met behulp van `*`:"
   ]
  },
  {
   "cell_type": "code",
   "execution_count": 27,
   "metadata": {},
   "outputs": [
    {
     "data": {
      "text/plain": [
       "['10/1/2020', 100, 200, 300, 400]"
      ]
     },
     "execution_count": 27,
     "metadata": {},
     "output_type": "execute_result"
    }
   ],
   "source": [
    "[date, *numbers]"
   ]
  },
  {
   "cell_type": "markdown",
   "metadata": {},
   "source": [
    "Dit doet wat we willen! We passen dit nu toe op het voorgaande probleem:"
   ]
  },
  {
   "cell_type": "code",
   "execution_count": 28,
   "metadata": {},
   "outputs": [
    {
     "name": "stdout",
     "output_type": "stream",
     "text": [
      "[datetime.datetime(2020, 10, 27, 0, 0), 115.49, 117.28, 114.5399, 116.6]\n",
      "[datetime.datetime(2020, 10, 21, 0, 0), 116.67, 118.705, 116.45, 116.87]\n",
      "[datetime.datetime(2020, 10, 20, 0, 0), 116.2, 118.98, 115.63, 117.51]\n",
      "[datetime.datetime(2020, 10, 16, 0, 0), 121.28, 121.548, 118.81, 119.02]\n",
      "[datetime.datetime(2020, 10, 15, 0, 0), 118.72, 121.2, 118.15, 120.71]\n",
      "[datetime.datetime(2020, 10, 14, 0, 0), 121.0, 123.03, 119.62, 121.19]\n",
      "[datetime.datetime(2020, 10, 13, 0, 0), 125.27, 125.39, 119.65, 121.1]\n",
      "[datetime.datetime(2020, 10, 12, 0, 0), 120.06, 125.18, 119.2845, 124.4]\n",
      "[datetime.datetime(2020, 10, 9, 0, 0), 115.28, 117.0, 114.92, 116.97]\n",
      "[datetime.datetime(2020, 10, 5, 0, 0), 113.91, 116.65, 113.55, 116.5]\n",
      "[datetime.datetime(2020, 10, 1, 0, 0), 117.64, 117.72, 115.83, 116.79]\n"
     ]
    }
   ],
   "source": [
    "filtered_data = [\n",
    "    [date, *row]\n",
    "    for date, row in zip(dates[mask], ohlc[mask])\n",
    "]\n",
    "\n",
    "for row in filtered_data:\n",
    "    print(row)"
   ]
  }
 ],
 "metadata": {
  "kernelspec": {
   "display_name": "Python 3 (ipykernel)",
   "language": "python",
   "name": "python3"
  },
  "language_info": {
   "codemirror_mode": {
    "name": "ipython",
    "version": 3
   },
   "file_extension": ".py",
   "mimetype": "text/x-python",
   "name": "python",
   "nbconvert_exporter": "python",
   "pygments_lexer": "ipython3",
   "version": "3.12.8"
  }
 },
 "nbformat": 4,
 "nbformat_minor": 4
}
