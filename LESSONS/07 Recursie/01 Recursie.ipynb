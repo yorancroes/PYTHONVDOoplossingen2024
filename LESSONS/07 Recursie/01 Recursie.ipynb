{
 "cells": [
  {
   "cell_type": "markdown",
   "id": "8fd220f4-2791-46b3-a8c5-13973f598362",
   "metadata": {
    "tags": []
   },
   "source": [
    "![alt text](../../pythonexposed-high-resolution-logo-black.jpg \"Optionele titel\")"
   ]
  },
  {
   "cell_type": "markdown",
   "id": "96a9c44e",
   "metadata": {},
   "source": [
    "### Recursieve functies\n",
    "\n",
    "Een recursieve functie in Python is een functie die zichzelf oproept om een probleem op te lossen. De sleutel tot een succesvolle recursieve functie is het hebben van:  \n",
    "\n",
    "- Een basisgeval: Een eenvoudige situatie of conditie waarvoor het antwoord direct bekend is en waar geen verdere recursieve oproepen nodig zijn.  \n",
    "- Een recursief geval: Een situatie waarin de functie zichzelf oproept met een kleinere of eenvoudigere versie van het oorspronkelijke probleem.\n"
   ]
  },
  {
   "cell_type": "markdown",
   "id": "5f10f37c-d6b0-4218-b10f-2c84278e29ed",
   "metadata": {
    "tags": []
   },
   "source": [
    "### Waarom werkt recursie?\n",
    "\n",
    "Als je een functie schrijft, heb je de mogelijkheid om variabelen binnen die functie te creëren door toewijzing.  \n",
    "Neem bijvoorbeeld a = 10  \n",
    "Variabelen, die binnen de functie worden gedefinieerd, worden niet aangemaakt tot de functie daadwerkelijk wordt uitgevoerd.\n",
    "\n",
    "Met elke aanroep van de functie wordt er een nieuwe scope aangemaakt. Dit betekent dat de variabelen die in de functie worden gedefinieerd, elke keer tot een nieuwe, aparte scope behoren wanneer de functie wordt aangeroepen.  \n",
    "Deze variabelen behoren tot de **lokale scope van de functie** - ze zijn alleen toegankelijk en bestaan binnen de uitvoering van die specifieke functieaanroep.\n",
    "\n",
    "Het concept van een lokale scope betekent dat je dezelfde variabelennaam in verschillende functies kunt gebruiken zonder dat de ene de andere beïnvloedt; elke functieaanroep heeft zijn eigen versie van die variabele.\n",
    "\n",
    "Het 'object' waar een variabele naar verwijst, kan verschillen bij elke aanroep van de functie. Dit is een fundamenteel principe dat maakt dat recursie werkt. Bij recursie roept een functie zichzelf aan met mogelijk nieuwe waarden voor de variabelen bij elke aanroep, waardoor de recursieve berekeningen correct worden uitgevoerd."
   ]
  },
  {
   "cell_type": "markdown",
   "id": "592d3446",
   "metadata": {},
   "source": [
    "\n",
    "### Voorbeelden van recursieve functies"
   ]
  },
  {
   "cell_type": "markdown",
   "id": "e0612ae2-dc5b-4d2d-b628-f5c50b52a74a",
   "metadata": {},
   "source": [
    "#### Voorbeeld 1: Factorial Berekenen\n",
    "De faculteitsfunctie (aangeduid met n!) is het product van alle positieve gehele getallen van 1 tot n. Voor n! = n * (n-1) * (n-2) * ... * 1. Het basisgeval voor de recursieve functie is dat n! = 1 als n < 2."
   ]
  },
  {
   "cell_type": "code",
   "execution_count": 5,
   "id": "81cda545",
   "metadata": {
    "tags": []
   },
   "outputs": [
    {
     "name": "stdout",
     "output_type": "stream",
     "text": [
      "403595226631845209051880628629640843684504427553075197870696397761049187812849704911861525200847286953691029536005008041199679136947538974195145603806613764659598772448343155346099936257625753094803884027860163939789842138835459726309735765486625072922145181887975022572105212827325352650360822643468087741771243274550281589906300986381710232456423433251607344294784039373634656024124453620089721583696043568454453734050864695625360160060837985907843886863299796154720279007113956951303885722179881815749987309805714978843425686190000118314099658179076045908112174184036411692279009131566184678468723846725908145293854399345046411198447956200779858905167173352465714153538801211087720100276119910066915976203462207958828341534221899791288298092817195947660859191130400508223302612192464542972486137970999130314487401586333890803098965666729069983059073029836289064949751403828279759468153435153751780866336232529843901200433684288385627283533199027396434893357282086051585816529002990308480430936068459723972706109774049015004995093607154690663050562540125426199747069929118955699230774847071199289100876508706102549187041138413686787948205954112870737405031681121042921061995174289468425331650464561340409424173780188880812336110785337046525095105430858497742434742094044183974861014953066385473893642483322068557624990042622887596537142678944093257718557160897828029849892850965669582034472885502604911928460284005306342333130336198553219540604482194933412078382116571387810188247661856673784645931148063936059156551998852938063173052063949026304605205631624638774310744480832995609830297494545245656244455620251778253774769266089821112470989893912601073959708491868875645584730271480394263197569955225062667191096707656654407022887525790856785877899038650115933178051995456774627931040674690671748424144553319969406033752761076645509257674502108335781092379493678262981271954245666983743955528481743109188752583996172412523833843658095508570036882989691250736327439493831143034902758721795187227924667136887444201148357041223132757556636766608468460560883010885098435917684827483525679451551727590758306091652499677082687155106869995981028480229123981226964327190673310250990586533694909587495431670564164338201999882039484224426801780967555634548300999593123533545305689646564984159483631997655252944785081759776787922944000000000000000000000000000000000000000000000000000000000000000000000000000000000000000000000000000000000000000000000000000000000000000000000000000000000000000000000000000000000000000000000000000000000000000000000000000000000000000000000000000000000\n"
     ]
    }
   ],
   "source": [
    "def factorial(n):\n",
    "    # Basisgeval\n",
    "    if n < 2:\n",
    "        return 1\n",
    "    # Recursief geval\n",
    "    else:\n",
    "        return n * factorial(n-1)\n",
    "\n",
    "print(factorial(1002))  # Output: 120"
   ]
  },
  {
   "cell_type": "markdown",
   "id": "f4b54bf8-c566-46ac-a504-07f9b30618d6",
   "metadata": {
    "tags": []
   },
   "source": [
    "#### Voorbeeld 2: Fibonacci Reeks\n",
    "In de Fibonacci-reeks is elk getal de som van de twee voorgaande getallen. De reeks begint met 0 gevolgd door 1, en zo verder. Het basisgeval in deze functie is dat fib(0) = 0 en fib(1) = 1."
   ]
  },
  {
   "cell_type": "code",
   "execution_count": 34,
   "id": "60a479be-7751-4ae9-9932-1c87bd2cfa28",
   "metadata": {
    "tags": []
   },
   "outputs": [],
   "source": [
    "mem = {}\n",
    "\n",
    "def calc_recursive_fib(n):\n",
    "    global mem\n",
    "    if n <=2:\n",
    "        return 1\n",
    "    if n in mem:\n",
    "        return mem[n]\n",
    "    else:\n",
    "        mem[n] = calc_recursive_fib(n-1) + calc_recursive_fib(n-2)\n",
    "        return mem[n]"
   ]
  },
  {
   "cell_type": "code",
   "execution_count": 43,
   "id": "f562caf5-d70c-4ac0-adaf-355086aa1ba5",
   "metadata": {},
   "outputs": [
    {
     "data": {
      "text/plain": [
       "354224848179261915075"
      ]
     },
     "execution_count": 43,
     "metadata": {},
     "output_type": "execute_result"
    }
   ],
   "source": [
    "calc_recursive_fib(100)"
   ]
  },
  {
   "cell_type": "code",
   "execution_count": 44,
   "id": "09ce090f-e3f9-45c2-8441-1704923cbe81",
   "metadata": {},
   "outputs": [
    {
     "name": "stdout",
     "output_type": "stream",
     "text": [
      "n: 3 - value = 2\n",
      "n: 4 - value = 3\n",
      "n: 5 - value = 5\n",
      "n: 6 - value = 8\n",
      "n: 7 - value = 13\n",
      "n: 8 - value = 21\n",
      "n: 9 - value = 34\n",
      "n: 10 - value = 55\n",
      "n: 11 - value = 89\n",
      "n: 12 - value = 144\n",
      "n: 13 - value = 233\n",
      "n: 14 - value = 377\n",
      "n: 15 - value = 610\n",
      "n: 16 - value = 987\n",
      "n: 17 - value = 1597\n",
      "n: 18 - value = 2584\n",
      "n: 19 - value = 4181\n",
      "n: 20 - value = 6765\n",
      "n: 21 - value = 10946\n",
      "n: 22 - value = 17711\n",
      "n: 23 - value = 28657\n",
      "n: 24 - value = 46368\n",
      "n: 25 - value = 75025\n",
      "n: 26 - value = 121393\n",
      "n: 27 - value = 196418\n",
      "n: 28 - value = 317811\n",
      "n: 29 - value = 514229\n",
      "n: 30 - value = 832040\n",
      "n: 31 - value = 1346269\n",
      "n: 32 - value = 2178309\n",
      "n: 33 - value = 3524578\n",
      "n: 34 - value = 5702887\n",
      "n: 35 - value = 9227465\n",
      "n: 36 - value = 14930352\n",
      "n: 37 - value = 24157817\n",
      "n: 38 - value = 39088169\n",
      "n: 39 - value = 63245986\n",
      "n: 40 - value = 102334155\n",
      "n: 41 - value = 165580141\n",
      "n: 42 - value = 267914296\n",
      "n: 43 - value = 433494437\n",
      "n: 44 - value = 701408733\n",
      "n: 45 - value = 1134903170\n",
      "n: 46 - value = 1836311903\n",
      "n: 47 - value = 2971215073\n",
      "n: 48 - value = 4807526976\n",
      "n: 49 - value = 7778742049\n",
      "n: 50 - value = 12586269025\n",
      "n: 51 - value = 20365011074\n",
      "n: 52 - value = 32951280099\n",
      "n: 53 - value = 53316291173\n",
      "n: 54 - value = 86267571272\n",
      "n: 55 - value = 139583862445\n",
      "n: 56 - value = 225851433717\n",
      "n: 57 - value = 365435296162\n",
      "n: 58 - value = 591286729879\n",
      "n: 59 - value = 956722026041\n",
      "n: 60 - value = 1548008755920\n",
      "n: 61 - value = 2504730781961\n",
      "n: 62 - value = 4052739537881\n",
      "n: 63 - value = 6557470319842\n",
      "n: 64 - value = 10610209857723\n",
      "n: 65 - value = 17167680177565\n",
      "n: 66 - value = 27777890035288\n",
      "n: 67 - value = 44945570212853\n",
      "n: 68 - value = 72723460248141\n",
      "n: 69 - value = 117669030460994\n",
      "n: 70 - value = 190392490709135\n",
      "n: 71 - value = 308061521170129\n",
      "n: 72 - value = 498454011879264\n",
      "n: 73 - value = 806515533049393\n",
      "n: 74 - value = 1304969544928657\n",
      "n: 75 - value = 2111485077978050\n",
      "n: 76 - value = 3416454622906707\n",
      "n: 77 - value = 5527939700884757\n",
      "n: 78 - value = 8944394323791464\n",
      "n: 79 - value = 14472334024676221\n",
      "n: 80 - value = 23416728348467685\n",
      "n: 81 - value = 37889062373143906\n",
      "n: 82 - value = 61305790721611591\n",
      "n: 83 - value = 99194853094755497\n",
      "n: 84 - value = 160500643816367088\n",
      "n: 85 - value = 259695496911122585\n",
      "n: 86 - value = 420196140727489673\n",
      "n: 87 - value = 679891637638612258\n",
      "n: 88 - value = 1100087778366101931\n",
      "n: 89 - value = 1779979416004714189\n",
      "n: 90 - value = 2880067194370816120\n",
      "n: 91 - value = 4660046610375530309\n",
      "n: 92 - value = 7540113804746346429\n",
      "n: 93 - value = 12200160415121876738\n",
      "n: 94 - value = 19740274219868223167\n",
      "n: 95 - value = 31940434634990099905\n",
      "n: 96 - value = 51680708854858323072\n",
      "n: 97 - value = 83621143489848422977\n",
      "n: 98 - value = 135301852344706746049\n",
      "n: 99 - value = 218922995834555169026\n",
      "n: 100 - value = 354224848179261915075\n"
     ]
    }
   ],
   "source": [
    "for n, value in mem.items():\n",
    "    print(f\"n: {n} - value = {value}\")"
   ]
  },
  {
   "cell_type": "code",
   "execution_count": 29,
   "id": "2e209de1-74f5-40db-83d4-30d25d125046",
   "metadata": {},
   "outputs": [],
   "source": [
    "import time\n",
    "\n",
    "ns = []\n",
    "times = []\n",
    "\n",
    "for i in range(100000):\n",
    "    start = time.time()\n",
    "    calc_recursive_fib(i)\n",
    "\n",
    "    ns.append(i)\n",
    "    times.append(time.time() - start)    "
   ]
  },
  {
   "cell_type": "code",
   "execution_count": 30,
   "id": "3dadd58b-4af2-49ed-8115-28ab42255a60",
   "metadata": {},
   "outputs": [
    {
     "data": {
      "text/plain": [
       "[<matplotlib.lines.Line2D at 0x791e70242dd0>]"
      ]
     },
     "execution_count": 30,
     "metadata": {},
     "output_type": "execute_result"
    },
    {
     "data": {
      "image/png": "[encoded data removed]",
      "text/plain": [
       "<Figure size 640x480 with 1 Axes>"
      ]
     },
     "metadata": {},
     "output_type": "display_data"
    }
   ],
   "source": [
    "import matplotlib as mpl\n",
    "import matplotlib.pyplot as plt\n",
    "\n",
    "fig, ax = plt.subplots()\n",
    "\n",
    "ax.plot(ns, times)"
   ]
  },
  {
   "cell_type": "code",
   "execution_count": 3,
   "id": "f405b9e4-b610-45e5-84f7-660b63e5ccb1",
   "metadata": {
    "tags": []
   },
   "outputs": [
    {
     "data": {
      "text/plain": [
       "14930352"
      ]
     },
     "execution_count": 3,
     "metadata": {},
     "output_type": "execute_result"
    }
   ],
   "source": [
    "calc_recursive_fib(36)"
   ]
  },
  {
   "cell_type": "code",
   "execution_count": 45,
   "id": "665fff7b-807e-400d-9972-4a71a82c24ad",
   "metadata": {
    "tags": []
   },
   "outputs": [],
   "source": [
    "# alternatief: via een loop...\n",
    "def fib_loop(n):\n",
    "    fib_1 = 1\n",
    "    fib_2 = 1\n",
    "    for i in range(3, n+1):\n",
    "        fib_1, fib_2 = fib_2, fib_1 + fib_2\n",
    "    return fib_2"
   ]
  },
  {
   "cell_type": "code",
   "execution_count": 46,
   "id": "5681b3f5-93a5-4389-879f-7576b5b88445",
   "metadata": {
    "tags": []
   },
   "outputs": [
    {
     "data": {
      "text/plain": [
       "354224848179261915075"
      ]
     },
     "execution_count": 46,
     "metadata": {},
     "output_type": "execute_result"
    }
   ],
   "source": [
    "fib_loop(100)"
   ]
  },
  {
   "cell_type": "markdown",
   "id": "d04257fc-4e07-44dd-abc5-f847ee6d2c52",
   "metadata": {},
   "source": [
    "### Wanneer gebruik je recursie\n",
    "De iteratieve implementatie van de faculteit is zeer te prefereren boven de recursieve.\n",
    "De reden blijkt uit de beschrijving van de aanroepen hierboven. Je ziet bijvoorbeeld dat voordat de aanroep faculteit ( 1 ) wordt gemaakt, er al vier aanroepen van faculteit () in het geheugen van de computer staan. Python kan hierdoor gebrek aan (stack) geheugen kunnen krijgen, of heel, heel erg traag worden.\n",
    "\n",
    "Daartegenover staat dat een iteratieve implementatie van de faculteit slechts twee variabe-\n",
    "len in het geheugen hoeft te houden. Dat is snel en geeft geen gevaar dat de computer\n",
    "vastloopt. Je moet alleen recursieve implementaties bouwen als:\n",
    "• recursie de meest natuurlijke manier is om de oplossing te implementeren; en\n",
    "• het recursieve proces gegarandeerd niet te diep gaat.  \n",
    "\n",
    "Iedere recursieve functie kan ook als een iteratief proces gebouwd worden. Zo nu en dan\n",
    "kom je echter een probleem tegen waarvoor de recursieve oplossing veel eleganter, lees-\n",
    "baarder, en onderhoudbaarder is dan de iteratieve variant. In dat geval moet je overwegen\n",
    "een recursieve oplossing te implementeren."
   ]
  }
 ],
 "metadata": {
  "kernelspec": {
   "display_name": "Python 3 (ipykernel)",
   "language": "python",
   "name": "python3"
  },
  "language_info": {
   "codemirror_mode": {
    "name": "ipython",
    "version": 3
   },
   "file_extension": ".py",
   "mimetype": "text/x-python",
   "name": "python",
   "nbconvert_exporter": "python",
   "pygments_lexer": "ipython3",
   "version": "3.11.6"
  }
 },
 "nbformat": 4,
 "nbformat_minor": 5
}
