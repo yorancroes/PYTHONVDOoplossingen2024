{
 "cells": [
  {
   "cell_type": "markdown",
   "id": "d83f83ee-ffc6-4cd7-a0a5-ca2d63bfe823",
   "metadata": {},
   "source": [
    "![alt text](../../pythonexposed-high-resolution-logo-black.jpg \"Optionele titel\")"
   ]
  },
  {
   "cell_type": "markdown",
   "id": "fd599d1f-4831-4e2e-b429-d9cebd928769",
   "metadata": {},
   "source": [
    "## Oefening 1: \n",
    "In data science gebruiken we vaak grote datasets.  Vaak worden die in batches ingelezen en gepresenteerd aan het model om te trainen - indien we alles in 1 keer zouden aanbieden zou onze PC crashen.  Daarom zijn iterators en generators handig: we kunnen de pipeline 'voeden' met een deel van de data, en dit verwerken.  \n",
    "\n",
    "Stel je een dataset ('DATA/large_dataset.txt') voor met 20 lijntjes, die we in 4 'batches' van 5 lijen willen verwerken. \n",
    "\n",
    "Schrijf een Generator om batches in te lezen, en implementeer vervolgens ook een Iterator class met gelijkaardige functionaliteit.\n",
    "\n",
    "Tip: voeg eens een lijntje toe aan large_dataset.txt.  Krijg je dit ook te zien?"
   ]
  },
  {
   "cell_type": "code",
   "execution_count": 40,
   "id": "4571d20e-d793-4b5a-bbf8-686fec353a4c",
   "metadata": {},
   "outputs": [],
   "source": [
    "# Oplossing met een generator"
   ]
  },
  {
   "cell_type": "code",
   "execution_count": 57,
   "id": "fd1c74b3-386f-4624-9e1e-76e015f4dff9",
   "metadata": {},
   "outputs": [],
   "source": [
    "def read_file_in_batches(file_path, batch_size):\n",
    "    pass"
   ]
  },
  {
   "cell_type": "code",
   "execution_count": 45,
   "id": "aab3cf0c-bf0a-43de-9bbd-b9aecd5779d2",
   "metadata": {},
   "outputs": [],
   "source": [
    "batch_of_data = read_file_in_batches('DATA/large_dataset.txt', 5)"
   ]
  },
  {
   "cell_type": "code",
   "execution_count": 58,
   "id": "9a6e8f3a-1241-4d08-9953-5ea15003e3c8",
   "metadata": {},
   "outputs": [],
   "source": [
    "# gebruik"
   ]
  },
  {
   "cell_type": "code",
   "execution_count": 37,
   "id": "ee76fd5b-09ed-4ee4-ac70-b94780853dcb",
   "metadata": {},
   "outputs": [],
   "source": [
    "# Oplossing met een Iterator class"
   ]
  },
  {
   "cell_type": "code",
   "execution_count": 59,
   "id": "99dc0a1c-6499-41ef-923e-0007e9d9a0d4",
   "metadata": {},
   "outputs": [],
   "source": [
    "class FileBatchReader:\n",
    "    pass"
   ]
  },
  {
   "cell_type": "code",
   "execution_count": 60,
   "id": "0a36376a-5d7c-49d1-909b-ffc40aca46b1",
   "metadata": {},
   "outputs": [],
   "source": [
    "# gebruik"
   ]
  },
  {
   "cell_type": "markdown",
   "id": "96d9bff4-c878-4b89-85b7-0f82a0099f74",
   "metadata": {},
   "source": [
    "## Oefening 2: \n",
    "Genormaliseerde Batch Generator  \n",
    "\n",
    "Maak een iterator-klasse genaamd BatchNormalizer die een dataset (een lijst van lijsten met numerieke waarden) in batches verdeelt en deze batch per batch normaliseert. Normalisatie houdt in dat je van elke waarde in de batch het minimum aftrekt en deelt door het bereik (max - min).  \n",
    "\n",
    "Vereisten:  \n",
    "\n",
    "- De iterator moet batches van een opgegeven grootte teruggeven.\n",
    "- Indien de dataset niet exact kan worden verdeeld, bevat de laatste batch de resterende elementen.\n",
    "- Normalisatie gebeurt per batch, niet over de hele dataset."
   ]
  },
  {
   "cell_type": "raw",
   "id": "3376e71e-bf8a-4be7-b27f-0f86c7240ad4",
   "metadata": {},
   "source": [
    "# Testvoorbeeld:\n",
    "\n",
    "data = [\n",
    "    [1, 2, 3],\n",
    "    [4, 5, 6],\n",
    "    [7, 8, 9],\n",
    "    [10, 11, 12]\n",
    "]\n",
    "batch_size = 2\n",
    "for batch in batch_normalizer(data, batch_size):\n",
    "    print(batch)\n",
    "\n",
    "\n",
    "# Output:\n",
    "[[0.0, 0.5, 1.0], [0.0, 0.5, 1.0]]\n",
    "[[0.0, 0.5, 1.0], [0.0, 0.5, 1.0]]"
   ]
  },
  {
   "cell_type": "code",
   "execution_count": 63,
   "id": "95ab20db-8153-402c-ab57-c880b1fc1bc2",
   "metadata": {},
   "outputs": [],
   "source": [
    "# Oplossing\n"
   ]
  },
  {
   "cell_type": "markdown",
   "id": "814c12c2-6943-4518-9866-2921f3460a3d",
   "metadata": {},
   "source": [
    "## Oefening 3:\n",
    "Moving Average Iterator  \n",
    "\n",
    "Maak een iterator-klasse genaamd MovingAverage die een numerieke tijdreeks neemt en een voortschrijdend gemiddelde berekent met een opgegeven venstergrootte.  \n",
    "\n",
    "Vereisten:  \n",
    "\n",
    "- De iterator retourneert het gemiddelde van elke schuivende vensterpositie.\n",
    "- Het venster schuift één element per keer op.\n",
    "- Het venster mag niet groter zijn dan de lengte van de tijdreeks."
   ]
  },
  {
   "cell_type": "raw",
   "id": "e84f4974-caab-4699-aacd-71f8ad85ea2a",
   "metadata": {},
   "source": [
    "# Testvoorbeeld:\n",
    "\n",
    "data = [10, 20, 30, 40, 50]\n",
    "window_size = 3\n",
    "moving_avg = MovingAverage(data, window_size)\n",
    "\n",
    "for avg in moving_avg:\n",
    "    print(avg)\n",
    "\n",
    "# Output:\n",
    "20.0\n",
    "30.0\n",
    "40.0"
   ]
  },
  {
   "cell_type": "code",
   "execution_count": 62,
   "id": "4c3416ee-e58b-42cf-80a7-ba079fba0ffd",
   "metadata": {},
   "outputs": [],
   "source": [
    "# Oplossing\n"
   ]
  },
  {
   "cell_type": "markdown",
   "id": "f1c94cb3-6bfb-4bf9-970c-4faf666d7f7b",
   "metadata": {},
   "source": [
    "## Oefening 4:  \n",
    "\n",
    "Genormaliseerde Batch Generator  \n",
    "\n",
    "Schrijf een generator-functie genaamd batch_normalizer die een dataset (een lijst van lijsten met numerieke waarden) in batches verdeelt en deze batch per batch normaliseert. Normalisatie houdt in dat je van elke waarde in de batch het minimum aftrekt en deelt door het bereik (max - min).    \n",
    "\n",
    "Vereisten:  \n",
    "\n",
    "- De generator levert batches van een opgegeven grootte.\n",
    "- Indien de dataset niet exact kan worden verdeeld, bevat de laatste batch de resterende elementen.\n",
    "- Normalisatie gebeurt per batch, niet over de hele dataset.\n",
    "\n",
    "\n",
    "Functiesignatuur:"
   ]
  },
  {
   "cell_type": "code",
   "execution_count": 64,
   "id": "233fc04d-f585-4427-a4a5-e936869f0bdc",
   "metadata": {},
   "outputs": [],
   "source": [
    "def batch_normalizer(data, batch_size):\n",
    "    # Jouw code hier\n",
    "    pass"
   ]
  },
  {
   "cell_type": "raw",
   "id": "c9165422-31e9-4d07-b22a-e60027b221b0",
   "metadata": {},
   "source": [
    "# Testvoorbeeld:\n",
    "\n",
    "data = [\n",
    "    [1, 2, 3],\n",
    "    [4, 5, 6],\n",
    "    [7, 8, 9],\n",
    "    [10, 11, 12]\n",
    "]\n",
    "batch_size = 2\n",
    "for batch in batch_normalizer(data, batch_size):\n",
    "    print(batch)\n",
    "\n",
    "\n",
    "# Output:\n",
    "[[0.0, 0.5, 1.0], [0.0, 0.5, 1.0]]\n",
    "[[0.0, 0.5, 1.0], [0.0, 0.5, 1.0]]"
   ]
  },
  {
   "cell_type": "code",
   "execution_count": 65,
   "id": "ac9f55d2-2024-4664-9360-d7a6e59ca588",
   "metadata": {},
   "outputs": [],
   "source": [
    "# Oplossing\n"
   ]
  },
  {
   "cell_type": "markdown",
   "id": "a86e99cd-edc0-48a6-afdb-9756f53a4cfb",
   "metadata": {},
   "source": [
    "## Oefening 5:  \n",
    "\n",
    "Moving Average Generator  \n",
    "\n",
    "Schrijf een generator-functie genaamd moving_average die een numerieke tijdreeks neemt en een voortschrijdend gemiddelde berekent met een opgegeven venstergrootte.  \n",
    "\n",
    "Vereisten:  \n",
    "\n",
    "- De generator levert het gemiddelde van elk schuivend venster.\n",
    "- Het venster schuift één element per keer op.\n",
    "- Het venster mag niet groter zijn dan de lengte van de tijdreeks.  \n",
    "\n",
    "    \n",
    "Functiesignatuur:  \n",
    "\n",
    "def moving_average(data, window_size):  \n",
    "        # Jouw code hier\n",
    "\n",
    "\n",
    "# Testvoorbeeld:\n",
    "data = [10, 20, 30, 40, 50]  \n",
    "window_size = 3  \n",
    "for avg in moving_average(data, window_size):  \n",
    "    print(avg)\n",
    "\n",
    "# Output:\n",
    "20.0  \n",
    "30.0  \n",
    "40.0"
   ]
  },
  {
   "cell_type": "code",
   "execution_count": null,
   "id": "32e9e95e-dd86-45bf-a062-9f40c28f0e18",
   "metadata": {},
   "outputs": [],
   "source": []
  }
 ],
 "metadata": {
  "kernelspec": {
   "display_name": "Python 3 (ipykernel)",
   "language": "python",
   "name": "python3"
  },
  "language_info": {
   "codemirror_mode": {
    "name": "ipython",
    "version": 3
   },
   "file_extension": ".py",
   "mimetype": "text/x-python",
   "name": "python",
   "nbconvert_exporter": "python",
   "pygments_lexer": "ipython3",
   "version": "3.12.7"
  }
 },
 "nbformat": 4,
 "nbformat_minor": 5
}
