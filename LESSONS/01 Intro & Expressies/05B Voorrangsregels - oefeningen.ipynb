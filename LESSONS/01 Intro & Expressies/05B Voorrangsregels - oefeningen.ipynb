{
 "cells": [
  {
   "cell_type": "markdown",
   "metadata": {
    "tags": []
   },
   "source": [
    "![alt text](../../pythonexposed-high-resolution-logo-black.jpg \"Optionele titel\")"
   ]
  },
  {
   "cell_type": "markdown",
   "metadata": {},
   "source": [
    "### Gehele deling en restwaarde"
   ]
  },
  {
   "cell_type": "markdown",
   "metadata": {},
   "source": [
    "### OEFENINGEN\n",
    "Analyseer de volgende expressie en voorspel de uitkomst. Controleer vervolgens uw antwoord door de code uit te voeren in Python. Verklaar waarom de uitkomst is zoals deze is, gebaseerd op de voorrangsregels van Python."
   ]
  },
  {
   "cell_type": "code",
   "execution_count": 3,
   "metadata": {},
   "outputs": [],
   "source": [
    "resultaat = 10 + 3 * 2 ** 2 / 4 - 5\n",
    "# Wat is de waarde van 'resultaat'?"
   ]
  },
  {
   "cell_type": "markdown",
   "metadata": {},
   "source": [
    "Bereken de waarde van de volgende expressies en verklaar de volgorde waarin de berekeningen worden uitgevoerd."
   ]
  },
  {
   "cell_type": "code",
   "execution_count": 1,
   "metadata": {},
   "outputs": [],
   "source": [
    "resultaat = 5 + 2 * 3\n",
    "# Wat is de waarde van 'resultaat'?"
   ]
  },
  {
   "cell_type": "code",
   "execution_count": 4,
   "metadata": {},
   "outputs": [],
   "source": [
    "resultaat = 4 ** 2 / 2 ** 2\n",
    "# Wat is de waarde van 'resultaat'?"
   ]
  },
  {
   "cell_type": "markdown",
   "metadata": {},
   "source": [
    "Gebruik haakjes om de voorrangsregels te veranderen en bereken de waarde van de expressie."
   ]
  },
  {
   "cell_type": "code",
   "execution_count": 5,
   "metadata": {},
   "outputs": [],
   "source": [
    "resultaat = 10 - 3 * 2 + 1\n",
    "# Wat is de waarde van 'resultaat'?\n",
    "# Plaats haakjes zodat de uitkomst 15 is."
   ]
  },
  {
   "cell_type": "markdown",
   "metadata": {},
   "source": [
    "Wat is de waarde van de volgende expressie? Leg uit waarom."
   ]
  },
  {
   "cell_type": "code",
   "execution_count": 7,
   "metadata": {},
   "outputs": [],
   "source": [
    "resultaat = 100 / 10 // 2\n",
    "# Wat is de waarde van 'resultaat'?\n",
    "# Hint: Beide operators hebben dezelfde prioriteit, maar worden van links naar rechts geëvalueerd."
   ]
  },
  {
   "cell_type": "markdown",
   "metadata": {},
   "source": [
    "Wat is de waarde van de volgende expressie? Voorspel en controleer met de Python-interpreter."
   ]
  },
  {
   "cell_type": "code",
   "execution_count": 8,
   "metadata": {},
   "outputs": [],
   "source": [
    "resultaat = 2 + 3 * 4 ** 2\n",
    "# Wat is de waarde van 'resultaat'?"
   ]
  },
  {
   "cell_type": "markdown",
   "metadata": {},
   "source": [
    "Voeg haakjes toe aan de volgende expressie om ervoor te zorgen dat de optelling eerst wordt uitgevoerd."
   ]
  },
  {
   "cell_type": "code",
   "execution_count": 10,
   "metadata": {},
   "outputs": [],
   "source": [
    "resultaat = 2 ** 2 + 3\n",
    "# Voeg haakjes toe zodat de uitkomst 32 is."
   ]
  },
  {
   "cell_type": "markdown",
   "metadata": {},
   "source": [
    "Wat is de uitkomst van de volgende expressie?"
   ]
  },
  {
   "cell_type": "code",
   "execution_count": 11,
   "metadata": {},
   "outputs": [],
   "source": [
    "resultaat = (4 + 3) * 2 ** 2\n",
    "# Wat is de waarde van 'resultaat'?"
   ]
  },
  {
   "cell_type": "markdown",
   "metadata": {},
   "source": [
    "Wat is de waarde van de volgende expressie? Let op de volgorde van vermenigvuldiging, optelling en modulo."
   ]
  },
  {
   "cell_type": "code",
   "execution_count": 12,
   "metadata": {},
   "outputs": [],
   "source": [
    "resultaat = 6 + 5 * 3 % 4\n",
    "# Wat is de waarde van 'resultaat'?"
   ]
  },
  {
   "cell_type": "markdown",
   "metadata": {},
   "source": [
    "Wat gebeurt er wanneer je de volgende expressie uitvoert? Welke operator wordt als eerste geëvalueerd?"
   ]
  },
  {
   "cell_type": "code",
   "execution_count": 14,
   "metadata": {},
   "outputs": [],
   "source": [
    "resultaat = 8 - 4 / 2 ** 2 + 1\n",
    "# Wat is de waarde van 'resultaat'?"
   ]
  },
  {
   "cell_type": "code",
   "execution_count": null,
   "metadata": {},
   "outputs": [],
   "source": []
  }
 ],
 "metadata": {
  "kernelspec": {
   "display_name": "Python 3 (ipykernel)",
   "language": "python",
   "name": "python3"
  },
  "language_info": {
   "codemirror_mode": {
    "name": "ipython",
    "version": 3
   },
   "file_extension": ".py",
   "mimetype": "text/x-python",
   "name": "python",
   "nbconvert_exporter": "python",
   "pygments_lexer": "ipython3",
   "version": "3.11.6"
  }
 },
 "nbformat": 4,
 "nbformat_minor": 4
}
