{
 "cells": [
  {
   "cell_type": "markdown",
   "id": "731101ef-e760-4010-a585-5e7b8bedfa5d",
   "metadata": {},
   "source": [
    "![alt text](../../pythonexposed-high-resolution-logo-black.jpg \"Optionele titel\")"
   ]
  },
  {
   "cell_type": "markdown",
   "id": "f86ed002-0dfc-483f-9d6f-bd2b98976f21",
   "metadata": {},
   "source": [
    "### **Oefeningen op Python Scope en Modules voor OOP**"
   ]
  },
  {
   "cell_type": "markdown",
   "id": "8676b3ac-5f10-41cc-9f12-beb0d8328fd4",
   "metadata": {},
   "source": [
    "### **Oefening 1: LEGB-regel in een Methode**\n",
    "Maak een class `Berekening` met een methode `som` die twee getallen optelt. Volg deze stappen:\n",
    "1. Definieer een lokale variabele `x` binnen de methode.\n",
    "2. Maak een andere variabele `x` op klasse-niveau.\n",
    "3. Gebruik `print` om te laten zien welke `x` wordt gebruikt in de methode.\n",
    "\n",
    "**Test:**  \n",
    "- Maak een object van `Berekening` en voer de methode `som` uit. Begrijp hoe Python kiest welke `x` wordt gebruikt (local vs. global scope)."
   ]
  },
  {
   "cell_type": "code",
   "execution_count": 1,
   "id": "c646876d-fa5f-4c8c-a2ef-6f54d70775da",
   "metadata": {},
   "outputs": [],
   "source": [
    "# oplossing"
   ]
  },
  {
   "cell_type": "markdown",
   "id": "0445061a-9485-49e9-8426-405b720e8383",
   "metadata": {},
   "source": [
    "### **Oefening 2: Gebruik van `global`**\n",
    "Maak een globale variabele `TELLER` en een class `TelMachine` met:\n",
    "1. Een methode `verhoog` die `TELLER` verhoogt met 1. Gebruik `global` om de waarde aan te passen.\n",
    "2. Een methode `toon_teller` om de huidige waarde van `TELLER` af te drukken.\n",
    "\n",
    "**Test:**  \n",
    "- Roep meerdere keren `verhoog` aan en controleer de waarde van `TELLER` met `toon_teller`."
   ]
  },
  {
   "cell_type": "code",
   "execution_count": 2,
   "id": "84eb9ac3-5e6e-47bb-b136-b6270fd08322",
   "metadata": {},
   "outputs": [],
   "source": [
    "# oplossing"
   ]
  },
  {
   "cell_type": "markdown",
   "id": "89f746fa-cae1-4a90-958b-6f26e9ab9cad",
   "metadata": {},
   "source": [
    "### **Oefening 3: Modules Importeren**\n",
    "Maak twee Python-bestanden:\n",
    "1. `personen.py`: Maak een class `Persoon` met een attribuut `naam` en een methode `zeg_hallo`.\n",
    "2. `main.py`: Importeer de class `Persoon` en maak een object om de methode `zeg_hallo` te testen.\n",
    "\n",
    "**Test:**  \n",
    "- Controleer of je de class `Persoon` correct kunt importeren en gebruiken in `main.py`."
   ]
  },
  {
   "cell_type": "code",
   "execution_count": 3,
   "id": "897d700e-ef17-41ff-a7c7-319c0badec76",
   "metadata": {},
   "outputs": [],
   "source": [
    "# oplossing\n"
   ]
  },
  {
   "cell_type": "code",
   "execution_count": null,
   "id": "031a72a6-de07-4ff2-a6b4-ac4036159378",
   "metadata": {},
   "outputs": [],
   "source": []
  }
 ],
 "metadata": {
  "kernelspec": {
   "display_name": "Python 3 (ipykernel)",
   "language": "python",
   "name": "python3"
  },
  "language_info": {
   "codemirror_mode": {
    "name": "ipython",
    "version": 3
   },
   "file_extension": ".py",
   "mimetype": "text/x-python",
   "name": "python",
   "nbconvert_exporter": "python",
   "pygments_lexer": "ipython3",
   "version": "3.12.7"
  }
 },
 "nbformat": 4,
 "nbformat_minor": 5
}
