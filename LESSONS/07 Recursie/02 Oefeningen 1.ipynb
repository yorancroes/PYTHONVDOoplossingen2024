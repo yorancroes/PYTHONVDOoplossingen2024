{
 "cells": [
  {
   "cell_type": "markdown",
   "id": "8fd220f4-2791-46b3-a8c5-13973f598362",
   "metadata": {
    "tags": []
   },
   "source": [
    "![alt text](../../pythonexposed-high-resolution-logo-black.jpg \"Optionele titel\")"
   ]
  },
  {
   "cell_type": "markdown",
   "id": "d3bbdcd7-46c7-43cb-96c1-9656f3b29dff",
   "metadata": {},
   "source": [
    "#### Oefeningen\n",
    "- Om meer inzicht te krijgen in hoe recursie werkt: pas de Fibonacci functie aan door er een diepte-parameter aan toe te voegen, die start met nul en die met 1 verhoogd wordt iedere keer dat een diepere versie van de functie wordt aangeroepen. Bij binnenkomst van de functie druk je het nummer af waarmee de functie wordt aangeroepen, en als er een waarde wordt geretourneerd, druk je ook die waarde af. Gebruik de diepte parameter om de afgedrukte waardes in te springen. Bestudeer de output.\n",
    "- De grootste gemene deler is het grootste gehele getal dat twee andere getallen kan delen zonder dat er een rest overblijft. Bijvoorbeeld, de grootste gemene deler van 14 en 21 is 7, omdat 7 het grootste getal is waardoor je 14 en 21 beide kunt delen. Euclides’ algoritme om de grootste gemene deler te bepalen zegt dat als je de grootste kunt delen door de kleinste, dan is het de kleinste. Anders is het de uitkomst van het bepalen van de grootste gemene deler van de kleinste en de rest die overblijft als je de grootste deelt door de kleinste. Dit is een recursieve definitie. Implementeer Euclides’ algoritme in een recursieve functie. Hint: testen of twee getallen door elkaar gedeeld kunnen worden, en het berekenen van een rest, kunnen beide gedaan worden met de modulo operator. Deze code kan heel erg kort zijn."
   ]
  },
  {
   "cell_type": "code",
   "execution_count": 1,
   "id": "3143cc09-b970-4ac2-9dc2-96980fe92324",
   "metadata": {
    "tags": []
   },
   "outputs": [],
   "source": [
    "# Oefening 1\n"
   ]
  },
  {
   "cell_type": "code",
   "execution_count": 2,
   "id": "55781d29-8b96-4ef2-802d-7cc256c2570f",
   "metadata": {
    "tags": []
   },
   "outputs": [],
   "source": [
    "# GGD\n"
   ]
  },
  {
   "cell_type": "code",
   "execution_count": null,
   "id": "c65a9397-45da-412b-a5c0-4fb05200b912",
   "metadata": {},
   "outputs": [],
   "source": []
  }
 ],
 "metadata": {
  "kernelspec": {
   "display_name": "Python 3 (ipykernel)",
   "language": "python",
   "name": "python3"
  },
  "language_info": {
   "codemirror_mode": {
    "name": "ipython",
    "version": 3
   },
   "file_extension": ".py",
   "mimetype": "text/x-python",
   "name": "python",
   "nbconvert_exporter": "python",
   "pygments_lexer": "ipython3",
   "version": "3.11.6"
  }
 },
 "nbformat": 4,
 "nbformat_minor": 5
}
