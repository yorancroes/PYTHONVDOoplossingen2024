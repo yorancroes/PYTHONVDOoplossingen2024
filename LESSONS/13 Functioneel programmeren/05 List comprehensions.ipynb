{
 "cells": [
  {
   "cell_type": "markdown",
   "id": "09195eb5-5eeb-44b7-a0f1-a7c078716b00",
   "metadata": {},
   "source": [
    "![alt text](../../pythonexposed-high-resolution-logo-black.jpg \"Optionele titel\")"
   ]
  },
  {
   "cell_type": "markdown",
   "id": "939c7aec-3d8d-4fb0-beec-cb9e42a31c80",
   "metadata": {},
   "source": [
    "## **List Comprehensions in Python**\n",
    "\n",
    "List comprehensions zijn een korte en krachtige manier om nieuwe lijsten te maken in Python. In plaats van bijvoorbeeld een for-lus en `.append()` te gebruiken, kun je een lijst in één regel samenstellen. Dit leidt tot leesbare en vaak efficiëntere code.\n",
    "\n",
    "**Algemene vorm:**\n",
    "\n",
    "```python\n",
    "# nieuwe_lijst = [uitdrukking for element in iteratiebron]\n",
    "```\n",
    "\n",
    "- *uitdrukking*: De bewerking die je op elk element wilt toepassen  \n",
    "- *element*: De naam die je geeft aan elk item uit de iteratiebron  \n",
    "- *iteratiebron*: Een iterable, bijvoorbeeld een lijst of `range()`\n",
    "\n",
    "**Basisvoorbeeld:**\n",
    "\n",
    "```python\n",
    "getallen = [1, 2, 3, 4, 5]\n",
    "vermenigvuldigd = [x * 2 for x in getallen]\n",
    "print(vermenigvuldigd)  # Output: [2, 4, 6, 8, 10]\n",
    "```\n",
    "\n",
    "Hier vermenigvuldig je elk getal in één regel met 2."
   ]
  },
  {
   "cell_type": "markdown",
   "id": "64a5abbd-0344-40cb-a2b7-b9366578682f",
   "metadata": {},
   "source": [
    "**Filteren met een conditie:**\n",
    "\n",
    "```python\n",
    "getallen = [1, 2, 3, 4, 5, 6]\n",
    "even_getallen = [x for x in getallen if x % 2 == 0]\n",
    "print(even_getallen)  # Output: [2, 4, 6]\n",
    "```\n",
    "\n",
    "Je voegt een `if` toe om alleen die elementen te selecteren die aan de voorwaarde voldoen.\n",
    "\n",
    "**If-Else binnen de uitdrukking:**\n",
    "\n",
    "```python\n",
    "getallen = [1, 2, 3, 4, 5]\n",
    "omschreven = [\"even\" if x % 2 == 0 else \"oneven\" for x in getallen]\n",
    "print(omschreven)  # Output: [\"oneven\", \"even\", \"oneven\", \"even\", \"oneven\"]\n",
    "```\n",
    "\n",
    "De `if-else` staat vóór de `for` in de list comprehension als je de waarde zelf wil aanpassen."
   ]
  },
  {
   "cell_type": "markdown",
   "id": "bd56d453-5952-448f-b999-0b8d372a5645",
   "metadata": {},
   "source": [
    "**Geneste lus (nested loops):**\n",
    "\n",
    "```python\n",
    "letters = ['a', 'b', 'c']\n",
    "cijfers = [1, 2, 3]\n",
    "paren = [(letter, cijfer) for letter in letters for cijfer in cijfers]\n",
    "print(paren)\n",
    "# Output: [('a', 1), ('a', 2), ('a', 3), ('b', 1), ('b', 2), ('b', 3), ('c', 1), ('c', 2), ('c', 3)]\n",
    "```\n",
    "\n",
    "Meerdere for-lussen kunnen achter elkaar in één list comprehension worden geplaatst."
   ]
  },
  {
   "cell_type": "markdown",
   "id": "5e4a2c58-783e-46b6-9d1d-b00c8f498950",
   "metadata": {},
   "source": [
    "**Combineren met string-methodes:**\n",
    "\n",
    "```python\n",
    "zinnen = [\"  Hallo\", \"Python  \", \"  is leuk! \"]\n",
    "opgeschoond = [zin.strip().lower() for zin in zinnen]\n",
    "print(opgeschoond)  # Output: [\"hallo\", \"python\", \"is leuk!\"]\n",
    "```\n",
    "\n",
    "Hier pas je meerdere bewerkingen toe op elk element, in één regel."
   ]
  },
  {
   "cell_type": "markdown",
   "id": "ae921df8-297f-46fe-8bb8-8a37b14b225f",
   "metadata": {},
   "source": [
    "**Samenvatting:**\n",
    "\n",
    "- List comprehensions maken je code korter, leesbaarder en vaak efficiënter.\n",
    "- Je kunt eenvoudig filters toevoegen (`if`) en waarden transformeren.\n",
    "- Meerdere for-lussen en if-else constructies zijn mogelijk.\n",
    "\n",
    "Kortom: List comprehensions zijn een krachtige Python-techniek om lijsten te maken op een pythonische manier."
   ]
  }
 ],
 "metadata": {
  "kernelspec": {
   "display_name": "Python 3 (ipykernel)",
   "language": "python",
   "name": "python3"
  },
  "language_info": {
   "codemirror_mode": {
    "name": "ipython",
    "version": 3
   },
   "file_extension": ".py",
   "mimetype": "text/x-python",
   "name": "python",
   "nbconvert_exporter": "python",
   "pygments_lexer": "ipython3",
   "version": "3.12.7"
  }
 },
 "nbformat": 4,
 "nbformat_minor": 5
}
