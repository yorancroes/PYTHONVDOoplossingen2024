{
 "cells": [
  {
   "cell_type": "markdown",
   "metadata": {
    "tags": []
   },
   "source": [
    "![alt text](../../pythonexposed-high-resolution-logo-black.jpg \"Optionele titel\")"
   ]
  },
  {
   "cell_type": "markdown",
   "metadata": {},
   "source": [
    "### Booleaanse operatoren"
   ]
  },
  {
   "cell_type": "markdown",
   "metadata": {
    "tags": []
   },
   "source": [
    "Python ondersteunt de gebruikelijke boolean operatoren: `and`, `or`, en `not`. Deze operatoren worden gebruikt om boolean expressies te combineren en te manipuleren."
   ]
  },
  {
   "cell_type": "markdown",
   "metadata": {},
   "source": [
    "We hebben slechts twee Booleaanse waarden - `True` en `False`."
   ]
  },
  {
   "cell_type": "code",
   "execution_count": null,
   "metadata": {
    "tags": []
   },
   "outputs": [
    {
     "name": "stdout",
     "output_type": "stream",
     "text": [
      "False\n",
      "True\n",
      "False\n"
     ]
    }
   ],
   "source": [
    "# Voorbeelden van boolean operatoren\n",
    "a = True\n",
    "b = False\n",
    "\n",
    "print(a and b)  # Resultaat is False\n",
    "print(a or b)   # Resultaat is True\n",
    "print(not a)    # Resultaat is False"
   ]
  },
  {
   "cell_type": "markdown",
   "metadata": {},
   "source": [
    "`not` is heel eenvoudig - het keert eenvoudigweg de waarheidswaarde om:"
   ]
  },
  {
   "cell_type": "code",
   "execution_count": null,
   "metadata": {},
   "outputs": [
    {
     "data": {
      "text/plain": [
       "False"
      ]
     },
     "execution_count": 1,
     "metadata": {},
     "output_type": "execute_result"
    }
   ],
   "source": [
    "not True"
   ]
  },
  {
   "cell_type": "code",
   "execution_count": null,
   "metadata": {},
   "outputs": [
    {
     "data": {
      "text/plain": [
       "True"
      ]
     },
     "execution_count": 2,
     "metadata": {},
     "output_type": "execute_result"
    }
   ],
   "source": [
    "not False"
   ]
  },
  {
   "cell_type": "markdown",
   "metadata": {},
   "source": [
    "De `and` en `or` operatoren werken als volgt:"
   ]
  },
  {
   "cell_type": "code",
   "execution_count": null,
   "metadata": {
    "tags": []
   },
   "outputs": [
    {
     "name": "stdout",
     "output_type": "stream",
     "text": [
      "True\n",
      "False\n",
      "False\n",
      "False\n"
     ]
    }
   ],
   "source": [
    "print(True and True)\n",
    "print(True and False)\n",
    "print(False and True)\n",
    "print(False and False)"
   ]
  },
  {
   "cell_type": "code",
   "execution_count": null,
   "metadata": {
    "tags": []
   },
   "outputs": [
    {
     "name": "stdout",
     "output_type": "stream",
     "text": [
      "True\n",
      "True\n",
      "True\n",
      "False\n"
     ]
    }
   ],
   "source": [
    "print(True or True)\n",
    "print(True or False)\n",
    "print(False or True)\n",
    "print(False or False)"
   ]
  },
  {
   "cell_type": "markdown",
   "metadata": {},
   "source": [
    "De primaire toepassing van booleaanse operatoren is in combinatie met vergelijkingsoperatoren:"
   ]
  },
  {
   "cell_type": "code",
   "execution_count": 2,
   "metadata": {
    "tags": []
   },
   "outputs": [],
   "source": [
    "balans = 1000.00\n",
    "opvraging = 50.00\n",
    "opvraging_limiet = 500.00"
   ]
  },
  {
   "cell_type": "code",
   "execution_count": 3,
   "metadata": {
    "tags": []
   },
   "outputs": [
    {
     "data": {
      "text/plain": [
       "True"
      ]
     },
     "execution_count": 3,
     "metadata": {},
     "output_type": "execute_result"
    }
   ],
   "source": [
    "(opvraging < opvraging_limiet) and (opvraging <= balans)"
   ]
  },
  {
   "cell_type": "markdown",
   "metadata": {},
   "source": [
    "Python zal bepaalde expressies evalueren door 'kortsluiting' (short circuiting).  \n",
    "\"Short circuiting\" in de context van Booleaanse expressies in Python verwijst naar het proces waarbij de evaluatie van een logische uitdrukking stopt zodra het resultaat vaststaat, zonder dat de rest van de uitdrukking wordt geëvalueerd. Dit mechanisme wordt gebruikt om rekenkundige efficiëntie te verbeteren en onnodige berekeningen te vermijden. Python maakt gebruik van short circuiting met de logische operatoren and en or.  \n",
    "\n",
    "**Short Circuiting met and**  \n",
    "\n",
    "Bij het gebruik van de and operator: als de eerste operand (het deel aan de linkerkant van and) False evalueert, dan weet Python dat de hele uitdrukking niet waar kan zijn, ongeacht de waarde van de tweede operand (het deel aan de rechterkant van and). In dit geval retourneert Python onmiddellijk de waarde van de eerste operand zonder de tweede operand te evalueren.  "
   ]
  },
  {
   "cell_type": "code",
   "execution_count": 2,
   "metadata": {
    "tags": []
   },
   "outputs": [
    {
     "name": "stdout",
     "output_type": "stream",
     "text": [
      "Evaluatie: False\n",
      "False\n"
     ]
    }
   ],
   "source": [
    "# Voorbeeld van short circuiting met and\n",
    "def test_and(x):\n",
    "    print(\"Evaluatie:\", x)\n",
    "    return x\n",
    "\n",
    "print(test_and(False) and test_and(True))  # Stopt na het evalueren van False"
   ]
  },
  {
   "cell_type": "markdown",
   "metadata": {},
   "source": [
    "**Short Circuiting met or**  \n",
    "Bij het gebruik van de or operator, als de eerste operand True evalueert, dan weet Python dat de hele uitdrukking waar moet zijn, ongeacht de waarde van de tweede operand. In dit geval retourneert Python onmiddellijk de waarde van de eerste operand zonder de tweede operand te evalueren."
   ]
  },
  {
   "cell_type": "code",
   "execution_count": 2,
   "metadata": {
    "tags": []
   },
   "outputs": [
    {
     "name": "stdout",
     "output_type": "stream",
     "text": [
      "Evaluatie: True\n",
      "True\n"
     ]
    }
   ],
   "source": [
    "# Voorbeeld van short circuiting met or\n",
    "def test_or(x):\n",
    "    print(\"Evaluatie:\", x)\n",
    "    return x\n",
    "\n",
    "print(test_or(True) or test_or(False))  # Stopt na het evalueren van True"
   ]
  },
  {
   "cell_type": "markdown",
   "metadata": {},
   "source": [
    "**Praktische toepassing van Short Circuiting**  \n",
    "Bijvoorbeeld: we willen controleren of een bepaalde verhouding groter is dan `1`:"
   ]
  },
  {
   "cell_type": "code",
   "execution_count": null,
   "metadata": {},
   "outputs": [],
   "source": [
    "a = 20\n",
    "b = 10"
   ]
  },
  {
   "cell_type": "code",
   "execution_count": null,
   "metadata": {},
   "outputs": [
    {
     "data": {
      "text/plain": [
       "True"
      ]
     },
     "execution_count": 8,
     "metadata": {},
     "output_type": "execute_result"
    }
   ],
   "source": [
    "a / b > 1"
   ]
  },
  {
   "cell_type": "markdown",
   "metadata": {},
   "source": [
    "Maar wat gebeurt er als `b` toevallig nul is:"
   ]
  },
  {
   "cell_type": "code",
   "execution_count": 11,
   "metadata": {},
   "outputs": [],
   "source": [
    "a = 20\n",
    "b = 0"
   ]
  },
  {
   "cell_type": "code",
   "execution_count": 5,
   "metadata": {},
   "outputs": [
    {
     "ename": "ZeroDivisionError",
     "evalue": "division by zero",
     "output_type": "error",
     "traceback": [
      "\u001b[0;31m---------------------------------------------------------------------------\u001b[0m",
      "\u001b[0;31mZeroDivisionError\u001b[0m                         Traceback (most recent call last)",
      "Cell \u001b[0;32mIn[5], line 1\u001b[0m\n\u001b[0;32m----> 1\u001b[0m \u001b[43ma\u001b[49m\u001b[43m \u001b[49m\u001b[38;5;241;43m/\u001b[39;49m\u001b[43m \u001b[49m\u001b[43mb\u001b[49m \u001b[38;5;241m>\u001b[39m \u001b[38;5;241m1\u001b[39m\n",
      "\u001b[0;31mZeroDivisionError\u001b[0m: division by zero"
     ]
    }
   ],
   "source": [
    "a / b > 1"
   ]
  },
  {
   "cell_type": "markdown",
   "metadata": {},
   "source": [
    "We krijgen een 'ZeroDivisionError'-uitzondering."
   ]
  },
  {
   "cell_type": "markdown",
   "metadata": {},
   "source": [
    "Een manier om daartegen te beveiligen is door te eisen dat `b` niet nul is naast de voorwaarde dat de ratio groter is dan `1` om een `True` resultaat te verkrijgen:"
   ]
  },
  {
   "cell_type": "code",
   "execution_count": 14,
   "metadata": {},
   "outputs": [
    {
     "data": {
      "text/plain": [
       "False"
      ]
     },
     "execution_count": 14,
     "metadata": {},
     "output_type": "execute_result"
    }
   ],
   "source": [
    "b != 0 and a / b > 1"
   ]
  },
  {
   "cell_type": "markdown",
   "metadata": {},
   "source": [
    "Je zult zien dat `a / b` geen fout heeft veroorzaakt!"
   ]
  },
  {
   "cell_type": "markdown",
   "metadata": {},
   "source": [
    "Dat komt doordat Python het nooit hoefde te berekenen omdat `b != 0` `False` was. Er was geen noodzaak voor Python om het tweede deel van de expressie te evalueren - het gaf meteen `False` terug omdat `False and any_boolean` altijd `False` zal zijn."
   ]
  },
  {
   "cell_type": "markdown",
   "metadata": {},
   "source": [
    "En natuurlijk werkt het nog steeds zoals verwacht wanneer `b` niet nul is:"
   ]
  },
  {
   "cell_type": "code",
   "execution_count": 6,
   "metadata": {
    "tags": []
   },
   "outputs": [
    {
     "name": "stdout",
     "output_type": "stream",
     "text": [
      "True\n"
     ]
    }
   ],
   "source": [
    "a = 20\n",
    "b = 10\n",
    "print(b != 0 and a / b > 1)"
   ]
  },
  {
   "cell_type": "markdown",
   "metadata": {},
   "source": [
    "#### Boolean Expressies\n",
    "\n",
    "Boolean expressies evalueren tot `True` of `False` en zijn de basis van conditionele statements in Python."
   ]
  },
  {
   "cell_type": "code",
   "execution_count": null,
   "metadata": {
    "tags": []
   },
   "outputs": [
    {
     "name": "stdout",
     "output_type": "stream",
     "text": [
      "Is volwassen: True\n"
     ]
    }
   ],
   "source": [
    "# Voorbeeld van een boolean expressie\n",
    "leeftijd = 20\n",
    "is_volwassen = leeftijd >= 18\n",
    "print(\"Is volwassen:\", is_volwassen)"
   ]
  },
  {
   "cell_type": "markdown",
   "metadata": {
    "tags": []
   },
   "source": [
    "#### Conditionele Statements\n",
    "\n",
    "Python gebruikt `if`, `elif`, en `else` statements voor conditionele logica."
   ]
  },
  {
   "cell_type": "code",
   "execution_count": null,
   "metadata": {
    "tags": []
   },
   "outputs": [
    {
     "name": "stdout",
     "output_type": "stream",
     "text": [
      "Volwassen\n"
     ]
    }
   ],
   "source": [
    "# Voorbeeld van conditionele statements\n",
    "leeftijd = 20\n",
    "if leeftijd < 18:\n",
    "    print(\"Minderjarig\")\n",
    "elif leeftijd >= 18:\n",
    "    print(\"Volwassen\")\n",
    "else:\n",
    "    print(\"Onmogelijk\")"
   ]
  },
  {
   "cell_type": "markdown",
   "metadata": {},
   "source": [
    "#### Vroegtijdig Afsluiten\n",
    "\n",
    "Een 'early exit' uit een functie of loop kan bereikt worden met `return` in functies of `break` in loops."
   ]
  },
  {
   "cell_type": "code",
   "execution_count": 17,
   "metadata": {
    "tags": []
   },
   "outputs": [
    {
     "name": "stdout",
     "output_type": "stream",
     "text": [
      "Negatief getal, vroegtijdig afsluiten.\n",
      "Positief getal of nul.\n"
     ]
    }
   ],
   "source": [
    "# Voorbeeld van een early exit\n",
    "def check_getal(getal):\n",
    "    if getal < 0:\n",
    "        print(\"Negatief getal, vroegtijdig afsluiten.\")\n",
    "        return\n",
    "    print(\"Positief getal of nul.\")\n",
    "    \n",
    "check_getal(-5)\n",
    "check_getal(5)"
   ]
  },
  {
   "cell_type": "code",
   "execution_count": null,
   "metadata": {},
   "outputs": [],
   "source": []
  }
 ],
 "metadata": {
  "kernelspec": {
   "display_name": "Python 3 (ipykernel)",
   "language": "python",
   "name": "python3"
  },
  "language_info": {
   "codemirror_mode": {
    "name": "ipython",
    "version": 3
   },
   "file_extension": ".py",
   "mimetype": "text/x-python",
   "name": "python",
   "nbconvert_exporter": "python",
   "pygments_lexer": "ipython3",
   "version": "3.11.6"
  }
 },
 "nbformat": 4,
 "nbformat_minor": 4
}
