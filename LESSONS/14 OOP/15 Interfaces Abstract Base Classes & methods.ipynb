{
 "cells": [
  {
   "cell_type": "markdown",
   "id": "e0cc5d3d-08b6-4c1f-b9a2-303414a67642",
   "metadata": {
    "slideshow": {
     "slide_type": "slide"
    }
   },
   "source": [
    "![alt text](../../pythonexposed-high-resolution-logo-black.jpg \"Optionele titel\")"
   ]
  },
  {
   "cell_type": "markdown",
   "id": "830d635d-ef24-47f0-b680-c9f0b559687d",
   "metadata": {
    "slideshow": {
     "slide_type": "subslide"
    }
   },
   "source": [
    "# Interfaces"
   ]
  },
  {
   "cell_type": "markdown",
   "id": "68e481a8-4a4f-4bbe-a6f3-db4ac41d0be5",
   "metadata": {
    "slideshow": {
     "slide_type": "slide"
    }
   },
   "source": [
    "- **Waarom zijn interfaces nuttig?  Een voorbeeld...**:\n",
    "\n",
    "  - We hebben twee verschillende soorten validatiefuncties voor datasets:\n",
    "    1. Een validatiefunctie voor een CSV-bestand:\n",
    "       - Controleer of de file een header bevat en of alle cellen gevuld zijn.\n",
    "    2. Een validatiefunctie voor een JSON-bestand:\n",
    "       - Controleer of de JSON een specifieke sleutel bevat (bijv. `data`) en of de waarde een lijst is.\n",
    "\n",
    "  **Codevoorbeeld (losse functies):**\n",
    "\n",
    "  ```python\n",
    "  def validate_csv(file_path):\n",
    "      # Pseudo-code voor CSV-validatie\n",
    "      print(\"Validating CSV...\")\n",
    "      return True\n",
    "\n",
    "  def validate_json(file_path):\n",
    "      # Pseudo-code voor JSON-validatie\n",
    "      print(\"Validating JSON...\")\n",
    "      return True\n",
    "  ```"
   ]
  },
  {
   "cell_type": "markdown",
   "id": "bf292525-3767-429f-9c46-bbb045122036",
   "metadata": {
    "slideshow": {
     "slide_type": "slide"
    }
   },
   "source": [
    "#### **Gebruik beide functies in een workflow**\n",
    "\n",
    "- **Gebruik:**\n",
    "\n",
    "  - Schrijf een functie `validate_files(file_paths)` die een lijst van bestanden verwerkt en ze valideert afhankelijk van hun type (CSV of JSON).\n",
    "\n",
    "  **Codevoorbeeld:**\n",
    "\n",
    "  ```python\n",
    "  def validate_files(file_paths):\n",
    "      for file_path in file_paths:\n",
    "          if file_path.endswith(\".csv\"):\n",
    "              validate_csv(file_path)\n",
    "          elif file_path.endswith(\".json\"):\n",
    "              validate_json(file_path)\n",
    "          else:\n",
    "              print(f\"Unsupported file format: {file_path}\")\n",
    "  ```"
   ]
  },
  {
   "cell_type": "markdown",
   "id": "b36db6fe-935c-4db8-9101-9b297b68b4dd",
   "metadata": {
    "slideshow": {
     "slide_type": "slide"
    }
   },
   "source": [
    "- **Probleem:**\n",
    "\n",
    "  - Het toevoegen van een nieuw bestandstype (bijv. XML) vereist extra logica in `validate_files`, wat leidt tot een reeks `if`-statements en een minder flexibele structuur."
   ]
  },
  {
   "cell_type": "markdown",
   "id": "8b344b1a-79a6-4ce5-8160-328e5ce331cb",
   "metadata": {
    "slideshow": {
     "slide_type": "slide"
    }
   },
   "source": [
    "#### **Interfaces to the rescue**\n",
    "\n",
    "- **Code met interface:**\n",
    "\n",
    "  - Introduceer een `FileValidator`-interface met een methode `validate(file_path)`:\n",
    "\n",
    "  ```python\n",
    "  from abc import ABC, abstractmethod\n",
    "\n",
    "  class FileValidator(ABC):\n",
    "      @abstractmethod\n",
    "      def validate(self, file_path):\n",
    "          pass\n",
    "  ```"
   ]
  },
  {
   "cell_type": "markdown",
   "id": "e3b71403-61ab-4ed7-96b7-4cdb8f3b2767",
   "metadata": {
    "slideshow": {
     "slide_type": "slide"
    }
   },
   "source": [
    "**Intermezzo:**\n",
    "- De decorator @abstractmethod in Python, afkomstig uit de abc (Abstract Base Classes) module, wordt gebruikt om een methode in een klasse als abstract te markeren. Dit houdt in dat:\n",
    "- Geen directe instanties van de klasse kunnen worden aangemaakt: Een klasse die minstens één abstracte methode bevat, is een abstracte klasse. Je kunt niet direct een object van zo’n klasse maken; je moet eerst een subclass definiëren die alle abstracte methoden implementeert.\n",
    "- Subclassen moeten de abstracte methode implementeren: Zodra je een methode als @abstractmethod markeert, verplicht je alle niet-abstracte subclasses om die methode zelf te voorzien van een eigen implementatie. Doe je dit niet, dan is ook die subclass abstract en kun je nog steeds geen instantie ervan maken.\n",
    "- Het doel van @abstractmethod is om een duidelijk contract te definiëren voor subclasses: als je een klasse met zulke methoden erft, weet je zeker dat je bepaalde functionaliteit moet invullen, waardoor polymorfisme en consistentie in de hiërarchie van klassen bevorderd worden."
   ]
  },
  {
   "cell_type": "markdown",
   "id": "5e2d5500-f13a-43f6-9835-cbacc629b379",
   "metadata": {
    "slideshow": {
     "slide_type": "slide"
    }
   },
   "source": [
    "  - Specifieke validator-klassen voor CSV- en JSON-bestanden:\n",
    "\n",
    "  ```python\n",
    "  class CSVValidator(FileValidator):\n",
    "      def validate(self, file_path):\n",
    "          print(\"Validating CSV...\")\n",
    "          # Implementatie voor CSV-validatie\n",
    "\n",
    "  class JSONValidator(FileValidator):\n",
    "      def validate(self, file_path):\n",
    "          print(\"Validating JSON...\")\n",
    "          # Implementatie voor JSON-validatie\n",
    "  ```"
   ]
  },
  {
   "cell_type": "markdown",
   "id": "c8d67fc5-0991-48c6-86e0-582ca1a5ab91",
   "metadata": {
    "slideshow": {
     "slide_type": "slide"
    }
   },
   "source": [
    "- **Oplossing:**\n",
    "\n",
    "  - We schrijven dus een generieke `validate_files`-functie die werkt met een lijst `FileValidator`-objecten in plaats van harde bestandstypechecks:\n",
    "\n",
    "  ```python\n",
    "  def validate_files(file_paths, validators):\n",
    "      for validator in validators:\n",
    "          for file_path in file_paths:\n",
    "              validator.validate(file_path)\n",
    "  ```"
   ]
  },
  {
   "cell_type": "markdown",
   "id": "53eb1186-368c-4c1d-97bb-fd410dc36c6a",
   "metadata": {
    "slideshow": {
     "slide_type": "slide"
    }
   },
   "source": [
    "#### **Nieuwe Bestandsformaten Toevoegen**\n",
    "\n",
    "- **Uitbreiding:**\n",
    "  - Een nieuwe validator toevoegen is nu eenvoudig: vb een `XMLValidator`\n",
    "  ```python\n",
    "  class XMLValidator(FileValidator):\n",
    "      def validate(self, file_path):\n",
    "          print(\"Validating XML...\")\n",
    "          # Implementatie voor XML-validatie\n",
    "  ```\n",
    "  - De bestaande `validate_files`-functie blijft ongewijzigd; voeg de nieuwe validator gewoon toe aan de lijst."
   ]
  },
  {
   "cell_type": "markdown",
   "id": "21ae08bf-6488-4168-bcdd-5f08501f4ec5",
   "metadata": {
    "slideshow": {
     "slide_type": "slide"
    }
   },
   "source": [
    "## Wat is een Interface?\n",
    "\n",
    "- **Interface**: een blauwdruk van een klasse die:\n",
    "  - Alleen methoden en eigenschappen definieert.\n",
    "  - Geen implementaties bevat.\n",
    "  - Functioneert als een contract voor klassen die de interface implementeren.\n",
    "- **Doel**:\n",
    "  - Gedwongen implementatie van methoden in subclasses.\n",
    "  - Mogelijkheid om functies te bouwen die methoden van de interfaceklasse aanroepen."
   ]
  },
  {
   "cell_type": "markdown",
   "id": "7369bc02-31ec-447d-b686-0c2e0415a83e",
   "metadata": {
    "slideshow": {
     "slide_type": "slide"
    }
   },
   "source": [
    "## Wat is een Abstracte Klasse?  \n",
    "\n",
    "- **Abstracte Klasse**: een klasse die:\n",
    "  - Abstracte methoden definieert (zonder implementatie).\n",
    "  - Optioneel concrete methoden (met implementatie) kan bevatten.\n",
    "  - Niet direct geïnstantieerd kan worden.\n",
    "- **Doel**:\n",
    "  - Gedwongen implementatie van abstracte methoden in subclasses.\n",
    "  - Gedeelde functionaliteit en structuur bieden aan subclasses."
   ]
  },
  {
   "cell_type": "markdown",
   "id": "484a2939-5a47-4faa-8f5c-e83a1d864b63",
   "metadata": {
    "slideshow": {
     "slide_type": "slide"
    }
   },
   "source": [
    "# Dus... een Interface = een Abstracte klasse?"
   ]
  },
  {
   "cell_type": "markdown",
   "id": "3c4b5bff-98c1-4e34-86ce-33c96cde0dfc",
   "metadata": {
    "slideshow": {
     "slide_type": "subslide"
    }
   },
   "source": [
    "## Neen...\n",
    "\n",
    "| **Abstracte Klasse**                          | **Interface (gesimuleerd via abstracte klasse)**       |\n",
    "|-----------------------------------------------|-------------------------------------------------------|\n",
    "| Kan zowel abstracte als concrete methoden bevatten. | Bevat alleen abstracte methoden (indien puur interface). |\n",
    "| Kan attributen en gedeelde functionaliteit bevatten. | Heeft doorgaans geen attributen of concrete implementaties. |\n",
    "| Kan gebruikt worden om deels geïmplementeerde logica te delen. | Dient puur als contract voor methoden.                |\n",
    "| Subclasses erven standaard functionaliteit.   | Klassen die een interface implementeren doen dat expliciet. |\n",
    "\n"
   ]
  },
  {
   "cell_type": "markdown",
   "id": "29787945-24c9-46e5-9ee7-4a153bd35b5d",
   "metadata": {
    "slideshow": {
     "slide_type": "slide"
    }
   },
   "source": [
    "### Interface en Implementatie\n",
    "\n",
    "- **Onderhoudbaarheid**: Programma blijft werken wanneer andere delen van het systeem veranderen.\n",
    "- **Ontwerpprincipe**:\n",
    "  - Scheiding van interfaces en implementaties.\n",
    "  - Methoden van een klasse mogen niet afhankelijk zijn van hoe attributen worden weergegeven.\n",
    "- **Voorbeeld**:\n",
    "  - Klasse voor tijdstip van de dag.\n",
    "    - Methoden zoals `time_to_int`, `is_after`, en `add_time`.\n",
    "    - Representatie via attributen `hour`, `minute`, `second` **of** als een enkel getal (aantal seconden sinds middernacht).\n",
    "  - Met een zorgvuldig ontworpen interface kan de implementatie worden aangepast zonder de interface te veranderen.\n",
    "\n",
    "> **Belangrijk**: Door interfaces te scheiden van implementaties, kunnen details later worden aangepast zonder impact op andere onderdelen van de applicatie."
   ]
  },
  {
   "cell_type": "markdown",
   "id": "0466fda4-5cd4-459d-aa46-40f8ad1df423",
   "metadata": {
    "slideshow": {
     "slide_type": "slide"
    }
   },
   "source": [
    "## Hoe Definieer Je een Interface?\n",
    "\n",
    "- Gebruik abstracte basisklassen (Abstract Base Classes, ABCs):\n",
    "\n",
    "```python\n",
    "from abc import ABC, abstractmethod\n",
    "\n",
    "class Shape(ABC):\n",
    "    @abstractmethod\n",
    "    def draw(self):\n",
    "        pass\n",
    "\n",
    "    @abstractmethod\n",
    "    def calculate_area(self):\n",
    "        pass\n",
    "\n",
    "class Circle(Shape):\n",
    "    def __init__(self, radius):\n",
    "        self.radius = radius\n",
    "\n",
    "    def draw(self):\n",
    "        print(\"Drawing a Circle\")\n",
    "\n",
    "    def calculate_area(self):\n",
    "        return 3.14 * self.radius ** 2\n",
    "\n",
    "class Square(Shape):\n",
    "    def __init__(self, side):\n",
    "        self.side = side\n",
    "\n",
    "    def draw(self):\n",
    "        print(\"Drawing a Square\")\n",
    "\n",
    "    def calculate_area(self):\n",
    "        return self.side ** 2\n",
    "\n",
    "# Gebruik van de implementaties\n",
    "shapes = [Circle(5), Square(4)]\n",
    "for shape in shapes:\n",
    "    shape.draw()\n",
    "    print(\"Area:\", shape.calculate_area())\n",
    "```"
   ]
  },
  {
   "cell_type": "markdown",
   "id": "8c39b8e1-3c52-4b99-82d7-8cae56c97e41",
   "metadata": {
    "slideshow": {
     "slide_type": "slide"
    }
   },
   "source": [
    "## Voorbeeld: Interface voor Voertuigen\n",
    "\n",
    "- **Scenario**: Reisplanner die routes uitstippelt met verschillende vervoersmiddelen.\n",
    "  - Vereisten:\n",
    "    - Waar voertuigen aanwezig zijn.\n",
    "    - Waarheen ze kunnen reizen.\n",
    "    - Reistijd.\n",
    "    - Reismethode (bijvoorbeeld \"rijd\", \"vaar\", \"vlieg\")."
   ]
  },
  {
   "cell_type": "markdown",
   "id": "ffe2d945-ed7a-4751-ba3d-006600921ee0",
   "metadata": {
    "slideshow": {
     "slide_type": "slide"
    }
   },
   "source": [
    "### Python Voorbeeld\n",
    "\n",
    "```python\n",
    "from abc import ABC, abstractmethod\n",
    "\n",
    "class Vehicle(ABC):\n",
    "    @abstractmethod\n",
    "    def is_available_at(self, location):\n",
    "        pass\n",
    "\n",
    "    @abstractmethod\n",
    "    def can_travel_to(self, destination):\n",
    "        pass\n",
    "\n",
    "    @abstractmethod\n",
    "    def travel_time(self, start, end):\n",
    "        pass\n",
    "\n",
    "    @abstractmethod\n",
    "    def travel_mode(self):\n",
    "        pass\n",
    "```"
   ]
  },
  {
   "cell_type": "markdown",
   "id": "8426bc2a-f9f9-445c-9b0a-c3647412a639",
   "metadata": {
    "slideshow": {
     "slide_type": "slide"
    }
   },
   "source": [
    "```python\n",
    "class Car(Vehicle):\n",
    "    def is_available_at(self, location):\n",
    "        return location in [\"Amsterdam\", \"Rotterdam\"]\n",
    "\n",
    "    def can_travel_to(self, destination):\n",
    "        return destination in [\"Utrecht\", \"Den Haag\"]\n",
    "\n",
    "    def travel_time(self, start, end):\n",
    "        return 1.5  # Tijd in uren\n",
    "\n",
    "    def travel_mode(self):\n",
    "        return \"rijd\"\n",
    "```"
   ]
  },
  {
   "cell_type": "markdown",
   "id": "0e1de86c-565e-4248-9992-a28c9e612362",
   "metadata": {
    "slideshow": {
     "slide_type": "slide"
    }
   },
   "source": [
    "```python\n",
    "class Boat(Vehicle):\n",
    "    def is_available_at(self, location):\n",
    "        return location in [\"Haven Amsterdam\", \"Haven Rotterdam\"]\n",
    "\n",
    "    def can_travel_to(self, destination):\n",
    "        return destination in [\"Haven Antwerpen\"]\n",
    "\n",
    "    def travel_time(self, start, end):\n",
    "        return 3  # Tijd in uren\n",
    "\n",
    "    def travel_mode(self):\n",
    "        return \"vaar\"\n",
    "\n",
    "# Gebruik van de implementaties\n",
    "vehicles = [Car(), Boat()]\n",
    "for vehicle in vehicles:\n",
    "    print(f\"Beschikbaar in Amsterdam? {vehicle.is_available_at('Amsterdam')}\")\n",
    "    print(f\"Kan naar Antwerpen? {vehicle.can_travel_to('Haven Antwerpen')}\")\n",
    "    print(f\"Reistijd van Amsterdam naar Antwerpen: {vehicle.travel_time('Amsterdam', 'Antwerpen')} uur\")\n",
    "    print(f\"Reismethode: {vehicle.travel_mode()}\")\n",
    "```"
   ]
  },
  {
   "cell_type": "markdown",
   "id": "a83a8a41-7c25-413f-9d23-a3fa29941219",
   "metadata": {
    "slideshow": {
     "slide_type": "slide"
    }
   },
   "source": [
    "## Wat hebben we geleerd?"
   ]
  },
  {
   "cell_type": "markdown",
   "id": "5fcc2f78-ccc3-4b27-96f4-a5ae285606ee",
   "metadata": {
    "slideshow": {
     "slide_type": "slide"
    }
   },
   "source": [
    "1. Wat is een interface, en waarom is het nuttig in softwareontwikkeling?"
   ]
  },
  {
   "cell_type": "markdown",
   "id": "dfa58874-c1a2-44e8-8b21-42363cab6462",
   "metadata": {
    "slideshow": {
     "slide_type": "subslide"
    }
   },
   "source": [
    "> Een interface is een blauwdruk van een klasse die methoden definieert zonder implementatie. Een interface is dus een verzameling methoden (zonder implementatie) die een contract definieert voor welke methoden een klasse moet implementeren. Het doel is ervoor te zorgen dat alle klassen die een interface implementeren een consistente set methoden bieden.Het is nuttig omdat het losse koppeling bevordert, consistentie garandeert, en schaalbare en onderhoudbare code mogelijk maakt."
   ]
  },
  {
   "cell_type": "markdown",
   "id": "a7ae0294-1228-4624-a098-68098d8e3565",
   "metadata": {
    "slideshow": {
     "slide_type": "slide"
    }
   },
   "source": [
    "2. Wat is het verband tussen een interface en een abstracte klasse?"
   ]
  },
  {
   "cell_type": "markdown",
   "id": "b3c16540-c7ed-4ba4-bf9a-dd1434c669d1",
   "metadata": {
    "slideshow": {
     "slide_type": "subslide"
    }
   },
   "source": [
    "> Abstracte klassen in Python worden gebruikt om het gedrag van een interface te simuleren (Python biedt geen echte ondersteuning voor interfaces)"
   ]
  },
  {
   "cell_type": "markdown",
   "id": "aa6df034-55b0-4544-b817-93d1aeb80279",
   "metadata": {
    "slideshow": {
     "slide_type": "slide"
    }
   },
   "source": [
    "3. Hoe zorgt een interface voor schaalbaarheid in een applicatie?"
   ]
  },
  {
   "cell_type": "markdown",
   "id": "2c1d0927-38ee-4d25-bf42-74bc950e4d61",
   "metadata": {
    "slideshow": {
     "slide_type": "subslide"
    }
   },
   "source": [
    "> Interfaces maken het mogelijk om nieuwe functionaliteiten toe te voegen zonder bestaande code te wijzigen. Dit maakt uitbreidingen eenvoudiger en voorkomt regressies."
   ]
  },
  {
   "cell_type": "markdown",
   "id": "3907b501-9f72-4d7d-ac41-ecb3aa751243",
   "metadata": {
    "slideshow": {
     "slide_type": "slide"
    }
   },
   "source": [
    "4. Waarom is het scheiden van interfaces en implementaties een belangrijk ontwerpprincipe?"
   ]
  },
  {
   "cell_type": "markdown",
   "id": "d526c5ad-57f9-4d78-ac8f-49e1f35c7aeb",
   "metadata": {
    "slideshow": {
     "slide_type": "subslide"
    }
   },
   "source": [
    "> Het scheiden van interfaces en implementaties zorgt ervoor dat veranderingen in de implementatie geen invloed hebben op andere delen van de applicatie die de interface gebruiken."
   ]
  },
  {
   "cell_type": "markdown",
   "id": "21e2bca5-0adf-471c-95d2-5f9aa74a235a",
   "metadata": {
    "slideshow": {
     "slide_type": "slide"
    }
   },
   "source": [
    "5. Wat zijn de voordelen van het gebruik van abstracte basisklassen (ABCs) in Python?"
   ]
  },
  {
   "cell_type": "markdown",
   "id": "3ab4a75b-4c40-49ae-afcf-537dce98cb4a",
   "metadata": {
    "slideshow": {
     "slide_type": "subslide"
    }
   },
   "source": [
    "> ABCs zorgen voor een duidelijke structuur en contracten in de code. Ze maken het eenvoudig om polymorfisme te implementeren en te garanderen dat bepaalde methoden beschikbaar zijn in alle subclasses."
   ]
  },
  {
   "cell_type": "markdown",
   "id": "c852c6f9-f86b-43b7-b429-31327825dcc3",
   "metadata": {
    "slideshow": {
     "slide_type": "slide"
    }
   },
   "source": [
    "6. Hoe kun je een nieuw bestandstype (bijvoorbeeld XML) eenvoudig toevoegen in een interface-gebaseerd systeem?"
   ]
  },
  {
   "cell_type": "markdown",
   "id": "c04239ac-c6cf-4b0b-97ff-121621da04e5",
   "metadata": {
    "slideshow": {
     "slide_type": "subslide"
    }
   },
   "source": [
    "> Voeg een nieuwe klasse toe die de interface implementeert, bijvoorbeeld `XMLValidator`, zonder bestaande code zoals de `validate_files`-functie te wijzigen."
   ]
  },
  {
   "cell_type": "markdown",
   "id": "d8882a24-72fd-4e6b-b614-9ca43068fa8e",
   "metadata": {
    "slideshow": {
     "slide_type": "slide"
    }
   },
   "source": [
    "7. Wat gebeurt er als een methode niet geïmplementeerd wordt in een klasse die een interface implementeert?"
   ]
  },
  {
   "cell_type": "markdown",
   "id": "af467eac-0f66-4c31-b56f-247a226d9bca",
   "metadata": {
    "slideshow": {
     "slide_type": "subslide"
    }
   },
   "source": [
    "> In Python zal een fout optreden (TypeError) omdat de klasse niet voldoet aan de eisen van de interface. Dit voorkomt onvolledige implementaties."
   ]
  },
  {
   "cell_type": "markdown",
   "id": "c79f0f7b-d625-4d38-9d69-13f322484bd1",
   "metadata": {
    "slideshow": {
     "slide_type": "slide"
    }
   },
   "source": [
    "8. Welke problemen lost een interface-gebaseerde aanpak op in vergelijking met een aanpak gebaseerd op `if`-statements?"
   ]
  },
  {
   "cell_type": "markdown",
   "id": "97aa4408-ad07-408e-a2aa-dcf798dbbed0",
   "metadata": {
    "slideshow": {
     "slide_type": "subslide"
    }
   },
   "source": [
    "> Interfaces voorkomen lange ketens van `if`-statements, zorgen voor betere modulariteit en maken het gemakkelijker om nieuwe functionaliteiten toe te voegen zonder bestaande code te wijzigen."
   ]
  }
 ],
 "metadata": {
  "celltoolbar": "Slideshow",
  "kernelspec": {
   "display_name": "Python 3 (ipykernel)",
   "language": "python",
   "name": "python3"
  },
  "language_info": {
   "codemirror_mode": {
    "name": "ipython",
    "version": 3
   },
   "file_extension": ".py",
   "mimetype": "text/x-python",
   "name": "python",
   "nbconvert_exporter": "python",
   "pygments_lexer": "ipython3",
   "version": "3.12.7"
  }
 },
 "nbformat": 4,
 "nbformat_minor": 5
}
