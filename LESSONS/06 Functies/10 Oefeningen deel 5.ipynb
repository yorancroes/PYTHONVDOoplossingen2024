{
 "cells": [
  {
   "cell_type": "markdown",
   "id": "5181419e-f8d6-4d4c-96bd-15554a98b5a7",
   "metadata": {
    "tags": []
   },
   "source": [
    "![alt text](../../pythonexposed-high-resolution-logo-black.jpg \"Optionele titel\")"
   ]
  },
  {
   "cell_type": "markdown",
   "id": "5f2d910d-03d0-460b-b455-5dffc53db589",
   "metadata": {
    "tags": []
   },
   "source": [
    "### Functies - oefeningen"
   ]
  },
  {
   "cell_type": "markdown",
   "id": "cad4030b-9d9c-4686-9e51-5c0df8a0b79c",
   "metadata": {},
   "source": [
    "Voor deze opgave mag gebruik gemaakt worden van volgende zaken"
   ]
  },
  {
   "cell_type": "code",
   "execution_count": 1,
   "id": "dc945be6-4085-4ac2-8cb7-afd80df0b381",
   "metadata": {},
   "outputs": [],
   "source": [
    "from datetime import *\n",
    "\n",
    "# toegelaten\n",
    "#   functie today\n",
    "\n",
    "def today():\n",
    "    now = datetime.today()\n",
    "    return now.year, now.month, now.day"
   ]
  },
  {
   "cell_type": "markdown",
   "id": "7814de06-a56d-4c5d-b16e-1934649b833e",
   "metadata": {},
   "source": [
    "Gebruik van andere functies is niet nodig maar bovendien ‘verboden’! Alles wat je nodig hebt maak je in deze oefeningen zelf. Ter herinnering, het doel hier is het oefenen van functies, niet het aanleren van Python."
   ]
  },
  {
   "cell_type": "markdown",
   "id": "d0aaa027-9b5d-430c-9251-34149e8742df",
   "metadata": {},
   "source": [
    "### Opgave\n",
    "\n",
    "Later zien we nog unit tests in Python.  Hieronder staan unit testen geschreven voor de functies die jij moet schrijven."
   ]
  },
  {
   "cell_type": "code",
   "execution_count": null,
   "id": "26575039-8f27-45ff-a9a0-4a294adad0c3",
   "metadata": {},
   "outputs": [],
   "source": [
    "# Zorg ervoor dat alle import statements en de testklasse in dezelfde cel staan\n",
    "import unittest\n",
    "\n",
    "class opgavetester(unittest.TestCase):\n",
    "    def testIsLeapYear(self):\n",
    "        self.assertEqual(True , isLeapYear(2016))\n",
    "        self.assertEqual(False, isLeapYear(1997))\n",
    "        self.assertEqual(True , isLeapYear(1996))\n",
    "        self.assertEqual(False, isLeapYear(1900))\n",
    "        self.assertEqual(True, isLeapYear(2000))\n",
    "\n",
    "    def testNumberOfDaysIn(self):\n",
    "        self.assertEqual(28 , numberOfDaysIn(2017, 2))\n",
    "        self.assertEqual(29 , numberOfDaysIn(2016, 2))\n",
    "        self.assertEqual(31 , numberOfDaysIn(1996, 7))\n",
    "        self.assertEqual(365, numberOfDaysIn(1997))\n",
    "        self.assertEqual(366, numberOfDaysIn(1996))\n",
    "\n",
    "    def testNumberOfDay(self):\n",
    "        self.assertEqual(365, numberOfDay(2017, 12, 31))\n",
    "        self.assertEqual(366, numberOfDay(2016, 12, 31))\n",
    "        self.assertEqual(1, numberOfDay(2016, 1, 1))\n",
    "\n",
    "    def testDateDiffInDays(self):\n",
    "        self.assertEqual(0, dateDiffInDays(2017, 1, 1, 2017, 1, 1))\n",
    "        self.assertEqual(1, dateDiffInDays(2017, 1, 1, 2017, 1, 2))\n",
    "        self.assertEqual(-90, dateDiffInDays(2016, 3, 31, 2016, 1, 1))\n",
    "        self.assertEqual(90, dateDiffInDays(2016, 1, 1, 2016, 3, 31))\n",
    "        self.assertEqual(730, dateDiffInDays(2015, 4, 1, 2017, 3, 31))\n",
    "        self.assertEqual(-730, dateDiffInDays(2017, 3, 31, 2015, 4, 1))\n",
    "\n",
    "    def testBeforeAndAfter(self):\n",
    "        self.assertEqual(1, before(2016, 2, 29, 2016, 3, 31))\n",
    "        self.assertEqual(-1, before(2017, 3, 31, 2015, 4, 1))\n",
    "        self.assertEqual(0, before(2017, 3, 31, 2017, 3, 31))\n",
    "        self.assertEqual(-1, after(2016, 2, 29, 2016, 3, 31))\n",
    "        self.assertEqual(1, after(2017, 3, 31, 2015, 4, 1))\n",
    "        self.assertEqual(0, after(2017, 3, 31, 2017, 3, 31))\n",
    "\n",
    "    def testDate(self):\n",
    "        self.assertEqual((1901, 2, 14), date(365 + 31 + 14, 1900))\n",
    "        self.assertEqual((2016, 12, 31), date(-1, 2017))\n",
    "        self.assertEqual((2015, 3, 19), date(-654, 2017))\n",
    "\n",
    "    def testAdd(self):\n",
    "        self.assertEqual((1902, 2, 14), add(1901, 1, 1, 365 + 31 + 13))\n",
    "        self.assertEqual((2004, 11, 30), add(1999, 2, 1, 2129))\n",
    "        self.assertEqual((1999, 2, 1), add(2004, 11, 30, -2129))\n",
    "        self.assertEqual((1901, 1, 2), add(1900, 12, 30, 3))\n",
    "        self.assertEqual((1900, 12, 30), add(1901, 1, 2, -3))\n",
    "        self.assertEqual((2015, 3, 19), add(2017, 1, 1, -654))\n",
    "\n",
    "    def testBirthdayAlreadyPassedThisYear(self):\n",
    "        self.assertEqual(True, birthdayAlreadyPassedThisYear(1971, 1, 1)) #fails each jan 1st :-)\n",
    "        self.assertEqual(False, birthdayAlreadyPassedThisYear(1971, 12, 31))\n",
    "        self.assertEqual(False, birthdayAlreadyPassedThisYear(2100, 1, 1))\n",
    "\n",
    "    def testAge(self):\n",
    "        currentYear, currentMonth, currentDay = today()\n",
    "        self.assertEqual(0, age(2100, 1, 1))\n",
    "        self.assertEqual(10, age(currentYear - 10, 1, 1))\n",
    "        self.assertEqual(9, age(currentYear - 10, 12, 31))\n",
    "\n",
    "if __name__ == '__main__':\n",
    "    unittest.main(argv=['first-arg-is-ignored'], exit=False)"
   ]
  },
  {
   "cell_type": "markdown",
   "id": "276b2add-40a3-42c1-b17e-ed9e74693e0b",
   "metadata": {},
   "source": [
    "### Oplossingen"
   ]
  },
  {
   "cell_type": "code",
   "execution_count": null,
   "id": "5dbd00db-5d6c-469e-b21d-6cdfbc31c1b0",
   "metadata": {},
   "outputs": [],
   "source": []
  }
 ],
 "metadata": {
  "kernelspec": {
   "display_name": "Python 3 (ipykernel)",
   "language": "python",
   "name": "python3"
  },
  "language_info": {
   "codemirror_mode": {
    "name": "ipython",
    "version": 3
   },
   "file_extension": ".py",
   "mimetype": "text/x-python",
   "name": "python",
   "nbconvert_exporter": "python",
   "pygments_lexer": "ipython3",
   "version": "3.11.6"
  }
 },
 "nbformat": 4,
 "nbformat_minor": 5
}
