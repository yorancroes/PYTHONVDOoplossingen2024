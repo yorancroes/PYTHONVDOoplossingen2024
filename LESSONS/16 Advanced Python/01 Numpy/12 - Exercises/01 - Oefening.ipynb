{
 "cells": [
  {
   "cell_type": "markdown",
   "id": "complimentary-glory",
   "metadata": {},
   "source": [
    "### Oefeningen"
   ]
  },
  {
   "cell_type": "markdown",
   "id": "collected-sacramento",
   "metadata": {},
   "source": [
    "#### Vraag 1"
   ]
  },
  {
   "cell_type": "markdown",
   "id": "bizarre-definition",
   "metadata": {},
   "source": [
    "De bijgaande file `data.csv` bevat informatie voor de waarde `x` van een observatie op tijdstip `t`."
   ]
  },
  {
   "cell_type": "markdown",
   "id": "vocational-remains",
   "metadata": {},
   "source": [
    "Gegeven deze data, wensen we de ratio van verandering berekenen in functie van de tijd - we doen dit door twee opeenvolgende observaties te nemen, vb $x(t_i)$ en $x(t_{i+1})$ en de mate van verandering benaderen via volgende formule:\n",
    "\n",
    "$$\n",
    "v(t_{i+1}) = \\frac{x(t_{i+1}) - x(t_i)}{t_{i+1} - t_i}\n",
    "$$"
   ]
  },
  {
   "cell_type": "markdown",
   "id": "affected-rocket",
   "metadata": {},
   "source": [
    "Bijvoorbeeld, indien de data als volgt is:\n",
    "\n",
    "```\n",
    "t     x\n",
    "0.1   10\n",
    "0.2   12\n",
    "0.4   14\n",
    "0.5   15\n",
    "```"
   ]
  },
  {
   "cell_type": "markdown",
   "id": "alternate-nudist",
   "metadata": {},
   "source": [
    "Dan zou de eerste rij van de data verondersteld worden $t_0$ te zijn, de tweede rij $t_1$, enz"
   ]
  },
  {
   "cell_type": "markdown",
   "id": "ancient-decade",
   "metadata": {},
   "source": [
    "We kunnen de change rate benaderen startend bij $v_1$ wat zou berekend worden als:\n",
    "\n",
    "$$\n",
    "v_1 = \\frac{12 - 10}{0.2 - 0.1} = 20.0\n",
    "$$"
   ]
  },
  {
   "cell_type": "markdown",
   "id": "toxic-doctrine",
   "metadata": {},
   "source": [
    "Op dezelfde wijze zou $v_2$ berekend worden als volgt:\n",
    "\n",
    "$$\n",
    "v_2 = \\frac{14 - 12}{0.4 - 0.2} = 10.0\n",
    "$$"
   ]
  },
  {
   "cell_type": "markdown",
   "id": "second-participant",
   "metadata": {},
   "source": [
    "Gebruik NumPy-arrays om een array te creëren die de berekende veranderingssnelheden bevat en bepaal de minimum-, maximum-, gemiddelde- en standaardafwijking van de veranderingssnelheid."
   ]
  },
  {
   "cell_type": "markdown",
   "id": "compliant-mexico",
   "metadata": {},
   "source": [
    "#### Vraag 2"
   ]
  },
  {
   "cell_type": "markdown",
   "id": "polished-ebony",
   "metadata": {},
   "source": [
    "In lineare regressie trachten we de coefficienten `m` (helling) en `c` (y-intercept) van een rechte lijn te bepalen\n",
    "\n",
    "$$\n",
    "y = mx + c\n",
    "$$\n",
    "\n",
    "zodat we de best passende rechte krijgen, gegeven een set `x` and `y` data. Deze formule laat ons vervolgens toe om `y` waarden te voorspellen bij gegeven `x` waarden."
   ]
  },
  {
   "cell_type": "markdown",
   "id": "gorgeous-assets",
   "metadata": {},
   "source": [
    "Gegeven een array met `n` `(x, y)` data punten, kunnen deze coefficienten eenvoudig worden berekend."
   ]
  },
  {
   "cell_type": "markdown",
   "id": "failing-tours",
   "metadata": {},
   "source": [
    "Eerst wat terminologie:"
   ]
  },
  {
   "cell_type": "markdown",
   "id": "liable-civilization",
   "metadata": {},
   "source": [
    "- `X` staat voor de kolom met `X` waarden.\n",
    "- `Y` staat voor de kolom met `Y` waarden.\n",
    "- `XX` staat voor een kolom die wordt berekend door elke `x` in de `X` kolom met zichzelf te vermenigvuldigen\n",
    "- `XY` staat voor een kolom die wordt berekend door de `x` and `y` waarden van de `X` en `Y` kolommen te vermenigvuldigen"
   ]
  },
  {
   "cell_type": "markdown",
   "id": "divine-texas",
   "metadata": {},
   "source": [
    "Vervolgens, gegeven een kolom (vb `X`), betekent: $\\sum{X}$ de som van alle elementen in de kolom.\n",
    "\n",
    "Gelijkaardig betekent het symbool $\\sum{XY}$ de som van de waarden die worden bekomen door het paargewijs vermenigvuldigen van de waarden in `X` en `Y`."
   ]
  },
  {
   "cell_type": "markdown",
   "id": "lonely-reward",
   "metadata": {},
   "source": [
    "Gegeven deze definities, worden de formules om de \"beste\" waarden voor `m` en `c` te berekenen:"
   ]
  },
  {
   "cell_type": "markdown",
   "id": "engaged-positive",
   "metadata": {},
   "source": [
    "$$\n",
    "m = \\frac{n\\sum{XY} - \\sum{X}\\sum{Y}}{n\\sum{XX} - (\\sum{X})^2}\n",
    "$$"
   ]
  },
  {
   "cell_type": "markdown",
   "id": "japanese-breakfast",
   "metadata": {},
   "source": [
    "$$\n",
    "c = \\frac{\\sum{Y}\\sum{XX} - \\sum{X}\\sum{XY}}{n\\sum{XX} - (\\sum{X})^2}\n",
    "$$"
   ]
  },
  {
   "cell_type": "markdown",
   "id": "collect-guidance",
   "metadata": {},
   "source": [
    "(met `n` het aantal `(x,y)` paren in onze dataset.)"
   ]
  },
  {
   "cell_type": "markdown",
   "id": "suspended-calgary",
   "metadata": {},
   "source": [
    "Gebruikmakend van dezelfde gegevens die we zagen in Vraag 1, bereken de waarden voor `m` en `c` voor die gegevensset, gegeven de bovenstaande formules.\n",
    "\n",
    "Je kunt denken aan de `t` kolom in de gegevens als de `X` kolom, en de `x` waarden in de gegevens als de `Y` kolom - we proberen de waarde van `x` te voorspellen gegeven een waarde van `t`."
   ]
  },
  {
   "cell_type": "markdown",
   "id": "classical-theorem",
   "metadata": {},
   "source": [
    "Dit zal resulteren in een rechte lijn die het \"beste\" door de gegevens past."
   ]
  },
  {
   "cell_type": "markdown",
   "id": "precious-boundary",
   "metadata": {},
   "source": [
    "Vergelijk de helling van deze regressielijn met de gemiddelde veranderingssnelheid die je hebt berekend in Vraag 1."
   ]
  }
 ],
 "metadata": {
  "kernelspec": {
   "display_name": "Python 3 (ipykernel)",
   "language": "python",
   "name": "python3"
  },
  "language_info": {
   "codemirror_mode": {
    "name": "ipython",
    "version": 3
   },
   "file_extension": ".py",
   "mimetype": "text/x-python",
   "name": "python",
   "nbconvert_exporter": "python",
   "pygments_lexer": "ipython3",
   "version": "3.12.8"
  }
 },
 "nbformat": 4,
 "nbformat_minor": 5
}
