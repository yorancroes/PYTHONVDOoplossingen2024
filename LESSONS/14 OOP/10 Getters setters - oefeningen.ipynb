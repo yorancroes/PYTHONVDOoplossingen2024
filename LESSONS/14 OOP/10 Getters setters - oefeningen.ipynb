{
 "cells": [
  {
   "cell_type": "markdown",
   "id": "07d6b6b6-85fd-4493-bd2d-5f8b0c76cbe6",
   "metadata": {},
   "source": [
    "![alt text](../../pythonexposed-high-resolution-logo-black.jpg \"Optionele titel\")"
   ]
  },
  {
   "cell_type": "markdown",
   "id": "8eae2c14-cf53-42dc-a814-0a852c7b3625",
   "metadata": {},
   "source": [
    "### **1. Bankrekening Klasse**\n",
    "**Opgave**:  \n",
    "Maak een klasse `Bankrekening` met de volgende specificaties:  \n",
    "1. **Eigenschappen**:\n",
    "   - `rekeningnummer`: Alleen-lezen eigenschap (getter) die het rekeningnummer teruggeeft.\n",
    "   - `saldo`: Lees- en schrijfbare eigenschap met een getter en setter. De setter moet controleren dat het saldo niet negatief kan worden.\n",
    "\n",
    "2. **Constructor**:\n",
    "   - De constructor moet het rekeningnummer en een beginnend saldo (standaardwaarde 0) accepteren. Als het meegegeven saldo negatief is, moet het automatisch naar 0 worden gezet.\n",
    "\n",
    "3. **Validatie**:\n",
    "   - Bij een poging om een negatief saldo in te stellen, moet een foutmelding worden gegenereerd.\n",
    "\n",
    "Test je implementatie door een object te maken, het saldo te wijzigen, en foutieve waarden uit te proberen."
   ]
  },
  {
   "cell_type": "code",
   "execution_count": null,
   "id": "d95cc33d-476d-4b2a-baef-fe6105a18c8d",
   "metadata": {},
   "outputs": [],
   "source": []
  },
  {
   "cell_type": "markdown",
   "id": "b7addd8d-eea5-4e47-97ec-d630dd3967a8",
   "metadata": {},
   "source": [
    "### **2. Student Klasse**\n",
    "**Opgave**:  \n",
    "Maak een klasse `Student` met de volgende specificaties:  \n",
    "1. **Eigenschappen**:\n",
    "   - `naam`: Lees- en schrijfbare eigenschap (getter en setter). De setter moet controleren dat de naam een niet-lege string is.\n",
    "   - `studentnummer`: Lees- en schrijfbare eigenschap. De setter moet controleren dat het studentnummer alleen cijfers bevat.\n",
    "   - `gemiddelde`: Lees- en schrijfbare eigenschap. De setter moet controleren dat de waarde tussen 0 en 10 ligt.\n",
    "\n",
    "2. **Constructor**:\n",
    "   - De constructor moet een naam, studentnummer, en een beginnend gemiddelde accepteren.\n",
    "\n",
    "3. **Validatie**:\n",
    "   - Een foutmelding moet worden gegenereerd als een ongeldige waarde wordt ingevoerd voor een van de eigenschappen.\n",
    "\n",
    "Test je implementatie door een object te maken, eigenschappen te wijzigen, en foutieve waarden in te stellen."
   ]
  },
  {
   "cell_type": "code",
   "execution_count": null,
   "id": "90672f8c-ce2c-45c8-b61a-220692e71961",
   "metadata": {},
   "outputs": [],
   "source": []
  },
  {
   "cell_type": "markdown",
   "id": "6dce6e88-bfe7-4274-b116-a11e4858e271",
   "metadata": {},
   "source": [
    "### **3. Auto Klasse**\n",
    "**Opgave**:  \n",
    "Ontwerp een klasse `Auto` met de volgende specificaties:  \n",
    "1. **Eigenschappen**:\n",
    "   - `merk`: Lees- en schrijfbare eigenschap zonder extra validatie.\n",
    "   - `model`: Lees- en schrijfbare eigenschap zonder extra validatie.\n",
    "   - `kilometerstand`: Lees- en schrijfbare eigenschap. De setter moet controleren dat de kilometerstand niet lager wordt dan de huidige waarde.\n",
    "\n",
    "2. **Constructor**:\n",
    "   - De constructor moet een merk, model, en een optionele beginnende kilometerstand (standaard 0) accepteren.\n",
    "\n",
    "3. **Validatie**:\n",
    "   - Bij een poging om de kilometerstand te verlagen, moet een foutmelding worden gegooid.\n",
    "\n",
    "Test je implementatie door een auto te maken, de kilometerstand te verhogen, en foutieve waarden in te stellen."
   ]
  },
  {
   "cell_type": "code",
   "execution_count": null,
   "id": "4e0e9baf-b179-402f-8b77-528379545003",
   "metadata": {},
   "outputs": [],
   "source": []
  },
  {
   "cell_type": "markdown",
   "id": "896ed987-a599-4734-84fe-578c54bd25ba",
   "metadata": {},
   "source": [
    "### **4. Personeelslid Klasse**\n",
    "**Opgave**:  \n",
    "Ontwerp een klasse `Personeelslid` met de volgende specificaties:  \n",
    "1. **Eigenschappen**:\n",
    "   - `naam`: Alleen-lezen eigenschap (getter).\n",
    "   - `positie`: Lees- en schrijfbare eigenschap. De setter moet controleren dat de waarde een niet-lege string is.\n",
    "   - `salaris`: Lees- en schrijfbare eigenschap. De setter moet controleren dat het salaris niet lager is dan een vastgesteld minimumloon (bijvoorbeeld €2000).\n",
    "\n",
    "2. **Constructor**:\n",
    "   - De constructor moet een naam, positie, en beginnend salaris accepteren.\n",
    "\n",
    "3. **Validatie**:\n",
    "   - Als een salaris wordt ingevoerd dat lager is dan het minimumloon, moet een foutmelding worden gegooid.\n",
    "\n",
    "Test je implementatie door een personeelslid aan te maken, eigenschappen te wijzigen, en foutieve waarden in te stellen."
   ]
  },
  {
   "cell_type": "code",
   "execution_count": null,
   "id": "edf40536-2848-41ac-bb5c-aa8f22cbbcec",
   "metadata": {},
   "outputs": [],
   "source": []
  },
  {
   "cell_type": "markdown",
   "id": "7360f741-b6e2-4c8f-8621-04026f394f2f",
   "metadata": {},
   "source": [
    "### **5. TemperatuurSensor Klasse**\n",
    "**Opgave**:  \n",
    "Ontwerp een klasse `TemperatuurSensor` met de volgende specificaties:  \n",
    "1. **Eigenschappen**:\n",
    "   - `temperatuur_celsius`: Lees- en schrijfbare eigenschap die de temperatuur in graden Celsius opslaat.\n",
    "   - `temperatuur_fahrenheit`: Lees- en schrijfbare eigenschap die de temperatuur in Fahrenheit teruggeeft en accepteert. Interne opslag blijft in Celsius.\n",
    "\n",
    "2. **Constructor**:\n",
    "   - De constructor moet een beginnende temperatuur in graden Celsius accepteren.\n",
    "\n",
    "3. **Omrekening**:\n",
    "   - Zorg ervoor dat de setter voor `temperatuur_fahrenheit` de waarde correct omzet naar Celsius voor interne opslag.\n",
    "\n",
    "Test je implementatie door een sensor aan te maken, de temperatuur in Celsius en Fahrenheit te wijzigen, en de correcte omzetting te controleren."
   ]
  },
  {
   "cell_type": "code",
   "execution_count": null,
   "id": "1587a044-9dab-40c1-9c9c-d50f7bfe07a5",
   "metadata": {},
   "outputs": [],
   "source": []
  }
 ],
 "metadata": {
  "kernelspec": {
   "display_name": "Python 3 (ipykernel)",
   "language": "python",
   "name": "python3"
  },
  "language_info": {
   "codemirror_mode": {
    "name": "ipython",
    "version": 3
   },
   "file_extension": ".py",
   "mimetype": "text/x-python",
   "name": "python",
   "nbconvert_exporter": "python",
   "pygments_lexer": "ipython3",
   "version": "3.12.7"
  }
 },
 "nbformat": 4,
 "nbformat_minor": 5
}
