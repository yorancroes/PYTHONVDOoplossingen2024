{
 "cells": [
  {
   "cell_type": "markdown",
   "id": "07d6b6b6-85fd-4493-bd2d-5f8b0c76cbe6",
   "metadata": {},
   "source": [
    "![alt text](../../pythonexposed-high-resolution-logo-black.jpg \"Optionele titel\")"
   ]
  },
  {
   "cell_type": "markdown",
   "id": "a9884e97-3c95-4097-8eab-8f236ae5e597",
   "metadata": {},
   "source": [
    "### Oefening 1: \n",
    "Maak een klasse genaamd `Fruit` en twee subklassen `Appel` en `Peer`. Gebruik een class method om een nieuw stuk fruit te maken. Implementeer de volgende eigenschappen:\n",
    "\n",
    "- **Attributen**\n",
    "  - `naam`: De naam van het fruit.\n",
    "  - `kleur`: De kleur van het fruit.\n",
    "- **Class Method**\n",
    "  - `maak_fruit(soort, kleur)`: Maak een nieuw stuk fruit op basis van de soort (appel of peer)."
   ]
  },
  {
   "cell_type": "code",
   "execution_count": null,
   "id": "d12c1d7d-e1a8-4b99-91aa-bf576b994264",
   "metadata": {},
   "outputs": [],
   "source": []
  },
  {
   "cell_type": "markdown",
   "id": "4da5bfee-4930-4437-b1da-33df45ba9224",
   "metadata": {},
   "source": [
    "### Oefening 2: \n",
    "Maak een klasse `Voertuig` en een afgeleide klasse `Auto`:\n",
    "   - `Voertuig` moet attributen bevatten zoals merk en bouwjaar.\n",
    "   - `Auto` moet extra attributen hebben zoals `model` en een methode `start()` die aangeeft dat de auto start."
   ]
  },
  {
   "cell_type": "code",
   "execution_count": null,
   "id": "8ad84c01-ad96-414e-9334-092637448376",
   "metadata": {},
   "outputs": [],
   "source": []
  },
  {
   "cell_type": "markdown",
   "id": "f80ad093-a1b8-4717-b130-fe64bf006116",
   "metadata": {},
   "source": [
    "### Oefening 3:\n",
    "\n",
    "Maak een `Persoon` klasse en een afgeleide klasse `Werknemer`:\n",
    "   - `Persoon` moet attributen hebben zoals naam en leeftijd.\n",
    "   - `Werknemer` moet extra attributen hebben zoals `functie` en `salaris`.\n",
    "   - Voeg een methode toe om de werknemerinformatie af te drukken."
   ]
  },
  {
   "cell_type": "code",
   "execution_count": null,
   "id": "b7b4dd46-a094-43a8-a945-21d4cc50383c",
   "metadata": {},
   "outputs": [],
   "source": []
  },
  {
   "cell_type": "markdown",
   "id": "2dcd6843-00e9-4edf-a747-e1c51df4a561",
   "metadata": {},
   "source": [
    "### Oefening 4:\n",
    "Maak een klasse `Dier` en een afgeleide klasse `Kat`**:\n",
    "   - `Dier` moet attributen bevatten zoals `naam` en `leeftijd`.\n",
    "   - `Kat` moet de `__init__`-methode van `Dier` overschrijven om extra attributen zoals `ras` toe te voegen."
   ]
  },
  {
   "cell_type": "code",
   "execution_count": null,
   "id": "5e7d8bb3-ab7e-46ac-90ac-81f7f46273bb",
   "metadata": {},
   "outputs": [],
   "source": []
  },
  {
   "cell_type": "markdown",
   "id": "50272fa4-13b3-42a1-9bba-79656f612e90",
   "metadata": {},
   "source": [
    "### Oefening 5:\n",
    "Maak een klasse `Baan` en een afgeleide klasse `ITBaan`**:\n",
    "   - `Baan` moet attributen hebben zoals `titel` en `salaris`.\n",
    "   - `ITBaan` moet de `__init__`-methode overschrijven om een extra attribuut toe te voegen, zoals `programmeertaal`."
   ]
  },
  {
   "cell_type": "code",
   "execution_count": null,
   "id": "c357ebaa-d33f-4302-95fb-95dfffb09d34",
   "metadata": {},
   "outputs": [],
   "source": []
  },
  {
   "cell_type": "markdown",
   "id": "2364e8ee-4be3-48a8-9f70-e2516a030242",
   "metadata": {},
   "source": [
    "### Oefening 6:\n",
    "Maak een hiërarchie van klassen: `Apparaat` -> `Computer` -> `Laptop`**:\n",
    "   - `Apparaat` moet een attribuut hebben voor `merk`.\n",
    "   - `Computer` moet een extra attribuut hebben voor `processor`.\n",
    "   - `Laptop` moet een extra attribuut hebben voor `gewicht`.\n",
    "   - Voeg methoden toe in elke klasse om de details weer te geven."
   ]
  },
  {
   "cell_type": "code",
   "execution_count": null,
   "id": "d64f3e15-e088-4155-8135-1a2dc097011c",
   "metadata": {},
   "outputs": [],
   "source": []
  },
  {
   "cell_type": "markdown",
   "id": "9badbb2e-9291-4a93-bf39-95d6f86bdd24",
   "metadata": {},
   "source": [
    "### Oefening 7:\n",
    "Maak een hiërarchie van klassen: `Voertuig` -> `Vrachtwagen` -> `ElektrischeVrachtwagen`**:\n",
    "   - `Voertuig` moet een attribuut hebben voor `merk` en `bouwjaar`.\n",
    "   - `Vrachtwagen` moet een extra attribuut hebben voor `laadvermogen`.\n",
    "   - `ElektrischeVrachtwagen` moet een attribuut hebben voor `batterijcapaciteit`.\n",
    "   - Voeg methoden toe om de details van elke klasse weer te geven."
   ]
  },
  {
   "cell_type": "code",
   "execution_count": null,
   "id": "25b4362b-fe2f-4679-9fce-18cbdce8a7aa",
   "metadata": {},
   "outputs": [],
   "source": []
  },
  {
   "cell_type": "markdown",
   "id": "d06625f8-8ac8-41be-8621-b06ecdee6b3e",
   "metadata": {},
   "source": [
    "### Oefening 8: Python Multiple Inheritance  \n",
    "\n",
    "\n",
    "Maak een Python-programma dat verschillende soorten voertuigen modelleert met behulp van **multiple inheritance**. De opdracht is als volgt:\n",
    "\n",
    "---\n",
    "\n",
    "#### **Situatie**\n",
    "Je bent gevraagd om een applicatie te maken om eigenschappen van voertuigen bij te houden. Er zijn twee basiscategorieën:\n",
    "1. **LandVoertuig**: Voertuigen die op land rijden, zoals auto's en fietsen.\n",
    "2. **WaterVoertuig**: Voertuigen die op water bewegen, zoals boten en jetski's.\n",
    "\n",
    "Sommige voertuigen kunnen echter op beide terreinen functioneren, zoals een amfibievoertuig.\n",
    "\n",
    "---\n",
    "\n",
    "#### **Opdracht**\n",
    "1. Maak de volgende klassen:\n",
    "   - **LandVoertuig**:\n",
    "     - Attributen:\n",
    "       - `max_snelheid_land` (maximale snelheid op land)\n",
    "     - Methoden:\n",
    "       - `rijden()`: Print een bericht zoals `\"Ik rij met X km/u op land.\"`\n",
    "\n",
    "   - **WaterVoertuig**:\n",
    "     - Attributen:\n",
    "       - `max_snelheid_water` (maximale snelheid op water)\n",
    "     - Methoden:\n",
    "       - `varen()`: Print een bericht zoals `\"Ik vaar met Y km/u op water.\"`\n",
    "\n",
    "   - **AmfibieVoertuig** (erft van zowel LandVoertuig als WaterVoertuig):\n",
    "     - Methode:\n",
    "       - `toestand()`: Print een bericht zoals `\"Ik kan rijden en varen.\"`\n",
    "\n",
    "2. Maak objecten voor elk type voertuig:\n",
    "   - Een **LandVoertuig** met een maximale snelheid van 120 km/u.\n",
    "   - Een **WaterVoertuig** met een maximale snelheid van 50 km/u.\n",
    "   - Een **AmfibieVoertuig** dat kan rijden met 100 km/u en varen met 40 km/u.\n",
    "\n",
    "3. Demonstreer het gebruik van alle methoden voor elk object.\n",
    "\n",
    "**Extra uitdaging**:\n",
    "1. Voeg een methode `status()` toe aan de `AmfibieVoertuig`-klasse die beide snelheden print, zoals:\n",
    "   ```\n",
    "   Ik kan rijden met 100 km/u en varen met 40 km/u.\n",
    "   ```\n",
    "2. Voeg een controle toe om ervoor te zorgen dat het voertuig niet beide acties tegelijkertijd kan uitvoeren."
   ]
  },
  {
   "cell_type": "code",
   "execution_count": null,
   "id": "4aa39e42-b558-48aa-b9a6-dc433ae0e34e",
   "metadata": {},
   "outputs": [],
   "source": []
  },
  {
   "cell_type": "code",
   "execution_count": null,
   "id": "58f7587b-aa10-42a8-b471-f8749eb717f6",
   "metadata": {},
   "outputs": [],
   "source": []
  },
  {
   "cell_type": "code",
   "execution_count": null,
   "id": "d09b9c5f-dc89-430f-a8ea-fab14636f6f1",
   "metadata": {},
   "outputs": [],
   "source": []
  }
 ],
 "metadata": {
  "kernelspec": {
   "display_name": "Python 3 (ipykernel)",
   "language": "python",
   "name": "python3"
  },
  "language_info": {
   "codemirror_mode": {
    "name": "ipython",
    "version": 3
   },
   "file_extension": ".py",
   "mimetype": "text/x-python",
   "name": "python",
   "nbconvert_exporter": "python",
   "pygments_lexer": "ipython3",
   "version": "3.12.7"
  }
 },
 "nbformat": 4,
 "nbformat_minor": 5
}
