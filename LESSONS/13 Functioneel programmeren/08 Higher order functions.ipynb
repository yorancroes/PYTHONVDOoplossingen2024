{
 "cells": [
  {
   "cell_type": "markdown",
   "id": "e8141752-61a5-425d-a64e-05d244b090e4",
   "metadata": {},
   "source": [
    "![alt text](../../pythonexposed-high-resolution-logo-black.jpg \"Optionele titel\")"
   ]
  },
  {
   "cell_type": "markdown",
   "id": "36de562f-2479-41aa-bdaf-60b180543549",
   "metadata": {},
   "source": [
    "### Functies Doorgeven en Teruggeven\n",
    "\n",
    "#### Functies doorgeven als argumenten\n",
    "In Python kun je functies doorgeven als argumenten aan andere functies. Dit maakt je code flexibel en krachtig.\n",
    "\n",
    "**Voorbeeld:**\n",
    "```python\n",
    "def optellen(a, b):\n",
    "    return a + b\n",
    "\n",
    "def begroeten(naam):\n",
    "    return f'Hallo, {naam}!'\n",
    "\n",
    "def toepassen(functie, *args):\n",
    "    resultaat = functie(*args)\n",
    "    return resultaat\n",
    "\n",
    "# Gebruik\n",
    "print(toepassen(optellen, 3, 4))  # Geeft 7\n",
    "print(toepassen(begroeten, 'wereld'))  # Geeft 'Hallo, wereld!'\n",
    "```\n",
    "\n",
    "Je kunt ook anonieme functies (lambdas) gebruiken:\n",
    "```python\n",
    "print(toepassen(lambda x, y: x * y, 5, 6))  # Geeft 30\n",
    "```"
   ]
  },
  {
   "cell_type": "markdown",
   "id": "ab1fbb09-aa76-4407-b312-c6e836e667a3",
   "metadata": {},
   "source": [
    "#### Functies teruggeven uit andere functies\n",
    "Je kunt een functie definiëren en deze als resultaat teruggeven. Hierdoor kun je dynamisch bepalen welke logica wordt gebruikt.\n",
    "\n",
    "**Voorbeeld:**\n",
    "```python\n",
    "def operator_kiezen(naam):\n",
    "    def optellen(a, b):\n",
    "        return a + b\n",
    "    \n",
    "    def vermenigvuldigen(a, b):\n",
    "        return a * b\n",
    "    \n",
    "    if naam == 'optellen':\n",
    "        return optellen\n",
    "    elif naam == 'vermenigvuldigen':\n",
    "        return vermenigvuldigen\n",
    "\n",
    "functie = operator_kiezen('optellen')\n",
    "print(functie(2, 3))  # Geeft 5\n",
    "```"
   ]
  },
  {
   "cell_type": "markdown",
   "id": "5ab05295-ee2f-4afb-a660-c45828b7cf16",
   "metadata": {},
   "source": [
    "Je kunt ook lambdas teruggeven:\n",
    "```python\n",
    "def operator_kiezen(naam):\n",
    "    if naam == 'delen':\n",
    "        return lambda x, y: x / y\n",
    "\n",
    "functie = operator_kiezen('delen')\n",
    "print(functie(10, 2))  # Geeft 5.0\n",
    "```"
   ]
  },
  {
   "cell_type": "markdown",
   "id": "ea77eed5-ec33-406c-8df1-7999202c750c",
   "metadata": {},
   "source": [
    "#### Praktische toepassingen\n",
    "Een praktische toepassing is het meten van de uitvoeringstijd van een functie.\n",
    "\n",
    "**Voorbeeld:**\n",
    "```python\n",
    "from time import perf_counter\n",
    "\n",
    "def tijd_opnemen(functie, *args):\n",
    "    start = perf_counter()\n",
    "    resultaat = functie(*args)\n",
    "    einde = perf_counter()\n",
    "    print(f'Duur: {einde - start:.6f} seconden')\n",
    "    return resultaat\n",
    "\n",
    "lijst = list(range(10_000_000))\n",
    "print(tijd_opnemen(lambda lst, x: x in lst, lijst, 5_000_000))\n",
    "```"
   ]
  },
  {
   "cell_type": "markdown",
   "id": "2f0b1b08-a9e0-4d7d-9bff-41d7d61b090f",
   "metadata": {},
   "source": [
    "#### Samenvatting\n",
    "1. **Functies doorgeven**:\n",
    "   - Gebruik functies als argumenten om flexibele logica te maken.\n",
    "2. **Functies teruggeven**:\n",
    "   - Maak dynamische functies op basis van invoer.\n",
    "3. **Praktische tools**:\n",
    "   - Bouw utility-functies zoals een timer om herhalende logica te verminderen."
   ]
  }
 ],
 "metadata": {
  "kernelspec": {
   "display_name": "Python 3 (ipykernel)",
   "language": "python",
   "name": "python3"
  },
  "language_info": {
   "codemirror_mode": {
    "name": "ipython",
    "version": 3
   },
   "file_extension": ".py",
   "mimetype": "text/x-python",
   "name": "python",
   "nbconvert_exporter": "python",
   "pygments_lexer": "ipython3",
   "version": "3.12.7"
  }
 },
 "nbformat": 4,
 "nbformat_minor": 5
}
