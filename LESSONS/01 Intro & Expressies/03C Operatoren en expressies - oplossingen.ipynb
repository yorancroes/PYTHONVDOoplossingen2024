{
 "cells": [
  {
   "cell_type": "markdown",
   "metadata": {
    "tags": []
   },
   "source": [
    "![alt text](../../pythonexposed-high-resolution-logo-black.jpg \"Optionele titel\")"
   ]
  },
  {
   "cell_type": "markdown",
   "metadata": {},
   "source": [
    "## Operatoren en expressies - oplossingen"
   ]
  },
  {
   "cell_type": "markdown",
   "metadata": {},
   "source": [
    "#### OEFENINGEN\n",
    "- Schrijf een programma dat het aantal seconden in een week berekent. Het programma is slechts één regel lang.\n",
    "- Hoeveel seconden zijn er in 42 minuten en 42 seconden?\n",
    "- Hoeveel mijlen zijn er in 10 kilometer? Hint: er zijn 1,61 kilometer in een mijl.\n",
    "- Als je een race van 10 kilometer loopt in 42 minuten en 42 seconden, wat is dan je gemiddelde tempo in seconden per mijl?\n",
    "- Wat is je gemiddelde tempo in minuten en seconden per mijl?\n",
    "- Wat is je gemiddelde snelheid in mijlen per uur?\n",
    "- Een boek kost in de winkel €24,95, maar boekwinkels krijgen 40 procent korting bij inkoop. Het verschepen van boeken kost €3 voor het eerste boek, en 75 cent voor ieder volgende boek. Bereken hoeveel de winkel betaalt voor 60 boeken\n",
    "- Wat betekent de volgende runtime error?"
   ]
  },
  {
   "cell_type": "code",
   "execution_count": 1,
   "metadata": {},
   "outputs": [
    {
     "ename": "SyntaxError",
     "evalue": "incomplete input (643776930.py, line 2)",
     "output_type": "error",
     "traceback": [
      "\u001b[0;36m  Cell \u001b[0;32mIn[1], line 2\u001b[0;36m\u001b[0m\n\u001b[0;31m    print ( ((12 * 13) /14 + (15 -16) /17) * 18\u001b[0m\n\u001b[0m                                                ^\u001b[0m\n\u001b[0;31mSyntaxError\u001b[0m\u001b[0;31m:\u001b[0m incomplete input\n"
     ]
    }
   ],
   "source": [
    "print ( ((2 * 3) /4 + (5 -6/7) * 8 ) )\n",
    "print ( ((12 * 13) /14 + (15 -16) /17) * 18 "
   ]
  },
  {
   "cell_type": "markdown",
   "metadata": {},
   "source": [
    "#### OPLOSSINGEN"
   ]
  },
  {
   "cell_type": "markdown",
   "metadata": {},
   "source": [
    "**Aantal seconden in een week**"
   ]
  },
  {
   "cell_type": "code",
   "execution_count": 1,
   "metadata": {},
   "outputs": [
    {
     "name": "stdout",
     "output_type": "stream",
     "text": [
      "In een week zijn er 604800 seconden\n"
     ]
    }
   ],
   "source": [
    "dagen = 7\n",
    "uren = 24\n",
    "minuten = 60\n",
    "seconden = 60\n",
    "\n",
    "print(f\"In een week zijn er {dagen*uren*minuten*seconden} seconden\")"
   ]
  },
  {
   "cell_type": "markdown",
   "metadata": {},
   "source": [
    "**Hoeveel seconden zijn er in 42 minuten en 42 seconden?**"
   ]
  },
  {
   "cell_type": "code",
   "execution_count": 4,
   "metadata": {},
   "outputs": [
    {
     "name": "stdout",
     "output_type": "stream",
     "text": [
      "In 42 minuten en 42 seconden zitten er 2562 seconden\n"
     ]
    }
   ],
   "source": [
    "tijd = 42*60+42\n",
    "print(f\"In 42 minuten en 42 seconden zitten er {tijd} seconden\")"
   ]
  },
  {
   "cell_type": "markdown",
   "metadata": {},
   "source": [
    "**Hoeveel mijlen zijn er in 10 kilometer? Hint: er zijn 1,61 kilometer in een mijl.**"
   ]
  },
  {
   "cell_type": "code",
   "execution_count": 5,
   "metadata": {},
   "outputs": [
    {
     "name": "stdout",
     "output_type": "stream",
     "text": [
      "In 10 kilometer zitten er 6.211180124223602 mijlen\n"
     ]
    }
   ],
   "source": [
    "afstand_in_mijlen = 10/1.61\n",
    "print(f\"In 10 kilometer zitten er {afstand_in_mijlen} mijlen\")"
   ]
  },
  {
   "cell_type": "markdown",
   "metadata": {},
   "source": [
    "**Als je een race van 10 kilometer loopt in 42 minuten en 42 seconden, wat is dan je gemiddelde tempo in seconden per mijl?**"
   ]
  },
  {
   "cell_type": "code",
   "execution_count": 8,
   "metadata": {},
   "outputs": [
    {
     "name": "stdout",
     "output_type": "stream",
     "text": [
      "Tempo in seconden per mijl = 412.482 sec/mijl\n"
     ]
    }
   ],
   "source": [
    "sec_per_mijl = tijd / afstand_in_mijlen\n",
    "print(f\"Tempo in seconden per mijl = {sec_per_mijl} sec/mijl\")"
   ]
  },
  {
   "cell_type": "markdown",
   "metadata": {},
   "source": [
    "**Wat is je gemiddelde tempo in minuten en seconden per mijl?**"
   ]
  },
  {
   "cell_type": "code",
   "execution_count": 13,
   "metadata": {},
   "outputs": [
    {
     "name": "stdout",
     "output_type": "stream",
     "text": [
      "Het gemiddelde tempo is 6 min en 52.48 sec / mijl\n"
     ]
    }
   ],
   "source": [
    "minuten = int(sec_per_mijl/60)\n",
    "seconden = sec_per_mijl - minuten*60\n",
    "print(f\"Het gemiddelde tempo is {minuten} min en {round(seconden,2)} sec / mijl\")"
   ]
  },
  {
   "cell_type": "markdown",
   "metadata": {},
   "source": [
    "**Wat is je gemiddelde snelheid in mijlen per uur?**"
   ]
  },
  {
   "cell_type": "code",
   "execution_count": 18,
   "metadata": {},
   "outputs": [
    {
     "name": "stdout",
     "output_type": "stream",
     "text": [
      "De gemiddelde snelheid in mijlen per uur is 8.728\n"
     ]
    }
   ],
   "source": [
    "print(f\"De gemiddelde snelheid in mijlen per uur is {round(3600/sec_per_mijl,3)}\")"
   ]
  },
  {
   "cell_type": "markdown",
   "metadata": {},
   "source": [
    "**Hoeveel betaalt de winkel voor 60 boeken?**"
   ]
  },
  {
   "cell_type": "code",
   "execution_count": 2,
   "metadata": {},
   "outputs": [
    {
     "data": {
      "text/plain": [
       "945.45"
      ]
     },
     "execution_count": 2,
     "metadata": {},
     "output_type": "execute_result"
    }
   ],
   "source": [
    "prijs = 24.95\n",
    "korting = 40\n",
    "verschepen_1 = 3\n",
    "verschepen_rest = .75\n",
    "\n",
    "aantal = 60\n",
    "\n",
    "som = prijs*(1-korting/100)*aantal + 1*verschepen_1 + (aantal-1)*verschepen_rest\n",
    "round(som,2)"
   ]
  }
 ],
 "metadata": {
  "kernelspec": {
   "display_name": "Python 3 (ipykernel)",
   "language": "python",
   "name": "python3"
  },
  "language_info": {
   "codemirror_mode": {
    "name": "ipython",
    "version": 3
   },
   "file_extension": ".py",
   "mimetype": "text/x-python",
   "name": "python",
   "nbconvert_exporter": "python",
   "pygments_lexer": "ipython3",
   "version": "3.11.6"
  }
 },
 "nbformat": 4,
 "nbformat_minor": 4
}
