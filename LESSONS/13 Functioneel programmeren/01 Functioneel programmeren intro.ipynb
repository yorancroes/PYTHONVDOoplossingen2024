{
 "cells": [
  {
   "cell_type": "markdown",
   "id": "1a66b5c1-b10c-44bf-a627-b79d522d07c2",
   "metadata": {},
   "source": [
    "![alt text](../../pythonexposed-high-resolution-logo-black.jpg \"Optionele titel\")"
   ]
  },
  {
   "cell_type": "markdown",
   "id": "23ac476d-4323-45e2-ab7b-9ab4b8357ffd",
   "metadata": {},
   "source": [
    "### 1. Wat is functioneel programmeren?\n",
    "Functioneel programmeren is een programmeerparadigma dat de nadruk legt op **declaratieve** code, waarbij je beschrijft wat er moet gebeuren in plaats van hoe het moet gebeuren. Belangrijke kenmerken zijn:\n",
    "- **Pure functies**: functies zonder bijwerkingen.\n",
    "- **Immutabiliteit**: data wordt niet gewijzigd, maar nieuwe data wordt gegenereerd.\n",
    "- **Functies als first-class citizens**: functies kunnen worden doorgegeven als argumenten, worden opgeslagen in variabelen en worden geretourneerd door andere functies."
   ]
  },
  {
   "cell_type": "markdown",
   "id": "52ff2b2b-a225-4759-81d6-9eb8b91ce75e",
   "metadata": {},
   "source": [
    "### 2. Pure functies\n",
    "Pure functies zijn functies die:\n",
    "1. Geen bijwerkingen hebben:\n",
    "    - Ze wijzigen geen variabelen buiten hun scope.\n",
    "    - Ze beïnvloedt bijvoorbeeld geen globale variabelen, bestanden, databases, of de console-output.\n",
    "    - Ze veroorzaakt geen interactie met de \"buitenwereld\".\n",
    "3. Altijd hetzelfde resultaat teruggeven voor dezelfde input.  We noemen dit deterministisch gedrag.  De functie is hierdoor voorspelbaar en constant.\n",
    "\n",
    "Hierdoor zijn pure functies makkelijker te testen.  Pure functies kunnen ook veilig parallel worden uitgevoerd omdat ze geen gedeelde variabelen aanpassen.\n",
    "\n",
    "**Voorbeeld:**\n",
    "```python\n",
    "# Pure functie\n",
    "def add(x, y):\n",
    "    return x + y\n",
    "\n",
    "print(add(2, 3))  # Output: 5\n",
    "```\n",
    "\n",
    "**Niet-pure functie:**\n",
    "```python\n",
    "# Niet-pure functie\n",
    "z = 5\n",
    "\n",
    "def add(x, y):\n",
    "    global z\n",
    "    z += 1\n",
    "    return x + y + z\n",
    "```"
   ]
  },
  {
   "cell_type": "markdown",
   "id": "91bcb71d-a5f1-4ffa-b56f-610a0f1b7916",
   "metadata": {},
   "source": [
    "### 3. Immutability\n",
    "Immutability betekent dat data niet kan worden gewijzigd na creatie. Dit maakt code voorspelbaarder en makkelijker te debuggen.\n",
    "\n",
    "**Voorbeeld van mutability:**\n",
    "```python\n",
    "lst = [1, 2, 3]\n",
    "lst.append(4)  # Wijzigt de originele lijst\n",
    "```\n",
    "\n",
    "**Voorbeeld van immutability:**\n",
    "```python\n",
    "lst = [1, 2, 3]\n",
    "new_lst = lst + [4]  # Maakt een nieuwe lijst\n",
    "```"
   ]
  },
  {
   "cell_type": "code",
   "execution_count": null,
   "id": "251b3caf-c291-4a5d-93fd-28cb53db5987",
   "metadata": {},
   "outputs": [],
   "source": []
  }
 ],
 "metadata": {
  "kernelspec": {
   "display_name": "Python 3 (ipykernel)",
   "language": "python",
   "name": "python3"
  },
  "language_info": {
   "codemirror_mode": {
    "name": "ipython",
    "version": 3
   },
   "file_extension": ".py",
   "mimetype": "text/x-python",
   "name": "python",
   "nbconvert_exporter": "python",
   "pygments_lexer": "ipython3",
   "version": "3.12.7"
  }
 },
 "nbformat": 4,
 "nbformat_minor": 5
}
