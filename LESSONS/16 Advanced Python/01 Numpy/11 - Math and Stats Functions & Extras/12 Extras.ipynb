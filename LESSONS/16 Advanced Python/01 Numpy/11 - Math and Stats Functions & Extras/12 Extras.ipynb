{
 "cells": [
  {
   "cell_type": "markdown",
   "id": "0d6eff38-ddaf-433b-9277-8c2285fcff65",
   "metadata": {
    "slideshow": {
     "slide_type": "slide"
    }
   },
   "source": [
    "![alt text](../../pythonexposed-high-resolution-logo-black.jpg \"Optionele titel\")"
   ]
  },
  {
   "cell_type": "markdown",
   "id": "3d55a644-208d-44e1-a92f-a151f803c2b9",
   "metadata": {
    "slideshow": {
     "slide_type": "slide"
    }
   },
   "source": [
    "# NumPy Extra's: Handige Technieken"
   ]
  },
  {
   "cell_type": "markdown",
   "id": "edbd7037-eef4-4cb0-bcf2-ea95ab8bd342",
   "metadata": {
    "slideshow": {
     "slide_type": "slide"
    }
   },
   "source": [
    "### Topic 1: Multidimensionale Arrays Maken Uit Bestanden\n",
    "\n",
    "Wanneer je een NumPy-array maakt, maak je een sterk geoptimaliseerde datastructuur. Een van de redenen hiervoor is dat een NumPy-array **alle elementen in een aaneengesloten geheugenruimte opslaat**. Deze geheugentechniek betekent dat de gegevens in hetzelfde geheugenzone worden opgeslagen, waardoor de toegangstijden snel zijn. Dit is uiteraard zeer wenselijk.  \n",
    "\n",
    "Er ontstaat echter een probleem wanneer je je array moet *uitbreiden*."
   ]
  },
  {
   "cell_type": "markdown",
   "id": "b415e92e-2716-4ef1-903e-4141ddc78d82",
   "metadata": {
    "slideshow": {
     "slide_type": "slide"
    }
   },
   "source": [
    "Stel dat je **meerdere bestanden moet importeren in een multidimensionale array**.  \n",
    "\n",
    "Je kunt ze in aparte arrays lezen en ze vervolgens samenvoegen met `np.concatenate()`. \n",
    "> Dit zou echter een *kopie van je oorspronkelijke array* maken voordat de kopie met de extra gegevens wordt uitgebreid.\n",
    "> Het kopieerproces is nodig om ervoor te zorgen dat de bijgewerkte array nog steeds aaneengesloten in het geheugen bestaat, omdat de oorspronkelijke array mogelijk niet-gerelateerde inhoud naast zich had."
   ]
  },
  {
   "cell_type": "markdown",
   "id": "1624ae21-9840-4cb1-9f05-ebe7f72299e2",
   "metadata": {
    "slideshow": {
     "slide_type": "slide"
    }
   },
   "source": [
    "Telkens opnieuw arrays kopiëren wanneer je nieuwe gegevens uit een bestand toevoegt, kan het verwerken vertragen en is inefficiënt voor het geheugen van je systeem. Het probleem wordt erger naarmate je meer gegevens aan je array toevoegt. **Hoewel dit kopieerproces is ingebouwd in NumPy, kun je de effecten ervan minimaliseren met deze twee stappen:**\n",
    "\n",
    "1. *Bepaal bij het opzetten van je initiële array hoe groot deze moet zijn voordat je deze vult.* Je kunt zelfs overwegen om de grootte te overschatten om toekomstige gegevensuitbreidingen te ondersteunen. Als je eenmaal deze afmetingen kent, kun je je array van tevoren maken.\n",
    "\n",
    "2. *De tweede stap is om deze te vullen met de brongegevens*. Deze gegevens worden *in je bestaande array* geplaatst zonder dat deze uitgebreid hoeft te worden."
   ]
  },
  {
   "cell_type": "markdown",
   "id": "ee53a314-232e-4da6-ad0f-d2a567249ce5",
   "metadata": {
    "slideshow": {
     "slide_type": "slide"
    }
   },
   "source": [
    "### Invoeren van data in de Arrays\n",
    "\n",
    "In dit eerste voorbeeld gebruik je gegevens uit drie bestanden om een driedimensionale array te vullen. De inhoud van elk bestand wordt hieronder getoond, en je vindt deze bestanden ook in het downloadbare materiaal:\n",
    "\n",
    "Het eerste bestand heeft twee rijen en drie kolommen met de volgende inhoud:\n",
    "\n",
    "**CSV file1.csv**:\n",
    "```\n",
    "1.1, 1.2, 1.3\n",
    "1.4, 1.5, 1.6\n",
    "```\n",
    "Het tweede bestand heeft dezelfde afmetingen en bevat het volgende:\n",
    "**CSV file2.csv**:\n",
    "```\n",
    "2.1, 2.2, 2.3\n",
    "2.4, 2.5, 2.6\n",
    "```\n",
    "Het derde bestand, ook met dezelfde afmetingen, bevat deze cijfers:\n",
    "**CSV file3.csv**:\n",
    "```\n",
    "3.1, 3.2, 3.3\n",
    "3.4, 3.5, 3.6\n",
    "```"
   ]
  },
  {
   "cell_type": "markdown",
   "id": "9bd8aeed-b310-491d-ad1f-41a878b05d00",
   "metadata": {
    "slideshow": {
     "slide_type": "slide"
    }
   },
   "source": [
    "Voordat je verdergaat, voeg je deze drie bestanden toe aan je programmamap. \n",
    "\n",
    "De resulterende NumPy-array die je maakt van de drie bestanden zal er als volgt uitzien:"
   ]
  },
  {
   "cell_type": "markdown",
   "id": "36cb3247-8d01-4cd0-a477-be2718b52d93",
   "metadata": {
    "slideshow": {
     "slide_type": "slide"
    }
   },
   "source": [
    "![alt text](resulterende_array.png \"Optionele titel\")"
   ]
  },
  {
   "cell_type": "markdown",
   "id": "379c4a08-fa59-44cb-a179-ffe827f03502",
   "metadata": {
    "slideshow": {
     "slide_type": "slide"
    }
   },
   "source": [
    "Je ziet dat `file1.csv` de voorste laag van je array vormt, `file2.csv` het middelste deel en `file3.csv` de achterste laag.  \n",
    "\n",
    "De code om deze array te maken is de volgende:"
   ]
  },
  {
   "cell_type": "code",
   "execution_count": 4,
   "id": "f47da92b-b980-483c-b6ed-e596a0f829d9",
   "metadata": {
    "slideshow": {
     "slide_type": "slide"
    }
   },
   "outputs": [
    {
     "name": "stdout",
     "output_type": "stream",
     "text": [
      "Gecombineerde array:\n",
      "[[[1.1 1.2 1.3]\n",
      "  [1.4 1.5 1.6]]\n",
      "\n",
      " [[2.1 2.2 2.3]\n",
      "  [2.4 2.5 2.6]]\n",
      "\n",
      " [[3.1 3.2 3.3]\n",
      "  [3.4 3.5 3.6]]]\n"
     ]
    }
   ],
   "source": [
    "import numpy as np\n",
    "from pathlib import Path\n",
    "\n",
    "# Bepaal de huidige werkdirectory en zoek naar de gewenste bestanden\n",
    "# glob(): Dit is een methode die bestanden en mappen in een directory zoekt die voldoen aan een bepaald patroon. \n",
    "# Het retourneert een generator met de paden naar de gevonden bestanden.\n",
    "# \"file?.csv\" is een glob-patroon:\n",
    "#     file: De bestandsnaam begint met \"file\"\n",
    "#     ?: Dit is een wildcard die precies één willekeurig teken vervangt. Bijvoorbeeld file1.csv of fileA.csv, maar niet file10.csv (dat bevat meer dan één teken).\n",
    "#     .csv: De bestanden moeten eindigen met de extensie .csv\n",
    "# .glob() geeft de files niet altijd in de verwachte volgorde -> sorted!\n",
    "csv_files = sorted(Path.cwd().glob(\"file?.csv\"))\n",
    "\n",
    "# Maak een lege array van de juiste vorm (aantal bestanden, rijen, kolommen)\n",
    "# Hier aangenomen dat elk bestand dezelfde vorm heeft, bijvoorbeeld 2x3\n",
    "num_files = len(csv_files)\n",
    "array_shape = (num_files, 2, 3)  # Pas de vorm aan afhankelijk van je data\n",
    "array = np.zeros(array_shape)\n",
    "\n",
    "# Lees de bestanden en vul de array\n",
    "# numpy.loadtxt() in NumPy wordt gebruikt om gegevens uit een tekstbestand in te lezen en om te zetten in een NumPy-array\n",
    "for file_count, csv_file in enumerate(csv_files):\n",
    "    array[file_count] = np.loadtxt(csv_file, delimiter=\",\")\n",
    "\n",
    "print(\"Gecombineerde array:\")\n",
    "print(array)"
   ]
  },
  {
   "cell_type": "markdown",
   "id": "cae5d2ec-5ab1-4e17-ab39-6cc973e385fd",
   "metadata": {
    "slideshow": {
     "slide_type": "slide"
    }
   },
   "source": [
    "### Wat met verschillende sizes van data?"
   ]
  },
  {
   "cell_type": "markdown",
   "id": "1d713133-aed3-4c41-8e1a-07571f4fc21f",
   "metadata": {
    "slideshow": {
     "slide_type": "subslide"
    }
   },
   "source": [
    "**Undersized data**"
   ]
  },
  {
   "cell_type": "markdown",
   "id": "0e46b72f-27b9-4e14-87cf-64863c70b929",
   "metadata": {
    "slideshow": {
     "slide_type": "subslide"
    }
   },
   "source": [
    "Om te beginnen voeg je enkele te kleine gegevens toe. Je vindt deze in een bestand genaamd short_file.csv, dat slechts één rij bevat: CSV short_file.csv 4.1, 4.2, 4.3\n",
    "\n",
    "Je wilt dit aan het einde van je array toevoegen zoals hieronder getoond:"
   ]
  },
  {
   "cell_type": "markdown",
   "id": "13e6aa0c-e672-4e24-8de3-c25c87ebbddb",
   "metadata": {
    "slideshow": {
     "slide_type": "slide"
    }
   },
   "source": [
    "![alt text](updated_array.png \"Optionele titel\")"
   ]
  },
  {
   "cell_type": "code",
   "execution_count": 25,
   "id": "a69b9fc5-c3b4-4bbf-91bb-dce130bbda0e",
   "metadata": {
    "slideshow": {
     "slide_type": "slide"
    }
   },
   "outputs": [
    {
     "data": {
      "text/plain": [
       "array([[[1.1, 1.2, 1.3],\n",
       "        [1.4, 1.5, 1.6]],\n",
       "\n",
       "       [[2.1, 2.2, 2.3],\n",
       "        [2.4, 2.5, 2.6]],\n",
       "\n",
       "       [[3.1, 3.2, 3.3],\n",
       "        [3.4, 3.5, 3.6]],\n",
       "\n",
       "       [[4.1, 4.2, 4.3],\n",
       "        [0. , 0. , 0. ]]])"
      ]
     },
     "execution_count": 25,
     "metadata": {},
     "output_type": "execute_result"
    }
   ],
   "source": [
    "# Inlezen van de 3 initiële files en \n",
    "array = np.zeros((4, 2, 3))\n",
    "for file_count, csv_file in enumerate(sorted(Path.cwd().glob(\"file?.csv\"))):\n",
    "    array[file_count] = np.loadtxt(csv_file.name, delimiter=\",\")\n",
    "\n",
    "array[3, 0] = np.loadtxt(\"short_file.csv\", delimiter=\",\")\n",
    "array"
   ]
  },
  {
   "cell_type": "markdown",
   "id": "ba26e483-4cd2-46e4-9485-84853f462ce9",
   "metadata": {
    "slideshow": {
     "slide_type": "slide"
    }
   },
   "source": [
    "#### Inlezen:\n",
    "- **Vier bestanden inlezen**: Dit keer worden vier aparte bestanden ingelezen.\n",
    "- **Aanvankelijke Array Vorm**: De array die je maakt heeft de vorm **(4, 2, 3)**.\n",
    "- **Extra Dimensie Nodig**:\n",
    "  - Om het vierde bestand op te slaan, voeg je een extra dimensie toe langs **as-0**.\n",
    "  - Dit gebeurt in **regel 1**."
   ]
  },
  {
   "cell_type": "markdown",
   "id": "c6ac44c5-1c04-43b9-95d4-ef662c3593b7",
   "metadata": {
    "slideshow": {
     "slide_type": "slide"
    }
   },
   "source": [
    "#### Gebruik van de For-Lus:\n",
    "- **Eerste Drie Bestanden**:\n",
    "  - De **for-lus** leest de eerste drie bestanden, net zoals eerder.\n",
    "- **Kort Bestand Inlezen**:\n",
    "  - Python moet exact weten **waar** je het vierde (korte) bestand wilt plaatsen.\n",
    "  - Gebruik **array[3, 0]**:\n",
    "    - **3** staat voor de indexpositie langs **as-2**.\n",
    "    - **0** specificeert dat de invoer vanaf rij **0** moet starten."
   ]
  },
  {
   "cell_type": "markdown",
   "id": "f4583a6b-a4a8-42ac-b9ae-ccfced1f29b1",
   "metadata": {
    "slideshow": {
     "slide_type": "slide"
    }
   },
   "source": [
    "#### Efficiëntie:\n",
    "- **Geheugengebruik**:\n",
    "  - De array werd vooraf aangemaakt.\n",
    "  - Dit voorkomt dat het object meerdere keren inefficiënt gekopieerd hoeft te worden."
   ]
  },
  {
   "cell_type": "markdown",
   "id": "49d4d735-44fb-41b2-9e5f-4555d3f6a02c",
   "metadata": {
    "slideshow": {
     "slide_type": "slide"
    }
   },
   "source": [
    "**Oversized data**  \n",
    "\n",
    "Stel dat het vierde bestand in plaats van te kort juist te lang was. Je vraagt je misschien af hoe je met zulke bestanden moet omgaan. Deze keer gebruik je een bestand genaamd long_file.csv, dat een extra rij bevat.  Je wil dit document opnemen in je array op de positie zoals hieronder aangegeven. Zoals je in het diagram kunt zien, moet de rest van de array worden uitgebreid met een extra rij om het te kunnen accommoderen."
   ]
  },
  {
   "cell_type": "markdown",
   "id": "2eb9c461-fd73-4cbe-bfbb-136c312172c0",
   "metadata": {
    "slideshow": {
     "slide_type": "slide"
    }
   },
   "source": [
    "![alt text](array_extended.png \"Optionele titel\")"
   ]
  },
  {
   "cell_type": "code",
   "execution_count": 15,
   "id": "eb4aa905-d9df-4bd2-a557-1b60167287fc",
   "metadata": {
    "slideshow": {
     "slide_type": "slide"
    }
   },
   "outputs": [
    {
     "name": "stdout",
     "output_type": "stream",
     "text": [
      "Initial array ID: 128168773750672\n",
      "Updated array ID: 128168773749904\n",
      "Final array:\n",
      " [[[1.1 1.2 1.3]\n",
      "  [1.4 1.5 1.6]\n",
      "  [0.  0.  0. ]]\n",
      "\n",
      " [[2.1 2.2 2.3]\n",
      "  [2.4 2.5 2.6]\n",
      "  [0.  0.  0. ]]\n",
      "\n",
      " [[3.1 3.2 3.3]\n",
      "  [3.4 3.5 3.6]\n",
      "  [0.  0.  0. ]]\n",
      "\n",
      " [[4.1 4.2 4.3]\n",
      "  [4.4 4.5 4.6]\n",
      "  [4.7 4.8 4.9]]]\n"
     ]
    }
   ],
   "source": [
    "# Create an initial 4x2x3 array filled with zeros\n",
    "array = np.zeros((4, 2, 3))\n",
    "print(\"Initial array ID:\", id(array))\n",
    "\n",
    "# Load CSV files into the array\n",
    "for file_count, csv_file in enumerate(sorted(Path.cwd().glob(\"file?.csv\"))):\n",
    "    array[file_count] = np.loadtxt(csv_file.name, delimiter=\",\")\n",
    "\n",
    "# Insert a new row filled with zeros into the array at index position 2 along the chosen axis\n",
    "array = np.insert(arr=array, obj=2, values=0, axis=1)\n",
    "\n",
    "# Load data from \"long_file.csv\" into the 3rd row of the array\n",
    "array[3] = np.loadtxt(\"long_file.csv\", delimiter=\",\")\n",
    "\n",
    "# Print the ID of the updated array\n",
    "print(\"Updated array ID:\", id(array))\n",
    "\n",
    "# Print the final array\n",
    "print(\"Final array:\\n\", array)"
   ]
  },
  {
   "cell_type": "markdown",
   "id": "06d95913-bacf-4173-8ddd-adf9c67f2bfb",
   "metadata": {
    "slideshow": {
     "slide_type": "slide"
    }
   },
   "source": [
    "### Topic 2: Tabulaire gegevens in Gestructureerde Arrays\n",
    "\n",
    "Met de NumPy-arrays die je in het vorige voorbeeld hebt gemaakt, was er geen manier om de betekenis van de gegevens in elke kolom te weten. Het zou mooi zijn als je specifieke kolommen kon verwijzen met betekenisvolle namen in plaats van indexnummers. In plaats van bijvoorbeeld `student_grades = results[:, 1]` te gebruiken, zou je `student_grades = results[\"exam_grade\"]` kunnen gebruiken. Goed nieuws! Je kunt dit doen door een gestructureerde array te maken."
   ]
  },
  {
   "cell_type": "markdown",
   "id": "61ecf4e9-060f-4360-af0d-509b072cf47d",
   "metadata": {
    "slideshow": {
     "slide_type": "subslide"
    }
   },
   "source": [
    "Gestructureerde arrays in NumPy zijn een type array waarmee je kunt werken met tabulaire gegevens, vergelijkbaar met een spreadsheet of een database tabel. In plaats van dat alle elementen hetzelfde type moeten hebben, zoals in standaard NumPy-arrays, kun je verschillende datavelden definiëren, elk met zijn eigen type."
   ]
  },
  {
   "cell_type": "markdown",
   "id": "c5a34c2e-d073-474d-a1bc-8d1dc9626a5d",
   "metadata": {
    "slideshow": {
     "slide_type": "slide"
    }
   },
   "source": [
    "### Waarom gestructureerde arrays gebruiken?\n",
    "1. **Tabulaire gegevens:**\n",
    "   - Ideaal voor het opslaan van datasets waarin rijen meerdere kolommen met verschillende typen bevatten, zoals een lijst van personen met namen (strings), leeftijden (integers), en inkomens (floats).\n",
    "   \n",
    "2. **Flexibiliteit:**\n",
    "   - Elk veld heeft zijn eigen naam, wat zorgt voor een duidelijke en gestructureerde toegang tot data.\n",
    "\n",
    "3. **Efficiëntie:**\n",
    "   - Data wordt opgeslagen in een enkel blok geheugen, wat het efficiënt maakt voor grote datasets."
   ]
  },
  {
   "cell_type": "markdown",
   "id": "81121dfa-47ff-4407-b7b9-083db7cc066f",
   "metadata": {
    "slideshow": {
     "slide_type": "slide"
    }
   },
   "source": [
    "### Hoe maak je een gestructureerde array?\n",
    "\n",
    "#### 1. **Met een dtype specificatie**\n",
    "Je definieert een dtype met veldnamen en hun corresponderende typen.\n",
    "\n",
    "```python\n",
    "import numpy as np\n",
    "\n",
    "# Definieer een dtype\n",
    "dtype = [('naam', 'U10'), ('leeftijd', 'i4'), ('inkomen', 'f8')]\n",
    "\n",
    "# Maak een gestructureerde array\n",
    "data = np.array([('Alice', 25, 50000.0),\n",
    "                 ('Bob', 30, 60000.0),\n",
    "                 ('Charlie', 35, 70000.0)], dtype=dtype)\n",
    "\n",
    "print(data)\n",
    "```"
   ]
  },
  {
   "cell_type": "markdown",
   "id": "cfd4b046-a8cf-4a96-9b55-2a830aa299b0",
   "metadata": {
    "slideshow": {
     "slide_type": "subslide"
    }
   },
   "source": [
    "**Output:**\n",
    "```plaintext\n",
    "[('Alice', 25, 50000.) ('Bob', 30, 60000.) ('Charlie', 35, 70000.)]\n",
    "```"
   ]
  },
  {
   "cell_type": "markdown",
   "id": "81c414e1-7161-4c82-8a7d-cd21c5911b9f",
   "metadata": {
    "slideshow": {
     "slide_type": "slide"
    }
   },
   "source": [
    "#### 2. **Data benaderen**\n",
    "Je kunt data benaderen met veldnamen:\n",
    "\n",
    "```python\n",
    "# Toegang tot een veld\n",
    "print(data['naam'])       # Output: ['Alice' 'Bob' 'Charlie']\n",
    "print(data['leeftijd'])   # Output: [25 30 35]\n",
    "\n",
    "# Specifieke rij\n",
    "print(data[1])            # Output: ('Bob', 30, 60000.)\n",
    "```"
   ]
  },
  {
   "cell_type": "markdown",
   "id": "e8c945b9-24b6-478c-9e91-74cb511e7e92",
   "metadata": {
    "slideshow": {
     "slide_type": "slide"
    }
   },
   "source": [
    "#### 3. **Data toevoegen of wijzigen**\n",
    "```python\n",
    "data['leeftijd'][1] = 32  # Wijzig de leeftijd van Bob\n",
    "print(data)\n",
    "\n",
    "# Output:\n",
    "# [('Alice', 25, 50000.) ('Bob', 32, 60000.) ('Charlie', 35, 70000.)]\n",
    "```"
   ]
  },
  {
   "cell_type": "markdown",
   "id": "88d3a2a0-5437-48f5-b2f6-faddb9416b12",
   "metadata": {
    "slideshow": {
     "slide_type": "slide"
    }
   },
   "source": [
    "### Meer geavanceerde mogelijkheden\n",
    "\n",
    "#### 1. **Complexere dtypes**\n",
    "Je kunt veldtypen combineren, zoals lijsten, tuples of geneste velden:\n",
    "\n",
    "```python\n",
    "dtype = [('id', 'i4'), ('scores', 'f4', (3,))]  # Een veld 'scores' met 3 floats\n",
    "data = np.array([(1, [95.0, 88.0, 92.0]),\n",
    "                 (2, [78.0, 81.0, 85.0])], dtype=dtype)\n",
    "\n",
    "print(data)\n",
    "print(data['scores'])  # Output: [[95. 88. 92.] [78. 81. 85.]]\n",
    "```"
   ]
  },
  {
   "cell_type": "markdown",
   "id": "a368e137-9c68-4c63-84ba-6a71793ac236",
   "metadata": {
    "slideshow": {
     "slide_type": "slide"
    }
   },
   "source": [
    "#### 2. **Velden sorteren**\n",
    "```python\n",
    "sorted_data = np.sort(data, order='leeftijd')\n",
    "print(sorted_data)\n",
    "```"
   ]
  },
  {
   "cell_type": "markdown",
   "id": "901d5ccf-5684-4769-8937-2e53a6de81dd",
   "metadata": {
    "slideshow": {
     "slide_type": "subslide"
    }
   },
   "source": [
    "#### 3. **Filtreren**\n",
    "Je kunt eenvoudig filters toepassen op een veld:\n",
    "\n",
    "```python\n",
    "high_income = data[data['inkomen'] > 55000]\n",
    "print(high_income)  # Output: [('Bob', 32, 60000.) ('Charlie', 35, 70000.)]\n",
    "```"
   ]
  },
  {
   "cell_type": "markdown",
   "id": "5a7d09a8-4f02-4371-94f2-c204aaed686c",
   "metadata": {
    "slideshow": {
     "slide_type": "slide"
    }
   },
   "source": [
    "### Alternatieven\n",
    "Voor complexe datastructuren en gemengde types wordt vaak **pandas** gebruikt in plaats van gestructureerde arrays, omdat pandas veel meer functionaliteit biedt voor data-analyse en manipulatie."
   ]
  },
  {
   "cell_type": "markdown",
   "id": "45aa9073-f54e-4d44-ae43-5012229cea79",
   "metadata": {
    "slideshow": {
     "slide_type": "slide"
    }
   },
   "source": [
    "### Wanneer gestructureerde arrays gebruiken?\n",
    "1. **Als efficiëntie belangrijk is:**\n",
    "   - Gestructureerde arrays zijn efficiënter dan Python-datastructuren zoals lijsten of dictionaries.\n",
    "2. **Als je een eenvoudige tabulaire dataset hebt:**\n",
    "   - Bij meer complexe datasets (met ontbrekende waarden, geavanceerde indexen, etc.) is pandas meestal beter geschikt.\n"
   ]
  },
  {
   "cell_type": "markdown",
   "id": "5ef8e2d3-33cb-485b-a194-ca387b46f494",
   "metadata": {
    "slideshow": {
     "slide_type": "slide"
    }
   },
   "source": [
    "### Overzicht van veelgebruikte Numpy Datatypes:\n",
    "\n",
    "| **Categorie**            | **Datatype**                 | **Beschrijving**                                                                                       |\n",
    "|--------------------------|------------------------------|--------------------------------------------------------------------------------------------------------|\n",
    "| **Numerieke datatypes**  | `int8`, `int16`, `int32`, `int64`  | Gehele getallen (positief/negatief) met respectievelijk 1, 2, 4 of 8 bytes.                               |\n",
    "|                          | `uint8`, `uint16`, `uint32`, `uint64` | Unsigned integers (alleen positief) met respectievelijk 1, 2, 4 of 8 bytes.                              |\n",
    "|                          | `float16`, `float32`, `float64` | Zwevendekommagetallen met respectievelijk 16, 32 of 64 bits precisie.                                  |\n",
    "|                          | `complex64`, `complex128`    | Complexe getallen met zwevendekommagetallen van respectievelijk 32 bits en 64 bits.                    |\n",
    "| **Tekst- en stringtypen**| `U` (Unicode)               | Unicode-strings, bijvoorbeeld `U10` (Unicode met maximaal 10 tekens).                                  |\n",
    "|                          | `S` (Bytestring)            | Bytestrings, bijvoorbeeld `S10` (bytestring met maximaal 10 bytes).                                    |\n",
    "| **Boolean**              | `bool`                      | Voorwaarden die `True` of `False` representeren.                                                      |\n",
    "| **Datetimetypes**        | `datetime64`                | Datums en tijden, bijvoorbeeld `datetime64[D]` (dag), `datetime64[ms]` (milliseconden).               |\n",
    "|                          | `timedelta64`               | Tijdsverschillen of intervallen.                                                                       |\n",
    "| **Geavanceerde structuren** | Gestructureerde arrays    | Combinatie van types, zoals `dtype=[('veld1', 'int32'), ('veld2', 'float64')]`.                        |\n",
    "|                          | `object`                    | Algemene objecttypen, bijvoorbeeld Python-objecten. Minder efficiënt dan andere datatypes.             |\n",
    "\n"
   ]
  },
  {
   "cell_type": "markdown",
   "id": "cb08d476-04cd-4c4b-83d2-1f038572022d",
   "metadata": {
    "slideshow": {
     "slide_type": "slide"
    }
   },
   "source": [
    "### Gestructureerde Arrays Maken: voorbeeld\n",
    "\n",
    "Een gestructureerde array is een NumPy-array met een datatype dat bestaat uit een set tuples, elk met een veldnaam en een regulier datatype. Zodra je deze hebt gedefinieerd, kun je elk afzonderlijk veld benaderen en wijzigen met behulp van de veldnaam."
   ]
  },
  {
   "cell_type": "markdown",
   "id": "6c856fbb-af09-47bf-a6d2-376464a19bc6",
   "metadata": {
    "slideshow": {
     "slide_type": "subslide"
    }
   },
   "source": [
    "Het onderstaande voorbeeld laat zien hoe je een gestructureerde NumPy-array maakt en verwijst:\n",
    "\n",
    "```python\n",
    "race_results = np.array([\n",
    "    (\"At The Back\", 1.2, 3),\n",
    "    (\"Fast Eddie\", 1.3, 1),\n",
    "    (\"Almost There\", 1.1, 2),\n",
    "], dtype=[(\"horse_name\", \"U12\"), (\"price\", \"f4\"), (\"position\", \"i4\")])\n",
    "\n",
    "print(race_results[\"horse_name\"])\n",
    "```\n",
    "\n",
    "Het gestructureerde array is gedefinieerd met drie velden: `horse_name`, `price` en `position`. Hiermee kun je de gegevens eenvoudiger benaderen."
   ]
  },
  {
   "cell_type": "markdown",
   "id": "54573ac7-f2f0-40b6-b8db-0887dfe8f775",
   "metadata": {
    "slideshow": {
     "slide_type": "slide"
    }
   },
   "source": [
    "### Topic 3: Dubbele Gegevens Verwijderen Uit een NumPy-Array\n",
    "\n",
    "Het komt vaak voor dat je gegevens hebt met duplicaten, die je wilt verwijderen om analyses of verdere verwerking eenvoudiger te maken. NumPy biedt hiervoor handige methoden om dubbele rijen of waarden uit een array te verwijderen.\n",
    "\n",
    "Stel dat je een array hebt met enkele dubbele waarden, zoals hieronder weergegeven:\n",
    "\n",
    "```python\n",
    "import numpy as np\n",
    "\n",
    "# Maak een array met dubbele waarden\n",
    "data = np.array([1, 2, 2, 3, 4, 4, 5])\n",
    "\n",
    "# Verwijder dubbele waarden met np.unique()\n",
    "unieke_data = np.unique(data)\n",
    "\n",
    "print(unieke_data)\n",
    "```"
   ]
  },
  {
   "cell_type": "markdown",
   "id": "db800723-b59b-456d-b246-10afa636193b",
   "metadata": {
    "slideshow": {
     "slide_type": "slide"
    }
   },
   "source": [
    "De uitvoer van dit script is:\n",
    "\n",
    "```\n",
    "[1 2 3 4 5]\n",
    "```\n",
    "Met de functie `np.unique()` kun je eenvoudig alle dubbele waarden verwijderen, zodat je alleen de unieke elementen overhoudt. Dit is vooral handig bij het werken met grote datasets waarin duplicaten de analyse kunnen verstoren."
   ]
  },
  {
   "cell_type": "markdown",
   "id": "24532843-4ee9-4082-827c-21f541602802",
   "metadata": {
    "slideshow": {
     "slide_type": "slide"
    }
   },
   "source": [
    "Als je met tweedimensionale arrays werkt en je wilt duplicaten op rijniveau verwijderen, kun je `np.unique()` gebruiken met de parameter `axis=0` om ervoor te zorgen dat hele rijen als duplicaten worden beschouwd:\n",
    "\n",
    "```python\n",
    "# Maak een 2D-array met dubbele rijen\n",
    "data_2d = np.array([[1, 2], [3, 4], [1, 2], [5, 6], [3, 4]])\n",
    "\n",
    "# Verwijder dubbele rijen\n",
    "unieke_data_2d = np.unique(data_2d, axis=0)\n",
    "\n",
    "print(unieke_data_2d)\n",
    "```"
   ]
  },
  {
   "cell_type": "markdown",
   "id": "571a7132-a302-4d97-821d-4468792733fb",
   "metadata": {
    "slideshow": {
     "slide_type": "subslide"
    }
   },
   "source": [
    "De uitvoer van dit script is:\n",
    "\n",
    "```\n",
    "[[1 2]\n",
    " [3 4]\n",
    " [5 6]]\n",
    "```\n",
    "\n",
    "Hiermee worden alle dubbele rijen uit de array verwijderd, zodat je alleen de unieke rijen overhoudt."
   ]
  },
  {
   "cell_type": "markdown",
   "id": "656edef6-5133-4bd1-b709-1b3877473aac",
   "metadata": {
    "slideshow": {
     "slide_type": "slide"
    }
   },
   "source": [
    "### Topic 4: Specifieke Delen van Hiërarchische Gegevens Analyseren \n",
    "\n",
    "Hiërarchische gegevens zijn gegevens die uit verschillende niveaus bestaan, waarbij elk niveau is gekoppeld aan de niveaus direct boven en onder. In dit voorbeeld analyseren we een aandelenportefeuille met meerdere investeringen, waarbij elke investering dagelijkse prijsbewegingen bevat."
   ]
  },
  {
   "cell_type": "markdown",
   "id": "b8ee9639-747b-4198-9a22-d5d15ded80ad",
   "metadata": {
    "slideshow": {
     "slide_type": "subslide"
    }
   },
   "source": [
    "Stel dat je een gestructureerde array hebt met de dagelijkse prijzen van verschillende bedrijven, zoals hieronder weergegeven:"
   ]
  },
  {
   "cell_type": "code",
   "execution_count": 19,
   "id": "71c51346-2bb8-41c6-8b9b-82e6cab41197",
   "metadata": {
    "slideshow": {
     "slide_type": "slide"
    }
   },
   "outputs": [],
   "source": [
    "import numpy as np\n",
    "\n",
    "portfolio = np.array([\n",
    "    ('Company A', 'Technology', 100.5, 101.2, 102.0, 101.8, 112.5),\n",
    "    ('Company B', 'Finance', 200.1, 199.8, 200.5, 201.0, 200.8),\n",
    "    ('Company C', 'Healthcare', 50.3, 50.5, 51.0, 50.8, 51.2),\n",
    "    ('Company D', 'Technology', 110.5, 101.2, 102.0, 111.8, 97.5),\n",
    "], dtype=[('company', 'U20'), ('sector', 'U20'), ('mon', 'f8'), ('tue', 'f8'), ('wed', 'f8'), ('thu', 'f8'), ('fri', 'f8')])"
   ]
  },
  {
   "cell_type": "code",
   "execution_count": 20,
   "id": "dac0ff5a-b7ec-47b1-a591-bc3b450d030c",
   "metadata": {
    "slideshow": {
     "slide_type": "slide"
    }
   },
   "outputs": [],
   "source": [
    "# Filter bedrijven in de technologiesector\n",
    "tech_mask = portfolio['sector'] == 'Technology'\n",
    "tech_companies = portfolio[tech_mask]"
   ]
  },
  {
   "cell_type": "code",
   "execution_count": 21,
   "id": "4be27c38-b9ee-4bd0-9438-27228ca378f5",
   "metadata": {
    "slideshow": {
     "slide_type": "subslide"
    }
   },
   "outputs": [
    {
     "data": {
      "text/plain": [
       "array([('Company A', 'Technology', 100.5, 101.2, 102., 101.8, 112.5),\n",
       "       ('Company D', 'Technology', 110.5, 101.2, 102., 111.8,  97.5)],\n",
       "      dtype=[('company', '<U20'), ('sector', '<U20'), ('mon', '<f8'), ('tue', '<f8'), ('wed', '<f8'), ('thu', '<f8'), ('fri', '<f8')])"
      ]
     },
     "execution_count": 21,
     "metadata": {},
     "output_type": "execute_result"
    }
   ],
   "source": [
    "tech_companies"
   ]
  },
  {
   "cell_type": "code",
   "execution_count": 22,
   "id": "261b9184-f293-4775-93ad-d889b45a7a4a",
   "metadata": {
    "slideshow": {
     "slide_type": "slide"
    }
   },
   "outputs": [],
   "source": [
    "# Haal de vrijdagprijzen van technologiebedrijven op\n",
    "friday_prices = tech_companies['fri']\n",
    "companies = tech_companies['company']"
   ]
  },
  {
   "cell_type": "code",
   "execution_count": 23,
   "id": "e194ba92-46f4-4b82-85d9-1b87910e5c62",
   "metadata": {
    "slideshow": {
     "slide_type": "subslide"
    }
   },
   "outputs": [
    {
     "data": {
      "text/plain": [
       "array(['Company A', 'Company D'], dtype='<U20')"
      ]
     },
     "execution_count": 23,
     "metadata": {},
     "output_type": "execute_result"
    }
   ],
   "source": [
    "companies"
   ]
  },
  {
   "cell_type": "markdown",
   "id": "fa6226dc-5ba9-45f7-962c-c96165b6e8fa",
   "metadata": {
    "slideshow": {
     "slide_type": "slide"
    }
   },
   "source": [
    "In dit voorbeeld hebben we een array `portfolio` met informatie over verschillende bedrijven en hun dagelijkse prijzen. We hebben gefilterd op bedrijven in de technologiesector en de vrijdagprijzen opgehaald. Dit helpt om inzicht te krijgen in de prestaties van specifieke delen van de gegevens."
   ]
  },
  {
   "cell_type": "markdown",
   "id": "d72cbad5-e3a0-4cd9-90a2-d672716364fc",
   "metadata": {
    "slideshow": {
     "slide_type": "slide"
    }
   },
   "source": [
    "### Topic 5: Je Eigen Gevectoriseerde Functies Schrijven"
   ]
  },
  {
   "cell_type": "markdown",
   "id": "3c9a3ae8-e4fd-477f-89bc-47f76f2cc112",
   "metadata": {
    "slideshow": {
     "slide_type": "subslide"
    }
   },
   "source": [
    "Een van de voordelen van NumPy is het vermogen om berekeningen uit te voeren op volledige arrays zonder dat de programmeur langzame loops hoeft te schrijven die door elke rij of elk element gaan. In plaats daarvan gebruikt NumPy de onderliggende C-taal om de berekening op de hele array uit te voeren. Dit staat bekend als vectorisatie.\n",
    "\n",
    "In deze laatste sectie werk je met het bestand full_portfolio.csv\n",
    "\n",
    "De onderstaande code laat vectorisatie in actie zien:"
   ]
  },
  {
   "cell_type": "code",
   "execution_count": 16,
   "id": "032c5463-6bd7-46f9-8db8-8f43a2d2216f",
   "metadata": {
    "slideshow": {
     "slide_type": "slide"
    }
   },
   "outputs": [
    {
     "data": {
      "text/plain": [
       "array([ 12. ,   0.7,   0.9, -13. ,   0.7,  -3.1])"
      ]
     },
     "execution_count": 16,
     "metadata": {},
     "output_type": "execute_result"
    }
   ],
   "source": [
    "share_dtypes = [\n",
    "    (\"company\", \"U20\"),\n",
    "    (\"sector\", \"U20\"),\n",
    "    (\"mon\", \"f8\"),\n",
    "    (\"tue\", \"f8\"),\n",
    "    (\"wed\", \"f8\"),\n",
    "    (\"thu\", \"f8\"),\n",
    "    (\"fri\", \"f8\"),\n",
    "]\n",
    "\n",
    "portfolio = np.loadtxt(\n",
    "    Path(\"full_portfolio.csv\"),\n",
    "    delimiter=\",\",\n",
    "    dtype=share_dtypes,\n",
    "    skiprows=1,\n",
    ")\n",
    "\n",
    "portfolio[\"fri\"] - portfolio[\"mon\"]"
   ]
  },
  {
   "cell_type": "markdown",
   "id": "26a5a42f-a77b-4c0d-882a-a7449282e9de",
   "metadata": {
    "slideshow": {
     "slide_type": "slide"
    }
   },
   "source": [
    "Na het construeren van de gestructureerde array portfolio, besluit je te kijken hoe je aandelen het gedurende de week hebben gedaan. Om dit te doen, kies je twee arrays — een met de aandelenprijzen van maandag en een met die van vrijdag. Om de wekelijkse verandering te zien, trek je de maandagprijzen af van de vrijdagprijzen.\n",
    "\n",
    "> Let op dat, hoewel je één array van de andere aftrekt, NumPy elk individueel element van de arrays aftrekt zonder dat je code hoeft te schrijven die door elk van hen afzonderlijk loopt. Dit is vectorisatie."
   ]
  },
  {
   "cell_type": "markdown",
   "id": "8e23bb33-21e4-485f-b0a7-4a42681986a2",
   "metadata": {
    "slideshow": {
     "slide_type": "slide"
    }
   },
   "source": [
    "**Een eigen functie vectoriseren**  \n",
    "\n",
    "Stel nu dat je een extra bonus van 10% krijgt op aandelen die gedurende de week die je analyseert met meer dan 1% in waarde zijn gestegen. Om je winst inclusief de bonus te berekenen, moet je rekening houden met twee gevallen — die aandelen die de bonus krijgen en die niet. Hiervoor zou je het volgende kunnen proberen:"
   ]
  },
  {
   "cell_type": "code",
   "execution_count": 17,
   "id": "64deb16a-a6e2-41c7-9106-2593f096c9d0",
   "metadata": {
    "slideshow": {
     "slide_type": "slide"
    }
   },
   "outputs": [
    {
     "ename": "ValueError",
     "evalue": "The truth value of an array with more than one element is ambiguous. Use a.any() or a.all()",
     "output_type": "error",
     "traceback": [
      "\u001b[0;31m---------------------------------------------------------------------------\u001b[0m",
      "\u001b[0;31mValueError\u001b[0m                                Traceback (most recent call last)",
      "Cell \u001b[0;32mIn[17], line 7\u001b[0m\n\u001b[1;32m      4\u001b[0m     \u001b[38;5;28;01melse\u001b[39;00m:\n\u001b[1;32m      5\u001b[0m         \u001b[38;5;28;01mreturn\u001b[39;00m last_day \u001b[38;5;241m-\u001b[39m first_day\n\u001b[0;32m----> 7\u001b[0m \u001b[43mprofit_with_bonus\u001b[49m\u001b[43m(\u001b[49m\u001b[43mportfolio\u001b[49m\u001b[43m[\u001b[49m\u001b[38;5;124;43m\"\u001b[39;49m\u001b[38;5;124;43mmon\u001b[39;49m\u001b[38;5;124;43m\"\u001b[39;49m\u001b[43m]\u001b[49m\u001b[43m,\u001b[49m\u001b[43m \u001b[49m\u001b[43mportfolio\u001b[49m\u001b[43m[\u001b[49m\u001b[38;5;124;43m\"\u001b[39;49m\u001b[38;5;124;43mfri\u001b[39;49m\u001b[38;5;124;43m\"\u001b[39;49m\u001b[43m]\u001b[49m\u001b[43m)\u001b[49m\n",
      "Cell \u001b[0;32mIn[17], line 2\u001b[0m, in \u001b[0;36mprofit_with_bonus\u001b[0;34m(first_day, last_day)\u001b[0m\n\u001b[1;32m      1\u001b[0m \u001b[38;5;28;01mdef\u001b[39;00m \u001b[38;5;21mprofit_with_bonus\u001b[39m(first_day, last_day):\n\u001b[0;32m----> 2\u001b[0m     \u001b[38;5;28;01mif\u001b[39;00m last_day \u001b[38;5;241m>\u001b[39m\u001b[38;5;241m=\u001b[39m first_day \u001b[38;5;241m*\u001b[39m \u001b[38;5;241m1.01\u001b[39m:\n\u001b[1;32m      3\u001b[0m         \u001b[38;5;28;01mreturn\u001b[39;00m (last_day \u001b[38;5;241m-\u001b[39m first_day) \u001b[38;5;241m*\u001b[39m \u001b[38;5;241m1.1\u001b[39m\n\u001b[1;32m      4\u001b[0m     \u001b[38;5;28;01melse\u001b[39;00m:\n",
      "\u001b[0;31mValueError\u001b[0m: The truth value of an array with more than one element is ambiguous. Use a.any() or a.all()"
     ]
    }
   ],
   "source": [
    "def profit_with_bonus(first_day, last_day):\n",
    "    if last_day >= first_day * 1.01:\n",
    "        return (last_day - first_day) * 1.1\n",
    "    else:\n",
    "        return last_day - first_day\n",
    "\n",
    "profit_with_bonus(portfolio[\"mon\"], portfolio[\"fri\"])"
   ]
  },
  {
   "cell_type": "markdown",
   "id": "b993c4e5-fb7e-4188-b08e-0dd62238388e",
   "metadata": {
    "slideshow": {
     "slide_type": "slide"
    }
   },
   "source": [
    "Hier krijg je een ValueError omdat de functie niet in staat is de arrays die je hebt doorgegeven te interpreteren. De functie werkt alleen als je twee getallen doorgeeft. Om deze functie te laten werken met arrays, kun je gebruikmaken van np.vectorize()."
   ]
  },
  {
   "cell_type": "code",
   "execution_count": 18,
   "id": "5781d523-8df5-4d61-9e05-9078e9b4b829",
   "metadata": {
    "slideshow": {
     "slide_type": "subslide"
    }
   },
   "outputs": [
    {
     "data": {
      "text/plain": [
       "array([ 13.2 ,   0.7 ,   0.99, -13.  ,   0.7 ,  -3.1 ])"
      ]
     },
     "execution_count": 18,
     "metadata": {},
     "output_type": "execute_result"
    }
   ],
   "source": [
    "vectorized_profit_with_bonus = np.vectorize(profit_with_bonus)\n",
    "vectorized_profit_with_bonus(portfolio[\"mon\"], portfolio[\"fri\"])"
   ]
  },
  {
   "cell_type": "markdown",
   "id": "a70637f1-4cf0-4e23-82fe-bf3024c18738",
   "metadata": {
    "slideshow": {
     "slide_type": "slide"
    }
   },
   "source": [
    "Dit verandert de oorspronkelijke functie in een versie die met arrays werkt en toont aan dat je de winst inclusief bonus kunt berekenen voor alle aandelen."
   ]
  },
  {
   "cell_type": "code",
   "execution_count": null,
   "id": "f13e73f2-69bb-4a63-8707-2120d2607e2a",
   "metadata": {},
   "outputs": [],
   "source": []
  }
 ],
 "metadata": {
  "celltoolbar": "Slideshow",
  "kernelspec": {
   "display_name": "Python 3 (ipykernel)",
   "language": "python",
   "name": "python3"
  },
  "language_info": {
   "codemirror_mode": {
    "name": "ipython",
    "version": 3
   },
   "file_extension": ".py",
   "mimetype": "text/x-python",
   "name": "python",
   "nbconvert_exporter": "python",
   "pygments_lexer": "ipython3",
   "version": "3.12.7"
  }
 },
 "nbformat": 4,
 "nbformat_minor": 5
}
