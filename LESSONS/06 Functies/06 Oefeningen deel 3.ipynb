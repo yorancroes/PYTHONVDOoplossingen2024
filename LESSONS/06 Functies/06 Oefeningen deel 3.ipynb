{
 "cells": [
  {
   "cell_type": "markdown",
   "id": "5181419e-f8d6-4d4c-96bd-15554a98b5a7",
   "metadata": {
    "tags": []
   },
   "source": [
    "![alt text](../../pythonexposed-high-resolution-logo-black.jpg \"Optionele titel\")"
   ]
  },
  {
   "cell_type": "markdown",
   "id": "5f2d910d-03d0-460b-b455-5dffc53db589",
   "metadata": {
    "tags": []
   },
   "source": [
    "### Functies - oefeningen"
   ]
  },
  {
   "cell_type": "markdown",
   "id": "8b179e2c-e73d-4638-b29a-65bc18fc2e5c",
   "metadata": {},
   "source": [
    "Voor deze opgave mag gebruik gemaakt worden van volgende zaken\n",
    "- de functie len(): len(x) geeft de lengte van de string of de array x terug\n",
    "- de functie ord() ord(x) geeft de ascii-waarde van het karakter x terug hoewel deze functie nodig is, laat Python wel relationele operaties < en > toe op karakters\n",
    "- de functie chr() chr(x) geeft het ascii-karakter terug dat hoort bij de ascii-waarde x\n",
    "- de functie append(): x.append(y) de waarde y wordt toegevoegd aan de tabel x, waardoor x groter wordt.  Let op de puntnotatie!\n",
    "- de [] operator op strings x[i] geeft het i-de karakter terug van de string x\n",
    "- de functie isWhitespace(): isWhitespace(x) geeft True terug als x een onzichtbaar karakter is, anders False.  Deze functie kun je gewoon gebruiken as-is (we noemen een functie die True/False terugkeert een logische functie)."
   ]
  },
  {
   "cell_type": "markdown",
   "id": "7814de06-a56d-4c5d-b16e-1934649b833e",
   "metadata": {},
   "source": [
    "Gebruik van andere functies is niet nodig maar bovendien ‘verboden’! Alles wat je nodig hebt maak je in deze oefeningen zelf. Ter herinnering, het doel hier is het oefenen van functies, niet het aanleren van Python."
   ]
  },
  {
   "cell_type": "code",
   "execution_count": 7,
   "id": "1f5eb1a8-6acd-4627-adca-97a4b87331f7",
   "metadata": {},
   "outputs": [],
   "source": [
    "def isWhitespace(ch):\n",
    "    return ch == ' ' or ch == '\\t' or ch == '\\r' or ch == '\\n'"
   ]
  },
  {
   "cell_type": "markdown",
   "id": "d0aaa027-9b5d-430c-9251-34149e8742df",
   "metadata": {},
   "source": [
    "### Opgave\n",
    "\n",
    "Later zien we nog unit tests in Python.  Hieronder staan unit testen geschreven voor de functies die jij moet schrijven.  Bijvoorbeeld: de eerste test is ´testSplit'.  Dit betekent dat jij een functie genaamd ´Split' moet schrijven die aan alle vermelde testen dient te voldoen.  Door de cel met de testen in te runnen worden de tests uitgevoerd op jouw functies."
   ]
  },
  {
   "cell_type": "code",
   "execution_count": 12,
   "id": "26575039-8f27-45ff-a9a0-4a294adad0c3",
   "metadata": {},
   "outputs": [
    {
     "name": "stderr",
     "output_type": "stream",
     "text": [
      "EEEEEEE\n",
      "======================================================================\n",
      "ERROR: testIsAlpha (__main__.opgavetester.testIsAlpha)\n",
      "----------------------------------------------------------------------\n",
      "Traceback (most recent call last):\n",
      "  File \"/tmp/ipykernel_162168/2346131539.py\", line 25, in testIsAlpha\n",
      "    self.assertEqual(True, isAlpha('a'))\n",
      "                           ^^^^^^^\n",
      "NameError: name 'isAlpha' is not defined\n",
      "\n",
      "======================================================================\n",
      "ERROR: testIsDigit (__main__.opgavetester.testIsDigit)\n",
      "----------------------------------------------------------------------\n",
      "Traceback (most recent call last):\n",
      "  File \"/tmp/ipykernel_162168/2346131539.py\", line 15, in testIsDigit\n",
      "    self.assertEqual(True, isDigit('9'))\n",
      "                           ^^^^^^^\n",
      "NameError: name 'isDigit' is not defined\n",
      "\n",
      "======================================================================\n",
      "ERROR: testIsGeheel (__main__.opgavetester.testIsGeheel)\n",
      "----------------------------------------------------------------------\n",
      "Traceback (most recent call last):\n",
      "  File \"/tmp/ipykernel_162168/2346131539.py\", line 31, in testIsGeheel\n",
      "    self.assertEqual(True, isGeheel('314'))\n",
      "                           ^^^^^^^^\n",
      "NameError: name 'isGeheel' is not defined\n",
      "\n",
      "======================================================================\n",
      "ERROR: testSplit (__main__.opgavetester.testSplit)\n",
      "----------------------------------------------------------------------\n",
      "Traceback (most recent call last):\n",
      "  File \"/tmp/ipykernel_162168/2346131539.py\", line 7, in testSplit\n",
      "    self.assertEqual(['appels', 'en', 'peren'], split('appels en peren', ' '))\n",
      "                                                ^^^^^^^^^^^^^^^^^^^^^^^^^^^^^\n",
      "  File \"/tmp/ipykernel_162168/603634715.py\", line 2, in split\n",
      "    return trim(text_to_split).split(split_on)\n",
      "           ^^^^\n",
      "NameError: name 'trim' is not defined\n",
      "\n",
      "======================================================================\n",
      "ERROR: testToLower (__main__.opgavetester.testToLower)\n",
      "----------------------------------------------------------------------\n",
      "Traceback (most recent call last):\n",
      "  File \"/tmp/ipykernel_162168/2346131539.py\", line 22, in testToLower\n",
      "    self.assertEqual('123abcxyz#@&', toLower('123abcXYZ#@&'))\n",
      "                                     ^^^^^^^\n",
      "NameError: name 'toLower' is not defined\n",
      "\n",
      "======================================================================\n",
      "ERROR: testToUpper (__main__.opgavetester.testToUpper)\n",
      "----------------------------------------------------------------------\n",
      "Traceback (most recent call last):\n",
      "  File \"/tmp/ipykernel_162168/2346131539.py\", line 19, in testToUpper\n",
      "    self.assertEqual('123ABCXYZ#@&', toUpper('123abcXYZ#@&'))\n",
      "                                     ^^^^^^^\n",
      "NameError: name 'toUpper' is not defined\n",
      "\n",
      "======================================================================\n",
      "ERROR: testTrim (__main__.opgavetester.testTrim)\n",
      "----------------------------------------------------------------------\n",
      "Traceback (most recent call last):\n",
      "  File \"/tmp/ipykernel_162168/2346131539.py\", line 38, in testTrim\n",
      "    self.assertEqual('abc', trim(' \\t\\r\\nabc \\t\\r\\n'))\n",
      "                            ^^^^\n",
      "NameError: name 'trim' is not defined\n",
      "\n",
      "----------------------------------------------------------------------\n",
      "Ran 7 tests in 0.002s\n",
      "\n",
      "FAILED (errors=7)\n"
     ]
    }
   ],
   "source": [
    "# Zorg ervoor dat alle import statements en de testklasse in dezelfde cel staan\n",
    "import unittest\n",
    "\n",
    "class opgavetester(unittest.TestCase):\n",
    "\n",
    "    def testSplit(self):\n",
    "        self.assertEqual(['appels', 'en', 'peren'], split('appels en peren', ' '))\n",
    "        self.assertEqual(['appels', 'en', 'peren'], split(' appels en peren ', ' '))\n",
    "        self.assertEqual(['appels', 'peren'], split(' appels & peren&', '&'))\n",
    "        self.assertEqual(['appels', 'peren'], split('& &appels & peren& ', '&'))\n",
    "        self.assertEqual(['appels en peren'], split('& &appels en peren& &', '&'))\n",
    "        self.assertEqual(['appels en peren', 'bananen'], split('& &appels en peren& bananen&', '&'))\n",
    "\n",
    "    def testIsDigit(self):\n",
    "        self.assertEqual(True, isDigit('9'))\n",
    "        self.assertEqual(False, isDigit('a'))\n",
    "\n",
    "    def testToUpper(self):\n",
    "        self.assertEqual('123ABCXYZ#@&', toUpper('123abcXYZ#@&'))\n",
    "\n",
    "    def testToLower(self):\n",
    "        self.assertEqual('123abcxyz#@&', toLower('123abcXYZ#@&'))\n",
    "\n",
    "    def testIsAlpha(self):\n",
    "        self.assertEqual(True, isAlpha('a'))\n",
    "        self.assertEqual(True, isAlpha('A'))\n",
    "        self.assertEqual(False, isAlpha('9'))\n",
    "        self.assertEqual(False, isAlpha('%'))\n",
    "\n",
    "    def testIsGeheel(self):\n",
    "        self.assertEqual(True, isGeheel('314'))\n",
    "        self.assertEqual(True, isGeheel('-314'))\n",
    "        self.assertEqual(False, isGeheel('-3.14'))\n",
    "        self.assertEqual(True, isGeheel('+  314'))\n",
    "        self.assertEqual(False, isGeheel('@  314'))\n",
    "\n",
    "    def testTrim(self):\n",
    "        self.assertEqual('abc', trim(' \\t\\r\\nabc \\t\\r\\n'))\n",
    "        self.assertEqual('a', trim(' \\t\\r\\na \\t\\r\\n'))\n",
    "        self.assertEqual('', trim(' \\t\\r\\n \\t\\r\\n'))\n",
    "        self.assertEqual('a\\rb', trim(' \\t\\ra\\rb \\t\\r\\n'))\n",
    "\n",
    "if __name__ == '__main__':\n",
    "    unittest.main(argv=['first-arg-is-ignored'], exit=False)"
   ]
  },
  {
   "cell_type": "markdown",
   "id": "276b2add-40a3-42c1-b17e-ed9e74693e0b",
   "metadata": {},
   "source": [
    "### Oplossingen"
   ]
  },
  {
   "cell_type": "code",
   "execution_count": 11,
   "id": "5dbd00db-5d6c-469e-b21d-6cdfbc31c1b0",
   "metadata": {},
   "outputs": [],
   "source": [
    "def split(text_to_split, split_on):\n",
    "    return text_to_split.split(split_on)"
   ]
  },
  {
   "cell_type": "code",
   "execution_count": 13,
   "id": "27e6693b-fc7e-4a0f-92f0-192d39468b04",
   "metadata": {},
   "outputs": [],
   "source": [
    "def trim():\n",
    "    pass"
   ]
  },
  {
   "cell_type": "code",
   "execution_count": null,
   "id": "9220c9b6-d6ce-4b73-b61a-77c42de2ecdd",
   "metadata": {},
   "outputs": [],
   "source": []
  }
 ],
 "metadata": {
  "kernelspec": {
   "display_name": "Python 3 (ipykernel)",
   "language": "python",
   "name": "python3"
  },
  "language_info": {
   "codemirror_mode": {
    "name": "ipython",
    "version": 3
   },
   "file_extension": ".py",
   "mimetype": "text/x-python",
   "name": "python",
   "nbconvert_exporter": "python",
   "pygments_lexer": "ipython3",
   "version": "3.11.6"
  }
 },
 "nbformat": 4,
 "nbformat_minor": 5
}
