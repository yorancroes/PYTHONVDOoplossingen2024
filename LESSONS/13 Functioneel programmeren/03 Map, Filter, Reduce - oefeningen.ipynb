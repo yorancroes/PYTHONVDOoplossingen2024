{
 "cells": [
  {
   "cell_type": "markdown",
   "id": "6c3f4040-0758-45ca-83ae-816ce90f2bad",
   "metadata": {},
   "source": [
    "![alt text](../../pythonexposed-high-resolution-logo-black.jpg \"Optionele titel\")"
   ]
  },
  {
   "cell_type": "markdown",
   "id": "d230b835-4351-4119-a801-d7eb16f6b624",
   "metadata": {},
   "source": [
    "### Oefeningen Python met `map()` functie"
   ]
  },
  {
   "cell_type": "markdown",
   "id": "e093b6c2-9612-4cb1-9166-753f9515aeca",
   "metadata": {},
   "source": [
    "1. Schrijf een Python-programma om alle getallen in een gegeven lijst van gehele getallen te verdrievoudigen. Gebruik `map()`."
   ]
  },
  {
   "cell_type": "code",
   "execution_count": null,
   "id": "349df1de-cf17-4493-ada1-d3783782249c",
   "metadata": {},
   "outputs": [],
   "source": []
  },
  {
   "cell_type": "markdown",
   "id": "8180eee5-acff-4f35-810e-d450d5f1563f",
   "metadata": {},
   "source": [
    "2. Schrijf een Python-programma om drie gegeven lijsten op te tellen met behulp van `map()` en `lambda`."
   ]
  },
  {
   "cell_type": "code",
   "execution_count": null,
   "id": "b18158b9-9b83-4f40-b730-d4fd374cb78b",
   "metadata": {},
   "outputs": [],
   "source": []
  },
  {
   "cell_type": "markdown",
   "id": "510792c0-2e59-495a-81e1-292d8411e48b",
   "metadata": {},
   "source": [
    "3. Schrijf een Python-programma om een lijst met gegeven strings individueel om te zetten naar lijsten met behulp van `map()`."
   ]
  },
  {
   "cell_type": "code",
   "execution_count": null,
   "id": "130617db-86a9-490c-94be-e76ea8cb4b9a",
   "metadata": {},
   "outputs": [],
   "source": []
  },
  {
   "cell_type": "markdown",
   "id": "791f5d33-1bde-4b32-afbb-466a0d5c7509",
   "metadata": {},
   "source": [
    "4. Schrijf een Python-programma om een lijst te maken waarin de machten van de getallen worden berekend. De basisnummers worden verhoogd tot de corresponderende indexnummers met behulp van `map()`."
   ]
  },
  {
   "cell_type": "code",
   "execution_count": null,
   "id": "1035f721-60e1-4f86-adbc-b92a7abe4110",
   "metadata": {},
   "outputs": [],
   "source": []
  },
  {
   "cell_type": "markdown",
   "id": "b6cb5cec-fe1f-4e36-a487-373b7895dda9",
   "metadata": {},
   "source": [
    "5. Schrijf een Python-programma om de elementen van een lijst te kwadrateren met behulp van de `map()` functie."
   ]
  },
  {
   "cell_type": "code",
   "execution_count": null,
   "id": "47a76bda-7fd0-4750-ac45-9b83972ccd3b",
   "metadata": {},
   "outputs": [],
   "source": []
  },
  {
   "cell_type": "markdown",
   "id": "e141f9e5-2ac1-49ef-bfd6-0c293eda6e3b",
   "metadata": {},
   "source": [
    "6. Schrijf een Python-programma om alle letters om te zetten naar hoofdletters en kleine letters en om dubbele letters te verwijderen uit een gegeven reeks. Gebruik `map()`."
   ]
  },
  {
   "cell_type": "code",
   "execution_count": null,
   "id": "7a102373-1476-41b4-817a-ad8dd6d47fe2",
   "metadata": {},
   "outputs": [],
   "source": []
  },
  {
   "cell_type": "markdown",
   "id": "219a46ee-e541-467d-be4c-56e24372b4bf",
   "metadata": {},
   "source": [
    "7. Schrijf een Python-programma om twee gegeven lijsten op te tellen en het verschil ertussen te berekenen met behulp van `map()`."
   ]
  },
  {
   "cell_type": "code",
   "execution_count": null,
   "id": "50c988c1-1673-475b-b38f-0b715781e8c2",
   "metadata": {},
   "outputs": [],
   "source": []
  },
  {
   "cell_type": "markdown",
   "id": "7d8596ae-0b90-4ce9-b693-5afd82fd3d98",
   "metadata": {},
   "source": [
    "8. Schrijf een Python-programma om een gegeven lijst van gehele getallen en een tuple van gehele getallen om te zetten naar een lijst van strings."
   ]
  },
  {
   "cell_type": "code",
   "execution_count": null,
   "id": "69b840a8-2328-4a4c-ae45-4299491c5a4c",
   "metadata": {},
   "outputs": [],
   "source": []
  },
  {
   "cell_type": "markdown",
   "id": "d891d163-9bc2-4411-987b-db4932b8d751",
   "metadata": {},
   "source": [
    "9. Schrijf een Python-programma om een nieuwe lijst te maken door specifieke elementen uit een tuple te halen en een stringwaarde om te zetten naar een geheel getal."
   ]
  },
  {
   "cell_type": "code",
   "execution_count": null,
   "id": "db9a7cc8-ad73-4c74-bbbe-477326c9967f",
   "metadata": {},
   "outputs": [],
   "source": []
  },
  {
   "cell_type": "markdown",
   "id": "86b235c4-6230-4772-9d41-dba3b2957249",
   "metadata": {},
   "source": [
    "10. Schrijf een Python-programma om het kwadraat van de eerste **N** Fibonacci-getallen te berekenen met behulp van de `map()` functie en genereer een lijst met de getallen."
   ]
  },
  {
   "cell_type": "code",
   "execution_count": null,
   "id": "663e7a07-bbc9-49a7-914f-918cb152baad",
   "metadata": {},
   "outputs": [],
   "source": []
  },
  {
   "cell_type": "markdown",
   "id": "92e2fc23-9b61-4891-b3ef-3b1e855a891d",
   "metadata": {},
   "source": [
    "11. Schrijf een Python-programma om de som van elementen van een array van gehele getallen te berekenen. Gebruik de `map()` functie."
   ]
  },
  {
   "cell_type": "code",
   "execution_count": null,
   "id": "6b82e352-cbfa-414b-bd0d-e00bbec0f512",
   "metadata": {},
   "outputs": [],
   "source": []
  },
  {
   "cell_type": "markdown",
   "id": "4c4e6690-691c-4b90-aa25-60890876e66a",
   "metadata": {},
   "source": [
    "12. Schrijf een Python-programma om de verhouding van positieve getallen, negatieve getallen en nullen in een array van gehele getallen te berekenen."
   ]
  },
  {
   "cell_type": "code",
   "execution_count": null,
   "id": "07dd6e3e-3f0c-4ca4-8360-cbd58bff194d",
   "metadata": {},
   "outputs": [],
   "source": []
  },
  {
   "cell_type": "markdown",
   "id": "18a7094b-f2fb-42cf-b773-f8033e3e2855",
   "metadata": {},
   "source": [
    "13. Schrijf een Python-programma om het aantal gelijke paren in twee gegeven lijsten te tellen met behulp van `map()`."
   ]
  },
  {
   "cell_type": "code",
   "execution_count": null,
   "id": "66614b48-2e16-4f4f-aca5-fd1d9cea6988",
   "metadata": {},
   "outputs": [],
   "source": []
  },
  {
   "cell_type": "markdown",
   "id": "b12b6fe4-3583-4348-b5ac-e8413b9a0328",
   "metadata": {},
   "source": [
    "14. Schrijf een Python-programma om twee lijsten willekeurig met elkaar te verweven tot een nieuwe lijst. Gebruik de `map()` functie."
   ]
  },
  {
   "cell_type": "code",
   "execution_count": null,
   "id": "ce90b905-96c0-4dd3-a4bf-0fa06b05492c",
   "metadata": {},
   "outputs": [],
   "source": []
  },
  {
   "cell_type": "markdown",
   "id": "486f0885-abf9-47c4-9136-d9b7a824a3dc",
   "metadata": {},
   "source": [
    "15. Schrijf een Python-programma om een gegeven woordenboek met lijsten op te splitsen in een lijst van woordenboeken met behulp van de `map()` functie."
   ]
  },
  {
   "cell_type": "code",
   "execution_count": null,
   "id": "f198ca5c-ed2d-4120-af90-a279b90de1fa",
   "metadata": {},
   "outputs": [],
   "source": []
  },
  {
   "cell_type": "markdown",
   "id": "9f70f1e9-35d1-419b-a621-44bae017e312",
   "metadata": {},
   "source": [
    "### Oefeningen Python met `filter()` functie"
   ]
  },
  {
   "cell_type": "markdown",
   "id": "6fdba83e-56f3-4e24-bad0-292dc5010206",
   "metadata": {},
   "source": [
    "1. Schrijf een Python-functie die even getallen uit een lijst van gehele getallen filtert met behulp van de `filter()` functie."
   ]
  },
  {
   "cell_type": "code",
   "execution_count": null,
   "id": "ecf904dc-fbd8-42f4-88bd-7d6b99c79004",
   "metadata": {},
   "outputs": [],
   "source": []
  },
  {
   "cell_type": "markdown",
   "id": "7381db8c-bfb3-4708-bced-4d85c9006480",
   "metadata": {},
   "source": [
    "2. Schrijf een Python-programma dat de `filter()` functie gebruikt om alle hoofdletters uit een lijst van strings met gemengde hoofd- en kleine letters te halen."
   ]
  },
  {
   "cell_type": "code",
   "execution_count": null,
   "id": "57dd89f5-2a39-4016-8a16-fe5acb1b5663",
   "metadata": {},
   "outputs": [],
   "source": []
  },
  {
   "cell_type": "markdown",
   "id": "f224ff3b-0538-44fe-b566-2156c5260a5d",
   "metadata": {},
   "source": [
    "3. Schrijf een Python-functie die alle elementen kleiner dan of gelijk aan een opgegeven waarde uit een lijst met getallen filtert met behulp van de `filter()` functie."
   ]
  },
  {
   "cell_type": "code",
   "execution_count": null,
   "id": "5c2445a8-b318-4c88-a86a-b9c12ca9bbdc",
   "metadata": {},
   "outputs": [],
   "source": []
  },
  {
   "cell_type": "markdown",
   "id": "abe851ae-91fc-476e-9816-c8333e445ca8",
   "metadata": {},
   "source": [
    "4. Schrijf een Python-programma dat een lijst met namen maakt en de `filter()` functie gebruikt om namen te extraheren die beginnen met een klinker (A, E, I, O, U)."
   ]
  },
  {
   "cell_type": "code",
   "execution_count": null,
   "id": "122e233e-6c4d-473f-8235-c2f8551e871f",
   "metadata": {},
   "outputs": [],
   "source": []
  },
  {
   "cell_type": "markdown",
   "id": "5a13d515-142f-4dc8-8d9a-b8d0c29df894",
   "metadata": {},
   "source": [
    "5. Schrijf een Python-functie die alle lege strings uit een lijst van strings filtert met behulp van de `filter()` functie."
   ]
  },
  {
   "cell_type": "code",
   "execution_count": null,
   "id": "1597f286-b203-4ebb-9afd-af5943cc443b",
   "metadata": {},
   "outputs": [],
   "source": []
  },
  {
   "cell_type": "markdown",
   "id": "433f081b-1329-4e40-b69d-9dd5c0048bb8",
   "metadata": {},
   "source": [
    "6. Schrijf een Python-programma dat een lijst met woordenboeken maakt die studentinformatie bevatten (naam, leeftijd, cijfer) en de `filter()` functie gebruikt om studenten te extraheren met een cijfer groter dan of gelijk aan 95."
   ]
  },
  {
   "cell_type": "code",
   "execution_count": null,
   "id": "2091fa1b-4ed5-4e91-881e-4f29b52903c1",
   "metadata": {},
   "outputs": [],
   "source": []
  },
  {
   "cell_type": "markdown",
   "id": "89d59a69-8f06-4559-bf3e-234ee892f6c2",
   "metadata": {},
   "source": [
    "7. Schrijf een Python-programma dat priemgetallen uit een lijst van gehele getallen filtert met behulp van de `filter()` functie."
   ]
  },
  {
   "cell_type": "code",
   "execution_count": null,
   "id": "a5c98771-c75b-4850-ac7f-d5e11e713c99",
   "metadata": {},
   "outputs": [],
   "source": []
  },
  {
   "cell_type": "markdown",
   "id": "5695523d-a317-4be0-817c-0abd5d144dae",
   "metadata": {},
   "source": [
    "8. Schrijf een Python-programma dat een lijst met woorden maakt en de `filter()` functie gebruikt om woorden te extraheren die meer dan vijf letters bevatten."
   ]
  },
  {
   "cell_type": "code",
   "execution_count": null,
   "id": "283d02d6-ff62-44e7-b70c-9f38ed94ef91",
   "metadata": {},
   "outputs": [],
   "source": []
  },
  {
   "cell_type": "markdown",
   "id": "08ed62a6-7ac7-46db-8d04-67e46f691029",
   "metadata": {},
   "source": [
    "9. Schrijf een Python-functie die elementen uit een lijst van strings filtert die een specifieke substring bevatten met behulp van de `filter()` functie."
   ]
  },
  {
   "cell_type": "code",
   "execution_count": null,
   "id": "67106193-a834-484d-b9ba-80e226fc54c2",
   "metadata": {},
   "outputs": [],
   "source": []
  },
  {
   "cell_type": "markdown",
   "id": "a882d7e0-85ae-42fb-95fc-6ff14aa96753",
   "metadata": {},
   "source": [
    "10. Schrijf een Python-programma dat datums filtert (in het formaat \"JJJJ-MM-DD\") die in de toekomst liggen, met behulp van de `filter()` functie."
   ]
  },
  {
   "cell_type": "code",
   "execution_count": null,
   "id": "7f295d25-b7f3-4705-84ad-4873c120bee2",
   "metadata": {},
   "outputs": [],
   "source": []
  },
  {
   "cell_type": "markdown",
   "id": "2dd8a8d8-0189-4497-a17b-8fcfc27f2621",
   "metadata": {},
   "source": [
    "11. Schrijf een Python-programma dat een lijst met tuples maakt, waarbij elke tuple een stadsnaam en haar populatie bevat. Gebruik de `filter()` functie om steden te extraheren met een populatie groter dan 2 miljoen."
   ]
  },
  {
   "cell_type": "code",
   "execution_count": null,
   "id": "b43175b6-cc55-489f-bf99-9ab27e91817a",
   "metadata": {},
   "outputs": [],
   "source": []
  },
  {
   "cell_type": "markdown",
   "id": "c6fc094d-ccfe-44fe-8cdd-730fe079f0d8",
   "metadata": {},
   "source": [
    "### Oefeningen Python met `reduce()` functie"
   ]
  },
  {
   "cell_type": "markdown",
   "id": "3ef07cac-4afc-40df-826c-315db7877719",
   "metadata": {},
   "source": [
    "1. Schrijf een Python-programma dat de som berekent van alle getallen in een lijst met behulp van de `reduce()` functie."
   ]
  },
  {
   "cell_type": "code",
   "execution_count": null,
   "id": "05010d0e-ffaf-432f-b322-705306323fea",
   "metadata": {},
   "outputs": [],
   "source": []
  },
  {
   "cell_type": "markdown",
   "id": "9852b2de-9028-4cf0-b8e9-81e5a81a821b",
   "metadata": {},
   "source": [
    "2. Schrijf een Python-programma dat het product van alle getallen in een lijst berekent met behulp van de `reduce()` functie."
   ]
  },
  {
   "cell_type": "code",
   "execution_count": null,
   "id": "7437d3e1-8260-4555-acaf-77c33c2b0225",
   "metadata": {},
   "outputs": [],
   "source": []
  },
  {
   "cell_type": "markdown",
   "id": "bc074490-9e2c-4e54-a9e9-7b4336e8e8de",
   "metadata": {},
   "source": [
    "3. Schrijf een Python-programma dat de langste string uit een lijst van strings haalt met behulp van de `reduce()` functie."
   ]
  },
  {
   "cell_type": "code",
   "execution_count": null,
   "id": "d1d4abd5-505a-445e-88d9-900b936c0903",
   "metadata": {},
   "outputs": [],
   "source": []
  },
  {
   "cell_type": "markdown",
   "id": "6bafa827-2dd7-448a-bccd-df926b1ac34d",
   "metadata": {},
   "source": [
    "4. Schrijf een Python-programma dat de grootste waarde in een lijst van gehele getallen vindt met behulp van de `reduce()` functie."
   ]
  },
  {
   "cell_type": "code",
   "execution_count": null,
   "id": "3c49f0b9-10a5-439f-a263-629b3289ee78",
   "metadata": {},
   "outputs": [],
   "source": []
  },
  {
   "cell_type": "markdown",
   "id": "90e25722-80b2-4e84-b1d4-d66de892113c",
   "metadata": {},
   "source": [
    "5. Schrijf een Python-programma dat alle strings in een lijst samenvoegt tot één enkele string met behulp van de `reduce()` functie."
   ]
  },
  {
   "cell_type": "code",
   "execution_count": null,
   "id": "34354808-1d3e-49ec-be71-4c0a033251bd",
   "metadata": {},
   "outputs": [],
   "source": []
  }
 ],
 "metadata": {
  "kernelspec": {
   "display_name": "Python 3 (ipykernel)",
   "language": "python",
   "name": "python3"
  },
  "language_info": {
   "codemirror_mode": {
    "name": "ipython",
    "version": 3
   },
   "file_extension": ".py",
   "mimetype": "text/x-python",
   "name": "python",
   "nbconvert_exporter": "python",
   "pygments_lexer": "ipython3",
   "version": "3.12.7"
  }
 },
 "nbformat": 4,
 "nbformat_minor": 5
}
