{
 "cells": [
  {
   "cell_type": "markdown",
   "id": "d5b48f10-cf15-4557-83d9-19423ea39aaf",
   "metadata": {},
   "source": [
    "![alt text](../../pythonexposed-high-resolution-logo-black.jpg \"Optionele titel\")"
   ]
  },
  {
   "cell_type": "markdown",
   "id": "98257bf8-ee1b-44c6-9e83-7092d990ce6b",
   "metadata": {},
   "source": [
    "### **Oefening 1: Custom Exception**\n",
    "Maak een custom exception `OngeldigeTransactie` die wordt gebruikt in een class `Rekening`. De class moet een methode `opnemen` hebben om geld op te nemen. Controleer de volgende voorwaarden:\n",
    "1. Het opnamebedrag mag niet groter zijn dan het saldo.\n",
    "2. Het opnamebedrag moet positief zijn.\n",
    "\n",
    "**Test:**  \n",
    "- Probeer geld op te nemen met een bedrag groter dan het saldo en een negatief bedrag. Zorg dat de juiste foutmelding wordt weergegeven.\n"
   ]
  },
  {
   "cell_type": "code",
   "execution_count": 1,
   "id": "14ffa26b-b7de-45a4-9eec-f7ddbc5c7b58",
   "metadata": {},
   "outputs": [],
   "source": [
    "# oplossing"
   ]
  },
  {
   "cell_type": "markdown",
   "id": "ceb79d2a-1f96-4282-8c05-269ce3ff9e65",
   "metadata": {},
   "source": [
    "### **Oefening 2: Meerdere except-blokken**\n",
    "Maak een class `Rekenmachine` met een methode `deel`. Deze methode accepteert twee getallen en retourneert het quotiënt. Controleer de volgende fouten:\n",
    "1. Als de deler 0 is, geef een `ZeroDivisionError`.\n",
    "2. Als een van de invoerwaarden geen getal is, geef een `TypeError`.\n",
    "\n",
    "**Test:**  \n",
    "- Roep de methode aan met een geldige en ongeldige deler en zorg dat elke fout correct wordt afgehandeld.\n"
   ]
  },
  {
   "cell_type": "code",
   "execution_count": 2,
   "id": "f3ca706e-be38-455f-bfec-bc8a32393165",
   "metadata": {},
   "outputs": [],
   "source": [
    "# oplossing"
   ]
  },
  {
   "cell_type": "markdown",
   "id": "25f26dc8-3047-4e9b-8f5c-cbe4fcd74ecd",
   "metadata": {},
   "source": [
    "### **Oefening 3: `try-except` in een methode**\n",
    "Maak een class `BestandManager` die een methode `lees_bestand` heeft om de inhoud van een tekstbestand te lezen. Als het bestand niet bestaat, moet een `FileNotFoundError` worden afgehandeld in de methode.\n",
    "\n",
    "**Test:**  \n",
    "- Probeer een niet-bestaand bestand te openen en geef een foutmelding zoals: *\"Bestand niet gevonden\"*."
   ]
  },
  {
   "cell_type": "code",
   "execution_count": 3,
   "id": "4b9f8f26-3fd3-44b8-9eac-2c4bfddb1852",
   "metadata": {},
   "outputs": [],
   "source": [
    "# oplossing"
   ]
  },
  {
   "cell_type": "markdown",
   "id": "4904efb1-3ccb-4cbc-9736-9732533f3f12",
   "metadata": {},
   "source": [
    "### **Oefening 4: Hergebruik van fouten in een subklasse**\n",
    "Maak een basisclass `BankRekening` met foutafhandeling in de methode `stort` en `opname`. Maak een subklasse `ZakelijkeRekening` die extra regels toevoegt:\n",
    "1. Het saldo mag niet onder een bepaald minimumbedrag komen (bijv. 500 euro).\n",
    "2. Implementeer aanvullende foutmeldingen voor deze regels.\n",
    "\n",
    "**Test:**  \n",
    "- Test de subklasse met bedragen die de regels overtreden."
   ]
  },
  {
   "cell_type": "code",
   "execution_count": 4,
   "id": "0a97f48f-21e2-4486-b007-2dd3c0735f8b",
   "metadata": {},
   "outputs": [],
   "source": [
    "# oplossing"
   ]
  },
  {
   "cell_type": "markdown",
   "id": "eab159a1-3fdb-42ff-be5a-c5c82babda6a",
   "metadata": {},
   "source": [
    "### **Oefening 5: Foutenrapportage met `__str__`**\n",
    "Maak een class `FoutLogger` die fouten registreert. Voeg een methode `log_fout` toe om fouten op te slaan. Implementeer `__str__` om een leesbare lijst van fouten weer te geven.\n",
    "\n",
    "**Test:**  \n",
    "- Registreer meerdere fouten en print de `FoutLogger` om te zien hoe fouten worden weergegeven."
   ]
  },
  {
   "cell_type": "code",
   "execution_count": 5,
   "id": "1eb8c0c8-7e1a-4fdf-8fbd-eadaa5d23aa2",
   "metadata": {},
   "outputs": [],
   "source": [
    "# oplossing"
   ]
  },
  {
   "cell_type": "markdown",
   "id": "f5ef82c5-0307-4bfb-9c7e-0e9776ddeec0",
   "metadata": {},
   "source": [
    "### **Oefening 6: Bankrekening met error handling en logging**  \n",
    "\n",
    "Pas de code van oefening 4 aan om logging te gebruiken in plaats van errors via print statements weer te geven.  \n",
    "\n",
    "Het doel is om **logging** toe te voegen om foutmeldingen en transacties beter te beheren. In plaats van `print()` te gebruiken, wordt de **`logging` module** gebruikt om alle transacties en fouten vast te leggen.  \n",
    "\n",
    "#### Vereisten\n",
    "\n",
    "1. **Logging toevoegen aan de klassen**:\n",
    "   - **BankRekening**:\n",
    "     - Voeg een **`logging.info`**-bericht toe voor succesvolle stortingen en opnames.\n",
    "     - Voeg een **`logging.error`**-bericht toe voor fouten, zoals een negatief bedrag storten of opnemen, of een poging om meer op te nemen dan het saldo.\n",
    "   - **ZakelijkeRekening**:\n",
    "     - Log een foutmelding met **`logging.error`** als een opname het saldo onder het minimumsaldo brengt.\n",
    "     - Log succesvolle transacties met **`logging.info`**.\n",
    "\n",
    "2. **Logging configureren**:\n",
    "   - Stel de `logging` module in om berichten op niveau **`INFO`** en hoger te loggen.\n",
    "   - Gebruik het format: `%(asctime)s - %(levelname)s - %(message)s`.\n",
    "   - Zorg ervoor dat de logs worden opgeslagen in een bestand genaamd `bank_transacties.log`.\n",
    "\n",
    "3. **Gebruik duidelijke foutmeldingen**:\n",
    "   - Werp een `ValueError` met een duidelijke foutmelding wanneer een ongeldige transactie wordt geprobeerd (bijvoorbeeld een negatief bedrag of onvoldoende saldo).\n",
    "\n",
    "4. **Test de klassen**:\n",
    "   - Implementeer de volgende tests:\n",
    "     - Maak een `BankRekening` en voer een storting en opname uit.\n",
    "     - Probeer een negatief bedrag te storten en log de fout.\n",
    "     - Probeer een opname te doen die het saldo overschrijdt en log de fout.\n",
    "     - Maak een `ZakelijkeRekening` en voer een geldige opname uit.\n",
    "     - Probeer een opname te doen die het saldo onder het minimum brengt en log de fout.\n",
    "\n",
    "\n",
    "#### Verwachte Uitbreidingen\n",
    "- **Logging**: \n",
    "  - Gebruik de `logging` module in plaats van `print()`.\n",
    "  - Log alle transacties en fouten met een duidelijke melding.\n",
    "- **Configuratie**:\n",
    "  - Stel een logbestand in (`bank_transacties.log`) waarin transacties en fouten worden vastgelegd.\n",
    "\n",
    "#### Evaluatiecriteria\n",
    "1. **Correct gebruik van logging**:\n",
    "   - Succesvolle transacties worden gelogd met `INFO`.\n",
    "   - Fouten worden gelogd met `ERROR`.\n",
    "2. **Testcases**:\n",
    "   - Alle gevraagde tests werken correct en logs bevatten relevante informatie.\n",
    "3. **Duidelijke foutmeldingen**:\n",
    "   - Elke fout geeft een nuttige en begrijpelijke foutmelding in de logs.\n",
    "\n",
    "Na afloop van de oefening moet je een bestand `bank_transacties.log` hebben waarin alle transacties en fouten duidelijk zijn vastgelegd. Gebruik dit bestand om je oplossing te controleren!"
   ]
  },
  {
   "cell_type": "code",
   "execution_count": 2,
   "id": "ed5905ac-2d1e-49cc-864f-38152c399f59",
   "metadata": {},
   "outputs": [],
   "source": [
    "# Oplossing\n"
   ]
  },
  {
   "cell_type": "code",
   "execution_count": null,
   "id": "3856213f-227f-4afd-8a4e-4c3417b40443",
   "metadata": {},
   "outputs": [],
   "source": []
  }
 ],
 "metadata": {
  "kernelspec": {
   "display_name": "Python 3 (ipykernel)",
   "language": "python",
   "name": "python3"
  },
  "language_info": {
   "codemirror_mode": {
    "name": "ipython",
    "version": 3
   },
   "file_extension": ".py",
   "mimetype": "text/x-python",
   "name": "python",
   "nbconvert_exporter": "python",
   "pygments_lexer": "ipython3",
   "version": "3.12.7"
  }
 },
 "nbformat": 4,
 "nbformat_minor": 5
}
