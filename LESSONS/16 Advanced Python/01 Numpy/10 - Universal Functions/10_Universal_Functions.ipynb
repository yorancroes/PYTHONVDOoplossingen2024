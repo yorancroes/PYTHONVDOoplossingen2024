{
 "cells": [
  {
   "cell_type": "markdown",
   "metadata": {},
   "source": [
    "### NumPy Universal Functions"
   ]
  },
  {
   "cell_type": "markdown",
   "metadata": {},
   "source": [
    "Universal functions (**ufunc**) zijn functies die element per element worden uitgevoerd op een array - en vectorisatie betekent eenvoudigweg dat de loop en de bewerking worden uitgevoerd in het onderliggend C niveau, en niet in Python."
   ]
  },
  {
   "cell_type": "markdown",
   "metadata": {},
   "source": [
    "We hebben al enkele universele functies gezien, zoals de logische functies.  We hebben ook als andere universele functies gebruikt, die eigenlijk als operatoren zijn 'vermomd'."
   ]
  },
  {
   "cell_type": "code",
   "execution_count": 1,
   "metadata": {
    "tags": []
   },
   "outputs": [],
   "source": [
    "import numpy as np"
   ]
  },
  {
   "cell_type": "code",
   "execution_count": 2,
   "metadata": {
    "tags": []
   },
   "outputs": [],
   "source": [
    "arr_1 = np.array([1, 2, 3, 4, 5])\n",
    "arr_2 = np.array([5, 4, 3, 2, 1])"
   ]
  },
  {
   "cell_type": "code",
   "execution_count": 3,
   "metadata": {
    "tags": []
   },
   "outputs": [
    {
     "data": {
      "text/plain": [
       "array([6, 6, 6, 6, 6])"
      ]
     },
     "execution_count": 3,
     "metadata": {},
     "output_type": "execute_result"
    }
   ],
   "source": [
    "arr_1 + arr_2"
   ]
  },
  {
   "cell_type": "markdown",
   "metadata": {},
   "source": [
    "Deze `+` operator gebruikt de universal function `np.add`:"
   ]
  },
  {
   "cell_type": "code",
   "execution_count": 4,
   "metadata": {
    "tags": []
   },
   "outputs": [
    {
     "data": {
      "text/plain": [
       "array([6, 6, 6, 6, 6])"
      ]
     },
     "execution_count": 4,
     "metadata": {},
     "output_type": "execute_result"
    }
   ],
   "source": [
    "np.add(arr_1, arr_2)"
   ]
  },
  {
   "cell_type": "markdown",
   "metadata": {},
   "source": [
    "Dit is ook met andere wiskundige operatoren het geval:"
   ]
  },
  {
   "cell_type": "code",
   "execution_count": 5,
   "metadata": {
    "tags": []
   },
   "outputs": [
    {
     "data": {
      "text/plain": [
       "array([5, 8, 9, 8, 5])"
      ]
     },
     "execution_count": 5,
     "metadata": {},
     "output_type": "execute_result"
    }
   ],
   "source": [
    "np.multiply(arr_1, arr_2)"
   ]
  },
  {
   "cell_type": "code",
   "execution_count": 6,
   "metadata": {
    "tags": []
   },
   "outputs": [
    {
     "data": {
      "text/plain": [
       "array([-4, -2,  0,  2,  4])"
      ]
     },
     "execution_count": 6,
     "metadata": {},
     "output_type": "execute_result"
    }
   ],
   "source": [
    "np.subtract(arr_1, arr_2)"
   ]
  },
  {
   "cell_type": "markdown",
   "metadata": {},
   "source": [
    "Dit geldt zelfs voor de floor division (`//`), mod (`%`) en exponent (`**`) operatoren:"
   ]
  },
  {
   "cell_type": "code",
   "execution_count": 7,
   "metadata": {
    "tags": []
   },
   "outputs": [
    {
     "data": {
      "text/plain": [
       "array([0, 0, 1, 2, 5])"
      ]
     },
     "execution_count": 7,
     "metadata": {},
     "output_type": "execute_result"
    }
   ],
   "source": [
    "arr_1 // arr_2"
   ]
  },
  {
   "cell_type": "code",
   "execution_count": 8,
   "metadata": {
    "tags": []
   },
   "outputs": [
    {
     "data": {
      "text/plain": [
       "array([0, 0, 1, 2, 5])"
      ]
     },
     "execution_count": 8,
     "metadata": {},
     "output_type": "execute_result"
    }
   ],
   "source": [
    "np.floor_divide(arr_1, arr_2)"
   ]
  },
  {
   "cell_type": "code",
   "execution_count": 9,
   "metadata": {
    "tags": []
   },
   "outputs": [
    {
     "data": {
      "text/plain": [
       "array([1, 2, 0, 0, 0])"
      ]
     },
     "execution_count": 9,
     "metadata": {},
     "output_type": "execute_result"
    }
   ],
   "source": [
    "arr_1 % arr_2"
   ]
  },
  {
   "cell_type": "code",
   "execution_count": 10,
   "metadata": {
    "tags": []
   },
   "outputs": [
    {
     "data": {
      "text/plain": [
       "array([1, 2, 0, 0, 0])"
      ]
     },
     "execution_count": 10,
     "metadata": {},
     "output_type": "execute_result"
    }
   ],
   "source": [
    "np.mod(arr_1, arr_2)"
   ]
  },
  {
   "cell_type": "code",
   "execution_count": 11,
   "metadata": {
    "tags": []
   },
   "outputs": [
    {
     "data": {
      "text/plain": [
       "array([ 1, 16, 27, 16,  5])"
      ]
     },
     "execution_count": 11,
     "metadata": {},
     "output_type": "execute_result"
    }
   ],
   "source": [
    "arr_1 ** arr_2"
   ]
  },
  {
   "cell_type": "code",
   "execution_count": 12,
   "metadata": {
    "tags": []
   },
   "outputs": [
    {
     "data": {
      "text/plain": [
       "array([ 1, 16, 27, 16,  5])"
      ]
     },
     "execution_count": 12,
     "metadata": {},
     "output_type": "execute_result"
    }
   ],
   "source": [
    "np.power(arr_1, arr_2)"
   ]
  },
  {
   "cell_type": "markdown",
   "metadata": {},
   "source": [
    "Deze universal functions werken ook tussen een array en een scalar (zoals een `int`, `float`, etc), niet alleen tussen twee arrays:"
   ]
  },
  {
   "cell_type": "code",
   "execution_count": 13,
   "metadata": {},
   "outputs": [
    {
     "data": {
      "text/plain": [
       "array([1, 2, 3, 4, 5])"
      ]
     },
     "execution_count": 13,
     "metadata": {},
     "output_type": "execute_result"
    }
   ],
   "source": [
    "arr_1"
   ]
  },
  {
   "cell_type": "code",
   "execution_count": 14,
   "metadata": {},
   "outputs": [
    {
     "data": {
      "text/plain": [
       "array([ 2,  4,  6,  8, 10])"
      ]
     },
     "execution_count": 14,
     "metadata": {},
     "output_type": "execute_result"
    }
   ],
   "source": [
    "arr_1 * 2"
   ]
  },
  {
   "cell_type": "code",
   "execution_count": 15,
   "metadata": {},
   "outputs": [
    {
     "data": {
      "text/plain": [
       "array([ 1,  4,  9, 16, 25])"
      ]
     },
     "execution_count": 15,
     "metadata": {},
     "output_type": "execute_result"
    }
   ],
   "source": [
    "arr_1 ** 2"
   ]
  },
  {
   "cell_type": "markdown",
   "metadata": {},
   "source": [
    "Dit zijn slechts enkele van de vele universal functions die beschikbaar zijn in NumPy..."
   ]
  },
  {
   "cell_type": "markdown",
   "metadata": {},
   "source": [
    "We hebben bijvoorbeeld ook de trig functies:"
   ]
  },
  {
   "cell_type": "code",
   "execution_count": 16,
   "metadata": {
    "tags": []
   },
   "outputs": [
    {
     "data": {
      "text/plain": [
       "array([-6.28318531, -4.88692191, -3.4906585 , -2.0943951 , -0.6981317 ,\n",
       "        0.6981317 ,  2.0943951 ,  3.4906585 ,  4.88692191,  6.28318531])"
      ]
     },
     "execution_count": 16,
     "metadata": {},
     "output_type": "execute_result"
    }
   ],
   "source": [
    "arr = np.linspace(-2 * np.pi, 2 * np.pi, 10)\n",
    "arr"
   ]
  },
  {
   "cell_type": "code",
   "execution_count": 17,
   "metadata": {
    "tags": []
   },
   "outputs": [
    {
     "data": {
      "text/plain": [
       "array([ 2.44929360e-16,  9.84807753e-01,  3.42020143e-01, -8.66025404e-01,\n",
       "       -6.42787610e-01,  6.42787610e-01,  8.66025404e-01, -3.42020143e-01,\n",
       "       -9.84807753e-01, -2.44929360e-16])"
      ]
     },
     "execution_count": 17,
     "metadata": {},
     "output_type": "execute_result"
    }
   ],
   "source": [
    "np.sin(arr)"
   ]
  },
  {
   "cell_type": "code",
   "execution_count": 18,
   "metadata": {
    "tags": []
   },
   "outputs": [
    {
     "data": {
      "text/plain": [
       "array([ 1.        ,  0.17364818, -0.93969262, -0.5       ,  0.76604444,\n",
       "        0.76604444, -0.5       , -0.93969262,  0.17364818,  1.        ])"
      ]
     },
     "execution_count": 18,
     "metadata": {},
     "output_type": "execute_result"
    }
   ],
   "source": [
    "np.cos(arr)"
   ]
  },
  {
   "cell_type": "markdown",
   "metadata": {},
   "source": [
    "Via deze link kan je nog meer universal functions ontdekken:\n",
    "\n",
    "https://numpy.org/doc/stable/reference/ufuncs.html"
   ]
  },
  {
   "cell_type": "markdown",
   "metadata": {},
   "source": [
    "#### Overwegingen inzake performantie"
   ]
  },
  {
   "cell_type": "markdown",
   "metadata": {},
   "source": [
    "Herinner je dat we bij de intro inzake ufuncs en vectorisatie als voordeel de enorme toename in snelheid van berekeningen tegenover de standaard Python loop en functies aanhaalden.  Laten we nu even een stukje code bekijken om een idee te krijgen hoeveel beter de performantie van NumPy tov Python is.  Als eerste voorbeeld berekenen we 1/x voor elk element in een list (Python) en een array (NumPy)"
   ]
  },
  {
   "cell_type": "code",
   "execution_count": 19,
   "metadata": {
    "tags": []
   },
   "outputs": [
    {
     "data": {
      "text/plain": [
       "[1, 2, 3, 4, 5, 6, 7, 8, 9, 10]"
      ]
     },
     "execution_count": 19,
     "metadata": {},
     "output_type": "execute_result"
    }
   ],
   "source": [
    "# aanmaken van de list\n",
    "l = []\n",
    "for x in range(1,10_000_000):\n",
    "    l.append(x)\n",
    "l[:10]"
   ]
  },
  {
   "cell_type": "markdown",
   "metadata": {},
   "source": [
    "We starten met een berekening via Python:"
   ]
  },
  {
   "cell_type": "code",
   "execution_count": 20,
   "metadata": {
    "tags": []
   },
   "outputs": [
    {
     "name": "stdout",
     "output_type": "stream",
     "text": [
      "Tijd: 0.8713662820009631\n"
     ]
    }
   ],
   "source": [
    "from time import perf_counter\n",
    "\n",
    "start = perf_counter()\n",
    "new_list = []\n",
    "for el in l:\n",
    "    new_list.append(1 / el)\n",
    "end = perf_counter()\n",
    "print('Tijd:', end - start)"
   ]
  },
  {
   "cell_type": "markdown",
   "metadata": {},
   "source": [
    "Nu doen we hetzelfde via een list comprehension:"
   ]
  },
  {
   "cell_type": "code",
   "execution_count": 21,
   "metadata": {},
   "outputs": [
    {
     "name": "stdout",
     "output_type": "stream",
     "text": [
      "Tijd: 0.48504462800337933\n"
     ]
    }
   ],
   "source": [
    "start = perf_counter()\n",
    "new_list = [1 / el for el in l]\n",
    "end = perf_counter()\n",
    "print('Tijd:', end - start)"
   ]
  },
  {
   "cell_type": "markdown",
   "metadata": {},
   "source": [
    "De list comprehension is sneller dan de for loop.  We gebruiken nog steeds Python lists en een Python loop!"
   ]
  },
  {
   "cell_type": "markdown",
   "metadata": {},
   "source": [
    "Laten we even testen met een NumPy array en een vectorized ufunc:"
   ]
  },
  {
   "cell_type": "code",
   "execution_count": 22,
   "metadata": {},
   "outputs": [],
   "source": [
    "np_l = np.array(l)"
   ]
  },
  {
   "cell_type": "code",
   "execution_count": 23,
   "metadata": {},
   "outputs": [
    {
     "data": {
      "text/plain": [
       "dtype('int64')"
      ]
     },
     "execution_count": 23,
     "metadata": {},
     "output_type": "execute_result"
    }
   ],
   "source": [
    "np_l.dtype"
   ]
  },
  {
   "cell_type": "code",
   "execution_count": 24,
   "metadata": {},
   "outputs": [
    {
     "name": "stdout",
     "output_type": "stream",
     "text": [
      "Elapsed: 0.028381673000694718\n"
     ]
    }
   ],
   "source": [
    "start = perf_counter()\n",
    "new_arr = 1 / np_l\n",
    "end = perf_counter()\n",
    "print('Elapsed:', end - start)"
   ]
  },
  {
   "cell_type": "markdown",
   "metadata": {},
   "source": [
    "Zoals je kan zien is er een zeer groot tijdverschil!"
   ]
  },
  {
   "cell_type": "markdown",
   "metadata": {},
   "source": [
    "We testen dit nu even op een meer gecompliceerd voorbeeld.  Veronderstel dat we een matrix met Open/High/Low/Close data hebben voor een aandeel over een bepaalde periode.  Voor de eenvoud maken we dummy data, en laten we de datum weg.  We willen een matrix met `10_000_000` rijen en `4` kolommen (OHLC), en we gebruiken random nummers tussen `55` en `100`:"
   ]
  },
  {
   "cell_type": "markdown",
   "metadata": {},
   "source": [
    "Eerst via Python:"
   ]
  },
  {
   "cell_type": "code",
   "execution_count": 25,
   "metadata": {},
   "outputs": [],
   "source": [
    "import random"
   ]
  },
  {
   "cell_type": "code",
   "execution_count": 26,
   "metadata": {},
   "outputs": [
    {
     "name": "stdout",
     "output_type": "stream",
     "text": [
      "[[82, 98, 56, 78], [85, 97, 64, 85]]\n",
      "Elapsed 30.92474341599882\n"
     ]
    }
   ],
   "source": [
    "num_rows = 10_000_000\n",
    "\n",
    "random.seed(0)\n",
    "\n",
    "start = perf_counter()\n",
    "data = [\n",
    "    [\n",
    "        random.randint(70, 85),\n",
    "        random.randint(85, 100),\n",
    "        random.randint(55, 70),\n",
    "        random.randint(70, 85)\n",
    "    ]\n",
    "    for _ in range(num_rows)\n",
    "]\n",
    "end = perf_counter()\n",
    "print(data[:2])\n",
    "print('Elapsed', end - start)"
   ]
  },
  {
   "cell_type": "markdown",
   "metadata": {},
   "source": [
    "Nu maken we een nieuwe lijst die de dagelijkse procentuele variatie (afgerond tot int) van de prijs weergeeft voor elke rij: \n",
    "\n",
    "Voor elke rij berekenen we dus:\n",
    "```\n",
    "round((high - low) / close * 100)\n",
    "```"
   ]
  },
  {
   "cell_type": "code",
   "execution_count": 27,
   "metadata": {},
   "outputs": [
    {
     "name": "stdout",
     "output_type": "stream",
     "text": [
      "[54, 39, 41, 34, 39]\n",
      "Elapsed: 1.874384121998446\n"
     ]
    }
   ],
   "source": [
    "start = perf_counter()\n",
    "var = [ \n",
    "    round((row[1] - row[2]) / row[3] * 100)\n",
    "    for row in data\n",
    "]\n",
    "print(var[:5])\n",
    "end = perf_counter()\n",
    "print('Elapsed:', end - start)"
   ]
  },
  {
   "cell_type": "markdown",
   "metadata": {},
   "source": [
    "Nu doen we hetzelfde via NumPy:"
   ]
  },
  {
   "cell_type": "markdown",
   "metadata": {},
   "source": [
    "We maken een NumPy array op basis van onze bestaande Python list:"
   ]
  },
  {
   "cell_type": "code",
   "execution_count": 28,
   "metadata": {},
   "outputs": [
    {
     "name": "stdout",
     "output_type": "stream",
     "text": [
      "[[82 98 56 78]\n",
      " [85 97 64 85]]\n",
      "Elapsed: 2.8153451769976527\n"
     ]
    }
   ],
   "source": [
    "start = perf_counter()\n",
    "data_np = np.array(data)\n",
    "end=perf_counter()\n",
    "print(data_np[:2])\n",
    "print('Elapsed:', end - start)"
   ]
  },
  {
   "cell_type": "markdown",
   "metadata": {},
   "source": [
    "En nu voeren we de berekeningen uit:"
   ]
  },
  {
   "cell_type": "code",
   "execution_count": 29,
   "metadata": {},
   "outputs": [
    {
     "name": "stdout",
     "output_type": "stream",
     "text": [
      "[54. 39. 41. 34. 39.]\n",
      "Elapsed: 0.13548060699395137\n"
     ]
    }
   ],
   "source": [
    "start = perf_counter()\n",
    "var = np.round((data_np[:, 1] - data_np[:, 2]) / data_np[:, 3] * 100)\n",
    "end = perf_counter()\n",
    "print(var[:5])\n",
    "print('Elapsed:', end - start)"
   ]
  },
  {
   "cell_type": "markdown",
   "metadata": {},
   "source": [
    "Een serieuze verbetering van de performantie!"
   ]
  },
  {
   "cell_type": "markdown",
   "metadata": {},
   "source": [
    "We kozen ervoor om de NumPy array te maken op basis van de Python list, maar we konden dit ook direct hebben gedaan met NumPy."
   ]
  },
  {
   "cell_type": "markdown",
   "metadata": {},
   "source": [
    "Om de NumPy array rechtstreeks te maken, maken we afzonderlijke arrays aan voor de OHLC waarden, en stacken deze horizontaal (`hstack`) om alle kolommen in een enkele 2-D array te combineren: "
   ]
  },
  {
   "cell_type": "code",
   "execution_count": 30,
   "metadata": {},
   "outputs": [
    {
     "name": "stdout",
     "output_type": "stream",
     "text": [
      "[[82 90 57 72]\n",
      " [75 89 64 72]\n",
      " [70 93 60 70]\n",
      " [73 97 69 83]\n",
      " [81 96 65 79]]\n",
      "Elapsed: 0.50022591099696\n"
     ]
    }
   ],
   "source": [
    "np.random.seed(0)\n",
    "start = perf_counter()\n",
    "data_np = np.hstack(\n",
    "    [\n",
    "        np.random.randint(70, 85, (num_rows, 1)),\n",
    "        np.random.randint(85, 100, (num_rows, 1)),\n",
    "        np.random.randint(55, 70, (num_rows, 1)),\n",
    "        np.random.randint(70, 85, (num_rows, 1))\n",
    "    ]        \n",
    ")\n",
    "end = perf_counter()\n",
    "print(data_np[:5])\n",
    "print('Elapsed:', end - start)"
   ]
  },
  {
   "cell_type": "markdown",
   "metadata": {},
   "source": [
    "Dat ging een pak sneller dan het genereren van dezelfde random integers met behulp van Python!"
   ]
  },
  {
   "cell_type": "markdown",
   "metadata": {},
   "source": [
    "Als we dit allemaal combineren om de performantie van Python en NumPy te vergelijken: "
   ]
  },
  {
   "cell_type": "markdown",
   "metadata": {},
   "source": [
    "Python:"
   ]
  },
  {
   "cell_type": "code",
   "execution_count": 31,
   "metadata": {},
   "outputs": [],
   "source": [
    "num_rows = 10_000_000"
   ]
  },
  {
   "cell_type": "code",
   "execution_count": 32,
   "metadata": {},
   "outputs": [
    {
     "name": "stdout",
     "output_type": "stream",
     "text": [
      "Python Elapsed: 29.989695846998075\n"
     ]
    }
   ],
   "source": [
    "random.seed(0)\n",
    "start = perf_counter()\n",
    "data = [\n",
    "    [\n",
    "        random.randint(120, 180),\n",
    "        random.randint(180, 200),\n",
    "        random.randint(100, 120),\n",
    "        random.randint(120, 180)\n",
    "    ]\n",
    "    for _ in range(num_rows)\n",
    "]\n",
    "var = [ \n",
    "    round((row[1] - row[2]) / row[3] * 100)\n",
    "    for row in data\n",
    "]\n",
    "end = perf_counter()\n",
    "print('Python Elapsed:', end - start)"
   ]
  },
  {
   "cell_type": "markdown",
   "metadata": {},
   "source": [
    "En nu via NumPy:"
   ]
  },
  {
   "cell_type": "code",
   "execution_count": 33,
   "metadata": {},
   "outputs": [
    {
     "name": "stdout",
     "output_type": "stream",
     "text": [
      "NumPy Elapsed: 0.7654488959960872\n"
     ]
    }
   ],
   "source": [
    "np.random.seed(0)\n",
    "start = perf_counter()\n",
    "data_np = np.hstack(\n",
    "    [\n",
    "        np.random.randint(120, 180, (num_rows, 1)),\n",
    "        np.random.randint(180, 200, (num_rows, 1)),\n",
    "        np.random.randint(100, 120, (num_rows, 1)),\n",
    "        np.random.randint(120, 180, (num_rows, 1))\n",
    "    ]\n",
    ")\n",
    "var = np.round((data_np[:, 1] - data_np[:, 2]) / data_np[:, 3] * 100)\n",
    "end = perf_counter()\n",
    "print('NumPy Elapsed:', end - start)"
   ]
  },
  {
   "cell_type": "markdown",
   "metadata": {},
   "source": [
    "Zoals je kan zien is NumPy veel sneller dan Python."
   ]
  },
  {
   "cell_type": "markdown",
   "metadata": {},
   "source": [
    "#### Broadcasting"
   ]
  },
  {
   "cell_type": "markdown",
   "metadata": {},
   "source": [
    "Deze universele functies kunnen we ook met arrays gebruiken die niet dezelfde shape hebben dankzij een techniek die we kennen als **broadcasting*.\n",
    "\n",
    "https://numpy.org/doc/stable/user/basics.broadcasting.html"
   ]
  },
  {
   "cell_type": "markdown",
   "metadata": {},
   "source": [
    "We bestuderen broadcasting hier niet, maar enkele eenvoudige gevallen zijn eenvoudig te begrijpen:"
   ]
  },
  {
   "cell_type": "markdown",
   "metadata": {},
   "source": [
    "Veronderstel dat we een array hebben met daarin getallen die het aantal verkochte eenheden per item weergeven.   Elke rij vertegenwoordigt een order, en elke kolom een specifiek item:"
   ]
  },
  {
   "cell_type": "code",
   "execution_count": 34,
   "metadata": {},
   "outputs": [],
   "source": [
    "sales = np.array(\n",
    "    [\n",
    "        [10, 0, 5, 3],\n",
    "        [0, 0, 0, 10],\n",
    "        [1, 1, 0, 0],\n",
    "        [3, 0, 4, 5]\n",
    "    ]\n",
    ")"
   ]
  },
  {
   "cell_type": "markdown",
   "metadata": {},
   "source": [
    "De volgende array geeft de verkoopprijs voor elk item weer (in dezelfde volgorde als het aantal verkochte eenheden):"
   ]
  },
  {
   "cell_type": "code",
   "execution_count": 35,
   "metadata": {},
   "outputs": [],
   "source": [
    "unit_price = np.array([100, 50, 20, 10])"
   ]
  },
  {
   "cell_type": "markdown",
   "metadata": {},
   "source": [
    "Deze array vertegenwoordigt de kost van elk artikel:"
   ]
  },
  {
   "cell_type": "code",
   "execution_count": 36,
   "metadata": {},
   "outputs": [],
   "source": [
    "unit_cost = np.array([80, 10, 5, 1])"
   ]
  },
  {
   "cell_type": "markdown",
   "metadata": {},
   "source": [
    "We willen nu de totaal door de verkopen gegenereerde marge berekenen.  Door middel van broadcasting kunnen we de totale verkoopprijs voor elk artikel in elk order berekenen:"
   ]
  },
  {
   "cell_type": "code",
   "execution_count": 37,
   "metadata": {},
   "outputs": [
    {
     "data": {
      "text/plain": [
       "array([[1000,    0,  100,   30],\n",
       "       [   0,    0,    0,  100],\n",
       "       [ 100,   50,    0,    0],\n",
       "       [ 300,    0,   80,   50]])"
      ]
     },
     "execution_count": 37,
     "metadata": {},
     "output_type": "execute_result"
    }
   ],
   "source": [
    "sales * unit_price"
   ]
  },
  {
   "cell_type": "markdown",
   "metadata": {},
   "source": [
    "Zoals je kan zie werd de `unit_price` ge-**broadcast** voor elke rij, en kon zo de vermenigvuldiging gebeuren."
   ]
  },
  {
   "cell_type": "code",
   "execution_count": 38,
   "metadata": {},
   "outputs": [],
   "source": [
    "total_sales = sales * unit_price"
   ]
  },
  {
   "cell_type": "markdown",
   "metadata": {},
   "source": [
    "We kunnen hetzelfde doen met de kosten:"
   ]
  },
  {
   "cell_type": "code",
   "execution_count": 39,
   "metadata": {
    "tags": []
   },
   "outputs": [
    {
     "data": {
      "text/plain": [
       "array([[800,   0,  25,   3],\n",
       "       [  0,   0,   0,  10],\n",
       "       [ 80,  10,   0,   0],\n",
       "       [240,   0,  20,   5]])"
      ]
     },
     "execution_count": 39,
     "metadata": {},
     "output_type": "execute_result"
    }
   ],
   "source": [
    "total_cost = sales * unit_cost\n",
    "total_cost"
   ]
  },
  {
   "cell_type": "markdown",
   "metadata": {},
   "source": [
    "En nu kunnen we het resultaat berekenen:"
   ]
  },
  {
   "cell_type": "code",
   "execution_count": 42,
   "metadata": {},
   "outputs": [
    {
     "data": {
      "text/plain": [
       "array([[200,   0,  75,  27],\n",
       "       [  0,   0,   0,  90],\n",
       "       [ 20,  40,   0,   0],\n",
       "       [ 60,   0,  60,  45]])"
      ]
     },
     "execution_count": 42,
     "metadata": {},
     "output_type": "execute_result"
    }
   ],
   "source": [
    "order_net = total_sales - total_cost\n",
    "order_net"
   ]
  },
  {
   "cell_type": "markdown",
   "metadata": {},
   "source": [
    "Om de som van al deze elementen te berekenen zouden we enkele loops kunnen gebruiken, maar NumPy heeft een betere manier om dit te doen.  De `sum` functie die, zelfs in een multi-dimensionale array, alle elementen optelt."
   ]
  },
  {
   "cell_type": "code",
   "execution_count": 43,
   "metadata": {},
   "outputs": [
    {
     "data": {
      "text/plain": [
       "617"
      ]
     },
     "execution_count": 43,
     "metadata": {},
     "output_type": "execute_result"
    }
   ],
   "source": [
    "np.sum(order_net)"
   ]
  },
  {
   "cell_type": "markdown",
   "metadata": {},
   "source": [
    "NumPy bevat nog veel meer functionaliteit - meer dan we in de notebooks hebben behandeld.  Je hebt nu evenwel een idee hoe NumPy werkt.  Je bent nu in staat om met behulp van de NumPy documentatie functionaliteit zoeken die je nodig hebt voor specifieke toepassingen."
   ]
  },
  {
   "cell_type": "markdown",
   "metadata": {},
   "source": [
    "Eén van de redenen om NumPy te leren, is omdat andere libraries zoals Pandas erop gebouwd zijn.  Pandas biedt een pak functionaliteit die nu is gefocused op datasets. "
   ]
  },
  {
   "cell_type": "code",
   "execution_count": null,
   "metadata": {},
   "outputs": [],
   "source": []
  }
 ],
 "metadata": {
  "kernelspec": {
   "display_name": "Python 3 (ipykernel)",
   "language": "python",
   "name": "python3"
  },
  "language_info": {
   "codemirror_mode": {
    "name": "ipython",
    "version": 3
   },
   "file_extension": ".py",
   "mimetype": "text/x-python",
   "name": "python",
   "nbconvert_exporter": "python",
   "pygments_lexer": "ipython3",
   "version": "3.12.8"
  }
 },
 "nbformat": 4,
 "nbformat_minor": 4
}
