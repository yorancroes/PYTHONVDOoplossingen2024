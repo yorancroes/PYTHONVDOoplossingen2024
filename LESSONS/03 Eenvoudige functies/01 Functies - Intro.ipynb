{
 "cells": [
  {
   "cell_type": "markdown",
   "metadata": {},
   "source": [
    "![alt text](../../pythonexposed-high-resolution-logo-black.jpg \"Optionele titel\")"
   ]
  },
  {
   "cell_type": "markdown",
   "metadata": {},
   "source": [
    "### Intro tot Functies"
   ]
  },
  {
   "cell_type": "markdown",
   "metadata": {},
   "source": [
    "Een functie in Python wordt gedefinieerd met het `def` sleutelwoord, gevolgd door de functienaam en een paar ronde haakjes `()` die eventuele parameters kunnen bevatten. De codeblok binnen een functie begint met een dubbele punt `:` en is ingesprongen."
   ]
  },
  {
   "cell_type": "code",
   "execution_count": 1,
   "metadata": {
    "tags": []
   },
   "outputs": [
    {
     "name": "stdout",
     "output_type": "stream",
     "text": [
      "Hallo Wereld!\n"
     ]
    }
   ],
   "source": [
    "def groet(naam):\n",
    "    print(f\"Hallo {naam}!\")\n",
    "    \n",
    "groet(\"Wereld\")"
   ]
  },
  {
   "cell_type": "markdown",
   "metadata": {},
   "source": [
    "We kunnen deze functie vervolgens oproepen ('callen') door de naam ervan te gebruiken (een symbool dat wijst naar het functieobject dat is aangemaakt):"
   ]
  },
  {
   "cell_type": "code",
   "execution_count": 2,
   "metadata": {
    "tags": []
   },
   "outputs": [
    {
     "name": "stdout",
     "output_type": "stream",
     "text": [
      "Hallo Olivier!\n"
     ]
    }
   ],
   "source": [
    "groet(\"Olivier\")"
   ]
  },
  {
   "cell_type": "markdown",
   "metadata": {},
   "source": [
    "We kunnen dit zo vaak doen als we willen:"
   ]
  },
  {
   "cell_type": "code",
   "execution_count": 3,
   "metadata": {
    "tags": []
   },
   "outputs": [
    {
     "name": "stdout",
     "output_type": "stream",
     "text": [
      "Hallo Titus!\n"
     ]
    }
   ],
   "source": [
    "groet(\"Titus\")"
   ]
  },
  {
   "cell_type": "markdown",
   "metadata": {},
   "source": [
    "Merk op dat `groet` eigenlijk lijkt op een variabelennaam - het is een variabele (een symbool) die verwijst naar een functieobject."
   ]
  },
  {
   "cell_type": "markdown",
   "metadata": {},
   "source": [
    "We kunnen hetzelfde functieobject toewijzen aan een andere variabele:"
   ]
  },
  {
   "cell_type": "code",
   "execution_count": 4,
   "metadata": {
    "tags": []
   },
   "outputs": [],
   "source": [
    "alternatief = groet"
   ]
  },
  {
   "cell_type": "markdown",
   "metadata": {},
   "source": [
    "Nu verwijzen zowel `alternatief` als `groet` naar **hetzelfde** functieobject:"
   ]
  },
  {
   "cell_type": "code",
   "execution_count": 5,
   "metadata": {
    "tags": []
   },
   "outputs": [
    {
     "data": {
      "text/plain": [
       "(140347780976640, 140347780976640)"
      ]
     },
     "execution_count": 5,
     "metadata": {},
     "output_type": "execute_result"
    }
   ],
   "source": [
    "id(alternatief), id(groet)"
   ]
  },
  {
   "cell_type": "code",
   "execution_count": 6,
   "metadata": {
    "tags": []
   },
   "outputs": [
    {
     "data": {
      "text/plain": [
       "True"
      ]
     },
     "execution_count": 6,
     "metadata": {},
     "output_type": "execute_result"
    }
   ],
   "source": [
    "alternatief is groet"
   ]
  },
  {
   "cell_type": "markdown",
   "metadata": {},
   "source": [
    "En nu kunnen we deze functie aanroepen met behulp van een van de namen:"
   ]
  },
  {
   "cell_type": "code",
   "execution_count": 7,
   "metadata": {
    "tags": []
   },
   "outputs": [
    {
     "name": "stdout",
     "output_type": "stream",
     "text": [
      "Hallo Joke!\n"
     ]
    }
   ],
   "source": [
    "alternatief(\"Joke\")"
   ]
  },
  {
   "cell_type": "markdown",
   "metadata": {},
   "source": [
    "De kernboodschap hier is dat wanneer we een functie schrijven, dat we eigenlijk een functie object maken met de code in de body, en Python laat een symbool `functienaam` in onze code naar dit object verwijzen.  "
   ]
  },
  {
   "cell_type": "markdown",
   "metadata": {},
   "source": [
    "Functies vereisen vaak enkele invoerwaarden, en we kunnen dit doen door simpelweg de namen op te sommen die we willen toewijzen aan die positionele argumenten in de functiedefinitie (de **parameters** van de functie).  Naast positionele argumenten zijn er ook **keyword arguments**: argumenten waarvan we de naam meegeven, named arguments dus."
   ]
  },
  {
   "cell_type": "markdown",
   "metadata": {
    "tags": []
   },
   "source": [
    "#### Argumenten en Return Statement"
   ]
  },
  {
   "cell_type": "code",
   "execution_count": 8,
   "metadata": {
    "tags": []
   },
   "outputs": [
    {
     "name": "stdout",
     "output_type": "stream",
     "text": [
      "21\n"
     ]
    }
   ],
   "source": [
    "def optellen(a, b, c):\n",
    "    return a + b + c\n",
    "\n",
    "resultaat = optellen(5, 7, 9)\n",
    "print(resultaat)"
   ]
  },
  {
   "cell_type": "markdown",
   "metadata": {},
   "source": [
    "We kunnen vervolgens `optellen` aanroepen met drie argumenten, en die waarden zullen beschikbaar zijn in de functie body met behulp van de namen die we hebben gespecificeerd voor de parameters. De waarden worden doorgegeven op basis van hun **positie** - dus het eerste argument komt in de eerste parameter terecht, enzovoort."
   ]
  },
  {
   "cell_type": "code",
   "execution_count": 9,
   "metadata": {
    "tags": []
   },
   "outputs": [
    {
     "name": "stdout",
     "output_type": "stream",
     "text": [
      "som = 6\n"
     ]
    }
   ],
   "source": [
    "result = optellen(1, 2, 3)\n",
    "print(f'som = {result}')"
   ]
  },
  {
   "cell_type": "code",
   "execution_count": 10,
   "metadata": {
    "tags": []
   },
   "outputs": [
    {
     "name": "stdout",
     "output_type": "stream",
     "text": [
      "som = 6\n"
     ]
    }
   ],
   "source": [
    "som = optellen(3, 2, 1)\n",
    "print(f'som = {result}')"
   ]
  },
  {
   "cell_type": "markdown",
   "metadata": {},
   "source": [
    "Laten we nog een paar voorbeelden proberen om een goed gevoel te krijgen voor het schrijven van functies:"
   ]
  },
  {
   "cell_type": "code",
   "execution_count": 11,
   "metadata": {
    "tags": []
   },
   "outputs": [],
   "source": [
    "def zoek_minimum(a, b, c):\n",
    "    min_ = a\n",
    "    if b < min_:\n",
    "        min_ = b\n",
    "    if c < min_:\n",
    "        min_ = c\n",
    "    return min_"
   ]
  },
  {
   "cell_type": "code",
   "execution_count": 12,
   "metadata": {
    "tags": []
   },
   "outputs": [
    {
     "data": {
      "text/plain": [
       "10"
      ]
     },
     "execution_count": 12,
     "metadata": {},
     "output_type": "execute_result"
    }
   ],
   "source": [
    "zoek_minimum(10, 20, 30)"
   ]
  },
  {
   "cell_type": "markdown",
   "metadata": {
    "tags": []
   },
   "source": [
    "### Default Parameters\n",
    "\n",
    "Je kunt standaardwaarden voor parameters definiëren, die worden gebruikt als er geen argument wordt doorgegeven bij het aanroepen van de functie."
   ]
  },
  {
   "cell_type": "code",
   "execution_count": 13,
   "metadata": {
    "tags": []
   },
   "outputs": [
    {
     "name": "stdout",
     "output_type": "stream",
     "text": [
      "81\n",
      "729\n"
     ]
    }
   ],
   "source": [
    "def kracht(num, exp=2):\n",
    "    return num ** exp\n",
    "\n",
    "print(kracht(9))  # Gebruikt de standaard exponent 2\n",
    "print(kracht(9, 3))  # Overschrijft de standaard exponent met 3"
   ]
  },
  {
   "cell_type": "markdown",
   "metadata": {},
   "source": [
    "### Keyword Arguments\n",
    "\n",
    "Functies kunnen ook worden aangeroepen met keyword arguments, waarbij waarden aan specifieke parameters worden toegewezen op basis van hun naam, ongeacht hun positie."
   ]
  },
  {
   "cell_type": "code",
   "execution_count": 10,
   "metadata": {
    "tags": []
   },
   "outputs": [
    {
     "name": "stdout",
     "output_type": "stream",
     "text": [
      "John Doe\n"
     ]
    }
   ],
   "source": [
    "def volledige_naam(voornaam, achternaam):\n",
    "    return f\"{voornaam} {achternaam}\"\n",
    "\n",
    "print(volledige_naam(achternaam=\"Doe\", voornaam=\"John\"))"
   ]
  },
  {
   "cell_type": "markdown",
   "metadata": {},
   "source": [
    "### De input() functie"
   ]
  },
  {
   "cell_type": "markdown",
   "metadata": {},
   "source": [
    "De input() functie in Python wordt gebruikt om een invoerwaarde van de gebruiker te verkrijgen tijdens de uitvoering van een programma. Wanneer input() wordt aangeroepen, pauzeert het programma en wacht het op de gebruiker om tekst in te voeren in de console (of command line) en op Enter te drukken. De functie leest de invoer als een string en kan deze waarde teruggeven aan het programma, zodat het verder kan gaan met de uitvoering."
   ]
  },
  {
   "cell_type": "code",
   "execution_count": 22,
   "metadata": {
    "tags": []
   },
   "outputs": [
    {
     "name": "stdin",
     "output_type": "stream",
     "text": [
      "Wat is je naam?  Oli\n"
     ]
    },
    {
     "name": "stdout",
     "output_type": "stream",
     "text": [
      "Hallo Oli, welkom!\n"
     ]
    }
   ],
   "source": [
    "naam = input(\"Wat is je naam? \")\n",
    "print(f\"Hallo {naam}, welkom!\")"
   ]
  },
  {
   "cell_type": "markdown",
   "metadata": {},
   "source": [
    "Belangrijk om te Weten:\n",
    "Alles wat door input() wordt ingevoerd, wordt behandeld als een string. Als je numerieke waarden nodig hebt, moet je de invoer converteren met functies zoals int() of float().\n",
    "input() kan een programma kwetsbaar maken voor bepaalde types van invoer als niet correct gehanteerd, vooral als het gaat om het evalueren of uitvoeren van de invoer. Het is belangrijk om de invoer te valideren voordat deze wordt gebruikt."
   ]
  },
  {
   "cell_type": "markdown",
   "metadata": {
    "tags": []
   },
   "source": [
    "### Modules"
   ]
  },
  {
   "cell_type": "markdown",
   "metadata": {},
   "source": [
    "Je kan extra functionaliteit importeren in een python programma.  Dit doe je door een module of een functie te importeren.  Er bestaan enorm veel modules, zoals math, random enz...  Je kan deze als volgt gebruiken:"
   ]
  },
  {
   "cell_type": "code",
   "execution_count": 16,
   "metadata": {
    "tags": []
   },
   "outputs": [
    {
     "name": "stdout",
     "output_type": "stream",
     "text": [
      "2.0\n"
     ]
    }
   ],
   "source": [
    "import math\n",
    "print(math.sqrt(4))"
   ]
  },
  {
   "cell_type": "markdown",
   "metadata": {},
   "source": [
    "Dit is identiek aan:"
   ]
  },
  {
   "cell_type": "code",
   "execution_count": 13,
   "metadata": {
    "tags": []
   },
   "outputs": [
    {
     "name": "stdout",
     "output_type": "stream",
     "text": [
      "2.0\n"
     ]
    }
   ],
   "source": [
    "from math import sqrt\n",
    "print(sqrt(4))"
   ]
  },
  {
   "cell_type": "markdown",
   "metadata": {},
   "source": [
    "of nog: "
   ]
  },
  {
   "cell_type": "code",
   "execution_count": 18,
   "metadata": {
    "tags": []
   },
   "outputs": [
    {
     "name": "stdout",
     "output_type": "stream",
     "text": [
      "2.0\n"
     ]
    }
   ],
   "source": [
    "from math import sqrt as squareroot\n",
    "print(squareroot(4))"
   ]
  },
  {
   "cell_type": "markdown",
   "metadata": {},
   "source": [
    "In de math module vind je een pak wiskundige functies, zoals exp(); log(), log10(),..."
   ]
  },
  {
   "cell_type": "markdown",
   "metadata": {},
   "source": [
    "De `random` module bevat functies die pseudo-toevalsgetallen genereren. Ik zeg “pseudo-toevalsgetallen” en niet “toevalsgetallen,” aangezien het onmogelijk is voor digitale computers om echt toevalsgetallen te genereren. Maar voor alle toepassingen mag je ervan uitgaan dat deze module toevalsgetallen genereert.\n",
    "- random () krijgt geen parameters, en retourneert een toevalsgetal als een float binnen het bereik [ 0, 1 ) , dat wil zeggen een bereik tussen nul en 1, waarbij 0.0 wel meedoet maar 1.0 niet.\n",
    "- randint () krijgt twee parameters, beide integers, waarbij de eerste kleiner dan of gelijk aan de tweede moet zijn. Het retourneert een toevalsgetal dat een integer is dat\n",
    "ligt binnen het bereik dat begrensd wordt door deze twee parameters, inclusief beide parameters. Bijvoorbeeld, randint (2,5) retourneert 2, 3, 4, of 5, elk met een gelijke\n",
    "kans.\n",
    "- seed () initialiseert de toevalsgetal generator van Python. Als je een lijst van toevals getallen wilt hebben die iedere keer hetzelfde is voor je programma, kun je dat voor elkaar krijgen door aan het begin van je programma seed () aan te roepen met een vast getal, bijvoorbeeld 0. Dit kan nuttig zijn bij het testen van je programma. Als je\n",
    "de generator weer echt toevallige getallen wilt laten genereren op een later punt in je programma, kun je seed () nogmaals aanroepen zonder parameter."
   ]
  },
  {
   "cell_type": "code",
   "execution_count": 27,
   "metadata": {
    "tags": []
   },
   "outputs": [
    {
     "name": "stdout",
     "output_type": "stream",
     "text": [
      "Een toevalsgetal tussen 1 en 10 is 2\n",
      "Een ander is 6\n",
      "3 toevalsgetallen zijn: 0.8444218515250481 0.7579544029403025 0.420571580830845\n",
      "Dezelfde 3 zijn: 0.8444218515250481 0.7579544029403025 0.420571580830845\n"
     ]
    }
   ],
   "source": [
    "from random import random , randint , seed\n",
    "seed()\n",
    "print(\"Een toevalsgetal tussen 1 en 10 is\", randint ( 1, 10 ))\n",
    "print(\"Een ander is\", randint ( 1, 10 ))\n",
    "seed(0)\n",
    "print(\"3 toevalsgetallen zijn:\", random(), random(), random())\n",
    "seed(0)\n",
    "print(\"Dezelfde 3 zijn:\", random (), random (), random ())"
   ]
  },
  {
   "cell_type": "markdown",
   "metadata": {
    "tags": []
   },
   "source": [
    "### Oefeningen"
   ]
  },
  {
   "cell_type": "markdown",
   "metadata": {},
   "source": [
    "- Schrijf een functie die als positionele argumenten jouw voornaam en familienaam accepteert, en de string 'Hallo (voornaam) (familienaam), welkom op de cursus!' retourneert\n",
    "- Schrijf een functie die een grondtal tot een macht verheft (vb 4³) waarbij de macht standaard 3 is\n",
    "- Schrijf een functie die een getal en een deler accepteert, en als resultaat zowel de gehele deling als de rest bij deling retourneert"
   ]
  },
  {
   "cell_type": "code",
   "execution_count": null,
   "metadata": {},
   "outputs": [],
   "source": []
  }
 ],
 "metadata": {
  "kernelspec": {
   "display_name": "Python 3 (ipykernel)",
   "language": "python",
   "name": "python3"
  },
  "language_info": {
   "codemirror_mode": {
    "name": "ipython",
    "version": 3
   },
   "file_extension": ".py",
   "mimetype": "text/x-python",
   "name": "python",
   "nbconvert_exporter": "python",
   "pygments_lexer": "ipython3",
   "version": "3.11.6"
  }
 },
 "nbformat": 4,
 "nbformat_minor": 4
}
