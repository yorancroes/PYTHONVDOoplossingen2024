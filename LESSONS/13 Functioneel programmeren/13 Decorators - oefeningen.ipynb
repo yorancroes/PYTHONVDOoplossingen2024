{
 "cells": [
  {
   "cell_type": "markdown",
   "id": "d5c0a102-2c99-49cf-8404-9849018b725f",
   "metadata": {},
   "source": [
    "![alt text](../../pythonexposed-high-resolution-logo-black.jpg \"Optionele titel\")"
   ]
  },
  {
   "cell_type": "markdown",
   "id": "28e4a9a6-328a-4881-8f65-bb8dd0f420d6",
   "metadata": {},
   "source": [
    "1. Schrijf een Python-programma om een decorator te maken die de argumenten en de retourwaarde van een functie logt."
   ]
  },
  {
   "cell_type": "code",
   "execution_count": 1,
   "id": "68d24252-a472-49b4-8465-0d0125604f16",
   "metadata": {},
   "outputs": [
    {
     "name": "stdout",
     "output_type": "stream",
     "text": [
      "Functie multiply_numbers aanroepen met args: (10, 20), kwargs: {}\n",
      "multiply_numbers retourneerde: 200\n",
      "Resultaat: 200\n"
     ]
    }
   ],
   "source": []
  },
  {
   "cell_type": "markdown",
   "id": "41f64500-a053-4b51-99fd-a322610b9025",
   "metadata": {},
   "source": [
    "2. Schrijf een Python-programma om een decoratorfunctie te maken die de uitvoertijd van een functie meet."
   ]
  },
  {
   "cell_type": "code",
   "execution_count": 2,
   "id": "468d6e51-0b36-457e-9bdd-46ebf9879922",
   "metadata": {},
   "outputs": [
    {
     "name": "stdout",
     "output_type": "stream",
     "text": [
      "Functie calculate_multiply duurde 0.00000095 seconden om uit te voeren\n",
      "Resultaat: 120\n"
     ]
    }
   ],
   "source": []
  },
  {
   "cell_type": "markdown",
   "id": "8d717849-e7f6-4bd6-af74-74121f3323e8",
   "metadata": {},
   "source": [
    "3. Schrijf een Python-programma om een decorator te maken die de retourwaarde van een functie converteert naar een specifiek datatype."
   ]
  },
  {
   "cell_type": "code",
   "execution_count": 3,
   "id": "85e66f7b-a671-4b38-940d-3d3a01c3f9fa",
   "metadata": {},
   "outputs": [
    {
     "name": "stdout",
     "output_type": "stream",
     "text": [
      "Result: 30 <class 'int'>\n",
      "Result: Python Decorator <class 'str'>\n"
     ]
    }
   ],
   "source": []
  },
  {
   "cell_type": "markdown",
   "id": "4eb400f3-5ac3-458d-935d-da4a74076390",
   "metadata": {},
   "source": [
    "4. Schrijf een Python-programma dat een decorator implementeert om het resultaat van een functie in de cache op te slaan."
   ]
  },
  {
   "cell_type": "code",
   "execution_count": 4,
   "id": "9266f4ed-df96-4d7a-9444-cb047b53078e",
   "metadata": {},
   "outputs": [
    {
     "name": "stdout",
     "output_type": "stream",
     "text": [
      "Calculating the product of two numbers...\n",
      "20\n",
      "Retrieving result from cache...\n",
      "20\n",
      "Calculating the product of two numbers...\n",
      "35\n",
      "Retrieving result from cache...\n",
      "35\n",
      "Calculating the product of two numbers...\n",
      "-21\n",
      "Retrieving result from cache...\n",
      "-21\n"
     ]
    }
   ],
   "source": []
  },
  {
   "cell_type": "markdown",
   "id": "35ac1c82-8123-44eb-a70c-3b7d1ad33d4c",
   "metadata": {},
   "source": [
    "5. Schrijf een Python-programma dat een decorator implementeert om de argumenten van een functie te valideren op basis van een gegeven voorwaarde."
   ]
  },
  {
   "cell_type": "code",
   "execution_count": 5,
   "id": "808c39f0-e382-4b9e-8cae-d21adf58c1cf",
   "metadata": {},
   "outputs": [
    {
     "name": "stdout",
     "output_type": "stream",
     "text": [
      "125\n"
     ]
    },
    {
     "ename": "ValueError",
     "evalue": "Invalid arguments passed to the function",
     "output_type": "error",
     "traceback": [
      "\u001b[0;31m---------------------------------------------------------------------------\u001b[0m",
      "\u001b[0;31mValueError\u001b[0m                                Traceback (most recent call last)",
      "Cell \u001b[0;32mIn[5], line 16\u001b[0m\n\u001b[1;32m     13\u001b[0m     \u001b[38;5;28;01mreturn\u001b[39;00m x \u001b[38;5;241m*\u001b[39m\u001b[38;5;241m*\u001b[39m \u001b[38;5;241m3\u001b[39m\n\u001b[1;32m     15\u001b[0m \u001b[38;5;28mprint\u001b[39m(calculate_cube(\u001b[38;5;241m5\u001b[39m)) \n\u001b[0;32m---> 16\u001b[0m \u001b[38;5;28mprint\u001b[39m(\u001b[43mcalculate_cube\u001b[49m\u001b[43m(\u001b[49m\u001b[38;5;241;43m-\u001b[39;49m\u001b[38;5;241;43m2\u001b[39;49m\u001b[43m)\u001b[49m)  \n",
      "Cell \u001b[0;32mIn[5], line 7\u001b[0m, in \u001b[0;36mvalidate_arguments.<locals>.decorator.<locals>.wrapper\u001b[0;34m(*args, **kwargs)\u001b[0m\n\u001b[1;32m      5\u001b[0m     \u001b[38;5;28;01mreturn\u001b[39;00m func(\u001b[38;5;241m*\u001b[39margs, \u001b[38;5;241m*\u001b[39m\u001b[38;5;241m*\u001b[39mkwargs)\n\u001b[1;32m      6\u001b[0m \u001b[38;5;28;01melse\u001b[39;00m:\n\u001b[0;32m----> 7\u001b[0m     \u001b[38;5;28;01mraise\u001b[39;00m \u001b[38;5;167;01mValueError\u001b[39;00m(\u001b[38;5;124m\"\u001b[39m\u001b[38;5;124mInvalid arguments passed to the function\u001b[39m\u001b[38;5;124m\"\u001b[39m)\n",
      "\u001b[0;31mValueError\u001b[0m: Invalid arguments passed to the function"
     ]
    }
   ],
   "source": []
  },
  {
   "cell_type": "code",
   "execution_count": null,
   "id": "e1bfcb5a-202c-465d-b85c-a311f1f31e11",
   "metadata": {},
   "outputs": [],
   "source": []
  }
 ],
 "metadata": {
  "kernelspec": {
   "display_name": "Python 3 (ipykernel)",
   "language": "python",
   "name": "python3"
  },
  "language_info": {
   "codemirror_mode": {
    "name": "ipython",
    "version": 3
   },
   "file_extension": ".py",
   "mimetype": "text/x-python",
   "name": "python",
   "nbconvert_exporter": "python",
   "pygments_lexer": "ipython3",
   "version": "3.12.7"
  }
 },
 "nbformat": 4,
 "nbformat_minor": 5
}
