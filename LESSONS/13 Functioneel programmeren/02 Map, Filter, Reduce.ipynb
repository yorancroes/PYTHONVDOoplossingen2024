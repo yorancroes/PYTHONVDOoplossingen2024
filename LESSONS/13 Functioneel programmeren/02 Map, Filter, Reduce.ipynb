{
 "cells": [
  {
   "cell_type": "markdown",
   "id": "1a66b5c1-b10c-44bf-a627-b79d522d07c2",
   "metadata": {},
   "source": [
    "![alt text](../../pythonexposed-high-resolution-logo-black.jpg \"Optionele titel\")"
   ]
  },
  {
   "cell_type": "markdown",
   "id": "68257c57-fe96-4c6d-861b-190c84a4aa0d",
   "metadata": {},
   "source": [
    "# Map, Filter, Reduce\n",
    "- **`map()`**: past een functie toe op elk element van een lijst.\n",
    "- **`filter()`**: filtert elementen op basis van een voorwaarde.\n",
    "- **`reduce()`**: reduceert een lijst tot één enkel resultaat."
   ]
  },
  {
   "cell_type": "markdown",
   "id": "f9df0e35-9cb7-4d01-ab77-ddc0e7d2f90d",
   "metadata": {},
   "source": [
    "## 1. De `map()` functie in Python\n",
    "\n",
    "De **`map()`**-functie in Python is een ingebouwde functie die wordt gebruikt om een functie toe te passen op elk item in een iterabele (zoals een lijst, tuple, enzovoort) en het resultaat terug te geven in de vorm van een **map-object**. Dit object kan vervolgens worden omgezet naar een ander iterabel type zoals een lijst of tuple.\n",
    "\n",
    "### Syntax van `map()`\n",
    "\n",
    "```python\n",
    "map(function, iterable)\n",
    "```\n",
    "\n",
    "- **function**: De functie die je wilt toepassen op elk item in de iterable.\n",
    "- **iterable**: De collectie van items (bijvoorbeeld een lijst, tuple, enzovoort) waarop de functie wordt toegepast.\n",
    "\n",
    "Je kunt ook meerdere iterables aan `map()` meegeven. De functie moet dan zoveel argumenten kunnen accepteren als er iterables zijn.\n"
   ]
  },
  {
   "cell_type": "code",
   "execution_count": 15,
   "id": "236006cd-9f99-43bf-9e59-fe2f37391c08",
   "metadata": {},
   "outputs": [
    {
     "data": {
      "text/plain": [
       "[4, 10, 18]"
      ]
     },
     "execution_count": 15,
     "metadata": {},
     "output_type": "execute_result"
    }
   ],
   "source": [
    "list(multiplied)"
   ]
  },
  {
   "cell_type": "markdown",
   "id": "598b70bb-cf4a-4315-8783-f9bf05a40e7d",
   "metadata": {},
   "source": [
    "### Eigenschappen van `map()`\n",
    "1. **De functie** wordt toegepast op elk element van de iterable.\n",
    "2. **`map()` geeft een map-object terug**, dat een **lazy object** is. Dit betekent dat de berekening pas plaatsvindt wanneer je de resultaten opvraagt.\n",
    "3. Je kunt het resultaat omzetten naar bijvoorbeeld een **lijst** of **tuple** met `list()` of `tuple()`."
   ]
  },
  {
   "cell_type": "markdown",
   "id": "df3de92a-6090-4aae-866d-e8327b5ef167",
   "metadata": {},
   "source": [
    "**Voorbeeld 1: Een functie toepassen op een lijst**\n",
    "\n",
    "```python\n",
    "# Definieer een functie\n",
    "def square(x):\n",
    "    return x ** 2\n",
    "\n",
    "# Een lijst van getallen\n",
    "numbers = [1, 2, 3, 4, 5]\n",
    "\n",
    "# Gebruik map om de square-functie toe te passen op elk getal\n",
    "squared_numbers = map(square, numbers)\n",
    "\n",
    "# Resultaat omzetten naar een lijst\n",
    "print(list(squared_numbers))\n",
    "```\n",
    "\n",
    "**Output:**\n",
    "```\n",
    "[1, 4, 9, 16, 25]\n",
    "```\n",
    "**Uitleg:**\n",
    "- De functie `square` wordt toegepast op elk element van `numbers`.\n",
    "- Het resultaat is een map-object dat we met `list()` omzetten naar een lijst."
   ]
  },
  {
   "cell_type": "markdown",
   "id": "e55fa501-5de4-4fe3-8e5b-b7156d62d72c",
   "metadata": {},
   "source": [
    "**Voorbeeld 2: `lambda`-functie met `map()`**\n",
    "\n",
    "Je kunt ook **lambda-functies** gebruiken, wat handig is voor korte functies.\n",
    "\n",
    "```python\n",
    "# Gebruik een lambda-functie om getallen te verdubbelen\n",
    "numbers = [1, 2, 3, 4, 5]\n",
    "doubled = map(lambda x: x * 2, numbers)\n",
    "\n",
    "print(list(doubled))\n",
    "```\n",
    "\n",
    "**Output:**\n",
    "```\n",
    "[2, 4, 6, 8, 10]\n",
    "```\n",
    "\n",
    "**Uitleg:**\n",
    "- De `lambda`-functie `lambda x: x * 2` wordt toegepast op elk item in de lijst `numbers`."
   ]
  },
  {
   "cell_type": "markdown",
   "id": "73adfc3f-8bad-4f28-8d55-240b7efaa90d",
   "metadata": {},
   "source": [
    "**Voorbeeld 3: Meerdere iterables met `map()`**\n",
    "\n",
    "Wanneer je meerdere iterables doorgeeft, moet de functie meerdere argumenten accepteren.\n",
    "\n",
    "```python\n",
    "# Twee lijsten\n",
    "list1 = [1, 2, 3]\n",
    "list2 = [4, 5, 6]\n",
    "\n",
    "# Gebruik map om de som van de corresponderende elementen te berekenen\n",
    "sums = map(lambda x, y: x + y, list1, list2)\n",
    "\n",
    "print(list(sums))\n",
    "```\n",
    "\n",
    "**Output:**\n",
    "```\n",
    "[5, 7, 9]\n",
    "```\n",
    "\n",
    "**Uitleg:**\n",
    "- De `lambda`-functie accepteert twee parameters `x` en `y`.\n",
    "- `map()` neemt één element uit `list1` en één uit `list2` en voert de functie daarop uit.\n"
   ]
  },
  {
   "cell_type": "markdown",
   "id": "e5036a23-95de-4324-9e84-72d567bb13e3",
   "metadata": {},
   "source": [
    "**Voorbeeld 4: Gebruik van `map()` met strings**\n",
    "\n",
    "Je kunt `map()` ook gebruiken met string-bewerkingen.\n",
    "\n",
    "```python\n",
    "# Lijst van woorden\n",
    "words = [\"hallo\", \"wereld\", \"python\"]\n",
    "\n",
    "# Maak alle woorden hoofdletters met str.upper\n",
    "uppercase_words = map(str.upper, words)\n",
    "\n",
    "print(list(uppercase_words))\n",
    "```\n",
    "\n",
    "**Output:**\n",
    "```\n",
    "['HALLO', 'WERELD', 'PYTHON']\n",
    "```\n",
    "\n",
    "**Uitleg:**\n",
    "- De methode `str.upper` wordt toegepast op elk woord in de lijst `words`."
   ]
  },
  {
   "cell_type": "markdown",
   "id": "5beb1cda-6509-4271-bb7f-a141f549ab58",
   "metadata": {},
   "source": [
    "**Voorbeeld 5: Gebruik met `None` als functie**\n",
    "\n",
    "Als je `None` als functie opgeeft, geeft `map()` de items terug zoals ze zijn. Dit kan handig zijn voor filterachtige operaties met extra controle.\n",
    "\n",
    "```python\n",
    "values = [0, 1, 2, 3]\n",
    "results = map(None, values)\n",
    "\n",
    "print(list(results))\n",
    "```\n",
    "\n",
    "**Output:**\n",
    "Dit voorbeeld heeft geen effect, tenzij in combinatie met extra logica, bijvoorbeeld filtering."
   ]
  },
  {
   "cell_type": "markdown",
   "id": "46d07ea3-9aae-4b6b-a609-503e79308c8a",
   "metadata": {},
   "source": [
    "**Gebruik van `map()` vs list comprehension**\n",
    "\n",
    "Hoewel `map()` krachtig is, kan een **list comprehension** soms leesbaarder zijn.\n",
    "\n",
    "**Met `map()`**:\n",
    "```python\n",
    "numbers = [1, 2, 3, 4, 5]\n",
    "squared = list(map(lambda x: x ** 2, numbers))\n",
    "print(squared)\n",
    "```\n",
    "\n",
    "**Met list comprehension**:\n",
    "```python\n",
    "numbers = [1, 2, 3, 4, 5]\n",
    "squared = [x ** 2 for x in numbers]\n",
    "print(squared)\n",
    "```\n",
    "\n",
    "**Output (beide):**\n",
    "```\n",
    "[1, 4, 9, 16, 25]\n",
    "```"
   ]
  },
  {
   "cell_type": "markdown",
   "id": "ce6850ea-07e7-474f-a695-615884ad1da9",
   "metadata": {},
   "source": [
    "**Conclusie**\n",
    "\n",
    "De `map()`-functie is handig om een functie efficiënt toe te passen op elk item in een iterable. Het is vooral krachtig in combinatie met lambda-functies of ingebouwde functies zoals `str.upper`. Echter, in moderne Python-programmering worden **list comprehensions** vaak de voorkeur gegeven vanwege hun betere leesbaarheid."
   ]
  },
  {
   "cell_type": "markdown",
   "id": "9e088400-d5ea-45a2-8dc2-b02dca49c1f3",
   "metadata": {},
   "source": [
    "## 2. De `filter()`-functie in Python\n",
    "\n",
    "De **`filter()`**-functie in Python wordt gebruikt om elementen uit een iterable te filteren op basis van een voorwaarde. De functie retourneert alleen die elementen waarvoor de opgegeven functie **True** teruggeeft."
   ]
  },
  {
   "cell_type": "markdown",
   "id": "f4ee8be0-1a16-415c-98e2-3ded983f936b",
   "metadata": {},
   "source": [
    "### **Syntax van `filter()`**\n",
    "\n",
    "```python\n",
    "filter(function, iterable)\n",
    "```\n",
    "\n",
    "- **function**: Een functie die een waarde accepteert en `True` of `False` retourneert.\n",
    "- **iterable**: Een iterabele (lijst, tuple, enzovoort) waarvan de elementen worden gefilterd.\n",
    "\n",
    "De `filter()`-functie geeft een **filter object** terug, dat een **lazy object** is. Dit kan worden omgezet naar een lijst of een ander iterabel type."
   ]
  },
  {
   "cell_type": "markdown",
   "id": "8d6a942a-f3d6-4a86-8ad5-d9eba27373fa",
   "metadata": {},
   "source": [
    "**Voorbeeld 1: Even getallen filteren**\n",
    "\n",
    "```python\n",
    "# Definieer een functie die controleert of een getal even is\n",
    "def is_even(x):\n",
    "    return x % 2 == 0\n",
    "\n",
    "# Een lijst van getallen\n",
    "numbers = [1, 2, 3, 4, 5, 6]\n",
    "\n",
    "# Gebruik filter om alleen even getallen te behouden\n",
    "even_numbers = filter(is_even, numbers)\n",
    "\n",
    "# Resultaat omzetten naar een lijst\n",
    "print(list(even_numbers))\n",
    "```\n",
    "\n",
    "**Output:**\n",
    "```\n",
    "[2, 4, 6]\n",
    "```\n",
    "\n",
    "**Uitleg:**\n",
    "- De functie `is_even` retourneert `True` als een getal even is.\n",
    "- `filter()` behoudt alleen de elementen waarvoor de functie `True` retourneert.\n"
   ]
  },
  {
   "cell_type": "markdown",
   "id": "d782a5d0-5855-4c6d-a895-f77de0df5781",
   "metadata": {},
   "source": [
    "**Voorbeeld 2: `lambda`-functie met `filter()`**\n",
    "\n",
    "Je kunt ook een **lambda-functie** gebruiken om kortere functies te schrijven.\n",
    "\n",
    "```python\n",
    "# Een lijst van getallen\n",
    "numbers = [1, 2, 3, 4, 5, 6]\n",
    "\n",
    "# Gebruik filter om oneven getallen te behouden\n",
    "odd_numbers = filter(lambda x: x % 2 != 0, numbers)\n",
    "\n",
    "print(list(odd_numbers))\n",
    "```\n",
    "\n",
    "**Output:**\n",
    "```\n",
    "[1, 3, 5]\n",
    "```\n",
    "\n",
    "**Uitleg:**\n",
    "- De `lambda`-functie retourneert `True` als een getal oneven is.\n",
    "- `filter()` behoudt alleen de oneven getallen."
   ]
  },
  {
   "cell_type": "markdown",
   "id": "780dba90-49f1-46ab-b9ea-0ae19eda802e",
   "metadata": {},
   "source": [
    "**Voorbeeld 3: Strings filteren op lengte**\n",
    "\n",
    "Je kunt `filter()` ook gebruiken om strings te filteren op basis van een bepaalde conditie.\n",
    "\n",
    "```python\n",
    "# Lijst van woorden\n",
    "words = [\"python\", \"is\", \"fantastisch\", \"en\", \"leuk\"]\n",
    "\n",
    "# Filter woorden die langer zijn dan 3 letters\n",
    "long_words = filter(lambda x: len(x) > 3, words)\n",
    "\n",
    "print(list(long_words))\n",
    "```\n",
    "\n",
    "**Output:**\n",
    "```\n",
    "['python', 'fantastisch']\n",
    "```\n",
    "\n",
    "**Uitleg:**\n",
    "- De `lambda`-functie controleert of de lengte van een woord groter is dan 3.\n",
    "- `filter()` behoudt alleen die woorden."
   ]
  },
  {
   "cell_type": "markdown",
   "id": "f44c8504-b92f-464e-84ed-2025c2eea95f",
   "metadata": {},
   "source": [
    "**filter() vs list comprehension**\n",
    "\n",
    "Net als bij `map()` kan `filter()` vaak worden vervangen door een **list comprehension**, wat vaak leesbaarder is.\n",
    "\n",
    "**Met `filter()`**:\n",
    "```python\n",
    "numbers = [1, 2, 3, 4, 5, 6]\n",
    "even_numbers = list(filter(lambda x: x % 2 == 0, numbers))\n",
    "print(even_numbers)\n",
    "```\n",
    "\n",
    "**Met list comprehension**:\n",
    "```python\n",
    "numbers = [1, 2, 3, 4, 5, 6]\n",
    "even_numbers = [x for x in numbers if x % 2 == 0]\n",
    "print(even_numbers)\n",
    "```\n",
    "\n",
    "**Output (beide):**\n",
    "```\n",
    "[2, 4, 6]\n",
    "```"
   ]
  },
  {
   "cell_type": "markdown",
   "id": "1ce38e91-ec17-4cdf-973c-bd20bd20d0f3",
   "metadata": {},
   "source": [
    "### Conclusie\n",
    "\n",
    "De `filter()`-functie is handig wanneer je elementen uit een iterabele wilt selecteren op basis van een bepaalde conditie. Hoewel `filter()` krachtig is, wordt in moderne Python-code vaak de voorkeur gegeven aan **list comprehensions** vanwege hun leesbaarheid en eenvoud."
   ]
  },
  {
   "cell_type": "markdown",
   "id": "d30ea5b4-1821-4fca-b2b1-a4501430f2cd",
   "metadata": {},
   "source": [
    "## 3. De `reduce()`-functie in Python\n",
    "\n",
    "De **`reduce()`**-functie in Python is een krachtige functie uit de `functools`-module die wordt gebruikt om **iterabele objecten** (zoals lijsten of tuples) te reduceren tot één enkele waarde. Dit gebeurt door een cumulatieve functie herhaaldelijk toe te passen op elementen in de iterabele."
   ]
  },
  {
   "cell_type": "markdown",
   "id": "4c514e9d-87bf-41dd-a04d-7b1471c5303e",
   "metadata": {},
   "source": [
    "### Syntax van `reduce()`\n",
    "\n",
    "```python\n",
    "from functools import reduce\n",
    "\n",
    "reduce(function, iterable, initializer=None)\n",
    "```\n",
    "\n",
    "- **`function`**: Een functie die twee argumenten accepteert en een resultaat teruggeeft.\n",
    "- **`iterable`**: De collectie van elementen die moet worden gereduceerd.\n",
    "- **`initializer`** (optioneel): Een startwaarde. Als deze is opgegeven, wordt deze als eerste argument gebruikt in plaats van het eerste element van de iterabele.\n",
    "\n",
    "De functie wordt **cumulatief toegepast** van links naar rechts op de elementen van de iterabele."
   ]
  },
  {
   "cell_type": "markdown",
   "id": "db4fe058-10c7-4c15-ae95-09fc4c4861b1",
   "metadata": {},
   "source": [
    "## Hoe werkt `reduce()`?\n",
    "\n",
    "1. De eerste twee elementen van de iterabele worden als input gebruikt voor de opgegeven functie.\n",
    "2. Het resultaat van stap 1 wordt gecombineerd met het volgende element van de iterabele.\n",
    "3. Dit proces herhaalt zich totdat alle elementen verwerkt zijn.\n",
    "4. Het eindresultaat is **één enkele waarde**."
   ]
  },
  {
   "cell_type": "markdown",
   "id": "efad5b24-a4d1-4c75-a69d-9401fdf0a168",
   "metadata": {},
   "source": [
    "**Voorbeeld: Optellen van een lijst getallen**\n",
    "\n",
    "```python\n",
    "from functools import reduce\n",
    "\n",
    "# Functie om twee getallen op te tellen\n",
    "def add(x, y):\n",
    "    return x + y\n",
    "\n",
    "# Een lijst met getallen\n",
    "numbers = [1, 2, 3, 4, 5]\n",
    "\n",
    "# Reduce toepassen\n",
    "result = reduce(add, numbers)\n",
    "\n",
    "print(result)  # Output: 15\n",
    "```\n",
    "\n",
    "**Uitleg**:\n",
    "- De functie `add` neemt telkens twee waarden:\n",
    "  1. `1` en `2` → geeft `3`\n",
    "  2. `3` en `3` → geeft `6`\n",
    "  3. `6` en `4` → geeft `10`\n",
    "  4. `10` en `5` → geeft `15`\n",
    "\n",
    "Het eindresultaat is `15`."
   ]
  },
  {
   "cell_type": "markdown",
   "id": "873d051a-648c-4f57-965c-80787def1208",
   "metadata": {},
   "source": [
    "**Gebruik van een `lambda`-functie**\n",
    "\n",
    "Je kunt een **`lambda`-functie** gebruiken in plaats van een aparte functiedefinitie:\n",
    "\n",
    "```python\n",
    "from functools import reduce\n",
    "\n",
    "numbers = [1, 2, 3, 4, 5]\n",
    "\n",
    "result = reduce(lambda x, y: x + y, numbers)\n",
    "\n",
    "print(result)  # Output: 15\n",
    "```\n",
    "\n",
    "Dit is korter en leesbaarder wanneer de functie eenvoudig is."
   ]
  },
  {
   "cell_type": "markdown",
   "id": "b74b16b1-6f62-4661-aa4d-f859539b4777",
   "metadata": {},
   "source": [
    "**Gebruik van de `initializer`**\n",
    "\n",
    "De `initializer` wordt gebruikt als beginwaarde en beïnvloedt het resultaat:\n",
    "\n",
    "```python\n",
    "from functools import reduce\n",
    "\n",
    "numbers = [1, 2, 3, 4, 5]\n",
    "\n",
    "# Gebruik van een initializer\n",
    "result = reduce(lambda x, y: x + y, numbers, 10)\n",
    "\n",
    "print(result)  # Output: 25\n",
    "```\n",
    "\n",
    "*Uitleg*:\n",
    "- De `initializer` is `10`. Dit wordt gecombineerd met het eerste element `1`.\n",
    "- `10 + 1 = 11`, `11 + 2 = 13`, enzovoort.\n",
    "- Het eindresultaat is `25`."
   ]
  },
  {
   "cell_type": "markdown",
   "id": "d5996504-55d7-4904-90b3-a1a2bf3e6b29",
   "metadata": {},
   "source": [
    "### Voorbeelden van `reduce()`\n",
    "\n",
    "**a. Bereken het product van alle elementen in een lijst**\n",
    "\n",
    "```python\n",
    "from functools import reduce\n",
    "\n",
    "numbers = [1, 2, 3, 4, 5]\n",
    "\n",
    "product = reduce(lambda x, y: x * y, numbers)\n",
    "\n",
    "print(product)  # Output: 120\n",
    "```"
   ]
  },
  {
   "cell_type": "markdown",
   "id": "b802cf07-da00-471a-a108-a4e7e4d8e900",
   "metadata": {},
   "source": [
    "**b. Vind het maximum in een lijst**\n",
    "\n",
    "```python\n",
    "from functools import reduce\n",
    "\n",
    "numbers = [3, 5, 2, 8, 1]\n",
    "\n",
    "maximum = reduce(lambda x, y: x if x > y else y, numbers)\n",
    "\n",
    "print(maximum)  # Output: 8\n",
    "```"
   ]
  },
  {
   "cell_type": "markdown",
   "id": "96fabc5e-9828-4265-a686-d3774ad03712",
   "metadata": {},
   "source": [
    "**c. Combineer strings uit een lijst**\n",
    "\n",
    "```python\n",
    "from functools import reduce\n",
    "\n",
    "words = [\"Python\", \"is\", \"fun\"]\n",
    "\n",
    "sentence = reduce(lambda x, y: x + \" \" + y, words)\n",
    "\n",
    "print(sentence)  # Output: \"Python is fun\"\n",
    "```"
   ]
  },
  {
   "cell_type": "markdown",
   "id": "5ec64cef-8c62-41f7-b2a4-0821bf895a27",
   "metadata": {},
   "source": [
    "## Waar is `reduce()` handig?\n",
    "\n",
    "De **`reduce()`**-functie is handig in situaties waarbij je **alle elementen van een iterabele** wilt combineren tot één enkele waarde. Typische toepassingen zijn:\n",
    "\n",
    "1. **Samenvatten van data**:\n",
    "   - Optellen van getallen.\n",
    "   - Vermenigvuldigen van waarden.\n",
    "   - Bepalen van het maximum of minimum.\n",
    "\n",
    "2. **Stringverwerking**:\n",
    "   - Concatenatie van strings of woorden.\n",
    "   - Reduceren van tekstreeksen tot een enkele zin.\n",
    "\n",
    "3. **Cumulatieve berekeningen**:\n",
    "   - Factoriële berekening.\n",
    "   - Berekeningen met combinaties van elementen."
   ]
  },
  {
   "cell_type": "markdown",
   "id": "c81667ec-3dfd-49b2-a648-a14e0a75ea54",
   "metadata": {},
   "source": [
    "## Wanneer gebruik je `reduce()`?\n",
    "\n",
    "Gebruik `reduce()` **wanneer**:\n",
    "- Je de elementen in een iterabele wilt reduceren tot één enkele waarde.\n",
    "- Je niet zomaar een andere Python-functionaliteit zoals **`sum()`**, **`max()`**, of **`join()`** kunt toepassen.\n",
    "- Je behoefte hebt aan een **generieke cumulatieve functie**.\n",
    "\n",
    "**Let op**:\n",
    "- Voor eenvoudige taken zoals optellen kun je beter **`sum()`** gebruiken.\n",
    "- Voor leesbaarheid is het soms duidelijker om een **for-loop** te gebruiken in plaats van `reduce()`."
   ]
  },
  {
   "cell_type": "markdown",
   "id": "91ea0791-82fc-487a-ae40-ab5500fe505c",
   "metadata": {},
   "source": [
    "## Vergelijking van `reduce()` met een for-loop\n",
    "\n",
    "Hier is een vergelijking tussen `reduce()` en een for-loop voor het berekenen van de som van een lijst:\n",
    "\n",
    "**Met `reduce()`**:\n",
    "```python\n",
    "from functools import reduce\n",
    "\n",
    "numbers = [1, 2, 3, 4, 5]\n",
    "result = reduce(lambda x, y: x + y, numbers)\n",
    "\n",
    "print(result)  # Output: 15\n",
    "```\n",
    "\n",
    "**Met een for-loop**:\n",
    "```python\n",
    "numbers = [1, 2, 3, 4, 5]\n",
    "\n",
    "total = 0\n",
    "for num in numbers:\n",
    "    total += num\n",
    "\n",
    "print(total)  # Output: 15\n",
    "```\n",
    "\n",
    "Hoewel `reduce()` compacter is, is de for-loop vaak beter leesbaar, vooral voor minder ervaren Python-programmeurs."
   ]
  },
  {
   "cell_type": "markdown",
   "id": "686ea842-e954-4781-8c89-ba89a11bd400",
   "metadata": {},
   "source": [
    "## Conclusie inzake `reduce()`\n",
    "\n",
    "De **`reduce()`-functie** is een krachtig hulpmiddel voor cumulatieve berekeningen, maar het wordt tegenwoordig minder vaak gebruikt door de beschikbaarheid van alternatieven zoals `sum()`, `max()`, en comprehensions.\n",
    "\n",
    "**Gebruik reduce**:\n",
    "- Bij complexe berekeningen waarbij je geen standaard Python-functie kunt toepassen.\n",
    "- Wanneer je een **functionele programmeerstijl** verkiest.\n",
    "\n",
    "Voor eenvoudige taken is het beter om expliciete Python-functies of for-loops te gebruiken, omdat die vaak leesbaarder zijn."
   ]
  }
 ],
 "metadata": {
  "kernelspec": {
   "display_name": "Python 3 (ipykernel)",
   "language": "python",
   "name": "python3"
  },
  "language_info": {
   "codemirror_mode": {
    "name": "ipython",
    "version": 3
   },
   "file_extension": ".py",
   "mimetype": "text/x-python",
   "name": "python",
   "nbconvert_exporter": "python",
   "pygments_lexer": "ipython3",
   "version": "3.12.7"
  }
 },
 "nbformat": 4,
 "nbformat_minor": 5
}
