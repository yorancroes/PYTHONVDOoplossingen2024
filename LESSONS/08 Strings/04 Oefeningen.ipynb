{
 "cells": [
  {
   "cell_type": "markdown",
   "id": "36fff03b-0b24-4d05-941a-7c5f15d826dc",
   "metadata": {},
   "source": [
    "![alt text](../../pythonexposed-high-resolution-logo-black.jpg \"Optionele titel\")"
   ]
  },
  {
   "cell_type": "markdown",
   "id": "b32a09ec",
   "metadata": {},
   "source": [
    "### Oefeningen"
   ]
  },
  {
   "cell_type": "markdown",
   "id": "89d7fa38",
   "metadata": {},
   "source": [
    "#### Vraag 1"
   ]
  },
  {
   "cell_type": "markdown",
   "id": "f4226de7",
   "metadata": {},
   "source": [
    "Gegeven deze string van door komma's gescheiden karakters:  \n",
    "\n",
    "- s = 'Π, ύ, θ, ω, ν'\n",
    "\n",
    "maak drie nieuwe variabelen aan die de unicode-codepunten (in hexadecimaal), de hoofdletter en de kleine letterversies van elk karakter bevatten (ook door komma's gescheiden).\n",
    "Bijvoorbeeld, als de string `'a, b, c'` was dan genereer je de volgende drie lijsten:\n",
    "* `['0x61', '0x62', '0x63']`\n",
    "* `['a', 'b', 'c']`\n",
    "* `['A', 'B', 'C']`\n",
    "\n",
    "[Je zal onder meer de`split()` en `strip()` functies moeten gebruiken...]"
   ]
  },
  {
   "cell_type": "code",
   "execution_count": 7,
   "id": "05490050-7c8e-439f-851e-116870adf0a1",
   "metadata": {},
   "outputs": [],
   "source": [
    "# oplossing\n"
   ]
  },
  {
   "cell_type": "markdown",
   "id": "94e45cbc",
   "metadata": {},
   "source": [
    "#### Vraag 2"
   ]
  },
  {
   "cell_type": "markdown",
   "id": "a0554e52",
   "metadata": {},
   "source": [
    "Gebruikmakend van twee soorten stringinterpolatie, en gegeven de variabele `a` die een integer bevat, druk de volgende string af voor `a`:\n",
    "`Het getal ... is even (of oneven)`\n",
    "\n",
    "Bijvoorbeeld voor `a` gelijk aan '20' druk je af: `Het getal 20 is even`\n",
    "\n",
    "Je krijgt twee variabelen `a` en `b` (met `b` niet gelijk aan nul), en je moet een string genereren als volgt:\n",
    "```\n",
    "'a / b = (result)'\n",
    "```"
   ]
  },
  {
   "cell_type": "code",
   "execution_count": 8,
   "id": "288e260d-c0fa-441d-9555-cea19e02a16e",
   "metadata": {},
   "outputs": [],
   "source": [
    "# Oplossing\n"
   ]
  },
  {
   "cell_type": "markdown",
   "id": "ab2c955f",
   "metadata": {},
   "source": [
    "#### Vraag 3"
   ]
  },
  {
   "cell_type": "markdown",
   "id": "76378ec5",
   "metadata": {},
   "source": [
    "Je wilt dat je string mooi wordt opgemaakt voor weergavedoeleinden, dus je wilt het tonen van mogelijke cijfers na de komma beperken in al je waarden tot 4 cijfers."
   ]
  },
  {
   "cell_type": "code",
   "execution_count": 10,
   "id": "6a2b74cc-76fc-4f77-a38d-18dc7daecaeb",
   "metadata": {},
   "outputs": [],
   "source": [
    "# Oplossing\n"
   ]
  },
  {
   "cell_type": "markdown",
   "id": "a6dca92e-419c-4fad-adc2-e98ceacaf792",
   "metadata": {
    "tags": []
   },
   "source": [
    "#### Vraag 4"
   ]
  },
  {
   "cell_type": "markdown",
   "id": "1fd1897a-7309-4ba1-997a-fcf50b8a5d6c",
   "metadata": {},
   "source": [
    "Tel hoeveel er van iedere klinker (a, e, i, o, u) staan in een tekst string,en druk die teller af voor iedere klinker met een enkele geformatteerde string. Bedenk dat klinkers zowel hoofd- als kleine letters kunnen zijn.\""
   ]
  },
  {
   "cell_type": "code",
   "execution_count": 11,
   "id": "e60b3e72-9c16-4edb-b7c4-4416887f07bc",
   "metadata": {
    "tags": []
   },
   "outputs": [],
   "source": [
    "# Oplossing\n"
   ]
  },
  {
   "cell_type": "markdown",
   "id": "d3b84b19-8aef-4528-ac56-f1a4ffd90423",
   "metadata": {
    "tags": []
   },
   "source": [
    "#### Vraag 5"
   ]
  },
  {
   "cell_type": "markdown",
   "id": "b8e35e9b-e4e7-46e4-8b20-b99752d44d68",
   "metadata": {
    "tags": []
   },
   "source": [
    "Hieronder staat een tekst met een aantal tekens tussen vierkante haken.\n",
    "Doorloop de tekst en druk alle tekens af die tussen vierkante haken staan."
   ]
  },
  {
   "cell_type": "code",
   "execution_count": 1,
   "id": "8050273b-c82e-4eeb-8bf3-2c718585d4ce",
   "metadata": {},
   "outputs": [],
   "source": [
    "tekst = \"\"\" En ze stu[re]n [i] ngekleurde prentbriefkaarten van\n",
    "plekken waarvan ze zich niet reali [s]eren dat ze er nooit\n",
    "geweest zijn [a]an ' Iedereen op nummer 22, weer is prachti [g],\n",
    "onz[e] kamer is aa[n] gekruisd . Missen jullie . E[t]en[ ]i[s]\n",
    "vettig , maar we hebben een geweldig leuk restaurantje gevonden\n",
    "in de achterstraatjes waar ze Heine [ke]n hebben en kaas en\n",
    "uien chips en iemand die \"Een beetje verliefd \" speel [t] op een\n",
    "a[c] cordeon ' en je zit vier dagen vast op Schip [h]ol voor je\n",
    "vijfdaagse vliegvakantie met niks anders te eten dan\n",
    "uitgedroogde voorverpakte boterhammen ... \"\"\""
   ]
  },
  {
   "cell_type": "code",
   "execution_count": 12,
   "id": "1ae79dcc-c575-4168-a883-e8518f805c4d",
   "metadata": {
    "tags": []
   },
   "outputs": [],
   "source": [
    "# Oplossing\n"
   ]
  },
  {
   "cell_type": "markdown",
   "id": "e1ab8d18-a873-4d86-b7bd-043961f74fb5",
   "metadata": {},
   "source": [
    "#### Vraag 6"
   ]
  },
  {
   "cell_type": "markdown",
   "id": "6bf2da13-e2a4-4c87-932b-79e2ada6c3eb",
   "metadata": {},
   "source": [
    "Druk een regel af met alle hoofdletters \"A\" tot en met \"Z\". Druk eronder\n",
    "een regel af die of 13 letters afstand in het alfabet liggen ten opzichte van de letters erboven.\n",
    "Bijvoorbeeld, onder de \"A\" druk je de \"N\" af, onder de \"B\" druk je de \"O\" af, etcetera.\n",
    "Beschouw het alfabet als circulair, dat wil zeggen, na de \"Z\", gaat het weer terug naar de\n",
    "\"A\". Dit kan natuurlijk met twee print-commando’s, maar probeer het te doen met loops\n",
    "en gebruik te maken van ord() en chr()."
   ]
  },
  {
   "cell_type": "code",
   "execution_count": 13,
   "id": "0ce661df-4a9b-40b8-976b-05e7ead98c10",
   "metadata": {
    "tags": []
   },
   "outputs": [],
   "source": [
    "# Oplossing\n"
   ]
  }
 ],
 "metadata": {
  "kernelspec": {
   "display_name": "Python 3 (ipykernel)",
   "language": "python",
   "name": "python3"
  },
  "language_info": {
   "codemirror_mode": {
    "name": "ipython",
    "version": 3
   },
   "file_extension": ".py",
   "mimetype": "text/x-python",
   "name": "python",
   "nbconvert_exporter": "python",
   "pygments_lexer": "ipython3",
   "version": "3.11.6"
  }
 },
 "nbformat": 4,
 "nbformat_minor": 5
}
