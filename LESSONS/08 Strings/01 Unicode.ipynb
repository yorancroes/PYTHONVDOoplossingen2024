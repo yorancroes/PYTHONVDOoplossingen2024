{
 "cells": [
  {
   "cell_type": "markdown",
   "metadata": {},
   "source": [
    "![alt text](../../pythonexposed-high-resolution-logo-black.jpg \"Optionele titel\")"
   ]
  },
  {
   "cell_type": "markdown",
   "metadata": {},
   "source": [
    "### Unicode"
   ]
  },
  {
   "cell_type": "markdown",
   "metadata": {},
   "source": [
    "Hier zijn de verschillende links die ik gebruik:\n",
    "- [`A`] https://www.compart.com/en/unicode/U+0041\n",
    "- [`α`] https://www.compart.com/en/unicode/U+03B1\n",
    "- [🐍] https://www.compart.com/en/unicode/U+1F40D\n"
   ]
  },
  {
   "cell_type": "markdown",
   "metadata": {},
   "source": [
    "We kunnen het (unicode) id van elk karakter krijgen, met behulp van de `ord()` functie:"
   ]
  },
  {
   "cell_type": "code",
   "execution_count": 1,
   "metadata": {
    "tags": []
   },
   "outputs": [
    {
     "data": {
      "text/plain": [
       "65"
      ]
     },
     "execution_count": 1,
     "metadata": {},
     "output_type": "execute_result"
    }
   ],
   "source": [
    "ord('A')"
   ]
  },
  {
   "cell_type": "code",
   "execution_count": 2,
   "metadata": {
    "tags": []
   },
   "outputs": [
    {
     "data": {
      "text/plain": [
       "945"
      ]
     },
     "execution_count": 2,
     "metadata": {},
     "output_type": "execute_result"
    }
   ],
   "source": [
    "ord('α')"
   ]
  },
  {
   "cell_type": "code",
   "execution_count": 4,
   "metadata": {
    "tags": []
   },
   "outputs": [
    {
     "data": {
      "text/plain": [
       "128013"
      ]
     },
     "execution_count": 4,
     "metadata": {},
     "output_type": "execute_result"
    }
   ],
   "source": [
    "ord('🐍')"
   ]
  },
  {
   "cell_type": "markdown",
   "metadata": {},
   "source": [
    "De `ord()`-functie retourneert het codepunt in decimaal, maar zoals we zagen gebruiken de meeste Unicode-tabellen hexadecimaal - een veelgebruikte basis in de informatica (samen met binair, en natuurlijk, decimaal). Octaal (basis 8) wordt soms ook gebruikt, maar is minder gebruikelijk."
   ]
  },
  {
   "cell_type": "markdown",
   "metadata": {},
   "source": [
    "Om een decimaal getal om te zetten naar de overeenkomstige hexadecimale **representatie**, kunnen we de `hex()` functie gebruiken:"
   ]
  },
  {
   "cell_type": "code",
   "execution_count": 4,
   "metadata": {},
   "outputs": [
    {
     "data": {
      "text/plain": [
       "'0x41'"
      ]
     },
     "execution_count": 4,
     "metadata": {},
     "output_type": "execute_result"
    }
   ],
   "source": [
    "hex(ord('A'))"
   ]
  },
  {
   "cell_type": "code",
   "execution_count": 5,
   "metadata": {},
   "outputs": [
    {
     "data": {
      "text/plain": [
       "'0x3b1'"
      ]
     },
     "execution_count": 5,
     "metadata": {},
     "output_type": "execute_result"
    }
   ],
   "source": [
    "hex(ord('α'))"
   ]
  },
  {
   "cell_type": "code",
   "execution_count": 6,
   "metadata": {},
   "outputs": [
    {
     "data": {
      "text/plain": [
       "'0x1f40d'"
      ]
     },
     "execution_count": 6,
     "metadata": {},
     "output_type": "execute_result"
    }
   ],
   "source": [
    "hex(ord('🐍'))"
   ]
  },
  {
   "cell_type": "markdown",
   "metadata": {},
   "source": [
    "Als je een hexadecimaal nummer naar decimaal wilt converteren, kun je dat doen met behulp van de `int()` functie:"
   ]
  },
  {
   "cell_type": "code",
   "execution_count": 5,
   "metadata": {
    "tags": []
   },
   "outputs": [
    {
     "data": {
      "text/plain": [
       "945"
      ]
     },
     "execution_count": 5,
     "metadata": {},
     "output_type": "execute_result"
    }
   ],
   "source": [
    "int('3B1', 16)"
   ]
  },
  {
   "cell_type": "markdown",
   "metadata": {},
   "source": [
    "Zolang je editor het aankan, kun je altijd een symbool in een string plakken, zoals we hierboven hebben gezien, en zelfs, in veel gevallen, als een variabelenaam."
   ]
  },
  {
   "cell_type": "code",
   "execution_count": 6,
   "metadata": {
    "tags": []
   },
   "outputs": [],
   "source": [
    "α = 'alpha'"
   ]
  },
  {
   "cell_type": "code",
   "execution_count": 7,
   "metadata": {
    "tags": []
   },
   "outputs": [
    {
     "name": "stdout",
     "output_type": "stream",
     "text": [
      "alpha\n"
     ]
    }
   ],
   "source": [
    "print(α)"
   ]
  },
  {
   "cell_type": "raw",
   "metadata": {},
   "source": [
    "Niet alle tekens werken voor identificatie - ze moeten op letters of nummers lijken. Daarom kun je 🐍 niet als variabelenaam gebruiken - het valt in de categorie \"Overig symbool\" in Unicode."
   ]
  },
  {
   "cell_type": "markdown",
   "metadata": {},
   "source": [
    "Tot nu toe hebben we gezien dat we een karakter kunnen specificeren door het eenvoudigweg in onze editor te plakken (onder de voorwaarde dat de editor dit ondersteunt, en onder de voorwaarde dat je een lettertype hebt dat het karakter kan weergeven)."
   ]
  },
  {
   "cell_type": "code",
   "execution_count": 10,
   "metadata": {},
   "outputs": [],
   "source": [
    "var = \"A\""
   ]
  },
  {
   "cell_type": "markdown",
   "metadata": {},
   "source": [
    "Maar we kunnen ook de unicodenaam gebruiken om het te definiëren, met behulp van een escape-sequentie."
   ]
  },
  {
   "cell_type": "markdown",
   "metadata": {},
   "source": [
    "Bijvoorbeeld, als we kijken naar het Unicode-teken `A`, zien we dat:\n",
    "- name: Latin Capital Letter A\n",
    "- code: U+0041"
   ]
  },
  {
   "cell_type": "markdown",
   "metadata": {},
   "source": [
    "Om de naam te gebruiken, gebruiken we een `\\N{...}` escape-reeks:"
   ]
  },
  {
   "cell_type": "code",
   "execution_count": 11,
   "metadata": {},
   "outputs": [],
   "source": [
    "var = \"\\N{Latin Capital Letter A}lways look on the bright side of life.\""
   ]
  },
  {
   "cell_type": "code",
   "execution_count": 12,
   "metadata": {},
   "outputs": [
    {
     "data": {
      "text/plain": [
       "'Always look on the bright side of life.'"
      ]
     },
     "execution_count": 12,
     "metadata": {},
     "output_type": "execute_result"
    }
   ],
   "source": [
    "var"
   ]
  },
  {
   "cell_type": "markdown",
   "metadata": {},
   "source": [
    "We kunnen ook de numerieke code gebruiken - in dit geval hebben we minder dan vier cijfers in de code, dus gebruiken we een `\\uxxxx` escape-reeks:"
   ]
  },
  {
   "cell_type": "code",
   "execution_count": 13,
   "metadata": {},
   "outputs": [],
   "source": [
    "var = \"\\u0041lways look on the bright side of life\""
   ]
  },
  {
   "cell_type": "code",
   "execution_count": 14,
   "metadata": {},
   "outputs": [
    {
     "data": {
      "text/plain": [
       "'Always look on the bright side of life'"
      ]
     },
     "execution_count": 14,
     "metadata": {},
     "output_type": "execute_result"
    }
   ],
   "source": [
    "var"
   ]
  },
  {
   "cell_type": "markdown",
   "metadata": {},
   "source": [
    "Laten we nog een karakter bekijken - we zullen zoeken naar \"grin\" op deze website: https://www.compart.com/en/unicode"
   ]
  },
  {
   "cell_type": "markdown",
   "metadata": {},
   "source": [
    "Het zoekresultaat leidt ons naar deze pagina: https://www.compart.com/en/unicode/U+1F600"
   ]
  },
  {
   "cell_type": "markdown",
   "metadata": {},
   "source": [
    "Daar zien we dat het personage is:- glyph: 😀\n",
    "- name: Grinning Face\n",
    "- code: U+1F600"
   ]
  },
  {
   "cell_type": "code",
   "execution_count": 15,
   "metadata": {},
   "outputs": [
    {
     "data": {
      "text/plain": [
       "'😀'"
      ]
     },
     "execution_count": 15,
     "metadata": {},
     "output_type": "execute_result"
    }
   ],
   "source": [
    "var = '😀'\n",
    "var"
   ]
  },
  {
   "cell_type": "code",
   "execution_count": 16,
   "metadata": {},
   "outputs": [
    {
     "data": {
      "text/plain": [
       "'😀'"
      ]
     },
     "execution_count": 16,
     "metadata": {},
     "output_type": "execute_result"
    }
   ],
   "source": [
    "var = \"\\N{Grinning Face}\"\n",
    "var"
   ]
  },
  {
   "cell_type": "markdown",
   "metadata": {},
   "source": [
    "De tekencode bestaat uit 5 cijfers, dus meer dan 4, en we moeten daarom de code ontsnappen met `\\Uxxxxxxxx` - een 8-cijferige code (indien nodig aangevuld met nullen aan de rechterkant) - in dit geval `0001F600`:"
   ]
  },
  {
   "cell_type": "code",
   "execution_count": 3,
   "metadata": {},
   "outputs": [
    {
     "data": {
      "text/plain": [
       "'😀'"
      ]
     },
     "execution_count": 3,
     "metadata": {},
     "output_type": "execute_result"
    }
   ],
   "source": [
    "var = \"\\U0001F600\"\n",
    "var"
   ]
  },
  {
   "cell_type": "markdown",
   "metadata": {},
   "source": [
    "(Merk het verschil in hoofdlettergebruik op tussen `\\uxxxx` en `\\Uxxxxxxxx` voor 4 versus 8 cijferige codes)"
   ]
  }
 ],
 "metadata": {
  "kernelspec": {
   "display_name": "Python 3 (ipykernel)",
   "language": "python",
   "name": "python3"
  },
  "language_info": {
   "codemirror_mode": {
    "name": "ipython",
    "version": 3
   },
   "file_extension": ".py",
   "mimetype": "text/x-python",
   "name": "python",
   "nbconvert_exporter": "python",
   "pygments_lexer": "ipython3",
   "version": "3.11.6"
  }
 },
 "nbformat": 4,
 "nbformat_minor": 4
}
