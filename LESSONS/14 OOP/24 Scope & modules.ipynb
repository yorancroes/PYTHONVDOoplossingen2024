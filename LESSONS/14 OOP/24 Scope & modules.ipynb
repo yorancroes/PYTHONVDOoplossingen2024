{
 "cells": [
  {
   "cell_type": "markdown",
   "id": "1fd7dc7c-36a5-4dd6-b91e-df5ec1145f4c",
   "metadata": {
    "slideshow": {
     "slide_type": "slide"
    }
   },
   "source": [
    "![alt text](../../pythonexposed-high-resolution-logo-black.jpg \"Optionele titel\")"
   ]
  },
  {
   "cell_type": "markdown",
   "id": "5075349e-d33d-4395-815c-7584e9c24691",
   "metadata": {
    "slideshow": {
     "slide_type": "slide"
    }
   },
   "source": [
    "### Basis Importeren\n",
    "\n",
    "#### Wat zijn modules?\n",
    "Modules zijn uitbreidingen van Python die extra functionaliteiten bieden. Je kunt ze importeren uit de standaardbibliotheek of installeren van derden.\n",
    "\n",
    "**Importeren van modules:**\n",
    "```python\n",
    "import math\n",
    "```\n",
    "\n",
    "Nu is `math` een object dat toegang geeft tot wiskundige functies."
   ]
  },
  {
   "cell_type": "markdown",
   "id": "6b2b5d50-968b-4bd9-8b07-cc23356c661d",
   "metadata": {
    "slideshow": {
     "slide_type": "slide"
    }
   },
   "source": [
    "#### Voorbeelden van wiskundige functies\n",
    "1. Factorial berekenen:\n",
    "   ```python\n",
    "   math.factorial(5)\n",
    "   ```\n",
    "   \n",
    "\n",
    "2. Pi-waarde gebruiken:\n",
    "   ```python\n",
    "   math.pi  # 3.14159...\n",
    "   ```\n",
    "   \n",
    "\n",
    "3. Wortels berekenen:\n",
    "   ```python\n",
    "   math.sqrt(16)  # Geeft 4 terug\n",
    "   ```\n",
    "\n",
    "Meer functies? Raadpleeg de [officiële documentatie](https://docs.python.org/3/library/math.html)."
   ]
  },
  {
   "cell_type": "markdown",
   "id": "560810d6-e91d-499e-b9c9-a19e6c822b90",
   "metadata": {
    "slideshow": {
     "slide_type": "slide"
    }
   },
   "source": [
    "#### Waarom modules gebruiken?\n",
    "- Toegang tot herbruikbare functies zoals `math.sqrt`.\n",
    "- Vermijd duplicatie van code.\n",
    "- Vereenvoudig complexiteit door functies te groeperen."
   ]
  },
  {
   "cell_type": "markdown",
   "id": "c28b927d-083d-44fe-a53a-88d48ceacd86",
   "metadata": {
    "slideshow": {
     "slide_type": "slide"
    }
   },
   "source": [
    "#### Aliassen gebruiken\n",
    "Je kunt een alias maken om module-namen korter te maken:\n",
    "```python\n",
    "import math as m\n",
    "m.sqrt(25)  # Werkt hetzelfde als math.sqrt\n",
    "```\n",
    "Gebruik aliassen alleen als ze de leesbaarheid verbeteren.\n"
   ]
  },
  {
   "cell_type": "markdown",
   "id": "85048e1d-57a2-4abe-b805-90235b316f0e",
   "metadata": {
    "slideshow": {
     "slide_type": "slide"
    }
   },
   "source": [
    "#### Andere nuttige modules\n",
    "- **Random** (voor willekeurige getallen):\n",
    "   ```python\n",
    "   import random as rnd\n",
    "   rnd.randint(1, 10)  # Willekeurig getal tussen 1 en 10\n",
    "   ```\n",
    "\n",
    "- **OS** (voor bestandsbeheer):\n",
    "   ```python\n",
    "   import os\n",
    "   os.path.curdir  # Geeft de huidige map terug\n",
    "   ```\n",
    "\n",
    "- **Fractions** (voor breuken):\n",
    "   ```python\n",
    "   from fractions import Fraction\n",
    "   f1 = Fraction(1, 2)\n",
    "   f2 = Fraction(1, 4)\n",
    "   f1 + f2  # Geeft Fraction(3, 4) terug\n",
    "   ```\n",
    "\n",
    "Meer modules ontdekken? Bekijk de [standaardbibliotheek](https://docs.python.org/3/library/)."
   ]
  },
  {
   "cell_type": "markdown",
   "id": "3391b9cb-1663-485a-8611-9f36fa379407",
   "metadata": {
    "slideshow": {
     "slide_type": "slide"
    }
   },
   "source": [
    "### Importvarianten\n",
    "\n",
    "#### Basisvarianten van importeren\n",
    "Er zijn twee veelvoorkomende manieren om modules in Python te importeren:\n",
    "\n",
    "```python\n",
    "import math\n",
    "import random as rnd\n",
    "```\n",
    "\n",
    "Hiermee worden de modules `math` en `random` in het geheugen geladen als objecten, en worden variabelen aangemaakt in onze lokale namespace:\n",
    "\n",
    "```python\n",
    "math\n",
    "rnd\n",
    "```\n",
    "Je kunt vervolgens functies en attributen uit deze modules gebruiken met standaard puntnotatie:\n",
    "\n",
    "```python\n",
    "math.sqrt(2)\n",
    "rnd.randint(1, 6)\n",
    "```"
   ]
  },
  {
   "cell_type": "markdown",
   "id": "fb198216-4fdc-4d03-9c97-3dab0adffdd4",
   "metadata": {
    "slideshow": {
     "slide_type": "slide"
    }
   },
   "source": [
    "#### Alleen specifieke attributen importeren\n",
    "Als je slechts een paar functies of attributen uit een module nodig hebt, kun je die direct importeren. Zo vermijd je het steeds gebruiken van puntnotatie:\n",
    "\n",
    "```python\n",
    "from math import sqrt\n",
    "```\n",
    "\n",
    "Hiermee wordt `sqrt` geladen uit de `math`-module en als een zelfstandige variabele in je namespace geplaatst:\n",
    "\n",
    "```python\n",
    "sqrt(2)\n",
    "```\n",
    "\n",
    "Dit is vergelijkbaar met:\n",
    "\n",
    "```python\n",
    "import math\n",
    "sqrt = math.sqrt\n",
    "sqrt(2)\n",
    "```\n",
    "\n",
    "Maar in dit geval wordt alleen `sqrt` aan je namespace° toegevoegd, niet de rest van de `math`-module.  \n",
    "° Een namespace in Python is een container die namen (zoals variabelen, functies, objecten) koppelt aan objecten. Het is als een woordenboek waarin namen (sleutels) worden gekoppeld aan objecten (waarden)."
   ]
  },
  {
   "cell_type": "markdown",
   "id": "75d02dd1-2c5a-4fd1-a9bc-c6bf1d74492e",
   "metadata": {
    "slideshow": {
     "slide_type": "slide"
    }
   },
   "source": [
    "#### Verschil met modules zonder alias\n",
    "Bijvoorbeeld:\n",
    "\n",
    "```python\n",
    "from fractions import Fraction\n",
    "```\n",
    "\n",
    "Hierbij wordt de `fractions`-module geladen, maar alleen het symbool `Fraction` wordt aan je namespace toegevoegd:\n",
    "\n",
    "```python\n",
    "Fraction(1, 2)\n",
    "fractions.Fraction(1, 2)  # Fout, 'fractions' is niet beschikbaar in de namespace\n",
    "```"
   ]
  },
  {
   "cell_type": "markdown",
   "id": "6b88c4fe-4621-420e-a775-3a262bdf64e1",
   "metadata": {
    "slideshow": {
     "slide_type": "slide"
    }
   },
   "source": [
    "#### Combineren van importvarianten\n",
    "Je kunt beide methoden combineren:\n",
    "\n",
    "```python\n",
    "import math\n",
    "from math import sqrt, pi\n",
    "```\n",
    "\n",
    "Dit is handig als je vaak gebruikmaakt van `sqrt` en `pi`, terwijl je de rest van de module af en toe nodig hebt:\n",
    "\n",
    "```python\n",
    "sqrt(2)\n",
    "math.gcd(15, 25)\n",
    "```\n",
    "\n",
    "Als je alleen `sqrt` en `pi` nodig hebt, kun je ervoor kiezen om `import math` helemaal weg te laten:\n",
    "\n",
    "```python\n",
    "from math import sqrt, pi\n",
    "```"
   ]
  },
  {
   "cell_type": "markdown",
   "id": "1ff9a95a-cb73-46d2-a246-47a051cf2557",
   "metadata": {
    "slideshow": {
     "slide_type": "slide"
    }
   },
   "source": [
    "#### De module wordt altijd volledig geladen\n",
    "Ongeacht hoe je importeert, de **hele** module wordt in het geheugen geladen. Het verschil zit hem in welke variabelen aan je namespace worden toegevoegd. Bijvoorbeeld:\n",
    "\n",
    "```python\n",
    "from math import sqrt\n",
    "```\n",
    "\n",
    "Hiermee wordt de hele `math`-module geladen, maar alleen `sqrt` toegevoegd aan je namespace."
   ]
  },
  {
   "cell_type": "markdown",
   "id": "483570cb-972c-46a1-aba3-ace963478f0d",
   "metadata": {
    "slideshow": {
     "slide_type": "slide"
    }
   },
   "source": [
    "### **Inleiding tot Scope in Python**\n",
    "\n",
    "**Wat is scope?**\n",
    "Scope verwijst naar de toegankelijkheid van variabelen binnen verschillende delen van een programma. In Python bepaalt scope waar een variabele kan worden gebruikt en gewijzigd. Scope speelt een belangrijke rol in OOP omdat het bepaalt waar attributen en methoden van een class toegankelijk zijn.\n",
    "\n",
    "Voorbeeld:"
   ]
  },
  {
   "cell_type": "code",
   "execution_count": 7,
   "id": "1cc3c219-c7b4-43e5-88a3-320554482eb7",
   "metadata": {
    "slideshow": {
     "slide_type": "slide"
    }
   },
   "outputs": [
    {
     "name": "stdout",
     "output_type": "stream",
     "text": [
      "Binnen methode: 10 5\n",
      "Buiten methode: 10\n"
     ]
    }
   ],
   "source": [
    "class MyClass:\n",
    "    def __init__(self):\n",
    "        self.x = 10  # Instance scope\n",
    "\n",
    "    def my_method(self):\n",
    "        y = 5  # Lokale variabele\n",
    "        print(\"Binnen methode:\", self.x, y)\n",
    "\n",
    "obj = MyClass()\n",
    "obj.my_method()\n",
    "print(\"Buiten methode:\", obj.x)  # Alleen 'self.x' is toegankelijk hier"
   ]
  },
  {
   "cell_type": "markdown",
   "id": "9beb8ce2-b23d-4c29-8ee1-4c8683e2c47b",
   "metadata": {
    "slideshow": {
     "slide_type": "slide"
    }
   },
   "source": [
    "### **2. LEGB-regel**\n",
    "De LEGB-regel beschrijft hoe Python variabelen zoekt:\n",
    "- **Local**: Binnen de huidige functie.\n",
    "- **Enclosing**: Binnen de omvattende functie (voor nested functions).\n",
    "- **Global**: Variabelen gedefinieerd op het hoogste niveau van een script.\n",
    "- **Built-in**: Python's ingebouwde namen zoals `len()`.\n",
    "\n",
    "In OOP-context zoekt Python naar attributen en methoden binnen de class en vervolgens in de enclosing context.\n",
    "\n",
    "Voorbeeld:"
   ]
  },
  {
   "cell_type": "code",
   "execution_count": 9,
   "id": "63d03964-cdf5-4099-954d-3d1875125052",
   "metadata": {
    "slideshow": {
     "slide_type": "slide"
    }
   },
   "outputs": [
    {
     "name": "stdout",
     "output_type": "stream",
     "text": [
      "Local\n",
      "Enclosing\n"
     ]
    }
   ],
   "source": [
    "class Outer:\n",
    "    x = \"Global\"\n",
    "\n",
    "    class Inner:\n",
    "        x = \"Enclosing\"\n",
    "\n",
    "        def method(self):\n",
    "            x = \"Local\"\n",
    "            print(x)  # 'Local'\n",
    "\n",
    "obj = Outer.Inner()\n",
    "obj.method()\n",
    "print(Outer.Inner.x)  # 'Enclosing'"
   ]
  },
  {
   "cell_type": "markdown",
   "id": "becd0237-971a-4f15-92a7-c6ea2ed70251",
   "metadata": {
    "slideshow": {
     "slide_type": "slide"
    }
   },
   "source": [
    "### **3. Het gebruik van de `global` en `nonlocal` keywords**\n",
    "\n",
    "**`global`**: Hiermee kun je globale variabelen binnen een methode wijzigen. Dit wordt echter vaak vermeden in OOP omdat instance- en class-attributen de voorkeur hebben.\n",
    "```python\n",
    "x = 10\n",
    "\n",
    "class Example:\n",
    "    def update_global(self):\n",
    "        global x\n",
    "        x = 20\n",
    "\n",
    "obj = Example()\n",
    "obj.update_global()\n",
    "print(x)  # 20\n",
    "```"
   ]
  },
  {
   "cell_type": "markdown",
   "id": "3ab34f96-96a3-4365-aa78-a0a196c80e07",
   "metadata": {
    "slideshow": {
     "slide_type": "slide"
    }
   },
   "source": [
    "**`nonlocal`**: Hiermee kun je variabelen wijzigen uit een enclosing scope, bijvoorbeeld in nested methoden of functies."
   ]
  },
  {
   "cell_type": "code",
   "execution_count": 12,
   "id": "5f969c5c-9676-4c39-a4da-7adbb8efa51c",
   "metadata": {
    "slideshow": {
     "slide_type": "slide"
    }
   },
   "outputs": [
    {
     "name": "stdout",
     "output_type": "stream",
     "text": [
      "inner from inner_method\n",
      "inner\n"
     ]
    }
   ],
   "source": [
    "class Example:\n",
    "    def outer_method(self):\n",
    "        x = \"outer\"\n",
    "\n",
    "        def inner_method():\n",
    "            nonlocal x\n",
    "            x = \"inner\"\n",
    "            print(f\"{x} from inner_method\")\n",
    "\n",
    "        inner_method()\n",
    "        print(x)  # 'inner' want nonlocal x!!\n",
    "\n",
    "obj = Example()\n",
    "obj.outer_method()"
   ]
  },
  {
   "cell_type": "markdown",
   "id": "a025104c-0a64-4404-8fb0-33b896e25c60",
   "metadata": {
    "slideshow": {
     "slide_type": "slide"
    }
   },
   "source": [
    "### **4. Modules en Imports**\n",
    "\n",
    "**Basisimports:**\n",
    "In OOP worden classes vaak in aparte modules gedefinieerd en geïmporteerd in andere bestanden.\n",
    "```python\n",
    "# Bestand: mymodule.py\n",
    "\n",
    "class Greeter:\n",
    "    def greet(self, name):\n",
    "        return f\"Hello, {name}!\"\n",
    "\n",
    "# In een ander bestand\n",
    "import mymodule\n",
    "obj = mymodule.Greeter()\n",
    "print(obj.greet(\"Alice\"))\n",
    "```"
   ]
  },
  {
   "cell_type": "markdown",
   "id": "62aea898-7483-4854-9d0b-e3099b9fe025",
   "metadata": {
    "slideshow": {
     "slide_type": "slide"
    }
   },
   "source": [
    "**Verschillende importmethoden:**\n",
    "```python\n",
    "from math import sqrt\n",
    "print(sqrt(16))  # 4.0\n",
    "\n",
    "import math as m\n",
    "print(m.pi)  # 3.14159...\n",
    "```"
   ]
  },
  {
   "cell_type": "markdown",
   "id": "b072ff64-81b4-4ad9-a4b0-72ebc9633036",
   "metadata": {
    "slideshow": {
     "slide_type": "slide"
    }
   },
   "source": [
    "**Let op bij `from module import *`:**\n",
    "Dit kan leiden tot conflicten tussen namen.\n",
    "\n",
    "**Controleerbare imports via `__all__`:**\n",
    "In een module kan de speciale lijst `__all__` worden gebruikt om te definiëren welke namen geëxporteerd worden bij een `from module import *`.\n",
    "```python\n",
    "# Bestand: mymodule.py\n",
    "__all__ = [\"Greeter\"]\n",
    "\n",
    "class Greeter:\n",
    "    def greet(self, name):\n",
    "        return f\"Hello, {name}!\"\n",
    "\n",
    "class Hidden:\n",
    "    def secret(self):\n",
    "        return \"This is hidden\"\n",
    "```"
   ]
  },
  {
   "cell_type": "markdown",
   "id": "09db377d-4a8c-4b79-b0d3-7256b82ad4f9",
   "metadata": {
    "slideshow": {
     "slide_type": "slide"
    }
   },
   "source": [
    "### **5. Classes en functies importeren**\n",
    "\n",
    "Specifieke imports zijn handig voor leesbaarheid en vermijden onnodige overhead. Dit is essentieel bij het gebruik van OOP-structuren.\n",
    "\n",
    "Voorbeeld:\n",
    "```python\n",
    "# Bestand: shapes.py\n",
    "class Circle:\n",
    "    def __init__(self, radius):\n",
    "        self.radius = radius\n",
    "\n",
    "    def area(self):\n",
    "        return 3.14 * self.radius ** 2\n",
    "\n",
    "# In een ander bestand\n",
    "from shapes import Circle\n",
    "circle = Circle(5)\n",
    "print(circle.area())  # 78.5\n",
    "```"
   ]
  },
  {
   "cell_type": "markdown",
   "id": "eb45be22-ac3d-45d7-ac30-fb52c3b6d657",
   "metadata": {
    "slideshow": {
     "slide_type": "slide"
    }
   },
   "source": [
    "### **6. Het maken en gebruiken van eigen modules**\n",
    "\n",
    "In OOP-architecturen worden classes vaak in eigen modules geplaatst voor betere modulariteit.\n",
    "\n",
    "Maak een eigen module:\n",
    "```python\n",
    "# Bestand: mymodule.py\n",
    "class Circle:\n",
    "    def __init__(self, radius):\n",
    "        self.radius = radius\n",
    "\n",
    "    def area(self):\n",
    "        return 3.14 * self.radius ** 2\n",
    "```\n",
    "\n",
    "Gebruik de module:\n",
    "```python\n",
    "import mymodule\n",
    "circle = mymodule.Circle(5)\n",
    "print(circle.area())  # 78.5\n",
    "```"
   ]
  },
  {
   "cell_type": "markdown",
   "id": "385c21db-da3f-49da-9d5b-64d7cd39d1a0",
   "metadata": {
    "slideshow": {
     "slide_type": "slide"
    }
   },
   "source": [
    "### **7. Het gebruik van `__name__ == \"__main__\"`**\n",
    "\n",
    "Dit concept is belangrijk bij het testen van classes zonder dat de test wordt uitgevoerd bij importeren.\n",
    "```python\n",
    "# Bestand: mymodule.py\n",
    "class Tester:\n",
    "    def run(self):\n",
    "        print(\"Test uitgevoerd.\")\n",
    "\n",
    "def main():\n",
    "    obj = Tester()\n",
    "    obj.run()\n",
    "\n",
    "if __name__ == \"__main__\":\n",
    "    main()\n",
    "```\n",
    "\n",
    "Bij importeren van `mymodule` zal `main()` niet worden uitgevoerd."
   ]
  },
  {
   "cell_type": "markdown",
   "id": "79badbed-58eb-4a22-88e6-9539dca683fb",
   "metadata": {
    "slideshow": {
     "slide_type": "slide"
    }
   },
   "source": [
    "### **8. Importeren van Packages**\n",
    "\n",
    "Packages worden gebruikt om OOP-structuren te organiseren, zoals gerelateerde classes en modules.\n",
    "Structuur:\n",
    "```\n",
    "project/\n",
    "    shapes/\n",
    "        __init__.py\n",
    "        circle.py\n",
    "        square.py\n",
    "```\n",
    "\n",
    "In het bestand `__init__.py` kun je definiëren welke onderdelen standaard beschikbaar moeten zijn:\n",
    "```python\n",
    "# Bestand: shapes/__init__.py\n",
    "from .circle import Circle\n",
    "from .square import Square\n",
    "\n",
    "__all__ = [\"Circle\", \"Square\"]\n",
    "```\n",
    "\n",
    "Gebruik:\n",
    "```python\n",
    "from shapes import Circle\n",
    "circle = Circle(5)\n",
    "print(circle.area())\n",
    "```"
   ]
  },
  {
   "cell_type": "markdown",
   "id": "c9cff9e6-fa74-4a30-84a3-4e7a0c461b38",
   "metadata": {
    "slideshow": {
     "slide_type": "slide"
    }
   },
   "source": [
    "### **9. Veelvoorkomende fouten en best practices**\n",
    "\n",
    "**Fouten:**\n",
    "1. Circulaire imports:\n",
    "   - Twee modules importeren elkaar.\n",
    "   - Oplossing: herstructureren van modules of gebruik van lazy imports.\n",
    "2. Verkeerd ingestelde PYTHONPATH:\n",
    "   - Zorg dat de map waarin je modules zich bevinden in de omgeving is opgenomen.\n",
    "   ```bash\n",
    "   export PYTHONPATH=\"/pad/naar/project:$PYTHONPATH\"\n",
    "   ```\n",
    "3. Overschrijven van globale variabelen:\n",
    "   ```python\n",
    "   x = 10\n",
    "   def func():\n",
    "       x = 20  # Creëert een nieuwe lokale variabele\n",
    "   func()\n",
    "   print(x)  # 10\n",
    "   ```"
   ]
  },
  {
   "cell_type": "markdown",
   "id": "8b0801ab-1e19-49cc-95d5-9c158bfa188f",
   "metadata": {
    "slideshow": {
     "slide_type": "slide"
    }
   },
   "source": [
    "**Best practices:**\n",
    "- Gebruik specifieke imports.\n",
    "- Beperk globale variabelen.\n",
    "- Gebruik instance- en class-attributen in plaats van globale variabelen.\n",
    "- Geef modules duidelijke en beschrijvende namen.\n",
    "- Gebruik `__all__` om expliciet te maken welke onderdelen van een module publiek beschikbaar zijn."
   ]
  },
  {
   "cell_type": "code",
   "execution_count": null,
   "id": "4eee0a9d-03ba-4f00-9a56-f749e0d34ca9",
   "metadata": {},
   "outputs": [],
   "source": []
  }
 ],
 "metadata": {
  "celltoolbar": "Slideshow",
  "kernelspec": {
   "display_name": "Python 3 (ipykernel)",
   "language": "python",
   "name": "python3"
  },
  "language_info": {
   "codemirror_mode": {
    "name": "ipython",
    "version": 3
   },
   "file_extension": ".py",
   "mimetype": "text/x-python",
   "name": "python",
   "nbconvert_exporter": "python",
   "pygments_lexer": "ipython3",
   "version": "3.12.7"
  }
 },
 "nbformat": 4,
 "nbformat_minor": 5
}
