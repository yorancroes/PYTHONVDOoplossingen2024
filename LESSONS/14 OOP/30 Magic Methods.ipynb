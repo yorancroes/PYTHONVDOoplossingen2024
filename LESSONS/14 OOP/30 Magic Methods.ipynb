{
 "cells": [
  {
   "cell_type": "markdown",
   "id": "d9642f7e-20e6-49e1-bad3-6747b12c1ecc",
   "metadata": {},
   "source": [
    "![alt text](../../pythonexposed-high-resolution-logo-black.jpg \"Optionele titel\")"
   ]
  },
  {
   "cell_type": "markdown",
   "id": "46f1966e-879b-4f5a-a297-c017fedcb65d",
   "metadata": {},
   "source": [
    "### **1. Introductie tot Magic Methods**"
   ]
  },
  {
   "cell_type": "markdown",
   "id": "9151bef1-4b7c-45b1-b732-e1d1832af397",
   "metadata": {},
   "source": [
    "#### Wat zijn magic methods?\n",
    "\n",
    "Magic methods, ook wel \"dunder methods\" genoemd (vanwege de dubbele underscores in hun namen, zoals `__init__`), zijn speciale methoden in Python die automatisch door het systeem worden aangeroepen. Ze maken het mogelijk om ingebouwde functionaliteit van Python te integreren in je eigen klassen.\n"
   ]
  },
  {
   "cell_type": "markdown",
   "id": "418928d0-303f-4780-a35c-9da1efa0285e",
   "metadata": {},
   "source": [
    "#### Belangrijke eigenschappen:\n",
    "\n",
    "- **Automatisch aangeroepen**: Magic methods worden opgeroepen door specifieke acties zoals het initialiseren van objecten of het uitvoeren van bewerkingen.\n",
    "- **Aanpasbaar gedrag**: Hiermee kun je het gedrag van operators, methoden of ingebouwde functies aanpassen aan jouw objecten.\n",
    "\n",
    "**Voorbeeld:**\n",
    "\n",
    "```python\n",
    "class Persoon:\n",
    "    def __init__(self, naam):\n",
    "        self.naam = naam\n",
    "\n",
    "    def __str__(self):\n",
    "        return f\"Persoon: {self.naam}\"\n",
    "\n",
    "p = Persoon(\"Alice\")\n",
    "print(p)  # Roept automatisch __str__ aan\n",
    "```\n",
    "\n",
    "In dit voorbeeld zorgt `__str__` ervoor dat een leesbare string wordt weergegeven bij `print(p)`."
   ]
  },
  {
   "cell_type": "markdown",
   "id": "6360ea9b-5c7c-4853-ad05-b5edc268228c",
   "metadata": {},
   "source": [
    "### **2. ****`__init__`**** en Object Initialisatie**\n",
    "\n",
    "De `__init__`-methode wordt aangeroepen bij het maken van een nieuw object van een klasse. Het is bedoeld om objecten te initialiseren met specifieke attributen of instellingen.\n",
    "\n",
    "#### Toepassing van `__init__`:\n",
    "\n",
    "- Initialiseren van attributen.\n",
    "- Valideren van invoer.\n",
    "- Automatisch instellen van standaardwaarden.\n",
    "\n",
    "**Voorbeeld:**\n",
    "\n",
    "```python\n",
    "class Auto:\n",
    "    def __init__(self, merk, model, bouwjaar):\n",
    "        self.merk = merk\n",
    "        self.model = model\n",
    "        self.bouwjaar = bouwjaar\n",
    "\n",
    "    def beschrijving(self):\n",
    "        return f\"{self.merk} {self.model} ({self.bouwjaar})\"\n",
    "\n",
    "auto = Auto(\"Tesla\", \"Model S\", 2020)\n",
    "print(auto.beschrijving())  # Output: Tesla Model S (2020)\n",
    "```"
   ]
  },
  {
   "cell_type": "markdown",
   "id": "e28d2d8e-2a0c-483d-aa34-06196ea3868c",
   "metadata": {},
   "source": [
    "#### Valideren in `__init__`:\n",
    "\n",
    "Je kunt invoer valideren om fouten te voorkomen.\n",
    "\n",
    "```python\n",
    "class Product:\n",
    "    def __init__(self, naam, prijs):\n",
    "        if prijs < 0:\n",
    "            raise ValueError(\"Prijs kan niet negatief zijn.\")\n",
    "        self.naam = naam\n",
    "        self.prijs = prijs\n",
    "\n",
    "try:\n",
    "    product = Product(\"Laptop\", -1000)\n",
    "except ValueError as e:\n",
    "    print(e)  # Output: Prijs kan niet negatief zijn.\n",
    "```"
   ]
  },
  {
   "cell_type": "markdown",
   "id": "15e259e4-dbb1-4a6c-8b07-c28ae917dada",
   "metadata": {},
   "source": [
    "### **3. Stringrepresentatie van Objecten**\n",
    "\n",
    "De magic methods `__str__` en `__repr__` worden gebruikt om tekstrepresentaties van objecten te definiëren.\n",
    "\n",
    "#### `__str__`:\n",
    "\n",
    "- Wordt aangeroepen door `print()` of `str()`.\n",
    "- Voor een gebruiksvriendelijke, leesbare representatie van het object.\n",
    "\n",
    "#### `__repr__`:\n",
    "\n",
    "- Wordt aangeroepen door `repr()` of in interactieve consoles.\n",
    "- Voor een technische representatie die bedoeld is voor ontwikkelaars."
   ]
  },
  {
   "cell_type": "markdown",
   "id": "1fe89074-d81f-4877-9ffa-70efcce4697c",
   "metadata": {},
   "source": [
    "**Voorbeeld:**\n",
    "\n",
    "```python\n",
    "class Boek:\n",
    "    def __init__(self, titel, auteur):\n",
    "        self.titel = titel\n",
    "        self.auteur = auteur\n",
    "\n",
    "    def __str__(self):\n",
    "        return f\"'{self.titel}' door {self.auteur}\"\n",
    "\n",
    "    def __repr__(self):\n",
    "        return f\"Boek(titel={self.titel!r}, auteur={self.auteur!r})\"\n",
    "\n",
    "boek = Boek(\"1984\", \"George Orwell\")\n",
    "print(boek)        # Output: '1984' door George Orwell\n",
    "print(repr(boek))  # Output: Boek(titel='1984', auteur='George Orwell')\n",
    "```\n",
    "\n",
    "*Het gebruik van !r in {self.titel!r} betekent \"gebruik de repr() weergave van self.titel\".  Dit kan hier eenvoudig omdat str, int, float, list en dergelijke **primitieve types** zijn die een standaard representatie in python hebben.  Deze repr() weergave geeft een officiële representatie met extra quotes rond strings, en is geschikt voor debugging (je ziet de exacte waardes en kan deze output vb gebruiken om objecten te reconstrueren in Python).  Voorbeeld: \"'Monty Python'\" (repr) versus 'Monty Python' (str).*   \n"
   ]
  },
  {
   "cell_type": "markdown",
   "id": "10da69ce-0142-4179-9269-cfaa91c0848c",
   "metadata": {},
   "source": [
    "### **4. Operator Overloading**\n",
    "\n",
    "Met operator overloading kun je het gedrag van operators zoals `+`, `-`, `*`, en `/` aanpassen voor jouw objecten.\n",
    "\n",
    "#### Veelgebruikte magic methods voor operatoren:\n",
    "\n",
    "- `__add__`: Voor `+`\n",
    "- `__sub__`: Voor `-`\n",
    "- `__mul__`: Voor `*`\n",
    "- `__truediv__`: Voor `/`\n",
    "- `__mod__`: Voor `%`\n",
    "- `__pow__`: Voor `**`"
   ]
  },
  {
   "cell_type": "markdown",
   "id": "87c0884a-ebfa-4efd-8bac-c08ad02d12ed",
   "metadata": {},
   "source": [
    "**Voorbeeld:**\n",
    "\n",
    "```python\n",
    "class Vector:\n",
    "    def __init__(self, x, y):\n",
    "        self.x = x\n",
    "        self.y = y\n",
    "\n",
    "    def __add__(self, other):\n",
    "        return Vector(self.x + other.x, self.y + other.y)\n",
    "\n",
    "    def __str__(self):\n",
    "        return f\"Vector({self.x}, {self.y})\"\n",
    "\n",
    "v1 = Vector(1, 2)\n",
    "v2 = Vector(3, 4)\n",
    "print(v1 + v2)  # Output: Vector(4, 6)\n",
    "```"
   ]
  },
  {
   "cell_type": "markdown",
   "id": "ae3f7962-d391-4919-9016-d0d313671f21",
   "metadata": {},
   "source": [
    "### **5. Vergelijkingen tussen Objecten**\n",
    "\n",
    "Magic methods zoals `__eq__`, `__lt__`, en `__gt__` maken het mogelijk om objecten te vergelijken.\n",
    "\n",
    "#### Veelgebruikte comparison methods:\n",
    "\n",
    "- `__eq__`: Voor `==`\n",
    "- `__ne__`: Voor `!=`\n",
    "- `__lt__`: Voor `<`\n",
    "- `__le__`: Voor `<=`\n",
    "- `__gt__`: Voor `>`\n",
    "- `__ge__`: Voor `>=`"
   ]
  },
  {
   "cell_type": "markdown",
   "id": "6d256917-8bfc-4f07-95aa-2e7dccbd2ab9",
   "metadata": {},
   "source": [
    "**Voorbeeld:**\n",
    "\n",
    "```python\n",
    "class Product:\n",
    "    def __init__(self, naam, prijs):\n",
    "        self.naam = naam\n",
    "        self.prijs = prijs\n",
    "\n",
    "    def __eq__(self, other):\n",
    "        return self.prijs == other.prijs\n",
    "\n",
    "    def __lt__(self, other):\n",
    "        return self.prijs < other.prijs\n",
    "\n",
    "product1 = Product(\"Laptop\", 1000)\n",
    "product2 = Product(\"Tablet\", 500)\n",
    "print(product1 == product2)  # Output: False\n",
    "print(product1 > product2)   # Output: True\n",
    "```"
   ]
  },
  {
   "cell_type": "markdown",
   "id": "416130fa-8e08-4fda-ab7a-fe8bdb3d16bd",
   "metadata": {},
   "source": [
    "### **6. Iteratie over Objecten**\n",
    "\n",
    "Objecten kunnen iteratief gemaakt worden door `__iter__` en `__next__` te implementeren.\n",
    "\n",
    "#### Magic methods voor iteratie:\n",
    "\n",
    "- `__iter__`: Retourneert een iterator object.\n",
    "- `__next__`: Retourneert het volgende item."
   ]
  },
  {
   "cell_type": "markdown",
   "id": "88f69806-386a-4ab2-881f-804f90a05354",
   "metadata": {},
   "source": [
    "**Voorbeeld:**\n",
    "\n",
    "```python\n",
    "class Rij:\n",
    "    def __init__(self, getallen):\n",
    "        self.getallen = getallen\n",
    "        self.index = 0\n",
    "\n",
    "    def __iter__(self):\n",
    "        return self\n",
    "\n",
    "    def __next__(self):\n",
    "        if self.index >= len(self.getallen):\n",
    "            raise StopIteration\n",
    "        waarde = self.getallen[self.index]\n",
    "        self.index += 1\n",
    "        return waarde\n",
    "\n",
    "rij = Rij([1, 2, 3])\n",
    "for getal in rij:\n",
    "    print(getal)\n",
    "```"
   ]
  },
  {
   "cell_type": "markdown",
   "id": "bbd16f7b-47a7-4b57-8ba8-33efb010068a",
   "metadata": {},
   "source": [
    "### **7. Context Managers**\n",
    "\n",
    "Magic methods `__enter__` en `__exit__` worden gebruikt voor context managers in `with`-statements. Ze zorgen ervoor dat resources correct worden geopend en afgesloten.\n",
    "\n",
    "#### Toepassing:\n",
    "\n",
    "- Automatisch openen en sluiten van bestanden.\n",
    "- Correct vrijgeven van resources zoals netwerkverbindingen.\n",
    "\n",
    "**Voorbeeld:**\n",
    "\n",
    "```python\n",
    "class Bestand:\n",
    "    def __init__(self, bestandsnaam, modus):\n",
    "        self.bestandsnaam = bestandsnaam\n",
    "        self.modus = modus\n",
    "\n",
    "    def __enter__(self):\n",
    "        self.bestand = open(self.bestandsnaam, self.modus)\n",
    "        return self.bestand\n",
    "\n",
    "    def __exit__(self, exc_type, exc_value, traceback):\n",
    "        self.bestand.close()\n",
    "\n",
    "with Bestand(\"test.txt\", \"w\") as f:\n",
    "    f.write(\"Hallo wereld!\")\n",
    "```"
   ]
  },
  {
   "cell_type": "markdown",
   "id": "231901c9-1082-4d67-bc0f-fd21fd342707",
   "metadata": {},
   "source": [
    "### **8. Interessante Extra Magic Methods**"
   ]
  },
  {
   "cell_type": "markdown",
   "id": "13fbee5a-efba-4900-ad19-70747139c865",
   "metadata": {},
   "source": [
    "- **`__len__`**:\n",
    "  Wordt aangeroepen door `len()`.\n",
    "\n",
    "  ```python\n",
    "  class Groep:\n",
    "      def __init__(self, leden):\n",
    "          self.leden = leden\n",
    "\n",
    "      def __len__(self):\n",
    "          return len(self.leden)\n",
    "\n",
    "  groep = Groep([\"Alice\", \"Bob\", \"Charlie\"])\n",
    "  print(len(groep))  # Output: 3\n",
    "  ```"
   ]
  },
  {
   "cell_type": "markdown",
   "id": "1541fe9f-7a97-4ac9-b2f6-46cb090faa84",
   "metadata": {},
   "source": [
    "- **`__getitem__`**** en **``: Voor toegang tot elementen zoals bij lijsten.  De \\_\\_setitem\\_\\_-methode wordt gebruikt om toe te staan dat elementen in een object worden gewijzigd of toegevoegd met behulp van de standaard indexeeringssyntaxis (object[key] = value).\n",
    "\n",
    "  ```python\n",
    "  class MijnLijst:\n",
    "      def __init__(self):\n",
    "          self.data = {}\n",
    "\n",
    "      def __getitem__(self, key):\n",
    "          return self.data.get(key, None)\n",
    "\n",
    "      def __setitem__(self, key, value):\n",
    "          self.data[key] = value\n",
    "\n",
    "  lijst = MijnLijst()\n",
    "  lijst[\"a\"] = 10\n",
    "  print(lijst[\"a\"])  # Output: 10\n",
    "  ```"
   ]
  },
  {
   "cell_type": "markdown",
   "id": "30ef1998-1955-4b49-b24c-e27318ccc79e",
   "metadata": {},
   "source": [
    "- **`__call__`**:\n",
    "  Maakt een object \"aanroepbaar\" als een functie.\n",
    "\n",
    "  ```python\n",
    "  class Vermenigvuldiger:\n",
    "      def __init__(self, factor):\n",
    "          self.factor = factor\n",
    "\n",
    "      def __call__(self, waarde):\n",
    "          return waarde * self.factor\n",
    "\n",
    "  vermenigvuldig = Vermenigvuldiger(3)\n",
    "  print(vermenigvuldig(10))  # Output: 30\n",
    "  ```"
   ]
  },
  {
   "cell_type": "markdown",
   "id": "7267e146-eb07-402e-a3c6-f422f834a07c",
   "metadata": {},
   "source": [
    "### **Samenvatting**\n",
    "\n",
    "Magic methods bieden een krachtige manier om het gedrag van objecten aan te passen en meer intuïtieve en gebruiksvriendelijke interfaces te maken. Door veelgebruikte methods zoals `__str__`, `__add__`, en `__eq__` te begrijpen en toe te passen, kunnen programmeurs flexibele en robuuste klassen ontwerpen."
   ]
  }
 ],
 "metadata": {
  "kernelspec": {
   "display_name": "Python 3 (ipykernel)",
   "language": "python",
   "name": "python3"
  },
  "language_info": {
   "codemirror_mode": {
    "name": "ipython",
    "version": 3
   },
   "file_extension": ".py",
   "mimetype": "text/x-python",
   "name": "python",
   "nbconvert_exporter": "python",
   "pygments_lexer": "ipython3",
   "version": "3.12.7"
  }
 },
 "nbformat": 4,
 "nbformat_minor": 5
}
