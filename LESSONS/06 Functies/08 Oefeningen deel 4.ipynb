{
 "cells": [
  {
   "cell_type": "markdown",
   "id": "5181419e-f8d6-4d4c-96bd-15554a98b5a7",
   "metadata": {
    "tags": []
   },
   "source": [
    "![alt text](../../pythonexposed-high-resolution-logo-black.jpg \"Optionele titel\")"
   ]
  },
  {
   "cell_type": "markdown",
   "id": "5f2d910d-03d0-460b-b455-5dffc53db589",
   "metadata": {
    "tags": []
   },
   "source": [
    "### Functies - oefeningen"
   ]
  },
  {
   "cell_type": "markdown",
   "id": "8b179e2c-e73d-4638-b29a-65bc18fc2e5c",
   "metadata": {},
   "source": [
    "Voor deze opgave mag gebruik gemaakt worden van volgende zaken\n",
    "- de functie len(): len(x) geeft de lengte van de string of de array x terug\n",
    "- de functie append(): x.append(y) de waarde y wordt toegevoegd aan de tabel x, waardoor x groter wordt.  Let op de puntnotatie!\n",
    "- de [] operator op strings x[i] geeft het i-de karakter terug van de string x"
   ]
  },
  {
   "cell_type": "markdown",
   "id": "7814de06-a56d-4c5d-b16e-1934649b833e",
   "metadata": {},
   "source": [
    "Gebruik van andere functies is niet nodig maar bovendien ‘verboden’! Alles wat je nodig hebt maak je in deze oefeningen zelf. Ter herinnering, het doel hier is het oefenen van functies, niet het aanleren van Python."
   ]
  },
  {
   "cell_type": "markdown",
   "id": "d0aaa027-9b5d-430c-9251-34149e8742df",
   "metadata": {},
   "source": [
    "### Opgave\n",
    "\n",
    "Later zien we nog unit tests in Python.  Hieronder staan unit testen geschreven voor de functies die jij moet schrijven."
   ]
  },
  {
   "cell_type": "code",
   "execution_count": 1,
   "id": "26575039-8f27-45ff-a9a0-4a294adad0c3",
   "metadata": {},
   "outputs": [
    {
     "name": "stderr",
     "output_type": "stream",
     "text": [
      "EEEEEEEE\n",
      "======================================================================\n",
      "ERROR: testDecompose (__main__.opgavetester.testDecompose)\n",
      "----------------------------------------------------------------------\n",
      "Traceback (most recent call last):\n",
      "  File \"/tmp/ipykernel_20877/847496602.py\", line 72, in testDecompose\n",
      "    self.assertEqual([1, 0, 2, 0, 3], decompose(30201))\n",
      "                                      ^^^^^^^^^\n",
      "NameError: name 'decompose' is not defined\n",
      "\n",
      "======================================================================\n",
      "ERROR: testFind (__main__.opgavetester.testFind)\n",
      "----------------------------------------------------------------------\n",
      "Traceback (most recent call last):\n",
      "  File \"/tmp/ipykernel_20877/847496602.py\", line 32, in testFind\n",
      "    self.assertEqual(4,find('bal', 'voetbalbal'))\n",
      "                       ^^^^\n",
      "NameError: name 'find' is not defined\n",
      "\n",
      "======================================================================\n",
      "ERROR: testFindAll (__main__.opgavetester.testFindAll)\n",
      "----------------------------------------------------------------------\n",
      "Traceback (most recent call last):\n",
      "  File \"/tmp/ipykernel_20877/847496602.py\", line 41, in testFindAll\n",
      "    self.assertEqual([0, 2, 4],findAll('ha', 'hahaha'))\n",
      "                               ^^^^^^^\n",
      "NameError: name 'findAll' is not defined\n",
      "\n",
      "======================================================================\n",
      "ERROR: testInDutch (__main__.opgavetester.testInDutch)\n",
      "----------------------------------------------------------------------\n",
      "Traceback (most recent call last):\n",
      "  File \"/tmp/ipykernel_20877/847496602.py\", line 59, in testInDutch\n",
      "    self.assertEqual('nul', inDutchThreeDigit(0))\n",
      "                            ^^^^^^^^^^^^^^^^^\n",
      "NameError: name 'inDutchThreeDigit' is not defined\n",
      "\n",
      "======================================================================\n",
      "ERROR: testIsPalindrome (__main__.opgavetester.testIsPalindrome)\n",
      "----------------------------------------------------------------------\n",
      "Traceback (most recent call last):\n",
      "  File \"/tmp/ipykernel_20877/847496602.py\", line 28, in testIsPalindrome\n",
      "    self.assertEqual(False,isPalindrome(''))\n",
      "                           ^^^^^^^^^^^^\n",
      "NameError: name 'isPalindrome' is not defined\n",
      "\n",
      "======================================================================\n",
      "ERROR: testReplace (__main__.opgavetester.testReplace)\n",
      "----------------------------------------------------------------------\n",
      "Traceback (most recent call last):\n",
      "  File \"/tmp/ipykernel_20877/847496602.py\", line 51, in testReplace\n",
      "    self.assertEqual('voetloblob', replace('bal', 'lob', 'voetbalbal'))\n",
      "                                   ^^^^^^^\n",
      "NameError: name 'replace' is not defined\n",
      "\n",
      "======================================================================\n",
      "ERROR: testReverse (__main__.opgavetester.testReverse)\n",
      "----------------------------------------------------------------------\n",
      "Traceback (most recent call last):\n",
      "  File \"/tmp/ipykernel_20877/847496602.py\", line 24, in testReverse\n",
      "    self.assertEqual('',reverse(''))\n",
      "                        ^^^^^^^\n",
      "NameError: name 'reverse' is not defined\n",
      "\n",
      "======================================================================\n",
      "ERROR: testSubstr (__main__.opgavetester.testSubstr)\n",
      "----------------------------------------------------------------------\n",
      "Traceback (most recent call last):\n",
      "  File \"/tmp/ipykernel_20877/847496602.py\", line 7, in testSubstr\n",
      "    self.assertEqual('', substr('voetbalveld', 0, 0))\n",
      "                         ^^^^^^\n",
      "NameError: name 'substr' is not defined\n",
      "\n",
      "----------------------------------------------------------------------\n",
      "Ran 8 tests in 0.003s\n",
      "\n",
      "FAILED (errors=8)\n"
     ]
    }
   ],
   "source": [
    "# Zorg ervoor dat alle import statements en de testklasse in dezelfde cel staan\n",
    "import unittest\n",
    "\n",
    "class opgavetester(unittest.TestCase):\n",
    "\n",
    "    def testSubstr(self):\n",
    "        self.assertEqual('', substr('voetbalveld', 0, 0))\n",
    "        self.assertEqual('', substr('voetbalveld', 0, -1))\n",
    "        self.assertEqual('', substr('voetbalveld', -11, -1))\n",
    "        self.assertEqual('', substr('voetbalveld', -15, -1))\n",
    "        self.assertEqual('', substr('voetbalveld', 11, 1))\n",
    "        self.assertEqual('voet', substr('voetbalveld', -11, 4))\n",
    "        self.assertEqual('veld', substr('voetbalveld', 11, -4))\n",
    "        self.assertEqual('voetbalveld', substr('voetbalveld', -11, 12))\n",
    "\n",
    "        self.assertEqual('voet', substr('voetbalveld', 0, 4))\n",
    "        self.assertEqual('bal' , substr('voetbalveld', 4, 3))\n",
    "        self.assertEqual('bal', substr('voetbalveld', 7, -3))\n",
    "        self.assertEqual('bal', substr('voetbalveld', -7, 3))\n",
    "        self.assertEqual('bal', substr('voetbalveld', -4, -3))\n",
    "        self.assertEqual('veld', substr('voetbalveld', 7, 4))\n",
    "\n",
    "    def testReverse(self):\n",
    "        self.assertEqual('',reverse(''))\n",
    "        self.assertEqual('lab', reverse('bal'))\n",
    "\n",
    "    def testIsPalindrome(self):\n",
    "        self.assertEqual(False,isPalindrome(''))\n",
    "        self.assertEqual(True, isPalindrome('aibohphobia'))\n",
    "\n",
    "    def testFind(self):\n",
    "        self.assertEqual(4,find('bal', 'voetbalbal'))\n",
    "        self.assertEqual(4, find('bal', 'voetbalbal', 4))\n",
    "        self.assertEqual(7, find('bal', 'voetbalbal', 5))\n",
    "        self.assertEqual(0, find('haha', 'hahaha'))\n",
    "        self.assertEqual(2, find('haha', 'hahaha', 1))\n",
    "        self.assertEqual(-1, find('haha', 'hahaha', 3))\n",
    "        self.assertEqual(-1, find('haha', 'ha'))\n",
    "\n",
    "    def testFindAll(self):\n",
    "        self.assertEqual([0, 2, 4],findAll('ha', 'hahaha'))\n",
    "        self.assertEqual([0, 2], findAll('haha', 'hahaha'))\n",
    "        # geen overlap -> self.assertEqual([0], findAll('haha', 'hahaha'))\n",
    "        self.assertEqual([2, 4], findAll('ha', 'hahaha', 1))\n",
    "        # geen overlap -> self.assertEqual([6], findAll('haha', 'hahahihahahahihiha', 1))\n",
    "        self.assertEqual([6, 8], findAll('haha', 'hahahihahahahihiha', 1))\n",
    "        # geen overlap -> self.assertEqual([0, 6], findAll('haha', 'hahahihahahahihiha'))\n",
    "        self.assertEqual([0, 6, 8], findAll('haha', 'hahahihahahahihiha'))\n",
    "\n",
    "    def testReplace(self):\n",
    "        self.assertEqual('voetloblob', replace('bal', 'lob', 'voetbalbal'))\n",
    "        self.assertEqual('voet', replace('bal', '', 'voetbalbal'))\n",
    "        self.assertEqual('balbal', replace('voet', '', 'voetbalbal'))\n",
    "        self.assertEqual('voetbalbal', replace('sok', 'lob', 'voetbalbal'))\n",
    "        # wel overlap -> self.assertEqual('hohohoho', replace('haha', 'hoho', 'hahaha'))\n",
    "        self.assertEqual('hohoha', replace('haha', 'hoho', 'hahaha'))\n",
    "\n",
    "    def testInDutch(self):\n",
    "        self.assertEqual('nul', inDutchThreeDigit(0))\n",
    "        self.assertEqual('negen', inDutchThreeDigit(9))\n",
    "        self.assertEqual('achttien', inDutchThreeDigit(18))\n",
    "        self.assertEqual('zevenenvijftig', inDutchThreeDigit(57))\n",
    "        self.assertEqual('tweeëntwintig', inDutchThreeDigit(22))\n",
    "        self.assertEqual('honderdtien', inDutchThreeDigit(110))\n",
    "        self.assertEqual('driehonderdvijftien', inDutchThreeDigit(315))\n",
    "        self.assertEqual('driehonderddrieëndertig', inDutchThreeDigit(333))\n",
    "        self.assertEqual('driehonderd', inDutchThreeDigit(300))\n",
    "        self.assertEqual('driehonderdenzeven', inDutchThreeDigit(307))\n",
    "        self.assertEqual('zevenhonderdeenentachtig miljoen vierhonderdtweeënvijftigduizend driehonderdeenentwintig', inDutch(781452321))\n",
    "\n",
    "    def testDecompose(self):\n",
    "        self.assertEqual([1, 0, 2, 0, 3], decompose(30201))\n",
    "\n",
    "if __name__ == '__main__':\n",
    "    unittest.main(argv=['first-arg-is-ignored'], exit=False)"
   ]
  },
  {
   "cell_type": "markdown",
   "id": "276b2add-40a3-42c1-b17e-ed9e74693e0b",
   "metadata": {},
   "source": [
    "### Oplossingen"
   ]
  },
  {
   "cell_type": "code",
   "execution_count": null,
   "id": "5dbd00db-5d6c-469e-b21d-6cdfbc31c1b0",
   "metadata": {},
   "outputs": [],
   "source": []
  }
 ],
 "metadata": {
  "kernelspec": {
   "display_name": "Python 3 (ipykernel)",
   "language": "python",
   "name": "python3"
  },
  "language_info": {
   "codemirror_mode": {
    "name": "ipython",
    "version": 3
   },
   "file_extension": ".py",
   "mimetype": "text/x-python",
   "name": "python",
   "nbconvert_exporter": "python",
   "pygments_lexer": "ipython3",
   "version": "3.11.6"
  }
 },
 "nbformat": 4,
 "nbformat_minor": 5
}
