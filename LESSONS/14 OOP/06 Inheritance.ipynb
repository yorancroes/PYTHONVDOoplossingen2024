{
 "cells": [
  {
   "cell_type": "markdown",
   "id": "8aff1c71-3cec-4232-ad7f-4719a055844a",
   "metadata": {
    "slideshow": {
     "slide_type": "slide"
    }
   },
   "source": [
    "![alt text](../../pythonexposed-high-resolution-logo-black.jpg \"Optionele titel\")"
   ]
  },
  {
   "cell_type": "markdown",
   "id": "5d61699a-d14f-4ee5-8e92-1937a0a6b758",
   "metadata": {
    "slideshow": {
     "slide_type": "slide"
    }
   },
   "source": [
    "# Inheritance (Overerving)\n",
    "\n",
    "In deze Jupyter Notebook krijg je een introductie tot inheritance in Python. Overerving maakt het mogelijk om:\n",
    "\n",
    "- Een klasse te maken die eigenschappen en methoden overneemt van een andere klasse.\n",
    "- Codehergebruik te bevorderen.\n",
    "- Uitbreidbaarheid te ondersteunen.\n",
    "- Complexiteit te reduceren door herhaling van code te vermijden.\n",
    "- Relaties tussen klassen te definiëren, waardoor het ontwerp van een programma duidelijker en beter georganiseerd wordt.\n",
    "- Herbruikbare en uitbreidbare code te creëren die gemakkelijker te onderhouden is, omdat aanpassingen in de superclass automatisch worden doorgevoerd in de subclasses."
   ]
  },
  {
   "cell_type": "markdown",
   "id": "6386cb16-55f6-4677-b9a8-3784bbb23db6",
   "metadata": {
    "slideshow": {
     "slide_type": "slide"
    }
   },
   "source": [
    "### Wat is Inheritance?\n",
    "\n",
    "- **Inheritance (overerving)** is een mechanisme om een nieuwe class te baseren op een bestaande class.\n",
    "  - Je definieert enkel de verschillen tussen de nieuwe en de bestaande class.\n",
    "  - Dit zorgt voor:\n",
    "    - Codehergebruik\n",
    "    - Hoogst flexibele en gemakkelijk onderhoudbare programma's"
   ]
  },
  {
   "cell_type": "markdown",
   "id": "77dda59b-8b14-4661-8a4d-114dd3c85731",
   "metadata": {
    "slideshow": {
     "slide_type": "slide"
    }
   },
   "source": [
    "### Wat zijn Abstracte Datatypes?\n",
    "\n",
    "- **Abstracte datatypes** (ADT's) zijn een belangrijk concept bij inheritance. Ze bundelen data en de bewerkingen op die data, zodat objecten als eenheid kunnen worden behandeld. Dit betekent dat je bijvoorbeeld een `Rekening`-object kunt hebben met attributen zoals `saldo` en methoden zoals `stort()` en `opname()`. De rest van het programma hoeft alleen te weten hoe de interface werkt (bijv. hoe je geld stort of opneemt), zonder zich zorgen te maken over de specifieke implementatie van `Rekening`. Dit maakt het eenvoudiger om wijzigingen in de implementatie door te voeren zonder andere delen van het programma aan te passen."
   ]
  },
  {
   "cell_type": "markdown",
   "id": "f2903edf-b5a9-48b8-a61c-6d49d4d68f9f",
   "metadata": {
    "slideshow": {
     "slide_type": "slide"
    }
   },
   "source": [
    "## Syntaxis voor inheritance\n",
    "\n",
    "- De eenvoudigste vorm van een klasse die overerft van een andere klasse:\n",
    "\n",
    "  ```python\n",
    "  class BaseClass:\n",
    "      # statements binnen de klasse\n",
    "      <statement-1>\n",
    "      ...\n",
    "      <statement-N>\n",
    "\n",
    "  class DerivedClass(BaseClass):\n",
    "      # statements binnen de afgeleide klasse\n",
    "      <statement-1>\n",
    "      ...\n",
    "      <statement-N>\n",
    "  ```"
   ]
  },
  {
   "cell_type": "markdown",
   "id": "2229b86d-5cf3-45c9-82f3-caa3ee43c1da",
   "metadata": {
    "slideshow": {
     "slide_type": "slide"
    }
   },
   "source": [
    "- `DerivedClass` erft alle attributen en methoden van `BaseClass`.\n",
    "- Dit betekent dat je de bestaande functionaliteit kunt uitbreiden of aanpassen zonder de oorspronkelijke klasse te wijzigen."
   ]
  },
  {
   "cell_type": "markdown",
   "id": "915a48be-502c-405c-9b5f-5c807c3f0977",
   "metadata": {
    "slideshow": {
     "slide_type": "slide"
    }
   },
   "source": [
    "- Terminologie:\n",
    "  - **Subclass**: de nieuwe klasse die gebaseerd is op een bestaande klasse.\n",
    "  - **Superclass**: de bestaande klasse waarvan wordt geërfd.\n",
    "\n",
    "- Inheritance maakt het mogelijk om hiërarchieën van klassen te creëren waarbij meerdere klassen afgeleid kunnen zijn van dezelfde superclass.\n",
    "\n",
    "- Een subclass kan:\n",
    "  - **Nieuwe attributen toevoegen** die specifiek zijn voor de subclass.\n",
    "  - **Attributen van de superclass overschrijven** om gedrag aan te passen. Dit zorgt ervoor dat de versie van een methode die wordt uitgevoerd, afhankelijk is van het type van het object dat de methode aanroept【63†source】."
   ]
  },
  {
   "cell_type": "markdown",
   "id": "d0957ce9-0677-4ebb-bf53-0d0c73562c28",
   "metadata": {
    "slideshow": {
     "slide_type": "slide"
    }
   },
   "source": [
    "### Voorbeeld van inheritance\n",
    "\n",
    "  ```python\n",
    "  class Animal:\n",
    "      def __init__(self, name):\n",
    "          self.name = name\n",
    "      \n",
    "      def speak(self):\n",
    "          print(f\"{self.name} maakt een geluid.\")\n",
    "\n",
    "  class Dog(Animal):\n",
    "      def __init__(self, name, breed):\n",
    "          super().__init__(name)\n",
    "          self.breed = breed\n",
    "      \n",
    "      def speak(self):\n",
    "          print(f\"{self.name} blaft.\")\n",
    "\n",
    "  # Voorbeeld gebruik\n",
    "  hond = Dog(\"Rex\", \"Labrador\")\n",
    "  hond.speak()  # Uitvoer: Rex blaft.\n",
    "  ```"
   ]
  },
  {
   "cell_type": "markdown",
   "id": "dfa250ec-8179-4506-aa7e-94e2dc3f4a82",
   "metadata": {
    "slideshow": {
     "slide_type": "slide"
    }
   },
   "source": [
    "- In dit voorbeeld:\n",
    "  - `Animal`-klasse heeft een `__init__`- en een `speak`-methode.\n",
    "  - `Dog`-klasse erft van `Animal` en voegt een extra attribuut (`breed`) toe.\n",
    "  - `super()` wordt gebruikt om de `__init__`-methode van `Animal` aan te roepen.\n",
    "  - `Dog` overschrijft de `speak()`-methode van `Animal`.\n",
    "\n",
    "> **Belangrijk:** De `super()`-functie zorgt ervoor dat de oorspronkelijke initialisatie van de basis-klasse niet wordt overgeslagen. Dit is vooral nuttig als de basis-klasse belangrijke initiële instellingen heeft die van toepassing zijn op alle afgeleide klassen."
   ]
  },
  {
   "cell_type": "markdown",
   "id": "37024e31-cd27-4596-b107-449b86253c8c",
   "metadata": {
    "slideshow": {
     "slide_type": "slide"
    }
   },
   "source": [
    "### Inheritance en Methoden Overschrijven\n",
    "Afgeleide klassen kunnen methoden van de basis-klasse overschrijven:\n",
    "\n",
    "- Definiëren van een nieuwe methode: Om een methode van de basisklasse te overschrijven, definieer je een methode met dezelfde naam opnieuw in de afgeleide klasse.\n",
    "- Specifiek gedrag toevoegen: Dit is nuttig om specifiek gedrag toe te voegen dat alleen van toepassing is op de afgeleide klasse, terwijl de gedeelde functionaliteit van de basisklasse behouden blijft.\n",
    "- Oorspronkelijke methode van de basisklasse gebruiken: Binnen een overschreven methode kun je de oorspronkelijke methode van de superclass aanroepen met super(). Dit maakt het mogelijk om functionaliteit uit de basisklasse uit te breiden in plaats van volledig te vervangen.\n",
    "  \n",
    "**Resolutie van methodeverwijzingen:**\n",
    "\n",
    "Wanneer een methode wordt aangeroepen, zoekt Python naar het corresponderende klasseattribuut in de klasse van het object.\n",
    "Als de methode niet in de huidige klasse wordt gevonden, gaat Python de keten van basisklassen af, waarbij het telkens hoger in de hiërarchie zoekt tot de methode wordt gevonden.\n",
    "De methodeverwijzing is geldig zolang dit resulteert in een functieobject.\n",
    "\n",
    "Een overschrijvende methode in een afgeleide klasse kan ook de oorspronkelijke methode van de basisklasse aanroepen door gebruik te maken van de basisklasse zelf. Bijvoorbeeld:"
   ]
  },
  {
   "cell_type": "code",
   "execution_count": 8,
   "id": "2795e770-eb37-4166-81d5-1fac1d086c22",
   "metadata": {
    "slideshow": {
     "slide_type": "slide"
    }
   },
   "outputs": [
    {
     "name": "stdout",
     "output_type": "stream",
     "text": [
      "Some generic sound\n",
      "Woof!\n",
      "Meow!\n",
      "WOOF!!!!\n"
     ]
    }
   ],
   "source": [
    "class Animal:\n",
    "    def speak(self):\n",
    "        return \"Some generic sound\"\n",
    "\n",
    "class Dog(Animal):\n",
    "    def speak(self):\n",
    "        return \"Woof!\"\n",
    "\n",
    "class Cat(Animal):\n",
    "    def speak(self):\n",
    "        return \"Meow!\"\n",
    "\n",
    "# Gebruik van super() om functionaliteit uit te breiden\n",
    "class LoudDog(Dog):\n",
    "    def speak(self):\n",
    "        return super().speak().upper() + \"!!!\"\n",
    "\n",
    "# Instantiëren van objecten\n",
    "animal = Animal()\n",
    "dog = Dog()\n",
    "cat = Cat()\n",
    "loud_dog = LoudDog()\n",
    "\n",
    "print(animal.speak())  \n",
    "print(dog.speak())     \n",
    "print(cat.speak())     \n",
    "print(loud_dog.speak())"
   ]
  },
  {
   "cell_type": "markdown",
   "id": "e268d4f2-2575-460d-a474-0e576fdad9fb",
   "metadata": {
    "slideshow": {
     "slide_type": "slide"
    }
   },
   "source": [
    "Het aanroepen van super() is handig wanneer je de bestaande functionaliteit van de basisklasse wilt hergebruiken en uitbreiden.\n",
    "De hiërarchie van klassen bepaalt hoe methoden worden gezocht en opgelost, waarbij Python altijd de dichtstbijzijnde implementatie gebruikt die het tegenkomt in de keten van basisklassen."
   ]
  },
  {
   "cell_type": "markdown",
   "id": "f7e656b1-10a3-4d09-9190-74ec9c50b75d",
   "metadata": {
    "slideshow": {
     "slide_type": "slide"
    }
   },
   "source": [
    "### Meerdere niveaus van inheritance (dit is niet gelijk aan meervoudige overerving!)\n",
    "\n",
    "- Inheritance kan ook meerdere niveaus bevatten:\n",
    "\n",
    "  ```python\n",
    "  class Puppy(Dog):\n",
    "      def __init__(self, name, breed, age):\n",
    "          super().__init__(name, breed)\n",
    "          self.age = age\n",
    "      \n",
    "      def speak(self):\n",
    "          print(f\"{self.name} piept omdat hij nog een puppy is.\")\n",
    "\n",
    "  puppy = Puppy(\"Buddy\", \"Beagle\", 1)\n",
    "  puppy.speak()  # Uitvoer: Buddy piept omdat hij nog een puppy is.\n",
    "  ```"
   ]
  },
  {
   "cell_type": "markdown",
   "id": "58982bed-63cd-4c78-8b19-2605c2fe27e5",
   "metadata": {
    "slideshow": {
     "slide_type": "slide"
    }
   },
   "source": [
    "- In dit voorbeeld:\n",
    "  - `Puppy`-klasse erft van `Dog`.\n",
    "  - `Puppy` heeft zijn eigen `__init__`-methode en overschrijft `speak()`.\n",
    "  - Verschillende niveaus van inheritance kunnen helpen om complex gedrag te modelleren.\n",
    "\n",
    "- **Multilevel inheritance** kan ook leiden tot complexiteit. Zorg ervoor dat bij het gebruik van inheritance de structuur logisch blijft en dat het gedrag consistent blijft met de verwachtingen van de superklasse."
   ]
  },
  {
   "cell_type": "markdown",
   "id": "1e7dd4b1-fd7e-4acb-b591-ac3e5f8958ea",
   "metadata": {
    "slideshow": {
     "slide_type": "slide"
    }
   },
   "source": [
    "### In Python ingebouwde functies die met overerving werken"
   ]
  },
  {
   "cell_type": "markdown",
   "id": "de273024-b92b-4a91-8ea3-dac661f24fc3",
   "metadata": {
    "slideshow": {
     "slide_type": "subslide"
    }
   },
   "source": [
    "- Gebruik isinstance() om het type van een instantie te controleren:\n",
    "\n",
    "isinstance(obj, int)\n",
    "\n",
    "> Dit geeft alleen True terug als obj.__class__ gelijk is aan int of een klasse die is afgeleid van int."
   ]
  },
  {
   "cell_type": "markdown",
   "id": "7fb3f7d4-154a-44a5-8fdf-b60f7c46273b",
   "metadata": {
    "slideshow": {
     "slide_type": "subslide"
    }
   },
   "source": [
    "- Gebruik issubclass() om klasse-erfenis te controleren:\n",
    "\n",
    "issubclass(bool, int)\n",
    "\n",
    "> Dit is True omdat bool een subklasse is van int. Echter, issubclass(float, int) is False, omdat float geen subklasse is van int."
   ]
  },
  {
   "cell_type": "markdown",
   "id": "a747c57e-c686-4562-86fe-e74278ece212",
   "metadata": {
    "slideshow": {
     "slide_type": "slide"
    }
   },
   "source": [
    "### Meervoudige Overerving in Python\n",
    "\n",
    "**Wat is meervoudige overerving?**  \n",
    "\n",
    "Meervoudige overerving betekent dat een klasse van meerdere basisklassen kan erven. Dit stelt je in staat om eigenschappen en methoden van meerdere klassen in één afgeleide klasse te combineren. De syntax voor een klasse met meervoudige overerving is:\n",
    "  ```python\n",
    "    class DerivedClass(Base1, Base2, Base3):\n",
    "        <statements>\n",
    "  ```                \n"
   ]
  },
  {
   "cell_type": "markdown",
   "id": "aa45e1ab-95cd-47fa-8776-df5000d9cfd3",
   "metadata": {
    "slideshow": {
     "slide_type": "slide"
    }
   },
   "source": [
    "De **Method Resolution Order (MRO)** bepaalt de volgorde waarin Python zoekt naar attributen of methoden in een klassehiërarchie bij gebruik van meervoudige overerving."
   ]
  },
  {
   "cell_type": "markdown",
   "id": "9981b3d0-3f46-41d9-b275-6523152e72ff",
   "metadata": {
    "slideshow": {
     "slide_type": "subslide"
    }
   },
   "source": [
    "**Resolutie van Attributen**\n",
    "- Python gebruikt een depth-first, left-to-right zoekstrategie:\n",
    "1. Start in de afgeleide klasse.\n",
    "2. Zoek in de eerste basisklasse, daarna in de volgende.\n",
    "3. Doorloop volledige hiërarchie van elke basisklasse.\n",
    "\n",
    "Enkele voorbeelden:"
   ]
  },
  {
   "cell_type": "markdown",
   "id": "c0795570-796c-42c5-8f2e-90aaca0c545b",
   "metadata": {
    "slideshow": {
     "slide_type": "slide"
    }
   },
   "source": [
    "**Eén enkele basisklasse**  \n",
    "Bij een enkele basisklasse is de MRO eenvoudig: Python zoekt alleen in de afgeleide klasse en vervolgens in de basisklasse."
   ]
  },
  {
   "cell_type": "code",
   "execution_count": 19,
   "id": "5f8c2624-923a-4d41-943a-bbfe7a4d0fa8",
   "metadata": {
    "slideshow": {
     "slide_type": "subslide"
    }
   },
   "outputs": [
    {
     "name": "stdout",
     "output_type": "stream",
     "text": [
      "Method in A\n"
     ]
    }
   ],
   "source": [
    "class A:\n",
    "    def method(self):\n",
    "        print(\"Method in A\")\n",
    "\n",
    "class B(A):\n",
    "    pass\n",
    "\n",
    "b = B()\n",
    "b.method()"
   ]
  },
  {
   "cell_type": "markdown",
   "id": "2aea0537-25fc-46e4-b8df-a55c23f98cee",
   "metadata": {
    "slideshow": {
     "slide_type": "fragment"
    }
   },
   "source": [
    "*Uitleg MRO:*\n",
    "\n",
    "MRO: B -> A -> object  \n",
    "Python zoekt eerst in B. Niet gevonden? Dan zoekt Python in A, en daarna in object."
   ]
  },
  {
   "cell_type": "markdown",
   "id": "c7818a8c-2b10-4a34-9720-5de654d73d06",
   "metadata": {
    "slideshow": {
     "slide_type": "slide"
    }
   },
   "source": [
    "**Twee basisklassen (Meervoudige Overerving)**  \n",
    "Bij meervoudige overerving zoekt Python van links naar rechts in de lijst van basisklassen."
   ]
  },
  {
   "cell_type": "code",
   "execution_count": 21,
   "id": "4b75a531-9edb-4bfb-bdc2-75e0921d6298",
   "metadata": {
    "slideshow": {
     "slide_type": "subslide"
    }
   },
   "outputs": [
    {
     "name": "stdout",
     "output_type": "stream",
     "text": [
      "Method in A\n"
     ]
    }
   ],
   "source": [
    "class A:\n",
    "    def method(self):\n",
    "        print(\"Method in A\")\n",
    "\n",
    "class B:\n",
    "    def method(self):\n",
    "        print(\"Method in B\")\n",
    "\n",
    "class C(A, B):\n",
    "    pass\n",
    "\n",
    "c = C()\n",
    "c.method()"
   ]
  },
  {
   "cell_type": "markdown",
   "id": "2c085556-39fe-4484-9d43-350807b5cdc3",
   "metadata": {
    "slideshow": {
     "slide_type": "fragment"
    }
   },
   "source": [
    "*Uitleg MRO:*  \n",
    "\n",
    "MRO: C -> A -> B -> object  \n",
    "Python zoekt eerst in C, dan in A (eerste basisklasse), vervolgens in B, en tenslotte in object."
   ]
  },
  {
   "cell_type": "markdown",
   "id": "97cb768a-2683-4cd4-bd90-966e7ab6db8b",
   "metadata": {
    "slideshow": {
     "slide_type": "slide"
    }
   },
   "source": [
    "### Probleem: Het \"diamond problem\" – welke methode wordt gekozen?"
   ]
  },
  {
   "cell_type": "code",
   "execution_count": 24,
   "id": "d86c48ac-cd69-4366-a25c-8045df4e0fa2",
   "metadata": {
    "slideshow": {
     "slide_type": "subslide"
    }
   },
   "outputs": [
    {
     "name": "stdout",
     "output_type": "stream",
     "text": [
      "Method in B\n"
     ]
    }
   ],
   "source": [
    "class A:\n",
    "    def method(self):\n",
    "        print(\"Method in A\")\n",
    "\n",
    "class B(A):\n",
    "    def method(self):\n",
    "        print(\"Method in B\")\n",
    "\n",
    "class C(A):\n",
    "    def method(self):\n",
    "        print(\"Method in C\")\n",
    "\n",
    "class D(B, C):\n",
    "    pass\n",
    "\n",
    "d = D()\n",
    "d.method()  # Output?"
   ]
  },
  {
   "cell_type": "markdown",
   "id": "288f3084-a178-49d2-a53b-71b7ac5006aa",
   "metadata": {
    "slideshow": {
     "slide_type": "fragment"
    }
   },
   "source": [
    "*Uitleg MRO:*  \n",
    "D -> B -> C -> A -> object  \n",
    "Python volgt de volgorde van de basisklassen (B voor C), maar voorkomt dubbele toegang tot A."
   ]
  },
  {
   "cell_type": "markdown",
   "id": "a7d598f5-eb79-4e0f-9932-28f8eba026af",
   "metadata": {
    "slideshow": {
     "slide_type": "slide"
    }
   },
   "source": [
    "**Method Resolution Order (MRO)**\n",
    "- De MRO bepaalt de volgorde waarin klassen worden doorzocht.\n",
    "- Python gebruikt het C3-linearization-algoritme:\n",
    "  - Respecteert volgorde van basisklassen.\n",
    "  - Elk ouderklasse wordt slechts één keer doorzocht.\n",
    "  - Houdt volgorde consistent."
   ]
  },
  {
   "cell_type": "markdown",
   "id": "8c00fdfd-5012-4127-ab25-5d9df51e75c1",
   "metadata": {
    "slideshow": {
     "slide_type": "slide"
    }
   },
   "source": [
    "***Oefening: welke volgorde krijgen we hier?***  \n",
    "\n",
    "Gebruik van super()  \n",
    "super() volgt de MRO om methoden correct aan te roepen."
   ]
  },
  {
   "cell_type": "code",
   "execution_count": 25,
   "id": "ac0629ed-e92b-4cc5-8402-7420d5bcc79f",
   "metadata": {
    "slideshow": {
     "slide_type": "subslide"
    }
   },
   "outputs": [],
   "source": [
    "class A:\n",
    "    def method(self):\n",
    "        print(\"Method in A\")\n",
    "\n",
    "class B(A):\n",
    "    def method(self):\n",
    "        print(\"Method in B\")\n",
    "        super().method()\n",
    "\n",
    "class C(A):\n",
    "    def method(self):\n",
    "        print(\"Method in C\")\n",
    "        super().method()\n",
    "\n",
    "class D(B, C):\n",
    "    def method(self):\n",
    "        print(\"Method in D\")\n",
    "        super().method()"
   ]
  },
  {
   "cell_type": "code",
   "execution_count": 26,
   "id": "d597f208-6473-481a-84ea-a5b2f3e6f4b9",
   "metadata": {
    "slideshow": {
     "slide_type": "slide"
    }
   },
   "outputs": [
    {
     "name": "stdout",
     "output_type": "stream",
     "text": [
      "Method in D\n",
      "Method in B\n",
      "Method in C\n",
      "Method in A\n"
     ]
    }
   ],
   "source": [
    "d = D()\n",
    "d.method()"
   ]
  },
  {
   "cell_type": "markdown",
   "id": "1d7f27ce-f33d-440d-9ec6-93f259d29ee6",
   "metadata": {
    "slideshow": {
     "slide_type": "slide"
    }
   },
   "source": [
    "## Wat hebben we geleerd?"
   ]
  },
  {
   "cell_type": "markdown",
   "id": "85750774-b9d5-4ff6-9046-6b9932780244",
   "metadata": {
    "slideshow": {
     "slide_type": "slide"
    }
   },
   "source": [
    "**Vraag:** Wat is inheritance in Python?"
   ]
  },
  {
   "cell_type": "markdown",
   "id": "12a00911-d871-4995-88e0-aa0477e0c3af",
   "metadata": {
    "slideshow": {
     "slide_type": "subslide"
    }
   },
   "source": [
    "> **Antwoord:** Inheritance is een fundamenteel concept in objectgeoriënteerd programmeren (OOP) waarmee een klasse (subclass/afgeleide klasse) eigenschappen en methoden kan erven van een andere klasse (superclass/basis-klasse). Het bevordert codehergebruik en ondersteunt het concept van hiërarchie in de programmering. In Python wordt inheritance geïmplementeerd met het `class`-keyword en door de basis-klasse tussen haakjes te specificeren."
   ]
  },
  {
   "cell_type": "markdown",
   "id": "20dd2c9c-5ac9-4ec5-9b1f-3f2822e304a5",
   "metadata": {
    "slideshow": {
     "slide_type": "slide"
    }
   },
   "source": [
    "**Vraag:** Leg het concept van een superclass en een subclass uit."
   ]
  },
  {
   "cell_type": "markdown",
   "id": "72fc1f55-2903-4ac2-8dd5-0a82ec83ba52",
   "metadata": {
    "slideshow": {
     "slide_type": "subslide"
    }
   },
   "source": [
    "> **Antwoord:** In objectgeoriënteerd programmeren (OOP) is een superclass (of basis-klasse) een klasse die wordt uitgebreid of overgeërfd door één of meerdere andere klassen, de subclasses (of afgeleide klassen). De superclass bevat gemeenschappelijke attributen en methoden die worden gedeeld door de subclasses, wat zorgt voor codehergebruik en een hiërarchische relatie tussen klassen."
   ]
  },
  {
   "cell_type": "markdown",
   "id": "754e427c-0727-4589-b7ed-4429d98b3229",
   "metadata": {
    "slideshow": {
     "slide_type": "slide"
    }
   },
   "source": [
    "**Vraag:** Hoe is inheritance gerelateerd aan codehergebruik in objectgeoriënteerd programmeren?"
   ]
  },
  {
   "cell_type": "markdown",
   "id": "ea9b3082-4de0-495b-a34a-910e336bc449",
   "metadata": {
    "slideshow": {
     "slide_type": "subslide"
    }
   },
   "source": [
    "> **Antwoord:** Inheritance is een cruciaal concept in objectgeoriënteerd programmeren (OOP) dat codehergebruik mogelijk maakt door een klasse (subclass/afgeleide klasse) toe te staan eigenschappen en methoden van een andere klasse (superclass/basis-klasse) te erven. Hierdoor kan de subclass de functionaliteit van de superclass benutten en uitbreiden, wat zorgt voor een modulaire en onderhoudbare code."
   ]
  },
  {
   "cell_type": "markdown",
   "id": "37ca9139-ea9a-4b4d-b525-6d1ff2d4d9ff",
   "metadata": {
    "slideshow": {
     "slide_type": "slide"
    }
   },
   "source": [
    "**Vraag:** Bespreek de syntaxis voor het definiëren van een subclass in Python."
   ]
  },
  {
   "cell_type": "markdown",
   "id": "5396dcd8-94f1-4bcd-b9cb-f7d29b409412",
   "metadata": {
    "slideshow": {
     "slide_type": "subslide"
    }
   },
   "source": [
    "> **Antwoord:** In Python gebruik je het `class`-keyword, gevolgd door de naam van de subclass en tussen haakjes de naam van de superclass waarvan de subclass erft. De syntaxis ziet er als volgt uit:\n",
    "\n",
    "```python\n",
    "class BaseClass:\n",
    "    # statements\n",
    "\n",
    "class DerivedClass(BaseClass):\n",
    "    # statements\n",
    "```"
   ]
  },
  {
   "cell_type": "markdown",
   "id": "ba0db9da-2fdc-43f5-9095-b6c3393ed83c",
   "metadata": {
    "slideshow": {
     "slide_type": "slide"
    }
   },
   "source": [
    "**Vraag:** Wat is het doel van de `super()`-functie bij inheritance?"
   ]
  },
  {
   "cell_type": "markdown",
   "id": "075b1b6d-e90e-4125-88b8-89eb0fe7ce62",
   "metadata": {
    "slideshow": {
     "slide_type": "subslide"
    }
   },
   "source": [
    "> **Antwoord:** De `super()`-functie in Python wordt gebruikt om methoden aan te roepen en attributen te benaderen van de superclass binnen een subclass. Het wordt vaak gebruikt in de constructor van de subclass om de attributen van de superclass te initialiseren. Hierdoor wordt ervoor gezorgd dat zowel de subclass-specifieke als de superclass-specifieke initialisatiecode wordt uitgevoerd."
   ]
  },
  {
   "cell_type": "markdown",
   "id": "32d8fb62-a326-42e9-9828-dd2655ad2f99",
   "metadata": {
    "slideshow": {
     "slide_type": "slide"
    }
   },
   "source": [
    "**Vraag:** Wat is het verschil tussen single en multiple inheritance in Python?"
   ]
  },
  {
   "cell_type": "markdown",
   "id": "25e7e10e-e62b-4068-967f-a89ed8032054",
   "metadata": {
    "slideshow": {
     "slide_type": "subslide"
    }
   },
   "source": [
    "> **Antwoord:** In Python kan inheritance worden gebruikt om eigenschappen en methoden van één of meerdere klassen te erven:\n",
    ">   - **Single Inheritance:** Hierbij kan een klasse slechts van één superclass erven.\n",
    ">   - **Multiple Inheritance:** Hierbij kan een klasse van meerdere superclasses erven, waardoor de subclass toegang heeft tot de eigenschappen en methoden van meerdere klassen."
   ]
  },
  {
   "cell_type": "markdown",
   "id": "e035718d-9309-4799-86b6-46d82dddbc1c",
   "metadata": {
    "slideshow": {
     "slide_type": "slide"
    }
   },
   "source": [
    "**Vraag:** Bespreek het gebruik van de `isinstance()` en `issubclass()` functies in Python."
   ]
  },
  {
   "cell_type": "markdown",
   "id": "90611324-6c4c-49ed-aeb7-51392b084e7f",
   "metadata": {
    "slideshow": {
     "slide_type": "subslide"
    }
   },
   "source": [
    "> **Antwoord:** In Python zijn `isinstance()` en `issubclass()` ingebouwde functies die helpen bij het controleren van relaties tussen objecten en klassen:\n",
    ">  - **`isinstance()`**: Controleert of een object een instantie is van een bepaalde klasse of een tuple van klassen. Het retourneert `True` als het object een instantie is, anders `False`.\n",
    ">  - **`issubclass()`**: Controleert of een klasse een subclass is van een andere klasse. Het retourneert `True` als de klasse een subclass is, anders `False`."
   ]
  },
  {
   "cell_type": "markdown",
   "id": "cf074393-2cca-42a4-85fc-4255da74e062",
   "metadata": {
    "slideshow": {
     "slide_type": "slide"
    }
   },
   "source": [
    "**Vraag:** Hoe kun je een methode overschrijven in een subclass in Python?"
   ]
  },
  {
   "cell_type": "markdown",
   "id": "864c0937-3621-4d40-8c19-f7665c1901f6",
   "metadata": {
    "slideshow": {
     "slide_type": "subslide"
    }
   },
   "source": [
    "> **Antwoord:** In Python treedt method overriding op wanneer een subclass een specifieke implementatie biedt voor een methode die al is gedefinieerd in de superclass. Dit stelt de subclass in staat om het gedrag van de geërfde methode aan te passen of uit te breiden. Method overriding wordt bereikt door een methode met dezelfde naam in de subclass te definiëren als in de superclass."
   ]
  },
  {
   "cell_type": "markdown",
   "id": "80bed8f2-36e1-4aed-b855-6942f0e57b81",
   "metadata": {
    "slideshow": {
     "slide_type": "slide"
    }
   },
   "source": [
    "**Vraag:** Leg het belang van de `__init__`-methode in inheritance uit."
   ]
  },
  {
   "cell_type": "markdown",
   "id": "7d58ac02-d485-4be4-8895-1b35984f3131",
   "metadata": {
    "slideshow": {
     "slide_type": "subslide"
    }
   },
   "source": [
    "> **Antwoord:** De `__init__`-methode in Python is een speciale methode, ook wel de constructor genoemd, die automatisch wordt aangeroepen wanneer een object van een klasse wordt gemaakt. In de context van inheritance speelt de `__init__`-methode een cruciale rol bij het initialiseren van attributen in zowel de superclass als de subclass. Dit zorgt voor een juiste constructie van objecten in de inheritance-hiërarchie."
   ]
  },
  {
   "cell_type": "markdown",
   "id": "99026749-1d80-4906-b292-9facb9285b5b",
   "metadata": {
    "slideshow": {
     "slide_type": "slide"
    }
   },
   "source": [
    "**Vraag:** Hoe roep je een methode aan van de superclass in een subclass?"
   ]
  },
  {
   "cell_type": "markdown",
   "id": "8653b511-a368-48c0-b4f5-34ef39e6f571",
   "metadata": {
    "slideshow": {
     "slide_type": "subslide"
    }
   },
   "source": [
    "> **Antwoord:** In Python kun je een methode van de superclass aanroepen in een subclass met behulp van de `super()`-functie. De `super()`-functie retourneert een tijdelijk object van de superclass, waarmee je de methode kunt aanroepen. Dit is vooral nuttig wanneer je de functionaliteit van een methode in de subclass wilt uitbreiden, terwijl je nog steeds het gedrag van de methode uit de superclass gebruikt."
   ]
  },
  {
   "cell_type": "code",
   "execution_count": null,
   "id": "5102a239-646a-4451-939d-6f94a8c2d679",
   "metadata": {},
   "outputs": [],
   "source": []
  }
 ],
 "metadata": {
  "celltoolbar": "Slideshow",
  "kernelspec": {
   "display_name": "Python 3 (ipykernel)",
   "language": "python",
   "name": "python3"
  },
  "language_info": {
   "codemirror_mode": {
    "name": "ipython",
    "version": 3
   },
   "file_extension": ".py",
   "mimetype": "text/x-python",
   "name": "python",
   "nbconvert_exporter": "python",
   "pygments_lexer": "ipython3",
   "version": "3.12.7"
  }
 },
 "nbformat": 4,
 "nbformat_minor": 5
}
