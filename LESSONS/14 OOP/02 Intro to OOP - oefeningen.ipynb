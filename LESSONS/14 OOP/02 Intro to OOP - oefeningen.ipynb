{
 "cells": [
  {
   "cell_type": "markdown",
   "id": "33e5eea8-1568-42aa-a185-2e9467b0a632",
   "metadata": {},
   "source": [
    "## Oefeningen Intro to OOP\n",
    "\n",
    "### Klassen aanmaken\n",
    "\n",
    "1. Opgave: Maak een klasse genaamd Boek die drie attributen bevat: titel, auteur, en aantal_paginas. Elk boekobject moet deze eigenschappen hebben. Maak 2 boeken aan en vraag de eigenschappen ervan op."
   ]
  },
  {
   "cell_type": "code",
   "id": "a1ff49c7-9cb2-4136-be78-1350c3d72c84",
   "metadata": {
    "ExecuteTime": {
     "end_time": "2025-03-10T20:33:05.854765Z",
     "start_time": "2025-03-10T20:33:05.851865Z"
    }
   },
   "source": [
    "class Boek():\n",
    "    def __init__(self, auteur, aantal_paginas):\n",
    "        self.auteur = auteur\n",
    "        self.aantal_paginas = aantal_paginas\n",
    "\n",
    "\n",
    "b1 = Boek('jk rowling', 500)\n",
    "print(b1.auteur)\n",
    "print(b1.aantal_paginas)\n",
    "\n",
    "b2 = Boek('jk rowling', 600)\n",
    "print(b2.auteur)\n",
    "print(b2.aantal_paginas)"
   ],
   "outputs": [
    {
     "name": "stdout",
     "output_type": "stream",
     "text": [
      "jk rowling\n",
      "500\n",
      "jk rowling\n",
      "600\n"
     ]
    }
   ],
   "execution_count": 2
  },
  {
   "cell_type": "markdown",
   "id": "60cd9ed0-9e70-44bc-8e5a-0bad810b88cf",
   "metadata": {},
   "source": [
    "2. Opgave: Maak een klasse genaamd Student die drie attributen bevat: naam, leeftijd, en studierichting. Maak 3 personen aan, en stop deze objecten in een Python list.  Loop over de list en print voor elke student de gegevens af."
   ]
  },
  {
   "cell_type": "code",
   "execution_count": null,
   "id": "31f3cfb0-677e-4aba-8e64-33cc036f3414",
   "metadata": {},
   "outputs": [],
   "source": [
    "class Student():\n",
    "    def __init__(self, name, age, studierichting):\n",
    "        self.name = name\n",
    "        self.age = age\n",
    "        self.studierichting = studierichting\n",
    "\n",
    "student_list = [Student(\"yoran\", 19, \"python developer\"),\n",
    "                Student(\"iyad\", 30, \"python developer\"),\n",
    "                Student(\"aslambek\", 40, \"python developer\")]\n",
    "\n",
    "for student in student_list:\n",
    "    print(student.name, student.age, student.studierichting)\n",
    "\n",
    "\n"
   ]
  },
  {
   "cell_type": "markdown",
   "id": "c88ae889-34b1-483b-9d6b-656f142065b0",
   "metadata": {},
   "source": [
    "3. Vraag aan de gebruiker zijn voornaam, familienaam en leeftijd. Zet dit in een object, druk nadien deze waarden af"
   ]
  },
  {
   "cell_type": "code",
   "id": "5c215c57-de72-4eb6-a86e-498d14b3f927",
   "metadata": {
    "ExecuteTime": {
     "end_time": "2025-03-10T20:41:38.541488Z",
     "start_time": "2025-03-10T20:41:26.664119Z"
    }
   },
   "source": [
    "class Gebruiker():\n",
    "    def __init__(self, name, age, studierichting):\n",
    "        self.name = name\n",
    "        self.age = age\n",
    "        self.studierichting = studierichting\n",
    "\n",
    "\n",
    "voornaam = input(\"Geef voornaam? \")\n",
    "achernaam = input(\"Geef achernaam? \")\n",
    "leeftijd = int(input(\"Geef leeftijd? \"))\n",
    "\n",
    "gebruiker = Gebruiker(voornaam,achernaam,leeftijd)\n",
    "print(gebruiker.name + \" \" + gebruiker.age + \" \" + str(gebruiker.studierichting))"
   ],
   "outputs": [
    {
     "name": "stdout",
     "output_type": "stream",
     "text": [
      "yo cr 19\n"
     ]
    }
   ],
   "execution_count": 4
  },
  {
   "cell_type": "markdown",
   "id": "efd06fbd-9403-42a5-a15c-ef50b5a7b126",
   "metadata": {},
   "source": [
    "4. Vraag aan de gebruiker minstens 2 wagens waar hij mij gereden heeft. Elke wagen heeft een kleur/merk/nummerplaat. Druk alle wagens af"
   ]
  },
  {
   "cell_type": "code",
   "id": "49f50148-71fe-4298-b290-92e6542c1ce6",
   "metadata": {
    "ExecuteTime": {
     "end_time": "2025-03-10T20:45:31.918985Z",
     "start_time": "2025-03-10T20:45:30.108330Z"
    }
   },
   "source": [
    "class Wagen():\n",
    "    def __init__(self, kleur, merk, nummerplaat):\n",
    "        self.kleur = kleur\n",
    "        self.merk = merk\n",
    "        self.nummerplaat = nummerplaat\n",
    "\n",
    "kleur1 = input(\"geef kleur van auto 1: \")\n",
    "kleur2 = input(\"geef kleur van auto 2: \")\n",
    "merk1 = input(\"geef merk van auto 1: \")\n",
    "merk2 = input(\"geef merk van auto 2: \")\n",
    "nummerplaat1 = input(\"geef nummerplaat van auto 1: \")\n",
    "nummerplaat2 = input(\"geef nummerplaat van auto 2: \")\n",
    "\n",
    "wagen1 = Wagen(kleur1, merk1, nummerplaat1)\n",
    "wagen2 = Wagen(kleur2, merk2, nummerplaat2)\n",
    "\n",
    "print(wagen1.kleur + wagen2.kleur)\n",
    "print(wagen1.merk + wagen2.merk)\n",
    "print(wagen1.nummerplaat + wagen2.nummerplaat)"
   ],
   "outputs": [
    {
     "ename": "KeyboardInterrupt",
     "evalue": "Interrupted by user",
     "output_type": "error",
     "traceback": [
      "\u001B[31m---------------------------------------------------------------------------\u001B[39m",
      "\u001B[31mKeyboardInterrupt\u001B[39m                         Traceback (most recent call last)",
      "\u001B[36mCell\u001B[39m\u001B[36m \u001B[39m\u001B[32mIn[5]\u001B[39m\u001B[32m, line 7\u001B[39m\n\u001B[32m      4\u001B[39m         \u001B[38;5;28mself\u001B[39m.merk = merk\n\u001B[32m      5\u001B[39m         \u001B[38;5;28mself\u001B[39m.nummerplaat = nummerplaat\n\u001B[32m----> \u001B[39m\u001B[32m7\u001B[39m kleur1 = \u001B[38;5;28;43minput\u001B[39;49m\u001B[43m(\u001B[49m\u001B[33;43m\"\u001B[39;49m\u001B[33;43mgeef kleur van auto 1: \u001B[39;49m\u001B[33;43m\"\u001B[39;49m\u001B[43m)\u001B[49m\n\u001B[32m      8\u001B[39m kleur2 = \u001B[38;5;28minput\u001B[39m(\u001B[33m\"\u001B[39m\u001B[33mgeef kleur van auto 2: \u001B[39m\u001B[33m\"\u001B[39m)\n\u001B[32m      9\u001B[39m merk1 = \u001B[38;5;28minput\u001B[39m(\u001B[33m\"\u001B[39m\u001B[33mgeef merk van auto 1: \u001B[39m\u001B[33m\"\u001B[39m)\n",
      "\u001B[36mFile \u001B[39m\u001B[32m~/PycharmProjects/2024PythonVDO_exersizes/.venv/lib/python3.13/site-packages/ipykernel/kernelbase.py:1282\u001B[39m, in \u001B[36mKernel.raw_input\u001B[39m\u001B[34m(self, prompt)\u001B[39m\n\u001B[32m   1280\u001B[39m     msg = \u001B[33m\"\u001B[39m\u001B[33mraw_input was called, but this frontend does not support input requests.\u001B[39m\u001B[33m\"\u001B[39m\n\u001B[32m   1281\u001B[39m     \u001B[38;5;28;01mraise\u001B[39;00m StdinNotImplementedError(msg)\n\u001B[32m-> \u001B[39m\u001B[32m1282\u001B[39m \u001B[38;5;28;01mreturn\u001B[39;00m \u001B[38;5;28;43mself\u001B[39;49m\u001B[43m.\u001B[49m\u001B[43m_input_request\u001B[49m\u001B[43m(\u001B[49m\n\u001B[32m   1283\u001B[39m \u001B[43m    \u001B[49m\u001B[38;5;28;43mstr\u001B[39;49m\u001B[43m(\u001B[49m\u001B[43mprompt\u001B[49m\u001B[43m)\u001B[49m\u001B[43m,\u001B[49m\n\u001B[32m   1284\u001B[39m \u001B[43m    \u001B[49m\u001B[38;5;28;43mself\u001B[39;49m\u001B[43m.\u001B[49m\u001B[43m_parent_ident\u001B[49m\u001B[43m[\u001B[49m\u001B[33;43m\"\u001B[39;49m\u001B[33;43mshell\u001B[39;49m\u001B[33;43m\"\u001B[39;49m\u001B[43m]\u001B[49m\u001B[43m,\u001B[49m\n\u001B[32m   1285\u001B[39m \u001B[43m    \u001B[49m\u001B[38;5;28;43mself\u001B[39;49m\u001B[43m.\u001B[49m\u001B[43mget_parent\u001B[49m\u001B[43m(\u001B[49m\u001B[33;43m\"\u001B[39;49m\u001B[33;43mshell\u001B[39;49m\u001B[33;43m\"\u001B[39;49m\u001B[43m)\u001B[49m\u001B[43m,\u001B[49m\n\u001B[32m   1286\u001B[39m \u001B[43m    \u001B[49m\u001B[43mpassword\u001B[49m\u001B[43m=\u001B[49m\u001B[38;5;28;43;01mFalse\u001B[39;49;00m\u001B[43m,\u001B[49m\n\u001B[32m   1287\u001B[39m \u001B[43m\u001B[49m\u001B[43m)\u001B[49m\n",
      "\u001B[36mFile \u001B[39m\u001B[32m~/PycharmProjects/2024PythonVDO_exersizes/.venv/lib/python3.13/site-packages/ipykernel/kernelbase.py:1325\u001B[39m, in \u001B[36mKernel._input_request\u001B[39m\u001B[34m(self, prompt, ident, parent, password)\u001B[39m\n\u001B[32m   1322\u001B[39m \u001B[38;5;28;01mexcept\u001B[39;00m \u001B[38;5;167;01mKeyboardInterrupt\u001B[39;00m:\n\u001B[32m   1323\u001B[39m     \u001B[38;5;66;03m# re-raise KeyboardInterrupt, to truncate traceback\u001B[39;00m\n\u001B[32m   1324\u001B[39m     msg = \u001B[33m\"\u001B[39m\u001B[33mInterrupted by user\u001B[39m\u001B[33m\"\u001B[39m\n\u001B[32m-> \u001B[39m\u001B[32m1325\u001B[39m     \u001B[38;5;28;01mraise\u001B[39;00m \u001B[38;5;167;01mKeyboardInterrupt\u001B[39;00m(msg) \u001B[38;5;28;01mfrom\u001B[39;00m\u001B[38;5;250m \u001B[39m\u001B[38;5;28;01mNone\u001B[39;00m\n\u001B[32m   1326\u001B[39m \u001B[38;5;28;01mexcept\u001B[39;00m \u001B[38;5;167;01mException\u001B[39;00m:\n\u001B[32m   1327\u001B[39m     \u001B[38;5;28mself\u001B[39m.log.warning(\u001B[33m\"\u001B[39m\u001B[33mInvalid Message:\u001B[39m\u001B[33m\"\u001B[39m, exc_info=\u001B[38;5;28;01mTrue\u001B[39;00m)\n",
      "\u001B[31mKeyboardInterrupt\u001B[39m: Interrupted by user"
     ]
    }
   ],
   "execution_count": 5
  },
  {
   "cell_type": "markdown",
   "id": "d31945af-9a90-4314-a280-4aa15911a51f",
   "metadata": {},
   "source": [
    "5. Vraag de gebruiker om een paar studenten in te geven. Een student kan kiezen uit een paar richtingen : programmeren, bouw, electriciteit. Druk dan alle studenten en hun richting af"
   ]
  },
  {
   "cell_type": "code",
   "execution_count": null,
   "id": "0221b335-7da7-4cf3-9793-22a8fd502a7a",
   "metadata": {},
   "outputs": [],
   "source": [
    "class Student():\n",
    "    def __init__(self, name, age, studierichting):\n",
    "        self.name = name\n",
    "        self.age = age\n",
    "        self.studierichting = studierichting\n"
   ]
  }
 ],
 "metadata": {
  "kernelspec": {
   "display_name": "Python 3 (ipykernel)",
   "language": "python",
   "name": "python3"
  },
  "language_info": {
   "codemirror_mode": {
    "name": "ipython",
    "version": 3
   },
   "file_extension": ".py",
   "mimetype": "text/x-python",
   "name": "python",
   "nbconvert_exporter": "python",
   "pygments_lexer": "ipython3",
   "version": "3.12.7"
  }
 },
 "nbformat": 4,
 "nbformat_minor": 5
}
