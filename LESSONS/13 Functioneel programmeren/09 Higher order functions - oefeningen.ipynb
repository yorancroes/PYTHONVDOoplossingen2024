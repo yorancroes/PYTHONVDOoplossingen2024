{
 "cells": [
  {
   "cell_type": "markdown",
   "id": "23c484e3-e25f-48d3-bfd9-831e9d8c9794",
   "metadata": {},
   "source": [
    "![alt text](../../pythonexposed-high-resolution-logo-black.jpg \"Optionele titel\")"
   ]
  },
  {
   "cell_type": "markdown",
   "id": "tight-homework",
   "metadata": {},
   "source": [
    "### Oefeningen"
   ]
  },
  {
   "cell_type": "markdown",
   "id": "focused-phone",
   "metadata": {},
   "source": [
    "#### Vraag 1"
   ]
  },
  {
   "cell_type": "markdown",
   "id": "accomplished-livestock",
   "metadata": {},
   "source": [
    "We willen een functie schrijven die een benaderd maximum of minimum van een bepaalde functie binnen een bepaald bereik kan vinden."
   ]
  },
  {
   "cell_type": "markdown",
   "id": "exempt-heater",
   "metadata": {},
   "source": [
    "Bijvoorbeeld, gegeven een bepaalde functie: \n",
    "```\n",
    "f(x) = x**2 - 1\n",
    "```\n",
    "\n",
    "Onze functie moet een benaderend minimum (of maximum) van `f` retourneren over een bepaald bereik, bijvoorbeeld `[-5, 5]`."
   ]
  },
  {
   "cell_type": "markdown",
   "id": "closing-belle",
   "metadata": {},
   "source": [
    "We zullen dit doen door onze intervallen in essentie op te delen in `n` punten (wat ik de `resolutie` zal noemen), de functie te evalueren op elk van deze punten, en vervolgens het minimum of maximum terug te geven."
   ]
  },
  {
   "cell_type": "markdown",
   "id": "comfortable-aviation",
   "metadata": {},
   "source": [
    "We willen dat deze functie generiek is, dus het zou de volgende parameters moeten hebben:  \n",
    "- een functie van één variabele  \n",
    "- een bereik van waarden, gedefinieerd door start- en eindwaarden  \n",
    "- een waarde die de \"resolutie\" aangeeft  \n",
    "- een waarde die aangeeft of we het minimum of het maximum willen  "
   ]
  },
  {
   "cell_type": "code",
   "execution_count": null,
   "id": "2c3bd0e9-6c04-4774-8076-1183af644e77",
   "metadata": {},
   "outputs": [],
   "source": []
  },
  {
   "cell_type": "markdown",
   "id": "fiscal-exclusive",
   "metadata": {},
   "source": [
    "#### Vraag 2"
   ]
  },
  {
   "cell_type": "markdown",
   "id": "tribal-irrigation",
   "metadata": {},
   "source": [
    "Je krijgt een functie van twee variabelen en een lijst van tuples met de waarden voor de twee variabelen."
   ]
  },
  {
   "cell_type": "markdown",
   "id": "guilty-opposition",
   "metadata": {},
   "source": [
    "Maak een lijst die het resultaat is van het aanroepen van de functie op elk van de waardes in de lijst, met behulp van drie verschillende technieken:  \n",
    "- een `for` loop\n",
    "- een list comprehension\n",
    "- de `map` function\n",
    "\n",
    "Gebruik de functie `timeit` om elke aanpak te timen.\n",
    "\n",
    "Hint: schrijf een functie die elke aanpak implementeert, en meet vervolgens de tijd die nodig is om die functies aan te roepen met de `timeit`-functie (`from timeit import timeit` - we hebben deze al eerder gebruikt). Je wilt waarschijnlijk ook `number=10` of iets dergelijks specificeren wanneer je `timeit` uitvoert - tenzij je zin hebt om een hele tijd naar je scherm te staren :-)"
   ]
  },
  {
   "cell_type": "code",
   "execution_count": 1,
   "id": "prompt-investigator",
   "metadata": {},
   "outputs": [],
   "source": [
    "import math\n",
    "\n",
    "def func(point):\n",
    "    # expect point to be a sequence of two values\n",
    "    x, y = point\n",
    "    return math.hypot(x, y)  \n",
    "    # hypot is a function that calculates sqrt(x**2 + y**2), given a sequence (x, y)\n",
    "\n",
    "points = [\n",
    "    (0, 0),\n",
    "    (1, 1),\n",
    "    (10, 20),\n",
    "    (math.pi, math.e)\n",
    "]"
   ]
  },
  {
   "cell_type": "markdown",
   "id": "tutorial-absolute",
   "metadata": {},
   "source": [
    "Je resultaat voor `points` zou moeten zijn:\n",
    "```\n",
    "[0.0, 1.4142135623730951, 22.360679774997898, 4.154354402313314]\n",
    "```"
   ]
  },
  {
   "cell_type": "markdown",
   "id": "digital-september",
   "metadata": {},
   "source": [
    "Om de tijden te vergelijken gebruik je een grotere set punten, zoals deze:"
   ]
  },
  {
   "cell_type": "code",
   "execution_count": 2,
   "id": "informal-equality",
   "metadata": {},
   "outputs": [],
   "source": [
    "points_large = [(math.sin(x), math.cos(x)) for x in range(1, 1_000_000)]"
   ]
  },
  {
   "cell_type": "markdown",
   "id": "caroline-analysis",
   "metadata": {},
   "source": [
    "#### Vraag 3"
   ]
  },
  {
   "cell_type": "markdown",
   "id": "special-stuart",
   "metadata": {},
   "source": [
    "Schrijf een functie die een functie retourneert met alle argumenten, behalve de eerste, vooringevuld met bepaalde waarden die aan de buitenste functie zijn opgegeven."
   ]
  },
  {
   "cell_type": "markdown",
   "id": "becoming-civilization",
   "metadata": {},
   "source": [
    "(Dit wordt soms een gedeeltelijke functie genoemd)."
   ]
  },
  {
   "cell_type": "markdown",
   "id": "solar-watson",
   "metadata": {},
   "source": [
    "Bijvoorbeeld, we kunnen enkele functies hebben zoals:"
   ]
  },
  {
   "cell_type": "code",
   "execution_count": 3,
   "id": "divine-brand",
   "metadata": {},
   "outputs": [],
   "source": [
    "import math"
   ]
  },
  {
   "cell_type": "code",
   "execution_count": 4,
   "id": "saving-hazard",
   "metadata": {},
   "outputs": [],
   "source": [
    "def power(x, n):\n",
    "    return x ** n"
   ]
  },
  {
   "cell_type": "code",
   "execution_count": 5,
   "id": "requested-mathematics",
   "metadata": {},
   "outputs": [],
   "source": [
    "def dist(pt1, pt2):\n",
    "    return math.sqrt(sum(coord_1 - coord_2 for coord_1, coord_2 in zip(pt1, pt2)))"
   ]
  },
  {
   "cell_type": "markdown",
   "id": "hungry-aberdeen",
   "metadata": {},
   "source": [
    "Of zelfs al gedefinieerde functies, zoals:\n",
    "```\n",
    "math.gcd(a, b)\n",
    "```\n",
    "or\n",
    "```\n",
    "math.log(x, base)\n",
    "```"
   ]
  },
  {
   "cell_type": "markdown",
   "id": "entitled-denver",
   "metadata": {},
   "source": [
    "We willen in staat zijn om nieuwe functies te genereren, gebaseerd op deze ( `power`, `dist`, `gcd`, `log`) maar met alle waarden behalve de eerste al ingevuld, bijvoorbeeld, als onze functie `partial` heet, kunnen we het gebruiken om nieuwe functies als volgt te definiëren:"
   ]
  },
  {
   "cell_type": "markdown",
   "id": "first-velvet",
   "metadata": {},
   "source": [
    "```squares = partial(power, 2)\n",
    "dist_from_origin = partial(dist, (0, 0))\n",
    "gcd_13 = partial(math.gcd, 13)\n",
    "log_2 = partial(math.log, 2)\n",
    "log_10 = partial(math.log, 10)\n",
    "log_16 = partial(math.log, 16)\n",
    "```"
   ]
  },
  {
   "cell_type": "markdown",
   "id": "gentle-monitor",
   "metadata": {},
   "source": [
    "Dan, wanneer we onze nieuwe functies aanroepen, geven we gewoon de waarde door voor het eerste argument, d.w.z."
   ]
  },
  {
   "cell_type": "markdown",
   "id": "bridal-scenario",
   "metadata": {},
   "source": [
    "```squares(3) --> 9\n",
    "squares(4) --> 16\n",
    "dist_from_origin((1, 1)) --> 1.414\n",
    "log_2(10) --> 3.3219\n",
    "log_10(10) --> 1.0\n",
    "log_16(10) --> 0.8304\n",
    "```"
   ]
  },
  {
   "cell_type": "markdown",
   "id": "cleared-watson",
   "metadata": {},
   "source": [
    "#### Vraag 4"
   ]
  },
  {
   "cell_type": "markdown",
   "id": "registered-moscow",
   "metadata": {},
   "source": [
    "Schrijf een functie die kan worden gebruikt om niet alleen een andere functie uit te voeren met gespecificeerde argumenten, maar ook een \"log\" (in feite gewoon afdrukken naar de console) te printen, over hoe lang het duurde om de functie uit te voeren."
   ]
  },
  {
   "cell_type": "markdown",
   "id": "invisible-elephant",
   "metadata": {},
   "source": [
    "Bijvoorbeeld, gegeven enkele functies zoals deze:"
   ]
  },
  {
   "cell_type": "code",
   "execution_count": 6,
   "id": "prerequisite-allergy",
   "metadata": {},
   "outputs": [],
   "source": [
    "def norm(x, y):\n",
    "    return math.sqrt(x**2 + y**2)\n",
    "\n",
    "def find_index_min(seq):\n",
    "    min_ = min(seq)\n",
    "    return seq.index(min_)"
   ]
  },
  {
   "cell_type": "markdown",
   "id": "heavy-police",
   "metadata": {},
   "source": [
    "Dan, ervan uitgaande dat jouw logfunctie `logged` heet, zou je gelogde functies op deze manier kunnen creëren:"
   ]
  },
  {
   "cell_type": "code",
   "execution_count": 7,
   "id": "liquid-divide",
   "metadata": {},
   "outputs": [],
   "source": [
    "def logged(f):\n",
    "    # implement this\n",
    "    pass"
   ]
  },
  {
   "cell_type": "code",
   "execution_count": 8,
   "id": "measured-packaging",
   "metadata": {},
   "outputs": [],
   "source": [
    "norm_logged = logged(norm)\n",
    "find_index_min_logged = logged(find_index_min)"
   ]
  },
  {
   "cell_type": "markdown",
   "id": "czech-husband",
   "metadata": {},
   "source": [
    "Je zou dan `norm_logged` kunnen aanroepen met enkele argumenten, of `find_index_min_logged` met enkele argumenten, en niet alleen het daadwerkelijke resultaat terugkrijgen, maar ook een uitvoer op de console zien die aangeeft hoelang de functie duurde om uit te voeren."
   ]
  }
 ],
 "metadata": {
  "kernelspec": {
   "display_name": "Python 3 (ipykernel)",
   "language": "python",
   "name": "python3"
  },
  "language_info": {
   "codemirror_mode": {
    "name": "ipython",
    "version": 3
   },
   "file_extension": ".py",
   "mimetype": "text/x-python",
   "name": "python",
   "nbconvert_exporter": "python",
   "pygments_lexer": "ipython3",
   "version": "3.12.7"
  }
 },
 "nbformat": 4,
 "nbformat_minor": 5
}
