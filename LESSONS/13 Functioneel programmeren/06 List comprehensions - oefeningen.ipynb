{
 "cells": [
  {
   "cell_type": "markdown",
   "id": "adbd22e0-bd0f-438a-9c01-665f2d0a646b",
   "metadata": {},
   "source": [
    "![alt text](../../pythonexposed-high-resolution-logo-black.jpg \"Optionele titel\")"
   ]
  },
  {
   "cell_type": "markdown",
   "id": "ee0ddc75-3c94-4479-a92d-1c65351abbbe",
   "metadata": {},
   "source": [
    "## Oefening 1: List Comprehensions\n",
    "\n",
    "**Gegeven de volgende data:**\n",
    "data = [  \n",
    "    {'dag': 'maandag', 'hoog': 25, 'laag': 15},  \n",
    "    {'dag': 'dinsdag', 'hoog': 28, 'laag': 18},  \n",
    "    {'dag': 'woensdag', 'hoog': 22, 'laag': 14},  \n",
    "    {'dag': 'donderdag', 'hoog': 30, 'laag': 20},  \n",
    "    ]\n",
    "\n",
    "### Opdracht:\n",
    "**Herschrijf de volgende code met behulp van een list comprehension:**\n",
    "verschillen = []\n",
    "for d in data:\n",
    "    verschillen.append(d['hoog'] - d['laag'])\n"
   ]
  },
  {
   "cell_type": "code",
   "execution_count": null,
   "id": "b89577e9-0af8-4a13-9c6f-59ce02470ae4",
   "metadata": {},
   "outputs": [],
   "source": []
  },
  {
   "cell_type": "markdown",
   "id": "1a6db4fc-bce2-43b5-a650-9173c5686d12",
   "metadata": {},
   "source": [
    "## Oefening 2: Vind alle getallen van 1 tot 100 (inclusief) die deelbaar zijn door een enkel cijfer (2-9), maar niet door 1.  \n",
    "Als voorbeeld: 22 is deelbaar door 2, en moet dus worden opgenomen in het resultaat.  11 daarentegen is niet deelbaar door één van 2-9 dus moet dit niet worden opgenomen.  \n",
    "\n",
    "* Je oplossing moet list comprehensions gebruiken (hint: je hebt mogelijk geneste loops nodig in je comprehension).*\n",
    "\n",
    "#### Vind vervolgens alle getallen van 1 tot 100 (inclusief) die niet in de lijst hierboven staan.\n",
    "niet_deelbaar = [x for x in range(1, 101) if x not in deelbaar]\n",
    "\n",
    "#### Als je code correct werkt, zou je dit resultaat moeten krijgen:\n",
    "{1, 11, 13, 17, 19, 23, 29, 31, 37, 41, 43, 47, 53, 59, 61, 67, 71, 73, 79, 83, 89, 97}\n"
   ]
  },
  {
   "cell_type": "code",
   "execution_count": null,
   "id": "331944cf-e716-4a5f-8ab2-ea823826a0d0",
   "metadata": {},
   "outputs": [],
   "source": []
  }
 ],
 "metadata": {
  "kernelspec": {
   "display_name": "Python 3 (ipykernel)",
   "language": "python",
   "name": "python3"
  },
  "language_info": {
   "codemirror_mode": {
    "name": "ipython",
    "version": 3
   },
   "file_extension": ".py",
   "mimetype": "text/x-python",
   "name": "python",
   "nbconvert_exporter": "python",
   "pygments_lexer": "ipython3",
   "version": "3.12.7"
  }
 },
 "nbformat": 4,
 "nbformat_minor": 5
}
