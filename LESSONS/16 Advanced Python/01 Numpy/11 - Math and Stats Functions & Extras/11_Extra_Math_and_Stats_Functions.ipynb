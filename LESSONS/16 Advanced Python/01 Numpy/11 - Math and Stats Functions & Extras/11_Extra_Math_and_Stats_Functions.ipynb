{
 "cells": [
  {
   "cell_type": "markdown",
   "metadata": {},
   "source": [
    "### Bijkomende Math en Stats Functies"
   ]
  },
  {
   "cell_type": "markdown",
   "metadata": {},
   "source": [
    "Naast de universele wiskundige functies, waarvan we er reeds enkele zagen, implementeert NumPy nog veel meer functies onder meer voor lineaire algebra, Fourier transformaties, statistiek enz... "
   ]
  },
  {
   "cell_type": "markdown",
   "metadata": {},
   "source": [
    "Op volgende link kan je een volledig overzicht vinden:\n",
    "\n",
    "https://numpy.org/doc/stable/reference/routines.html"
   ]
  },
  {
   "cell_type": "markdown",
   "metadata": {},
   "source": [
    "NumPy heeft een paar eenvoudige financieel gerelateerde functies (voornamelijk gerelateerd aan renteberekeningen), maar deze worden afgeschaft en zullen uiteindelijk uit NumPy worden verwijderd. (https://numpy.org/neps/nep-0032-remove-financial-functions.html)"
   ]
  },
  {
   "cell_type": "markdown",
   "metadata": {},
   "source": [
    "We bekijken hier enkele wiskundige en statistische functies."
   ]
  },
  {
   "cell_type": "code",
   "execution_count": 1,
   "metadata": {
    "tags": []
   },
   "outputs": [],
   "source": [
    "import numpy as np"
   ]
  },
  {
   "cell_type": "markdown",
   "metadata": {},
   "source": [
    "We kunnen het minimum en maximum van een array vinden:"
   ]
  },
  {
   "cell_type": "code",
   "execution_count": 2,
   "metadata": {
    "tags": []
   },
   "outputs": [
    {
     "data": {
      "text/plain": [
       "5"
      ]
     },
     "execution_count": 2,
     "metadata": {},
     "output_type": "execute_result"
    }
   ],
   "source": [
    "np.amin(np.array([10, 5, 20]))"
   ]
  },
  {
   "cell_type": "code",
   "execution_count": 3,
   "metadata": {
    "tags": []
   },
   "outputs": [
    {
     "data": {
      "text/plain": [
       "20"
      ]
     },
     "execution_count": 3,
     "metadata": {},
     "output_type": "execute_result"
    }
   ],
   "source": [
    "np.amax(np.array([10, 5, 20]))"
   ]
  },
  {
   "cell_type": "markdown",
   "metadata": {},
   "source": [
    "We kunnen dit ook met 2_D arrays: "
   ]
  },
  {
   "cell_type": "code",
   "execution_count": 4,
   "metadata": {
    "tags": []
   },
   "outputs": [
    {
     "data": {
      "text/plain": [
       "array([[10,  2,  3],\n",
       "       [ 4, 50,  6],\n",
       "       [ 7,  8, 90]])"
      ]
     },
     "execution_count": 4,
     "metadata": {},
     "output_type": "execute_result"
    }
   ],
   "source": [
    "m = np.array([[10, 2, 3], [4, 50, 6], [7, 8, 90]])\n",
    "m"
   ]
  },
  {
   "cell_type": "code",
   "execution_count": 5,
   "metadata": {
    "tags": []
   },
   "outputs": [
    {
     "data": {
      "text/plain": [
       "(2, 90)"
      ]
     },
     "execution_count": 5,
     "metadata": {},
     "output_type": "execute_result"
    }
   ],
   "source": [
    "np.amin(m), np.amax(m)"
   ]
  },
  {
   "cell_type": "markdown",
   "metadata": {},
   "source": [
    "We kunnen NumPy dit ook laten uitvoeren over een specifieke as:"
   ]
  },
  {
   "cell_type": "code",
   "execution_count": 6,
   "metadata": {
    "tags": []
   },
   "outputs": [
    {
     "data": {
      "text/plain": [
       "array([4, 2, 3])"
      ]
     },
     "execution_count": 6,
     "metadata": {},
     "output_type": "execute_result"
    }
   ],
   "source": [
    "np.amin(m, axis=0) # axis=0: doe dit over de rijen"
   ]
  },
  {
   "cell_type": "markdown",
   "metadata": {},
   "source": [
    "Zoals je ziet krijgen we een array die het minimum over alle rijen heen geeft (as `0`) voor elke kolom."
   ]
  },
  {
   "cell_type": "markdown",
   "metadata": {},
   "source": [
    "We kunnen als axis ook `1` kiezen, wat betekent dat we het minimum voor elke rij krijgen over alle kolommen heen:"
   ]
  },
  {
   "cell_type": "code",
   "execution_count": 7,
   "metadata": {},
   "outputs": [
    {
     "data": {
      "text/plain": [
       "array([2, 4, 7])"
      ]
     },
     "execution_count": 7,
     "metadata": {},
     "output_type": "execute_result"
    }
   ],
   "source": [
    "np.amin(m, axis=1)"
   ]
  },
  {
   "cell_type": "markdown",
   "metadata": {},
   "source": [
    "Andere standaard stats functies omvatten zaken zoals de mediaan, gemiddelde, standaardafwijking:"
   ]
  },
  {
   "cell_type": "code",
   "execution_count": 7,
   "metadata": {
    "tags": []
   },
   "outputs": [
    {
     "data": {
      "text/plain": [
       "3.0"
      ]
     },
     "execution_count": 7,
     "metadata": {},
     "output_type": "execute_result"
    }
   ],
   "source": [
    "np.median(np.array([1, 2, 3, 4, 5]))"
   ]
  },
  {
   "cell_type": "code",
   "execution_count": 8,
   "metadata": {
    "tags": []
   },
   "outputs": [
    {
     "data": {
      "text/plain": [
       "3.5"
      ]
     },
     "execution_count": 8,
     "metadata": {},
     "output_type": "execute_result"
    }
   ],
   "source": [
    "np.median(np.array([1, 2, 3, 4, 5, 6]))"
   ]
  },
  {
   "cell_type": "markdown",
   "metadata": {},
   "source": [
    "Om het gemiddelde te bepalen kunnen we de `mean` functie gebruiken.  Gewogen gemiddeldes kan je verkrijgen via `average`:"
   ]
  },
  {
   "cell_type": "code",
   "execution_count": 9,
   "metadata": {
    "tags": []
   },
   "outputs": [
    {
     "data": {
      "text/plain": [
       "2.0"
      ]
     },
     "execution_count": 9,
     "metadata": {},
     "output_type": "execute_result"
    }
   ],
   "source": [
    "np.mean(np.array([1, 2, 3]))"
   ]
  },
  {
   "cell_type": "markdown",
   "metadata": {},
   "source": [
    "Standaardafwijking kan je berekenen via de `std` functie:"
   ]
  },
  {
   "cell_type": "code",
   "execution_count": 10,
   "metadata": {
    "tags": []
   },
   "outputs": [
    {
     "data": {
      "text/plain": [
       "1.4142135623730951"
      ]
     },
     "execution_count": 10,
     "metadata": {},
     "output_type": "execute_result"
    }
   ],
   "source": [
    "np.std(np.array([-2, -1, 0, 1, 2]))"
   ]
  },
  {
   "cell_type": "markdown",
   "metadata": {},
   "source": [
    "Natuurlijk kan je deze functies ook gebruiken voor multi-dimensionale arrays; we moeten enkel de as specifiëren waarover het gemiddelde, de standaardafwijking enz wordt berekend."
   ]
  },
  {
   "cell_type": "code",
   "execution_count": 14,
   "metadata": {
    "tags": []
   },
   "outputs": [],
   "source": [
    "m = np.array(\n",
    "    [\n",
    "        [1, 10, 100],\n",
    "        [2, 20, 200],\n",
    "        [3, 30, 300],\n",
    "        [3, 30, 300],\n",
    "        [4, 40, 400]\n",
    "    ]\n",
    ")"
   ]
  },
  {
   "cell_type": "markdown",
   "metadata": {},
   "source": [
    "Om het gemiddelde, de mediaan, ... te berekenen voor elke kolom gebruiken we als as waarover dit gebeurt de rijen (`0`):"
   ]
  },
  {
   "cell_type": "code",
   "execution_count": 15,
   "metadata": {
    "tags": []
   },
   "outputs": [
    {
     "data": {
      "text/plain": [
       "array([  2.6,  26. , 260. ])"
      ]
     },
     "execution_count": 15,
     "metadata": {},
     "output_type": "execute_result"
    }
   ],
   "source": [
    "np.mean(m, axis=0)"
   ]
  },
  {
   "cell_type": "code",
   "execution_count": 16,
   "metadata": {
    "tags": []
   },
   "outputs": [
    {
     "data": {
      "text/plain": [
       "array([  3.,  30., 300.])"
      ]
     },
     "execution_count": 16,
     "metadata": {},
     "output_type": "execute_result"
    }
   ],
   "source": [
    "np.median(m, axis=0)"
   ]
  },
  {
   "cell_type": "markdown",
   "metadata": {},
   "source": [
    "En om het gemiddelde enz te berekenen voor elke rij, moeten we over de kolommen heen werken, dus zetten we de as op `1`:"
   ]
  },
  {
   "cell_type": "code",
   "execution_count": 17,
   "metadata": {
    "tags": []
   },
   "outputs": [
    {
     "data": {
      "text/plain": [
       "array([ 37.,  74., 111., 111., 148.])"
      ]
     },
     "execution_count": 17,
     "metadata": {},
     "output_type": "execute_result"
    }
   ],
   "source": [
    "np.mean(m, axis=1)"
   ]
  },
  {
   "cell_type": "code",
   "execution_count": 18,
   "metadata": {
    "tags": []
   },
   "outputs": [
    {
     "data": {
      "text/plain": [
       "array([10., 20., 30., 30., 40.])"
      ]
     },
     "execution_count": 18,
     "metadata": {},
     "output_type": "execute_result"
    }
   ],
   "source": [
    "np.median(m, axis=1)"
   ]
  },
  {
   "cell_type": "markdown",
   "metadata": {},
   "source": [
    "Er zijn ook functies aanwezig waarmee we de som van alle elementen langs een as kunnen vinden:"
   ]
  },
  {
   "cell_type": "code",
   "execution_count": 19,
   "metadata": {
    "tags": []
   },
   "outputs": [
    {
     "data": {
      "text/plain": [
       "45"
      ]
     },
     "execution_count": 19,
     "metadata": {},
     "output_type": "execute_result"
    }
   ],
   "source": [
    "np.sum(np.arange(1, 10))"
   ]
  },
  {
   "cell_type": "markdown",
   "metadata": {},
   "source": [
    "We kunnen zelfs elk element van een multi-dimensionale array optellen:"
   ]
  },
  {
   "cell_type": "code",
   "execution_count": 20,
   "metadata": {
    "tags": []
   },
   "outputs": [
    {
     "data": {
      "text/plain": [
       "array([[1, 2, 3],\n",
       "       [4, 5, 6],\n",
       "       [7, 8, 9]])"
      ]
     },
     "execution_count": 20,
     "metadata": {},
     "output_type": "execute_result"
    }
   ],
   "source": [
    "m = np.arange(1, 10).reshape(3, 3)\n",
    "m"
   ]
  },
  {
   "cell_type": "code",
   "execution_count": 21,
   "metadata": {
    "tags": []
   },
   "outputs": [
    {
     "data": {
      "text/plain": [
       "45"
      ]
     },
     "execution_count": 21,
     "metadata": {},
     "output_type": "execute_result"
    }
   ],
   "source": [
    "np.sum(m)"
   ]
  },
  {
   "cell_type": "markdown",
   "metadata": {},
   "source": [
    "We kunnen in een hoger dimensionale array ook specifieker zijn door de as waarlangs we willen sommeren te specifiëren:"
   ]
  },
  {
   "cell_type": "code",
   "execution_count": 22,
   "metadata": {
    "tags": []
   },
   "outputs": [
    {
     "data": {
      "text/plain": [
       "array([12, 15, 18])"
      ]
     },
     "execution_count": 22,
     "metadata": {},
     "output_type": "execute_result"
    }
   ],
   "source": [
    "np.sum(m, axis=0)"
   ]
  },
  {
   "cell_type": "code",
   "execution_count": 23,
   "metadata": {
    "tags": []
   },
   "outputs": [
    {
     "data": {
      "text/plain": [
       "array([ 6, 15, 24])"
      ]
     },
     "execution_count": 23,
     "metadata": {},
     "output_type": "execute_result"
    }
   ],
   "source": [
    "np.sum(m, axis=1)"
   ]
  },
  {
   "cell_type": "markdown",
   "metadata": {},
   "source": [
    "NumPy implementeert ook enkele functies waarmee we kunnen afronden, zoals de `around` functie:"
   ]
  },
  {
   "cell_type": "code",
   "execution_count": 24,
   "metadata": {
    "tags": []
   },
   "outputs": [
    {
     "data": {
      "text/plain": [
       "array([1.11, 2.22, 5.55, 6.66])"
      ]
     },
     "execution_count": 24,
     "metadata": {},
     "output_type": "execute_result"
    }
   ],
   "source": [
    "arr = np.array([1.11, 2.22, 5.55, 6.66])\n",
    "arr"
   ]
  },
  {
   "cell_type": "code",
   "execution_count": 25,
   "metadata": {
    "tags": []
   },
   "outputs": [
    {
     "data": {
      "text/plain": [
       "array([1.1, 2.2, 5.6, 6.7])"
      ]
     },
     "execution_count": 25,
     "metadata": {},
     "output_type": "execute_result"
    }
   ],
   "source": [
    "np.around(arr, 1)"
   ]
  },
  {
   "cell_type": "code",
   "execution_count": 26,
   "metadata": {
    "tags": []
   },
   "outputs": [
    {
     "data": {
      "text/plain": [
       "array([1., 2., 6., 7.])"
      ]
     },
     "execution_count": 26,
     "metadata": {},
     "output_type": "execute_result"
    }
   ],
   "source": [
    "np.around(arr)"
   ]
  },
  {
   "cell_type": "markdown",
   "metadata": {},
   "source": [
    "Een andere zeer handige functie is de `histogram` functie, die een frequentiedistributie kan berekenen van waarden in een array, gebruikmakend van opgegeven bins:"
   ]
  },
  {
   "cell_type": "code",
   "execution_count": 27,
   "metadata": {
    "tags": []
   },
   "outputs": [
    {
     "data": {
      "text/plain": [
       "array([6, 1, 4, 4, 8, 4, 6, 3, 5, 8, 7, 9, 9, 2, 7, 8, 8, 9, 2, 6])"
      ]
     },
     "execution_count": 27,
     "metadata": {},
     "output_type": "execute_result"
    }
   ],
   "source": [
    "np.random.seed(0)\n",
    "arr = np.random.randint(1, 10, 20)\n",
    "arr"
   ]
  },
  {
   "cell_type": "markdown",
   "metadata": {},
   "source": [
    "We berekeneen een frequentiedistributie van nummers gebruikmakend van de volgende bins: \n",
    "\n",
    "```\n",
    "[0, 2) [2, 4) [4, 6) [6, 8) [8, 9]\n",
    "```"
   ]
  },
  {
   "cell_type": "markdown",
   "metadata": {},
   "source": [
    "De bin edges zijn: `0`, `2`, `4`, `6`, `8` en de meest rechtse rand `9` die inclusief is."
   ]
  },
  {
   "cell_type": "code",
   "execution_count": 28,
   "metadata": {
    "tags": []
   },
   "outputs": [
    {
     "data": {
      "text/plain": [
       "(array([1, 3, 4, 5, 7]), array([0, 2, 4, 6, 8, 9]))"
      ]
     },
     "execution_count": 28,
     "metadata": {},
     "output_type": "execute_result"
    }
   ],
   "source": [
    "np.histogram(arr, bins=np.array([0, 2, 4, 6, 8, 9]))"
   ]
  },
  {
   "cell_type": "markdown",
   "metadata": {},
   "source": [
    "We zouden ook gewoon het aantal gewenste bins kunnen opgeven, en NumPy zelf de randen laten bepalen.  Dit gebeurt dan met bins die een uniforme breedte hebben, gebaseerd op min en max van onze array:"
   ]
  },
  {
   "cell_type": "code",
   "execution_count": 29,
   "metadata": {
    "tags": []
   },
   "outputs": [
    {
     "data": {
      "text/plain": [
       "(array([3, 4, 4, 9]), array([1., 3., 5., 7., 9.]))"
      ]
     },
     "execution_count": 29,
     "metadata": {},
     "output_type": "execute_result"
    }
   ],
   "source": [
    "np.histogram(arr, bins=4)"
   ]
  },
  {
   "cell_type": "markdown",
   "metadata": {},
   "source": [
    "#### Voorbeeld"
   ]
  },
  {
   "cell_type": "markdown",
   "metadata": {},
   "source": [
    "Laten we de frequentie distributie van random gegenereerde data bepalen:"
   ]
  },
  {
   "cell_type": "markdown",
   "metadata": {},
   "source": [
    "We kunnen de frequentie distributie voor integers bepalen aan de hand van de volgende functie:"
   ]
  },
  {
   "cell_type": "code",
   "execution_count": 30,
   "metadata": {
    "tags": []
   },
   "outputs": [],
   "source": [
    "def freq_distribution(data):\n",
    "    freq = {}\n",
    "    for el in data:\n",
    "        freq[el] = freq.get(el, 0) + 1\n",
    "    return freq"
   ]
  },
  {
   "cell_type": "code",
   "execution_count": 31,
   "metadata": {
    "tags": []
   },
   "outputs": [],
   "source": [
    "data = [1, 1, 1, 2, 2, 3]"
   ]
  },
  {
   "cell_type": "code",
   "execution_count": 44,
   "metadata": {
    "tags": []
   },
   "outputs": [
    {
     "data": {
      "text/plain": [
       "{1: 3, 2: 2, 3: 1}"
      ]
     },
     "execution_count": 44,
     "metadata": {},
     "output_type": "execute_result"
    }
   ],
   "source": [
    "freq_d = freq_distribution(data)\n",
    "freq_d"
   ]
  },
  {
   "cell_type": "markdown",
   "metadata": {},
   "source": [
    "Vervolgens berekenen we de relatieve frequenties:"
   ]
  },
  {
   "cell_type": "code",
   "execution_count": 33,
   "metadata": {
    "tags": []
   },
   "outputs": [],
   "source": [
    "def relative_freq(freq_dist):\n",
    "    sum_freq = sum(freq_dist.values())\n",
    "    return {\n",
    "        k: v / sum_freq * 100 for k, v in freq_dist.items()\n",
    "    }"
   ]
  },
  {
   "cell_type": "code",
   "execution_count": 34,
   "metadata": {
    "tags": []
   },
   "outputs": [
    {
     "data": {
      "text/plain": [
       "{1: 50.0, 2: 33.33333333333333, 3: 16.666666666666664}"
      ]
     },
     "execution_count": 34,
     "metadata": {},
     "output_type": "execute_result"
    }
   ],
   "source": [
    "relative_f = relative_freq(freq_d)\n",
    "relative_f"
   ]
  },
  {
   "cell_type": "markdown",
   "metadata": {},
   "source": [
    "Vervolgens sorteren en transformeren we deze data in een list van tuples voor het aantal en de frequentie:"
   ]
  },
  {
   "cell_type": "code",
   "execution_count": 36,
   "metadata": {
    "tags": []
   },
   "outputs": [
    {
     "data": {
      "text/plain": [
       "[(1, 50.0), (2, 33.33333333333333), (3, 16.666666666666664)]"
      ]
     },
     "execution_count": 36,
     "metadata": {},
     "output_type": "execute_result"
    }
   ],
   "source": [
    "sorted_items = sorted(relative_f.items(), key=lambda x: x[0])\n",
    "sorted_items"
   ]
  },
  {
   "cell_type": "markdown",
   "metadata": {},
   "source": [
    "Een soort ruwe grafiek voor deze data:"
   ]
  },
  {
   "cell_type": "code",
   "execution_count": 37,
   "metadata": {
    "tags": []
   },
   "outputs": [],
   "source": [
    "def chart_freq(data):\n",
    "    pad = max([len(str(el[0])) for el in data]) # om uit te lijnen\n",
    "    for k, v in data:\n",
    "        print(f\"{str(k).rjust(pad)}| {'*' * round(v)}\")"
   ]
  },
  {
   "cell_type": "code",
   "execution_count": 38,
   "metadata": {
    "tags": []
   },
   "outputs": [
    {
     "name": "stdout",
     "output_type": "stream",
     "text": [
      "1| **************************************************\n",
      "2| *********************************\n",
      "3| *****************\n"
     ]
    }
   ],
   "source": [
    "chart_freq(sorted_items)"
   ]
  },
  {
   "cell_type": "markdown",
   "metadata": {},
   "source": [
    "We doen nu iets gelijkaardigs, gebruikmakend van NumPy:"
   ]
  },
  {
   "cell_type": "code",
   "execution_count": 39,
   "metadata": {
    "tags": []
   },
   "outputs": [
    {
     "data": {
      "text/plain": [
       "[1, 1, 1, 2, 2, 3]"
      ]
     },
     "execution_count": 39,
     "metadata": {},
     "output_type": "execute_result"
    }
   ],
   "source": [
    "data"
   ]
  },
  {
   "cell_type": "code",
   "execution_count": 40,
   "metadata": {
    "tags": []
   },
   "outputs": [
    {
     "data": {
      "text/plain": [
       "array([1, 1, 1, 2, 2, 3])"
      ]
     },
     "execution_count": 40,
     "metadata": {},
     "output_type": "execute_result"
    }
   ],
   "source": [
    "arr = np.array(data, dtype=int)\n",
    "arr"
   ]
  },
  {
   "cell_type": "code",
   "execution_count": 51,
   "metadata": {
    "tags": []
   },
   "outputs": [],
   "source": [
    "freq, bins = np.histogram(arr, bins=[1, 2, 3, 4])\n",
    "# Dit creëert drie bins: één voor waarden van 1 tot minder dan 2, één voor waarden van 2 tot minder dan 3, \n",
    "# en één voor waarden van 3 tot minder dan 4."
   ]
  },
  {
   "cell_type": "code",
   "execution_count": 52,
   "metadata": {
    "tags": []
   },
   "outputs": [
    {
     "data": {
      "text/plain": [
       "array([3, 2, 1])"
      ]
     },
     "execution_count": 52,
     "metadata": {},
     "output_type": "execute_result"
    }
   ],
   "source": [
    "freq"
   ]
  },
  {
   "cell_type": "code",
   "execution_count": 53,
   "metadata": {
    "tags": []
   },
   "outputs": [
    {
     "data": {
      "text/plain": [
       "array([1, 2, 3, 4])"
      ]
     },
     "execution_count": 53,
     "metadata": {},
     "output_type": "execute_result"
    }
   ],
   "source": [
    "bins"
   ]
  },
  {
   "cell_type": "markdown",
   "metadata": {},
   "source": [
    "Wat we wensen is niet de absolute frequenties in `freq`, maar de relatieve frequenties - we moeten dus voor elk element van `freq` de waarde berekenen:\n",
    "\n",
    "```\n",
    "el / sum(frequencies) * 100\n",
    "```"
   ]
  },
  {
   "cell_type": "markdown",
   "metadata": {},
   "source": [
    "We zagen reeds alle functies die we nodig hebben om dit te doen, dus laat ons de berekeningen maken:"
   ]
  },
  {
   "cell_type": "code",
   "execution_count": 54,
   "metadata": {
    "tags": []
   },
   "outputs": [
    {
     "data": {
      "text/plain": [
       "array([3, 2, 1])"
      ]
     },
     "execution_count": 54,
     "metadata": {},
     "output_type": "execute_result"
    }
   ],
   "source": [
    "freq"
   ]
  },
  {
   "cell_type": "code",
   "execution_count": 55,
   "metadata": {
    "tags": []
   },
   "outputs": [
    {
     "data": {
      "text/plain": [
       "array([50.        , 33.33333333, 16.66666667])"
      ]
     },
     "execution_count": 55,
     "metadata": {},
     "output_type": "execute_result"
    }
   ],
   "source": [
    "rel = freq / np.sum(freq) * 100\n",
    "rel"
   ]
  },
  {
   "cell_type": "code",
   "execution_count": 56,
   "metadata": {
    "tags": []
   },
   "outputs": [
    {
     "data": {
      "text/plain": [
       "array([1, 2, 3, 4])"
      ]
     },
     "execution_count": 56,
     "metadata": {},
     "output_type": "execute_result"
    }
   ],
   "source": [
    "bins"
   ]
  },
  {
   "cell_type": "markdown",
   "metadata": {},
   "source": [
    "Onze 'ruwe' grafiekfunctie verwacht een lijst van tuples, die we krijgen door eenvoudig de twee arrays samen te voegen met de zip functie (het is belangrijk om de `tolist` methode te gebruiken, omdat deze niet alleen Python list objecten zal creëren, maar ook de NumPy C-types zal omzetten naar de juiste Python-equivalenten):"
   ]
  },
  {
   "cell_type": "code",
   "execution_count": 57,
   "metadata": {
    "tags": []
   },
   "outputs": [
    {
     "data": {
      "text/plain": [
       "[(1, 50.0), (2, 33.33333333333333), (3, 16.666666666666664)]"
      ]
     },
     "execution_count": 57,
     "metadata": {},
     "output_type": "execute_result"
    }
   ],
   "source": [
    "data = list(zip(bins.tolist(), rel.tolist()))\n",
    "data"
   ]
  },
  {
   "cell_type": "markdown",
   "metadata": {},
   "source": [
    "Merk op dat we `bins[:-1]` niet hoefden te zippen om de meest rechtse binrand weg te laten, aangezien zip stopt bij de kortste iterabele, die `rel` is."
   ]
  },
  {
   "cell_type": "markdown",
   "metadata": {},
   "source": [
    "En nu kunnen we deze data plotten:"
   ]
  },
  {
   "cell_type": "code",
   "execution_count": 58,
   "metadata": {
    "tags": []
   },
   "outputs": [
    {
     "name": "stdout",
     "output_type": "stream",
     "text": [
      "1| **************************************************\n",
      "2| *********************************\n",
      "3| *****************\n"
     ]
    }
   ],
   "source": [
    "chart_freq(data)"
   ]
  },
  {
   "cell_type": "markdown",
   "metadata": {},
   "source": [
    "Nu voegen we al het voorgaanse samen, te starten met hetgeen we voorheen hebben gedaan met de Python versie:"
   ]
  },
  {
   "cell_type": "code",
   "execution_count": 59,
   "metadata": {
    "tags": []
   },
   "outputs": [],
   "source": [
    "import random \n",
    "\n",
    "def freq_distribution(data):\n",
    "    freq = {}\n",
    "    for el in data:\n",
    "        freq[el] = freq.get(el, 0) + 1\n",
    "    return freq\n",
    "\n",
    "def relative_freq(freq_dist):\n",
    "    sum_freq = sum(freq_dist.values())\n",
    "    return {\n",
    "        k: v / sum_freq * 100 for k, v in freq_dist.items()\n",
    "    }\n",
    "\n",
    "def chart_freq(data):\n",
    "    pad = max([len(str(el[0])) for el in data])\n",
    "    for k, v in data:\n",
    "        print(f\"{str(k).rjust(pad)}| {'*' * round(v)}\")\n",
    "        \n",
    "def analyze_randint(n, a, b):\n",
    "    data = [random.randint(a, b) for _ in range(n)]\n",
    "    \n",
    "    freq = freq_distribution(data)\n",
    "    rel = relative_freq(freq)\n",
    "    \n",
    "    sorted_items = sorted(rel.items(), key=lambda x: x[0])\n",
    "    chart_freq(sorted_items)"
   ]
  },
  {
   "cell_type": "code",
   "execution_count": 60,
   "metadata": {
    "tags": []
   },
   "outputs": [
    {
     "name": "stdout",
     "output_type": "stream",
     "text": [
      " 1| **********\n",
      " 2| **********\n",
      " 3| **********\n",
      " 4| **********\n",
      " 5| **********\n",
      " 6| **********\n",
      " 7| **********\n",
      " 8| **********\n",
      " 9| *********\n",
      "10| **********\n"
     ]
    }
   ],
   "source": [
    "random.seed(0)\n",
    "\n",
    "analyze_randint(10_000, 1, 10)"
   ]
  },
  {
   "cell_type": "markdown",
   "metadata": {},
   "source": [
    "En nu hetzelfde met NumPy:"
   ]
  },
  {
   "cell_type": "code",
   "execution_count": 61,
   "metadata": {
    "tags": []
   },
   "outputs": [],
   "source": [
    "def np_analyze_randint(n, a, b):\n",
    "    data = np.random.randint(a, b + 1, n)\n",
    "    bins = np.arange(a, b + 2)\n",
    "    freq, _ = np.histogram(data, bins=bins)\n",
    "    rel = freq / np.sum(freq) * 100\n",
    "\n",
    "    sorted_items = list(zip(bins.tolist(), rel.tolist()))\n",
    "    print(sorted_items)\n",
    "    chart_freq(sorted_items)"
   ]
  },
  {
   "cell_type": "code",
   "execution_count": 62,
   "metadata": {
    "tags": []
   },
   "outputs": [
    {
     "name": "stdout",
     "output_type": "stream",
     "text": [
      "[(1, 9.67), (2, 10.32), (3, 9.66), (4, 10.100000000000001), (5, 9.629999999999999), (6, 10.17), (7, 9.84), (8, 9.69), (9, 10.489999999999998), (10, 10.43)]\n",
      " 1| **********\n",
      " 2| **********\n",
      " 3| **********\n",
      " 4| **********\n",
      " 5| **********\n",
      " 6| **********\n",
      " 7| **********\n",
      " 8| **********\n",
      " 9| **********\n",
      "10| **********\n"
     ]
    }
   ],
   "source": [
    "np.random.seed(0)\n",
    "np_analyze_randint(10_000, 1, 10)"
   ]
  },
  {
   "cell_type": "markdown",
   "metadata": {},
   "source": [
    "Zoals je kunt zien, is de code om deze manipulaties te doen veel beknopter in NumPy.\n",
    "\n",
    "Er zijn eigenlijk een paar verbeteringen die we gemakkelijk kunnen aanbrengen - let op hoe de relatieve frequentiewaarden worden afgerond binnen de grafiekfunctie - we kunnen beter afronden met NumPy (met vectorisatie) - dat zou efficiënter  zijn dan het gebruik van Python's afronding in een loop.\n",
    "\n",
    "Bovendien nemen we onze arrays, transformeren ze in lijsten, voegen ze samen en geven ze vervolgens door aan de grafiekfunctie - in plaats daarvan kunnen we NumPy-arrays gebruiken!"
   ]
  },
  {
   "cell_type": "markdown",
   "metadata": {},
   "source": [
    "We herwerken:"
   ]
  },
  {
   "cell_type": "code",
   "execution_count": 63,
   "metadata": {
    "tags": []
   },
   "outputs": [],
   "source": [
    "def np_chart_freq(keys, values):\n",
    "    pad = max(len(key) for key in keys)\n",
    "    for k, v in zip(keys, values):\n",
    "        print(f\"{k.rjust(pad)}| {'*' * v}\")\n",
    "        \n",
    "def np_analyze_randint(n, a, b):\n",
    "    data = np.random.randint(a, b + 1, n)\n",
    "    bins = np.arange(a, b + 2)\n",
    "    freq, _ = np.histogram(data, bins=bins)\n",
    "    rel = np.around(freq / np.sum(freq) * 100)\n",
    "\n",
    "    np_chart_freq(bins[:-1].astype(str), rel.astype(int))"
   ]
  },
  {
   "cell_type": "code",
   "execution_count": 64,
   "metadata": {
    "tags": []
   },
   "outputs": [
    {
     "name": "stdout",
     "output_type": "stream",
     "text": [
      "1| ********************\n",
      "2| **********\n",
      "3| **********\n",
      "4| ****************************************\n",
      "5| ********************\n"
     ]
    }
   ],
   "source": [
    "np.random.seed(0)\n",
    "np_analyze_randint(10, 1, 5)"
   ]
  },
  {
   "cell_type": "markdown",
   "metadata": {},
   "source": [
    "Opmerking: we kunnen eigenlijk ook de len functie vectoriseren die we gebruikten om de padding te berekenen - maar dit vereist een beetje meer geavanceerde concepten die we niet gaan behandelen in deze cursus - hier zal ik je gewoon laten zien hoe je het doet, gezien dit voorbeeld vrij eenvoudig is:"
   ]
  },
  {
   "cell_type": "code",
   "execution_count": 65,
   "metadata": {
    "tags": []
   },
   "outputs": [],
   "source": [
    "def np_chart_freq(keys, values):\n",
    "    np_len = np.vectorize(len)\n",
    "    pad = np.amax(np_len(keys))\n",
    "    for k, v in zip(keys, values):\n",
    "        print(f\"{k.rjust(pad)}| {'*' * v}\")\n",
    "        \n",
    "def np_analyze_randint(n, a, b):\n",
    "    data = np.random.randint(a, b + 1, n)\n",
    "    bins = np.arange(a, b + 2)\n",
    "    freq, _ = np.histogram(data, bins=bins)\n",
    "    rel = np.around(freq / np.sum(freq) * 100)\n",
    "\n",
    "    np_chart_freq(bins[:-1].astype(str), rel.astype(int))"
   ]
  },
  {
   "cell_type": "code",
   "execution_count": 66,
   "metadata": {
    "tags": []
   },
   "outputs": [
    {
     "name": "stdout",
     "output_type": "stream",
     "text": [
      "1| ********************\n",
      "2| **********\n",
      "3| **********\n",
      "4| ****************************************\n",
      "5| ********************\n"
     ]
    }
   ],
   "source": [
    "np.random.seed(0)\n",
    "np_analyze_randint(10, 1, 5)"
   ]
  },
  {
   "cell_type": "code",
   "execution_count": 67,
   "metadata": {
    "tags": []
   },
   "outputs": [],
   "source": [
    "from time import perf_counter"
   ]
  },
  {
   "cell_type": "code",
   "execution_count": 68,
   "metadata": {
    "tags": []
   },
   "outputs": [
    {
     "name": "stdout",
     "output_type": "stream",
     "text": [
      " 1| **********\n",
      " 2| **********\n",
      " 3| **********\n",
      " 4| **********\n",
      " 5| **********\n",
      " 6| **********\n",
      " 7| **********\n",
      " 8| **********\n",
      " 9| **********\n",
      "10| **********\n",
      "Elapsed: 21.704814445998636\n"
     ]
    }
   ],
   "source": [
    "random.seed(0)\n",
    "start = perf_counter()\n",
    "analyze_randint(30_000_000, 1, 10)\n",
    "end = perf_counter()\n",
    "print('Elapsed:', end - start)"
   ]
  },
  {
   "cell_type": "code",
   "execution_count": 69,
   "metadata": {
    "tags": []
   },
   "outputs": [
    {
     "name": "stdout",
     "output_type": "stream",
     "text": [
      " 1| **********\n",
      " 2| **********\n",
      " 3| **********\n",
      " 4| **********\n",
      " 5| **********\n",
      " 6| **********\n",
      " 7| **********\n",
      " 8| **********\n",
      " 9| **********\n",
      "10| **********\n",
      "Elapsed: 0.7657971010048641\n"
     ]
    }
   ],
   "source": [
    "np.random.seed(0)\n",
    "start = perf_counter()\n",
    "np_analyze_randint(30_000_000, 1, 10)\n",
    "end = perf_counter()\n",
    "print('Elapsed:', end - start)"
   ]
  },
  {
   "cell_type": "code",
   "execution_count": null,
   "metadata": {},
   "outputs": [],
   "source": []
  }
 ],
 "metadata": {
  "kernelspec": {
   "display_name": "Python 3 (ipykernel)",
   "language": "python",
   "name": "python3"
  },
  "language_info": {
   "codemirror_mode": {
    "name": "ipython",
    "version": 3
   },
   "file_extension": ".py",
   "mimetype": "text/x-python",
   "name": "python",
   "nbconvert_exporter": "python",
   "pygments_lexer": "ipython3",
   "version": "3.12.7"
  }
 },
 "nbformat": 4,
 "nbformat_minor": 4
}
