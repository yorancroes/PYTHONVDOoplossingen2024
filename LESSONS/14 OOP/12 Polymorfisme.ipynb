{
 "cells": [
  {
   "cell_type": "markdown",
   "id": "a32988bb-d944-4a77-99a2-3d3f9a66853c",
   "metadata": {
    "slideshow": {
     "slide_type": "slide"
    }
   },
   "source": [
    "![alt text](../../pythonexposed-high-resolution-logo-black.jpg \"Optionele titel\")"
   ]
  },
  {
   "cell_type": "markdown",
   "id": "9de06a02-ef92-42b8-b258-4bfb1ec24d6c",
   "metadata": {
    "slideshow": {
     "slide_type": "slide"
    }
   },
   "source": [
    "# Polymorfisme in Objectgeoriënteerd Programmeren (OOP)"
   ]
  },
  {
   "cell_type": "markdown",
   "id": "32b34e48-d4c4-46b4-a3bc-5131a1b09f78",
   "metadata": {
    "slideshow": {
     "slide_type": "slide"
    }
   },
   "source": [
    "### 1. Wat is Polymorfisme?\n",
    "\n",
    "- Polymorfisme (GR \"veelvormig\") is een belangrijk concept in objectgeoriënteerd programmeren (OOP)\n",
    "- Het betekent dat een functie of methode op verschillende manieren kan werken, afhankelijk van het object dat het aanroept. Dit zorgt voor flexibiliteit en uitbreidbaarheid van je code.\n",
    "- Polymorfisme kan op verschillende manieren worden toegepast: met method-overloading en method-overriding. We zullen beide methoden verkennen, beginnend met eenvoudige voorbeelden en geleidelijk naar complexere scenario's werken."
   ]
  },
  {
   "cell_type": "markdown",
   "id": "ac96a938-0cac-44e2-81cb-8c4b0a28c6dc",
   "metadata": {
    "slideshow": {
     "slide_type": "slide"
    }
   },
   "source": [
    "### 2. Voorbeeld van Polymorfisme: Een Eenvoudige Start\n",
    "\n",
    "Laten we beginnen met een voorbeeld. Stel je voor dat we een dierenrijk simuleren. We hebben een klasse `Dier` en daaronder specifieke subklassen zoals `Hond` en `Kat`. Elke diersoort maakt een eigen geluid, en polymorfisme stelt ons in staat om hetzelfde commando – \"maak\\_geluid()\" – te gebruiken voor verschillende dieren.\n",
    "\n",
    "```python\n",
    "class Dier:\n",
    "    def maak_geluid(self):\n",
    "        pass\n",
    "\n",
    "class Hond(Dier):\n",
    "    def maak_geluid(self):\n",
    "        return \"Woef!\"\n",
    "\n",
    "class Kat(Dier):\n",
    "    def maak_geluid(self):\n",
    "        return \"Miauw!\"\n",
    "\n",
    "dieren = [Hond(), Kat()]\n",
    "for dier in dieren:\n",
    "    print(dier.maak_geluid())\n",
    "```"
   ]
  },
  {
   "cell_type": "markdown",
   "id": "d72b5bd6-96c2-41ed-9c36-b4a1d28e57a9",
   "metadata": {
    "slideshow": {
     "slide_type": "slide"
    }
   },
   "source": [
    "**Wat gebeurt hier?**\n",
    "\n",
    "- De `maak_geluid()` methode is gedeclareerd in de `Dier` klasse, maar het heeft geen implementatie (gebruikt `pass`).\n",
    "- Elke subklasse (‘Hond’ en ‘Kat’) implementeert de methode `maak_geluid()` op zijn eigen manier.\n",
    "- Wanneer we door de lijst van dieren itereren en `maak_geluid()` aanroepen, gedraagt elke dier zich op zijn eigen manier.\n",
    "\n",
    "Dit is een klassiek voorbeeld van polymorfisme door method-overriding, waarbij een subklasse de implementatie van een methode van zijn superklasse aanpast."
   ]
  },
  {
   "cell_type": "markdown",
   "id": "5a41a89a-2c5a-49ee-83c5-bed5f8c3dfc7",
   "metadata": {
    "slideshow": {
     "slide_type": "slide"
    }
   },
   "source": [
    "### 3. Overloading\n",
    "#### 3.1 Polymorfisme met Method-Overloading\n",
    "- Method-overloading:\n",
    "  - meerdere methoden met dezelfde naam maar met verschillende parameters (aantal of types van parameters is verschillend).\n",
    "  - niet standaard ondersteund in Python\n",
    "  - kan worden gesimuleerd mbv standaardwaarden voor parameters of door ‘\\*args’ te gebruiken.\n",
    "  - Dit is *Statisch polymorfisme*, omdat de methode die wordt aangeroepen, wordt bepaald tijdens compile-time (niet runtime)°\n",
    "\n",
    "Hier is een voorbeeld:\n",
    "\n",
    "```python\n",
    "class Rekenmachine:\n",
    "    def optellen(self, a, b, c=0):\n",
    "        return a + b + c\n",
    "\n",
    "rekenmachine = Rekenmachine()\n",
    "print(rekenmachine.optellen(2, 3))      # Uitkomst: 5\n",
    "print(rekenmachine.optellen(2, 3, 4))   # Uitkomst: 9\n",
    "```\n",
    "In dit voorbeeld hebben we een methode `optellen()` die ofwel twee of drie waarden kan optellen. Dit geeft ons een vorm van polymorfisme door verschillende manieren om dezelfde functie aan te roepen.  "
   ]
  },
  {
   "cell_type": "markdown",
   "id": "de374de5-b60c-479b-b7dc-621065c287ff",
   "metadata": {
    "slideshow": {
     "slide_type": "subslide"
    }
   },
   "source": [
    "° **Compile-time versus Runtime:**\n",
    "- Compile-time verwijst naar de fase waarin de broncode van een programma wordt gecontroleerd en vertaald naar een uitvoerbare vorm, vóórdat het programma daadwerkelijk wordt uitgevoerd.  Bij compile-time controleert de compiler op syntaxfouten, typefouten, en andere statische fouten in de code.  Het programma wordt niet uitgevoerd; het wordt slechts vertaald naar een uitvoerbaar formaat (bijvoorbeeld machinecode of bytecode).  Python heeft geen echte compile-time aangezien het een interpreteertaal is , wat betekent dat de code wordt uitgevoerd door een interpreter.  Python heeft wel een beperkte \"compile-time\" tijdens het omzetten van broncode naar bytecode.\n",
    "- Runtime: de fase waarin het programma wordt uitgevoerd. Fouten die hier optreden, zijn runtime-fouten zoals een deling door nul of een ontbrekend bestand."
   ]
  },
  {
   "cell_type": "markdown",
   "id": "6fc0a7f9-5145-44f8-8217-de0a545ecafe",
   "metadata": {},
   "source": [
    "**Nog een voorbeeldje van Method-overloading**:\n",
    "\n",
    "```python\n",
    "class Calculator:\n",
    "    def optellen(self, a, b=None):\n",
    "        if b is not None:\n",
    "            return a + b\n",
    "        return sum(a)  # Als lijst of iterabel\n",
    "\n",
    "calc = Calculator()\n",
    "print(calc.optellen(5, 3))\n",
    "print(calc.optellen([1, 2, 3]))   # als we een list doorgeven wordt de sum van de list geretourneerd.\n",
    "```"
   ]
  },
  {
   "cell_type": "markdown",
   "id": "9f6f89a7-1f2a-47c8-b4dc-bf6da0261199",
   "metadata": {
    "slideshow": {
     "slide_type": "slide"
    }
   },
   "source": [
    "**Praktische voorbeelden van method-overloading**\n",
    "\n",
    "- API-Bibliotheek: Een API-aanroep die verschillende niveaus van gegevens kan doorgeven, zoals een basis-ID of een gedetailleerd gegevensobject.\n",
    "\n",
    "- Grafische Gebruikersinterface (GUI): Een teken() methode voor verschillende vormen (bijvoorbeeld teken(cirkel) of teken(rechthoek, lengte, breedte)). Dit maakt de code eenvoudiger te onderhouden."
   ]
  },
  {
   "cell_type": "markdown",
   "id": "309dbf7a-edcc-4098-a9b4-b21a2987e062",
   "metadata": {},
   "source": [
    "#### 3.1 Polymorfisme met Method-Overriding\n",
    "\n",
    "- Method-overriding:\n",
    "  - overschrijven van een methode in een *subklasse* die al gedefinieerd is in de *superklasse*. De methode in de subklasse heeft exact dezelfde naam en parameters.\n",
    "  - dit werkt dankzij inheritance, maar method-overriding voegt **dynamisch polymorfisme** toe, omdat de keuze van de methode gebaseerd wordt op het objecttype tijdens runtime\n",
    "\n",
    "```python\n",
    "class Dier:\n",
    "    def eet(self):\n",
    "        print(\"Dit dier eet.\")\n",
    "\n",
    "class Hond(Dier):\n",
    "    def eet(self):\n",
    "        print(\"De hond eet brokken.\")\n",
    "\n",
    "class Kat(Dier):\n",
    "    def eet(self):\n",
    "        print(\"De kat eet vis.\")\n",
    "\n",
    "# Polymorfisme in actie\n",
    "dieren = [Hond(), Kat(), Dier()]\n",
    "for dier in dieren:\n",
    "    dier.eet()  # Output afhankelijk van het type object (welke subklasse wordt aangeroepen)\n",
    "```"
   ]
  },
  {
   "cell_type": "markdown",
   "id": "3480290f-037f-4486-bd7f-123ffc3ceffe",
   "metadata": {
    "slideshow": {
     "slide_type": "slide"
    }
   },
   "source": [
    "### 4. Het Belang van Polymorfisme in OOP\n",
    "\n",
    "- **Substitueerbaarheid**: Je kunt code schrijven die werkt met objecten van verschillende klassen zonder dat je specifiek hoeft te weten welke klasse.\n",
    "- **Voorbeeldcode**:\n",
    "  ```python\n",
    "  def dier_geluid(dier):\n",
    "      print(dier.maak_geluid())\n",
    "\n",
    "  hond = Hond()\n",
    "  kat = Kat()\n",
    "  dier_geluid(hond)  # Uitkomst: Woef!\n",
    "  dier_geluid(kat)   # Uitkomst: Miauw!\n",
    "  ```"
   ]
  },
  {
   "cell_type": "markdown",
   "id": "8b6e9924-3769-489d-b1d2-fba7674601eb",
   "metadata": {
    "slideshow": {
     "slide_type": "slide"
    }
   },
   "source": [
    "### 5. Praktische Toepassing: Het Vormen van Een Geïntegreerd Systeem\n",
    "\n",
    "- **Dierentuinbeheersysteem**: Gebruik polymorfisme om verschillende dieren te beheren.\n",
    "- **Voorbeeldcode**:\n",
    "  ```python\n",
    "  class Leeuw(Dier):\n",
    "      def maak_geluid(self):\n",
    "          return \"Roar!\"\n",
    "\n",
    "  class Olifant(Dier):\n",
    "      def maak_geluid(self):\n",
    "          return \"Toeter!\"\n",
    "\n",
    "  class Aap(Dier):\n",
    "      def maak_geluid(self):\n",
    "          return \"Oe-oe-aa-aa!\"\n",
    "\n",
    "  dieren = [Leeuw(), Olifant(), Aap()]\n",
    "  for dier in dieren:\n",
    "      print(dier.maak_geluid())\n",
    "  ```"
   ]
  },
  {
   "cell_type": "markdown",
   "id": "835822c6-d2ee-4ec2-80fd-1895d5012ac4",
   "metadata": {
    "slideshow": {
     "slide_type": "slide"
    }
   },
   "source": [
    "### 6. Objectoriëntatie in de Praktijk: Studenten en Docenten\n",
    "\n",
    "- **Studentenadministratiesysteem**: Gebruik polymorfisme om zowel studenten als docenten te beschrijven.\n",
    "  ```python\n",
    "  class Persoon:\n",
    "      def __init__(self, naam):\n",
    "          self.naam = naam\n",
    "\n",
    "      def beschrijf(self):\n",
    "          pass\n",
    "\n",
    "  class Student(Persoon):\n",
    "      def beschrijf(self):\n",
    "          return f\"Student: {self.naam}\"\n",
    "\n",
    "  class Docent(Persoon):\n",
    "      def beschrijf(self):\n",
    "          return f\"Docent: {self.naam}\"\n",
    "\n",
    "  personen = [Student(\"Jan\"), Docent(\"Dr. Smits\")]\n",
    "  for persoon in personen:\n",
    "      print(persoon.beschrijf())\n",
    "  ```"
   ]
  },
  {
   "cell_type": "markdown",
   "id": "c7e0fda3-9cbd-420b-aca5-90458225fddf",
   "metadata": {
    "slideshow": {
     "slide_type": "slide"
    }
   },
   "source": [
    "### 7. Operator Overloading en de Link met Polymorfisme\n",
    "\n",
    "- **Wat is Operator Overloading?**: Het herdefiniëren van bestaande operators voor gebruik met je eigen klassen.\n",
    "- **Voorbeeldcode**:\n",
    "  ```python\n",
    "  class Vector:\n",
    "      def __init__(self, x, y):\n",
    "          self.x = x\n",
    "          self.y = y\n",
    "\n",
    "      def __add__(self, other):\n",
    "          return Vector(self.x + other.x, self.y + other.y)\n",
    "\n",
    "      def __repr__(self):\n",
    "          return f\"Vector({self.x}, {self.y})\"\n",
    "\n",
    "  v1 = Vector(2, 3)\n",
    "  v2 = Vector(4, 5)\n",
    "  v3 = v1 + v2\n",
    "  print(v3)  # Uitkomst: Vector(6, 8)\n",
    "  ```\n",
    "- **De link met polymorfisme**: De `+` operator werkt anders bij integers, strings en `Vector` objecten. Dit is polymorfisme in actie.\n"
   ]
  },
  {
   "cell_type": "markdown",
   "id": "5155040b-5eff-439f-a1ab-92bc1cc6e63c",
   "metadata": {
    "slideshow": {
     "slide_type": "slide"
    }
   },
   "source": [
    "### 8. Duck Typing in Python\n",
    "\n",
    "- **Wat is Duck Typing?**: Duck Typing is een concept in Python waarbij de klasse van een object er minder toe doet dan het gedrag van het object. Het principe is: *\"If it looks like a duck, swims like a duck, and quacks like a duck, then it probably is a duck.\"*\n",
    "- **Voorbeeld**:\n",
    "  ```python\n",
    "  class Eend:\n",
    "      def quack(self):\n",
    "          return \"Kwakk\"\n",
    "\n",
    "  class Mens:\n",
    "      def quack(self):\n",
    "          return \"Ik kan ook kwaken!\"\n",
    "\n",
    "  def laat_quacken(ding):\n",
    "      print(ding.quack())\n",
    "\n",
    "  eend = Eend()\n",
    "  mens = Mens()\n",
    "  laat_quacken(eend)  # Uitkomst: Kwakk\n",
    "  laat_quacken(mens)  # Uitkomst: Ik kan ook kwaken!\n",
    "  ```\n",
    "- **De link met polymorfisme**: Duck Typing maakt het mogelijk om verschillende objecten op dezelfde manier te behandelen, zolang ze hetzelfde gedrag vertonen (bijvoorbeeld dezelfde methode hebben). Hierdoor kunnen functies met verschillende soorten objecten werken zonder te controleren van welke klasse de objecten zijn."
   ]
  },
  {
   "cell_type": "markdown",
   "id": "0361a3f2-7ea8-4ff2-bf74-fa1bb42e9d47",
   "metadata": {
    "slideshow": {
     "slide_type": "slide"
    }
   },
   "source": [
    "### 9. Conclusie: De Flexibiliteit van Polymorfisme\n",
    "\n",
    "- **Voordelen**:\n",
    "  - Generieke functies schrijven die werken met verschillende objecten.\n",
    "  - Vereenvoudigt de code en maakt deze beter uitbreidbaar.\n",
    "- **Toepassing**: Objectoriëntatie helpt bij het modelleren van de echte wereld door klassen en objecten te definiëren.\n",
    "- **Advies**: Probeer polymorfisme toe te passen in je eigen projecten – je zult de voordelen steeds meer ervaren naarmate je ermee werkt!"
   ]
  },
  {
   "cell_type": "markdown",
   "id": "e64a4ce8-4786-4e2f-820a-cbea2a59a5a7",
   "metadata": {
    "slideshow": {
     "slide_type": "slide"
    }
   },
   "source": [
    "### 10. Wat Hebben We Geleerd?"
   ]
  },
  {
   "cell_type": "markdown",
   "id": "3ccd854b-a02d-4ca8-90c9-b87eff10fbab",
   "metadata": {
    "slideshow": {
     "slide_type": "slide"
    }
   },
   "source": [
    "**Wat is polymorfisme?**"
   ]
  },
  {
   "cell_type": "markdown",
   "id": "53d80901-f3f8-4b3a-8072-a81b133b5de1",
   "metadata": {
    "slideshow": {
     "slide_type": "subslide"
    }
   },
   "source": [
    "> *Antwoord*: Polymorfisme betekent dat dezelfde functie op verschillende manieren kan werken, afhankelijk van het object dat het aanroept. Het zorgt voor flexibiliteit en uitbreidbaarheid van de code."
   ]
  },
  {
   "cell_type": "markdown",
   "id": "d218af60-1221-41cd-b229-9475318bd86b",
   "metadata": {
    "slideshow": {
     "slide_type": "slide"
    }
   },
   "source": [
    "**Wat is het verschil tussen method-overriding en method-overloading?**"
   ]
  },
  {
   "cell_type": "markdown",
   "id": "d0992f69-0920-4197-89a5-633f24020f74",
   "metadata": {
    "slideshow": {
     "slide_type": "subslide"
    }
   },
   "source": [
    "> *Antwoord*: Method-overriding houdt in dat een subklasse een methode van de superklasse aanpast. Method-overloading betekent dat je meerdere methoden met dezelfde naam hebt, maar met verschillende parameters."
   ]
  },
  {
   "cell_type": "markdown",
   "id": "6ca3407c-c88f-4893-bdbb-c38225089f5c",
   "metadata": {
    "slideshow": {
     "slide_type": "slide"
    }
   },
   "source": [
    "**Wat is een praktisch voorbeeld van method-overloading?**"
   ]
  },
  {
   "cell_type": "markdown",
   "id": "892f8d5e-9152-4531-814a-3fdda4ba56eb",
   "metadata": {
    "slideshow": {
     "slide_type": "subslide"
    }
   },
   "source": [
    "> *Antwoord*: Een voorbeeld is een API-aanroep waarbij dezelfde methode kan worden gebruikt om verschillende soorten parameters door te geven, zoals een basis-ID of een gedetailleerd gegevensobject."
   ]
  },
  {
   "cell_type": "markdown",
   "id": "4eecbfaa-793c-42f1-a380-f2beb3a93078",
   "metadata": {
    "slideshow": {
     "slide_type": "slide"
    }
   },
   "source": [
    "**Wat is operator overloading en hoe is dit gerelateerd aan polymorfisme?**"
   ]
  },
  {
   "cell_type": "markdown",
   "id": "0ef1850e-9cf0-4e8a-b454-c57a75e9ad88",
   "metadata": {
    "slideshow": {
     "slide_type": "subslide"
    }
   },
   "source": [
    "> *Antwoord*: Operator overloading betekent dat je bestaande operators, zoals `+`, herdefinieert voor je eigen klassen. Dit is een vorm van polymorfisme omdat dezelfde operator anders werkt, afhankelijk van de objecten die erbij betrokken zijn."
   ]
  },
  {
   "cell_type": "markdown",
   "id": "7b68158a-113b-428d-b47d-91b85e71e998",
   "metadata": {
    "slideshow": {
     "slide_type": "slide"
    }
   },
   "source": [
    "**Waarom is polymorfisme belangrijk in OOP?**"
   ]
  },
  {
   "cell_type": "markdown",
   "id": "8b599676-59ff-4177-97b9-002237306a2e",
   "metadata": {
    "slideshow": {
     "slide_type": "subslide"
    }
   },
   "source": [
    "> *Antwoord*: Polymorfisme maakt het mogelijk om generieke functies te schrijven die met verschillende objecten kunnen werken, zonder de specifieke details van die objecten te kennen. Dit maakt de code flexibeler en makkelijker te onderhouden."
   ]
  }
 ],
 "metadata": {
  "celltoolbar": "Slideshow",
  "kernelspec": {
   "display_name": "Python 3 (ipykernel)",
   "language": "python",
   "name": "python3"
  },
  "language_info": {
   "codemirror_mode": {
    "name": "ipython",
    "version": 3
   },
   "file_extension": ".py",
   "mimetype": "text/x-python",
   "name": "python",
   "nbconvert_exporter": "python",
   "pygments_lexer": "ipython3",
   "version": "3.12.7"
  }
 },
 "nbformat": 4,
 "nbformat_minor": 5
}
