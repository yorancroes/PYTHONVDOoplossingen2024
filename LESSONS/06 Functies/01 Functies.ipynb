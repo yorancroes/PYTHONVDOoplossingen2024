{
 "cells": [
  {
   "cell_type": "markdown",
   "id": "8fd220f4-2791-46b3-a8c5-13973f598362",
   "metadata": {
    "tags": []
   },
   "source": [
    "![alt text](../../pythonexposed-high-resolution-logo-black.jpg \"Optionele titel\")"
   ]
  },
  {
   "cell_type": "markdown",
   "id": "96a9c44e",
   "metadata": {},
   "source": [
    "### Python Functies\n",
    "\n",
    "In deze notebook duiken we in de concepten van functies in Python. We zullen verschillende aspecten van functies verkennen, inclusief argumenten, standaardwaarden, keyword-only argumenten, lambda-functies, en de scope en levensduur van functies."
   ]
  },
  {
   "cell_type": "markdown",
   "id": "592d3446",
   "metadata": {},
   "source": [
    "\n",
    "#### Argumenten en Default Values\n",
    "\n",
    "Functies in Python kunnen nul of meer argumenten accepteren. Argumenten zijn waarden die je aan een functie doorgeeft wanneer je deze aanroept. Je kunt een functie ook definiëren met standaardwaarden voor argumenten, waardoor deze argumenten optioneel worden."
   ]
  },
  {
   "cell_type": "code",
   "execution_count": 1,
   "id": "81cda545",
   "metadata": {
    "tags": []
   },
   "outputs": [
    {
     "name": "stdout",
     "output_type": "stream",
     "text": [
      "Hallo, Alice!\n",
      "Welkom, Bob!\n"
     ]
    }
   ],
   "source": [
    "def groet(naam, boodschap=\"Hallo\"):\n",
    "    print(f\"{boodschap}, {naam}!\")\n",
    "\n",
    "groet(\"Alice\")\n",
    "groet(\"Bob\", \"Welkom\")"
   ]
  },
  {
   "cell_type": "markdown",
   "id": "f4b54bf8-c566-46ac-a504-07f9b30618d6",
   "metadata": {
    "tags": []
   },
   "source": [
    "#### *args"
   ]
  },
  {
   "cell_type": "markdown",
   "id": "d04257fc-4e07-44dd-abc5-f847ee6d2c52",
   "metadata": {},
   "source": [
    "We kunnen een **willekeurig aantal** positionele argumenten specificeren door een sterparameter naam te gebruiken:"
   ]
  },
  {
   "cell_type": "code",
   "execution_count": 2,
   "id": "f0c6d268-0cff-4630-89ff-9a9854d27a4c",
   "metadata": {
    "tags": []
   },
   "outputs": [],
   "source": [
    "def som(*args):\n",
    "    sum = 0\n",
    "    for number in args:\n",
    "        sum += number\n",
    "    return sum        "
   ]
  },
  {
   "cell_type": "code",
   "execution_count": 3,
   "id": "19db89c8-76a1-4863-a1e2-0092219c2609",
   "metadata": {
    "tags": []
   },
   "outputs": [
    {
     "data": {
      "text/plain": [
       "45"
      ]
     },
     "execution_count": 3,
     "metadata": {},
     "output_type": "execute_result"
    }
   ],
   "source": [
    "som(1,2,3,4,5,6,7,8,9)"
   ]
  },
  {
   "cell_type": "markdown",
   "id": "d3bbdcd7-46c7-43cb-96c1-9656f3b29dff",
   "metadata": {},
   "source": [
    "Je kan **geen positionele argumenten** specificeren **nadat** een sterparameter is gedefinieerd:"
   ]
  },
  {
   "cell_type": "code",
   "execution_count": 4,
   "id": "3143cc09-b970-4ac2-9dc2-96980fe92324",
   "metadata": {
    "tags": []
   },
   "outputs": [],
   "source": [
    "def som(*args, multiplicator=1, b, c, d, e, f):\n",
    "    sum = 0\n",
    "    for number in args:\n",
    "        sum += number\n",
    "    return sum*multiplicator      "
   ]
  },
  {
   "cell_type": "code",
   "execution_count": 5,
   "id": "55781d29-8b96-4ef2-802d-7cc256c2570f",
   "metadata": {
    "tags": []
   },
   "outputs": [
    {
     "ename": "TypeError",
     "evalue": "som() missing 5 required keyword-only arguments: 'b', 'c', 'd', 'e', and 'f'",
     "output_type": "error",
     "traceback": [
      "\u001b[0;31m---------------------------------------------------------------------------\u001b[0m",
      "\u001b[0;31mTypeError\u001b[0m                                 Traceback (most recent call last)",
      "Cell \u001b[0;32mIn[5], line 1\u001b[0m\n\u001b[0;32m----> 1\u001b[0m \u001b[43msom\u001b[49m\u001b[43m(\u001b[49m\u001b[38;5;241;43m1\u001b[39;49m\u001b[43m,\u001b[49m\u001b[38;5;241;43m2\u001b[39;49m\u001b[43m,\u001b[49m\u001b[38;5;241;43m3\u001b[39;49m\u001b[43m,\u001b[49m\u001b[38;5;241;43m4\u001b[39;49m\u001b[43m,\u001b[49m\u001b[38;5;241;43m5\u001b[39;49m\u001b[43m,\u001b[49m\u001b[38;5;241;43m6\u001b[39;49m\u001b[43m,\u001b[49m\u001b[38;5;241;43m7\u001b[39;49m\u001b[43m,\u001b[49m\u001b[38;5;241;43m8\u001b[39;49m\u001b[43m,\u001b[49m\u001b[38;5;241;43m9\u001b[39;49m\u001b[43m)\u001b[49m\n",
      "\u001b[0;31mTypeError\u001b[0m: som() missing 5 required keyword-only arguments: 'b', 'c', 'd', 'e', and 'f'"
     ]
    }
   ],
   "source": [
    "som(1,2,3,4,5,6,7,8,9)"
   ]
  },
  {
   "cell_type": "code",
   "execution_count": 6,
   "id": "ae738677-dcf1-4c9e-9c4b-0722024f07ef",
   "metadata": {},
   "outputs": [
    {
     "ename": "SyntaxError",
     "evalue": "positional argument follows keyword argument (2960175772.py, line 1)",
     "output_type": "error",
     "traceback": [
      "\u001b[0;36m  Cell \u001b[0;32mIn[6], line 1\u001b[0;36m\u001b[0m\n\u001b[0;31m    som(1,2,3,4,multiplicator=4,5,6,7,8,9)\u001b[0m\n\u001b[0m                                         ^\u001b[0m\n\u001b[0;31mSyntaxError\u001b[0m\u001b[0;31m:\u001b[0m positional argument follows keyword argument\n"
     ]
    }
   ],
   "source": [
    "som(1,2,3,4,multiplicator=4,5,6,7,8,9)"
   ]
  },
  {
   "cell_type": "markdown",
   "id": "f7a4db96-b54b-406e-a8fd-12c67a8806cd",
   "metadata": {
    "tags": []
   },
   "source": [
    "Je kan de *args gebruiken om aan te geven dat alle argumenten die erna komen, named moeten zijn!"
   ]
  },
  {
   "cell_type": "code",
   "execution_count": 17,
   "id": "d3790b1b-e9e9-4e89-b53d-dfd5ab4a4fe3",
   "metadata": {
    "tags": []
   },
   "outputs": [],
   "source": [
    "def som(a, b, *other, c, d):\n",
    "    return a+b+c+d"
   ]
  },
  {
   "cell_type": "code",
   "execution_count": 18,
   "id": "5d64e7b8-a4c6-47f1-a704-a5fd32f1cd9c",
   "metadata": {
    "tags": []
   },
   "outputs": [
    {
     "data": {
      "text/plain": [
       "10"
      ]
     },
     "execution_count": 18,
     "metadata": {},
     "output_type": "execute_result"
    }
   ],
   "source": [
    "som(1,2, c=3, d=4)"
   ]
  },
  {
   "cell_type": "markdown",
   "id": "b03b8111-df77-4665-b212-b0c02ed9bcf4",
   "metadata": {
    "tags": []
   },
   "source": [
    "Maar dit werkt niet:"
   ]
  },
  {
   "cell_type": "code",
   "execution_count": 20,
   "id": "eb38e20f-f326-4be8-b1ef-c402f2a981b1",
   "metadata": {
    "tags": []
   },
   "outputs": [
    {
     "data": {
      "text/plain": [
       "11"
      ]
     },
     "execution_count": 20,
     "metadata": {},
     "output_type": "execute_result"
    }
   ],
   "source": [
    "som(1,2,3,4, c=4, d=4)"
   ]
  },
  {
   "cell_type": "markdown",
   "id": "dec42daa-b345-49cc-873b-025b032a09a5",
   "metadata": {
    "tags": []
   },
   "source": [
    "#### Waarom dit werkt: Unpacking"
   ]
  },
  {
   "cell_type": "markdown",
   "id": "774cc7b5-4575-4711-ab17-6419b09bebca",
   "metadata": {},
   "source": [
    "Iterables bevatten meerdere waarden.  Unpacking is het 'uitpakken' van de inhoud ervan.  In plaats van een iterable (waar je normaal over kan itereren) krijg je nu afzonderlijke argumenten.  Dit gebeurt ook bij de * en ** argumenten bij functies."
   ]
  },
  {
   "cell_type": "code",
   "execution_count": 21,
   "id": "d18b9773-f87c-47a7-99b8-18d8d2d9607e",
   "metadata": {
    "tags": []
   },
   "outputs": [],
   "source": [
    "lijst = [0,1,2,3,4,5]"
   ]
  },
  {
   "cell_type": "code",
   "execution_count": 24,
   "id": "60f47836-3f6d-411b-b248-0435613fbc80",
   "metadata": {
    "tags": []
   },
   "outputs": [
    {
     "name": "stdout",
     "output_type": "stream",
     "text": [
      "0 1 2 3 4 5\n"
     ]
    }
   ],
   "source": [
    "print(*lijst)"
   ]
  },
  {
   "cell_type": "markdown",
   "id": "6c84c33a-a7b0-45ef-a42c-4e38c133805c",
   "metadata": {},
   "source": [
    "hetzelfde voor **kwargs die dictionaries gebruiken:"
   ]
  },
  {
   "cell_type": "code",
   "execution_count": 25,
   "id": "8034559a-47a2-4b09-9d84-ed5f9a226e8a",
   "metadata": {
    "tags": []
   },
   "outputs": [
    {
     "name": "stdout",
     "output_type": "stream",
     "text": [
      "Naam: Alice, Leeftijd: 30, Stad: Kortrijk\n"
     ]
    }
   ],
   "source": [
    "# Een voorbeeld dictionary\n",
    "persoon = {\n",
    "    \"naam\": \"Alice\",\n",
    "    \"leeftijd\": 30,\n",
    "    \"stad\": \"Kortrijk\"\n",
    "}\n",
    "\n",
    "# Unpacking van de dictionary in een functieaanroep\n",
    "def introduceer(naam, leeftijd, stad):\n",
    "    print(f\"Naam: {naam}, Leeftijd: {leeftijd}, Stad: {stad}\")\n",
    "\n",
    "# Aanroep van de functie met unpacking van de dictionary\n",
    "introduceer(**persoon)"
   ]
  },
  {
   "cell_type": "markdown",
   "id": "061cfb82-e068-4e9b-bde0-c55a6ec7bb76",
   "metadata": {
    "tags": []
   },
   "source": [
    "Indien we dit met als argument de gewone (niet unpacked) dictionary zouden proberen, dan krijgt de introduceer functie slechts 1 argument, terwijl er 3 worden verwacht:"
   ]
  },
  {
   "cell_type": "code",
   "execution_count": 13,
   "id": "0e30638c-01f0-4b72-b56e-36fd3552595f",
   "metadata": {
    "tags": []
   },
   "outputs": [
    {
     "ename": "TypeError",
     "evalue": "introduceer() missing 2 required positional arguments: 'leeftijd' and 'stad'",
     "output_type": "error",
     "traceback": [
      "\u001b[0;31m---------------------------------------------------------------------------\u001b[0m",
      "\u001b[0;31mTypeError\u001b[0m                                 Traceback (most recent call last)",
      "Cell \u001b[0;32mIn[13], line 2\u001b[0m\n\u001b[1;32m      1\u001b[0m \u001b[38;5;66;03m# Aanroep van de functie zonder unpacking van de dictionary\u001b[39;00m\n\u001b[0;32m----> 2\u001b[0m \u001b[43mintroduceer\u001b[49m\u001b[43m(\u001b[49m\u001b[43mpersoon\u001b[49m\u001b[43m)\u001b[49m\n",
      "\u001b[0;31mTypeError\u001b[0m: introduceer() missing 2 required positional arguments: 'leeftijd' and 'stad'"
     ]
    }
   ],
   "source": [
    "# Aanroep van de functie zonder unpacking van de dictionary\n",
    "introduceer(persoon)"
   ]
  },
  {
   "cell_type": "markdown",
   "id": "72c96a6a",
   "metadata": {},
   "source": [
    "#### Keyword-Only Argumenten: **kwargs\n",
    "\n",
    "Python 3 introduceerde *keyword-only* argumenten, die alleen door hun naam kunnen worden aangegeven en niet positioneel.  Ze kunnen wel na (als aanvulling op) positionele argumenten komen."
   ]
  },
  {
   "cell_type": "code",
   "execution_count": 26,
   "id": "3f3e1121",
   "metadata": {},
   "outputs": [
    {
     "name": "stdout",
     "output_type": "stream",
     "text": [
      "Naam: Alice, Leeftijd: 30, Stad: Amsterdam\n"
     ]
    }
   ],
   "source": [
    "def profiel(naam, *, leeftijd, stad):\n",
    "    print(f\"Naam: {naam}, Leeftijd: {leeftijd}, Stad: {stad}\")\n",
    "\n",
    "profiel(\"Alice\", leeftijd=30, stad=\"Amsterdam\")"
   ]
  },
  {
   "cell_type": "code",
   "execution_count": 27,
   "id": "28e9e13b-54c1-4486-975e-9704afdeaed3",
   "metadata": {},
   "outputs": [
    {
     "ename": "TypeError",
     "evalue": "profiel() takes 1 positional argument but 2 positional arguments (and 1 keyword-only argument) were given",
     "output_type": "error",
     "traceback": [
      "\u001b[0;31m---------------------------------------------------------------------------\u001b[0m",
      "\u001b[0;31mTypeError\u001b[0m                                 Traceback (most recent call last)",
      "Cell \u001b[0;32mIn[27], line 1\u001b[0m\n\u001b[0;32m----> 1\u001b[0m \u001b[43mprofiel\u001b[49m\u001b[43m(\u001b[49m\u001b[38;5;124;43m\"\u001b[39;49m\u001b[38;5;124;43mAlice\u001b[39;49m\u001b[38;5;124;43m\"\u001b[39;49m\u001b[43m,\u001b[49m\u001b[43m \u001b[49m\u001b[38;5;241;43m30\u001b[39;49m\u001b[43m,\u001b[49m\u001b[43m \u001b[49m\u001b[43mstad\u001b[49m\u001b[38;5;241;43m=\u001b[39;49m\u001b[38;5;124;43m\"\u001b[39;49m\u001b[38;5;124;43mAmsterdam\u001b[39;49m\u001b[38;5;124;43m\"\u001b[39;49m\u001b[43m)\u001b[49m\n",
      "\u001b[0;31mTypeError\u001b[0m: profiel() takes 1 positional argument but 2 positional arguments (and 1 keyword-only argument) were given"
     ]
    }
   ],
   "source": [
    "profiel(\"Alice\", 30, stad=\"Amsterdam\")"
   ]
  },
  {
   "cell_type": "markdown",
   "id": "86f4271a",
   "metadata": {},
   "source": [
    "\n",
    "## Lambda Functies\n",
    "\n",
    "Lambda functies zijn kleine anonieme functies, gedefinieerd met het `lambda` keyword. Ze kunnen meerdere argumenten hebben, maar slechts één expressie.  Ze retourneren een functie, die we aan een variabele kunnen toekennen - net zoals we een functie konden toekennen aan een andere variabele.\n"
   ]
  },
  {
   "cell_type": "code",
   "execution_count": 15,
   "id": "126db322-5e82-491f-bf35-ad333705a772",
   "metadata": {
    "tags": []
   },
   "outputs": [
    {
     "data": {
      "text/plain": [
       "<function __main__.<lambda>(x)>"
      ]
     },
     "execution_count": 15,
     "metadata": {},
     "output_type": "execute_result"
    }
   ],
   "source": [
    "lambda x:x+1"
   ]
  },
  {
   "cell_type": "markdown",
   "id": "04158207-0793-4566-a519-dac4289ab5e5",
   "metadata": {},
   "source": [
    "Zoals je kan zien werd een functie geretourneerd.  In tegenstelling tot een `def`-verklaring kent het echter de functie niet toe aan een symbool, noch geeft het de functie een naam - het maakt alleen het symbool aan en geeft het terug. Het is aan ons om het toe te wijzen aan een symbool (als we dat willen):"
   ]
  },
  {
   "cell_type": "code",
   "execution_count": 16,
   "id": "0a0c4f86-593e-4373-b389-5922ffd50efa",
   "metadata": {
    "tags": []
   },
   "outputs": [],
   "source": [
    "pluseen = lambda x: x+1"
   ]
  },
  {
   "cell_type": "code",
   "execution_count": 17,
   "id": "4ae54eaa-ff71-4518-8a41-0e9d177e753c",
   "metadata": {
    "tags": []
   },
   "outputs": [
    {
     "data": {
      "text/plain": [
       "2"
      ]
     },
     "execution_count": 17,
     "metadata": {},
     "output_type": "execute_result"
    }
   ],
   "source": [
    "pluseen(1)"
   ]
  },
  {
   "cell_type": "markdown",
   "id": "bc4e37b4-e70a-41f5-83fb-0c3160796111",
   "metadata": {},
   "source": [
    "In tegenstelling tot een functie gedefinieerd met een `def` statement, bevatten lambdas geen codeblokken - ze definiëren in feite alleen de parameters en een enkele expressie die wordt geëvalueerd en geretourneerd wanneer de functie wordt aangeroepen. Elke lambda-functie kan ook worden geschreven als een \"standaard\" functie.  \n",
    "De parametersdefinitie van een lambda volgt dezelfde regels als \"reguliere\" functies - we kunnen standaardwaarden instellen, keyword-only argumenten, `*` en `**`."
   ]
  },
  {
   "cell_type": "code",
   "execution_count": 18,
   "id": "5f57c26d-c83f-49c0-b9ed-02cf1b66b0ef",
   "metadata": {
    "tags": []
   },
   "outputs": [],
   "source": [
    "f = lambda a, *args: a * max(args)"
   ]
  },
  {
   "cell_type": "code",
   "execution_count": 19,
   "id": "6024bafd",
   "metadata": {
    "tags": []
   },
   "outputs": [
    {
     "data": {
      "text/plain": [
       "20"
      ]
     },
     "execution_count": 19,
     "metadata": {},
     "output_type": "execute_result"
    }
   ],
   "source": [
    "f(10, 1, 2, -1)"
   ]
  },
  {
   "cell_type": "markdown",
   "id": "9da4a752",
   "metadata": {},
   "source": [
    "\n",
    "## Functie Scope en Levensduur\n",
    "\n",
    "Elke functie in Python heeft een eigen scope, wat betekent dat variabelen die binnen een functie worden gedefinieerd, alleen binnen die functie toegankelijk zijn.\n"
   ]
  },
  {
   "cell_type": "code",
   "execution_count": 2,
   "id": "f7c7da45",
   "metadata": {
    "tags": []
   },
   "outputs": [
    {
     "name": "stdout",
     "output_type": "stream",
     "text": [
      "10\n",
      "15\n"
     ]
    }
   ],
   "source": [
    "def vermenigvuldiger(factor):\n",
    "    def inner_func(getal):\n",
    "        # print(factor)\n",
    "        return getal * factor\n",
    "    return inner_func\n",
    "\n",
    "dubbel = vermenigvuldiger(2)\n",
    "print(dubbel(5))\n",
    "\n",
    "tripel = vermenigvuldiger(3)\n",
    "print(tripel(5))"
   ]
  },
  {
   "cell_type": "markdown",
   "id": "795520d7-ee6b-4d42-bfce-b2d17d288f20",
   "metadata": {},
   "source": [
    "Variabelen zijn niet beschikbaar buiten de scope van de functie..."
   ]
  },
  {
   "cell_type": "code",
   "execution_count": 3,
   "id": "40c2d815-bede-4ad3-8504-87d093b9aa7e",
   "metadata": {
    "tags": []
   },
   "outputs": [
    {
     "data": {
      "text/plain": [
       "10"
      ]
     },
     "execution_count": 3,
     "metadata": {},
     "output_type": "execute_result"
    }
   ],
   "source": [
    "def dupliceer(getal):\n",
    "    a = 2\n",
    "    return getal*a\n",
    "\n",
    "dupliceer(5)"
   ]
  },
  {
   "cell_type": "code",
   "execution_count": 38,
   "id": "c4e23c00-415c-4325-afc3-a3eb50217f57",
   "metadata": {
    "tags": []
   },
   "outputs": [
    {
     "name": "stdout",
     "output_type": "stream",
     "text": [
      "10\n",
      "3\n"
     ]
    }
   ],
   "source": [
    "a = 3\n",
    "\n",
    "def dupliceer(getal):\n",
    "    a = 2\n",
    "    return getal*a\n",
    "\n",
    "print(dupliceer(5))\n",
    "print(a)"
   ]
  },
  {
   "cell_type": "markdown",
   "id": "3a35b6bb-8c64-459a-b120-82e7f886b188",
   "metadata": {},
   "source": [
    "Omgekeerd is het wel zo dat variabelen die in een outer scope beschikbaar zijn, ook in de inner scope beschikbaar zijn:"
   ]
  },
  {
   "cell_type": "code",
   "execution_count": 29,
   "id": "6e9c216e-33b9-4481-b853-39efafc959b7",
   "metadata": {
    "tags": []
   },
   "outputs": [
    {
     "data": {
      "text/plain": [
       "10"
      ]
     },
     "execution_count": 29,
     "metadata": {},
     "output_type": "execute_result"
    }
   ],
   "source": [
    "a = 2\n",
    "\n",
    "def dupliceer(getal):\n",
    "    return getal*a\n",
    "\n",
    "dupliceer(5)"
   ]
  },
  {
   "cell_type": "markdown",
   "id": "625d32b3-326c-4d1a-a67b-b239c00bbb52",
   "metadata": {},
   "source": [
    "a zit in de module scope, en is dus in gans deze file beschikbaar.  Je kan a niet **zomaar** wijzigen binnenin de functie:"
   ]
  },
  {
   "cell_type": "code",
   "execution_count": 30,
   "id": "3900ada6-d0ac-4f55-8b31-9b634fd964e7",
   "metadata": {
    "tags": []
   },
   "outputs": [
    {
     "name": "stdout",
     "output_type": "stream",
     "text": [
      "15\n",
      "a: 2\n"
     ]
    }
   ],
   "source": [
    "a = 2\n",
    "\n",
    "def dupliceer(getal):\n",
    "    a = 3\n",
    "    return getal*a\n",
    "\n",
    "print(dupliceer(5))\n",
    "print(f\"a: {a}\")"
   ]
  },
  {
   "cell_type": "markdown",
   "id": "875352f9-9604-4387-aef4-5079814b07f2",
   "metadata": {},
   "source": [
    "Om a te wijzigen moet je specifiek aangeven dat de a die je in de functie zelf definieert, eigenlijk de global a is."
   ]
  },
  {
   "cell_type": "code",
   "execution_count": 8,
   "id": "e22fdbe7-2e1c-4c63-93a7-57c42d359fb5",
   "metadata": {
    "tags": []
   },
   "outputs": [
    {
     "name": "stdout",
     "output_type": "stream",
     "text": [
      "15\n",
      "a: 3\n"
     ]
    }
   ],
   "source": [
    "a = 2\n",
    "\n",
    "def dupliceer(getal):\n",
    "    global a\n",
    "    a = 3\n",
    "    return getal*a\n",
    "\n",
    "print(dupliceer(5))\n",
    "print(f\"a: {a}\")"
   ]
  },
  {
   "cell_type": "markdown",
   "id": "bf837bf7-1ed4-432f-ae43-c94097d5d2f5",
   "metadata": {},
   "source": [
    "En is nog een niveau tussen global en local: nonlocal.  Dit gaat momenteel nog iets te ver..."
   ]
  },
  {
   "cell_type": "code",
   "execution_count": null,
   "id": "f39f234d-e9e7-4fde-b667-ffbcaf518820",
   "metadata": {},
   "outputs": [],
   "source": []
  }
 ],
 "metadata": {
  "kernelspec": {
   "display_name": "Python 3 (ipykernel)",
   "language": "python",
   "name": "python3"
  },
  "language_info": {
   "codemirror_mode": {
    "name": "ipython",
    "version": 3
   },
   "file_extension": ".py",
   "mimetype": "text/x-python",
   "name": "python",
   "nbconvert_exporter": "python",
   "pygments_lexer": "ipython3",
   "version": "3.11.6"
  }
 },
 "nbformat": 4,
 "nbformat_minor": 5
}
