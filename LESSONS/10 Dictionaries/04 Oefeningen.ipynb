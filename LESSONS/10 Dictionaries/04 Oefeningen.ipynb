{
 "cells": [
  {
   "cell_type": "markdown",
   "id": "483557d0-e8bb-4f68-b5b2-432dc34153ed",
   "metadata": {},
   "source": [
    "![alt text](../../pythonexposed-high-resolution-logo-black.jpg \"Optionele titel\")"
   ]
  },
  {
   "cell_type": "markdown",
   "id": "corporate-husband",
   "metadata": {},
   "source": [
    "### Oefeningen (grotendeels uit Pythonboek)"
   ]
  },
  {
   "cell_type": "markdown",
   "id": "0bee2c6e-972c-490f-9032-ea4c1743566a",
   "metadata": {},
   "source": [
    "#### Vraag 1"
   ]
  },
  {
   "cell_type": "markdown",
   "id": "b59d4d6d-1a28-4004-8998-21afd7e569b0",
   "metadata": {},
   "source": [
    "De code hieronder bevat een list met woorden. Bouw een dictionary die al deze\n",
    "woorden als key heeft, en als waarde hoe vaak het woord voorkomt in de list. Print daarna\n",
    "de woorden met hun hoeveelheden."
   ]
  },
  {
   "cell_type": "code",
   "execution_count": 6,
   "id": "90960da2-4d4d-4f72-9e19-9dcbdef30229",
   "metadata": {
    "tags": []
   },
   "outputs": [],
   "source": [
    "woordlist = [\" appel \",\" doerian \",\" banaan \",\" doerian \",\" appel \",\"kers\", \"kers\",\" mango \",\" appel \",\" appel \",\"kers\",\" doerian \",\" banaan \", \" appel \",\" appel \",\" appel \",\" appel \",\" banaan \",\" appel \"]"
   ]
  },
  {
   "cell_type": "markdown",
   "id": "26d942a3-fa0e-4fd6-8fcf-703a044c64eb",
   "metadata": {
    "tags": []
   },
   "source": [
    "#### Vraag 2"
   ]
  },
  {
   "cell_type": "markdown",
   "id": "1770d602-a05d-46e2-b06d-a7abbdf3802d",
   "metadata": {},
   "source": [
    "De code hieronder bevat een string met woorden gescheiden door komma’s.\n",
    "Bouw een dictionary die al deze woorden als key heeft, en als waarde hoe vaak het woord\n",
    "voorkomt in de list. Print daarna de woorden met hun hoeveelheden."
   ]
  },
  {
   "cell_type": "code",
   "execution_count": 9,
   "id": "b366a5e5-386e-4a71-9ea3-853ce3339cda",
   "metadata": {
    "tags": []
   },
   "outputs": [],
   "source": [
    "tekst = \"appel ,doerian ,banaan ,doerian ,appel ,kers ,kers ,mango ,\" + \\\n",
    "\"appel ,appel ,kers ,doerian ,banaan ,appel ,appel ,appel ,\" + \\\n",
    "\"appel ,banaan , appel \""
   ]
  },
  {
   "cell_type": "markdown",
   "id": "cb01154f-a6bc-4e2a-806e-111503c19581",
   "metadata": {
    "tags": []
   },
   "source": [
    "#### Vraag 3"
   ]
  },
  {
   "cell_type": "markdown",
   "id": "1d80d194-9d6b-454f-bae0-5ef97bc956d4",
   "metadata": {},
   "source": [
    "De code hieronder bevat een kleine dictionary die vertalingen bevat van Engelse woorden naar Nederlandse. Schrijf een programma dat met behulp van deze dictionary een woord-voor-woord vertaling maakt van de tekst eronder. Een woord dat niet in de dictionary voorkomt, vertaal je niet. De dictionary gebruikt alleen kleine letters, en je kunt de hele tekst naar kleine letters omzetten voordat je de vertaling maakt. Het is aardig als je interpunctie in stand houdt in de vertaling, maar je mag die ook weglaten (het is best veel werk om de interpunctie intact te houden en het heeft niks van doen met dictionaries, dus het is niet belangrijk – het is ook veel gemakkelijker om dit te doen als je eenmaal geleerd hebt om te gaan met reguliere expressies). Ik besef heel goed dat de vertaling uitermate slecht is, maar daar gaat het niet om."
   ]
  },
  {
   "cell_type": "code",
   "execution_count": 12,
   "id": "71c374ac-8269-46e6-a07c-2ad375a95089",
   "metadata": {
    "tags": []
   },
   "outputs": [],
   "source": [
    "engels_nederlands = { \"last\":\" laatst \", \"week\":\"week\", \"the\":\"de\", \" royal \":\" koninklijk \", \" festival \":\" feest \", \"hall\":\"hal\", \"saw\":\"zaag\", \" first \":\" eerst \", \" performance \":\" optreden \", \"of\":\"van\", \"a\":\"een\", \n",
    "                     \"new\":\" nieuw \", \" symphony \":\" symphonie \", \"by\":\"bij\", \"one\":\"een\", \" world \":\" wereld \", \" leading \":\" leidend \", \" modern \":\" modern \", \" composer \":\" componist \",\" composers \":\" componisten \", \n",
    "                     \"two\":\"twee\", \"shed\":\" schuur \",\" sheds \":\" schuren \" }\n",
    "\n",
    "zin = \"Last week The Royal Festival Hall saw the first \\\n",
    "performance of a new symphony by one of the world ' s leading \\\n",
    "modern composers , Arthur \\\"Two - Sheds \\\" Jackson .\""
   ]
  },
  {
   "cell_type": "markdown",
   "id": "321dccba-97da-41c7-baa9-7e34f583580c",
   "metadata": {
    "tags": []
   },
   "source": [
    "#### Vraag 4"
   ]
  },
  {
   "cell_type": "markdown",
   "id": "a890c673-492c-44c3-af0b-6de0bf4ef59a",
   "metadata": {},
   "source": [
    "Schrijf een programma dat een tekst neemt (bijvoorbeeld de tekst hieronder), de tekst splitst in woorden (waarbij alles dat geen letter is beschouwd wordt als een woord-scheider), en een dictionary bouwt die voor ieder woord (case-insensitive) opslaat\n",
    "hoe vaak het woord voorkomt in de tekst. Print dan alle woorden met hun hoeveelheden in alfabetische volgorde."
   ]
  },
  {
   "cell_type": "code",
   "execution_count": 14,
   "id": "8a303064-a75f-42aa-8816-1693394b821a",
   "metadata": {
    "tags": []
   },
   "outputs": [],
   "source": [
    "tekst = \"\"\" Kapper Knap , de knappe kapper , knipt en kapt heel knap , maar de knecht van kapper Knap , de knappe kapper , knipt en kapt nog knapper dan kapper Knap , de knappe kapper .\"\"\""
   ]
  },
  {
   "cell_type": "markdown",
   "id": "2823dd05-9f24-4f6b-a47a-ad4c2af93c47",
   "metadata": {},
   "source": [
    "#### Vraag 5"
   ]
  },
  {
   "cell_type": "markdown",
   "id": "ede009e2-dacc-4646-8956-7bf2dea87f8d",
   "metadata": {},
   "source": [
    "De code hieronder bevat een list van films. Voor iedere film is er ook een list met scores. Verander deze code zo dat het alle data opslaat in één dictionary, en gebruik dan de dictionary om de gemiddelde score voor iedere film af te drukken, afgerond op één decimaal."
   ]
  },
  {
   "cell_type": "code",
   "execution_count": 15,
   "id": "950cd5c9-c3cf-4eb1-953a-1b4c739f7401",
   "metadata": {
    "tags": []
   },
   "outputs": [],
   "source": [
    "films = [\" Monty Python and the Holy Grail \", \" Monty Python ' s Life of Brian \", \" Monty Python ' s Meaning of Life\", \"And Now For Something Completely Different \"]\n",
    "\n",
    "grail_scores = [ 9, 10, 9.5 , 8.5 , 3, 7.5 ,8 ]\n",
    "brian_scores = [ 10, 10, 0, 9, 1, 8, 7.5 , 8, 6, 9 ]\n",
    "life_scores = [ 7, 6, 5 ]\n",
    "different_scores = [ 6, 5, 6, 6 ]"
   ]
  },
  {
   "cell_type": "markdown",
   "id": "romance-tracker",
   "metadata": {},
   "source": [
    "#### Vraag 6"
   ]
  },
  {
   "cell_type": "markdown",
   "id": "empty-slovenia",
   "metadata": {},
   "source": [
    "Gebruik een dictionary om de frequentie van de tekens `a-z A-Z` in een gegeven string te tellen.\n",
    "Je zou je code zo algemeen mogelijk moeten schrijven, zodat deze werkt met elke tekenreeks van elke gegeven lengte.\n",
    "\n",
    "Je resulterende woordenboek mag alleen keys bevatten voor karakters die ten minste één keer voorkomen (d.w.z. er mogen geen karakters met een telling van nul aanwezig zijn.)\n",
    "\n",
    "Hint: je wilt waarschijnlijk de ord() functie gebruiken die we eerder hebben bestudeerd samen met de Unicode-karaktercodes voor a, z, A en Z."
   ]
  },
  {
   "cell_type": "markdown",
   "id": "thousand-handling",
   "metadata": {},
   "source": [
    "Bijvoorbeeld, als de gegeven string is:\n",
    "```\n",
    "s = 'Aa, Bb - A a B C'\n",
    "```\n",
    "\n",
    "dan moet de resulterende dictionary de volgende zijn:\n",
    "\n",
    "```\n",
    "{\n",
    "    'A': 2, \n",
    "    'a': 2, \n",
    "    'B': 2, \n",
    "    'b': 1, \n",
    "    'C': 1\n",
    "}\n",
    "```\n",
    "\n",
    "(Bemerk dat de volgorde van de keys in de dictionary niet belangrijk is)"
   ]
  },
  {
   "cell_type": "markdown",
   "id": "considerable-orchestra",
   "metadata": {},
   "source": [
    "Hier zijn twee voorbeeldstrings die je kunt gebruiken:"
   ]
  },
  {
   "cell_type": "code",
   "execution_count": 16,
   "id": "baking-logic",
   "metadata": {
    "tags": []
   },
   "outputs": [],
   "source": [
    "s1 = \"\"\"\n",
    "\"In the end, it's not the years in your life that count. It's the life in your years.\"\n",
    "― Abraham Lincoln, speech in the Illinois General Assembly\n",
    "\"\"\"\n",
    "\n",
    "s2 = \"\"\"\n",
    "\"Be the change that you wish to see in the world.\"\n",
    "― Mahatma Gandhi, a statement before the concept of peaceful resistance\n",
    "\"\"\""
   ]
  },
  {
   "cell_type": "markdown",
   "id": "double-engine",
   "metadata": {},
   "source": [
    "#### Vraag 7"
   ]
  },
  {
   "cell_type": "markdown",
   "id": "finnish-villa",
   "metadata": {},
   "source": [
    "Gegeven de volgende dictionaries:"
   ]
  },
  {
   "cell_type": "code",
   "execution_count": 17,
   "id": "racial-medline",
   "metadata": {
    "tags": []
   },
   "outputs": [],
   "source": [
    "d1 = {'a': 10, 'b': 20, 'c': 30}\n",
    "d2 = {'d': 100, 'e': 200, 'f': 300}\n",
    "d3 = {'f': 30, 'g': 40}"
   ]
  },
  {
   "cell_type": "markdown",
   "id": "north-information",
   "metadata": {},
   "source": [
    "Construeer twee lijsten, één met alle keys van beide dictionaries, en één met alle values van elke dictionary. (Het is OK als values of keys herhaald worden in de lijsten)."
   ]
  },
  {
   "cell_type": "markdown",
   "id": "automotive-railway",
   "metadata": {},
   "source": [
    "In het bovenstaande voorbeeld zou je uiteindelijk twee lijsten moeten hebben met de elementen:\n",
    "```\n",
    "'a', 'b', 'c', 'd', 'e', 'f', 'f', 'g'\n",
    "```\n",
    "\n",
    "en\n",
    "\n",
    "```\n",
    "10, 20, 30, 100, 200, 300, 30, 40\n",
    "```"
   ]
  },
  {
   "cell_type": "markdown",
   "id": "military-tuning",
   "metadata": {},
   "source": [
    "Merk op dat de volgorde waarin de elementen in elke lijst verschijnen niet belangrijk is."
   ]
  },
  {
   "cell_type": "markdown",
   "id": "ca0a7464-e5f8-4df8-93b0-0121c660fde3",
   "metadata": {},
   "source": [
    "#### Vraag 8 - Een bestaande dictionary lezen en verwerken"
   ]
  },
  {
   "cell_type": "code",
   "execution_count": 3,
   "id": "44c1bdf2-aab2-49fa-abdd-217c0d4a4297",
   "metadata": {},
   "outputs": [],
   "source": [
    "# inlezen van een json file\n",
    "import json\n",
    "\n",
    "with open('dev-v2.0.json', 'r') as file:\n",
    "    squad_data = json.load(file)"
   ]
  },
  {
   "cell_type": "markdown",
   "id": "ac6b6fc3-ceaa-4a19-84fb-f5c71c7abfc8",
   "metadata": {},
   "source": [
    "We vertrekken van de stanford question answering dataset.  Gebruik de informatie in deze dataset om de volgende uitdagingen op te lossen:"
   ]
  },
  {
   "cell_type": "markdown",
   "id": "b8c65597-23a4-42ed-9792-9be87bd3d73a",
   "metadata": {},
   "source": [
    "- **Vraag-antwoorden koppelen**  \n",
    "\n",
    "Maak een dictionary waarbij elke vraag (ID) wordt gekoppeld aan een lijst van mogelijke antwoorden. Gebruik alleen de question, id, en answers waarden om de dictionary te vullen.  Je hebt dus een dictionary met als key een ID en als value de bijhorende question-answer paren."
   ]
  },
  {
   "cell_type": "code",
   "execution_count": null,
   "id": "7775332e-4038-422e-a6e1-a3a93182aa5d",
   "metadata": {},
   "outputs": [],
   "source": []
  },
  {
   "cell_type": "markdown",
   "id": "0e7580ed-1f46-402d-bbc9-540e7f941e12",
   "metadata": {},
   "source": [
    "- **Onmogelijke vragen identificeren**\n",
    "  \n",
    "Maak een dictionary waarin vragen die geen antwoorden hebben (waar is_impossible op True staat) worden gegroepeerd per title. Je hebt dus de title als key, en de verschillende vragen zonder antwoord als values (een list)."
   ]
  },
  {
   "cell_type": "code",
   "execution_count": null,
   "id": "7d4e1343-feb6-4e6b-a968-a193f2538aef",
   "metadata": {},
   "outputs": [],
   "source": []
  },
  {
   "cell_type": "markdown",
   "id": "d6bb0e0f-b614-42b3-a077-d085dff4a480",
   "metadata": {},
   "source": [
    "- **Titel en unieke antwoorden**\n",
    "Ontwikkel een dictionary waarbij voor elke title een set van unieke antwoorden is opgenomen (om duplicaten te verwijderen)."
   ]
  },
  {
   "cell_type": "code",
   "execution_count": null,
   "id": "19b8415c-fb1d-4a33-84fb-ee29645b3b99",
   "metadata": {},
   "outputs": [],
   "source": []
  }
 ],
 "metadata": {
  "kernelspec": {
   "display_name": "Python 3 (ipykernel)",
   "language": "python",
   "name": "python3"
  },
  "language_info": {
   "codemirror_mode": {
    "name": "ipython",
    "version": 3
   },
   "file_extension": ".py",
   "mimetype": "text/x-python",
   "name": "python",
   "nbconvert_exporter": "python",
   "pygments_lexer": "ipython3",
   "version": "3.11.6"
  }
 },
 "nbformat": 4,
 "nbformat_minor": 5
}
