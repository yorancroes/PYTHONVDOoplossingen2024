{
 "cells": [
  {
   "cell_type": "markdown",
   "id": "28d7bbab-5a33-48cc-b719-7488c9d5feab",
   "metadata": {},
   "source": [
    "![alt text](../../pythonexposed-high-resolution-logo-black.jpg \"Optionele titel\")"
   ]
  },
  {
   "cell_type": "markdown",
   "id": "c6ec13c6-c477-44fe-ab41-d68ff8bd0f7e",
   "metadata": {},
   "source": [
    "### Oefening 1: Toegang tot Items  \n",
    "\n",
    "Maak een class Database die een interne dictionary gebruikt voor opslag. Implementeer:  \n",
    "\n",
    "- __getitem__: Haal een waarde op met een sleutel.\n",
    "- __setitem__: Voeg een nieuwe sleutel-waarde-paar toe.\n",
    "- __delitem__: Verwijder een sleutel-waarde-paar."
   ]
  },
  {
   "cell_type": "markdown",
   "id": "bfff703c-43d2-4c44-9472-a21a0d8ecadc",
   "metadata": {},
   "source": [
    "**voorbeeld gebruik:**  \n",
    "```python\n",
    "db = Database()  \n",
    "db[\"gebruikersnaam\"] = \"admin\"  \n",
    "print(db[\"gebruikersnaam\"])  # Output: admin  \n",
    "del db[\"gebruikersnaam\"]\n",
    "```"
   ]
  },
  {
   "cell_type": "code",
   "execution_count": 1,
   "id": "82b9620a-64ec-42b0-b48a-1cbd95949053",
   "metadata": {},
   "outputs": [],
   "source": [
    "# oplossing"
   ]
  },
  {
   "cell_type": "markdown",
   "id": "d14999d3-136a-440e-8647-af12d0e93811",
   "metadata": {},
   "source": [
    "### Oefening 2: Aangepaste Functie-objecten  \n",
    "\n",
    "Maak een class Vermenigvuldiger die een factor accepteert bij initialisatie. Implementeer:  \n",
    "\n",
    "- __call__: Maak de class \"aanroepbaar\" zodat het een waarde vermenigvuldigt met de factor.\n",
    "\n",
    "**voorbeeld gebruik:**\n",
    "```python\n",
    "vermenigvuldig = Vermenigvuldiger(3)  \n",
    "print(vermenigvuldig(10))  # Output: 30\n",
    "```"
   ]
  },
  {
   "cell_type": "code",
   "execution_count": 2,
   "id": "d4344cf6-9bbc-4e5d-9804-61793be9c673",
   "metadata": {},
   "outputs": [],
   "source": [
    "# oplossing"
   ]
  },
  {
   "cell_type": "markdown",
   "id": "6918ec67-af3d-42bc-b22a-a1c50fc40868",
   "metadata": {},
   "source": [
    "### Oefening 3: Context Manager  \n",
    "\n",
    "Maak een class Timer die een context manager implementeert om de tijd te meten tussen het begin en einde van een blok code. Gebruik:  \n",
    "\n",
    "- __enter__: Start de timer.\n",
    "- __exit__: Stop de timer en toon de verstreken tijd.\n",
    "\n",
    "**voorbeeld gebruik:**  \n",
    "```python\n",
    "with Timer():\n",
    "    for i in range(1000000):\n",
    "        pass\n",
    "```"
   ]
  },
  {
   "cell_type": "code",
   "execution_count": 3,
   "id": "acd631db-f263-4062-b29b-995f7aa1de90",
   "metadata": {},
   "outputs": [],
   "source": [
    "# oplossing"
   ]
  },
  {
   "cell_type": "markdown",
   "id": "3c543b6b-a0c0-46a4-9fbe-4f989bdaa6b3",
   "metadata": {},
   "source": [
    "### Oefening 4: __contains__  \n",
    "\n",
    "Maak een class Bibliotheek die een lijst van boeken accepteert. Implementeer:\n",
    "\n",
    "__contains__: Controleer of een bepaald boek in de bibliotheek zit.\n",
    "\n",
    "**voorbeeld gebruik:**\n",
    "```python\n",
    "bieb = Bibliotheek([\"1984\", \"Brave New World\"])\n",
    "print(\"1984\" in bieb)  # Output: True\n",
    "```"
   ]
  },
  {
   "cell_type": "code",
   "execution_count": 4,
   "id": "fdf2d44c-f76d-41f2-814a-0b4e3c4777a8",
   "metadata": {},
   "outputs": [],
   "source": [
    "# oplossing"
   ]
  },
  {
   "cell_type": "markdown",
   "id": "6c9c24ca-b344-4829-99b2-74cc978d2e88",
   "metadata": {},
   "source": [
    "### Oefening 5: __delitem__  \n",
    "\n",
    "Breid de Database-class uit oefening 1 uit zodat sleutels kunnen worden verwijderd met del."
   ]
  },
  {
   "cell_type": "code",
   "execution_count": 5,
   "id": "f5eadcda-1893-4243-a280-47f239e14ea3",
   "metadata": {},
   "outputs": [],
   "source": [
    "# oplossing"
   ]
  }
 ],
 "metadata": {
  "kernelspec": {
   "display_name": "Python 3 (ipykernel)",
   "language": "python",
   "name": "python3"
  },
  "language_info": {
   "codemirror_mode": {
    "name": "ipython",
    "version": 3
   },
   "file_extension": ".py",
   "mimetype": "text/x-python",
   "name": "python",
   "nbconvert_exporter": "python",
   "pygments_lexer": "ipython3",
   "version": "3.12.7"
  }
 },
 "nbformat": 4,
 "nbformat_minor": 5
}
