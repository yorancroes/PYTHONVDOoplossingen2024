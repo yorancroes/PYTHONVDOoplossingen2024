{
 "cells": [
  {
   "cell_type": "markdown",
   "id": "07d6b6b6-85fd-4493-bd2d-5f8b0c76cbe6",
   "metadata": {},
   "source": [
    "![alt text](../../pythonexposed-high-resolution-logo-black.jpg \"Optionele titel\")"
   ]
  },
  {
   "cell_type": "markdown",
   "id": "a9884e97-3c95-4097-8eab-8f236ae5e597",
   "metadata": {},
   "source": [
    "### Oefening 1: Dieren Simuleren\n",
    "   - Maak vier dieren aan: een leeuw, giraf, kat, en hond.\n",
    "   - Elk dier moet een geluid kunnen maken, een lengte hebben (klein, gemiddeld, groot, zeer groot) en een loopsnelheid (uitgedrukt in seconde per meter).\n",
    "   - Plaats al deze dieren in een lijst en druk voor elk dier het type, de lengte, en de loopsnelheid af."
   ]
  },
  {
   "cell_type": "code",
   "execution_count": null,
   "id": "cdfc5013-69d3-47f4-b743-d74311a620e9",
   "metadata": {},
   "outputs": [],
   "source": []
  },
  {
   "cell_type": "markdown",
   "id": "4da5bfee-4930-4437-b1da-33df45ba9224",
   "metadata": {},
   "source": [
    "### Oefening 2: Berekeningen van Figuren\n",
    "   - Maak een programma om de omtrek en oppervlakte te berekenen van de volgende figuren: vierkant, rechthoek, cirkel, driehoek.\n",
    "   - Vraag de gebruiker welk type hij/zij wil berekenen en vraag de benodigde maten op.\n",
    "   - Gebruik polymorfisme om de methoden voor elke figuur te implementeren en druk het resultaat af."
   ]
  },
  {
   "cell_type": "code",
   "execution_count": null,
   "id": "8ad84c01-ad96-414e-9334-092637448376",
   "metadata": {},
   "outputs": [],
   "source": []
  },
  {
   "cell_type": "markdown",
   "id": "f80ad093-a1b8-4717-b130-fe64bf006116",
   "metadata": {},
   "source": [
    "### Oefening 3: Wagen Invoer\n",
    "   - Vraag de gebruiker om wagens in te geven. Mogelijke types zijn: elektrische wagen, hybride, diesel, benzine.\n",
    "   - Vraag de gebruiker om een type te selecteren en dan de volgende gegevens in te geven: merk, kleur, model, verbruik, max snelheid, aantal personen.\n",
    "   - Druk de eigenschappen van elke ingevoerde wagen af.\n",
    "   - Vraag om meerdere wagens in te geven en druk vervolgens alle ingevoerde wagens per type af."
   ]
  },
  {
   "cell_type": "code",
   "execution_count": null,
   "id": "b7b4dd46-a094-43a8-a945-21d4cc50383c",
   "metadata": {},
   "outputs": [],
   "source": []
  },
  {
   "cell_type": "markdown",
   "id": "2dcd6843-00e9-4edf-a747-e1c51df4a561",
   "metadata": {},
   "source": [
    "### Oefening 4: Muziekcollectie Beheer\n",
    "   - Geef je muziekcollectie in door objecten te maken die de drager specificeren: MP3, streaming, CD, vinyl, cassette.\n",
    "   - Vul voor elk liedje het genre, de uitvoerder, de titel, en de duur in.\n",
    "   - Vraag de gebruiker wat hij/zij wil zien van de muziekcollectie: alles, of een specifiek type drager.\n",
    "   - Gebruik polymorfisme om alle liedjes van het gewenste type af te drukken."
   ]
  },
  {
   "cell_type": "code",
   "execution_count": null,
   "id": "5e7d8bb3-ab7e-46ac-90ac-81f7f46273bb",
   "metadata": {},
   "outputs": [],
   "source": []
  }
 ],
 "metadata": {
  "kernelspec": {
   "display_name": "Python 3 (ipykernel)",
   "language": "python",
   "name": "python3"
  },
  "language_info": {
   "codemirror_mode": {
    "name": "ipython",
    "version": 3
   },
   "file_extension": ".py",
   "mimetype": "text/x-python",
   "name": "python",
   "nbconvert_exporter": "python",
   "pygments_lexer": "ipython3",
   "version": "3.12.7"
  }
 },
 "nbformat": 4,
 "nbformat_minor": 5
}
