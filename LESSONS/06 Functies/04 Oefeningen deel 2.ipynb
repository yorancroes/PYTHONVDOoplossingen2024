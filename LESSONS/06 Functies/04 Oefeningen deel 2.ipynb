{
 "cells": [
  {
   "cell_type": "markdown",
   "id": "5181419e-f8d6-4d4c-96bd-15554a98b5a7",
   "metadata": {
    "tags": []
   },
   "source": [
    "![alt text](../../pythonexposed-high-resolution-logo-black.jpg \"Optionele titel\")"
   ]
  },
  {
   "cell_type": "markdown",
   "id": "5f2d910d-03d0-460b-b455-5dffc53db589",
   "metadata": {
    "tags": []
   },
   "source": [
    "### Functies - oefeningen"
   ]
  },
  {
   "cell_type": "markdown",
   "id": "8b179e2c-e73d-4638-b29a-65bc18fc2e5c",
   "metadata": {},
   "source": [
    "- Schrijf een functie ggd(x, y) die de grootste gemene deler (gcd) van twee gehele getallen x en y berekent. Gebruik de Euclidische methode waarbij je herhaaldelijk het restant van x gedeeld door y neemt totdat het restant nul is.\n",
    "- Schrijf een functie keerOm(n) die een geheel getal n omkeert. Als n negatief is, moet het resultaat ook negatief zijn. Bijvoorbeeld, keerOm(123) geeft 321 en keerOm(-456) geeft -654.\n",
    "- Schrijf een functie faculteit(n) die de faculteit van een geheel getal n berekent. De faculteit van een getal is het product van alle positieve gehele getallen kleiner dan of gelijk aan n. Bijvoorbeeld, faculteit(5) geeft 120.\n",
    "- Schrijf een functie gemiddelde(getallen) die het gemiddelde berekent van een lijst van getallen. Als de lijst leeg is, moet de functie nan retourneren.\n",
    "- Schrijf een functie grootstePriemKleinerDanOfGelijkAan(n) die het grootste priemgetal kleiner dan of gelijk aan n retourneert. Gebruik hiervoor het algoritme van de zeef van Eratosthenes. Als n kleiner is dan 2, moet de functie nan retourneren.\n",
    "- Schrijf een functie variatie(n, k) die het aantal variaties berekent van n objecten gekozen in groepen van k. Dit betekent dat je alle mogelijke ordeningen van k objecten uit n wilt berekenen. Bijvoorbeeld, variatie(5, 2) geeft 20."
   ]
  },
  {
   "cell_type": "markdown",
   "id": "d0aaa027-9b5d-430c-9251-34149e8742df",
   "metadata": {},
   "source": [
    "### Oplossingen"
   ]
  },
  {
   "cell_type": "code",
   "execution_count": null,
   "id": "26575039-8f27-45ff-a9a0-4a294adad0c3",
   "metadata": {},
   "outputs": [],
   "source": []
  }
 ],
 "metadata": {
  "kernelspec": {
   "display_name": "Python 3 (ipykernel)",
   "language": "python",
   "name": "python3"
  },
  "language_info": {
   "codemirror_mode": {
    "name": "ipython",
    "version": 3
   },
   "file_extension": ".py",
   "mimetype": "text/x-python",
   "name": "python",
   "nbconvert_exporter": "python",
   "pygments_lexer": "ipython3",
   "version": "3.11.6"
  }
 },
 "nbformat": 4,
 "nbformat_minor": 5
}
