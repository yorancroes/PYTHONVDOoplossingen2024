{
 "cells": [
  {
   "cell_type": "markdown",
   "id": "12850e50-02e1-4b43-8e5c-2e9a69c96548",
   "metadata": {},
   "source": [
    "# PostgreSQL Advanced"
   ]
  },
  {
   "cell_type": "markdown",
   "id": "d944c6c1-e697-4091-9c66-462335b63285",
   "metadata": {},
   "source": [
    "## Transacties in PostgreSQL\n",
    "\n",
    "### 1. Wat zijn transacties?\n",
    "- **Definitie**: \n",
    "  Een transactie is een logische eenheid van werk die een reeks bewerkingen op een database omvat. Het garandeert dat alle bewerkingen binnen de transactie ofwel volledig worden uitgevoerd (commit) of volledig worden teruggedraaid (rollback) bij een fout.\n",
    "- **Eigenschappen (ACID)**:\n",
    "  1. **Atomicity**: Alle stappen worden uitgevoerd of geen enkele.\n",
    "  2. **Consistency**: De database blijft consistent na een transactie.\n",
    "  3. **Isolation**: Meerdere transacties interfereren niet met elkaar.\n",
    "  4. **Durability**: Na een commit blijven wijzigingen permanent."
   ]
  },
  {
   "cell_type": "markdown",
   "id": "b2e545b0-6cd5-4c46-8bf1-ac0480529dfe",
   "metadata": {},
   "source": [
    "### 2. Wat is het voordeel van het gebruik van transacties?\n",
    "- **Betrouwbaarheid**: Verzekert dat gegevens niet in een inconsistente toestand worden achtergelaten.\n",
    "- **Foutafhandeling**: Laat je wijzigingen terugdraaien bij fouten.\n",
    "- **Samenhang**: Zorgt ervoor dat complexe databasebewerkingen als één geheel worden uitgevoerd.\n",
    "- **Veiligheid**: Voorkomt dat gegevens corrupt raken door gedeeltelijke bewerkingen."
   ]
  },
  {
   "cell_type": "markdown",
   "id": "93b0745d-1041-498a-a64d-be1e1d57919f",
   "metadata": {},
   "source": [
    "### 3. Hoe zijn transacties opgebouwd?\n",
    "- **Opbouw**:\n",
    "  1. **BEGIN**: Start een nieuwe transactie.\n",
    "  2. **COMMIT**: Slaat wijzigingen permanent op.\n",
    "  3. **ROLLBACK**: Draaft wijzigingen terug naar de start van de transactie.\n",
    "  4. **SAVEPOINT** (optioneel): Een punt binnen een transactie waarnaar je kunt terugkeren."
   ]
  },
  {
   "cell_type": "markdown",
   "id": "e27ad724-3c25-4eb3-9347-7db337cfd864",
   "metadata": {},
   "source": [
    "### 4. Wanneer gebruik je transacties?\n",
    "- Bij meerdere samenhangende databasebewerkingen.\n",
    "- Bij complexe operaties waarbij een fout gevolgen heeft voor meerdere tabellen.\n",
    "- Bij banktoepassingen, reserveringssystemen of dataverwerking waar gegevensintegriteit cruciaal is."
   ]
  },
  {
   "cell_type": "markdown",
   "id": "062140fb-879c-4377-890b-a47d0a56699b",
   "metadata": {},
   "source": [
    "### 5. Hoe gebruik je transacties?\n",
    "\n",
    "#### Voorbeeld 1: Een rol toevoegen aan een film\n",
    "```sql\n",
    "BEGIN;\n",
    "INSERT INTO roles (film_id, person_id, role) VALUES (1, 2, 'Director');\n",
    "COMMIT;\n",
    "```"
   ]
  },
  {
   "cell_type": "markdown",
   "id": "7fea0a0f-9ea4-484a-8b56-9237e8ff7bda",
   "metadata": {},
   "source": [
    "#### Voorbeeld 2: Rolback bij fout\n",
    "```sql\n",
    "BEGIN;\n",
    "UPDATE films SET budget = budget - 50000 WHERE id = 1;\n",
    "UPDATE people SET name = 'New Name' WHERE id = 1; -- Dit genereert een fout\n",
    "ROLLBACK;\n",
    "```"
   ]
  },
  {
   "cell_type": "markdown",
   "id": "80e45346-cc68-40f9-bfdb-8d0b7eecac57",
   "metadata": {},
   "source": [
    "### 6. Integratie met Python\n",
    "Gebruik `psycopg2` voor transacties in PostgreSQL.\n",
    "\n",
    "#### Python-codevoorbeeld\n",
    "```python\n",
    "import psycopg2\n",
    "\n",
    "connection = psycopg2.connect(\"dbname=test user=postgres password=secret\")\n",
    "cursor = connection.cursor()\n",
    "\n",
    "try:\n",
    "    # Start transactie\n",
    "    cursor.execute(\"BEGIN;\")\n",
    "    \n",
    "    # Insert statements\n",
    "    cursor.execute(\"INSERT INTO roles (film_id, person_id, role) VALUES (%s, %s, %s)\", (1, 2, 'Actor'))\n",
    "    cursor.execute(\"UPDATE films SET budget = budget - 10000 WHERE id = %s\", (1,))\n",
    "    \n",
    "    # Commit transactie\n",
    "    connection.commit()\n",
    "except Exception as e:\n",
    "    print(f\"Error occurred: {e}\")\n",
    "    # Rollback bij fout\n",
    "    connection.rollback()\n",
    "finally:\n",
    "    cursor.close()\n",
    "    connection.close()\n",
    "```"
   ]
  },
  {
   "cell_type": "markdown",
   "id": "9dee0264-95f4-4074-b0df-b1211decd9ea",
   "metadata": {},
   "source": [
    "### 7. Oefeningen\n",
    "\n",
    "1. **Basis**\n",
    "   - Schrijf een transactie om een nieuw land toe te voegen in de tabel `countries` en een stad in de tabel `cities` die bij dat land hoort. Rol de wijzigingen terug."
   ]
  },
  {
   "cell_type": "markdown",
   "id": "3d7fc2a3-3d9e-4623-ae9c-2414f9d4ef76",
   "metadata": {},
   "source": [
    "2. **Intermediate**\n",
    "   - Voeg een nieuwe review toe aan de tabel `reviews` en verhoog het aantal stemmen (`num_votes`) van de overeenkomstige film in de tabel `films`. Gebruik een Python-script om dit te implementeren."
   ]
  },
  {
   "cell_type": "markdown",
   "id": "312c8cbb-ade0-4857-855c-ddb73f79bf88",
   "metadata": {},
   "source": [
    "3. **Geavanceerd**\n",
    "   - Voeg een `SAVEPOINT` toe binnen een transactie. Simuleer een fout en herstel tot een `SAVEPOINT`.\n",
    "   - Creëer een transactie die de budgetten van meerdere films wijzigt en controleert dat het totale budget niet negatief wordt. Implementeer dit in Python."
   ]
  }
 ],
 "metadata": {
  "kernelspec": {
   "display_name": "Python 3 (ipykernel)",
   "language": "python",
   "name": "python3"
  },
  "language_info": {
   "codemirror_mode": {
    "name": "ipython",
    "version": 3
   },
   "file_extension": ".py",
   "mimetype": "text/x-python",
   "name": "python",
   "nbconvert_exporter": "python",
   "pygments_lexer": "ipython3",
   "version": "3.12.7"
  }
 },
 "nbformat": 4,
 "nbformat_minor": 5
}
