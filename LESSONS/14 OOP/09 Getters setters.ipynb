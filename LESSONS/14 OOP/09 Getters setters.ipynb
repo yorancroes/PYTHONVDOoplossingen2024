{
 "cells": [
  {
   "cell_type": "markdown",
   "id": "5b43a3a3-df40-4f00-8e1a-c8dc7d2fbaae",
   "metadata": {
    "slideshow": {
     "slide_type": "slide"
    }
   },
   "source": [
    "# Python OOP: Getters en Setters | public vs private attributen en methods\n",
    "\n",
    "In deze notebook behandelen we twee belangrijke onderwerpen:\n",
    "\n",
    "- **Publieke vs. privé attributen en methoden**\n",
    "- **Getter en setter methoden**\n",
    "\n",
    "Deze concepten helpen je om je code gestructureerd, veilig en eenvoudig te onderhouden."
   ]
  },
  {
   "cell_type": "markdown",
   "id": "62d58737-f64e-441e-a816-d0f0e8674e17",
   "metadata": {
    "slideshow": {
     "slide_type": "slide"
    }
   },
   "source": [
    "## Publieke vs. Privé Attributen en Methodes\n",
    "\n",
    "- **Publieke attributen**: vrij toegankelijk vanuit elke plek in de code.\n",
    "- **Privé attributen**: alleen toegankelijk binnen de klasse zelf, door dubbele underscores (`__`) te gebruiken.\n",
    "\n",
    "We kiezen het soort attribuut in de __init__ method.  Daar bepalen we of we vb een eigenschap naam, _naam of een __naam gebruiken.  Dankzij het gebruik van getters en setters is dit naar de buitenwereld toe uniform: je stelt de waarde in via  \n",
    "  ```python\n",
    "    @naam.setter\n",
    "    def naam(self, value):\n",
    "        ...\n",
    "  ```\n",
    "En je vraagt deze op via:\n",
    "  ```python\n",
    "    @property\n",
    "    def naam(self):\n",
    "        return ...\n",
    "  ```"
   ]
  },
  {
   "cell_type": "markdown",
   "id": "3d472e7f-2787-4125-937e-d6ac07fe96de",
   "metadata": {
    "slideshow": {
     "slide_type": "slide"
    }
   },
   "source": [
    "### Publieke Attributen\n",
    "\n",
    "- Een publiek attribuut is direct toegankelijk.\n",
    "- Voorbeeld:\n",
    "\n",
    "  ```python\n",
    "  class Auto:\n",
    "      def __init__(self, kleur):\n",
    "          self.kleur = kleur  # Publiek attribuut\n",
    "\n",
    "  mijn_auto = Auto(\"rood\")\n",
    "  print(mijn_auto.kleur)  # Output: rood\n",
    "  ```"
   ]
  },
  {
   "cell_type": "markdown",
   "id": "13f92ac3-e985-4703-a369-e584e70d5da0",
   "metadata": {
    "slideshow": {
     "slide_type": "slide"
    }
   },
   "source": [
    "### Privé Attributen\n",
    "\n",
    "- Privé attributen worden gedefinieerd voorafgegaan door een enkele (`_`) of dubbele underscore (`__`).\n",
    "- Voorbeeld:\n",
    "\n",
    "  ```python\n",
    "  class Auto:\n",
    "      def __init__(self, merk):\n",
    "          self.__merk = merk  # Privé attribuut\n",
    "\n",
    "      def toon_merk(self):\n",
    "          return self.__merk\n",
    "\n",
    "  mijn_auto = Auto(\"Toyota\")\n",
    "  print(mijn_auto.toon_merk())  # Output: Toyota\n",
    "  ```"
   ]
  },
  {
   "cell_type": "markdown",
   "id": "3b108334-2146-4e6a-aa2e-21681282f70f",
   "metadata": {
    "slideshow": {
     "slide_type": "slide"
    }
   },
   "source": [
    "- **Eén underscore**: attributen die beginnen met één enkele underscore worden beschouwd als \"protected\" of intern te gebruiken. Dit is een conventie, geen strikte beperking.  Je gebruikt _ als je wil aangeven dat een attribuut of methode bedoeld is voor intern gebruik, maar dat het nog steeds toegankelijk is als iemand dat wil (bijvoorbeeld via object._attribuut).\n",
    "\n",
    "- **Twee underscores: name mangling**: Python maakt privé attributen intern uniek door ze te *hernoemen* naar `_<ClassName>__<attribute>`. Dit beschermt tegen ongewenste toegang: het voorkomt dat externe code direct toegang heeft tot het attribuut en het mogelijk op ongewenste wijze aanpast.\n",
    "  - Voorbeeld:"
   ]
  },
  {
   "cell_type": "code",
   "execution_count": 4,
   "id": "0e81fd23-972a-4503-a5ae-496aaa64d366",
   "metadata": {},
   "outputs": [
    {
     "name": "stdout",
     "output_type": "stream",
     "text": [
      "Verborgen\n"
     ]
    }
   ],
   "source": [
    "class Voorbeeld:\n",
    "    def __init__(self):\n",
    "        self.__privaat_attribuut = \"Verborgen\"\n",
    "\n",
    "obj = Voorbeeld()\n",
    "# Toegang tot het verborgen attribuut op een niet-aanbevolen manier\n",
    "print(obj._Voorbeeld__privaat_attribuut)  # Output: Verborgen"
   ]
  },
  {
   "cell_type": "markdown",
   "id": "24b29b0e-9acc-4fec-9518-c6197d72cac8",
   "metadata": {
    "slideshow": {
     "slide_type": "slide"
    }
   },
   "source": [
    "## Getter en Setter Methodes\n",
    "\n",
    "- **Getter**: Haalt de waarde van een attribuut op.\n",
    "- **Setter**: Kent een nieuwe waarde toe aan een attribuut.\n",
    "\n",
    "### Waarom Getters en Setters?\n",
    "\n",
    "- **Encapsulatie**: Meer controle over toegang tot attributen.\n",
    "- **Data-integriteit**: Data valideren of transformeren voordat deze wordt toegewezen.\n",
    "- **Voorkomt neveneffecten**: Voorkomt ongewenste wijzigingen."
   ]
  },
  {
   "cell_type": "markdown",
   "id": "ad28e874-51c3-476a-8333-af912334a03f",
   "metadata": {
    "slideshow": {
     "slide_type": "slide"
    }
   },
   "source": [
    "### Voorbeeld van Getters en Setters\n",
    "\n",
    "- Voorbeeld van de klasse `Pers` met getter en setter.\n",
    "- Gebruik self.firstname = firstname in de initializer **als je wilt dat de setter de waarde valideert bij de aanmaak van het object**.\n",
    "\n",
    "  ```python\n",
    "  class Pers:\n",
    "      def __init__(self, firstname):\n",
    "          self.firstname = firstname  # Python de setter @firstname.setter aan, de waarde wordt                                               # opgeslagen in _firstname\n",
    "\n",
    "      @property\n",
    "      def firstname(self):\n",
    "          return self._firstname  # Getter\n",
    "\n",
    "      @firstname.setter\n",
    "      def firstname(self, value):\n",
    "          if isinstance(value, str) and len(value) >= 2:  # naam moet minstens 2 karakters lang zijn\n",
    "              self._firstname = value  # Setter met validatie\n",
    "          else:\n",
    "              print(\"Ongeldige naam!\")\n",
    "  ```  "
   ]
  },
  {
   "cell_type": "markdown",
   "id": "d75efcac-8008-414a-aea0-5f6bb109ad1c",
   "metadata": {},
   "source": [
    "### Omzeilen van de setter, alleen bij initialisatie!\n",
    "\n",
    "- Voorbeeld van de klasse `Pers` waarbij we de setter omzeilen\n",
    "- Gebruik self._firstname = firstname **als je de setter bewust wilt omzeilen** (bijvoorbeeld om een default-waarde in te stellen zonder validatie).\n",
    "\n",
    "  ```python\n",
    "  class Pers:\n",
    "      def __init__(self, firstname):\n",
    "          self._firstname = firstname  # Bypass setter - directe toewijzing - alleen bij initialisatie!!\n",
    "\n",
    "      @property\n",
    "      def firstname(self):\n",
    "          return self._firstname  # Getter\n",
    "\n",
    "      @firstname.setter   # de setter wordt nog steeds gebruikt bij updaten van de firstname!!\n",
    "      def firstname(self, value):\n",
    "          if isinstance(value, str) and len(value) >= 2:  # naam moet minstens 2 karakters lang zijn\n",
    "              self._firstname = value  # Setter met validatie\n",
    "          else:\n",
    "              print(\"Ongeldige naam!\")\n",
    "  ```  "
   ]
  },
  {
   "cell_type": "markdown",
   "id": "29fc799e-6e90-46c4-9111-5f6450d6bd46",
   "metadata": {},
   "source": [
    "### Idem, nu met name mangling (gebeurt zelden)\n",
    "\n",
    "- Gebruik self.__firstname (met dubbele underscores) alleen als je name mangling nodig hebt, wat meestal niet vereist is.\n",
    "- Toegang tot __property buiten de klasse vereist dat je de gemanglede naam kent (_ClassName__property).\n",
    "\n",
    "  ```python\n",
    "  class Pers:\n",
    "      def __init__(self, firstname):\n",
    "          self.__firstname = firstname  # Omzeilt setter en gebruikt name mangling, hier _Pers__firstname\n",
    "          \n",
    "      @property\n",
    "      def firstname(self):\n",
    "          return self.__firstname  # Getter\n",
    "\n",
    "      @firstname.setter   # de setter wordt nog steeds gebruikt bij updaten van de firstname!!\n",
    "      def firstname(self, value):\n",
    "          if isinstance(value, str) and len(value) >= 2:  # naam moet minstens 2 karakters lang zijn\n",
    "              self.__firstname = value  # Setter met validatie\n",
    "          else:\n",
    "              raise ValueError(\"Naam moet minstens 2 karakters bevatten!\")\n",
    "  ```  "
   ]
  },
  {
   "cell_type": "markdown",
   "id": "980bd517-43d3-4bd1-a413-b99e9e0b9e7b",
   "metadata": {},
   "source": [
    "*Voorbeeld gebruik:*\n",
    "\n",
    "  ```python\n",
    "    pers = Pers(\"John\")\n",
    "    print(pers.firstname)       # Roept de getter aan\n",
    "\n",
    "    print(pers.__firstname)     # Werkt niet: AttributeError\n",
    "    \n",
    "    pers.firstname = \"Jane\"     # Roept de setter aan\n",
    "    print(pers.firstname)       # Output: Jane\n",
    "\n",
    "    pers.firstname = \"A\"        # ValueError: Naam moet minstens 2 karakters bevatten!\n",
    "  ```      "
   ]
  },
  {
   "cell_type": "markdown",
   "id": "090cf902-ee6e-49d7-a3b3-8a09c3420135",
   "metadata": {
    "slideshow": {
     "slide_type": "slide"
    }
   },
   "source": [
    "- **Read-only eigenschap**: Gebruik alleen een getter zonder setter.\n",
    "  - Voorbeeld:\n",
    "\n",
    "    ```python\n",
    "    class MyClass:\n",
    "        def __init__(self, value):\n",
    "            self.__my_read_only_property = value\n",
    "\n",
    "        @property\n",
    "        def my_read_only_property(self):\n",
    "            return self.__my_read_only_property\n",
    "    ```\n",
    "\n",
    "- **Opmerking**: Sommige bedrijven definiëren getters en setters als methoden, zonder `@property`. Consistentie is belangrijk: gebruik ofwel properties ofwel methoden, maar niet beide door elkaar."
   ]
  },
  {
   "cell_type": "markdown",
   "id": "2665e46b-fbc7-4cff-8f3e-f8ad07d71bc8",
   "metadata": {
    "slideshow": {
     "slide_type": "slide"
    }
   },
   "source": [
    "## Voor- en Nadelen van Getters en Setters\n",
    "\n",
    "- **Voordelen**:\n",
    "  - Gecontroleerde toegang tot attributen.\n",
    "  - Mogelijkheid om validatie toe te voegen.\n",
    "  - Bescherming van de interne staat van objecten.\n",
    "- **Nadelen**:\n",
    "  - Meer boilerplate code dan directe toegang.\n",
    "  - Minder eenvoudig wanneer er geen extra validatie nodig is."
   ]
  },
  {
   "cell_type": "markdown",
   "id": "f07b062b-71fb-4112-8201-a3f37aef0068",
   "metadata": {
    "slideshow": {
     "slide_type": "slide"
    }
   },
   "source": [
    "## @property Decorator\n",
    "\n",
    "- Maakt een methode toegankelijk als een attribuut, zonder haakjes.\n",
    "- Voorbeeld van gebruik:\n",
    "\n",
    "  ```python\n",
    "  class Persoon:\n",
    "      def __init__(self, naam):\n",
    "          self.__naam = naam\n",
    "\n",
    "      @property\n",
    "      def naam(self):\n",
    "          return self.__naam\n",
    "\n",
    "      @naam.setter\n",
    "      def naam(self, nieuwe_naam):\n",
    "          if isinstance(nieuwe_naam, str) and nieuwe_naam:\n",
    "              self.__naam = nieuwe_naam\n",
    "          else:\n",
    "              print(\"Ongeldige naam!\")\n",
    "\n",
    "  persoon = Persoon(\"Alice\")\n",
    "  print(persoon.naam)  # Output: Alice\n",
    "  persoon.naam = \"Charlie\"\n",
    "  print(persoon.naam)  # Output: Charlie\n",
    "  ```"
   ]
  },
  {
   "cell_type": "markdown",
   "id": "f4a6c694-5eb0-4c84-ba50-869057b60864",
   "metadata": {
    "slideshow": {
     "slide_type": "slide"
    }
   },
   "source": [
    "## Wat hebben we geleerd?"
   ]
  },
  {
   "cell_type": "markdown",
   "id": "fe5e9996-37ba-4557-9478-12123e38827e",
   "metadata": {
    "slideshow": {
     "slide_type": "slide"
    }
   },
   "source": [
    "**Vraag:** Wat is encapsulatie?"
   ]
  },
  {
   "cell_type": "markdown",
   "id": "ff0c8a2c-58d4-49f4-9145-576d21f91c46",
   "metadata": {
    "slideshow": {
     "slide_type": "subslide"
    }
   },
   "source": [
    "> **Antwoord:** Encapsulatie bundelt data en methoden, en beschermt attributen om ongewenste toegang of wijzigingen te voorkomen."
   ]
  },
  {
   "cell_type": "markdown",
   "id": "682bee77-02c2-4d58-9e39-a36c9c2c5eed",
   "metadata": {
    "slideshow": {
     "slide_type": "slide"
    }
   },
   "source": [
    "**Vraag:** Wat zijn publieke attributen?"
   ]
  },
  {
   "cell_type": "markdown",
   "id": "07f5664b-3d83-45b7-b4c5-e70b7e278f4c",
   "metadata": {
    "slideshow": {
     "slide_type": "subslide"
    }
   },
   "source": [
    "> **Antwoord:** Publieke attributen zijn vrij toegankelijk vanuit elke plek in de code."
   ]
  },
  {
   "cell_type": "markdown",
   "id": "d1dbccc6-8a73-45a7-bf17-035a4e6b8eb8",
   "metadata": {
    "slideshow": {
     "slide_type": "slide"
    }
   },
   "source": [
    "**Vraag:** Wat zijn privé attributen?"
   ]
  },
  {
   "cell_type": "markdown",
   "id": "ca877d97-ac35-40cb-ac63-04dd840da0c7",
   "metadata": {
    "slideshow": {
     "slide_type": "subslide"
    }
   },
   "source": [
    "> **Antwoord:** Privé attributen worden beschermd met een dubbele underscore en zijn alleen toegankelijk binnen de klasse zelf."
   ]
  },
  {
   "cell_type": "markdown",
   "id": "4aa92203-fd2f-48b9-aada-704879f4e335",
   "metadata": {
    "slideshow": {
     "slide_type": "slide"
    }
   },
   "source": [
    "**Vraag:** Wat is het nut van getter en setter methoden?"
   ]
  },
  {
   "cell_type": "markdown",
   "id": "7a412130-b934-46c4-b3ca-b9e225ab80eb",
   "metadata": {
    "slideshow": {
     "slide_type": "subslide"
    }
   },
   "source": [
    "> **Antwoord:** Getters en setters geven gecontroleerde toegang tot privé attributen en zorgen ervoor dat alleen geldige wijzigingen worden doorgevoerd."
   ]
  },
  {
   "cell_type": "markdown",
   "id": "e110ffcb-ff6e-4de1-aff5-b68799797630",
   "metadata": {
    "slideshow": {
     "slide_type": "slide"
    }
   },
   "source": [
    "**Vraag:** Wat doet de `@property` decorator?"
   ]
  },
  {
   "cell_type": "markdown",
   "id": "b00e72fb-6093-4753-86ee-038705e0596c",
   "metadata": {
    "slideshow": {
     "slide_type": "subslide"
    }
   },
   "source": [
    "> **Antwoord:** De `@property` decorator maakt een methode toegankelijk als een attribuut, zonder haakjes, waardoor getters en setters eenvoudiger te gebruiken zijn."
   ]
  },
  {
   "cell_type": "markdown",
   "id": "1ea8d50f-128f-421f-9869-be012b991490",
   "metadata": {
    "slideshow": {
     "slide_type": "slide"
    }
   },
   "source": [
    "**Vraag:** Wat zijn abstracte datatypes?"
   ]
  },
  {
   "cell_type": "markdown",
   "id": "aa9043c0-01c1-477b-95f3-68486e7fc5dc",
   "metadata": {
    "slideshow": {
     "slide_type": "subslide"
    }
   },
   "source": [
    "> **Antwoord:** Abstracte datatypes verbergen de interne implementatie en bieden een duidelijke interface voor gebruikers van een klasse."
   ]
  }
 ],
 "metadata": {
  "celltoolbar": "Slideshow",
  "kernelspec": {
   "display_name": "Python 3 (ipykernel)",
   "language": "python",
   "name": "python3"
  },
  "language_info": {
   "codemirror_mode": {
    "name": "ipython",
    "version": 3
   },
   "file_extension": ".py",
   "mimetype": "text/x-python",
   "name": "python",
   "nbconvert_exporter": "python",
   "pygments_lexer": "ipython3",
   "version": "3.12.7"
  }
 },
 "nbformat": 4,
 "nbformat_minor": 5
}
