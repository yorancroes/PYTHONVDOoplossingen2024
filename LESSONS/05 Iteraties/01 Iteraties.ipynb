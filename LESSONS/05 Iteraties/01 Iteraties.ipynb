{
 "cells": [
  {
   "cell_type": "markdown",
   "id": "85d6dd50-c9e7-4d10-861d-2e75ae4c995c",
   "metadata": {
    "tags": []
   },
   "source": [
    "![alt text](../../pythonexposed-high-resolution-logo-black.jpg \"Optionele titel\")"
   ]
  },
  {
   "cell_type": "markdown",
   "id": "3961ca53",
   "metadata": {},
   "source": [
    "## Python Iteraties\n",
    "\n",
    "In deze notebook verkennen we verschillende manieren om iteraties in Python te gebruiken. Iteraties stellen ons in staat om een blok code meerdere keren uit te voeren, wat essentieel is voor veel programmeertaken.\n"
   ]
  },
  {
   "cell_type": "markdown",
   "id": "a0418705",
   "metadata": {},
   "source": [
    "\n",
    "#### While Loops\n",
    "\n",
    "De `while` loop in Python herhaalt een blok code zolang een bepaalde conditie `True` is.\n"
   ]
  },
  {
   "cell_type": "code",
   "execution_count": 1,
   "id": "f5f786d4",
   "metadata": {
    "tags": []
   },
   "outputs": [
    {
     "name": "stdout",
     "output_type": "stream",
     "text": [
      "Count is 0\n",
      "Count is 1\n",
      "Count is 2\n",
      "Count is 3\n",
      "Count is 4\n"
     ]
    }
   ],
   "source": [
    "# Voorbeeld van een while loop\n",
    "count = 0\n",
    "while count < 5:\n",
    "    print(f\"Count is {count}\")\n",
    "    count += 1"
   ]
  },
  {
   "cell_type": "markdown",
   "id": "2fef9efc-d7a0-4dca-85cf-fe8f66ed466d",
   "metadata": {},
   "source": [
    "Je kan met while eenvoudig een oneindige lus creëeren door gewoon while True: te gebruiken.  Dit kan nuttig zijn om iets te laten runnen tot een break statement de loop onderbreekt."
   ]
  },
  {
   "cell_type": "markdown",
   "id": "cc1cb5bd",
   "metadata": {},
   "source": [
    "#### For Loops\n",
    "\n",
    "De `for` loop in Python wordt gebruikt om over de items van een collectie (zoals een lijst of tuple) of een iterator te lopen."
   ]
  },
  {
   "cell_type": "code",
   "execution_count": 1,
   "id": "7fc7cc47",
   "metadata": {
    "tags": []
   },
   "outputs": [
    {
     "name": "stdout",
     "output_type": "stream",
     "text": [
      "i is 0\n",
      "i is 1\n",
      "i is 2\n",
      "i is 3\n",
      "i is 4\n"
     ]
    }
   ],
   "source": [
    "# Voorbeeld van een for loop\n",
    "for i in range(5):\n",
    "    print(f\"i is {i}\")"
   ]
  },
  {
   "cell_type": "markdown",
   "id": "41ab90ec",
   "metadata": {},
   "source": [
    "#### Loop Controle: break en continue\n",
    "\n",
    "`break` wordt gebruikt om een loop volledig te beëindigen, terwijl `continue` het huidige iteratie overslaat en direct doorgaat naar de volgende iteratie."
   ]
  },
  {
   "cell_type": "code",
   "execution_count": 3,
   "id": "8f61d740",
   "metadata": {
    "tags": []
   },
   "outputs": [
    {
     "name": "stdout",
     "output_type": "stream",
     "text": [
      "0\n",
      "1\n",
      "2\n",
      "3\n",
      "4\n"
     ]
    }
   ],
   "source": [
    "# Voorbeeld van break\n",
    "for i in range(10):\n",
    "    if i == 5:\n",
    "        break\n",
    "    print(i)"
   ]
  },
  {
   "cell_type": "code",
   "execution_count": 4,
   "id": "52add3a3",
   "metadata": {
    "tags": []
   },
   "outputs": [
    {
     "name": "stdout",
     "output_type": "stream",
     "text": [
      "1\n",
      "3\n",
      "5\n",
      "7\n",
      "9\n"
     ]
    }
   ],
   "source": [
    "# Voorbeeld van continue\n",
    "for i in range(10):\n",
    "    if i % 2 == 0:\n",
    "        continue\n",
    "    print(i)"
   ]
  },
  {
   "cell_type": "markdown",
   "id": "e4d024cc",
   "metadata": {},
   "source": [
    "#### Loop met else\n",
    "\n",
    "Een `else` blok na een loop wordt uitgevoerd als de loop normaal eindigt (d.w.z. niet beëindigd door een `break`)."
   ]
  },
  {
   "cell_type": "code",
   "execution_count": 5,
   "id": "5cf0ad56",
   "metadata": {
    "tags": []
   },
   "outputs": [
    {
     "name": "stdout",
     "output_type": "stream",
     "text": [
      "0\n",
      "1\n",
      "2\n",
      "Loop voltooid!\n"
     ]
    }
   ],
   "source": [
    "# Voorbeeld van een for loop met else\n",
    "for i in range(3):\n",
    "    print(i)\n",
    "else:\n",
    "    print(\"Loop voltooid!\")"
   ]
  },
  {
   "cell_type": "markdown",
   "id": "6e9190a0",
   "metadata": {},
   "source": [
    "#### Geneste Loops\n",
    "\n",
    "Loops kunnen binnen elkaar genest worden, wat betekent dat je een loop binnen een andere loop kunt hebben."
   ]
  },
  {
   "cell_type": "code",
   "execution_count": 10,
   "id": "399e8fb8",
   "metadata": {
    "tags": []
   },
   "outputs": [
    {
     "name": "stdout",
     "output_type": "stream",
     "text": [
      "i is 0 en j is 0\n",
      "i is 0 en j is 1\n",
      "i is 1 en j is 0\n",
      "i is 1 en j is 1\n",
      "i is 2 en j is 0\n",
      "i is 2 en j is 1\n"
     ]
    }
   ],
   "source": [
    "# Voorbeeld van geneste loops\n",
    "for i in range(3):\n",
    "    for j in range(2):\n",
    "        print(f\"i is {i} en j is {j}\")"
   ]
  },
  {
   "cell_type": "markdown",
   "id": "be517be2",
   "metadata": {},
   "source": [
    "\n",
    "#### Enkele Tips voor het Gebruiken van Loops\n",
    "\n",
    "- Vermijd oneindige loops door ervoor te zorgen dat de conditie van de loop uiteindelijk `False` wordt.\n",
    "- Gebruik `break` en `continue` zorgvuldig om de controle over de loop flow te behouden.\n",
    "- Overweeg het gebruik van geneste loops alleen wanneer het noodzakelijk is, aangezien ze de complexiteit van de code kunnen verhogen.\n"
   ]
  },
  {
   "cell_type": "markdown",
   "id": "98bc425c-f617-4996-97ed-cfdc5322d599",
   "metadata": {},
   "source": [
    "#### Oefening\n",
    "\n",
    "- Gebruik een loop om de gebruiker om een getal als input te vragen. Wanneer de gebruiker een getal ingeeft, tel je dit getal op bij de reeds ingevoerde getallen.  Als de gebruiker q invoert, stop je en print je het totaal nog eens af.  Tips: denk aan type casting: wat is het type van de user input?  Je kan dit controleren met print(type(..)). Je zal deze oefening ook in Pycharm moeten maken en laten runnen in de terminal."
   ]
  },
  {
   "cell_type": "code",
   "execution_count": null,
   "id": "02f09cda-5da0-4f27-9e76-59200d333f5f",
   "metadata": {},
   "outputs": [],
   "source": []
  }
 ],
 "metadata": {
  "kernelspec": {
   "display_name": "Python 3 (ipykernel)",
   "language": "python",
   "name": "python3"
  },
  "language_info": {
   "codemirror_mode": {
    "name": "ipython",
    "version": 3
   },
   "file_extension": ".py",
   "mimetype": "text/x-python",
   "name": "python",
   "nbconvert_exporter": "python",
   "pygments_lexer": "ipython3",
   "version": "3.11.6"
  }
 },
 "nbformat": 4,
 "nbformat_minor": 5
}
