{
 "cells": [
  {
   "cell_type": "markdown",
   "id": "e4a8a0f9-33c0-43fc-817e-3154d8816cfc",
   "metadata": {
    "slideshow": {
     "slide_type": "slide"
    }
   },
   "source": [
    "![alt text](../../pythonexposed-high-resolution-logo-black.jpg \"Optionele titel\")"
   ]
  },
  {
   "cell_type": "markdown",
   "id": "7cc660d5-ccdb-4e57-9add-64a345a89118",
   "metadata": {
    "slideshow": {
     "slide_type": "slide"
    }
   },
   "source": [
    "# Methods in Objectgeoriënteerd Programmeren (OOP)\n",
    "\n",
    "In objectgeoriënteerd programmeren (OOP) zijn **methods** functies die binnen een klasse zijn gedefinieerd en beschrijven het gedrag van een object. In Python zijn er drie soorten methods die een belangrijke rol spelen bij het definiëren van functionaliteit binnen klassen: **instance methods**, **class methods** en **static methods**. Hieronder volgt een overzicht van deze methods en hun toepassingen."
   ]
  },
  {
   "cell_type": "markdown",
   "id": "e1265fde-8807-41da-a386-1698a74f5c1c",
   "metadata": {
    "slideshow": {
     "slide_type": "slide"
    }
   },
   "source": [
    "## Instance Methods\n",
    "\n",
    "- **Definitie**\n",
    "  - Instance methods zijn de meest voorkomende methods in een klasse.\n",
    "  - Worden gedefinieerd met `self` als eerste parameter, die verwijst naar de instantie van de klasse.\n",
    "  - De klasse wordt dus geïnstantieerd, en de methods werken op de instances\n",
    "- **Gebruik**\n",
    "  - Manipuleren van attributen van een object.\n",
    "  - Definiëren van gedrag dat specifiek is voor een instantie."
   ]
  },
  {
   "cell_type": "markdown",
   "id": "d2048591-3280-4b3e-83d3-305ec28d074d",
   "metadata": {
    "slideshow": {
     "slide_type": "slide"
    }
   },
   "source": [
    "**Voorbeeld van een instance method**\n",
    "  - Een `Dog`-klasse met een `bark()` method die het gedrag van een specifieke hond beschrijft:\n",
    "    ```python\n",
    "    class Dog:\n",
    "        def __init__(self, name):\n",
    "            self.name = name\n",
    "        \n",
    "        def bark(self):\n",
    "            print(f\"{self.name} blaft!\")\n",
    "    \n",
    "    d = Dog(\"Rex\")\n",
    "    d.bark()  # Uitvoer: Rex blaft!\n",
    "    ```"
   ]
  },
  {
   "cell_type": "markdown",
   "id": "23377e4e-e539-4628-abea-76e67f1a7201",
   "metadata": {
    "slideshow": {
     "slide_type": "slide"
    }
   },
   "source": [
    "**Voorbeeld 2: Klasse Point**\n",
    "  - Een `Point`-klasse die een punt in een tweedimensionale ruimte voorstelt:\n",
    "    ```python\n",
    "    class Point:\n",
    "        \"\"\"Representeert een punt in 2D-ruimte.\"\"\"\n",
    "        def __init__(self, x=0, y=0):\n",
    "            self.x = x\n",
    "            self.y = y\n",
    "        \n",
    "        def print_point(self):\n",
    "            print(f\"({self.x}, {self.y})\")\n",
    "    \n",
    "    p = Point(3, 4)\n",
    "    p.print_point()  # Uitvoer: (3, 4)\n",
    "    ```"
   ]
  },
  {
   "cell_type": "markdown",
   "id": "cee62f5a-3c92-44b4-85de-52f4c914bd62",
   "metadata": {
    "slideshow": {
     "slide_type": "slide"
    }
   },
   "source": [
    "## Class Methods\n",
    "\n",
    "- **Definitie**\n",
    "  - Class methods zijn gekoppeld aan de klasse zelf in plaats van aan een specifieke instantie.\n",
    "  - Class methods kunnen dus ook worden gebruikt **zonder** dat deze worden geïnstantieerd!\n",
    "  - Worden gedefinieerd met de decorator `@classmethod`.\n",
    "  - De eerste parameter is `cls`, die verwijst naar de klasse zelf (ipv `self`)\n",
    "  - Class methods hebben toegang tot de class"
   ]
  },
  {
   "cell_type": "markdown",
   "id": "26543196-ed7f-4b7f-946a-da2f2d635142",
   "metadata": {
    "slideshow": {
     "slide_type": "slide"
    }
   },
   "source": [
    "## Class Methods\n",
    "\n",
    "- **Gebruik**\n",
    "  - Functionaliteit die betrekking heeft op de klasse als geheel, zoals het aanmaken van objecten op alternatieve manieren.\n",
    "  - Kan gebruikt worden om informatie te geven over de class zelf, niet over een specifieke instantie\n",
    "  - **Alternatieve Constructors**: Speciale methods die objecten op een andere manier kunnen initialiseren dan met de standaard `__init__`."
   ]
  },
  {
   "cell_type": "markdown",
   "id": "1020fd2a-d40f-44fd-92d1-c84ad4c538b0",
   "metadata": {
    "slideshow": {
     "slide_type": "slide"
    }
   },
   "source": [
    "**Class method - Voorbeeld 1: als alternatieve constructor**\n",
    "  - Een `Address`-klasse met een alternatieve constructor `from_url` om via een url string een instance te kunnen maken:\n",
    "    ```python\n",
    "    class Address:\n",
    "        def __init__(self, ip, port):\n",
    "            self.ip = ip\n",
    "            self.port = port\n",
    "\n",
    "        # via een url string een instantie maken\n",
    "        @classmethod\n",
    "        def from_url(cls, url):\n",
    "            ip, port = url.split(':')\n",
    "            return cls(ip, port)\n",
    "    \n",
    "    address_one = Address(\"127.0.0.1\", 8888)\n",
    "    print(address_one.ip, address_one.port)\n",
    "\n",
    "    address_two = Address.from_url(\"127.0.0.1:8080\")\n",
    "    print(address_two.ip, address_two.port)\n",
    "    ```"
   ]
  },
  {
   "cell_type": "markdown",
   "id": "b653916e-55c1-49b4-973c-7099315bff9f",
   "metadata": {
    "slideshow": {
     "slide_type": "slide"
    }
   },
   "source": [
    "**Class method - Voorbeeld 2: als alternatieve constructor**\n",
    "  - Een `Circle`-klasse met een alternatieve constructor `from_diameter` om een cirkelobject aan te maken op basis van de diameter:\n",
    "    ```python\n",
    "    class Circle:\n",
    "        def __init__(self, radius):\n",
    "            self.radius = radius\n",
    "        \n",
    "        @classmethod\n",
    "        def from_diameter(cls, diameter):\n",
    "            return cls(diameter / 2)\n",
    "    \n",
    "    c = Circle.from_diameter(10)\n",
    "    print(c.radius)  # Uitvoer: 5.0\n",
    "    ```"
   ]
  },
  {
   "cell_type": "markdown",
   "id": "01cec535-1add-468d-a70d-29d6591c4740",
   "metadata": {
    "slideshow": {
     "slide_type": "slide"
    }
   },
   "source": [
    "**Class method - Voorbeeld 3: als alternatieve constructor**\n",
    "  - Een `Auto`-klasse die alternatieve constructors gebruikt om verschillende soorten auto's te creëren:\n",
    "    ```python\n",
    "    class Auto:\n",
    "        def __init__(self, merk, model, bouwjaar):\n",
    "            self.merk = merk\n",
    "            self.model = model\n",
    "            self.bouwjaar = bouwjaar\n",
    "        \n",
    "        @classmethod\n",
    "        def nieuwe_auto(cls, merk, model):\n",
    "            return cls(merk, model, 2023)\n",
    "        \n",
    "        def beschrijf_auto(self):\n",
    "            print(f\"{self.bouwjaar} {self.merk} {self.model}\")\n",
    "    \n",
    "    nieuwe_auto = Auto.nieuwe_auto(\"Tesla\", \"Model S\")\n",
    "    nieuwe_auto.beschrijf_auto()  # Uitvoer: 2023 Tesla Model S\n",
    "    ```"
   ]
  },
  {
   "cell_type": "markdown",
   "id": "5b1286eb-c42a-493d-9247-b0d10eb41d83",
   "metadata": {
    "slideshow": {
     "slide_type": "slide"
    }
   },
   "source": [
    "**Class method - Voorbeeld 4: Verkrijgen van info over een class**\n",
    "  - Een `Person`-klasse waarbij classmethods gebruikt worden om info te krijgen over de class:\n",
    "    ```python\n",
    "    class Person:\n",
    "        People = []   # class variable\n",
    "        def __init__(self, name, firstname):\n",
    "            self.name = name\n",
    "            self.firstname = firstname\n",
    "            Person.people.append(self)\n",
    "        @classmethod\n",
    "        def details(cls):\n",
    "            print(f\"Running vanuit de class {cls.__name__}\")\n",
    "\n",
    "        @classmethod\n",
    "        def number_people(cls):\n",
    "            return len(cls.people)\n",
    "    ```"
   ]
  },
  {
   "cell_type": "markdown",
   "id": "90357f63-e07e-4186-9177-fb2fedfd3b63",
   "metadata": {
    "slideshow": {
     "slide_type": "slide"
    }
   },
   "source": [
    "## Static Methods\n",
    "\n",
    "- **Definitie**\n",
    "  - Static methods zijn niet gebonden aan een specifieke instantie of klasse.\n",
    "  - Worden gedefinieerd met de decorator `@staticmethod`.\n",
    "  - Hebben geen `self` of `cls` parameter.\n",
    "  - Static methods bevinden zich in de class, maar **hebben geen toegang tot de class**\n",
    "  - Static methods hebben dus geen connectie met de class en heeft er geen weet van."
   ]
  },
  {
   "cell_type": "markdown",
   "id": "72f2c88f-2399-4b46-aade-76b2d98b5d54",
   "metadata": {
    "slideshow": {
     "slide_type": "slide"
    }
   },
   "source": [
    "## Static Methods\n",
    "\n",
    "- **Gebruik**\n",
    "  - Hulpfuncties die geen toegang nodig hebben tot klasse- of instantie-attributen.\n",
    "  - Bijvoorbeeld wiskundige bewerkingen of logische controles die onafhankelijk zijn van specifieke gegevens van een object bundelen in een class\n",
    "  - Waarom stoppen we deze gerelateerde functies niet gewoon in een module?  Omdat ze bij een class in dezelfde namespace zitten!\n",
    "  - Omdat ze in dezelfde namespace zitten kunnen we x = module.class.function() gebruiken..."
   ]
  },
  {
   "cell_type": "markdown",
   "id": "a1e494d2-32b1-46cf-adec-31a1b1b8eb3e",
   "metadata": {
    "slideshow": {
     "slide_type": "slide"
    }
   },
   "source": [
    "**Voorbeeld 1 Static Method**\n",
    "  - Een `MathHelper`-klasse met een `add()` method om twee getallen op te tellen:\n",
    "    ```python\n",
    "    class MathHelper:\n",
    "        @staticmethod\n",
    "        def add(x, y):\n",
    "            return x + y\n",
    "    \n",
    "    result = MathHelper.add(5, 10)\n",
    "    print(result)  # Uitvoer: 15\n",
    "    ```"
   ]
  },
  {
   "cell_type": "markdown",
   "id": "cf678805-3032-4152-a98b-c6b61f7871cd",
   "metadata": {
    "slideshow": {
     "slide_type": "slide"
    }
   },
   "source": [
    "**Voorbeeld 2: Static Method voor Validatie**\n",
    "  - Een voorbeeld van een static method die wordt gebruikt voor het valideren van een leeftijd:\n",
    "    ```python\n",
    "    class Persoon:\n",
    "        @staticmethod\n",
    "        def valideer_leeftijd(leeftijd):\n",
    "            return leeftijd >= 18\n",
    "    \n",
    "    print(Persoon.valideer_leeftijd(20))  # Uitvoer: True\n",
    "    print(Persoon.valideer_leeftijd(15))  # Uitvoer: False\n",
    "    ```"
   ]
  },
  {
   "cell_type": "markdown",
   "id": "83efd18e-5c20-424e-b9e1-e3b93bf8504e",
   "metadata": {
    "slideshow": {
     "slide_type": "slide"
    }
   },
   "source": [
    "**Voorbeeld 3: Static Method voor conversie hoeken naar radialen - gerelateerd aan cirkels en dus bij deze klasse gevoegd**\n",
    "  - Een `MathHelper`-klasse met een `add()` method om twee getallen op te tellen:\n",
    "    ```python\n",
    "    import math\n",
    "\n",
    "    class Circle:\n",
    "        def __init__(self, radius):\n",
    "            self.radius = radius\n",
    "\n",
    "        def render(self):\n",
    "            return f\"Cirkel met als radius {self.radius}\"\n",
    "\n",
    "        @staticmethod\n",
    "        def radialen_naar_graden(radialen):\n",
    "            return math.degrees(radialen)\n",
    "\n",
    "\n",
    "    print(Circle.radialen_naar_graden(math.pi))\n",
    "    print(Circle.radialen_naar_graden(2 * math.pi))\n",
    "    ```"
   ]
  },
  {
   "cell_type": "markdown",
   "id": "812db35a-a970-46eb-9965-4fed3eced7c4",
   "metadata": {
    "slideshow": {
     "slide_type": "slide"
    }
   },
   "source": [
    "### Wat hebben we geleerd?"
   ]
  },
  {
   "cell_type": "markdown",
   "id": "8bfc79a5-e384-487e-a5cf-eea02cd15371",
   "metadata": {
    "slideshow": {
     "slide_type": "slide"
    }
   },
   "source": [
    "1. **Wat is een instance method in Python?**"
   ]
  },
  {
   "cell_type": "markdown",
   "id": "b29df87c-4bd4-49bd-96ab-41bcba150bb1",
   "metadata": {
    "slideshow": {
     "slide_type": "fragment"
    }
   },
   "source": [
    "> Een instance method is een method die werkt op een specifieke instantie van een klasse en gedefinieerd is met `self` als eerste parameter. Het wordt gebruikt om attributen van een object te manipuleren of gedrag te definiëren dat specifiek is voor een instantie."
   ]
  },
  {
   "cell_type": "markdown",
   "id": "a580f5c4-55e2-4bcb-b3b1-c211b0823903",
   "metadata": {
    "slideshow": {
     "slide_type": "slide"
    }
   },
   "source": [
    "2. **Hoe definieer je een class method en wanneer gebruik je deze?**"
   ]
  },
  {
   "cell_type": "markdown",
   "id": "5ae53ff4-14ae-4235-8d1b-e9925530c2d7",
   "metadata": {
    "slideshow": {
     "slide_type": "fragment"
    }
   },
   "source": [
    "> Een class method wordt gedefinieerd met de `@classmethod` decorator en heeft `cls` als eerste parameter. Het wordt gebruikt voor functionaliteit die betrekking heeft op de klasse als geheel, zoals het creëren van objecten via alternatieve constructors."
   ]
  },
  {
   "cell_type": "markdown",
   "id": "6f7a9dfe-1182-487d-84b1-e2b214966c67",
   "metadata": {
    "slideshow": {
     "slide_type": "slide"
    }
   },
   "source": [
    "3. **Wat is het verschil tussen een static method en een class method?**"
   ]
  },
  {
   "cell_type": "markdown",
   "id": "ff0f23d5-4cda-4bb8-a819-b0b628316a46",
   "metadata": {
    "slideshow": {
     "slide_type": "fragment"
    }
   },
   "source": [
    "> Een static method wordt gedefinieerd met `@staticmethod` en heeft geen `self` of `cls` parameter. Het is onafhankelijk van specifieke klasse- of instantie-attributen en wordt gebruikt voor hulpfuncties. Een class method heeft daarentegen `cls` als parameter en werkt op de klasse zelf."
   ]
  },
  {
   "cell_type": "markdown",
   "id": "768c68a4-84f3-4ed0-a7b6-b26bf6b8ffa6",
   "metadata": {
    "slideshow": {
     "slide_type": "slide"
    }
   },
   "source": [
    "4. **Geef een voorbeeld van een situatie waarin een static method handig kan zijn.**"
   ]
  },
  {
   "cell_type": "markdown",
   "id": "211c2039-bee3-4984-87e0-a06de900a79f",
   "metadata": {
    "slideshow": {
     "slide_type": "fragment"
    }
   },
   "source": [
    "> Een static method is handig voor het uitvoeren van wiskundige bewerkingen of logische controles die geen toegang nodig hebben tot klasse- of instantie-attributen. Bijvoorbeeld, een methode die twee getallen optelt of een leeftijd valideert."
   ]
  },
  {
   "cell_type": "markdown",
   "id": "1a2fdfb5-4764-49c3-8921-7adf13ecdbfa",
   "metadata": {
    "slideshow": {
     "slide_type": "slide"
    }
   },
   "source": [
    "5. **Wat is het doel van encapsulation in OOP?**"
   ]
  },
  {
   "cell_type": "markdown",
   "id": "99a1e431-eb50-49e7-b6ab-8856c70f81e4",
   "metadata": {
    "slideshow": {
     "slide_type": "fragment"
    }
   },
   "source": [
    "> Encapsulation is het bundelen van data-attributen en methods die op die data opereren binnen een klasse. Het helpt bij het organiseren van code en het definiëren van duidelijke grenzen tussen verschillende delen van een programma."
   ]
  },
  {
   "cell_type": "markdown",
   "id": "c420d0ab-bf8d-4ea8-89b8-9965bf30057a",
   "metadata": {
    "slideshow": {
     "slide_type": "slide"
    }
   },
   "source": [
    "6. **Hoe kun je een alternatieve constructor maken met een class method?**"
   ]
  },
  {
   "cell_type": "markdown",
   "id": "328d071e-474c-4e2e-80cc-7ebaf827e187",
   "metadata": {
    "slideshow": {
     "slide_type": "fragment"
    }
   },
   "source": [
    "> Een alternatieve constructor kan worden gemaakt met een class method door `@classmethod` te gebruiken en de methode een object te laten creëren op basis van andere invoer dan de standaard `__init__`. Bijvoorbeeld, de `from_diameter` method in de `Circle`-klasse."
   ]
  },
  {
   "cell_type": "markdown",
   "id": "96791745-f4c4-40d9-bc6d-acfe857f3a96",
   "metadata": {
    "slideshow": {
     "slide_type": "slide"
    }
   },
   "source": [
    "7. **Wat is het verschil tussen instance methods, class methods en static methods in termen van hun parameters?**"
   ]
  },
  {
   "cell_type": "markdown",
   "id": "f899871b-7a76-49ee-907e-302fe8018eb3",
   "metadata": {
    "slideshow": {
     "slide_type": "fragment"
    }
   },
   "source": [
    "> Instance methods hebben `self` als eerste parameter, class methods hebben `cls` als eerste parameter, en static methods hebben geen `self` of `cls` parameter."
   ]
  },
  {
   "cell_type": "code",
   "execution_count": null,
   "id": "b4c285b9-ff67-489a-a4d3-f13cfb7d5bc0",
   "metadata": {},
   "outputs": [],
   "source": []
  }
 ],
 "metadata": {
  "celltoolbar": "Slideshow",
  "kernelspec": {
   "display_name": "Python 3 (ipykernel)",
   "language": "python",
   "name": "python3"
  },
  "language_info": {
   "codemirror_mode": {
    "name": "ipython",
    "version": 3
   },
   "file_extension": ".py",
   "mimetype": "text/x-python",
   "name": "python",
   "nbconvert_exporter": "python",
   "pygments_lexer": "ipython3",
   "version": "3.12.7"
  }
 },
 "nbformat": 4,
 "nbformat_minor": 5
}
