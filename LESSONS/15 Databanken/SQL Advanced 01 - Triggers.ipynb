{
 "cells": [
  {
   "cell_type": "markdown",
   "id": "12850e50-02e1-4b43-8e5c-2e9a69c96548",
   "metadata": {},
   "source": [
    "# PostgreSQL Advanced"
   ]
  },
  {
   "cell_type": "markdown",
   "id": "8c7cd873-3caf-453f-b393-0c9a7c0e0e85",
   "metadata": {},
   "source": [
    "# Triggers in PostgreSQL\n",
    "\n",
    "Een trigger in PostgreSQL is een mechanisme waarmee je een specifieke actie automatisch kunt uitvoeren als reactie op een bepaalde gebeurtenis in de database, zoals een `INSERT`, `UPDATE` of `DELETE` op een tabel. Triggers kunnen worden gebruikt om logica af te dwingen, auditing uit te voeren, gegevensintegriteit te behouden, of complexere acties te automatiseren.\n",
    "\n",
    "Een trigger bestaat uit:\n",
    "1. **Trigger-event**: De gebeurtenis die de trigger activeert, zoals een wijziging in een rij.\n",
    "2. **Trigger-actie**: De actie die wordt uitgevoerd (via een functie).\n",
    "3. **Timing**: Wanneer de trigger wordt uitgevoerd: vóór (`BEFORE`) of na (`AFTER`) het event."
   ]
  },
  {
   "cell_type": "markdown",
   "id": "c59d9bb7-5fd7-45c9-b4e7-c7328d9c341e",
   "metadata": {},
   "source": [
    "## Voorbeelden\n",
    "\n",
    "### **Voorbeeld 1: Bijhouden van wijzigingen in de tabel `countries`**\n",
    "Als een record in de tabel `countries` wordt geüpdatet, willen we de oude gegevens opslaan in een logtabel `countries_log`.\n",
    "\n",
    "#### Stap 1: Logtabel maken\n",
    "```sql\n",
    "CREATE TABLE countries_log (\n",
    "    id SERIAL PRIMARY KEY,\n",
    "    code CHAR(3),\n",
    "    name VARCHAR(64),\n",
    "    changed_at TIMESTAMP DEFAULT CURRENT_TIMESTAMP\n",
    ");"
   ]
  },
  {
   "cell_type": "markdown",
   "id": "de6ab9ba-1211-402b-ba3b-19efd3b5b603",
   "metadata": {},
   "source": [
    "#### Stap 2: Triggerfunctie schrijven\n",
    "Een functie in PostgreSQL bepaalt **wat de trigger doet**.\n",
    "```sql\n",
    "CREATE OR REPLACE FUNCTION log_country_update()\n",
    "RETURNS TRIGGER AS $$\n",
    "BEGIN\n",
    "    INSERT INTO countries_log (code, name, changed_at)\n",
    "    VALUES (OLD.code, OLD.name, CURRENT_TIMESTAMP);\n",
    "    RETURN NEW;\n",
    "END;\n",
    "$$ LANGUAGE plpgsql;\n",
    "```"
   ]
  },
  {
   "cell_type": "markdown",
   "id": "af2d3e3d-b645-43c6-98e9-54c4e707cbd1",
   "metadata": {},
   "source": [
    "#### Stap 3: Trigger aanmaken\n",
    "De trigger koppelen aan de `countries`-tabel.\n",
    "```sql\n",
    "CREATE TRIGGER trigger_log_country_update\n",
    "AFTER UPDATE ON countries\n",
    "FOR EACH ROW\n",
    "EXECUTE FUNCTION log_country_update();\n",
    "```\n",
    "\n",
    "Nu wordt bij elke wijziging in de tabel `countries` een log bijgehouden in `countries_log`."
   ]
  },
  {
   "cell_type": "markdown",
   "id": "e0df40fa-ad41-4639-a57f-054f6d61f0e9",
   "metadata": {},
   "source": [
    "### **Voorbeeld 2: Budgetcontrole op films**\n",
    "Als iemand een nieuw record toevoegt in de tabel `films` en het budget hoger is dan een bepaald bedrag (bijvoorbeeld 10 miljoen), willen we een foutmelding genereren."
   ]
  },
  {
   "cell_type": "markdown",
   "id": "11cb1e1b-d7b7-46eb-85da-5b71476c1f0e",
   "metadata": {},
   "source": [
    "#### Stap 1: Triggerfunctie schrijven\n",
    "```sql\n",
    "CREATE OR REPLACE FUNCTION check_film_budget()\n",
    "RETURNS TRIGGER AS $$\n",
    "BEGIN\n",
    "    IF NEW.budget > 10000000 THEN\n",
    "        RAISE EXCEPTION 'Budget mag niet hoger zijn dan 10 miljoen.';\n",
    "    END IF;\n",
    "    RETURN NEW;\n",
    "END;\n",
    "$$ LANGUAGE plpgsql;\n",
    "```"
   ]
  },
  {
   "cell_type": "markdown",
   "id": "868ba67b-9e59-426a-9a1f-72aab9390b35",
   "metadata": {},
   "source": [
    "#### Stap 2: Trigger aanmaken\n",
    "```sql\n",
    "CREATE TRIGGER trigger_check_budget\n",
    "BEFORE INSERT ON films\n",
    "FOR EACH ROW\n",
    "EXECUTE FUNCTION check_film_budget();\n",
    "```\n",
    "\n",
    "Hiermee wordt elke poging om een film met een te hoog budget toe te voegen, tegengehouden."
   ]
  },
  {
   "cell_type": "markdown",
   "id": "4e47c846-2a34-4323-ae19-88efb3331535",
   "metadata": {},
   "source": [
    "### **Voorbeeld 3: Automatisch invullen van gross_savings**\n",
    "Automatisch bereken en update de kolom `gross_savings` in de tabel `economies` op basis van het `gdp_percapita`."
   ]
  },
  {
   "cell_type": "markdown",
   "id": "f1c6cbd0-4b46-4ac7-be28-f4c19a0199e8",
   "metadata": {},
   "source": [
    "#### Stap 1: Triggerfunctie schrijven\n",
    "```sql\n",
    "CREATE OR REPLACE FUNCTION update_gross_savings()\n",
    "RETURNS TRIGGER AS $$\n",
    "BEGIN\n",
    "    NEW.gross_savings = NEW.gdp_percapita * 0.2; -- Bijv. 20% van GDP\n",
    "    RETURN NEW;\n",
    "END;\n",
    "$$ LANGUAGE plpgsql;\n",
    "```"
   ]
  },
  {
   "cell_type": "markdown",
   "id": "81833d26-e3dc-4ecb-a8a9-37992f4cd94b",
   "metadata": {},
   "source": [
    "#### Stap 2: Trigger aanmaken\n",
    "```sql\n",
    "CREATE TRIGGER trigger_update_gross_savings\n",
    "BEFORE UPDATE ON economies\n",
    "FOR EACH ROW\n",
    "EXECUTE FUNCTION update_gross_savings();\n",
    "```\n",
    "\n",
    "Nu wordt `gross_savings` automatisch opnieuw berekend bij elke wijziging in `gdp_percapita`."
   ]
  },
  {
   "cell_type": "markdown",
   "id": "01b27a04-106e-4a0c-adae-b35c958425a0",
   "metadata": {},
   "source": [
    "## Oefeningen"
   ]
  },
  {
   "cell_type": "markdown",
   "id": "11323afb-d412-4442-9133-c2b075fa9612",
   "metadata": {},
   "source": [
    "### **Oefening 1: Logboek bijhouden van updates**\n",
    "**Doel:** Houd bij elke update in de tabel `cities` bij wat er is gewijzigd.\n",
    "\n",
    "1. Maak een tabel `cities_log` met de volgende kolommen:\n",
    "   - `id` (SERIAL, primaire sleutel)\n",
    "   - `city_name` (oude naam van de stad)\n",
    "   - `updated_at` (timestamp van de update)\n",
    "\n",
    "2. Schrijf een triggerfunctie die bij elke update de oude waarde van de `name` kolom in `cities` opslaat in de logtabel.\n",
    "\n",
    "3. Koppel een trigger aan de tabel `cities`, zodat deze de functie uitvoert bij elke update."
   ]
  },
  {
   "cell_type": "markdown",
   "id": "475b94d2-d3ce-40ee-a1f0-7e0587e28342",
   "metadata": {},
   "source": [
    "### **Oefening 2: Budgetcontrole op films**\n",
    "**Doel:** Zorg ervoor dat geen film in de tabel `films` een budget van meer dan 20 miljoen mag hebben.\n",
    "\n",
    "1. Schrijf een triggerfunctie die controleert of het budget (`budget`) van een film groter is dan 20 miljoen.\n",
    "2. Als het budget te hoog is, genereer een foutmelding (`RAISE EXCEPTION`).\n",
    "3. Maak een trigger die de functie aanroept vóór elke `INSERT` in de tabel `films`."
   ]
  },
  {
   "cell_type": "markdown",
   "id": "b3a63ec5-e173-422d-8253-dd93057919f9",
   "metadata": {},
   "source": [
    "### **Oefening 3: Automatisch invullen van gross_savings**\n",
    "**Doel:** Automatisch bereken en update de kolom `gross_savings` in de tabel `economies` op basis van het `gdp_percapita`.\n",
    "\n",
    "1. Schrijf een triggerfunctie die de waarde van `gross_savings` instelt als 15% van `gdp_percapita`.\n",
    "2. Zorg ervoor dat de functie wordt uitgevoerd vóór elke `INSERT` of `UPDATE` op de tabel `economies`."
   ]
  },
  {
   "cell_type": "markdown",
   "id": "4a106b17-ed43-4710-a0b4-6fa924256dd7",
   "metadata": {},
   "source": [
    "### **Oefening 4: Controle op ontbrekende relaties**\n",
    "**Doel:** Zorg ervoor dat elke film in de tabel `films` een geldig land in de tabel `countries` heeft.\n",
    "\n",
    "1. Schrijf een triggerfunctie die controleert of de waarde in de kolom `country` van `films` overeenkomt met een bestaande `code` in de tabel `countries`.\n",
    "2. Als er geen overeenkomst is, genereer een foutmelding (`RAISE EXCEPTION`).\n",
    "3. Maak een trigger die de functie aanroept vóór elke `INSERT` in de tabel `films`."
   ]
  },
  {
   "cell_type": "markdown",
   "id": "034408cf-ddf1-469f-b08b-523909a3914e",
   "metadata": {},
   "source": [
    "### **Oefening 5: Rollen loggen**\n",
    "**Doel:** Houd een logboek bij van elke nieuwe rol die aan een persoon wordt toegevoegd in de tabel `roles`.\n",
    "\n",
    "1. Maak een tabel `roles_log` met de volgende kolommen:\n",
    "   - `id` (SERIAL, primaire sleutel)\n",
    "   - `person_id` (ID van de persoon)\n",
    "   - `film_id` (ID van de film)\n",
    "   - `role` (toegevoegde rol)\n",
    "   - `added_at` (timestamp)\n",
    "\n",
    "2. Schrijf een triggerfunctie die een nieuwe rij toevoegt aan `roles_log` telkens wanneer een nieuwe rol in de tabel `roles` wordt ingevoerd.\n",
    "3. Koppel een trigger aan de tabel `roles` die de functie uitvoert bij elke `INSERT`."
   ]
  },
  {
   "cell_type": "markdown",
   "id": "848fda98-51e0-4343-b491-9f5011cfe408",
   "metadata": {},
   "source": [
    "### **Oefening 6: Update verificatie**\n",
    "**Doel:** Zorg ervoor dat de `income_group` in de tabel `economies2015` niet wordt gewijzigd als deze al een waarde bevat.\n",
    "\n",
    "1. Schrijf een triggerfunctie die controleert of de kolom `income_group` al een waarde bevat.\n",
    "2. Als er al een waarde is, genereer een foutmelding (`RAISE EXCEPTION`).\n",
    "3. Maak een trigger die de functie aanroept vóór elke `UPDATE` op de tabel `economies2015`."
   ]
  },
  {
   "cell_type": "markdown",
   "id": "017d8be0-4d05-4cfd-8008-0ae52df54b4c",
   "metadata": {},
   "source": [
    "### **Oefening 7: Facebook likes bijwerken**\n",
    "**Doel:** Bereken en update automatisch de IMDb-score op basis van het aantal Facebook-likes en stemmen in de tabel `reviews`.\n",
    "\n",
    "1. Voeg een nieuwe kolom `calculated_score` toe aan de tabel `reviews`.\n",
    "2. Schrijf een triggerfunctie die `calculated_score` instelt op basis van de formule:\n",
    "   ```\n",
    "   calculated_score = (facebook_likes / 1000) + (num_votes / 100) + imdb_score\n",
    "   ```\n",
    "3. Zorg ervoor dat deze functie wordt uitgevoerd vóór elke `INSERT` of `UPDATE` op de tabel `reviews`."
   ]
  },
  {
   "cell_type": "code",
   "execution_count": null,
   "id": "3ba103aa-84ea-4015-adc6-fa2f46e2d6ba",
   "metadata": {},
   "outputs": [],
   "source": []
  }
 ],
 "metadata": {
  "kernelspec": {
   "display_name": "Python 3 (ipykernel)",
   "language": "python",
   "name": "python3"
  },
  "language_info": {
   "codemirror_mode": {
    "name": "ipython",
    "version": 3
   },
   "file_extension": ".py",
   "mimetype": "text/x-python",
   "name": "python",
   "nbconvert_exporter": "python",
   "pygments_lexer": "ipython3",
   "version": "3.12.7"
  }
 },
 "nbformat": 4,
 "nbformat_minor": 5
}
