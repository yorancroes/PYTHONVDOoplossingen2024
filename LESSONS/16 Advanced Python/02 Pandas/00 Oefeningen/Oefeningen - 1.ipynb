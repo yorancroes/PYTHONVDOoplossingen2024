{
 "cells": [
  {
   "cell_type": "markdown",
   "id": "sacred-massage",
   "metadata": {},
   "source": [
    "### Oefeningen"
   ]
  },
  {
   "cell_type": "markdown",
   "id": "purple-invalid",
   "metadata": {},
   "source": [
    "#### Vraag 1"
   ]
  },
  {
   "cell_type": "markdown",
   "id": "ideal-vocabulary",
   "metadata": {},
   "source": [
    "Naast deze notebook bevindt zich een gegevensbestand met de naam `daily_quotes.csv`, dat EOD OHLC/Volume-gegevens bevat voor een klein aantal aandelen gedurende een periode van 6 maanden."
   ]
  },
  {
   "cell_type": "markdown",
   "id": "physical-orlando",
   "metadata": {},
   "source": [
    "De eerste stap is om deze gegevens in een dataframe te laden, ervoor zorgend dat alle datatypes correct zijn (datetime objecten voor datums, floats voor OHLC gegevens, en integers voor Volume)."
   ]
  },
  {
   "cell_type": "markdown",
   "id": "subsequent-collection",
   "metadata": {},
   "source": [
    "Schrijf een functie die de bestandsnaam als argument ontvangt en een dataframe retourneert dat:  \n",
    "- het correcte data type heeft voor elke kolom (`str`, `float`, `int`)\n",
    "- een rij index heeft op basis van de `symbol` kolom"
   ]
  },
  {
   "cell_type": "markdown",
   "id": "coral-daily",
   "metadata": {},
   "source": [
    "Daarnaast willen we dat ons dataframe kolommen bevat die genoemd en gerangschikt zijn op een specifieke manier:- symbol (`str`)\n",
    "- date (`datetime`)\n",
    "- open (`float`)\n",
    "- high (`float`)\n",
    "- low (`float`)\n",
    "- close (`float`)\n",
    "- volume (`int`)\n",
    "\n",
    "(waarbij `symbol` wordt gebruikt als de rij index)"
   ]
  },
  {
   "cell_type": "markdown",
   "id": "celtic-correspondence",
   "metadata": {},
   "source": [
    "Hint:\n",
    "Check de Pandas docs voor `read_csv` om te zien hoe je datetime data onmiddellijk bij het inlezen kan verwerken (meer specifiek: bekijk even de `parse_dates` optie):\n",
    "\n",
    "https://pandas.pydata.org/pandas-docs/stable/reference/api/pandas.read_csv.html\n",
    "\n",
    "Als alternatief kan je deze objecten converteren naar datetime types na het laden met behulp van de Pandas `to_datetime` functie, die hier wordt beschreven: \n",
    "\n",
    "https://pandas.pydata.org/pandas-docs/stable/reference/api/pandas.to_datetime.html\n",
    "\n",
    "en gebruik vervolgens concatenatie om een dataframe wat de \"oude\" `date` kolom vervangt door een \"nieuwe\" kolom met het juiste type. "
   ]
  },
  {
   "cell_type": "markdown",
   "id": "illegal-chaos",
   "metadata": {},
   "source": [
    "#### Vraag 2"
   ]
  },
  {
   "cell_type": "markdown",
   "id": "illegal-communication",
   "metadata": {},
   "source": [
    "Schrijf een **functie** die, gegeven een dataframe gestructureerd zoals wat we gemaakt hebben in Vraag 1 en een symboolnaam als een string (bijv. `AAPL`, `MSFT`, enz.), het volgende doet:  \n",
    "- een gelijkaardig gestructureerd dataframe wat bestaat uit de rij (of rijen indien de max waarde meerdere keren voorkomt) die de records met het hoogste volume voor het gegeven symbool bevatten\n",
    "- een `ValueError` opwerpt indien het symbool niet in het dataframe aanwezig is"
   ]
  },
  {
   "cell_type": "markdown",
   "id": "spoken-facing",
   "metadata": {},
   "source": [
    "#### Vraag 3"
   ]
  },
  {
   "cell_type": "markdown",
   "id": "centered-margin",
   "metadata": {},
   "source": [
    "Ons doel is nu om een functie te schrijven die, voor een specifiek symbool, de rij teruggeeft die de grootste spread tussen hoog en laag had."
   ]
  },
  {
   "cell_type": "markdown",
   "id": "appropriate-litigation",
   "metadata": {},
   "source": [
    "Schrijf een functie om dat te doen - het zou gewoon een dataframe moeten retourneren met de rij (of rijen) met de grootste hoog-laag spreiding."
   ]
  },
  {
   "cell_type": "markdown",
   "id": "fundamental-magazine",
   "metadata": {},
   "source": [
    "#### Vraag 4"
   ]
  },
  {
   "cell_type": "markdown",
   "id": "structured-coral",
   "metadata": {},
   "source": [
    "Gebruik dezelfde dataframe als de voorgaande vragen, schrijf een functie die een enkele dataframe retourneert met de record(s) met de maximale high-low spread voor elk symbool in de dataframe. (Hardcode de symboolnamen niet in deze functie - in plaats daarvan zou je de mogelijke symboolnamen uit de gegevens zelf moeten halen)."
   ]
  },
  {
   "cell_type": "markdown",
   "id": "warming-oriental",
   "metadata": {},
   "source": [
    "Het geretourneerde dataframe moet dezelfde structuur hebben als het originele dataframe, maar alleen de rijen bevatten met de maximale high-low spread voor elk symbool."
   ]
  }
 ],
 "metadata": {
  "kernelspec": {
   "display_name": "Python 3 (ipykernel)",
   "language": "python",
   "name": "python3"
  },
  "language_info": {
   "codemirror_mode": {
    "name": "ipython",
    "version": 3
   },
   "file_extension": ".py",
   "mimetype": "text/x-python",
   "name": "python",
   "nbconvert_exporter": "python",
   "pygments_lexer": "ipython3",
   "version": "3.11.6"
  }
 },
 "nbformat": 4,
 "nbformat_minor": 5
}
