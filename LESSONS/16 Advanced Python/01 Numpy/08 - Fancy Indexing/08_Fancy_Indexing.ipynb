{
 "cells": [
  {
   "cell_type": "markdown",
   "metadata": {},
   "source": [
    "### Fancy Indexing"
   ]
  },
  {
   "cell_type": "markdown",
   "metadata": {},
   "source": [
    "In NumPy is **fancy indexing** een manier om een array, bestaande uit indices, te gebruiken om meerdere elementen van een andere array in één keer aan te duiden.  Dit is te zien als een uitbreiding van indexing zoals we tot heden hebben gezien waarbij je één element via zijn index selecteert - nu is het meerdere ineens."
   ]
  },
  {
   "cell_type": "code",
   "execution_count": 1,
   "metadata": {
    "tags": []
   },
   "outputs": [],
   "source": [
    "import numpy as np"
   ]
  },
  {
   "cell_type": "code",
   "execution_count": 2,
   "metadata": {
    "tags": []
   },
   "outputs": [
    {
     "data": {
      "text/plain": [
       "array([10, 20, 30, 40, 50, 60, 70, 80, 90])"
      ]
     },
     "execution_count": 2,
     "metadata": {},
     "output_type": "execute_result"
    }
   ],
   "source": [
    "arr = np.arange(10, 100, 10)\n",
    "arr"
   ]
  },
  {
   "cell_type": "markdown",
   "metadata": {},
   "source": [
    "Indien we een array wensen te maken die bestaat uit element 0, 2 en 3 van `arr` dan kan dit op deze manier:"
   ]
  },
  {
   "cell_type": "code",
   "execution_count": 3,
   "metadata": {
    "tags": []
   },
   "outputs": [
    {
     "data": {
      "text/plain": [
       "array([10, 30, 40])"
      ]
     },
     "execution_count": 3,
     "metadata": {},
     "output_type": "execute_result"
    }
   ],
   "source": [
    "sub = np.array([arr[0], arr[2], arr[3]])\n",
    "sub"
   ]
  },
  {
   "cell_type": "markdown",
   "metadata": {},
   "source": [
    "Met behulp van fancy indexing kunnen we hetzelfde doen op basis van de indices:"
   ]
  },
  {
   "cell_type": "code",
   "execution_count": 4,
   "metadata": {
    "tags": []
   },
   "outputs": [
    {
     "data": {
      "text/plain": [
       "array([10, 30, 40])"
      ]
     },
     "execution_count": 4,
     "metadata": {},
     "output_type": "execute_result"
    }
   ],
   "source": [
    "sub = arr[np.array([0, 2, 3])]\n",
    "sub"
   ]
  },
  {
   "cell_type": "markdown",
   "metadata": {},
   "source": [
    "In dit voorbeeld is `[0, 2, 3]` de **index array** - een array bestaande uit indices."
   ]
  },
  {
   "cell_type": "markdown",
   "metadata": {},
   "source": [
    "Wees voorzichtig met fancy indexing - we kunnen een `ndarray`, en in sommige gevallen zelfs een Python `list` gebruiken, maar we kunnen **geen** `tuple` gebruiken - NumPy zal dit interpreteren als het specifiëren van enkelvoudige indices voor meerdere dimensies."
   ]
  },
  {
   "cell_type": "code",
   "execution_count": 5,
   "metadata": {},
   "outputs": [
    {
     "name": "stdout",
     "output_type": "stream",
     "text": [
      "<class 'IndexError'> too many indices for array: array is 1-dimensional, but 3 were indexed\n"
     ]
    }
   ],
   "source": [
    "try:\n",
    "    arr[(0, 2, 3)]\n",
    "except Exception as ex:\n",
    "    print(type(ex), ex)"
   ]
  },
  {
   "cell_type": "markdown",
   "metadata": {},
   "source": [
    "We krijgen die uitzondering omdat NumPy onze tuple interpreteert als het specificeren van indices voor 3 assen (dimensies), maar onze array heeft er slechts één - vandaar de melding `too many indices`."
   ]
  },
  {
   "cell_type": "markdown",
   "metadata": {},
   "source": [
    "In tegenstelling tot bij slicing, heeft de array die we terugkrijgen bij fancy indexing **geen** \"link\" met het origineel:"
   ]
  },
  {
   "cell_type": "code",
   "execution_count": 6,
   "metadata": {},
   "outputs": [
    {
     "data": {
      "text/plain": [
       "array([10, 20, 30, 40, 50, 60, 70, 80, 90])"
      ]
     },
     "execution_count": 6,
     "metadata": {},
     "output_type": "execute_result"
    }
   ],
   "source": [
    "arr"
   ]
  },
  {
   "cell_type": "code",
   "execution_count": 7,
   "metadata": {},
   "outputs": [
    {
     "data": {
      "text/plain": [
       "array([10, 30, 40])"
      ]
     },
     "execution_count": 7,
     "metadata": {},
     "output_type": "execute_result"
    }
   ],
   "source": [
    "sub"
   ]
  },
  {
   "cell_type": "code",
   "execution_count": 8,
   "metadata": {},
   "outputs": [
    {
     "data": {
      "text/plain": [
       "array([ 10, 300,  40])"
      ]
     },
     "execution_count": 8,
     "metadata": {},
     "output_type": "execute_result"
    }
   ],
   "source": [
    "sub[1] = 300\n",
    "sub"
   ]
  },
  {
   "cell_type": "code",
   "execution_count": 9,
   "metadata": {},
   "outputs": [
    {
     "data": {
      "text/plain": [
       "array([10, 20, 30, 40, 50, 60, 70, 80, 90])"
      ]
     },
     "execution_count": 9,
     "metadata": {},
     "output_type": "execute_result"
    }
   ],
   "source": [
    "arr"
   ]
  },
  {
   "cell_type": "markdown",
   "metadata": {},
   "source": [
    "Eén van de interessante dingen over fancy indexing is dat de resulterende array de vorm heeft van de indexarray:"
   ]
  },
  {
   "cell_type": "code",
   "execution_count": 10,
   "metadata": {
    "tags": []
   },
   "outputs": [
    {
     "data": {
      "text/plain": [
       "array([1, 2, 3, 4, 5, 6, 7, 8, 9])"
      ]
     },
     "execution_count": 10,
     "metadata": {},
     "output_type": "execute_result"
    }
   ],
   "source": [
    "arr = np.arange(1, 10)\n",
    "arr"
   ]
  },
  {
   "cell_type": "code",
   "execution_count": 11,
   "metadata": {},
   "outputs": [
    {
     "data": {
      "text/plain": [
       "array([1, 2, 2, 6])"
      ]
     },
     "execution_count": 11,
     "metadata": {},
     "output_type": "execute_result"
    }
   ],
   "source": [
    "arr[np.array([0, 1, 1, 5])]"
   ]
  },
  {
   "cell_type": "markdown",
   "metadata": {},
   "source": [
    "Hier was de selectie-array `[0, 1, 1, 5]`, dus een shape van `1 x 4`, en dus was ons resultaat een array van die vorm. (Merk ook op dat we dezelfde index meer dan één keer kunnen specificeren).\n",
    "\n",
    "Maar we kunnen ook het volgende doen, met behulp van een 2-D `ndarray` voor de indices:"
   ]
  },
  {
   "cell_type": "code",
   "execution_count": 12,
   "metadata": {},
   "outputs": [
    {
     "data": {
      "text/plain": [
       "array([[1, 2],\n",
       "       [2, 6]])"
      ]
     },
     "execution_count": 12,
     "metadata": {},
     "output_type": "execute_result"
    }
   ],
   "source": [
    "arr[np.array(\n",
    "    [\n",
    "        [0, 1], \n",
    "        [1, 5]\n",
    "    ]\n",
    ")]"
   ]
  },
  {
   "cell_type": "markdown",
   "metadata": {},
   "source": [
    "Je zal merken dat de resulterende array, net als in het vorige voorbeeld, de elementen van `arr` gebruikt op de indices `0`, `1`, `1`, en `5`, maar de resulterende **shape** komt overeen met de vorm van de indices die we hebben gespecificeerd."
   ]
  },
  {
   "cell_type": "markdown",
   "metadata": {},
   "source": [
    "We kunnen ook fancy indexing gebruiken op multi-dimensionale arrays:"
   ]
  },
  {
   "cell_type": "code",
   "execution_count": 13,
   "metadata": {},
   "outputs": [
    {
     "data": {
      "text/plain": [
       "array([[ 0,  1,  2,  3,  4],\n",
       "       [ 5,  6,  7,  8,  9],\n",
       "       [10, 11, 12, 13, 14],\n",
       "       [15, 16, 17, 18, 19],\n",
       "       [20, 21, 22, 23, 24]])"
      ]
     },
     "execution_count": 13,
     "metadata": {},
     "output_type": "execute_result"
    }
   ],
   "source": [
    "m = np.arange(25).reshape(5, 5)\n",
    "m"
   ]
  },
  {
   "cell_type": "markdown",
   "metadata": {},
   "source": [
    "Laten we alle kolommen kiezen uit rijen `0`, `1` en `3` - niet iets dat we kunnen doen met standaard slicen:"
   ]
  },
  {
   "cell_type": "code",
   "execution_count": 14,
   "metadata": {},
   "outputs": [
    {
     "data": {
      "text/plain": [
       "array([[ 0,  1,  2,  3,  4],\n",
       "       [ 5,  6,  7,  8,  9],\n",
       "       [15, 16, 17, 18, 19]])"
      ]
     },
     "execution_count": 14,
     "metadata": {},
     "output_type": "execute_result"
    }
   ],
   "source": [
    "m[[0, 1, 3]]"
   ]
  },
  {
   "cell_type": "markdown",
   "metadata": {},
   "source": [
    "Bovendien kunnen we voor de tweede as een enkele index, een slice of een fancy index specificeren:"
   ]
  },
  {
   "cell_type": "code",
   "execution_count": 15,
   "metadata": {},
   "outputs": [
    {
     "data": {
      "text/plain": [
       "array([ 2,  7, 17])"
      ]
     },
     "execution_count": 15,
     "metadata": {},
     "output_type": "execute_result"
    }
   ],
   "source": [
    "m[[0, 1, 3], 2]"
   ]
  },
  {
   "cell_type": "markdown",
   "metadata": {},
   "source": [
    "Zoals je kan zien, hebben we uiteindelijk het 3e element van elke rij gekozen, voor rijen `0`, `1`, en `3`."
   ]
  },
  {
   "cell_type": "markdown",
   "metadata": {},
   "source": [
    "We kunnen ook een slice specifiëren:"
   ]
  },
  {
   "cell_type": "code",
   "execution_count": 16,
   "metadata": {},
   "outputs": [
    {
     "data": {
      "text/plain": [
       "array([[ 0,  1,  2,  3,  4],\n",
       "       [ 5,  6,  7,  8,  9],\n",
       "       [10, 11, 12, 13, 14],\n",
       "       [15, 16, 17, 18, 19],\n",
       "       [20, 21, 22, 23, 24]])"
      ]
     },
     "execution_count": 16,
     "metadata": {},
     "output_type": "execute_result"
    }
   ],
   "source": [
    "m"
   ]
  },
  {
   "cell_type": "code",
   "execution_count": 17,
   "metadata": {},
   "outputs": [
    {
     "data": {
      "text/plain": [
       "array([[ 0,  2,  4],\n",
       "       [ 5,  7,  9],\n",
       "       [15, 17, 19]])"
      ]
     },
     "execution_count": 17,
     "metadata": {},
     "output_type": "execute_result"
    }
   ],
   "source": [
    "m[[0, 1, 3], 0::2]"
   ]
  },
  {
   "cell_type": "markdown",
   "metadata": {},
   "source": [
    "En natuurlijk kunnen we ook een indexarray specificeren voor beide dimensies, maar dit is wat moeilijker te begrijpen en wordt niet vaak gebruikt - maar het is zeker mogelijk:"
   ]
  },
  {
   "cell_type": "code",
   "execution_count": 18,
   "metadata": {},
   "outputs": [
    {
     "data": {
      "text/plain": [
       "array([[ 0,  1,  2,  3,  4],\n",
       "       [ 5,  6,  7,  8,  9],\n",
       "       [10, 11, 12, 13, 14],\n",
       "       [15, 16, 17, 18, 19],\n",
       "       [20, 21, 22, 23, 24]])"
      ]
     },
     "execution_count": 18,
     "metadata": {},
     "output_type": "execute_result"
    }
   ],
   "source": [
    "m"
   ]
  },
  {
   "cell_type": "code",
   "execution_count": 19,
   "metadata": {},
   "outputs": [
    {
     "data": {
      "text/plain": [
       "array([ 1,  7, 19])"
      ]
     },
     "execution_count": 19,
     "metadata": {},
     "output_type": "execute_result"
    }
   ],
   "source": [
    "m[np.array([0, 1, 3]), np.array([1, 2, 4])]"
   ]
  },
  {
   "cell_type": "markdown",
   "metadata": {},
   "source": [
    "Omdat beide indexarrays dezelfde shape hadden, kregen we als resultaat `(0, 1)`, `(1, 2)` en `(3, 4)` voor onze indices."
   ]
  },
  {
   "cell_type": "markdown",
   "metadata": {},
   "source": [
    "Je kan het resultaat zien als de elementen op de tuples `(i, j)` die gevormd worden door de twee arrays samen te voegen:\n",
    "\n",
    "```\n",
    "zip([0, 1, 3], [1, 2, 4])\n",
    "```\n",
    "wat overeenkomt met volgende indices:\n",
    "```\n",
    "[(0, 1), (1, 2), (3, 4)]\n",
    "```"
   ]
  },
  {
   "cell_type": "markdown",
   "metadata": {},
   "source": [
    "Je kan zelfs 2-D indexarrays gebruiken, maar dit wordt behoorlijk ingewikkeld om te begrijpen en dit wordt daarom niet vaak gebruikt.\n",
    "\n",
    "Bijvoorbeeld:"
   ]
  },
  {
   "cell_type": "code",
   "execution_count": 20,
   "metadata": {},
   "outputs": [
    {
     "data": {
      "text/plain": [
       "array([[ 1, 23],\n",
       "       [12, 19]])"
      ]
     },
     "execution_count": 20,
     "metadata": {},
     "output_type": "execute_result"
    }
   ],
   "source": [
    "m[np.array([[0, 4], [2, 3]]), np.array([[1, 3], [2, 4]])]"
   ]
  },
  {
   "cell_type": "markdown",
   "metadata": {},
   "source": [
    "Opnieuw kan je dit interpreteren als het \"zippen\" van de eerste en tweede dimensie indices als volgt:"
   ]
  },
  {
   "cell_type": "markdown",
   "metadata": {},
   "source": [
    "```\n",
    "0 4\n",
    "2 3\n",
    "```\n",
    "\n",
    "\"ge-zipped\" met\n",
    "\n",
    "```\n",
    "1 3\n",
    "2 4\n",
    "```\n",
    "\n",
    "wat resulteert in de volgende gecombineerde indices:\n",
    "\n",
    "```\n",
    "(0, 1) (4, 3)\n",
    "(2, 2) (3, 4)\n",
    "```"
   ]
  },
  {
   "cell_type": "markdown",
   "metadata": {},
   "source": [
    "Opnieuw is de resulterende shape gelijk aan de shape van de twee index arrays."
   ]
  },
  {
   "cell_type": "markdown",
   "metadata": {},
   "source": [
    "##### Voorbeeld"
   ]
  },
  {
   "cell_type": "markdown",
   "metadata": {},
   "source": [
    "Laat ons even een praktische toepassing van fancy indexing bekijken:"
   ]
  },
  {
   "cell_type": "markdown",
   "metadata": {},
   "source": [
    "We laden wat data inzake dagelijkse beurskoersen uit een file laden: `AAPL.csv`"
   ]
  },
  {
   "cell_type": "code",
   "execution_count": 3,
   "metadata": {
    "tags": []
   },
   "outputs": [],
   "source": [
    "import csv\n",
    "\n",
    "with open('AAPL.csv') as f:\n",
    "    reader = csv.reader(f, skipinitialspace=True)\n",
    "    headers = next(reader)\n",
    "    data = list(reader)"
   ]
  },
  {
   "cell_type": "code",
   "execution_count": 4,
   "metadata": {
    "tags": []
   },
   "outputs": [
    {
     "data": {
      "text/plain": [
       "['Symbol', 'Date', 'Close', 'Volume', 'Open', 'High', 'Low']"
      ]
     },
     "execution_count": 4,
     "metadata": {},
     "output_type": "execute_result"
    }
   ],
   "source": [
    "headers"
   ]
  },
  {
   "cell_type": "code",
   "execution_count": 5,
   "metadata": {
    "tags": []
   },
   "outputs": [
    {
     "data": {
      "text/plain": [
       "[['AAPL', '10/29/2020', '115.32', '146129200', '112.37', '116.93', '112.2'],\n",
       " ['AAPL', '10/28/2020', '111.2', '143937800', '115.05', '115.43', '111.1'],\n",
       " ['AAPL', '10/27/2020', '116.6', '92276770', '115.49', '117.28', '114.5399'],\n",
       " ['AAPL', '10/26/2020', '115.05', '111850700', '114.01', '116.55', '112.88'],\n",
       " ['AAPL', '10/23/2020', '115.04', '82572650', '116.39', '116.55', '114.28'],\n",
       " ['AAPL', '10/22/2020', '115.75', '101988000', '117.45', '118.04', '114.59'],\n",
       " ['AAPL', '10/21/2020', '116.87', '89945980', '116.67', '118.705', '116.45'],\n",
       " ['AAPL', '10/20/2020', '117.51', '124423700', '116.2', '118.98', '115.63'],\n",
       " ['AAPL', '10/19/2020', '115.98', '120639300', '119.96', '120.419', '115.66'],\n",
       " ['AAPL', '10/16/2020', '119.02', '115393800', '121.28', '121.548', '118.81'],\n",
       " ['AAPL', '10/15/2020', '120.71', '112559200', '118.72', '121.2', '118.15'],\n",
       " ['AAPL', '10/14/2020', '121.19', '151062300', '121', '123.03', '119.62'],\n",
       " ['AAPL', '10/13/2020', '121.1', '262330500', '125.27', '125.39', '119.65'],\n",
       " ['AAPL', '10/12/2020', '124.4', '240226800', '120.06', '125.18', '119.2845'],\n",
       " ['AAPL', '10/09/2020', '116.97', '100506900', '115.28', '117', '114.92'],\n",
       " ['AAPL', '10/08/2020', '114.97', '83477150', '116.25', '116.4', '114.5901'],\n",
       " ['AAPL', '10/07/2020', '115.08', '96848990', '114.62', '115.55', '114.13'],\n",
       " ['AAPL', '10/06/2020', '113.16', '161498200', '115.7', '116.12', '112.25'],\n",
       " ['AAPL', '10/05/2020', '116.5', '106243800', '113.91', '116.65', '113.55'],\n",
       " ['AAPL', '10/02/2020', '113.02', '144712000', '112.89', '115.37', '112.22'],\n",
       " ['AAPL', '10/01/2020', '116.79', '116120400', '117.64', '117.72', '115.83'],\n",
       " ['AAPL', '09/30/2020', '115.81', '142675200', '113.79', '117.26', '113.62'],\n",
       " ['AAPL', '09/29/2020', '114.09', '100060500', '114.55', '115.31', '113.57']]"
      ]
     },
     "execution_count": 5,
     "metadata": {},
     "output_type": "execute_result"
    }
   ],
   "source": [
    "data"
   ]
  },
  {
   "cell_type": "markdown",
   "metadata": {},
   "source": [
    "Wat we hier willen doen, is de data in één array extraheren en de numerieke waarden voor `Open` en `Close` in een andere array - zolang we beide arrays in dezelfde volgorde houden, kunnen we altijd de datum met de data associëren door dezelfde index op beide arrays te gebruiken."
   ]
  },
  {
   "cell_type": "markdown",
   "metadata": {},
   "source": [
    "We starten met al deze data in een NumPy array te stoppen:"
   ]
  },
  {
   "cell_type": "code",
   "execution_count": 6,
   "metadata": {
    "tags": []
   },
   "outputs": [
    {
     "data": {
      "text/plain": [
       "array([['AAPL', '10/29/2020', '115.32', '146129200', '112.37', '116.93',\n",
       "        '112.2'],\n",
       "       ['AAPL', '10/28/2020', '111.2', '143937800', '115.05', '115.43',\n",
       "        '111.1'],\n",
       "       ['AAPL', '10/27/2020', '116.6', '92276770', '115.49', '117.28',\n",
       "        '114.5399'],\n",
       "       ['AAPL', '10/26/2020', '115.05', '111850700', '114.01', '116.55',\n",
       "        '112.88'],\n",
       "       ['AAPL', '10/23/2020', '115.04', '82572650', '116.39', '116.55',\n",
       "        '114.28'],\n",
       "       ['AAPL', '10/22/2020', '115.75', '101988000', '117.45', '118.04',\n",
       "        '114.59'],\n",
       "       ['AAPL', '10/21/2020', '116.87', '89945980', '116.67', '118.705',\n",
       "        '116.45'],\n",
       "       ['AAPL', '10/20/2020', '117.51', '124423700', '116.2', '118.98',\n",
       "        '115.63'],\n",
       "       ['AAPL', '10/19/2020', '115.98', '120639300', '119.96', '120.419',\n",
       "        '115.66'],\n",
       "       ['AAPL', '10/16/2020', '119.02', '115393800', '121.28', '121.548',\n",
       "        '118.81'],\n",
       "       ['AAPL', '10/15/2020', '120.71', '112559200', '118.72', '121.2',\n",
       "        '118.15'],\n",
       "       ['AAPL', '10/14/2020', '121.19', '151062300', '121', '123.03',\n",
       "        '119.62'],\n",
       "       ['AAPL', '10/13/2020', '121.1', '262330500', '125.27', '125.39',\n",
       "        '119.65'],\n",
       "       ['AAPL', '10/12/2020', '124.4', '240226800', '120.06', '125.18',\n",
       "        '119.2845'],\n",
       "       ['AAPL', '10/09/2020', '116.97', '100506900', '115.28', '117',\n",
       "        '114.92'],\n",
       "       ['AAPL', '10/08/2020', '114.97', '83477150', '116.25', '116.4',\n",
       "        '114.5901'],\n",
       "       ['AAPL', '10/07/2020', '115.08', '96848990', '114.62', '115.55',\n",
       "        '114.13'],\n",
       "       ['AAPL', '10/06/2020', '113.16', '161498200', '115.7', '116.12',\n",
       "        '112.25'],\n",
       "       ['AAPL', '10/05/2020', '116.5', '106243800', '113.91', '116.65',\n",
       "        '113.55'],\n",
       "       ['AAPL', '10/02/2020', '113.02', '144712000', '112.89', '115.37',\n",
       "        '112.22'],\n",
       "       ['AAPL', '10/01/2020', '116.79', '116120400', '117.64', '117.72',\n",
       "        '115.83'],\n",
       "       ['AAPL', '09/30/2020', '115.81', '142675200', '113.79', '117.26',\n",
       "        '113.62'],\n",
       "       ['AAPL', '09/29/2020', '114.09', '100060500', '114.55', '115.31',\n",
       "        '113.57']], dtype='<U10')"
      ]
     },
     "execution_count": 6,
     "metadata": {},
     "output_type": "execute_result"
    }
   ],
   "source": [
    "data = np.array(data)\n",
    "data"
   ]
  },
  {
   "cell_type": "markdown",
   "metadata": {},
   "source": [
    "Het zal je opvallen dat ons data type string (Unicode strings van met lengte van maximaal 10 karakters) is - daar moeten we straks iets aan doen."
   ]
  },
  {
   "cell_type": "markdown",
   "metadata": {},
   "source": [
    "We extraheren eerst de datums.  Daar kunnen we een slice voor gebruiken:"
   ]
  },
  {
   "cell_type": "code",
   "execution_count": 8,
   "metadata": {
    "tags": []
   },
   "outputs": [
    {
     "data": {
      "text/plain": [
       "array(['10/29/2020', '10/28/2020', '10/27/2020', '10/26/2020',\n",
       "       '10/23/2020', '10/22/2020', '10/21/2020', '10/20/2020',\n",
       "       '10/19/2020', '10/16/2020', '10/15/2020', '10/14/2020',\n",
       "       '10/13/2020', '10/12/2020', '10/09/2020', '10/08/2020',\n",
       "       '10/07/2020', '10/06/2020', '10/05/2020', '10/02/2020',\n",
       "       '10/01/2020', '09/30/2020', '09/29/2020'], dtype='<U10')"
      ]
     },
     "execution_count": 8,
     "metadata": {},
     "output_type": "execute_result"
    }
   ],
   "source": [
    "dates = data[:, 1]\n",
    "dates"
   ]
  },
  {
   "cell_type": "markdown",
   "metadata": {},
   "source": [
    "De datums zijn ook strings, en we kunnen deze waarden omzetten naar `datetime` objecten.  \n",
    "NumPy kan andere Python types zoals datetime verwerken, maar dit wordt niet zo snel verwerkt als numerieke datatypes die volledig vectorisatie ondersteunen.  Dit betekent dat operaties op arrays van datetime objecten mogelijk niet zo efficiënt zijn als bij native NumPy numerieke datatypes, omdat deze operaties mogelijk niet gevectoriseerd kunnen worden en dus element-per-element moeten worden uitgevoerd.  \n",
    "\n",
    "Alles wat we echt nodig hebben van deze datums is om de datum voor een bepaalde index op te zoeken, dus zal dit geen problemen opleveren. "
   ]
  },
  {
   "cell_type": "code",
   "execution_count": 9,
   "metadata": {
    "tags": []
   },
   "outputs": [],
   "source": [
    "from dateutil import parser"
   ]
  },
  {
   "cell_type": "code",
   "execution_count": 10,
   "metadata": {
    "tags": []
   },
   "outputs": [],
   "source": [
    "dates = [parser.parse(d) for d in dates]"
   ]
  },
  {
   "cell_type": "code",
   "execution_count": 11,
   "metadata": {
    "tags": []
   },
   "outputs": [
    {
     "data": {
      "text/plain": [
       "[datetime.datetime(2020, 10, 29, 0, 0),\n",
       " datetime.datetime(2020, 10, 28, 0, 0),\n",
       " datetime.datetime(2020, 10, 27, 0, 0),\n",
       " datetime.datetime(2020, 10, 26, 0, 0),\n",
       " datetime.datetime(2020, 10, 23, 0, 0),\n",
       " datetime.datetime(2020, 10, 22, 0, 0),\n",
       " datetime.datetime(2020, 10, 21, 0, 0),\n",
       " datetime.datetime(2020, 10, 20, 0, 0),\n",
       " datetime.datetime(2020, 10, 19, 0, 0),\n",
       " datetime.datetime(2020, 10, 16, 0, 0),\n",
       " datetime.datetime(2020, 10, 15, 0, 0),\n",
       " datetime.datetime(2020, 10, 14, 0, 0),\n",
       " datetime.datetime(2020, 10, 13, 0, 0),\n",
       " datetime.datetime(2020, 10, 12, 0, 0),\n",
       " datetime.datetime(2020, 10, 9, 0, 0),\n",
       " datetime.datetime(2020, 10, 8, 0, 0),\n",
       " datetime.datetime(2020, 10, 7, 0, 0),\n",
       " datetime.datetime(2020, 10, 6, 0, 0),\n",
       " datetime.datetime(2020, 10, 5, 0, 0),\n",
       " datetime.datetime(2020, 10, 2, 0, 0),\n",
       " datetime.datetime(2020, 10, 1, 0, 0),\n",
       " datetime.datetime(2020, 9, 30, 0, 0),\n",
       " datetime.datetime(2020, 9, 29, 0, 0)]"
      ]
     },
     "execution_count": 11,
     "metadata": {},
     "output_type": "execute_result"
    }
   ],
   "source": [
    "dates"
   ]
  },
  {
   "cell_type": "code",
   "execution_count": 13,
   "metadata": {
    "tags": []
   },
   "outputs": [
    {
     "data": {
      "text/plain": [
       "3"
      ]
     },
     "execution_count": 13,
     "metadata": {},
     "output_type": "execute_result"
    }
   ],
   "source": [
    "dates[0].weekday()"
   ]
  },
  {
   "cell_type": "markdown",
   "metadata": {},
   "source": [
    "Nu gaan we de numerieke gegevens extraheren - en deze keer zullen we zeker een NumPy-array hiervoor willen gebruiken.  De kolommen die we wensen te extraheren zijn de `Open`en `Close` kolommen:"
   ]
  },
  {
   "cell_type": "code",
   "execution_count": 29,
   "metadata": {},
   "outputs": [
    {
     "data": {
      "text/plain": [
       "['Symbol', 'Date', 'Close', 'Volume', 'Open', 'High', 'Low']"
      ]
     },
     "execution_count": 29,
     "metadata": {},
     "output_type": "execute_result"
    }
   ],
   "source": [
    "headers"
   ]
  },
  {
   "cell_type": "markdown",
   "metadata": {},
   "source": [
    "We zijn dus geïnteresseer in indices `4` en `2` - in die volgorde."
   ]
  },
  {
   "cell_type": "markdown",
   "metadata": {},
   "source": [
    "We kunnen fancu indexing gebruiken om die twee kolommen te extraheren:"
   ]
  },
  {
   "cell_type": "code",
   "execution_count": 30,
   "metadata": {},
   "outputs": [
    {
     "data": {
      "text/plain": [
       "array([['112.37', '115.32'],\n",
       "       ['115.05', '111.2'],\n",
       "       ['115.49', '116.6'],\n",
       "       ['114.01', '115.05'],\n",
       "       ['116.39', '115.04'],\n",
       "       ['117.45', '115.75'],\n",
       "       ['116.67', '116.87'],\n",
       "       ['116.2', '117.51'],\n",
       "       ['119.96', '115.98'],\n",
       "       ['121.28', '119.02'],\n",
       "       ['118.72', '120.71'],\n",
       "       ['121', '121.19'],\n",
       "       ['125.27', '121.1'],\n",
       "       ['120.06', '124.4'],\n",
       "       ['115.28', '116.97'],\n",
       "       ['116.25', '114.97'],\n",
       "       ['114.62', '115.08'],\n",
       "       ['115.7', '113.16'],\n",
       "       ['113.91', '116.5'],\n",
       "       ['112.89', '113.02'],\n",
       "       ['117.64', '116.79'],\n",
       "       ['113.79', '115.81'],\n",
       "       ['114.55', '114.09']], dtype='<U10')"
      ]
     },
     "execution_count": 30,
     "metadata": {},
     "output_type": "execute_result"
    }
   ],
   "source": [
    "oc = data[:, np.array([4, 2])]\n",
    "oc"
   ]
  },
  {
   "cell_type": "markdown",
   "metadata": {},
   "source": [
    "We zijn er bijna - het enige wat we nu nog willen doen is om alle strings om te zetten naar floats.  Hiervoor gebruiken we de `astype`methode:"
   ]
  },
  {
   "cell_type": "code",
   "execution_count": 31,
   "metadata": {},
   "outputs": [
    {
     "data": {
      "text/plain": [
       "array([[112.37, 115.32],\n",
       "       [115.05, 111.2 ],\n",
       "       [115.49, 116.6 ],\n",
       "       [114.01, 115.05],\n",
       "       [116.39, 115.04],\n",
       "       [117.45, 115.75],\n",
       "       [116.67, 116.87],\n",
       "       [116.2 , 117.51],\n",
       "       [119.96, 115.98],\n",
       "       [121.28, 119.02],\n",
       "       [118.72, 120.71],\n",
       "       [121.  , 121.19],\n",
       "       [125.27, 121.1 ],\n",
       "       [120.06, 124.4 ],\n",
       "       [115.28, 116.97],\n",
       "       [116.25, 114.97],\n",
       "       [114.62, 115.08],\n",
       "       [115.7 , 113.16],\n",
       "       [113.91, 116.5 ],\n",
       "       [112.89, 113.02],\n",
       "       [117.64, 116.79],\n",
       "       [113.79, 115.81],\n",
       "       [114.55, 114.09]])"
      ]
     },
     "execution_count": 31,
     "metadata": {},
     "output_type": "execute_result"
    }
   ],
   "source": [
    "oc = data[:, np.array([4, 2])].astype(float)\n",
    "oc"
   ]
  },
  {
   "cell_type": "markdown",
   "metadata": {},
   "source": [
    "Als we nu het verschil tussen high en low willen berekenen, kunnen we vectorized operations gebruiken:"
   ]
  },
  {
   "cell_type": "code",
   "execution_count": 32,
   "metadata": {},
   "outputs": [
    {
     "data": {
      "text/plain": [
       "array([ 2.95, -3.85,  1.11,  1.04, -1.35, -1.7 ,  0.2 ,  1.31, -3.98,\n",
       "       -2.26,  1.99,  0.19, -4.17,  4.34,  1.69, -1.28,  0.46, -2.54,\n",
       "        2.59,  0.13, -0.85,  2.02, -0.46])"
      ]
     },
     "execution_count": 32,
     "metadata": {},
     "output_type": "execute_result"
    }
   ],
   "source": [
    "diffs = oc[:, 1] - oc[:, 0]\n",
    "diffs"
   ]
  },
  {
   "cell_type": "markdown",
   "metadata": {},
   "source": [
    "Of misschien willen we het % verschil tov de open berekenen: "
   ]
  },
  {
   "cell_type": "code",
   "execution_count": 34,
   "metadata": {
    "tags": []
   },
   "outputs": [
    {
     "data": {
      "text/plain": [
       "array([ 2.62525585, -3.34637114,  0.96112218,  0.91220068, -1.15989346,\n",
       "       -1.44742444,  0.17142367,  1.12736661, -3.31777259, -1.86345646,\n",
       "        1.67621294,  0.15702479, -3.32880977,  3.61485924,  1.46599584,\n",
       "       -1.10107527,  0.40132612, -2.19533276,  2.27372487,  0.11515635,\n",
       "       -0.72254335,  1.77519993, -0.40157137])"
      ]
     },
     "execution_count": 34,
     "metadata": {},
     "output_type": "execute_result"
    }
   ],
   "source": [
    "diff_percs = ((oc[:, 1] - oc[:, 0]) / oc[:, 0]) * 100\n",
    "diff_percs"
   ]
  },
  {
   "cell_type": "code",
   "execution_count": null,
   "metadata": {},
   "outputs": [],
   "source": []
  }
 ],
 "metadata": {
  "kernelspec": {
   "display_name": "Python 3 (ipykernel)",
   "language": "python",
   "name": "python3"
  },
  "language_info": {
   "codemirror_mode": {
    "name": "ipython",
    "version": 3
   },
   "file_extension": ".py",
   "mimetype": "text/x-python",
   "name": "python",
   "nbconvert_exporter": "python",
   "pygments_lexer": "ipython3",
   "version": "3.12.8"
  }
 },
 "nbformat": 4,
 "nbformat_minor": 4
}
