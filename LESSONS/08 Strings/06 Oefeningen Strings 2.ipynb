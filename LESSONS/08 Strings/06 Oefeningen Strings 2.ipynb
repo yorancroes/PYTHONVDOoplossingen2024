{
 "cells": [
  {
   "cell_type": "markdown",
   "metadata": {},
   "source": [
    "![alt text](../../pythonexposed-high-resolution-logo-black.jpg \"Optionele titel\")"
   ]
  },
  {
   "cell_type": "markdown",
   "metadata": {},
   "source": [
    "### Oefening 1"
   ]
  },
  {
   "cell_type": "markdown",
   "metadata": {},
   "source": [
    "Schrijf een Python-programma om de lengte van een string te berekenen."
   ]
  },
  {
   "cell_type": "code",
   "execution_count": 1,
   "metadata": {
    "scrolled": true
   },
   "outputs": [],
   "source": [
    "# Oplossing\n"
   ]
  },
  {
   "cell_type": "markdown",
   "metadata": {},
   "source": [
    "### Oefening 2"
   ]
  },
  {
   "cell_type": "markdown",
   "metadata": {},
   "source": [
    "Schrijf een Python-programma om een string te krijgen van een gegeven string waarbij alle voorkomens van het eerste teken zijn veranderd in '$', behalve het eerste teken zelf.\n",
    "\n",
    "Voorbeeld string: 'restart'\n",
    "\n",
    "Verwachte output: 'resta$t'"
   ]
  },
  {
   "cell_type": "code",
   "execution_count": 2,
   "metadata": {},
   "outputs": [],
   "source": [
    "# Oplossing \n"
   ]
  },
  {
   "cell_type": "markdown",
   "metadata": {},
   "source": [
    "### Oefening 3"
   ]
  },
  {
   "cell_type": "markdown",
   "metadata": {},
   "source": [
    "Schrijf een Python-programma dat 'ing' toevoegt aan het einde van een gegeven string (de lengte moet minstens 3 zijn). Als de gegeven string al eindigt met 'ing', voeg dan 'ly' toe. Als de string korter is dan 3 karakters, laat deze dan ongewijzigd.\n",
    "\n",
    "Voorbeeld String: 'abc'\n",
    "Verwacht Resultaat: 'abcing'\n",
    "\n",
    "Voorbeeld String: 'string'\n",
    "Verwacht Resultaat: 'stringly'"
   ]
  },
  {
   "cell_type": "code",
   "execution_count": 3,
   "metadata": {},
   "outputs": [],
   "source": [
    "# Oplossing \n"
   ]
  },
  {
   "cell_type": "markdown",
   "metadata": {},
   "source": [
    "### Oefening 4"
   ]
  },
  {
   "cell_type": "markdown",
   "metadata": {},
   "source": [
    "Schrijf een Python-programma om de eerste verschijning van de substrings 'niet' en 'slecht' in een gegeven string te vinden. Als 'niet' vóór 'slecht' komt, vervang dan de hele 'niet'...'slecht'-substring door 'goed'. Geef de resulterende string terug.\n",
    "\n",
    "Voorbeeld String: 'De tekst is niet zo slecht!'\n",
    "Verwacht Resultaat: 'De tekst is goed!'\n",
    "\n",
    "Voorbeeld String: 'De tekst is slecht!'\n",
    "Verwacht Resultaat: 'De tekst is slecht!'"
   ]
  },
  {
   "cell_type": "code",
   "execution_count": 4,
   "metadata": {},
   "outputs": [],
   "source": [
    "# Oplossing \n"
   ]
  },
  {
   "cell_type": "markdown",
   "metadata": {},
   "source": [
    "### Oefening 5"
   ]
  },
  {
   "cell_type": "markdown",
   "metadata": {},
   "source": [
    "Schrijf een Python-functie die een lijst met woorden neemt en het langste woord en de lengte van dat woord retourneert.\n",
    "\n",
    "Verwachte output:\n",
    "\n",
    "Langste woord: Oefeningen\n",
    "\n",
    "Lengte van het langste woord: 9"
   ]
  },
  {
   "cell_type": "code",
   "execution_count": 5,
   "metadata": {},
   "outputs": [],
   "source": [
    "# Oplossing \n"
   ]
  },
  {
   "cell_type": "markdown",
   "metadata": {},
   "source": [
    "### Oefening 6"
   ]
  },
  {
   "cell_type": "markdown",
   "metadata": {},
   "source": [
    "Schrijf een Python-functie om te controleren of een getal binnen een opgegeven bereik valt."
   ]
  },
  {
   "cell_type": "code",
   "execution_count": 6,
   "metadata": {},
   "outputs": [],
   "source": [
    "# Oplossing \n"
   ]
  },
  {
   "cell_type": "markdown",
   "metadata": {},
   "source": [
    "### Oefening 7"
   ]
  },
  {
   "cell_type": "markdown",
   "metadata": {},
   "source": [
    "Schrijf een Python-functie die een string accepteert en het aantal hoofdletters en kleine letters telt.\n",
    "\n",
    "Voorbeeldstring: 'De kleine Grijze Muis'\n",
    "\n",
    "Verwachte output:\n",
    "\n",
    "Aantal hoofdletters: 3\n",
    "\n",
    "Aantal kleine letters: 15\n"
   ]
  },
  {
   "cell_type": "code",
   "execution_count": 7,
   "metadata": {},
   "outputs": [],
   "source": [
    "# Oplossing \n"
   ]
  },
  {
   "cell_type": "markdown",
   "metadata": {},
   "source": [
    "### Oefening 8"
   ]
  },
  {
   "cell_type": "markdown",
   "metadata": {},
   "source": [
    "Schrijf een Python-functie die een lijst neemt en een nieuwe lijst retourneert met unieke elementen uit de eerste lijst.\n",
    "\n",
    "Voorbeeldlijst: 1,2,3,3,3,3,4,5\n",
    "\n",
    "Unieke lijst: 1,2,3,4,5"
   ]
  },
  {
   "cell_type": "code",
   "execution_count": 8,
   "metadata": {},
   "outputs": [],
   "source": [
    "# Oplossing \n"
   ]
  },
  {
   "cell_type": "markdown",
   "metadata": {},
   "source": [
    "### Oefening 9"
   ]
  },
  {
   "cell_type": "markdown",
   "metadata": {},
   "source": [
    "Schrijf een Python-functie die een getal als parameter neemt en controleert of het getal een priemgetal is of niet.\n",
    "\n",
    "Opmerking: Een priemgetal is een natuurlijk getal groter dan 1 en heeft geen andere positieve delers dan 1 en zichzelf.."
   ]
  },
  {
   "cell_type": "code",
   "execution_count": 9,
   "metadata": {},
   "outputs": [],
   "source": [
    "# Oplossing \n"
   ]
  },
  {
   "cell_type": "markdown",
   "metadata": {},
   "source": [
    "### Oefening 10"
   ]
  },
  {
   "cell_type": "markdown",
   "metadata": {},
   "source": [
    "Schrijf een Python-programma om de even getallen uit een opgegeven lijst af te drukken.\n",
    "\n",
    "Voorbeeldlijst: 1,2,3,4,5,6,7,8,9\n",
    "\n",
    "Verwachte output: 2,4,6,8"
   ]
  },
  {
   "cell_type": "code",
   "execution_count": 10,
   "metadata": {},
   "outputs": [],
   "source": [
    "# Oplossing \n"
   ]
  },
  {
   "cell_type": "markdown",
   "metadata": {},
   "source": [
    "### Oefening 11"
   ]
  },
  {
   "cell_type": "markdown",
   "metadata": {},
   "source": [
    "Schrijf een Python-functie om te controleren of een getal \"Perfect\" is of niet.\n",
    "\n",
    "Volgens Wikipedia: In de getaltheorie is een perfect getal een positief geheel getal dat gelijk is aan de som van zijn positieve delers, exclusief het getal zelf (ook wel zijn aliquote som genoemd). Evenzo is een perfect getal een getal dat de helft is van de som van al zijn positieve delers (inclusief zichzelf).\n",
    "\n",
    "Voorbeeld: Het eerste perfecte getal is 6, omdat 1, 2 en 3 zijn positieve delers zijn, en 1 + 2 + 3 = 6. Evenzo is het getal 6 gelijk aan de helft van de som van al zijn positieve delers: (1 + 2 + 3 + 6) / 2 = 6. Het volgende perfecte getal is 28 = 1 + 2 + 4 + 7 + 14. Dit wordt gevolgd door de perfecte getallen 496 en 8128."
   ]
  },
  {
   "cell_type": "code",
   "execution_count": 11,
   "metadata": {},
   "outputs": [],
   "source": [
    "# Oplossing \n"
   ]
  },
  {
   "cell_type": "markdown",
   "metadata": {},
   "source": [
    "### Oefening 12"
   ]
  },
  {
   "cell_type": "markdown",
   "metadata": {},
   "source": [
    "Schrijf een Python-functie die controleert of een opgegeven string een palindroom is of niet.\n",
    "Opmerking: Een palindroom is een woord, zin of reeks die hetzelfde leest van achter naar voren, bijvoorbeeld \"madam\" of \"meetsysteem\"."
   ]
  },
  {
   "cell_type": "code",
   "execution_count": 12,
   "metadata": {},
   "outputs": [],
   "source": [
    "# Oplossing \n"
   ]
  },
  {
   "cell_type": "markdown",
   "metadata": {},
   "source": [
    "### Oefening 13"
   ]
  },
  {
   "cell_type": "markdown",
   "metadata": {},
   "source": [
    "Schrijf een Python-functie die de eerste n rijen van de driehoek van Pascal afdrukt. \n",
    "\n",
    "De driehoek van Pascal is een rekenkundige en meetkundige figuur die voor het eerst werd bedacht door Blaise Pascal.\n",
    "\n",
    "Elk getal in de driehoek is de som van de twee getallen erboven."
   ]
  },
  {
   "cell_type": "code",
   "execution_count": 1,
   "metadata": {},
   "outputs": [],
   "source": [
    "import matplotlib.pyplot as plt\n",
    "import matplotlib.image as mpimg"
   ]
  },
  {
   "cell_type": "code",
   "execution_count": 3,
   "metadata": {},
   "outputs": [
    {
     "data": {
      "image/png": "[encoded data removed]",
      "text/plain": [
       "<Figure size 640x480 with 1 Axes>"
      ]
     },
     "metadata": {},
     "output_type": "display_data"
    }
   ],
   "source": [
    "img = mpimg.imread('../../IMAGES/pascal-triangle.png')\n",
    "plt.imshow(img)\n",
    "plt.axis('off')  # Verberg de assen\n",
    "plt.show()"
   ]
  },
  {
   "cell_type": "code",
   "execution_count": 13,
   "metadata": {},
   "outputs": [],
   "source": [
    "# Oplossing\n"
   ]
  },
  {
   "cell_type": "markdown",
   "metadata": {},
   "source": [
    "### Oefening 14"
   ]
  },
  {
   "cell_type": "markdown",
   "metadata": {},
   "source": [
    "Schrijf een Python-functie om te controleren of een string een pangram is of niet.\n",
    "Opmerking: Pangrammen zijn woorden of zinnen die elke letter van het alfabet minstens één keer bevatten.\n",
    "\n",
    "Voorbeeld: \"The quick brown fox jumps over the lazy dog\""
   ]
  },
  {
   "cell_type": "code",
   "execution_count": 14,
   "metadata": {},
   "outputs": [],
   "source": [
    "# Oplossing \n"
   ]
  },
  {
   "cell_type": "markdown",
   "metadata": {},
   "source": [
    "### Oefening 15"
   ]
  },
  {
   "cell_type": "markdown",
   "metadata": {},
   "source": [
    "Schrijf een Python-programma dat een door een streepje gescheiden reeks woorden accepteert als invoer en de woorden afdrukt in een door een streepje gescheiden reeks na ze alfabetisch te sorteren.\n",
    "\n",
    "Voorbeelditems: groen-rood-geel-zwart-wit\n",
    "\n",
    "Verwachte output: geel-groen-rood-wit-zwart"
   ]
  },
  {
   "cell_type": "code",
   "execution_count": 15,
   "metadata": {},
   "outputs": [],
   "source": [
    "# Oplossing \n"
   ]
  },
  {
   "cell_type": "markdown",
   "metadata": {},
   "source": [
    "#### Oefening 16"
   ]
  },
  {
   "cell_type": "markdown",
   "metadata": {},
   "source": [
    "Schrijf een Python-functie om een lijst te maken en af te drukken waarin de waarden de kwadraten zijn van getallen tussen 1 en 30 (inclusief beide)."
   ]
  },
  {
   "cell_type": "code",
   "execution_count": 16,
   "metadata": {},
   "outputs": [],
   "source": [
    "# Oplossing \n"
   ]
  }
 ],
 "metadata": {
  "kernelspec": {
   "display_name": "Python 3 (ipykernel)",
   "language": "python",
   "name": "python3"
  },
  "language_info": {
   "codemirror_mode": {
    "name": "ipython",
    "version": 3
   },
   "file_extension": ".py",
   "mimetype": "text/x-python",
   "name": "python",
   "nbconvert_exporter": "python",
   "pygments_lexer": "ipython3",
   "version": "3.11.6"
  }
 },
 "nbformat": 4,
 "nbformat_minor": 4
}
