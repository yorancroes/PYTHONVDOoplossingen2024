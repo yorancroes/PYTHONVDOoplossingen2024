{
 "cells": [
  {
   "cell_type": "markdown",
   "metadata": {},
   "source": [
    "![alt text](../../pythonexposed-high-resolution-logo-black.jpg \"Optionele titel\")"
   ]
  },
  {
   "cell_type": "markdown",
   "metadata": {},
   "source": [
    "### De `elif`-clausule"
   ]
  },
  {
   "cell_type": "markdown",
   "metadata": {},
   "source": [
    "In het vorige voorbeeld hadden we veel geneste `if...else...` statements."
   ]
  },
  {
   "cell_type": "code",
   "execution_count": 1,
   "metadata": {},
   "outputs": [
    {
     "name": "stdout",
     "output_type": "stream",
     "text": [
      "C\n"
     ]
    }
   ],
   "source": [
    "score = 72\n",
    "\n",
    "if score >= 90:\n",
    "    puntencode = 'A'\n",
    "else:\n",
    "    if score >= 80:\n",
    "        puntencode = 'B'\n",
    "    else:\n",
    "        if score >= 70:\n",
    "            puntencode = 'C'\n",
    "        else:\n",
    "            if score >= 60:\n",
    "                puntencode = 'D'\n",
    "            else:\n",
    "                puntencode = 'F'\n",
    "                \n",
    "print(puntencode)"
   ]
  },
  {
   "cell_type": "markdown",
   "metadata": {},
   "source": [
    "We hebben verschillende alternatieven geprobeerd, maar geen daarvan was echt goed."
   ]
  },
  {
   "cell_type": "markdown",
   "metadata": {},
   "source": [
    "In plaats daarvan kunnen we de `elif`-clausule gebruiken, wat eigenlijk is alsof we een geneste else...if...verklaring doen zonder dat we het daadwerkelijk hoeven te doen, bijvoorbeeld:"
   ]
  },
  {
   "cell_type": "code",
   "execution_count": 2,
   "metadata": {},
   "outputs": [
    {
     "name": "stdout",
     "output_type": "stream",
     "text": [
      "Geslaagd\n"
     ]
    }
   ],
   "source": [
    "score = 72\n",
    "\n",
    "if score >= 80:\n",
    "    print('Geslaagd met onderscheiding')\n",
    "else:\n",
    "    if score >= 70:\n",
    "        print('Geslaagd')\n",
    "    else:\n",
    "        print('Gezakt')"
   ]
  },
  {
   "cell_type": "markdown",
   "metadata": {},
   "source": [
    "We kunnen dit herschrijven met behulp van `elif` als volgt:"
   ]
  },
  {
   "cell_type": "code",
   "execution_count": 4,
   "metadata": {},
   "outputs": [
    {
     "name": "stdout",
     "output_type": "stream",
     "text": [
      "Geslaagd\n"
     ]
    }
   ],
   "source": [
    "score = 72\n",
    "\n",
    "if score >= 80:\n",
    "    print('Geslaagd met onderscheiding')\n",
    "elif score >= 70:\n",
    "    print('Geslaagd')\n",
    "else:\n",
    "    print('Gezakt')"
   ]
  },
  {
   "cell_type": "markdown",
   "metadata": {},
   "source": [
    "Let op hoe de `else` clausule op hetzelfde niveau staat als het hoofd `if` statement - dat komt doordat het `else` block alleen wordt uitgevoerd als geen van de andere `if` of `elif` blocks werden uitgevoerd."
   ]
  },
  {
   "cell_type": "markdown",
   "metadata": {},
   "source": [
    "Dus nu kunnen we onze opdracht voor het beoordelingscijfer als volgt herschrijven:"
   ]
  },
  {
   "cell_type": "code",
   "execution_count": 5,
   "metadata": {},
   "outputs": [
    {
     "name": "stdout",
     "output_type": "stream",
     "text": [
      "C\n"
     ]
    }
   ],
   "source": [
    "score = 72\n",
    "\n",
    "if score >= 90:\n",
    "    puntencode = 'A'\n",
    "elif score >= 80:\n",
    "    puntencode = 'B'\n",
    "elif score >= 70:\n",
    "    puntencode = 'C'\n",
    "elif score >= 60:\n",
    "    puntencode = 'D'\n",
    "else:\n",
    "    puntencode = 'F'\n",
    "\n",
    "print(puntencode)"
   ]
  },
  {
   "cell_type": "markdown",
   "metadata": {},
   "source": [
    "Laten we dit opnieuw proberen met een vorig voorbeeld:"
   ]
  },
  {
   "cell_type": "code",
   "execution_count": 6,
   "metadata": {},
   "outputs": [
    {
     "name": "stdout",
     "output_type": "stream",
     "text": [
      "saldo te laag\n"
     ]
    }
   ],
   "source": [
    "account_enabled = True\n",
    "saldo = 1000\n",
    "opvraging = 100_000\n",
    "\n",
    "if account_enabled and opvraging <= saldo:\n",
    "    print('opvraging toegestaan')\n",
    "else:\n",
    "    # opvraging niet mogelijk om een of andere reden\n",
    "    if not account_enabled:\n",
    "        print('account inactief')\n",
    "    else:\n",
    "        # saldo is onvoldoende\n",
    "        print('saldo te laag')"
   ]
  },
  {
   "cell_type": "markdown",
   "metadata": {},
   "source": [
    "We kunnen dit een beetje vereenvoudigen, zonder zelfs `elif` te gebruiken:"
   ]
  },
  {
   "cell_type": "code",
   "execution_count": 7,
   "metadata": {},
   "outputs": [
    {
     "name": "stdout",
     "output_type": "stream",
     "text": [
      "saldo te laag\n"
     ]
    }
   ],
   "source": [
    "account_enabled = True\n",
    "saldo = 1000\n",
    "opvraging = 100_000\n",
    "\n",
    "if not account_enabled:\n",
    "    print('account inactief')\n",
    "else:\n",
    "    # account is enabled\n",
    "    if opvraging > saldo:\n",
    "        print('saldo te laag')\n",
    "    else:\n",
    "        print('opvraging toegestaan')"
   ]
  },
  {
   "cell_type": "markdown",
   "metadata": {},
   "source": [
    "Dit is wat eenvoudiger omdat we `account_enabled` niet twee keer testen zoals bij de eerste poging."
   ]
  },
  {
   "cell_type": "markdown",
   "metadata": {},
   "source": [
    "Kunnen we `elif` gebruiken om wat van die geneste code te verwijderen?"
   ]
  },
  {
   "cell_type": "code",
   "execution_count": 8,
   "metadata": {},
   "outputs": [
    {
     "name": "stdout",
     "output_type": "stream",
     "text": [
      "saldo te laag\n"
     ]
    }
   ],
   "source": [
    "account_enabled = True\n",
    "saldo = 1000\n",
    "withdraw = 100_000\n",
    "\n",
    "if not account_enabled:\n",
    "    print('account inactief')\n",
    "elif withdraw > saldo:\n",
    "    print('saldo te laag')\n",
    "else:\n",
    "    print('opvraging toegestaan')"
   ]
  },
  {
   "cell_type": "markdown",
   "metadata": {},
   "source": [
    "Vanaf versie 3.10 heeft Python een switch-case-functionaliteit geïntroduceerd, genaamd “structureel patroonmatchen” (structural pattern matching). Je kunt deze functionaliteit implementeren met de sleutelwoorden `match` en `case`."
   ]
  },
  {
   "cell_type": "raw",
   "metadata": {},
   "source": [
    "De syntax is als volgt:\n",
    "\n",
    "match term:\n",
    "    case pattern-1:\n",
    "         action-1\n",
    "    case pattern-2:\n",
    "         action-2\n",
    "    case pattern-3:\n",
    "         action-3\n",
    "    case _:\n",
    "        action-default"
   ]
  },
  {
   "cell_type": "code",
   "execution_count": 6,
   "metadata": {},
   "outputs": [
    {
     "name": "stdout",
     "output_type": "stream",
     "text": [
      "A\n"
     ]
    }
   ],
   "source": [
    "score = 92\n",
    "\n",
    "match score:\n",
    "    case score if score >= 90:\n",
    "        puntencode = 'A'\n",
    "    case score if score >= 80:\n",
    "        print('B')\n",
    "        puntencode = 'B'\n",
    "    case score if score >= 70:\n",
    "        puntencode = 'C'\n",
    "    case score if score >= 60:\n",
    "        puntencode = 'D'\n",
    "    case _:\n",
    "        puntencode = 'F'\n",
    "\n",
    "print(puntencode)"
   ]
  },
  {
   "cell_type": "code",
   "execution_count": 1,
   "metadata": {},
   "outputs": [
    {
     "name": "stdin",
     "output_type": "stream",
     "text": [
      "What's the programming language you want to learn?  Java\n"
     ]
    },
    {
     "name": "stdout",
     "output_type": "stream",
     "text": [
      "You can become a mobile app developer\n"
     ]
    }
   ],
   "source": [
    "# Een ander voorbeeld:\n",
    "\n",
    "lang = input(\"What's the programming language you want to learn? \")\n",
    "\n",
    "match lang:\n",
    "    case \"JavaScript\":\n",
    "        print(\"You can become a web developer.\")\n",
    "\n",
    "    case \"Python\":\n",
    "        print(\"You can become a Data Scientist\")\n",
    "\n",
    "    case \"PHP\":\n",
    "        print(\"You can become a backend developer\")\n",
    "\n",
    "    case \"Solidity\":\n",
    "        print(\"You can become a Blockchain developer\")\n",
    "\n",
    "    case \"Java\":\n",
    "        print(\"You can become a mobile app developer\")\n",
    "    case _:\n",
    "        print(\"The language doesn't matter, what matters is solving problems.\")"
   ]
  },
  {
   "cell_type": "code",
   "execution_count": null,
   "metadata": {},
   "outputs": [],
   "source": []
  }
 ],
 "metadata": {
  "kernelspec": {
   "display_name": "Python 3 (ipykernel)",
   "language": "python",
   "name": "python3"
  },
  "language_info": {
   "codemirror_mode": {
    "name": "ipython",
    "version": 3
   },
   "file_extension": ".py",
   "mimetype": "text/x-python",
   "name": "python",
   "nbconvert_exporter": "python",
   "pygments_lexer": "ipython3",
   "version": "3.11.6"
  }
 },
 "nbformat": 4,
 "nbformat_minor": 4
}
