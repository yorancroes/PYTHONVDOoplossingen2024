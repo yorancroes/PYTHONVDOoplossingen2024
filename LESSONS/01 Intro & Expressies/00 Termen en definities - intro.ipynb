{
 "cells": [
  {
   "cell_type": "markdown",
   "metadata": {
    "tags": []
   },
   "source": [
    "![alt text](../../pythonexposed-high-resolution-logo-black.jpg \"Optionele titel\")"
   ]
  },
  {
   "cell_type": "markdown",
   "metadata": {},
   "source": [
    "### Termen en definities"
   ]
  },
  {
   "cell_type": "markdown",
   "metadata": {},
   "source": [
    "## Woordenlijst\n",
    "arithmetic operator (rekenkundige operator):\n",
    "Een symbool, zoals + en *, dat een rekenkundige bewerking aangeeft, zoals optellen of vermenigvuldigen.\n",
    "\n",
    "integer (geheel getal):\n",
    "Een type dat gehele getallen vertegenwoordigt.\n",
    "\n",
    "floating-point (kommagetal):\n",
    "Een type dat getallen met een breukdeel vertegenwoordigt.\n",
    "\n",
    "integer division (gehele deling):\n",
    "Een operator, //, die twee getallen deelt en het resultaat naar beneden afrondt tot een geheel getal.\n",
    "\n",
    "expression (expressie):\n",
    "Een combinatie van variabelen, waarden en operators.\n",
    "\n",
    "value (waarde):\n",
    "Een integer, floating-point getal, string, of een ander soort waarde die we later zullen zien.\n",
    "\n",
    "function (functie):\n",
    "Een benoemde reeks instructies die een nuttige bewerking uitvoert. Functies kunnen wel of geen argumenten accepteren en kunnen wel of geen resultaat opleveren.\n",
    "\n",
    "function call (functieaanroep):\n",
    "Een expressie -- of een deel van een expressie -- die een functie uitvoert. Het bestaat uit de functienaam gevolgd door een lijst van argumenten tussen haakjes.\n",
    "\n",
    "syntax error (syntaxisfout):\n",
    "Een fout in een programma die ervoor zorgt dat het programma niet kan worden geparseerd -- en dus niet kan worden uitgevoerd.\n",
    "\n",
    "string:\n",
    "Een type dat reeksen van karakters vertegenwoordigt.\n",
    "\n",
    "concatenation (concatenatie):\n",
    "Het aan elkaar koppelen van twee strings.\n",
    "\n",
    "type (type):\n",
    "Een categorie van waarden. De types die we tot nu toe hebben gezien zijn integers (type int), floating-point getallen (type float) en strings (type str).\n",
    "\n",
    "operand:\n",
    "Een van de waarden waarop een operator opereert.\n",
    "\n",
    "natural language (natuurlijke taal):\n",
    "Elke taal die mensen spreken en die zich natuurlijk heeft ontwikkeld.\n",
    "\n",
    "formal language (formele taal):\n",
    "Elke taal die door mensen is ontworpen voor specifieke doeleinden, zoals het representeren van wiskundige ideeën of computerprogramma's. Alle programmeertalen zijn formele talen.\n",
    "\n",
    "bug:\n",
    "Een fout in een programma.\n",
    "\n",
    "debugging (debuggen):\n",
    "Het proces van het vinden en corrigeren van fouten."
   ]
  },
  {
   "cell_type": "markdown",
   "metadata": {},
   "source": [
    "#### Formele en natuurlijke talen"
   ]
  },
  {
   "cell_type": "markdown",
   "metadata": {
    "tags": []
   },
   "source": [
    "Natuurlijke talen zijn de talen die mensen spreken, zoals Engels, Spaans en Frans. Ze zijn niet door mensen ontworpen; ze zijn natuurlijk geëvolueerd.\n",
    "\n",
    "Formele talen zijn talen die door mensen zijn ontworpen voor specifieke toepassingen. Bijvoorbeeld, de notatie die wiskundigen gebruiken is een formele taal die bijzonder geschikt is voor het weergeven van relaties tussen getallen en symbolen. Evenzo zijn programmeertalen formele talen die zijn ontworpen om berekeningen uit te drukken.\n",
    "\n",
    "Hoewel formele en natuurlijke talen enkele overeenkomsten hebben, zijn er belangrijke verschillen:\n",
    "\n",
    "Ambiguïteit: Natuurlijke talen zitten vol ambiguïteit, waar mensen mee omgaan door contextuele aanwijzingen en andere informatie te gebruiken. Formele talen zijn ontworpen om vrijwel of volledig ondubbelzinnig te zijn, wat betekent dat elk programma exact één betekenis heeft, ongeacht de context.\n",
    "\n",
    "Redundantie: Om ambiguïteit te compenseren en misverstanden te verminderen, gebruiken natuurlijke talen redundantie. Hierdoor zijn ze vaak omslachtig. Formele talen zijn minder redundant en beknopter.\n",
    "\n",
    "Letterlijkheid: Natuurlijke talen zitten vol met uitdrukkingen en metaforen. Formele talen betekenen precies wat ze zeggen.\n",
    "\n",
    "Omdat we allemaal opgroeien met het spreken van natuurlijke talen, is het soms moeilijk om ons aan te passen aan formele talen. Formele talen zijn compacter dan natuurlijke talen, waardoor het langer duurt om ze te lezen. Ook is de structuur belangrijk, dus is het niet altijd het beste om van boven naar beneden, van links naar rechts te lezen. Tot slot doen de details ertoe. Kleine fouten in spelling en interpunctie, waar je in natuurlijke talen mee wegkomt, kunnen een groot verschil maken in een formele taal.\n",
    "\n",
    "Debugging\n",
    "Programmeurs maken fouten. Om speelse redenen worden programmeerfouten bugs genoemd en het proces van het opsporen ervan debugging.\n",
    "\n",
    "Programmeren, en vooral debugging, kan soms sterke emoties oproepen. Als je worstelt met een moeilijke bug, kun je je boos, verdrietig of beschaamd voelen.\n",
    "\n",
    "Voorbereiden op deze reacties kan je helpen om ermee om te gaan. Een benadering is om de computer te zien als een werknemer met bepaalde sterke punten, zoals snelheid en precisie, en specifieke zwakheden, zoals een gebrek aan empathie en het onvermogen om het grote geheel te begrijpen.\n",
    "\n",
    "Jouw taak is om een goede manager te zijn: manieren vinden om de sterke punten te benutten en de zwakheden te compenseren. En manieren vinden om je emoties te gebruiken om met het probleem om te gaan, zonder dat je reacties je vermogen om effectief te werken in de weg staan.\n",
    "\n",
    "Leren debuggen kan frustrerend zijn, maar het is een waardevolle vaardigheid die nuttig is voor veel activiteiten buiten het programmeren. "
   ]
  }
 ],
 "metadata": {
  "kernelspec": {
   "display_name": "Python 3 (ipykernel)",
   "language": "python",
   "name": "python3"
  },
  "language_info": {
   "codemirror_mode": {
    "name": "ipython",
    "version": 3
   },
   "file_extension": ".py",
   "mimetype": "text/x-python",
   "name": "python",
   "nbconvert_exporter": "python",
   "pygments_lexer": "ipython3",
   "version": "3.11.6"
  }
 },
 "nbformat": 4,
 "nbformat_minor": 4
}
