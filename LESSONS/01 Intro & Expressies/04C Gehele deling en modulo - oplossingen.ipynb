{
 "cells": [
  {
   "cell_type": "markdown",
   "metadata": {
    "tags": []
   },
   "source": [
    "![alt text](../../pythonexposed-high-resolution-logo-black.jpg \"Optionele titel\")"
   ]
  },
  {
   "cell_type": "markdown",
   "metadata": {},
   "source": [
    "### Gehele deling en restwaarde"
   ]
  },
  {
   "cell_type": "markdown",
   "metadata": {},
   "source": [
    "### OEFENINGEN\n",
    "- Je kijkt op de klok en je ziet dat het 14.00u is. Je zet een alarm dat 535 uur later af moet gaan. Hoe laat is het als het alarm afgaat? Schrijf een programma dat het antwoord afdrukt.\n",
    "- Bereken het aantal volledige uren en resterende minuten in een totaal van 385 minuten.\n",
    "- Hoeveel hele dozen van 12 appels kun je maken met 53 appels, en hoeveel appels hou je over?\n",
    "- Wat is de rest wanneer je 12345 deelt door 123?\n",
    "- Deel het getal 9876 door 89. Wat is het resultaat van de gehele deling en wat is de rest?\n",
    "- Een schoolklas heeft 29 leerlingen. Als je groepen van 4 wilt maken, hoeveel volledige groepen kun je maken en hoeveel leerlingen blijven er over?\n",
    "- Verdeel een bedrag van 5678 euro in biljetten van 50 euro. Hoeveel biljetten van 50 zijn er nodig, en hoeveel euro blijft er over?\n",
    "- Wat is het resultaat van de gehele deling en de rest wanneer je het product van 17 en 6 deelt door 5?\n",
    "- Een bakkerij wil muffins verdelen over dozen met 8 muffins per doos. Als er 239 muffins zijn, hoeveel dozen zijn er nodig en hoeveel muffins blijven er over?\n",
    "- Bereken de som van alle resten wanneer de getallen 1 tot en met 20 worden gedeeld door 3.\n",
    "- Als een pakketbezorger pakketten bezorgt in groepen van 15 per keer, hoeveel volledige groepen kan hij bezorgen als hij 278 pakketten heeft, en hoeveel pakketten blijven er over?"
   ]
  },
  {
   "cell_type": "markdown",
   "metadata": {},
   "source": [
    "### OPLOSSINGEN"
   ]
  },
  {
   "cell_type": "markdown",
   "metadata": {},
   "source": [
    "**Hoe laat is het als het alarm afgaat?**"
   ]
  },
  {
   "cell_type": "code",
   "execution_count": 6,
   "metadata": {
    "tags": []
   },
   "outputs": [
    {
     "data": {
      "text/plain": [
       "21"
      ]
     },
     "execution_count": 6,
     "metadata": {},
     "output_type": "execute_result"
    }
   ],
   "source": [
    "nu = 14\n",
    "delta = 535\n",
    "\n",
    "som = nu + delta\n",
    "\n",
    "uren = som % 24\n",
    "\n",
    "uren"
   ]
  },
  {
   "cell_type": "markdown",
   "metadata": {},
   "source": [
    "**Aantal volledige uren en resterende minuten in een totaal van 385 minuten**"
   ]
  },
  {
   "cell_type": "code",
   "execution_count": 1,
   "metadata": {},
   "outputs": [
    {
     "name": "stdout",
     "output_type": "stream",
     "text": [
      "6 uur en 25 minuten\n"
     ]
    }
   ],
   "source": [
    "totaal_minuten = 385\n",
    "uren = totaal_minuten // 60\n",
    "resterende_minuten = totaal_minuten % 60\n",
    "print(f\"{uren} uur en {resterende_minuten} minuten\")"
   ]
  },
  {
   "cell_type": "markdown",
   "metadata": {},
   "source": [
    "**Hoeveel hele dozen van 12 appels kun je maken met 53 appels, en hoeveel appels hou je over?**"
   ]
  },
  {
   "cell_type": "code",
   "execution_count": 2,
   "metadata": {},
   "outputs": [
    {
     "name": "stdout",
     "output_type": "stream",
     "text": [
      "4 dozen en 5 overgebleven appels\n"
     ]
    }
   ],
   "source": [
    "appels = 53\n",
    "dozen = appels // 12\n",
    "overgebleven_appels = appels % 12\n",
    "print(f\"{dozen} dozen en {overgebleven_appels} overgebleven appels\")"
   ]
  },
  {
   "cell_type": "markdown",
   "metadata": {},
   "source": [
    "**Wat is de rest wanneer je 12345 deelt door 123?**"
   ]
  },
  {
   "cell_type": "code",
   "execution_count": 4,
   "metadata": {},
   "outputs": [
    {
     "name": "stdout",
     "output_type": "stream",
     "text": [
      "45\n"
     ]
    }
   ],
   "source": [
    "resultaat = 12345 % 123\n",
    "print(resultaat)"
   ]
  },
  {
   "cell_type": "markdown",
   "metadata": {},
   "source": [
    "**Deel het getal 9876 door 89. Wat is het resultaat van de gehele deling en wat is de rest?**"
   ]
  },
  {
   "cell_type": "code",
   "execution_count": 5,
   "metadata": {},
   "outputs": [
    {
     "name": "stdout",
     "output_type": "stream",
     "text": [
      "Gehele deling: 110, Rest: 86\n"
     ]
    }
   ],
   "source": [
    "geheel = 9876 // 89\n",
    "rest = 9876 % 89\n",
    "print(f\"Gehele deling: {geheel}, Rest: {rest}\")"
   ]
  },
  {
   "cell_type": "markdown",
   "metadata": {},
   "source": [
    "**Een schoolklas heeft 29 leerlingen. Als je groepen van 4 wilt maken, hoeveel volledige groepen kun je maken en hoeveel leerlingen blijven er over?**"
   ]
  },
  {
   "cell_type": "code",
   "execution_count": 6,
   "metadata": {},
   "outputs": [
    {
     "name": "stdout",
     "output_type": "stream",
     "text": [
      "Volledige groepen: 7, Overgebleven leerlingen: 1\n"
     ]
    }
   ],
   "source": [
    "leerlingen = 29\n",
    "volledige_groepen = leerlingen // 4\n",
    "overgebleven_leerlingen = leerlingen % 4\n",
    "print(f\"Volledige groepen: {volledige_groepen}, Overgebleven leerlingen: {overgebleven_leerlingen}\")"
   ]
  },
  {
   "cell_type": "markdown",
   "metadata": {},
   "source": [
    "**Verdeel een bedrag van 5678 euro in biljetten van 50 euro. Hoeveel biljetten van 50 zijn er nodig, en hoeveel euro blijft er over?**"
   ]
  },
  {
   "cell_type": "code",
   "execution_count": 7,
   "metadata": {},
   "outputs": [
    {
     "name": "stdout",
     "output_type": "stream",
     "text": [
      "Biljetten van 50 euro: 113, Overgebleven geld: 28 euro\n"
     ]
    }
   ],
   "source": [
    "bedrag = 5678\n",
    "biljetten = bedrag // 50\n",
    "overgebleven_geld = bedrag % 50\n",
    "print(f\"Biljetten van 50 euro: {biljetten}, Overgebleven geld: {overgebleven_geld} euro\")"
   ]
  },
  {
   "cell_type": "markdown",
   "metadata": {},
   "source": [
    "**Wat is het resultaat van de gehele deling en de rest wanneer je het product van 17 en 6 deelt door 5?**"
   ]
  },
  {
   "cell_type": "code",
   "execution_count": 1,
   "metadata": {},
   "outputs": [
    {
     "name": "stdout",
     "output_type": "stream",
     "text": [
      "Gehele deling: 20, Rest: 2\n"
     ]
    }
   ],
   "source": [
    "product = 17 * 6\n",
    "gehele_deling = product // 5\n",
    "rest = product % 5\n",
    "print(f\"Gehele deling: {gehele_deling}, Rest: {rest}\")"
   ]
  },
  {
   "cell_type": "markdown",
   "metadata": {},
   "source": [
    "**Een bakkerij wil muffins verdelen over dozen met 8 muffins per doos. Als er 239 muffins zijn, hoeveel dozen zijn er nodig en hoeveel muffins blijven er over?**"
   ]
  },
  {
   "cell_type": "code",
   "execution_count": 2,
   "metadata": {},
   "outputs": [
    {
     "name": "stdout",
     "output_type": "stream",
     "text": [
      "Dozen: 29, Overgebleven muffins: 7\n"
     ]
    }
   ],
   "source": [
    "muffins = 239\n",
    "dozen = muffins // 8\n",
    "overgebleven_muffins = muffins % 8\n",
    "print(f\"Dozen: {dozen}, Overgebleven muffins: {overgebleven_muffins}\")"
   ]
  },
  {
   "cell_type": "markdown",
   "metadata": {},
   "source": [
    "**Bereken de som van alle resten wanneer de getallen 1 tot en met 20 worden gedeeld door 3.**"
   ]
  },
  {
   "cell_type": "code",
   "execution_count": 4,
   "metadata": {},
   "outputs": [
    {
     "name": "stdout",
     "output_type": "stream",
     "text": [
      "Som van alle resten: 21\n"
     ]
    }
   ],
   "source": [
    "som_resten = sum([i % 3 for i in range(1, 21)])\n",
    "print(f\"Som van alle resten: {som_resten}\")"
   ]
  },
  {
   "cell_type": "markdown",
   "metadata": {},
   "source": [
    "**Als een pakketbezorger pakketten bezorgt in groepen van 15 per keer, hoeveel volledige groepen kan hij bezorgen als hij 278 pakketten heeft, en hoeveel pakketten blijven er over?**"
   ]
  },
  {
   "cell_type": "code",
   "execution_count": 4,
   "metadata": {},
   "outputs": [
    {
     "name": "stdout",
     "output_type": "stream",
     "text": [
      "Volledige groepen: 18, Overgebleven pakketten: 8\n"
     ]
    }
   ],
   "source": [
    "pakketten = 278\n",
    "volledige_groepen = pakketten // 15\n",
    "overgebleven_pakketten = pakketten % 15\n",
    "print(f\"Volledige groepen: {volledige_groepen}, Overgebleven pakketten: {overgebleven_pakketten}\")"
   ]
  },
  {
   "cell_type": "code",
   "execution_count": null,
   "metadata": {},
   "outputs": [],
   "source": []
  }
 ],
 "metadata": {
  "kernelspec": {
   "display_name": "Python 3 (ipykernel)",
   "language": "python",
   "name": "python3"
  },
  "language_info": {
   "codemirror_mode": {
    "name": "ipython",
    "version": 3
   },
   "file_extension": ".py",
   "mimetype": "text/x-python",
   "name": "python",
   "nbconvert_exporter": "python",
   "pygments_lexer": "ipython3",
   "version": "3.11.6"
  }
 },
 "nbformat": 4,
 "nbformat_minor": 4
}
