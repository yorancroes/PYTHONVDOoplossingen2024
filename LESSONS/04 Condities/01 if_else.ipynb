{
 "cells": [
  {
   "cell_type": "markdown",
   "metadata": {},
   "source": [
    "![alt text](../../pythonexposed-high-resolution-logo-black.jpg \"Optionele titel\")"
   ]
  },
  {
   "cell_type": "markdown",
   "metadata": {},
   "source": [
    "### if...else"
   ]
  },
  {
   "cell_type": "markdown",
   "metadata": {},
   "source": [
    "! De `else`-clause is optioneel, dus we beginnen met een eenvoudig `if`-statement:"
   ]
  },
  {
   "cell_type": "code",
   "execution_count": 1,
   "metadata": {},
   "outputs": [
    {
     "name": "stdout",
     "output_type": "stream",
     "text": [
      "1 is kleiner dan 2\n"
     ]
    }
   ],
   "source": [
    "if 1 < 2:\n",
    "    print('1 is kleiner dan 2')"
   ]
  },
  {
   "cell_type": "code",
   "execution_count": 2,
   "metadata": {},
   "outputs": [],
   "source": [
    "if 2 < 1:\n",
    "    print('2 is kleiner dan 1')"
   ]
  },
  {
   "cell_type": "markdown",
   "metadata": {},
   "source": [
    "Zoals je kunt zien, wordt het codeblok dat ingesprongen is onder het `if` statement uitgevoerd **alleen als** de conditionele expressie `True` is."
   ]
  },
  {
   "cell_type": "markdown",
   "metadata": {},
   "source": [
    "Wees voorzichtig met codeblokken - houd de code ingesprongen. Als je de code niet inspringt, zal Python dit beschouwen als buiten het codeblok:"
   ]
  },
  {
   "cell_type": "code",
   "execution_count": 12,
   "metadata": {},
   "outputs": [
    {
     "name": "stdout",
     "output_type": "stream",
     "text": [
      "block - regel 1\n",
      "block - regel 2\n",
      "block - regel 3\n",
      "volgende regel\n"
     ]
    }
   ],
   "source": [
    "if 1 < 2:\n",
    "    print('block - regel 1')\n",
    "    print('block - regel 2')\n",
    "    print('block - regel 3')\n",
    "print('volgende regel')"
   ]
  },
  {
   "cell_type": "markdown",
   "metadata": {},
   "source": [
    "-> alle `print`-opdrachten worden uitgevoerd, maar wat er eigenlijk gebeurt is dat `volgende regel` altijd wordt uitgevoerd omdat het **niet** in het `if`-blok staat."
   ]
  },
  {
   "cell_type": "code",
   "execution_count": 5,
   "metadata": {},
   "outputs": [
    {
     "name": "stdout",
     "output_type": "stream",
     "text": [
      "volgende regel\n"
     ]
    }
   ],
   "source": [
    "if 2 < 1:\n",
    "    print('block - regel 1')\n",
    "    print('block - regel 2')\n",
    "    print('block - regel 3')\n",
    "print('volgende regel')"
   ]
  },
  {
   "cell_type": "markdown",
   "metadata": {},
   "source": [
    "`volgende regel` wordt nog steeds afgedrukt. Een codeblok wordt geïdentificeerd door het één extra niveau in te springen dan de vorige regel code, en eindigt door de inspringing te verminderen naar je volgende regel code. De meeste editors, waaronder Jupyter, laten je toe om de `Tab`-toets te gebruiken om in te springen, en `Shift + Tab` om de inspringing ongedaan te maken."
   ]
  },
  {
   "cell_type": "markdown",
   "metadata": {},
   "source": [
    "Om het geheel overzichtelijker te maken, voegen we vaak een lege regel toe na het einde van een blok:"
   ]
  },
  {
   "cell_type": "code",
   "execution_count": 7,
   "metadata": {},
   "outputs": [
    {
     "name": "stdout",
     "output_type": "stream",
     "text": [
      "volgende regel\n"
     ]
    }
   ],
   "source": [
    "if 2 < 1:\n",
    "    print('block - regel 1')\n",
    "    print('block - regel 2')\n",
    "    print('block - regel 3')\n",
    "    \n",
    "print('volgende regel')"
   ]
  },
  {
   "cell_type": "markdown",
   "metadata": {},
   "source": [
    "Dit maakt de code een beetje makkelijker te lezen (makkelijker om het codeblok van de volgende regel te scheiden)."
   ]
  },
  {
   "cell_type": "markdown",
   "metadata": {},
   "source": [
    "Codeblokken worden vaak gebruikt in Python, dus we zullen dit vaak zien."
   ]
  },
  {
   "cell_type": "markdown",
   "metadata": {},
   "source": [
    "*De `else`-clause*\n",
    "\n",
    "Het codeblok onder de else-clausule wordt uitgevoerd alleen en uitsluitend als de voorwaarde False is (in welk geval het if-codeblok niet wordt uitgevoerd).\n",
    "\n",
    "Met andere woorden, de codeblokken onder de if en onder de else sluiten elkaar uit - als de ene wordt uitgevoerd, wordt de andere niet uitgevoerd, en omgekeerd."
   ]
  },
  {
   "cell_type": "code",
   "execution_count": 8,
   "metadata": {},
   "outputs": [
    {
     "name": "stdout",
     "output_type": "stream",
     "text": [
      "1 is kleiner dan 2\n"
     ]
    }
   ],
   "source": [
    "if 1 < 2:\n",
    "    print('1 is kleiner dan 2')\n",
    "else:\n",
    "    print('1 is niet kleiner dan 2')"
   ]
  },
  {
   "cell_type": "code",
   "execution_count": 9,
   "metadata": {},
   "outputs": [
    {
     "name": "stdout",
     "output_type": "stream",
     "text": [
      "2 is niet kleiner dan 1\n"
     ]
    }
   ],
   "source": [
    "if 2 < 1:\n",
    "    print('2 is kleiner dan 1')\n",
    "else:\n",
    "    print('2 is niet kleiner dan 1')"
   ]
  },
  {
   "cell_type": "markdown",
   "metadata": {},
   "source": [
    "Natuurlijk kan onze voorwaardelijke expressie in de `if`-verklaring complexer zijn:"
   ]
  },
  {
   "cell_type": "code",
   "execution_count": 10,
   "metadata": {},
   "outputs": [
    {
     "name": "stdout",
     "output_type": "stream",
     "text": [
      "opname toegestaan\n"
     ]
    }
   ],
   "source": [
    "account_enabled = True\n",
    "saldo = 1000\n",
    "opname = 100\n",
    "\n",
    "if account_enabled and opname <= saldo:\n",
    "    print('opname toegestaan')\n",
    "else:\n",
    "    print('opname niet toegestaan')"
   ]
  },
  {
   "cell_type": "code",
   "execution_count": 13,
   "metadata": {},
   "outputs": [
    {
     "name": "stdout",
     "output_type": "stream",
     "text": [
      "opname niet toegestaan\n"
     ]
    }
   ],
   "source": [
    "account_enabled = True\n",
    "saldo = 1000\n",
    "opname = 10_000\n",
    "\n",
    "if account_enabled and opname <= saldo:\n",
    "    print('opname toegestaan')\n",
    "else:\n",
    "    print('opname niet toegestaan')"
   ]
  },
  {
   "cell_type": "code",
   "execution_count": 15,
   "metadata": {},
   "outputs": [
    {
     "name": "stdout",
     "output_type": "stream",
     "text": [
      "opname niet toegestaan\n"
     ]
    }
   ],
   "source": [
    "account_enabled = False\n",
    "saldo = 1000\n",
    "opname = 100\n",
    "\n",
    "if account_enabled and opname <= saldo:\n",
    "    print('opname toegestaan')\n",
    "else:\n",
    "    print('opname niet toegestaan')"
   ]
  },
  {
   "cell_type": "markdown",
   "metadata": {},
   "source": [
    "Codeblokken kunnen alle geldige Python-code bevatten.\n",
    "Ze kunnen onder andere bijkomende `if...else...` statements bevatten!"
   ]
  },
  {
   "cell_type": "markdown",
   "metadata": {},
   "source": [
    "Bijvoorbeeld, in het accountvoorbeeld dat we hierboven hebben gedaan, willen we misschien een beter foutbericht geven dat specifieker is - zoals \"account inactief\" of \"ontoereikend saldo\"."
   ]
  },
  {
   "cell_type": "markdown",
   "metadata": {},
   "source": [
    "We zouden het op deze manier kunnen doen:"
   ]
  },
  {
   "cell_type": "code",
   "execution_count": 18,
   "metadata": {},
   "outputs": [
    {
     "name": "stdout",
     "output_type": "stream",
     "text": [
      "account inactief\n"
     ]
    }
   ],
   "source": [
    "account_enabled = False\n",
    "saldo = 1000\n",
    "opname = 100\n",
    "\n",
    "if account_enabled and opname <= saldo:\n",
    "    print('opname toegestaan')\n",
    "else:\n",
    "    # kan om een bepaalde reden geen opname doen\n",
    "    if not account_enabled:\n",
    "        print('account inactief')\n",
    "    else:\n",
    "        # waarschijnlijk onvoldoende saldo\n",
    "        print('ontoereikend saldo')"
   ]
  },
  {
   "cell_type": "code",
   "execution_count": 21,
   "metadata": {},
   "outputs": [
    {
     "name": "stdout",
     "output_type": "stream",
     "text": [
      "ontoereikend saldo\n"
     ]
    }
   ],
   "source": [
    "account_enabled = True\n",
    "saldo = 1000\n",
    "opname = 100_000\n",
    "\n",
    "if account_enabled and opname <= saldo:\n",
    "    print('opname toegestaan')\n",
    "else:\n",
    "    # kan om een bepaalde reden geen opname doen\n",
    "    if not account_enabled:\n",
    "        print('account inactief')\n",
    "    else:\n",
    "        # waarschijnlijk onvoldoende saldo\n",
    "        print('ontoereikend saldo')"
   ]
  },
  {
   "cell_type": "markdown",
   "metadata": {},
   "source": [
    "Te diep geneste code kunnen het lezen moeilijker maken - dus probeer dit te vermijden als je kunt."
   ]
  },
  {
   "cell_type": "raw",
   "metadata": {},
   "source": [
    "Bijvoorbeeld, stel dat we een puntencode moeten toewijzen op basis van een reeks numerieke cijfers:```\n",
    ">= 90       --> A\n",
    ">= 80, < 90 --> B\n",
    ">= 70, < 80 --> C\n",
    ">= 60, < 70 --> D\n",
    "< 60        --> F\n",
    "```"
   ]
  },
  {
   "cell_type": "markdown",
   "metadata": {},
   "source": [
    "We zouden het op deze manier kunnen schrijven:"
   ]
  },
  {
   "cell_type": "code",
   "execution_count": 22,
   "metadata": {},
   "outputs": [
    {
     "name": "stdout",
     "output_type": "stream",
     "text": [
      "C\n"
     ]
    }
   ],
   "source": [
    "score = 72\n",
    "\n",
    "if score >= 90:\n",
    "    puntencode = 'A'\n",
    "else:\n",
    "    if score >= 80:\n",
    "        puntencode = 'B'\n",
    "    else:\n",
    "        if score >= 70:\n",
    "            puntencode = 'C'\n",
    "        else:\n",
    "            if score >= 60:\n",
    "                puntencode = 'D'\n",
    "            else:\n",
    "                puntencode = 'F'\n",
    "                \n",
    "print(puntencode)"
   ]
  },
  {
   "cell_type": "markdown",
   "metadata": {},
   "source": [
    "Dit kan moeilijk te lezen worden. Een licht andere aanpak zou het volgende kunnen zijn:"
   ]
  },
  {
   "cell_type": "code",
   "execution_count": 24,
   "metadata": {},
   "outputs": [
    {
     "name": "stdout",
     "output_type": "stream",
     "text": [
      "C\n"
     ]
    }
   ],
   "source": [
    "score = 72\n",
    "\n",
    "if score >= 90:\n",
    "    puntencode = 'A'\n",
    "\n",
    "if score >= 80 and score < 90:\n",
    "    puntencode = 'B'\n",
    "    \n",
    "if score >= 70 and score < 80:\n",
    "    puntencode = 'C'\n",
    "    \n",
    "if score >= 60 and score < 70:\n",
    "    puntencode = 'D'\n",
    "    \n",
    "if score < 60:\n",
    "    puntencode = 'F'\n",
    "    \n",
    "print(puntencode)"
   ]
  },
  {
   "cell_type": "markdown",
   "metadata": {},
   "source": [
    "Dit werkt, maar er worden veel overbodige vergelijkingen gemaakt - dat is ook niet ideaal.\n",
    "Er is ook een gevaar dat alle if-uitspraken in onze code niet rekening houden met alle mogelijke cijfers - in dit geval doen ze dat wel, maar wat als we één interval waren vergeten of sommige van de intervallen verkeerd hadden gedaan?"
   ]
  },
  {
   "cell_type": "markdown",
   "metadata": {},
   "source": [
    "We zouden ook deze aanpak kunnen proberen, waarbij we een standaardwaarde toewijzen als laagste graad (zodat we er zeker van zijn dat we altijd een graad hebben), en dat resulteert in minder vergelijkingen:"
   ]
  },
  {
   "cell_type": "code",
   "execution_count": 15,
   "metadata": {},
   "outputs": [
    {
     "name": "stdout",
     "output_type": "stream",
     "text": [
      "C\n"
     ]
    }
   ],
   "source": [
    "score = 72\n",
    "\n",
    "puntencode = 'F'\n",
    "\n",
    "if score >= 60:\n",
    "    puntencode = 'D'\n",
    "    \n",
    "if score >= 70:\n",
    "    puntencode = 'C'\n",
    "    \n",
    "if score >= 80:\n",
    "    puntencode = 'B'\n",
    "    \n",
    "if score >= 90:\n",
    "    puntencode = 'A'\n",
    "    \n",
    "print(puntencode)"
   ]
  },
  {
   "cell_type": "markdown",
   "metadata": {},
   "source": [
    "Dus minder vergelijkingen, en we hebben op zijn minst de garantie dat `puntencode` een waarde heeft (maar misschien de verkeerde als we een interval gemist hebben of er helemaal een vergeten zijn) - dus dat is op dat vlak een beetje beter dan de vorige aanpak."
   ]
  },
  {
   "cell_type": "markdown",
   "metadata": {},
   "source": [
    "Maar we hebben ook veel onnodig werk verricht!\n",
    "\n",
    "Om het cijfer C toe te kennen hebben we:  \n",
    "- eerst 'F' toegekend\n",
    "- daarna 'D' toegekend\n",
    "- daarna 'C' toegekend\n",
    "- vervolgens de controle score >= 80 uitgevoerd, maar geen nieuw cijfer toegekend\n",
    "- vervolgens de controle score >= 90 uitgevoerd, maar geen nieuw cijfer toegekend"
   ]
  },
  {
   "cell_type": "markdown",
   "metadata": {},
   "source": [
    "Dus dit is ook verre van ideaal!"
   ]
  }
 ],
 "metadata": {
  "kernelspec": {
   "display_name": "Python 3 (ipykernel)",
   "language": "python",
   "name": "python3"
  },
  "language_info": {
   "codemirror_mode": {
    "name": "ipython",
    "version": 3
   },
   "file_extension": ".py",
   "mimetype": "text/x-python",
   "name": "python",
   "nbconvert_exporter": "python",
   "pygments_lexer": "ipython3",
   "version": "3.11.6"
  }
 },
 "nbformat": 4,
 "nbformat_minor": 4
}
