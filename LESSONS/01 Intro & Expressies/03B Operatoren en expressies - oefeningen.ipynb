{
 "cells": [
  {
   "cell_type": "markdown",
   "metadata": {
    "tags": []
   },
   "source": [
    "![alt text](../../pythonexposed-high-resolution-logo-black.jpg \"Optionele titel\")"
   ]
  },
  {
   "cell_type": "markdown",
   "metadata": {},
   "source": [
    "## Operatoren en expressies"
   ]
  },
  {
   "cell_type": "markdown",
   "metadata": {},
   "source": [
    "#### OEFENINGEN\n",
    "- Schrijf een programma dat het aantal seconden in een week berekent. Het programma is slechts één regel lang.\n",
    "- Hoeveel seconden zijn er in 42 minuten en 42 seconden?\n",
    "- Hoeveel mijlen zijn er in 10 kilometer? Hint: er zijn 1,61 kilometer in een mijl.\n",
    "- Als je een race van 10 kilometer loopt in 42 minuten en 42 seconden, wat is dan je gemiddelde tempo in seconden per mijl?\n",
    "- Wat is je gemiddelde tempo in minuten en seconden per mijl?\n",
    "- Wat is je gemiddelde snelheid in mijlen per uur?\n",
    "- Een boek kost in de winkel e24,95, maar boekwinkels krijgen 40 procent korting bij inkoop. Het verschepen van boeken kost €3 voor het eerste boek, en 75 cent voor ieder volgende boek. Bereken hoeveel de winkel betaalt voor 60 boeken\n",
    "- Wat betekent de volgende runtime error?"
   ]
  },
  {
   "cell_type": "code",
   "execution_count": 2,
   "metadata": {},
   "outputs": [
    {
     "ename": "SyntaxError",
     "evalue": "incomplete input (643776930.py, line 2)",
     "output_type": "error",
     "traceback": [
      "\u001b[0;36m  Cell \u001b[0;32mIn[2], line 2\u001b[0;36m\u001b[0m\n\u001b[0;31m    print ( ((12 * 13) /14 + (15 -16) /17) * 18\u001b[0m\n\u001b[0m                                                ^\u001b[0m\n\u001b[0;31mSyntaxError\u001b[0m\u001b[0;31m:\u001b[0m incomplete input\n"
     ]
    }
   ],
   "source": [
    "print ( ((2 * 3) /4 + (5 -6/7) * 8 ) )\n",
    "print ( ((12 * 13) /14 + (15 -16) /17) * 18 "
   ]
  }
 ],
 "metadata": {
  "kernelspec": {
   "display_name": "Python 3 (ipykernel)",
   "language": "python",
   "name": "python3"
  },
  "language_info": {
   "codemirror_mode": {
    "name": "ipython",
    "version": 3
   },
   "file_extension": ".py",
   "mimetype": "text/x-python",
   "name": "python",
   "nbconvert_exporter": "python",
   "pygments_lexer": "ipython3",
   "version": "3.11.6"
  }
 },
 "nbformat": 4,
 "nbformat_minor": 4
}
