{
 "cells": [
  {
   "cell_type": "markdown",
   "id": "5181419e-f8d6-4d4c-96bd-15554a98b5a7",
   "metadata": {
    "tags": []
   },
   "source": [
    "![alt text](../../pythonexposed-high-resolution-logo-black.jpg \"Optionele titel\")"
   ]
  },
  {
   "cell_type": "markdown",
   "id": "5f2d910d-03d0-460b-b455-5dffc53db589",
   "metadata": {
    "tags": []
   },
   "source": [
    "### Functies - oefeningen"
   ]
  },
  {
   "cell_type": "markdown",
   "id": "8b179e2c-e73d-4638-b29a-65bc18fc2e5c",
   "metadata": {},
   "source": [
    "#### Oefening 1: Tekenen van een rechthoek\n",
    "Schrijf een functie teken_rechthoek(breedte, hoogte, teken) die een rechthoek tekent met de gegeven breedte, hoogte en het teken waarmee de rechthoek moet worden gevuld. Bijvoorbeeld, teken_rechthoek(5, 3, '*') zou het volgende moeten afdrukken:"
   ]
  },
  {
   "cell_type": "raw",
   "id": "19233aef-fc72-4da8-979a-60e78a178351",
   "metadata": {},
   "source": [
    "*****\n",
    "*****\n",
    "*****"
   ]
  },
  {
   "cell_type": "markdown",
   "id": "ababc612-dd89-4c64-9410-d453794d937a",
   "metadata": {},
   "source": [
    "#### Oefening 2: Tekenen van een rechthoek met rand\n",
    "Schrijf een functie teken_rechthoek_met_rand(breedte, hoogte, teken) die een rechthoek tekent met de gegeven breedte, hoogte en het teken voor de randen, waarbij de binnenkant leeg is. Bijvoorbeeld, teken_rechthoek_met_rand(7, 4, '#') zou het volgende moeten afdrukken:"
   ]
  },
  {
   "cell_type": "raw",
   "id": "21eca54d-9dad-44fb-bd54-0e1e09cbdbf3",
   "metadata": {},
   "source": [
    "#######\n",
    "#     #\n",
    "#     #\n",
    "#######"
   ]
  },
  {
   "cell_type": "markdown",
   "id": "5012a219-8a60-40dc-9c2d-e473ee2b652d",
   "metadata": {},
   "source": [
    "#### Oefening 3: Tekenen van een driehoek\n",
    "Schrijf een functie teken_driehoek(hoogte, teken) die een driehoek tekent met de gegeven hoogte en het teken waarmee de driehoek moet worden gevuld. Bijvoorbeeld, teken_driehoek(4, '+') zou het volgende moeten afdrukken:"
   ]
  },
  {
   "cell_type": "raw",
   "id": "6b64b261-a2d1-4a29-9be1-6d96a5c015a5",
   "metadata": {},
   "source": [
    "+\n",
    "++\n",
    "+++\n",
    "++++"
   ]
  },
  {
   "cell_type": "markdown",
   "id": "077d8f70-66fc-4e06-809c-ceecfd85f471",
   "metadata": {},
   "source": [
    "#### Oefening 4: Tekenen van een omgekeerde driehoek\n",
    "Schrijf een functie teken_omgekeerde_driehoek(hoogte, teken) die een omgekeerde driehoek tekent met de gegeven hoogte en het teken waarmee de driehoek moet worden gevuld. Bijvoorbeeld, teken_omgekeerde_driehoek(4, '*') zou het volgende moeten afdrukken:"
   ]
  },
  {
   "cell_type": "raw",
   "id": "de649dd0-bc97-401f-ba8e-05498d1ac128",
   "metadata": {},
   "source": [
    "****\n",
    "***\n",
    "**\n",
    "*"
   ]
  },
  {
   "cell_type": "markdown",
   "id": "e739e709-0b77-4b2e-9543-684fd5cc90bb",
   "metadata": {},
   "source": [
    "#### Oefening 5: Tekenen van een ruit\n",
    "Schrijf een functie teken_ruit(hoogte, teken) die een ruit tekent met de gegeven hoogte en het teken waarmee de ruit moet worden gevuld. De hoogte moet een oneven getal zijn om de symmetrie te behouden. Bijvoorbeeld, teken_ruit(5, '*') zou het volgende moeten afdrukken:"
   ]
  },
  {
   "cell_type": "raw",
   "id": "646dc493-1140-40c7-814e-651fe53e15d0",
   "metadata": {},
   "source": [
    "  *  \n",
    " *** \n",
    "*****\n",
    " *** \n",
    "  *  "
   ]
  },
  {
   "cell_type": "code",
   "execution_count": null,
   "id": "4752ba75-7185-4d6f-b479-0f6edfc4f4cc",
   "metadata": {},
   "outputs": [],
   "source": []
  }
 ],
 "metadata": {
  "kernelspec": {
   "display_name": "Python 3 (ipykernel)",
   "language": "python",
   "name": "python3"
  },
  "language_info": {
   "codemirror_mode": {
    "name": "ipython",
    "version": 3
   },
   "file_extension": ".py",
   "mimetype": "text/x-python",
   "name": "python",
   "nbconvert_exporter": "python",
   "pygments_lexer": "ipython3",
   "version": "3.11.6"
  }
 },
 "nbformat": 4,
 "nbformat_minor": 5
}
