{
 "cells": [
  {
   "cell_type": "markdown",
   "id": "33e5eea8-1568-42aa-a185-2e9467b0a632",
   "metadata": {},
   "source": [
    "## Oefeningen Intro to OOP\n",
    "\n",
    "### Klassen aanmaken\n",
    "\n",
    "1. Opgave: Maak een klasse genaamd Boek die drie attributen bevat: titel, auteur, en aantal_paginas. Elk boekobject moet deze eigenschappen hebben. Maak 2 boeken aan en vraag de eigenschappen ervan op."
   ]
  },
  {
   "cell_type": "code",
   "execution_count": null,
   "id": "a1ff49c7-9cb2-4136-be78-1350c3d72c84",
   "metadata": {},
   "outputs": [],
   "source": []
  },
  {
   "cell_type": "markdown",
   "id": "60cd9ed0-9e70-44bc-8e5a-0bad810b88cf",
   "metadata": {},
   "source": [
    "2. Opgave: Maak een klasse genaamd Student die drie attributen bevat: naam, leeftijd, en studierichting. Maak 3 personen aan, en stop deze objecten in een Python list.  Loop over de list en print voor elke student de gegevens af."
   ]
  },
  {
   "cell_type": "code",
   "execution_count": null,
   "id": "31f3cfb0-677e-4aba-8e64-33cc036f3414",
   "metadata": {},
   "outputs": [],
   "source": []
  },
  {
   "cell_type": "markdown",
   "id": "c88ae889-34b1-483b-9d6b-656f142065b0",
   "metadata": {},
   "source": [
    "3. Vraag aan de gebruiker zijn voornaam, familienaam en leeftijd. Zet dit in een object, druk nadien deze waarden af"
   ]
  },
  {
   "cell_type": "code",
   "execution_count": null,
   "id": "5c215c57-de72-4eb6-a86e-498d14b3f927",
   "metadata": {},
   "outputs": [],
   "source": []
  },
  {
   "cell_type": "markdown",
   "id": "efd06fbd-9403-42a5-a15c-ef50b5a7b126",
   "metadata": {},
   "source": [
    "4. Vraag aan de gebruiker minstens 2 wagens waar hij mij gereden heeft. Elke wagen heeft een kleur/merk/nummerplaat. Druk alle wagens af"
   ]
  },
  {
   "cell_type": "code",
   "execution_count": null,
   "id": "49f50148-71fe-4298-b290-92e6542c1ce6",
   "metadata": {},
   "outputs": [],
   "source": []
  },
  {
   "cell_type": "markdown",
   "id": "d31945af-9a90-4314-a280-4aa15911a51f",
   "metadata": {},
   "source": [
    "5. Vraag de gebruiker om een paar studenten in te geven. Een student kan kiezen uit een paar richtingen : programmeren, bouw, electriciteit. Druk dan alle studenten en hun richting af"
   ]
  },
  {
   "cell_type": "code",
   "execution_count": null,
   "id": "0221b335-7da7-4cf3-9793-22a8fd502a7a",
   "metadata": {},
   "outputs": [],
   "source": []
  }
 ],
 "metadata": {
  "kernelspec": {
   "display_name": "Python 3 (ipykernel)",
   "language": "python",
   "name": "python3"
  },
  "language_info": {
   "codemirror_mode": {
    "name": "ipython",
    "version": 3
   },
   "file_extension": ".py",
   "mimetype": "text/x-python",
   "name": "python",
   "nbconvert_exporter": "python",
   "pygments_lexer": "ipython3",
   "version": "3.12.7"
  }
 },
 "nbformat": 4,
 "nbformat_minor": 5
}
