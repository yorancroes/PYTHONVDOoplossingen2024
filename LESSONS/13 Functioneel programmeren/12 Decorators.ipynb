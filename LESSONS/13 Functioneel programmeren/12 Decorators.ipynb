{
 "cells": [
  {
   "cell_type": "markdown",
   "id": "bdfaba1f-2293-421d-99f6-77bf9ac88260",
   "metadata": {},
   "source": [
    "![alt text](../../pythonexposed-high-resolution-logo-black.jpg \"Optionele titel\")"
   ]
  },
  {
   "cell_type": "markdown",
   "id": "bb067f8a-6080-478c-b4e9-2eaf154f270b",
   "metadata": {},
   "source": [
    "### Decorators in Python: Een Uitvoerige Uitleg\n",
    "\n",
    "Decorators zijn een krachtig en flexibel concept in Python waarmee je functionaliteit aan bestaande functies of methoden kunt toevoegen zonder hun oorspronkelijke code te wijzigen. Decorators maken gebruik van **higher-order functions** en **closures**, belangrijke concepten in functioneel programmeren."
   ]
  },
  {
   "cell_type": "markdown",
   "id": "89531792-ca4b-4377-a152-978bc8138c3d",
   "metadata": {},
   "source": [
    "## 1. **Wat zijn decorators?**\n",
    "\n",
    "Een decorator is een functie die een andere functie als input neemt en een nieuwe functie retourneert met extra of gewijzigde functionaliteit. Decorators maken gebruik van closures om functionaliteit toe te voegen aan bestaande functies.\n",
    "\n",
    "Decorators worden vaak gebruikt om taken als logging, timing, validatie of caching toe te voegen.\n",
    "\n",
    "Het kernconcept is:\n",
    "- **Je \"wrapt\" een functie** met een andere functie.\n",
    "- De originele functie blijft ongewijzigd, maar het gedrag wordt uitgebreid.\n",
    "\n",
    "Een decorator wordt toegepast met het `@`-symbool, dat boven een functie wordt geplaatst.\n"
   ]
  },
  {
   "cell_type": "markdown",
   "id": "d5e9447f-7739-4370-878e-1d95ee0424f9",
   "metadata": {},
   "source": [
    "## 2. **Basispatroon van een decorator**\n",
    "\n",
    "Een basisdecorator bestaat uit een functie die een andere functie als argument aanneemt en deze \"wrapt\" met extra functionaliteit:\n",
    "\n",
    "```python\n",
    "def wrapper(func):\n",
    "    def inner(*args, **kwargs):\n",
    "        result = func(*args, **kwargs)\n",
    "        return result\n",
    "    return inner\n",
    "```\n",
    "\n",
    "**Uitleg:**\n",
    "- `func` is de originele functie die we decoreren.\n",
    "- `inner` roept `func` aan met `*args` en `**kwargs` en retourneert het resultaat.\n"
   ]
  },
  {
   "cell_type": "markdown",
   "id": "b4280d5e-a201-42e2-aa34-10177485a1bf",
   "metadata": {},
   "source": [
    "We kunnen hiermee nu elke functie \"wrappen\":\n",
    "\n",
    "```python\n",
    "def add(a, b, c):\n",
    "    return a + b + c\n",
    "\n",
    "def greet(name):\n",
    "    return f\"Hello {name}!\"\n",
    "\n",
    "def join(data, *, item_sep=',', line_sep='\\n'):\n",
    "    return line_sep.join(\n",
    "        [\n",
    "            item_sep.join(str(item) for item in row)\n",
    "            for row in data\n",
    "        ]\n",
    "    )\n",
    "\n",
    "add_wrapped = wrapper(add)\n",
    "greet_wrapped = wrapper(greet)\n",
    "join_wrapped = wrapper(join)\n",
    "\n",
    "print(add_wrapped(1, 2, 3))  # Output: 6\n",
    "print(greet_wrapped(\"Python\"))  # Output: Hello Python!\n",
    "print(join_wrapped([[1, 2, 3], [4, 5, 6], [7, 8, 9]]))  # Output: 1,2,3\\n4,5,6\\n7,8,9\n",
    "```"
   ]
  },
  {
   "cell_type": "markdown",
   "id": "21d91f14-8a4b-47ce-981d-e27a4e844d76",
   "metadata": {},
   "source": [
    "**Uitleg:**\n",
    "- De originele functies werken zoals voorheen.\n",
    "- `add_wrapped`, `greet_wrapped` en `join_wrapped` zijn versies van de originele functies die door `wrapper` zijn omhuld.\n",
    "- Op dit moment voegt `wrapper` nog geen extra functionaliteit toe, maar het vormt de basis waarop je decorators kunt bouwen."
   ]
  },
  {
   "cell_type": "markdown",
   "id": "3d0113f6-ebdc-4cf7-a923-5a0d4f87bf21",
   "metadata": {},
   "source": [
    "## 3. **Voorbeeld: Een log decorator**\n",
    "\n",
    "Met een log decorator kun je eenvoudig bijhouden wanneer een functie wordt aangeroepen en wat het resultaat is:\n",
    "\n",
    "```python\n",
    "def log(func):\n",
    "    def inner(*args, **kwargs):\n",
    "        result = func(*args, **kwargs)\n",
    "        print(f\"{func.__name__} called... result={result}\")\n",
    "        return result\n",
    "    return inner\n",
    "\n",
    "@log\n",
    "def add(a, b, c):\n",
    "    return a + b + c\n",
    "\n",
    "@log\n",
    "def greet(name):\n",
    "    return f\"Hello {name}!\"\n",
    "\n",
    "print(add(1, 2, 3))  # Output: add called... result=6\n",
    "print(greet(\"Python\"))  # Output: greet called... result=Hello Python!\n",
    "```\n",
    "\n",
    "**Uitleg:**\n",
    "- `log` wrapt de originele functie en voegt logging-functionaliteit toe.\n",
    "- De decorator houdt bij wanneer de functie wordt aangeroepen en wat het resultaat is."
   ]
  },
  {
   "cell_type": "markdown",
   "id": "016a5dcc-742f-4dcd-9e30-7fbeb0b1caa6",
   "metadata": {},
   "source": [
    "### Logging met `import logging`\n",
    "\n",
    "Om professioneel loggen toe te voegen, kun je Python's `logging`-module gebruiken:\n",
    "\n",
    "```python\n",
    "import logging\n",
    "\n",
    "def log(func):\n",
    "    def inner(*args, **kwargs):\n",
    "        logging.basicConfig(level=logging.DEBUG)\n",
    "        result = func(*args, **kwargs)\n",
    "        logging.debug(f\"{func.__name__} called... result={result}\")\n",
    "        return result\n",
    "    return inner\n",
    "\n",
    "@log\n",
    "def add(a, b, c):\n",
    "    return a + b + c\n",
    "\n",
    "print(add(1, 2, 3))  # Output via logging module"
   ]
  },
  {
   "cell_type": "markdown",
   "id": "45098f24-46ce-40ea-aa59-ceb78540f8d4",
   "metadata": {},
   "source": [
    "## 4. **Voorbeeld: Een LRU cache decorator**\n",
    "\n",
    "Een **LRU cache** (Least Recently Used cache) wordt gebruikt om berekende resultaten op te slaan, zodat herhaalde aanroepen met dezelfde argumenten sneller kunnen worden afgehandeld. Python biedt een ingebouwde oplossing via de `functools.lru_cache` decorator.\n",
    "\n",
    "### Zelfgemaakte LRU Cache Decorator:\n",
    "\n",
    "```python\n",
    "def cache(func):\n",
    "    cache_data = {}\n",
    "    def inner(*args):\n",
    "        if args in cache_data:\n",
    "            print(\"Cache hit\")\n",
    "            return cache_data[args]\n",
    "        result = func(*args)\n",
    "        cache_data[args] = result\n",
    "        return result\n",
    "    return inner\n",
    "\n",
    "@cache\n",
    "def add(a, b):\n",
    "    print(f\"Evaluating add({a}, {b})\")\n",
    "    return a + b\n",
    "\n",
    "print(add(1, 2))  # Output: Evaluating add(1, 2) -> 3\n",
    "print(add(1, 2))  # Output: Cache hit -> 3\n",
    "```"
   ]
  },
  {
   "cell_type": "markdown",
   "id": "057271ef-27c7-4c15-b251-b2725d5ced7d",
   "metadata": {},
   "source": [
    "### Gebruik van `functools.lru_cache`:\n",
    "\n",
    "Python biedt een efficiënte implementatie van LRU caching:\n",
    "\n",
    "```python\n",
    "from functools import lru_cache\n",
    "\n",
    "@lru_cache(maxsize=2)\n",
    "def add(a, b):\n",
    "    print(f\"Calling add({a}, {b})\")\n",
    "    return a + b\n",
    "\n",
    "print(add(1, 2))  # Output: Calling add(1, 2) -> 3\n",
    "print(add(1, 2))  # Output: Cache hit -> 3\n",
    "print(add(2, 2))  # Output: Calling add(2, 2) -> 4\n",
    "print(add(3, 3))  # Output: Calling add(3, 3), cache wordt overschreven\n",
    "```\n",
    "\n",
    "**Uitleg:**\n",
    "- `lru_cache` slaat resultaten op en gebruikt een limiet (`maxsize`) om geheugen te besparen.\n",
    "- Bij overschrijding van de cachegrootte wordt de minst recent gebruikte waarde verwijderd.\n"
   ]
  },
  {
   "cell_type": "markdown",
   "id": "cd772e9d-7d9d-49ae-83a0-b335b160b989",
   "metadata": {},
   "source": [
    "## 5. **Praktische toepassingen van decorators**\n",
    "\n",
    "Decorators worden veel gebruikt in Python:\n",
    "- **Logging**: Functionaliteit loggen.\n",
    "- **Caching**: Resultaten opslaan (bijvoorbeeld met `functools.lru_cache`).\n",
    "- **Validatie**: Invoer van functies controleren.\n",
    "- **Timing**: Duur van functies meten.\n",
    "- **Authenticatie**: In webframeworks zoals Flask en Django.\n",
    "- **Controle van rechten**: Bepalen of een gebruiker toegang heeft tot een functie.\n",
    "- **Dispatching**: Beslissingen nemen over welke functie uitgevoerd moet worden.\n",
    "\n",
    "---\n",
    "\n",
    "## Conclusie\n",
    "\n",
    "Decorators zijn een elegant en krachtig hulpmiddel in Python waarmee je functies of methoden op een **schone** en **herbruikbare** manier kunt uitbreiden. Ze zijn onmisbaar in frameworks en applicaties voor taken als logging, validatie, caching en authenticatie."
   ]
  },
  {
   "cell_type": "code",
   "execution_count": null,
   "id": "b657330d-c8d1-414d-93bc-df421bb4fbc4",
   "metadata": {},
   "outputs": [],
   "source": []
  },
  {
   "cell_type": "code",
   "execution_count": null,
   "id": "9e62648d-92f2-47d0-b11d-605afcd4139b",
   "metadata": {},
   "outputs": [],
   "source": []
  }
 ],
 "metadata": {
  "kernelspec": {
   "display_name": "Python 3 (ipykernel)",
   "language": "python",
   "name": "python3"
  },
  "language_info": {
   "codemirror_mode": {
    "name": "ipython",
    "version": 3
   },
   "file_extension": ".py",
   "mimetype": "text/x-python",
   "name": "python",
   "nbconvert_exporter": "python",
   "pygments_lexer": "ipython3",
   "version": "3.12.7"
  }
 },
 "nbformat": 4,
 "nbformat_minor": 5
}
