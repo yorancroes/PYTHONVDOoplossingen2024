{
 "cells": [
  {
   "cell_type": "markdown",
   "id": "cad64749-74a8-48bf-bcc6-0bdbe36d6939",
   "metadata": {
    "slideshow": {
     "slide_type": "slide"
    }
   },
   "source": [
    "![alt text](../../pythonexposed-high-resolution-logo-black.jpg \"Optionele titel\")"
   ]
  },
  {
   "cell_type": "markdown",
   "id": "7edc3d7c-70f1-4c08-bcce-e3dea324fa5a",
   "metadata": {
    "slideshow": {
     "slide_type": "slide"
    }
   },
   "source": [
    "### **1. Introductie tot Error Handling**"
   ]
  },
  {
   "cell_type": "markdown",
   "id": "14f0dd96-369a-4811-8c7c-ef5d88b9c181",
   "metadata": {
    "slideshow": {
     "slide_type": "subslide"
    }
   },
   "source": [
    "#### Wat zijn exceptions?\n",
    "Exceptions zijn fouten die optreden tijdens het uitvoeren van een programma. In tegenstelling tot syntaxfouten, die worden ontdekt bij het compileren of interpreteren van de code, gebeuren exceptions wanneer de code al wordt uitgevoerd.\n",
    "\n",
    "Voorbeelden van exceptions:\n",
    "- `ZeroDivisionError`: Delen door nul.\n",
    "- `ValueError`: Ongeldige waarde voor een functie.\n",
    "- `FileNotFoundError`: Bestand niet gevonden.\n",
    "\n",
    "**Waarom is error handling belangrijk?**\n",
    "- Zorgt ervoor dat programma's niet abrupt stoppen bij fouten.\n",
    "- Maakt het mogelijk om gebruikersvriendelijke foutmeldingen te geven.\n",
    "- Verbetert de robuustheid van de applicatie."
   ]
  },
  {
   "cell_type": "markdown",
   "id": "a453fc5f-c923-4075-bd40-7ec15455dccd",
   "metadata": {
    "slideshow": {
     "slide_type": "subslide"
    }
   },
   "source": [
    "**Basisvoorbeeld van error handling:**\n",
    "```python\n",
    "try:\n",
    "    x = int(input(\"Geef een getal: \"))\n",
    "    print(10 / x)\n",
    "except ValueError:\n",
    "    print(\"Ongeldige invoer! Geef een geldig getal op.\")\n",
    "except ZeroDivisionError:\n",
    "    print(\"Delen door nul is niet toegestaan.\")\n",
    "```\n",
    "In dit voorbeeld worden zowel invoerfouten als fouten door delen door nul afgehandeld zonder dat het programma crasht."
   ]
  },
  {
   "cell_type": "markdown",
   "id": "88135331-d133-4871-be5f-7bd7f571d25e",
   "metadata": {
    "slideshow": {
     "slide_type": "slide"
    }
   },
   "source": [
    "### **2. Basis van Error Handling in Python**\n",
    "\n",
    "#### Uitleg van `try`, `except`, `else`, en `finally`\n",
    "- **`try`**: Het blok waarin je code schrijft die mogelijk een fout kan veroorzaken.\n",
    "- **`except`**: Het blok waarin je de fout afhandelt.\n",
    "- **`else`**: Optioneel blok dat wordt uitgevoerd als er geen fouten optreden.\n",
    "- **`finally`**: Blok dat altijd wordt uitgevoerd, ongeacht of er een fout was.\n"
   ]
  },
  {
   "cell_type": "markdown",
   "id": "4bc791ad-a2f9-46f1-b4fe-f728c0f0badb",
   "metadata": {
    "slideshow": {
     "slide_type": "subslide"
    }
   },
   "source": [
    "**Voorbeeld met alle blokken:**\n",
    "```python\n",
    "try:\n",
    "    bestand = open(\"data.txt\", \"r\")\n",
    "    inhoud = bestand.read()\n",
    "except FileNotFoundError:\n",
    "    print(\"Bestand niet gevonden!\")\n",
    "else:\n",
    "    print(\"Bestand succesvol gelezen:\")\n",
    "    print(inhoud)\n",
    "finally:\n",
    "    print(\"Afsluiten van resources.\")\n",
    "```\n",
    "\n",
    "Hier zorgt `finally` ervoor dat resources, zoals geopende bestanden, netjes worden afgesloten."
   ]
  },
  {
   "cell_type": "markdown",
   "id": "b06a8dfa-e1e9-4796-8c25-7e952f203048",
   "metadata": {
    "slideshow": {
     "slide_type": "slide"
    }
   },
   "source": [
    "### **3. Error Handling en OOP**\n",
    "\n",
    "#### Exceptions in methoden\n",
    "In OOP kun je error handling integreren binnen methoden om fouten die samenhangen met de staat van objecten te beheren.\n",
    "\n",
    "**Voorbeeld:**\n",
    "```python\n",
    "class Rekening:\n",
    "    def __init__(self, saldo):\n",
    "        self.saldo = saldo\n",
    "\n",
    "    def opnemen(self, bedrag):\n",
    "        if bedrag > self.saldo:\n",
    "            raise ValueError(\"Onvoldoende saldo.\")\n",
    "        self.saldo -= bedrag\n",
    "        return self.saldo\n",
    "\n",
    "try:\n",
    "    mijn_rekening = Rekening(100)\n",
    "    mijn_rekening.opnemen(150)\n",
    "except ValueError as e:\n",
    "    print(e)\n",
    "```\n",
    "\n",
    "In dit voorbeeld voorkomt de methode `opnemen` dat een rekening in het rood gaat.\n"
   ]
  },
  {
   "cell_type": "markdown",
   "id": "6fa5df73-da33-4759-b415-52648ce7e333",
   "metadata": {
    "slideshow": {
     "slide_type": "slide"
    }
   },
   "source": [
    "### **4. Custom Exception Classes**\n",
    "\n",
    "#### Waarom custom exceptions?\n",
    "- Specifiekere foutmeldingen voor jouw applicatie.\n",
    "- Helpt bij het onderscheiden van verschillende fouten.\n",
    "\n",
    "#### Hoe maak je een custom exception?\n",
    "Door een class te maken die overerft van `Exception` (of een andere ingebouwde exception) en eventueel een aangepaste foutmelding (of andere logica) toe te voegen in de constructor.  Daarna kan je een aangepaste foutmelding toevoegen door gebruik te maken van de constructor van de `Exception`-klasse (super().__init__(...) ).  Je kan indien gewenst extra attributen toevoegen aan de instantie.\n",
    "\n",
    "**Een minimalistisch voorbeeld:**\n",
    "```python\n",
    "class MijnCustomException(Exception):\n",
    "    def __init__(self, bericht):\n",
    "        super().__init__(bericht)  # Bericht doorgeven aan de Exception-basis\n",
    "```\n",
    "\n",
    "Indien je enkel een aangepaste foutmelding nodig hebt, kan dit al voldoende zijn!"
   ]
  },
  {
   "cell_type": "markdown",
   "id": "2e04cd95-2c75-4f4a-9b5f-d2bed8b7aa3e",
   "metadata": {
    "slideshow": {
     "slide_type": "subslide"
    }
   },
   "source": [
    "#### Wanneer voeg je extra attributen toe?\n",
    "Soms wil je dat de aangepaste uitzondering meer context bevat, zoals specifieke waarden die tot de fout hebben geleid.  \n",
    "Je kunt dit doen door extra attributen toe te voegen:\n",
    "\n",
    "**Voorbeeld:**\n",
    "```python\n",
    "class OngeldigeTransactie(Exception):\n",
    "    def __init__(self, bedrag, saldo):\n",
    "        super().__init__(f\"Kan {bedrag} niet opnemen, saldo: {saldo}\") # Dit is je aangepaste foutmelding\n",
    "        self.bedrag = bedrag  # Extra attribuut\n",
    "        self.saldo = saldo    # Extra attribuut\n",
    "\n",
    "try:\n",
    "    saldo = 100\n",
    "    bedrag = 150\n",
    "    if bedrag > saldo:\n",
    "        raise OngeldigeTransactie(bedrag, saldo)\n",
    "except OngeldigeTransactie as e:\n",
    "    print(e)\n",
    "```\n",
    "\n",
    "In dit geval bevat onze uitzondering:  \n",
    "- Een foutmelding die je meteen kunt afdrukken.\n",
    "- Extra informatie (bedrag en saldo) die nuttig kan zijn voor verdere verwerking (om meer informatie omtrent de fout aan de gebruiker te geven, in dit geval het bedrag en het saldo)\n",
    "\n",
    "\n",
    "Custom exceptions maken foutafhandeling duidelijker en specifieker."
   ]
  },
  {
   "cell_type": "markdown",
   "id": "74be105f-3713-46f0-b7b0-1c5fa39024b5",
   "metadata": {
    "slideshow": {
     "slide_type": "slide"
    }
   },
   "source": [
    "### **5. Best Practices in Error Handling**\n",
    "\n",
    "#### Specifieke versus generieke exceptions\n",
    "- Gebruik specifieke exceptions om duidelijke foutmeldingen te geven.\n",
    "- Vermijd het gebruik van een algemene `except` zonder expliciete reden.\n",
    "\n",
    "#### Minimaliseer de omvang van `try`-blokken\n",
    "Houd de code in een `try`-blok zo klein mogelijk om gerichte foutafhandeling te garanderen.\n",
    "\n",
    "**Voorbeeld:**\n",
    "```python\n",
    "try:\n",
    "    bestand = open(\"data.txt\", \"r\")\n",
    "    inhoud = bestand.read()\n",
    "except FileNotFoundError:\n",
    "    print(\"Bestand niet gevonden!\")\n",
    "else:\n",
    "    print(\"Inhoud:\", inhoud)\n",
    "finally:\n",
    "    print(\"Afsluiten van bestand.\")\n",
    "```"
   ]
  },
  {
   "cell_type": "markdown",
   "id": "282316bd-1b73-4753-9228-379f29f4602e",
   "metadata": {
    "slideshow": {
     "slide_type": "subslide"
    }
   },
   "source": [
    "#### Fouten loggen in plaats van printen\n",
    "Gebruik de `logging` module om fouten vast te leggen.  Logging is krachtiger en flexibeler dan `print()`.  \n",
    "De `logging` module is ingebouwd in Python en biedt een uitgebreide set functies voor het loggen van informatie, fouten en waarschuwingen.  \n",
    "\n",
    "Om logging te gebruiken, moet je eerst je logconfiguratie instellen:  \n",
    "```python\n",
    "logging.basicConfig(level=logging.ERROR)\n",
    "```\n",
    "\n",
    "Hiermee configureer je de basisinstellingen voor logging.  \n",
    "level=logging.ERROR zorgt ervoor dat alleen berichten met de prioriteit ERROR of hoger worden gelogd (zoals CRITICAL).  \n",
    "Je kunt ook andere logniveaus instellen, zoals DEBUG, INFO, WARNING, ERROR, of CRITICAL.\n",
    "\n",
    "Vervolgens kan je in je `except` blok een fout loggen door na het opvangen van de fout `logging.error()` te gebruiken om de fout vast te leggen.  \n",
    "De `%s` placeholder wordt vervangen door de foutmelding die wordt doorgegeven via e.\n",
    "\n",
    "`logging` is een goede manier om na te gaan waar soms errors worden gegenereerd in je code.  "
   ]
  },
  {
   "cell_type": "markdown",
   "id": "03a2165e-53d7-46cb-b21b-556c9aa8809e",
   "metadata": {
    "slideshow": {
     "slide_type": "subslide"
    }
   },
   "source": [
    "### Een eenvoudig voorbeeldje:  \n",
    "\n",
    "```python\n",
    "\n",
    "import logging\n",
    "\n",
    "logging.basicConfig(level=logging.ERROR)\n",
    "\n",
    "try:\n",
    "    1 / 0\n",
    "except ZeroDivisionError as e:\n",
    "    logging.error(\"Fout: %s\", e)\n",
    "```"
   ]
  },
  {
   "cell_type": "markdown",
   "id": "7a432151-7327-41c3-95e1-f7eac3f14de1",
   "metadata": {
    "slideshow": {
     "slide_type": "subslide"
    }
   },
   "source": [
    "### Waarom logging gebruiken in plaats van print()?  \n",
    "\n",
    "Flexibiliteit:\n",
    "- Logberichten kunnen worden gefilterd op basis van het niveau (DEBUG, INFO, etc.).\n",
    "    - Je kunt logs opslaan in bestanden, naar de console sturen, of zelfs naar externe systemen zoals een logserver.\n",
    "- Modulariteit:\n",
    "    - logging biedt de mogelijkheid om verschillende loggers te maken voor verschillende delen van een applicatie.\n",
    "- Configuratie:\n",
    "    - Logs kunnen worden geformatteerd om tijdstempels, logniveaus, en andere informatie toe te voegen.\n",
    "    - Je kunt bepalen waar de logs worden opgeslagen (bijv. in een bestand in plaats van in de console).\n",
    "- Geschikt voor productie:\n",
    "    - In productieomgevingen is logging standaard de juiste keuze, omdat je logs kunt beheren zonder je code te wijzigen (via configuratie)."
   ]
  },
  {
   "cell_type": "code",
   "execution_count": 6,
   "id": "f34ed9ff-0232-4f59-8bd4-7905706a9925",
   "metadata": {
    "slideshow": {
     "slide_type": "subslide"
    }
   },
   "outputs": [],
   "source": [
    "### Voorbeeld met bestandslogging:\n",
    "\n",
    "import logging\n",
    "\n",
    "# Stel logging in met bestandsoutput\n",
    "logging.basicConfig(\n",
    "    level=logging.ERROR,  # Log alleen ERROR en hoger\n",
    "    format=\"%(asctime)s - %(levelname)s - %(message)s\",  # Formatteer logberichten; asctime staat voor \"ASCII-tijd\" (bijv. YYYY-MM-DD HH:MM:SS,mmm)\n",
    "    filename=\"app.log\",  # Sla logs op in een bestand\n",
    "    filemode=\"a\",  # Append modus (voeg toe aan bestaand bestand)\n",
    ")\n",
    "\n",
    "try:\n",
    "    1 / 0\n",
    "except ZeroDivisionError as e:\n",
    "    logging.error(\"Een fout is opgetreden: %s\", e)  # dit is de 'korte' versie;\n",
    "    # alleen de foutmelding (str(exception)), zonder de gedetailleerde context (zoals de exacte regel in de code waar het misging\n",
    "    # Als je de volledige traceback wilt loggen: -> logging.error(\"Fout met traceback:\", exc_info=True)"
   ]
  },
  {
   "cell_type": "markdown",
   "id": "8b59ecaa-1771-486d-8105-062570c11ce8",
   "metadata": {
    "slideshow": {
     "slide_type": "subslide"
    }
   },
   "source": [
    "### Logging Levels in Python\n",
    "\n",
    "De **logging-levels** in Python bepalen de ernst van een logbericht. Elk level heeft een specifieke bedoeling en gebruikssituatie. Hieronder vind je een uitleg van elk level, inclusief voorbeelden en scenario's:"
   ]
  },
  {
   "cell_type": "markdown",
   "id": "c0461b20-9dee-499c-981d-3115240b9104",
   "metadata": {
    "slideshow": {
     "slide_type": "subslide"
    }
   },
   "source": [
    "### 1. **DEBUG**: Gedetailleerde informatie voor debugging\n",
    "- **Doel**: Wordt gebruikt om informatie te loggen die nuttig is voor ontwikkelaars om problemen op te lossen tijdens de ontwikkeling.\n",
    "- **Wanneer gebruiken**: Voor het volgen van de stroom van een programma of het controleren van variabelen en interne staten.\n",
    "\n",
    "**Voorbeeld:**\n",
    "```python\n",
    "import logging\n",
    "\n",
    "logging.basicConfig(level=logging.DEBUG)\n",
    "x = 10\n",
    "logging.debug(f\"De waarde van x is: {x}\")\n",
    "```\n",
    "\n",
    "**Output:**\n",
    "```\n",
    "DEBUG:root:De waarde van x is: 10\n",
    "```"
   ]
  },
  {
   "cell_type": "markdown",
   "id": "88ded088-dfd0-47af-93e6-507949777106",
   "metadata": {
    "slideshow": {
     "slide_type": "subslide"
    }
   },
   "source": [
    "### 2. **INFO**: Algemeen informatieve berichten\n",
    "- **Doel**: Geeft de normale werking van het programma weer. Het laat zien dat dingen gebeuren zoals verwacht.\n",
    "- **Wanneer gebruiken**: Voor statusupdates en normale voortgangsinformatie; vb na het inlezen of processen van een bestand.\n",
    "\n",
    "**Voorbeeld:**\n",
    "```python\n",
    "logging.basicConfig(level=logging.INFO)\n",
    "\n",
    "logging.info(\"Het programma is gestart.\")\n",
    "```\n",
    "\n",
    "**Output:**\n",
    "```\n",
    "INFO:root:Het programma is gestart.\n",
    "```"
   ]
  },
  {
   "cell_type": "markdown",
   "id": "bc931c43-51df-48ff-9273-68a09bacc99a",
   "metadata": {
    "slideshow": {
     "slide_type": "subslide"
    }
   },
   "source": [
    "### 3. **WARNING**: Iets onverwachts, maar geen fout\n",
    "- **Doel**: Signaleert mogelijke problemen die geen fout zijn, maar wel aandacht verdienen.\n",
    "- **Wanneer gebruiken**: Bij onverwachte situaties die later een probleem zouden kunnen worden.\n",
    "\n",
    "**Voorbeeld:**\n",
    "```python\n",
    "logging.basicConfig(level=logging.WARNING)\n",
    "\n",
    "waarde = 95\n",
    "if waarde > 90:\n",
    "    logging.warning(f\"Waarde is hoog: {waarde}\")\n",
    "```\n",
    "\n",
    "**Output:**\n",
    "```\n",
    "WARNING:root:Waarde is hoog: 95\n",
    "```\n",
    "\n"
   ]
  },
  {
   "cell_type": "markdown",
   "id": "5da1f788-435d-4b8c-880e-a87e7eaa4f3b",
   "metadata": {
    "slideshow": {
     "slide_type": "subslide"
    }
   },
   "source": [
    "### 4. **ERROR**: Een fout die invloed heeft op de uitvoering\n",
    "- **Doel**: Geeft aan dat er iets mis is gegaan, maar dat het programma mogelijk nog verder kan werken.\n",
    "- **Wanneer gebruiken**: Bij uitzonderingen of fouten die aandacht vereisen.\n",
    "\n",
    "**Voorbeeld:**\n",
    "```python\n",
    "logging.basicConfig(level=logging.ERROR)\n",
    "\n",
    "try:\n",
    "    1 / 0\n",
    "except ZeroDivisionError as e:\n",
    "    logging.error(\"Fout opgetreden: %s\", e)\n",
    "```\n",
    "\n",
    "**Output:**\n",
    "```\n",
    "ERROR:root:Fout opgetreden: division by zero\n",
    "```"
   ]
  },
  {
   "cell_type": "markdown",
   "id": "c3611fe1-5453-480b-b23e-59d2fb598f27",
   "metadata": {
    "slideshow": {
     "slide_type": "subslide"
    }
   },
   "source": [
    "### 5. **CRITICAL**: Ernstige fout waardoor de applicatie mogelijk stopt\n",
    "- **Doel**: Geeft ernstige problemen aan, zoals situaties die onmiddellijke aandacht vereisen of het falen van het hele systeem.  De applicatie wordt niet automatisch gestopt.\n",
    "- **Wanneer gebruiken**: Als er geen herstelmogelijkheid is of als de fout de applicatie of het systeem stopt.  Bijvoorbeeld: indien er geen diskspace meer zou zijn.  Je kan dan beslissen om de applicatie door te laten werken, of te stoppen.  Stoppen doe je door `sys.exit()` aan te roepen (import sys), wat de Python applicatie zal afsluiten.  Dit is dan *jouw* beslissing om na detectie van deze kritieke fout de applicatie te laten crashen.  Bij stoppen met `sys.exit()` kan je optioneel een exit-code meegeven:\n",
    "    - `sys.exit(0)` wordt gebruikt om aan te geven dat het programma succesvol is gestopt.\n",
    "    - `sys.exit(1)` (of een ander niet-nul nummer) wordt gebruikt om aan te geven dat er een fout is opgetreden.\n",
    "\n",
    "Je kan ook een error message meegeven: \n",
    "`sys.exit(\"Kritieke fout: Applicatie stopt.\")`\n",
    "\n",
    "`sys.exit()` wordt veel gebruikt in volgende cases:  \n",
    "- CLI-applicaties: Om het programma te stoppen bij een fout of bij succes.\n",
    "- Kritieke fouten: Om de applicatie netjes te beëindigen na een kritieke fout.\n",
    "- Einde van een script: Als het programma een bepaalde taak heeft voltooid en daarna moet stoppen.\n",
    "\n",
    "**Opgepast:**  \n",
    "Als je cleanup-acties hebt (bijvoorbeeld bestanden sluiten, verbindingen afsluiten), voer deze dan eerst uit voordat je sys.exit() aanroept.\n",
    "\n",
    "**Voorbeeld:**\n",
    "```python\n",
    "logging.basicConfig(level=logging.CRITICAL)\n",
    "\n",
    "critical_situatie = True\n",
    "if critical_situatie:\n",
    "    logging.critical(\"Kritieke fout! Applicatie wordt gestopt.\")\n",
    "```\n",
    "\n",
    "**Output:**\n",
    "```\n",
    "CRITICAL:root:Kritieke fout! Applicatie wordt gestopt.\n",
    "```"
   ]
  },
  {
   "cell_type": "markdown",
   "id": "c9dfcba5-1bc8-48ef-b885-94b8c880f534",
   "metadata": {
    "slideshow": {
     "slide_type": "subslide"
    }
   },
   "source": [
    "### Samenvatting van de levels met scenario's:\n",
    "\n",
    "| Level       | Betekenis                                     | Scenario                                                    |\n",
    "|-------------|-----------------------------------------------|-------------------------------------------------------------|\n",
    "| **DEBUG**   | Gedetailleerde informatie voor ontwikkelaars. | Variabelen controleren of functies volgen tijdens debuggen. |\n",
    "| **INFO**    | Normale operationele berichten.               | Een proces is gestart of succesvol afgerond.                |\n",
    "| **WARNING** | Waarschuwingen voor onverwachte situaties.    | Hoge CPU-belasting, bijna vol geheugen.                     |\n",
    "| **ERROR**   | Fouten die moeten worden aangepakt.           | Database niet beschikbaar, bestand niet gevonden.           |\n",
    "| **CRITICAL**| Ernstige fouten, systeemfalen.                | Disk failure, out-of-memory, applicatie crash.              |\n"
   ]
  },
  {
   "cell_type": "markdown",
   "id": "b5b99258-82df-4a08-add2-c74095d3b192",
   "metadata": {
    "slideshow": {
     "slide_type": "subslide"
    }
   },
   "source": [
    "### Hoe gebruik je meerdere niveaus?\n",
    "Je kunt deze niveaus combineren om een uitgebreid en gestructureerd loggingsysteem te bouwen. Bijvoorbeeld:\n",
    "\n",
    "```python\n",
    "import logging\n",
    "\n",
    "logging.basicConfig(level=logging.DEBUG)\n",
    "\n",
    "logging.debug(\"Dit is een debugbericht.\")\n",
    "logging.info(\"Informatie over de normale werking.\")\n",
    "logging.warning(\"Waarschuwing: Dit kan een probleem worden.\")\n",
    "logging.error(\"Fout: Er is iets misgegaan.\")\n",
    "logging.critical(\"Kritiek: Onherstelbare fout.\")\n",
    "```\n",
    "\n",
    "### Output:\n",
    "```\n",
    "DEBUG:root:Dit is een debugbericht.\n",
    "INFO:root:Informatie over de normale werking.\n",
    "WARNING:root:Waarschuwing: Dit kan een probleem worden.\n",
    "ERROR:root:Fout: Er is iets misgegaan.\n",
    "CRITICAL:root:Kritiek: Onherstelbare fout.\n",
    "```"
   ]
  },
  {
   "cell_type": "markdown",
   "id": "18faac11-ca25-4c8a-a14a-3dafac421208",
   "metadata": {
    "slideshow": {
     "slide_type": "slide"
    }
   },
   "source": [
    "## Wat als je programma crasht?"
   ]
  },
  {
   "cell_type": "code",
   "execution_count": 4,
   "id": "9a91c867-5874-41d3-b4e9-d64946d63039",
   "metadata": {
    "slideshow": {
     "slide_type": "subslide"
    }
   },
   "outputs": [],
   "source": [
    "### Met de juiste code kan je niet alleen 'beheerste\" fouten loggen, maar ook de fouten die jouw programma laten crashen.  \n",
    "\n",
    "import logging\n",
    "\n",
    "logging.basicConfig(level=logging.ERROR, format=\"%(asctime)s - %(levelname)s - %(message)s\")\n",
    "\n",
    "try:\n",
    "    1 / 0\n",
    "except ZeroDivisionError as e:\n",
    "    logging.error(\"Fout opgetreden: %s\", e)\n",
    "\n",
    "# In dit geval wordt de fout gelogd, maar het programma blijft doorgaan omdat de fout is opgevangen."
   ]
  },
  {
   "cell_type": "code",
   "execution_count": 7,
   "id": "1ae96e0d-d5ee-48e8-a094-739c9ef791f6",
   "metadata": {
    "slideshow": {
     "slide_type": "subslide"
    }
   },
   "outputs": [],
   "source": [
    "import logging\n",
    "import sys\n",
    "\n",
    "logging.basicConfig(level=logging.ERROR, format=\"%(asctime)s - %(levelname)s - %(message)s\")\n",
    "\n",
    "def global_exception_handler(exctype, value, traceback):\n",
    "    logging.critical(\"Onopgevangen fout: %s\", value, exc_info=(exctype, value, traceback))\n",
    "\n",
    "# Stel de globale handler in\n",
    "sys.excepthook = global_exception_handler   # wordt gebruikt om alle niet-opgevangen fouten vast te leggen.\n",
    "\n",
    "# Een fout die niet wordt opgevangen\n",
    "# 1 / 0  # Dit veroorzaakt een crash, maar wordt gelogd met volledige details, inclusief de traceback (stack trace)."
   ]
  },
  {
   "cell_type": "markdown",
   "id": "66ec6fe9-d7d1-44e8-bbac-ce06e1f9a4d7",
   "metadata": {
    "slideshow": {
     "slide_type": "slide"
    }
   },
   "source": [
    "### **6. Error Handling in Constructor en Properties**\n",
    "\n",
    "#### Validatie in `__init__`\n",
    "Gebruik constructors om foutieve initialisatie te voorkomen.\n",
    "\n",
    "**Voorbeeld:**\n",
    "```python\n",
    "class Persoon:\n",
    "    def __init__(self, leeftijd):\n",
    "        if leeftijd < 0:\n",
    "            raise ValueError(\"Leeftijd kan niet negatief zijn.\")\n",
    "        self.leeftijd = leeftijd\n",
    "\n",
    "try:\n",
    "    persoon = Persoon(-5)\n",
    "except ValueError as e:\n",
    "    print(e)\n",
    "```"
   ]
  },
  {
   "cell_type": "markdown",
   "id": "242fbf8a-5721-40c7-9cba-f1dd4cfb1023",
   "metadata": {
    "slideshow": {
     "slide_type": "subslide"
    }
   },
   "source": [
    "#### Validatie in setters\n",
    "Gebruik properties om fouten te controleren bij het wijzigen van attributen.\n",
    "```python\n",
    "class Product:\n",
    "    def __init__(self, prijs):\n",
    "        self._prijs = None\n",
    "        self.prijs = prijs\n",
    "\n",
    "    @property\n",
    "    def prijs(self):\n",
    "        return self._prijs\n",
    "\n",
    "    @prijs.setter\n",
    "    def prijs(self, waarde):\n",
    "        if waarde < 0:\n",
    "            raise ValueError(\"Prijs kan niet negatief zijn.\")\n",
    "        self._prijs = waarde\n",
    "\n",
    "try:\n",
    "    product = Product(-10)\n",
    "except ValueError as e:\n",
    "    print(e)\n",
    "```"
   ]
  },
  {
   "cell_type": "markdown",
   "id": "a6025574-46bb-4ecf-9c29-3432934f477e",
   "metadata": {
    "slideshow": {
     "slide_type": "slide"
    }
   },
   "source": [
    "### **Samenvatting van de les**\n",
    "1. Begrip van `try`, `except`, `else`, `finally`.\n",
    "2. Integratie van error handling binnen methoden en klassen.\n",
    "3. Het maken van custom exceptions.\n",
    "4. Toepassing van best practices.\n",
    "5. Gebruik van error handling in constructors en setters.\n",
    "6. Praktische toepassing in een project."
   ]
  }
 ],
 "metadata": {
  "celltoolbar": "Slideshow",
  "kernelspec": {
   "display_name": "Python 3 (ipykernel)",
   "language": "python",
   "name": "python3"
  },
  "language_info": {
   "codemirror_mode": {
    "name": "ipython",
    "version": 3
   },
   "file_extension": ".py",
   "mimetype": "text/x-python",
   "name": "python",
   "nbconvert_exporter": "python",
   "pygments_lexer": "ipython3",
   "version": "3.11.6"
  }
 },
 "nbformat": 4,
 "nbformat_minor": 5
}
