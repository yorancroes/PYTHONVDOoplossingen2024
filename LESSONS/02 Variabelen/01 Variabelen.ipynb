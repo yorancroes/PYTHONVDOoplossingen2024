{
 "cells": [
  {
   "cell_type": "markdown",
   "metadata": {},
   "source": [
    "![alt text](../../pythonexposed-high-resolution-logo-black.jpg \"Optionele titel\")"
   ]
  },
  {
   "cell_type": "markdown",
   "metadata": {},
   "source": [
    "### Variabelen"
   ]
  },
  {
   "cell_type": "markdown",
   "metadata": {},
   "source": [
    "Het symbool `=` gebruiken we als de **toewijzings**operator, terwijl we `==` gebruiken om zaken met elkaar te vergelijken!"
   ]
  },
  {
   "cell_type": "markdown",
   "metadata": {},
   "source": [
    "Toewijzen aan een variabele gebeurt door het specificeren een variabelenaam (een label) aan de linkerkant van de operator, en de toe te wijzen waarde (of expressie die evalueert tot een waarde) aan de rechterkant."
   ]
  },
  {
   "cell_type": "code",
   "execution_count": 1,
   "metadata": {
    "tags": []
   },
   "outputs": [],
   "source": [
    "a = 100"
   ]
  },
  {
   "cell_type": "markdown",
   "metadata": {},
   "source": [
    "Nu is `a` een symbool (een variabele) in ons programma dat we kunnen oproepen:"
   ]
  },
  {
   "cell_type": "code",
   "execution_count": 2,
   "metadata": {
    "tags": []
   },
   "outputs": [
    {
     "data": {
      "text/plain": [
       "100"
      ]
     },
     "execution_count": 2,
     "metadata": {},
     "output_type": "execute_result"
    }
   ],
   "source": [
    "a"
   ]
  },
  {
   "cell_type": "markdown",
   "metadata": {},
   "source": [
    "We kunnen a gebruiken in volgende delen van onze code:"
   ]
  },
  {
   "cell_type": "code",
   "execution_count": 3,
   "metadata": {},
   "outputs": [],
   "source": [
    "b = a + 11"
   ]
  },
  {
   "cell_type": "code",
   "execution_count": 4,
   "metadata": {},
   "outputs": [
    {
     "data": {
      "text/plain": [
       "111"
      ]
     },
     "execution_count": 4,
     "metadata": {},
     "output_type": "execute_result"
    }
   ],
   "source": [
    "b"
   ]
  },
  {
   "cell_type": "markdown",
   "metadata": {},
   "source": [
    "Zoals je kunt zien, hebben we hier een berekening uitgevoerd aan de rechterkant en de resulterende waarde toegewezen aan het label aan de linkerkant (`b`)."
   ]
  },
  {
   "cell_type": "markdown",
   "metadata": {},
   "source": [
    "Merk op dat het `=` symbool niet hetzelfde is als het wiskundige *gelijkheid* symbool, dus iets als dit is geen geldige Python en we zullen een uitzondering krijgen:"
   ]
  },
  {
   "cell_type": "code",
   "execution_count": 5,
   "metadata": {},
   "outputs": [
    {
     "ename": "SyntaxError",
     "evalue": "cannot assign to literal here. Maybe you meant '==' instead of '='? (260838114.py, line 1)",
     "output_type": "error",
     "traceback": [
      "\u001b[0;36m  Cell \u001b[0;32mIn[5], line 1\u001b[0;36m\u001b[0m\n\u001b[0;31m    10 = 10\u001b[0m\n\u001b[0m    ^\u001b[0m\n\u001b[0;31mSyntaxError\u001b[0m\u001b[0;31m:\u001b[0m cannot assign to literal here. Maybe you meant '==' instead of '='?\n"
     ]
    }
   ],
   "source": [
    "10 = 10"
   ]
  },
  {
   "cell_type": "markdown",
   "metadata": {},
   "source": [
    "Merk ook op dat het object waarnaar het symbool `a` of `b` wijst in de loop van de tijd kan veranderen:"
   ]
  },
  {
   "cell_type": "code",
   "execution_count": 6,
   "metadata": {},
   "outputs": [
    {
     "data": {
      "text/plain": [
       "100"
      ]
     },
     "execution_count": 6,
     "metadata": {},
     "output_type": "execute_result"
    }
   ],
   "source": [
    "a"
   ]
  },
  {
   "cell_type": "code",
   "execution_count": 7,
   "metadata": {},
   "outputs": [],
   "source": [
    "a = 3.14"
   ]
  },
  {
   "cell_type": "code",
   "execution_count": 8,
   "metadata": {},
   "outputs": [
    {
     "data": {
      "text/plain": [
       "3.14"
      ]
     },
     "execution_count": 8,
     "metadata": {},
     "output_type": "execute_result"
    }
   ],
   "source": [
    "a"
   ]
  },
  {
   "cell_type": "markdown",
   "metadata": {},
   "source": [
    "Zoals je kunt zien, verwees `a` eerst naar het geheel getal `100`, maar nu verwijst het naar een ander object, de float `3.14`. **Dit is een voorbeeld van type casting.**"
   ]
  },
  {
   "cell_type": "markdown",
   "metadata": {},
   "source": [
    "#### Regels die je moet volgen bij het kiezen van namen voor variabelen"
   ]
  },
  {
   "cell_type": "markdown",
   "metadata": {},
   "source": [
    "Er zijn bepaalde regels die je moet volgen bij het kiezen van variabelennamen.  Dit zijn allemaal geldige namen:"
   ]
  },
  {
   "cell_type": "code",
   "execution_count": 3,
   "metadata": {
    "tags": []
   },
   "outputs": [],
   "source": [
    "test = 10\n",
    "test_1 = 10\n",
    "_test_1_ = 10\n",
    "__test__ = 10\n",
    "TEST = 10"
   ]
  },
  {
   "cell_type": "markdown",
   "metadata": {},
   "source": [
    "Maar een variabelenaam **mag niet beginnen met een cijfer**:"
   ]
  },
  {
   "cell_type": "code",
   "execution_count": 4,
   "metadata": {
    "tags": []
   },
   "outputs": [
    {
     "ename": "SyntaxError",
     "evalue": "invalid decimal literal (1615410555.py, line 1)",
     "output_type": "error",
     "traceback": [
      "\u001b[0;36m  Cell \u001b[0;32mIn[4], line 1\u001b[0;36m\u001b[0m\n\u001b[0;31m    1_test = 10\u001b[0m\n\u001b[0m     ^\u001b[0m\n\u001b[0;31mSyntaxError\u001b[0m\u001b[0;31m:\u001b[0m invalid decimal literal\n"
     ]
    }
   ],
   "source": [
    "1_test = 10"
   ]
  },
  {
   "cell_type": "markdown",
   "metadata": {},
   "source": [
    "#### Gereserveerde woorden"
   ]
  },
  {
   "cell_type": "markdown",
   "metadata": {},
   "source": [
    "**We mogen geen gereserveerde trefwoorden of ingebouwde functies gebruiken als naam voor een variabele.**  \n",
    "\n",
    "Gereserveerde woorden (keywords) zijn speciale identifiers die een vaste betekenis hebben.  \n",
    "\n",
    "Hier is een lijst van enkele gereserveerde woorden in Python (let op, dit kan variëren afhankelijk van de versie van Python):  \n",
    "and: Een logische operator.  \n",
    "as: Gebruikt om een alias te creëren.  \n",
    "assert: Voor debugging, om te controleren of een conditie True is.  \n",
    "break: Stopt de dichtstbijzijnde lus.  \n",
    "class: Definieert een klasse.  \n",
    "continue: Gaat naar de volgende iteratie van de dichtstbijzijnde lus.  \n",
    "def: Definieert een functie.  \n",
    "del: Verwijdert een object.  \n",
    "elif: Gebruikt in conditie statements, hetzelfde als \"else if\".  \n",
    "else: Een deel van een conditie statement, dat wordt uitgevoerd als de conditie False is.  \n",
    "except: Vangt een uitzondering op.  \n",
    "False: De Booleaanse waarde \"false\".  \n",
    "finally: Een deel van een try statement, dat wordt uitgevoerd, ongeacht of er een uitzondering plaatsvindt of niet.  \n",
    "for: Definieert een for-lus.  \n",
    "from: Specificeert de module waaruit iets geïmporteerd moet worden.  \n",
    "global: Geeft aan dat een variabele op globaal niveau wordt gedefinieerd.  \n",
    "if: Definieert een conditie.  \n",
    "import: Importeert een module.  \n",
    "in: Controleert of een waarde aanwezig is in een sequentie (lijst, reeks, enz.) of als onderdeel van een for-lus.  \n",
    "is: Test object identiteit.  \n",
    "lambda: Creëert een anonieme functie.  \n",
    "None: Representeert de afwezigheid van een waarde of een null waarde.  \n",
    "nonlocal: Geeft aan dat een variabele niet lokaal is.  \n",
    "not: Een logische operator.  \n",
    "or: Een logische operator.  \n",
    "pass: Een lege statement, een plaatsaanduider.  \n",
    "raise: Veroorzaakt een uitzondering.  \n",
    "return: Beëindigt een functie en retourneert een waarde.  \n",
    "True: De Booleaanse waarde \"true\".  \n",
    "try: Specificeert een blok voor uitzonderingsbehandeling.  \n",
    "while: Definieert een while-lus.  \n",
    "with: Gebruikt om de uitvoering van blokken te omkaderen met methoden gedefinieerd door contextbeheerders.  \n",
    "yield: Eindigt een functie met een generator, retourneert een iterator.  "
   ]
  },
  {
   "cell_type": "markdown",
   "metadata": {},
   "source": [
    "Bijvoorbeeld, `if` is een gereserveerd trefwoord:"
   ]
  },
  {
   "cell_type": "code",
   "execution_count": 13,
   "metadata": {
    "tags": []
   },
   "outputs": [
    {
     "ename": "SyntaxError",
     "evalue": "invalid syntax (182722112.py, line 1)",
     "output_type": "error",
     "traceback": [
      "\u001b[0;36m  Cell \u001b[0;32mIn[13], line 1\u001b[0;36m\u001b[0m\n\u001b[0;31m    if = 10\u001b[0m\n\u001b[0m       ^\u001b[0m\n\u001b[0;31mSyntaxError\u001b[0m\u001b[0;31m:\u001b[0m invalid syntax\n"
     ]
    }
   ],
   "source": [
    "if = 10"
   ]
  },
  {
   "cell_type": "markdown",
   "metadata": {},
   "source": [
    "Hoewel we gereserveerde woorden kunnen veranderen, is dit sterk afgeraden."
   ]
  },
  {
   "cell_type": "markdown",
   "metadata": {},
   "source": [
    "Bijvoorbeeld, `float` wordt door Python gebruikt om het gegevenstype float voor te stellen."
   ]
  },
  {
   "cell_type": "markdown",
   "metadata": {},
   "source": [
    "Eigenlijk kunnen we op deze manier een float creëren:"
   ]
  },
  {
   "cell_type": "code",
   "execution_count": 14,
   "metadata": {
    "tags": []
   },
   "outputs": [],
   "source": [
    "a = float(10)"
   ]
  },
  {
   "cell_type": "code",
   "execution_count": 15,
   "metadata": {
    "tags": []
   },
   "outputs": [
    {
     "data": {
      "text/plain": [
       "10.0"
      ]
     },
     "execution_count": 15,
     "metadata": {},
     "output_type": "execute_result"
    }
   ],
   "source": [
    "a"
   ]
  },
  {
   "cell_type": "markdown",
   "metadata": {},
   "source": [
    "Maar we *zouden* het symbool `float` kunnen herschikken om iets anders te zijn:"
   ]
  },
  {
   "cell_type": "code",
   "execution_count": 16,
   "metadata": {
    "tags": []
   },
   "outputs": [],
   "source": [
    "float = 100.5"
   ]
  },
  {
   "cell_type": "markdown",
   "metadata": {},
   "source": [
    "Het probleem nu is dat de oorspronkelijke definitie van `float` voor ons verloren is gegaan (intern heeft Python het nog steeds, maar **wij** niet!)"
   ]
  },
  {
   "cell_type": "code",
   "execution_count": 17,
   "metadata": {
    "tags": []
   },
   "outputs": [
    {
     "ename": "TypeError",
     "evalue": "'float' object is not callable",
     "output_type": "error",
     "traceback": [
      "\u001b[0;31m---------------------------------------------------------------------------\u001b[0m",
      "\u001b[0;31mTypeError\u001b[0m                                 Traceback (most recent call last)",
      "Cell \u001b[0;32mIn[17], line 1\u001b[0m\n\u001b[0;32m----> 1\u001b[0m a \u001b[38;5;241m=\u001b[39m \u001b[38;5;28;43mfloat\u001b[39;49m\u001b[43m(\u001b[49m\u001b[38;5;241;43m10\u001b[39;49m\u001b[43m)\u001b[49m\n",
      "\u001b[0;31mTypeError\u001b[0m: 'float' object is not callable"
     ]
    }
   ],
   "source": [
    "a = float(10)"
   ]
  },
  {
   "cell_type": "markdown",
   "metadata": {},
   "source": [
    "Aangezien we Python's definitie voor `float` niet willen \"overschrijven\", ga ik dat symbool dat ik heb aangemaakt verwijderen:"
   ]
  },
  {
   "cell_type": "code",
   "execution_count": 18,
   "metadata": {
    "tags": []
   },
   "outputs": [],
   "source": [
    "del float"
   ]
  },
  {
   "cell_type": "markdown",
   "metadata": {},
   "source": [
    "Nu is **mijn** definitie van `float` verdwenen, en de **originele** die Python heeft verstrekt is weer beschikbaar."
   ]
  },
  {
   "cell_type": "code",
   "execution_count": 19,
   "metadata": {
    "tags": []
   },
   "outputs": [
    {
     "name": "stdout",
     "output_type": "stream",
     "text": [
      "10.0\n"
     ]
    }
   ],
   "source": [
    "a = float(10)\n",
    "print(a)"
   ]
  },
  {
   "cell_type": "markdown",
   "metadata": {},
   "source": [
    "#### Conventies voor naamgeving"
   ]
  },
  {
   "cell_type": "markdown",
   "metadata": {},
   "source": [
    "Python ontwikkelaars volgen doorgaans een standaard naamgevingsconventie voor variabelenamen. Afhankelijk van het type variabele zijn er verschillende conventies."
   ]
  },
  {
   "cell_type": "markdown",
   "metadata": {},
   "source": [
    "In het bijzonder volgen we de PEP8 conventies:\n",
    "https://www.python.org/dev/peps/pep-0008/"
   ]
  },
  {
   "cell_type": "markdown",
   "metadata": {},
   "source": [
    "Probeer deze gids eens door te nemen wanneer je wat tijd hebt; er staan nuttige tips in."
   ]
  },
  {
   "cell_type": "markdown",
   "metadata": {},
   "source": [
    "Voorlopig werken we met eenvoudige variabelen in onze code, dus volgen we de snake case conventie, waarbij alle letters in kleine letters worden geschreven:"
   ]
  },
  {
   "cell_type": "code",
   "execution_count": 1,
   "metadata": {
    "tags": []
   },
   "outputs": [],
   "source": [
    "current_balance = 100.0"
   ]
  },
  {
   "cell_type": "markdown",
   "metadata": {},
   "source": [
    "en niet camelcasing zoals in andere talen zoals Java of Javascript:"
   ]
  },
  {
   "cell_type": "code",
   "execution_count": 2,
   "metadata": {
    "tags": []
   },
   "outputs": [],
   "source": [
    "currentBalance = 100.0"
   ]
  },
  {
   "cell_type": "markdown",
   "metadata": {},
   "source": [
    "Enkele andere adviezen:  \n",
    "- Geef **altijd** betekenisvolle namen aan je variabelen te geven - niet omdat de computer het iets kan schelen, maar omdat mensen die je code lezen (inclusief jijzelf zes maanden nadat je die code hebt geschreven) het makkelijker zullen vinden om te begrijpen wat er gebeurt.  \n",
    "- Voor wegwerpvariabelen zoals het aantal iteraties gebruik je i, j,...  \n",
    "- Als een variabelennaam uit meerdere woorden bestaat, zet je _ tussen de woorden, nooit een spatie\n",
    "- Normaal zal je nooit een variabelennaam kiezen die begint met een underscore - dit is voorbehouden aan de auteurs van Python (alhoewel vaak _ als variabelenaam wordt gebruikt...)."
   ]
  },
  {
   "cell_type": "markdown",
   "metadata": {},
   "source": [
    "**Waarom goede namen kiezen voor variabelen?**  \n",
    "Hier is een voorbeeld. Stel dat ik je dit stuk code laat zien en je vraag wat het doet:"
   ]
  },
  {
   "cell_type": "code",
   "execution_count": 22,
   "metadata": {
    "tags": []
   },
   "outputs": [
    {
     "name": "stdout",
     "output_type": "stream",
     "text": [
      "270.70414908622433\n"
     ]
    }
   ],
   "source": [
    "x = 100\n",
    "y = 0.1\n",
    "z = 10\n",
    "\n",
    "r = x * ((1 + y/12) ** (z * 12))\n",
    "\n",
    "print(r)"
   ]
  },
  {
   "cell_type": "markdown",
   "metadata": {},
   "source": [
    "Wat dacht je van deze code in plaats daarvan, die identiek is, behalve de variabelnamen:"
   ]
  },
  {
   "cell_type": "code",
   "execution_count": 1,
   "metadata": {
    "scrolled": true,
    "tags": []
   },
   "outputs": [
    {
     "name": "stdout",
     "output_type": "stream",
     "text": [
      "270.70414908622433\n"
     ]
    }
   ],
   "source": [
    "beginsaldo = 100\n",
    "rentevoet = 0.1\n",
    "jaren = 10\n",
    "\n",
    "toekomstige_waarde = beginsaldo * ((1 + rentevoet/12) ** (jaren * 12))\n",
    "\n",
    "print(toekomstige_waarde)"
   ]
  },
  {
   "cell_type": "code",
   "execution_count": 8,
   "metadata": {},
   "outputs": [
    {
     "name": "stdin",
     "output_type": "stream",
     "text": [
      "Geef uw naam: 5\n"
     ]
    }
   ],
   "source": [
    "naam = input('Geef uw naam:')"
   ]
  },
  {
   "cell_type": "code",
   "execution_count": 9,
   "metadata": {},
   "outputs": [
    {
     "data": {
      "text/plain": [
       "'5'"
      ]
     },
     "execution_count": 9,
     "metadata": {},
     "output_type": "execute_result"
    }
   ],
   "source": [
    "naam"
   ]
  },
  {
   "cell_type": "code",
   "execution_count": null,
   "metadata": {},
   "outputs": [],
   "source": []
  }
 ],
 "metadata": {
  "kernelspec": {
   "display_name": "Python 3 (ipykernel)",
   "language": "python",
   "name": "python3"
  },
  "language_info": {
   "codemirror_mode": {
    "name": "ipython",
    "version": 3
   },
   "file_extension": ".py",
   "mimetype": "text/x-python",
   "name": "python",
   "nbconvert_exporter": "python",
   "pygments_lexer": "ipython3",
   "version": "3.11.6"
  }
 },
 "nbformat": 4,
 "nbformat_minor": 4
}
