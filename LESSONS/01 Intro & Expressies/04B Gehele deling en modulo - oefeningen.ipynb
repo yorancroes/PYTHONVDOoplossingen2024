{
 "cells": [
  {
   "cell_type": "markdown",
   "metadata": {
    "tags": []
   },
   "source": [
    "![alt text](../../pythonexposed-high-resolution-logo-black.jpg \"Optionele titel\")"
   ]
  },
  {
   "cell_type": "markdown",
   "metadata": {},
   "source": [
    "### Gehele deling en restwaarde"
   ]
  },
  {
   "cell_type": "markdown",
   "metadata": {},
   "source": [
    "### OEFENINGEN\n",
    "- Je kijkt op de klok en je ziet dat het 14.00u is. Je zet een alarm dat 535 uur later af moet gaan. Hoe laat is het als het alarm afgaat? Schrijf een programma dat het antwoord afdrukt.\n",
    "- Bereken het aantal volledige uren en resterende minuten in een totaal van 385 minuten.\n",
    "- Hoeveel hele dozen van 12 appels kun je maken met 53 appels, en hoeveel appels hou je over?\n",
    "- Wat is de rest wanneer je 12345 deelt door 123?\n",
    "- Deel het getal 9876 door 89. Wat is het resultaat van de gehele deling en wat is de rest?\n",
    "- Een schoolklas heeft 29 leerlingen. Als je groepen van 4 wilt maken, hoeveel volledige groepen kun je maken en hoeveel leerlingen blijven er over?\n",
    "- Verdeel een bedrag van 5678 euro in biljetten van 50 euro. Hoeveel biljetten van 50 zijn er nodig, en hoeveel euro blijft er over?\n",
    "- Wat is het resultaat van de gehele deling en de rest wanneer je het product van 17 en 6 deelt door 5?\n",
    "- Een bakkerij wil muffins verdelen over dozen met 8 muffins per doos. Als er 239 muffins zijn, hoeveel dozen zijn er nodig en hoeveel muffins blijven er over?\n",
    "- Bereken de som van alle resten wanneer de getallen 1 tot en met 20 worden gedeeld door 3.\n",
    "- Als een pakketbezorger pakketten bezorgt in groepen van 15 per keer, hoeveel volledige groepen kan hij bezorgen als hij 278 pakketten heeft, en hoeveel pakketten blijven er over?"
   ]
  },
  {
   "cell_type": "markdown",
   "metadata": {},
   "source": [
    "### OPLOSSINGEN"
   ]
  },
  {
   "cell_type": "code",
   "execution_count": null,
   "metadata": {},
   "outputs": [],
   "source": []
  }
 ],
 "metadata": {
  "kernelspec": {
   "display_name": "Python 3 (ipykernel)",
   "language": "python",
   "name": "python3"
  },
  "language_info": {
   "codemirror_mode": {
    "name": "ipython",
    "version": 3
   },
   "file_extension": ".py",
   "mimetype": "text/x-python",
   "name": "python",
   "nbconvert_exporter": "python",
   "pygments_lexer": "ipython3",
   "version": "3.11.6"
  }
 },
 "nbformat": 4,
 "nbformat_minor": 4
}
