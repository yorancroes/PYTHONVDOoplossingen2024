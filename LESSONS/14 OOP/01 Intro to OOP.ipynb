{
 "cells": [
  {
   "cell_type": "markdown",
   "id": "b3fd835c-820e-4a0a-bc08-c337edf9fa07",
   "metadata": {
    "slideshow": {
     "slide_type": "slide"
    }
   },
   "source": [
    "![alt text](../../pythonexposed-high-resolution-logo-black.jpg \"Optionele titel\")"
   ]
  },
  {
   "cell_type": "markdown",
   "id": "72ea0618-fc03-41b2-8085-d1fe4b380831",
   "metadata": {
    "slideshow": {
     "slide_type": "subslide"
    }
   },
   "source": [
    "# OBJECT ORIENTED PROGRAMMING\n",
    "## (OOP)"
   ]
  },
  {
   "cell_type": "markdown",
   "id": "50e6c862-5d56-41e8-a7fa-c9e4afc61bfc",
   "metadata": {
    "slideshow": {
     "slide_type": "slide"
    }
   },
   "source": [
    "**Objectgeoriënteerd programmeren** (OOP) in Python is een manier om je *code te organiseren* zodat je dingen uit de echte wereld kunt nabootsen in je programma.\n",
    "\n",
    "Bij OOP gebruik je *objecten* en *klassen*:\n",
    "\n",
    "- Klasse: Een klasse is als een blauwdruk of plan. Stel dat je een klasse \"Auto\" hebt. Deze klasse beschrijft wat een auto is en welke eigenschappen hij heeft (zoals kleur, merk) en wat een auto kan doen (zoals starten, stoppen)\n",
    "- Object: Een object is een specifieke versie van die klasse. Als \"Auto\" een blauwdruk is, dan is een \"rode Tesla\" een object van die klasse. Je kunt meerdere auto's hebben, zoals \"blauwe BMW\", \"witte Audi\", enzovoort."
   ]
  },
  {
   "cell_type": "markdown",
   "id": "f0d2f0d4-15de-4131-8942-2e164a01458e",
   "metadata": {
    "slideshow": {
     "slide_type": "slide"
    }
   },
   "source": [
    "## Een eerste blik op klassen\n",
    "\n",
    "- In deze Jupyter Notebook krijg je een eerste introductie tot klassen in Python.\n",
    "- Klassen bieden een manier om gegevens en functionaliteit samen te bundelen.\n",
    "- Het aanmaken van een nieuwe klasse creëert een nieuw type object, waardoor nieuwe instanties van dat type kunnen worden gemaakt.\n",
    "- Elke klasse-instantie kan attributen hebben om de status ervan bij te houden.\n",
    "- Klasse-instanties kunnen ook methoden hebben (gedefinieerd door hun klasse) om hun status te wijzigen."
   ]
  },
  {
   "cell_type": "markdown",
   "id": "d6c84f4a-9a62-49da-9049-7dcad7b01c31",
   "metadata": {
    "slideshow": {
     "slide_type": "slide"
    }
   },
   "source": [
    "## Enkele eigenschappen van Python-klassen:\n",
    "\n",
    "- Ondersteunen alle standaardfuncties van objectgeoriënteerd programmeren.\n",
    "- Objecten kunnen willekeurige hoeveelheden en soorten gegevens bevatten.\n",
    "- Klassen worden tijdens runtime aangemaakt en kunnen later verder worden aangepast."
   ]
  },
  {
   "cell_type": "markdown",
   "id": "03a96269-77f5-4821-9191-24c3d18c05d9",
   "metadata": {
    "slideshow": {
     "slide_type": "subslide"
    }
   },
   "source": [
    "**Een eerste klasse:**\n",
    "  \n",
    "  ```python\n",
    "  class ClassName:\n",
    "      # statements binnen de klasse\n",
    "      <statement-1>\n",
    "      ...\n",
    "      <statement-N>\n",
    "  ```"
   ]
  },
  {
   "cell_type": "markdown",
   "id": "4c866a30-327a-456f-9ccb-e49022c2828e",
   "metadata": {
    "slideshow": {
     "slide_type": "slide"
    }
   },
   "source": [
    "## Enkele eigenschappen van klassen:\n",
    "\n",
    "- Klasse-definities moeten worden uitgevoerd voordat ze effect hebben.\n",
    "\n",
    "- Wanneer een klasse-definitie wordt ingevoerd:\n",
    "  - Een nieuwe namespace wordt gemaakt en gebruikt als lokale scope.\n",
    "  - Functiedefinities worden gekoppeld aan de naam van de nieuwe functie.\n",
    "    \n",
    "- Bij het verlaten van een klasse-definitie wordt een klasse-object aangemaakt:\n",
    "  - Dit klasse-object is een wrapper rond de inhoud van de namespace die door de klasse-definitie is gemaakt.\n",
    "\n",
    "> **Opmerking:** Een klasse is een blauwdruk voor objecten met gemeenschappelijke eigenschappen en gedrag. Door de namespace kunnen we de structuur van onze klassen definiëren zonder conflicten met de rest van de code."
   ]
  },
  {
   "cell_type": "markdown",
   "id": "d5948da3-9df7-4d89-9e7c-4c2360aa5ba5",
   "metadata": {
    "slideshow": {
     "slide_type": "slide"
    }
   },
   "source": [
    "## Maken van instanties van klassen:\n",
    "\n",
    "- Na het aanmaken van een klasse kun je instanties van die klasse creëren:\n",
    "\n",
    "  ```python\n",
    "  x = MyClass()\n",
    "  ```\n",
    "\n",
    "- Instanties zijn specifieke voorbeelden van de klasse.\n",
    "  - Elk instantie-object heeft zijn eigen kopie van de attributen.\n",
    "  - Hierdoor kun je meerdere objecten maken met dezelfde klasse, maar met verschillende waarden voor hun attributen.\n",
    "\n",
    "- Voorbeeld: een `Dog`-klasse met attributen zoals `name` en `age`:\n",
    "  - Elke instantie (bijv. verschillende honden) deelt methoden, maar heeft unieke waarden voor attributen zoals `name` en `age`."
   ]
  },
  {
   "cell_type": "markdown",
   "id": "b2f51bea-372b-40c5-89d0-3aba8773d31e",
   "metadata": {
    "slideshow": {
     "slide_type": "slide"
    }
   },
   "source": [
    "### De rol van `__init__`\n",
    "\n",
    "- Klassen kunnen een speciale methode genaamd `__init__()` definiëren om objecten te initialiseren:\n",
    "\n",
    "  ```python\n",
    "  class Point:\n",
    "      def __init__(self, x, y):\n",
    "          self.x = x\n",
    "          self.y = y\n",
    "\n",
    "  p = Point(2, 3)\n",
    "  print(p.x, p.y)  # Uitvoer: (2, 3)\n",
    "  ```\n",
    "\n",
    "- Het `__init__`-methode is de **constructor** van de klasse:\n",
    "  - Wordt automatisch aangeroepen bij het aanmaken van een nieuw object.\n",
    "  - Zorgt ervoor dat objecten consistent worden geïnitialiseerd.\n",
    "  - Voorkomt runtime-fouten door ontbrekende attributen.\n",
    "    \n",
    "- “self” is de eerste parameter; dit is een referentie naar het object zelf en moet dus niet worden meegegeven als je het object aanmaakt. \n",
    "  - Self mag je noemen zoals je wilt, maar in 99% van de software is dit gewoon self\n",
    "  - Eigenlijk is dit wat er intern gebeurd bij het aanmaken van een object:\n",
    "  - person = Person().__init__(‘Olivier’, ‘Claerbout’)"
   ]
  },
  {
   "cell_type": "markdown",
   "id": "d7bfde08-8f6a-44fb-8dd0-61512b6934b0",
   "metadata": {
    "slideshow": {
     "slide_type": "slide"
    }
   },
   "source": [
    "### Enkele tips bij naamgeving van je klassen\n",
    "\n",
    "**Gebruik conventies om naamconflicten te voorkomen:**\n",
    "\n",
    "- Gebruik CamelCase: Klassenamen in Python worden doorgaans in CamelCase geschreven, waarbij elk woord met een hoofdletter begint, bijvoorbeeld StudentRecord of InvoiceProcessor.\n",
    "\n",
    "- Wees Beschrijvend: Gebruik namen die duidelijk maken waar de klasse voor staat of wat deze doet. Een goede naam vertelt de lezer direct de functie of het doel van de klasse, bijvoorbeeld OrderManager in plaats van Manager.\n",
    "\n",
    "- Vermijd Afkortingen: Afkortingen kunnen verwarrend zijn en maken de code moeilijker te begrijpen. Gebruik volledige, betekenisvolle woorden in plaats van afkortingen, tenzij de afkorting een algemene standaard is (zoals HTTPHandler).\n",
    "\n",
    "- Gebruik Zelfstandige Naamwoorden: Klassen zijn meestal representaties van objecten of concepten, dus kies een naam die als zelfstandig naamwoord fungeert. Bijvoorbeeld: Car, Person, ReportGenerator. Dit maakt duidelijk dat een klasse iets beschrijft in de applicatie.\n",
    "\n",
    "- Vermijd Algemene Namen: Namen zoals Data, Manager of Helper zijn te algemeen en zeggen niet veel over de rol van de klasse. Wees specifiek, zoals CustomerDataHandler in plaats van DataHandler.\n",
    "\n",
    "- Beperk de Lengte: Klassenamen moeten beschrijvend zijn, maar ook niet te lang. Probeer een balans te vinden tussen duidelijkheid en beknoptheid, bijvoorbeeld InvoiceValidator in plaats van ValidateCustomerInvoiceRecords.\n",
    "\n",
    "- Vermijd werkwoorden: Klassen moeten objecten of concepten vertegenwoordigen, dus het is meestal beter om werkwoorden in klassenamen te vermijden. In plaats van ProcessOrder, zou je bijvoorbeeld OrderProcessor kunnen gebruiken.\n",
    "\n",
    "- Consistentie helpt om verwarring te voorkomen en maakt samenwerking gemakkelijker.\n"
   ]
  }
 ],
 "metadata": {
  "celltoolbar": "Slideshow",
  "kernelspec": {
   "display_name": "Python 3 (ipykernel)",
   "language": "python",
   "name": "python3"
  },
  "language_info": {
   "codemirror_mode": {
    "name": "ipython",
    "version": 3
   },
   "file_extension": ".py",
   "mimetype": "text/x-python",
   "name": "python",
   "nbconvert_exporter": "python",
   "pygments_lexer": "ipython3",
   "version": "3.12.7"
  }
 },
 "nbformat": 4,
 "nbformat_minor": 5
}
