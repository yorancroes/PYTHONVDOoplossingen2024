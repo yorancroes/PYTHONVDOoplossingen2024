{
 "cells": [
  {
   "cell_type": "markdown",
   "metadata": {
    "tags": []
   },
   "source": [
    "![alt text](../../pythonexposed-high-resolution-logo-black.jpg \"Optionele titel\")"
   ]
  },
  {
   "cell_type": "markdown",
   "metadata": {},
   "source": [
    "### Tupels als Datastructuren"
   ]
  },
  {
   "cell_type": "markdown",
   "metadata": {},
   "source": [
    "Tuples zijn een onveranderlijk container type.\n",
    "\n",
    "Ze bevatten een verzameling objecten. De tuple is een sequentieel type - dit betekent dat de **volgorde** belangrijk is (en behouden blijft) en dat elementen toegankelijk zijn via index (nul-gebaseerd), slicing of iteratie.\n",
    "\n",
    "Andere gangbare sequentie types in Python zijn lijsten en strings. Strings, net als tuples, zijn onveranderlijk, terwijl lijsten veranderlijk zijn.\n",
    "\n",
    "Tuples worden soms voorgesteld als onveranderlijke lijsten, maar in feite kunnen ze beter vergeleken worden met strings, met één groot verschil: strings zijn homogene sequenties, terwijl tuples heterogeen kunnen zijn."
   ]
  },
  {
   "cell_type": "markdown",
   "metadata": {},
   "source": [
    "Een tupel-literal wordt vaak gepresenteerd als:"
   ]
  },
  {
   "cell_type": "code",
   "execution_count": 1,
   "metadata": {
    "tags": []
   },
   "outputs": [
    {
     "data": {
      "text/plain": [
       "('a', 10, True)"
      ]
     },
     "execution_count": 1,
     "metadata": {},
     "output_type": "execute_result"
    }
   ],
   "source": [
    "('a', 10, True)"
   ]
  },
  {
   "cell_type": "markdown",
   "metadata": {},
   "source": [
    "Maar de haakjes geven niet aan dat het om een tuple gaat - dat doen de komma's:"
   ]
  },
  {
   "cell_type": "code",
   "execution_count": 2,
   "metadata": {
    "collapsed": true,
    "jupyter": {
     "outputs_hidden": true
    },
    "tags": []
   },
   "outputs": [],
   "source": [
    "a = ('a', 10, True)\n",
    "b = 'b', 20, False"
   ]
  },
  {
   "cell_type": "code",
   "execution_count": 3,
   "metadata": {
    "tags": []
   },
   "outputs": [
    {
     "data": {
      "text/plain": [
       "tuple"
      ]
     },
     "execution_count": 3,
     "metadata": {},
     "output_type": "execute_result"
    }
   ],
   "source": [
    "type(a)"
   ]
  },
  {
   "cell_type": "code",
   "execution_count": 4,
   "metadata": {
    "tags": []
   },
   "outputs": [
    {
     "data": {
      "text/plain": [
       "tuple"
      ]
     },
     "execution_count": 4,
     "metadata": {},
     "output_type": "execute_result"
    }
   ],
   "source": [
    "type(b)"
   ]
  },
  {
   "cell_type": "markdown",
   "metadata": {},
   "source": [
    "Soms zijn echter de haakjes *verplicht* om eventuele ambiguïteit te verwijderen.\n",
    "Bijvoorbeeld, neem deze functie die een tuple (of ander iterabel object) als argument verwacht:"
   ]
  },
  {
   "cell_type": "code",
   "execution_count": 5,
   "metadata": {
    "tags": []
   },
   "outputs": [],
   "source": [
    "def iterate(t):\n",
    "    for element in t:\n",
    "        print(element)"
   ]
  },
  {
   "cell_type": "markdown",
   "metadata": {},
   "source": [
    "Als we de functie op deze manier aanroepen, zal Python dit interpreteren als drie argumenten:"
   ]
  },
  {
   "cell_type": "code",
   "execution_count": 6,
   "metadata": {},
   "outputs": [
    {
     "ename": "TypeError",
     "evalue": "iterate() takes 1 positional argument but 3 were given",
     "output_type": "error",
     "traceback": [
      "\u001b[1;31m---------------------------------------------------------------------------\u001b[0m",
      "\u001b[1;31mTypeError\u001b[0m                                 Traceback (most recent call last)",
      "\u001b[1;32m<ipython-input-6-868649c3b72b>\u001b[0m in \u001b[0;36m<module>\u001b[1;34m()\u001b[0m\n\u001b[1;32m----> 1\u001b[1;33m \u001b[0miterate\u001b[0m\u001b[1;33m(\u001b[0m\u001b[1;36m1\u001b[0m\u001b[1;33m,\u001b[0m \u001b[1;36m2\u001b[0m\u001b[1;33m,\u001b[0m \u001b[1;36m3\u001b[0m\u001b[1;33m)\u001b[0m\u001b[1;33m\u001b[0m\u001b[0m\n\u001b[0m",
      "\u001b[1;31mTypeError\u001b[0m: iterate() takes 1 positional argument but 3 were given"
     ]
    }
   ],
   "source": [
    "iterate(1, 2, 3)"
   ]
  },
  {
   "cell_type": "markdown",
   "metadata": {},
   "source": [
    "In plaats daarvan moeten we nu de haakjes gebruiken:"
   ]
  },
  {
   "cell_type": "code",
   "execution_count": 7,
   "metadata": {},
   "outputs": [
    {
     "name": "stdout",
     "output_type": "stream",
     "text": [
      "1\n",
      "2\n",
      "3\n"
     ]
    }
   ],
   "source": [
    "iterate((1, 2, 3))"
   ]
  },
  {
   "cell_type": "markdown",
   "metadata": {},
   "source": [
    "Aangezien tuples sequentietypen zijn, kunnen we items benaderen op index:"
   ]
  },
  {
   "cell_type": "code",
   "execution_count": 8,
   "metadata": {
    "collapsed": true,
    "jupyter": {
     "outputs_hidden": true
    }
   },
   "outputs": [],
   "source": [
    "a = 'a', 10, True"
   ]
  },
  {
   "cell_type": "code",
   "execution_count": 9,
   "metadata": {},
   "outputs": [
    {
     "data": {
      "text/plain": [
       "True"
      ]
     },
     "execution_count": 9,
     "metadata": {},
     "output_type": "execute_result"
    }
   ],
   "source": [
    "a[2]"
   ]
  },
  {
   "cell_type": "markdown",
   "metadata": {},
   "source": [
    "Of we kunnen ze zelfs slicen:"
   ]
  },
  {
   "cell_type": "code",
   "execution_count": 10,
   "metadata": {},
   "outputs": [
    {
     "data": {
      "text/plain": [
       "(3, 4)"
      ]
     },
     "execution_count": 10,
     "metadata": {},
     "output_type": "execute_result"
    }
   ],
   "source": [
    "a = 1, 2, 3, 4, 5\n",
    "a[2:4]"
   ]
  },
  {
   "cell_type": "markdown",
   "metadata": {},
   "source": [
    "We kunnen erover itereren:"
   ]
  },
  {
   "cell_type": "code",
   "execution_count": 11,
   "metadata": {},
   "outputs": [
    {
     "name": "stdout",
     "output_type": "stream",
     "text": [
      "1\n",
      "2\n",
      "3\n",
      "4\n",
      "5\n"
     ]
    }
   ],
   "source": [
    "a = 1, 2, 3, 4, 5\n",
    "for element in a:\n",
    "    print(element)"
   ]
  },
  {
   "cell_type": "markdown",
   "metadata": {},
   "source": [
    "We kunnen ook gebruikmaken van 'unpacking':"
   ]
  },
  {
   "cell_type": "code",
   "execution_count": 12,
   "metadata": {
    "tags": []
   },
   "outputs": [],
   "source": [
    "point = 10, 20, 30"
   ]
  },
  {
   "cell_type": "code",
   "execution_count": 13,
   "metadata": {
    "tags": []
   },
   "outputs": [],
   "source": [
    "x, y, z = point"
   ]
  },
  {
   "cell_type": "code",
   "execution_count": 14,
   "metadata": {},
   "outputs": [
    {
     "name": "stdout",
     "output_type": "stream",
     "text": [
      "10\n",
      "20\n",
      "30\n"
     ]
    }
   ],
   "source": [
    "print(x)\n",
    "print(y)\n",
    "print(z)"
   ]
  },
  {
   "cell_type": "markdown",
   "metadata": {},
   "source": [
    "We kunnen 'tuples uitbreiden', maar net zoals bij strings, maken we eigenlijk gewoon een nieuwe tuple:"
   ]
  },
  {
   "cell_type": "code",
   "execution_count": 17,
   "metadata": {
    "collapsed": true,
    "jupyter": {
     "outputs_hidden": true
    }
   },
   "outputs": [],
   "source": [
    "a = 1, 2, 3"
   ]
  },
  {
   "cell_type": "code",
   "execution_count": 18,
   "metadata": {},
   "outputs": [
    {
     "data": {
      "text/plain": [
       "2726988303960"
      ]
     },
     "execution_count": 18,
     "metadata": {},
     "output_type": "execute_result"
    }
   ],
   "source": [
    "id(a)"
   ]
  },
  {
   "cell_type": "code",
   "execution_count": 19,
   "metadata": {
    "collapsed": true,
    "jupyter": {
     "outputs_hidden": true
    }
   },
   "outputs": [],
   "source": [
    "a = a + (4, 5, 6)"
   ]
  },
  {
   "cell_type": "code",
   "execution_count": 20,
   "metadata": {},
   "outputs": [
    {
     "data": {
      "text/plain": [
       "(1, 2, 3, 4, 5, 6)"
      ]
     },
     "execution_count": 20,
     "metadata": {},
     "output_type": "execute_result"
    }
   ],
   "source": [
    "a"
   ]
  },
  {
   "cell_type": "code",
   "execution_count": 21,
   "metadata": {},
   "outputs": [
    {
     "data": {
      "text/plain": [
       "2726964089000"
      ]
     },
     "execution_count": 21,
     "metadata": {},
     "output_type": "execute_result"
    }
   ],
   "source": [
    "id(a)"
   ]
  },
  {
   "cell_type": "markdown",
   "metadata": {},
   "source": [
    "Zoals je kunt zien hebben we niet langer hetzelfde geheugenadres voor `a`."
   ]
  },
  {
   "cell_type": "markdown",
   "metadata": {},
   "source": [
    "#### Tupels als datastructuren"
   ]
  },
  {
   "cell_type": "markdown",
   "metadata": {},
   "source": [
    "We kunnen tuples interpreteren als lichtgewicht gegevensstructuren waarbij, bij conventie, de positie van het element in de tuple betekenis heeft.  We zouden een punt in een vlak kunnen representeren door zijn coördinaten via een tuple:"
   ]
  },
  {
   "cell_type": "code",
   "execution_count": 6,
   "metadata": {
    "collapsed": true,
    "jupyter": {
     "outputs_hidden": true
    },
    "tags": []
   },
   "outputs": [],
   "source": [
    "pt1 = (0, 0)\n",
    "pt2 = (10, 10)"
   ]
  },
  {
   "cell_type": "markdown",
   "metadata": {},
   "source": [
    "Hier beslissen we eenvoudigweg dat de eerste positie van het tuple de x-coördinaat vertegenwoordigt, terwijl het tweede element de y-coördinaat van een punt in 2D-ruimte vertegenwoordigt."
   ]
  },
  {
   "cell_type": "markdown",
   "metadata": {},
   "source": [
    "We zouden ook kunnen beslissen dat we een stad gaan voorstellen met een tuple, waarbij de eerste positie de stadnaam zal zijn, de tweede positie het land, en de derde positie de bevolking:"
   ]
  },
  {
   "cell_type": "code",
   "execution_count": 8,
   "metadata": {
    "collapsed": true,
    "jupyter": {
     "outputs_hidden": true
    },
    "tags": []
   },
   "outputs": [],
   "source": [
    "london = 'London', 'UK', 8_780_000\n",
    "new_york = 'New York', 'USA', 8_500_000\n",
    "beijing = 'Beijing', 'China', 21_000_000"
   ]
  },
  {
   "cell_type": "markdown",
   "metadata": {},
   "source": [
    "We kunnen zelfs een lijst van deze tuples hebben:"
   ]
  },
  {
   "cell_type": "code",
   "execution_count": 9,
   "metadata": {
    "collapsed": true,
    "jupyter": {
     "outputs_hidden": true
    },
    "tags": []
   },
   "outputs": [],
   "source": [
    "cities = london, new_york, beijing"
   ]
  },
  {
   "cell_type": "markdown",
   "metadata": {},
   "source": [
    "We kunnen een lijst van alle steden in de lijst verkrijgen met behulp van een eenvoudige list comprehension en het feit dat de naam van de stad het eerste element (index 0) van elke tuple is:"
   ]
  },
  {
   "cell_type": "code",
   "execution_count": 10,
   "metadata": {
    "tags": []
   },
   "outputs": [
    {
     "name": "stdout",
     "output_type": "stream",
     "text": [
      "['London', 'New York', 'Beijing']\n"
     ]
    }
   ],
   "source": [
    "city_names = [t[0] for t in cities]\n",
    "print(city_names)"
   ]
  },
  {
   "cell_type": "markdown",
   "metadata": {},
   "source": [
    "We zouden zelfs de totale bevolking van al deze steden kunnen berekenen.\n",
    "We kunnen dit met een simpele loop:"
   ]
  },
  {
   "cell_type": "code",
   "execution_count": 11,
   "metadata": {
    "tags": []
   },
   "outputs": [
    {
     "name": "stdout",
     "output_type": "stream",
     "text": [
      "total=38280000\n"
     ]
    }
   ],
   "source": [
    "total = 0\n",
    "for city in cities:\n",
    "    total += city[2]\n",
    "print (f'total={total}')"
   ]
  },
  {
   "cell_type": "markdown",
   "metadata": {},
   "source": [
    "De reden dat dit werkte, is omdat de `cities`-lijst **alleen** stadtuples bevatte. De lijst was homogeen. De tuples daarentegen zijn heterogeen.  \n",
    "\n",
    "Dit is vaak een belangrijk verschil tussen lijsten en tuples, vooral wanneer we tuples als datastructuren beschouwen. Tuples zijn heterogeen, terwijl de lijst homogeen moet zijn zodat we dezelfde berekeningen op elk element van de lijst kunnen toepassen.\n",
    "\n",
    "Het bovenstaande voorbeeld zou niet werken als een van de elementen in de lijst cities bijvoorbeeld een geheel getal was."
   ]
  },
  {
   "cell_type": "markdown",
   "metadata": {},
   "source": [
    "Terug naar ons voorbeeld waarbij we de totale bevolking berekenen. Er is een meer Pythonic manier om dit te doen - we gebruiken een comprehension om de populatie van elke city te verkrijgen:"
   ]
  },
  {
   "cell_type": "code",
   "execution_count": 12,
   "metadata": {
    "tags": []
   },
   "outputs": [
    {
     "data": {
      "text/plain": [
       "[8780000, 8500000, 21000000]"
      ]
     },
     "execution_count": 12,
     "metadata": {},
     "output_type": "execute_result"
    }
   ],
   "source": [
    "[city[2] for city in cities]"
   ]
  },
  {
   "cell_type": "markdown",
   "metadata": {},
   "source": [
    "Vervolgens tellen we eenvoudigweg de bevolkingswaarden op:"
   ]
  },
  {
   "cell_type": "code",
   "execution_count": 13,
   "metadata": {
    "tags": []
   },
   "outputs": [
    {
     "data": {
      "text/plain": [
       "38280000"
      ]
     },
     "execution_count": 13,
     "metadata": {},
     "output_type": "execute_result"
    }
   ],
   "source": [
    "sum([city[2] for city in cities])"
   ]
  },
  {
   "cell_type": "markdown",
   "metadata": {},
   "source": [
    "In feite hebben we zelfs de vierkante haken niet nodig in de som:"
   ]
  },
  {
   "cell_type": "code",
   "execution_count": 14,
   "metadata": {
    "tags": []
   },
   "outputs": [
    {
     "data": {
      "text/plain": [
       "38280000"
      ]
     },
     "execution_count": 14,
     "metadata": {},
     "output_type": "execute_result"
    }
   ],
   "source": [
    "sum(city[2] for city in cities)"
   ]
  },
  {
   "cell_type": "markdown",
   "metadata": {},
   "source": [
    "Nu kunnen we, aangezien tuples sequentietypen zijn en dus iterabel, ook unpacking gebruiken om waarden uit de tuple te halen:"
   ]
  },
  {
   "cell_type": "code",
   "execution_count": 36,
   "metadata": {
    "collapsed": true,
    "jupyter": {
     "outputs_hidden": true
    }
   },
   "outputs": [],
   "source": [
    "city, country, population = new_york"
   ]
  },
  {
   "cell_type": "code",
   "execution_count": 37,
   "metadata": {},
   "outputs": [
    {
     "name": "stdout",
     "output_type": "stream",
     "text": [
      "New York\n",
      "USA\n",
      "8500000\n"
     ]
    }
   ],
   "source": [
    "print(city)\n",
    "print(country)\n",
    "print(population)"
   ]
  },
  {
   "cell_type": "markdown",
   "metadata": {},
   "source": [
    "We kunnen ook gebruik maken van extended unpacking:"
   ]
  },
  {
   "cell_type": "code",
   "execution_count": 17,
   "metadata": {
    "collapsed": true,
    "jupyter": {
     "outputs_hidden": true
    },
    "tags": []
   },
   "outputs": [],
   "source": [
    "record = 'DJIA', 2018, 1, 19, 25_987, 26_072, 25_942, 26_072"
   ]
  },
  {
   "cell_type": "markdown",
   "metadata": {},
   "source": [
    "Waarbij de structuur is: symbool, jaar, maand, dag, open, hoog, laag, sluit."
   ]
  },
  {
   "cell_type": "markdown",
   "metadata": {},
   "source": [
    "We kunnen dit record uitpakken met rechtstreeks uitpakken:"
   ]
  },
  {
   "cell_type": "code",
   "execution_count": 18,
   "metadata": {
    "tags": []
   },
   "outputs": [],
   "source": [
    "symbol, year, month, day, open_, high, low, close = record"
   ]
  },
  {
   "cell_type": "code",
   "execution_count": 19,
   "metadata": {
    "tags": []
   },
   "outputs": [
    {
     "name": "stdout",
     "output_type": "stream",
     "text": [
      "DJIA\n",
      "26072\n"
     ]
    }
   ],
   "source": [
    "print(symbol)\n",
    "print(close)"
   ]
  },
  {
   "cell_type": "markdown",
   "metadata": {},
   "source": [
    "Maar stel dat we alleen geïnteresseerd zijn in het symbool, jaar, maand, dag en slotkoers. Dan zouden we uitgebreid uitpakken als volgt kunnen gebruiken:"
   ]
  },
  {
   "cell_type": "code",
   "execution_count": 41,
   "metadata": {
    "collapsed": true,
    "jupyter": {
     "outputs_hidden": true
    }
   },
   "outputs": [],
   "source": [
    "symbol, year, month, day, *others, close = record"
   ]
  },
  {
   "cell_type": "code",
   "execution_count": 42,
   "metadata": {},
   "outputs": [
    {
     "name": "stdout",
     "output_type": "stream",
     "text": [
      "DJIA 2018 1 19 26072\n"
     ]
    }
   ],
   "source": [
    "print(symbol, year, month, day, close)"
   ]
  },
  {
   "cell_type": "code",
   "execution_count": 43,
   "metadata": {},
   "outputs": [
    {
     "name": "stdout",
     "output_type": "stream",
     "text": [
      "[25987, 26072, 25942]\n"
     ]
    }
   ],
   "source": [
    "print(others)"
   ]
  },
  {
   "cell_type": "markdown",
   "metadata": {},
   "source": [
    "Een conventie die vaak wordt gebruikt in Python wanneer we niet bijzonder geïnteresseerd zijn in iets, is om een liggend streepje te gebruiken als variabelenaam:"
   ]
  },
  {
   "cell_type": "code",
   "execution_count": 44,
   "metadata": {
    "collapsed": true,
    "jupyter": {
     "outputs_hidden": true
    }
   },
   "outputs": [],
   "source": [
    "symbol, year, month, day, *_, close = record"
   ]
  },
  {
   "cell_type": "markdown",
   "metadata": {},
   "source": [
    "Er is niets bijzonders aan het underscore-teken hier, het is gewoon een geldige variabelenaam (in een interactieve Python-sessie wordt het underscore-teken eigenlijk gebruikt om de resultaten van de laatste berekening op te slaan)"
   ]
  },
  {
   "cell_type": "code",
   "execution_count": 45,
   "metadata": {},
   "outputs": [
    {
     "name": "stdout",
     "output_type": "stream",
     "text": [
      "[25987, 26072, 25942]\n"
     ]
    }
   ],
   "source": [
    "print(_)"
   ]
  },
  {
   "cell_type": "markdown",
   "metadata": {},
   "source": [
    "Schrijf geen code zoals deze om de unpacking te doen die we zojuist hebben gedaan:"
   ]
  },
  {
   "cell_type": "code",
   "execution_count": 46,
   "metadata": {
    "collapsed": true,
    "jupyter": {
     "outputs_hidden": true
    }
   },
   "outputs": [],
   "source": [
    "symbol, year, close = record[0], record[1], record[7]"
   ]
  },
  {
   "cell_type": "markdown",
   "metadata": {},
   "source": [
    "Hoewel dit werkt, is het niet erg leesbare code: je maakt een nieuwe tuple aan de rechterkant en pakt deze vervolgens uit in de variabelen aan de linkerzijde. Het is veel beter om dit te doen:"
   ]
  },
  {
   "cell_type": "code",
   "execution_count": 20,
   "metadata": {
    "collapsed": true,
    "jupyter": {
     "outputs_hidden": true
    },
    "tags": []
   },
   "outputs": [],
   "source": [
    "symbol, year, *_, close = record"
   ]
  },
  {
   "cell_type": "markdown",
   "metadata": {},
   "source": [
    "Indien je slechts een paar elementen uit de tuple hoeft te kiezen (zoals in ons voorbeeld waar we enkel de bevolking wilden om op te tellen), dan kun je het gerust direct benaderen door gebruik te maken van de index."
   ]
  },
  {
   "cell_type": "markdown",
   "metadata": {},
   "source": [
    "Maar wist je dat je ook tuples direct kunt uitpakken in de loop?"
   ]
  },
  {
   "cell_type": "code",
   "execution_count": 48,
   "metadata": {},
   "outputs": [
    {
     "name": "stdout",
     "output_type": "stream",
     "text": [
      "('London', 'UK', 8780000)\n",
      "('New York', 'USA', 8500000)\n",
      "('Beijing', 'China', 21000000)\n"
     ]
    }
   ],
   "source": [
    "for element in cities:\n",
    "    print(element)"
   ]
  },
  {
   "cell_type": "markdown",
   "metadata": {},
   "source": [
    "Zoals je kunt zien, is elk element een tuple, en we kunnen het eigenlijk tegelijk uitpakken tijdens de loop op deze manier:"
   ]
  },
  {
   "cell_type": "code",
   "execution_count": 49,
   "metadata": {},
   "outputs": [
    {
     "name": "stdout",
     "output_type": "stream",
     "text": [
      "city=London, population=8780000\n",
      "city=New York, population=8500000\n",
      "city=Beijing, population=21000000\n"
     ]
    }
   ],
   "source": [
    "for city, country, population in cities:\n",
    "    print(f'city={city}, population={population}')"
   ]
  },
  {
   "cell_type": "markdown",
   "metadata": {},
   "source": [
    "Dit is trouwens hoe we de `enumerate` functie kunnen gebruiken in Python. De enumerate functie produceert een iteratie-object vanuit een ander iteratie-object maar bevat het indexnummer. Waarden worden geretourneerd als tuples, waarbij de eerste positie de indexwaarde is, en de tweede positie de waarde. Dus die tuple kan als volgt worden uitgepakt:"
   ]
  },
  {
   "cell_type": "code",
   "execution_count": 21,
   "metadata": {
    "tags": []
   },
   "outputs": [
    {
     "name": "stdout",
     "output_type": "stream",
     "text": [
      "0: Beijing\n",
      "1: China\n",
      "2: 21000000\n"
     ]
    }
   ],
   "source": [
    "for index, value in enumerate(beijing):\n",
    "    print(f'{index}: {value}')"
   ]
  },
  {
   "cell_type": "markdown",
   "metadata": {},
   "source": [
    "Natuurlijk, aangezien we in dit geval geen interesse hebben in het land, kunnen we het ook op deze manier schrijven:"
   ]
  },
  {
   "cell_type": "code",
   "execution_count": 51,
   "metadata": {},
   "outputs": [
    {
     "name": "stdout",
     "output_type": "stream",
     "text": [
      "city=London, population=8780000\n",
      "city=New York, population=8500000\n",
      "city=Beijing, population=21000000\n"
     ]
    }
   ],
   "source": [
    "for city, _, population in cities:\n",
    "    print(f'city={city}, population={population}')"
   ]
  },
  {
   "cell_type": "markdown",
   "metadata": {},
   "source": [
    "Een andere veelvoorkomende toepassing van het gebruik van tuples als datastructuren is voor het retourneren van meerdere waarden uit een functie.  Hieronder vind je een Monte Carlo simulatie om een benadering van pi (π) te berekenen. De reden waarom deze specifieke code een benadering van pi geeft, is gebaseerd op de verhouding van de oppervlakte van een cirkel tot de oppervlakte van een omschreven vierkant waarbinnen de cirkel past."
   ]
  },
  {
   "cell_type": "code",
   "execution_count": 22,
   "metadata": {
    "tags": []
   },
   "outputs": [],
   "source": [
    "from random import uniform   # samples uit een uniforme distributie\n",
    "from math import sqrt\n",
    "\n",
    "def random_shot(radius):\n",
    "    '''Genereert een willekeurige 2D-coördinaat binnen de grenzen \n",
    "    [-radius, radius] * [-radius, radius] \n",
    "    (een vierkant met een oppervlakte van 4) \n",
    "    en bepaalt ook of het binnen een cirkel valt die gecentreerd is \n",
    "    op de oorsprong met een gespecificeerde straal.\n",
    "    '''\n",
    "    \n",
    "    random_x = uniform(-radius, radius)\n",
    "    random_y = uniform(-radius, radius)\n",
    "\n",
    "    if sqrt(random_x ** 2 + random_y ** 2) <= radius:\n",
    "        is_in_circle = True\n",
    "    else:\n",
    "        is_in_circle = False\n",
    "    \n",
    "    return random_x, random_y, is_in_circle"
   ]
  },
  {
   "cell_type": "code",
   "execution_count": 23,
   "metadata": {
    "tags": []
   },
   "outputs": [
    {
     "name": "stdout",
     "output_type": "stream",
     "text": [
      "Pi is approximately: 3.140908\n"
     ]
    }
   ],
   "source": [
    "num_attempts = 1_000_000\n",
    "count_inside = 0\n",
    "for i in range(num_attempts):\n",
    "    *_, is_in_circle = random_shot(1)\n",
    "    if is_in_circle:\n",
    "        count_inside += 1\n",
    "\n",
    "print(f'Pi is approximately: {4 * count_inside / num_attempts}')"
   ]
  },
  {
   "cell_type": "markdown",
   "metadata": {},
   "source": [
    "Uitleg van de Methode:  \n",
    "\n",
    "Definitie van het gebied:\n",
    "De code genereert willekeurige punten binnen een vierkant met zijden van -1 tot 1  \n",
    "(dus een zijde van 2 en een oppervlakte van 2×2=4).  \n",
    "Binnen dit vierkant bevindt zich een cirkel met een straal van 1, gecentreerd op de oorsprong (0,0).\n",
    "\n",
    "Oppervlakte van de cirkel:\n",
    "De oppervlakte van de cirkel kan wiskundig worden berekend als \n",
    "π×r², waarbij r de straal van de cirkel is. In dit geval is de straal 1, dus de oppervlakte van de cirkel is π.\n",
    "\n",
    "Verhouding van de oppervlaktes:\n",
    "Het vierkant dat het kader vormt voor de simulatie heeft een oppervlakte van 4. De verhouding van de oppervlakte van de cirkel tot de oppervlakte van het vierkant is dus 𝜋 / 4.\n",
    "\n",
    "Monte Carlo Simulatie:\n",
    "Door willekeurige punten binnen dit vierkant te genereren, meet de code hoeveel van deze punten binnen de cirkel vallen. De verhouding van het aantal punten binnen de cirkel tot het totale aantal gegenereerde punten moet dicht bij de verhouding van de oppervlaktes liggen, ofwel 𝜋 / 4\n",
    "\n",
    "Berekening van Pi:\n",
    "Als je deze verhouding van binnen-de-cirkel punten vermenigvuldigt met 4 (de oppervlakte van het vierkant), krijg je een benadering van pi."
   ]
  },
  {
   "cell_type": "code",
   "execution_count": null,
   "metadata": {},
   "outputs": [],
   "source": []
  }
 ],
 "metadata": {
  "kernelspec": {
   "display_name": "Python 3 (ipykernel)",
   "language": "python",
   "name": "python3"
  },
  "language_info": {
   "codemirror_mode": {
    "name": "ipython",
    "version": 3
   },
   "file_extension": ".py",
   "mimetype": "text/x-python",
   "name": "python",
   "nbconvert_exporter": "python",
   "pygments_lexer": "ipython3",
   "version": "3.10.9"
  }
 },
 "nbformat": 4,
 "nbformat_minor": 4
}
