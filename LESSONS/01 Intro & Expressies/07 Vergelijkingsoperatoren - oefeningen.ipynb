{
 "cells": [
  {
   "cell_type": "markdown",
   "metadata": {},
   "source": [
    "![alt text](../../pythonexposed-high-resolution-logo-black.jpg \"Optionele titel\")"
   ]
  },
  {
   "cell_type": "markdown",
   "metadata": {},
   "source": [
    "### Oefening 1"
   ]
  },
  {
   "cell_type": "markdown",
   "metadata": {},
   "source": [
    "Gegeven twee floats `a` en `b`, en een zekere tolerantie `tol`, schrijf een expressie die zal testen of `a` en `b` binnen `tol` van elkaar liggen."
   ]
  },
  {
   "cell_type": "markdown",
   "metadata": {},
   "source": [
    "We willen er in essentie voor zorgen dat de *afstand* tussen `a` en `b` begrensd is door een zekere tolerantie `tol`."
   ]
  },
  {
   "cell_type": "markdown",
   "metadata": {},
   "source": [
    "We kunnen de `abs()` functie gebruiken om de absolute waarde van een waarde te berekenen, dus:\n",
    "```abs(a-b)```\n",
    "\n",
    "dit berekent de afstand tussen `a` and `b`."
   ]
  },
  {
   "cell_type": "markdown",
   "metadata": {},
   "source": [
    "### Oefening 2"
   ]
  },
  {
   "cell_type": "markdown",
   "metadata": {},
   "source": [
    "Stel dat je een variabele `elapsed` hebt die de verstreken tijd in seconden bevat."
   ]
  },
  {
   "cell_type": "markdown",
   "metadata": {},
   "source": [
    "Creëer drie nieuwe variabelen: `uren`, `minuten` en `seconden`, die het aantal uren, minuten en seconden vertegenwoordigen die worden weergegeven door `elapsed`."
   ]
  },
  {
   "cell_type": "markdown",
   "metadata": {},
   "source": [
    "Bijvoorbeeld, als `elapsed = 7835`, dan is `uren = 2`, `minuten = 10` en `seconden = 35`."
   ]
  },
  {
   "cell_type": "markdown",
   "metadata": {},
   "source": [
    "### Oefening 3"
   ]
  },
  {
   "cell_type": "markdown",
   "metadata": {},
   "source": [
    "Maak twee variabelen die naar dezelfde lijst verwijzen. Vergelijk hun gelijkheid met == en is. Wat is het verschil?"
   ]
  },
  {
   "cell_type": "markdown",
   "metadata": {},
   "source": [
    "### Oefening 4"
   ]
  },
  {
   "cell_type": "markdown",
   "metadata": {},
   "source": [
    "Maak twee verschillende lijsten met dezelfde inhoud. Vergelijk ze met == en is. Wat is het verschil?"
   ]
  },
  {
   "cell_type": "markdown",
   "metadata": {},
   "source": [
    "### Oefening 5"
   ]
  },
  {
   "cell_type": "markdown",
   "metadata": {},
   "source": [
    "Maak twee verschillende strings met dezelfde inhoud. Vergelijk ze met == en is. Wat is het verschil?"
   ]
  },
  {
   "cell_type": "markdown",
   "metadata": {},
   "source": [
    "### Oefening 6"
   ]
  },
  {
   "cell_type": "markdown",
   "metadata": {},
   "source": [
    "Gebruik de functie id() om het geheugenadres van twee verschillende variabelen te vinden die naar hetzelfde object verwijzen."
   ]
  },
  {
   "cell_type": "markdown",
   "metadata": {},
   "source": [
    "### Oefening 7"
   ]
  },
  {
   "cell_type": "markdown",
   "metadata": {},
   "source": [
    "Gebruik de functie id() om het geheugenadres van twee verschillende objecten met dezelfde waarde te vinden. Wat is het verschil?"
   ]
  },
  {
   "cell_type": "markdown",
   "metadata": {},
   "source": [
    "### Oefening 8"
   ]
  },
  {
   "cell_type": "markdown",
   "metadata": {},
   "source": [
    "Vergelijk getallen, gebruik makend van verschillende vergelijkingsoperatoren, en bepaal welke expressie True en welke False is. Bijvoorbeeld:    \n",
    "5 == 5   # True  \n",
    "5 == 4   # False"
   ]
  },
  {
   "cell_type": "markdown",
   "metadata": {},
   "source": [
    "### Oefening 9"
   ]
  },
  {
   "cell_type": "markdown",
   "metadata": {},
   "source": [
    "Vergelijk twee strings met de == en != operatoren. Wat is het resultaat?"
   ]
  },
  {
   "cell_type": "markdown",
   "metadata": {},
   "source": [
    "### Oefening 10"
   ]
  },
  {
   "cell_type": "markdown",
   "metadata": {},
   "source": [
    "Vergelijk twee tuples met de vergelijkingsoperatoren (<, >, <=, >=). Wat is het resultaat en waarom?"
   ]
  },
  {
   "cell_type": "markdown",
   "metadata": {},
   "source": [
    "### Oefening 11"
   ]
  },
  {
   "cell_type": "markdown",
   "metadata": {},
   "source": [
    "Controleer of het verschil tussen twee floats, die gelijk zouden moeten zijn, kleiner is dan een kleine drempelwaarde (epsilon). Waarom is dit nodig?"
   ]
  },
  {
   "cell_type": "markdown",
   "metadata": {},
   "source": [
    "### Oefening 12"
   ]
  },
  {
   "cell_type": "markdown",
   "metadata": {},
   "source": [
    "Vergelijk twee floats met == en !=. Wat is het resultaat en waarom?"
   ]
  },
  {
   "cell_type": "markdown",
   "metadata": {},
   "source": [
    "### Oefening 13"
   ]
  },
  {
   "cell_type": "markdown",
   "metadata": {},
   "source": [
    "Controleer of een bepaald element zich in een lijst bevindt met de in-operator."
   ]
  },
  {
   "cell_type": "markdown",
   "metadata": {},
   "source": [
    "### Oefening 14"
   ]
  },
  {
   "cell_type": "markdown",
   "metadata": {},
   "source": [
    "Controleer of een substring aanwezig is in een string met de in-operator."
   ]
  },
  {
   "cell_type": "markdown",
   "metadata": {},
   "source": [
    "### Oefening 15"
   ]
  },
  {
   "cell_type": "markdown",
   "metadata": {},
   "source": [
    "Controleer of een key aanwezig is in een dictionary met de in-operator."
   ]
  },
  {
   "cell_type": "markdown",
   "metadata": {},
   "source": [
    "#### Oefening 16\n",
    "\n",
    "Ga na tot welke integer waarde interning wordt toegepast door python"
   ]
  },
  {
   "cell_type": "code",
   "execution_count": null,
   "metadata": {},
   "outputs": [],
   "source": []
  }
 ],
 "metadata": {
  "kernelspec": {
   "display_name": "Python 3 (ipykernel)",
   "language": "python",
   "name": "python3"
  },
  "language_info": {
   "codemirror_mode": {
    "name": "ipython",
    "version": 3
   },
   "file_extension": ".py",
   "mimetype": "text/x-python",
   "name": "python",
   "nbconvert_exporter": "python",
   "pygments_lexer": "ipython3",
   "version": "3.11.6"
  }
 },
 "nbformat": 4,
 "nbformat_minor": 4
}
