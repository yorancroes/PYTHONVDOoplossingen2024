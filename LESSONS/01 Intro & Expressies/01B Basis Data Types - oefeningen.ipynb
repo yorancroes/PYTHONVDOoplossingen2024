{
 "cells": [
  {
   "cell_type": "markdown",
   "metadata": {
    "tags": []
   },
   "source": [
    "![alt text](../../pythonexposed-high-resolution-logo-black.jpg \"Optionele titel\")"
   ]
  },
  {
   "cell_type": "markdown",
   "metadata": {},
   "source": [
    "## Basis data types - oefeningen"
   ]
  },
  {
   "cell_type": "markdown",
   "metadata": {},
   "source": [
    "#### 1. Type van de expressie"
   ]
  },
  {
   "cell_type": "markdown",
   "metadata": {},
   "source": [
    "Onthoud dat elke expressie een waarde heeft, elke waarde een type heeft, en dat we de type-functie kunnen gebruiken om het type van elke waarde te achterhalen.\n",
    "\n",
    "Wat is het type van de waarde van de volgende expressies? Maak een beste gok voor elk van hen en gebruik vervolgens de type-functie om het te controleren.\n",
    "\n",
    "- 765\n",
    "- 2.718\n",
    "- '2 pi'\n",
    "- abs(-7)\n",
    "- abs(-7.0)\n",
    "- abs\n",
    "- int\n",
    "- type"
   ]
  },
  {
   "cell_type": "markdown",
   "metadata": {},
   "source": [
    "#### 2. Voorspel het type van de volgende expressies en controleer met de type-functie. Wat valt je op bij de uitkomst?"
   ]
  },
  {
   "cell_type": "markdown",
   "metadata": {},
   "source": [
    "- 4 + 5.0\n",
    "- 2 * 3\n",
    "- 2 * 3.0\n",
    "- 2 ** 3\n",
    "- 2 ** 3.0"
   ]
  },
  {
   "cell_type": "markdown",
   "metadata": {},
   "source": [
    "#### 3. Gebruik de int(), float() en str() functies om het type van de volgende expressies te veranderen. Voorspel de uitkomst en controleer vervolgens of je voorspelling klopt."
   ]
  },
  {
   "cell_type": "markdown",
   "metadata": {},
   "source": [
    "- int(\"123\")\n",
    "- float(\"3.14\")\n",
    "- str(123)\n",
    "- int(2.718)\n",
    "- float(\"42.0\")\n",
    "- int(\"3.14\")"
   ]
  },
  {
   "cell_type": "code",
   "execution_count": 6,
   "metadata": {},
   "outputs": [
    {
     "ename": "ValueError",
     "evalue": "invalid literal for int() with base 10: '3.14'",
     "output_type": "error",
     "traceback": [
      "\u001b[0;31m---------------------------------------------------------------------------\u001b[0m",
      "\u001b[0;31mValueError\u001b[0m                                Traceback (most recent call last)",
      "Cell \u001b[0;32mIn[6], line 1\u001b[0m\n\u001b[0;32m----> 1\u001b[0m \u001b[38;5;28;43mint\u001b[39;49m\u001b[43m(\u001b[49m\u001b[38;5;124;43m\"\u001b[39;49m\u001b[38;5;124;43m3.14\u001b[39;49m\u001b[38;5;124;43m\"\u001b[39;49m\u001b[43m)\u001b[49m\n",
      "\u001b[0;31mValueError\u001b[0m: invalid literal for int() with base 10: '3.14'"
     ]
    }
   ],
   "source": [
    "int(\"3.14\")"
   ]
  },
  {
   "cell_type": "code",
   "execution_count": null,
   "metadata": {},
   "outputs": [],
   "source": []
  }
 ],
 "metadata": {
  "kernelspec": {
   "display_name": "Python 3 (ipykernel)",
   "language": "python",
   "name": "python3"
  },
  "language_info": {
   "codemirror_mode": {
    "name": "ipython",
    "version": 3
   },
   "file_extension": ".py",
   "mimetype": "text/x-python",
   "name": "python",
   "nbconvert_exporter": "python",
   "pygments_lexer": "ipython3",
   "version": "3.11.6"
  }
 },
 "nbformat": 4,
 "nbformat_minor": 4
}
