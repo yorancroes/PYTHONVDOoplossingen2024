{
 "cells": [
  {
   "cell_type": "markdown",
   "metadata": {},
   "source": [
    "![alt text](../../pythonexposed-high-resolution-logo-black.jpg \"Optionele titel\")"
   ]
  },
  {
   "cell_type": "markdown",
   "metadata": {},
   "source": [
    "### String Interpolatie"
   ]
  },
  {
   "cell_type": "markdown",
   "metadata": {},
   "source": [
    "Vaak willen we waarden \"interpoleren\" in strings."
   ]
  },
  {
   "cell_type": "markdown",
   "metadata": {},
   "source": [
    "Hier zal ik je twee mechanismen laten zien, de `format()`-methode en **opgemaakte strings**, ook wel **f-strings** genoemd."
   ]
  },
  {
   "cell_type": "code",
   "execution_count": 1,
   "metadata": {},
   "outputs": [],
   "source": [
    "open_, high, low, close = 98, 100, 95, 99"
   ]
  },
  {
   "cell_type": "markdown",
   "metadata": {},
   "source": [
    "Opmerking: Ik gebruik `open_` in plaats van `open` als symbool omdat `open` eigenlijk een ingebouwde functie is in Python. Hoewel we het opnieuw kunnen definiëren, als we dat doen, zullen we later geen bestanden kunnen openen :-)"
   ]
  },
  {
   "cell_type": "markdown",
   "metadata": {},
   "source": [
    "Nu willen we een string genereren die deze waarden bevat - misschien om weer te geven aan onze gebruikers, of misschien om op te slaan in een CSV-bestand dat we aan het maken zijn."
   ]
  },
  {
   "cell_type": "markdown",
   "metadata": {},
   "source": [
    "We kunnen de `format()` methode op deze manier gebruiken:"
   ]
  },
  {
   "cell_type": "code",
   "execution_count": 2,
   "metadata": {},
   "outputs": [
    {
     "data": {
      "text/plain": [
       "'open: 98, high: 100, low: 95, close: 99'"
      ]
     },
     "execution_count": 2,
     "metadata": {},
     "output_type": "execute_result"
    }
   ],
   "source": [
    "'open: {}, high: {}, low: {}, close: {}'.format(open_, high, low, close)"
   ]
  },
  {
   "cell_type": "markdown",
   "metadata": {},
   "source": [
    "Het enige wat we moeten doen is ervoor zorgen dat we de argumenten in dezelfde volgorde als waarmee we ze in de string interpoleren vermelden."
   ]
  },
  {
   "cell_type": "markdown",
   "metadata": {},
   "source": [
    "Nu kan dit soms foutgevoelig zijn - in dat geval is er een variant waarbij we het argument in de string kunnen benoemen, en genaamde argumenten gebruiken in de `format` methode (we zullen later in deze cursus ingaan op genaamde argumenten):"
   ]
  },
  {
   "cell_type": "code",
   "execution_count": 3,
   "metadata": {},
   "outputs": [],
   "source": [
    "bid = 1.5760\n",
    "ask = 1.5763"
   ]
  },
  {
   "cell_type": "code",
   "execution_count": 4,
   "metadata": {},
   "outputs": [
    {
     "data": {
      "text/plain": [
       "'bid: 1.576, ask: 1.5763, spread: 0.00029999999999996696'"
      ]
     },
     "execution_count": 4,
     "metadata": {},
     "output_type": "execute_result"
    }
   ],
   "source": [
    "'bid: {bid}, ask: {ask}, spread: {spread}'.format(bid=bid, ask=ask, spread=(ask - bid))"
   ]
  },
  {
   "cell_type": "markdown",
   "metadata": {},
   "source": [
    "Dit is soms gemakkelijker dan het onthouden van de volgorde van de variabelen, omdat dit net zo goed werkt:"
   ]
  },
  {
   "cell_type": "code",
   "execution_count": 5,
   "metadata": {},
   "outputs": [
    {
     "data": {
      "text/plain": [
       "'bid: 1.576, ask: 1.5763, spread: 0.00029999999999996696'"
      ]
     },
     "execution_count": 5,
     "metadata": {},
     "output_type": "execute_result"
    }
   ],
   "source": [
    "'bid: {bid}, ask: {ask}, spread: {spread}'.format(spread=(ask - bid), bid=bid, ask=ask)"
   ]
  },
  {
   "cell_type": "markdown",
   "metadata": {},
   "source": [
    "Je zult merken dat de weergegeven waarde voor de spread een beetje te veel is (plus het is niet precies, zoals we al weten bij het werken met floating point getallen). We kunnen een formaat specificeren dat Python moet gebruiken om de float weer te geven:"
   ]
  },
  {
   "cell_type": "code",
   "execution_count": 6,
   "metadata": {},
   "outputs": [
    {
     "data": {
      "text/plain": [
       "'bid: 1.5760, ask: 1.5763, spread: 0.0003'"
      ]
     },
     "execution_count": 6,
     "metadata": {},
     "output_type": "execute_result"
    }
   ],
   "source": [
    "'bid: {bid:.4f}, ask: {ask:.4f}, spread: {spread:.4f}'.format(spread=(ask - bid), bid=bid, ask=ask)"
   ]
  },
  {
   "cell_type": "markdown",
   "metadata": {},
   "source": [
    "Het andere voordeel van het gebruik van benoemde variabelen is dat ze meer dan eens kunnen worden gebruikt in dezelfde string:"
   ]
  },
  {
   "cell_type": "code",
   "execution_count": 7,
   "metadata": {},
   "outputs": [
    {
     "data": {
      "text/plain": [
       "'10 + 20 = 20 + 10'"
      ]
     },
     "execution_count": 7,
     "metadata": {},
     "output_type": "execute_result"
    }
   ],
   "source": [
    "'{a} + {b} = {b} + {a}'.format(a=10, b=20)"
   ]
  },
  {
   "cell_type": "markdown",
   "metadata": {},
   "source": [
    "Als we alleen positionele argumenten hadden willen gebruiken, zouden we dit moeten doen:"
   ]
  },
  {
   "cell_type": "code",
   "execution_count": 8,
   "metadata": {},
   "outputs": [
    {
     "data": {
      "text/plain": [
       "'10 + 20 = 20 + 10'"
      ]
     },
     "execution_count": 8,
     "metadata": {},
     "output_type": "execute_result"
    }
   ],
   "source": [
    "'{} + {} = {} + {}'.format(10, 20, 20, 10)"
   ]
  },
  {
   "cell_type": "markdown",
   "metadata": {},
   "source": [
    "Vanaf Python 3.6 is er nog een manier om hetzelfde te doen - f-strings."
   ]
  },
  {
   "cell_type": "markdown",
   "metadata": {},
   "source": [
    "Deze f-strings interpoleren bestaande symbolen rechtstreeks in onze string - dit betekent dat ze moeten bestaan voordat we de f-string definiëren:"
   ]
  },
  {
   "cell_type": "code",
   "execution_count": 9,
   "metadata": {},
   "outputs": [],
   "source": [
    "a = 10\n",
    "b = 20"
   ]
  },
  {
   "cell_type": "code",
   "execution_count": 10,
   "metadata": {},
   "outputs": [
    {
     "data": {
      "text/plain": [
       "'10 + 20 = 20 + 10'"
      ]
     },
     "execution_count": 10,
     "metadata": {},
     "output_type": "execute_result"
    }
   ],
   "source": [
    "f'{a} + {b} = {b} + {a}'"
   ]
  },
  {
   "cell_type": "markdown",
   "metadata": {},
   "source": [
    "Sterker nog, we kunnen zelfs expressies opnemen, niet alleen symbolen in de interpolatie:"
   ]
  },
  {
   "cell_type": "code",
   "execution_count": 11,
   "metadata": {},
   "outputs": [
    {
     "data": {
      "text/plain": [
       "'10 + 20 = 30'"
      ]
     },
     "execution_count": 11,
     "metadata": {},
     "output_type": "execute_result"
    }
   ],
   "source": [
    "f'{a} + {b} = {a + b}'"
   ]
  },
  {
   "cell_type": "markdown",
   "metadata": {},
   "source": [
    "Laten we teruggaan naar ons voorbeeld van open-hoog-laag-sluiting:"
   ]
  },
  {
   "cell_type": "code",
   "execution_count": 12,
   "metadata": {},
   "outputs": [
    {
     "data": {
      "text/plain": [
       "'open: 98, high: 100, low: 95, close: 99'"
      ]
     },
     "execution_count": 12,
     "metadata": {},
     "output_type": "execute_result"
    }
   ],
   "source": [
    "f'open: {open_}, high: {high}, low: {low}, close: {close}'"
   ]
  },
  {
   "cell_type": "markdown",
   "metadata": {},
   "source": [
    "En ons spread voorbeeld:"
   ]
  },
  {
   "cell_type": "code",
   "execution_count": 13,
   "metadata": {},
   "outputs": [
    {
     "data": {
      "text/plain": [
       "'ask: 1.5763, bid: 1.576, spread: 0.00029999999999996696'"
      ]
     },
     "execution_count": 13,
     "metadata": {},
     "output_type": "execute_result"
    }
   ],
   "source": [
    "f'ask: {ask}, bid: {bid}, spread: {ask - bid}'"
   ]
  },
  {
   "cell_type": "markdown",
   "metadata": {},
   "source": [
    "Zoals je kunt zien hebben we ook dat visuele representatieprobleem, dus lossen we het op met dezelfde aanpak als voorheen:"
   ]
  },
  {
   "cell_type": "code",
   "execution_count": 14,
   "metadata": {},
   "outputs": [
    {
     "data": {
      "text/plain": [
       "'ask: 1.5763, bid: 1.5760, spread: 0.0003'"
      ]
     },
     "execution_count": 14,
     "metadata": {},
     "output_type": "execute_result"
    }
   ],
   "source": [
    "f'ask: {ask:.4f}, bid: {bid:.4f}, spread: {(ask - bid):.4f}'"
   ]
  },
  {
   "cell_type": "markdown",
   "metadata": {},
   "source": [
    "Technisch gezien hebben we zelfs de haakjes niet nodig in de laatste geïnterpoleerde expressie:"
   ]
  },
  {
   "cell_type": "code",
   "execution_count": 15,
   "metadata": {},
   "outputs": [
    {
     "data": {
      "text/plain": [
       "'ask: 1.5763, bid: 1.5760, spread: 0.0003'"
      ]
     },
     "execution_count": 15,
     "metadata": {},
     "output_type": "execute_result"
    }
   ],
   "source": [
    "f'ask: {ask:.4f}, bid: {bid:.4f}, spread: {ask - bid:.4f}'"
   ]
  },
  {
   "cell_type": "code",
   "execution_count": null,
   "metadata": {},
   "outputs": [],
   "source": []
  }
 ],
 "metadata": {
  "kernelspec": {
   "display_name": "Python 3 (ipykernel)",
   "language": "python",
   "name": "python3"
  },
  "language_info": {
   "codemirror_mode": {
    "name": "ipython",
    "version": 3
   },
   "file_extension": ".py",
   "mimetype": "text/x-python",
   "name": "python",
   "nbconvert_exporter": "python",
   "pygments_lexer": "ipython3",
   "version": "3.11.6"
  }
 },
 "nbformat": 4,
 "nbformat_minor": 4
}
