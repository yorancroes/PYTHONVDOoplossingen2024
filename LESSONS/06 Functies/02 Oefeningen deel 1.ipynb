{
 "cells": [
  {
   "cell_type": "markdown",
   "id": "5181419e-f8d6-4d4c-96bd-15554a98b5a7",
   "metadata": {
    "tags": []
   },
   "source": [
    "![alt text](../../pythonexposed-high-resolution-logo-black.jpg \"Optionele titel\")"
   ]
  },
  {
   "cell_type": "markdown",
   "id": "5f2d910d-03d0-460b-b455-5dffc53db589",
   "metadata": {
    "tags": []
   },
   "source": [
    "### Functies - oefeningen"
   ]
  },
  {
   "cell_type": "markdown",
   "id": "8b179e2c-e73d-4638-b29a-65bc18fc2e5c",
   "metadata": {},
   "source": [
    "- Vraag de gebruiker om een ongekend aantal getallen, hou deze bij in een lijst en druk dan het volgende af: de som van alle getallen, welke getallen even zijn, welke getallen oneven zijn\n",
    "- Maak een programma dat de gebruiker 5 namen en een salaris vraagt, is er geen salaris dan nemen we als default 2000 euro. Druk deze lijst dan af\n",
    "- Schrijf een functie die bij elke iteratie één toevoegt aan het vorige resultaat (1, 2, 3, ...).  Test dit met 1000; print de output om de 100 iteraties.\n",
    "- Schrijf een functie die een variabel aantal argumenten (met een minimum van één) aanneemt, en het gemiddelde van deze getallen teruggeeft.\n",
    "- Maak een functie die als parameter een getal krijgt, en die dan de tafel van vermenigvuldiging voor 1 tot en met 10 van dat getal afdrukt. Bijvoorbeeld, als de parameter 12 is, dan drukt het programma als eerste regel “1 * 12 = 12” af, en als laatste regel “10 * 12 = 120.”\n",
    "- Schrijf een functie die twee strings krijgt als parameters. De functie retourneert het aantal tekens dat de strings gemeen hebben. Ieder teken wordt slechts eenmalig geteld, bijvoorbeeld, de strings \"een\" en \"peer\" hebben slechts één teken gemeen (de letter “e”). Je mag hoofdletters zien als verschillend van kleine letters. Merk op: de functie retourneert het aantal tekens dat de strings gemeen hebben, en moet het niet in de functie printen. Om de functie te testen kun je wel de retourwaarde printen in het hoofdprogramma.\n",
    "- De Grerory-Leibnitz reeks benadert de waarde van π door de berekening van 4 ∗ ( 1/1 − 1/3 + 1/5 − 1/7 + 1/9... ) . Schrijf een functie die π benadert via deze reeks. De functie krijgt één parameter, namelijk een integer die aangeeft hoeveel van de termen tussen de haakjes in de reeks berekend moeten worden."
   ]
  },
  {
   "cell_type": "code",
   "execution_count": null,
   "id": "e804b077-1f95-41ae-bbfa-917c173d3737",
   "metadata": {},
   "outputs": [],
   "source": []
  }
 ],
 "metadata": {
  "kernelspec": {
   "display_name": "Python 3 (ipykernel)",
   "language": "python",
   "name": "python3"
  },
  "language_info": {
   "codemirror_mode": {
    "name": "ipython",
    "version": 3
   },
   "file_extension": ".py",
   "mimetype": "text/x-python",
   "name": "python",
   "nbconvert_exporter": "python",
   "pygments_lexer": "ipython3",
   "version": "3.11.6"
  }
 },
 "nbformat": 4,
 "nbformat_minor": 5
}
