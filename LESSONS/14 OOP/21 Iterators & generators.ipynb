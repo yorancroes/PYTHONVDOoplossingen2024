{
 "cells": [
  {
   "cell_type": "markdown",
   "id": "52b7286e-e63d-46ff-a301-5f19daea081f",
   "metadata": {
    "slideshow": {
     "slide_type": "slide"
    }
   },
   "source": [
    "![alt text](../../pythonexposed-high-resolution-logo-black.jpg \"Optionele titel\")"
   ]
  },
  {
   "cell_type": "markdown",
   "id": "6c483c47-cdd8-4294-924f-ecae6a1022ee",
   "metadata": {
    "slideshow": {
     "slide_type": "subslide"
    }
   },
   "source": [
    "### Iterators en Generators in Python"
   ]
  },
  {
   "cell_type": "markdown",
   "id": "d45a75ec-6c22-4174-a9e8-76864b09d8a0",
   "metadata": {
    "slideshow": {
     "slide_type": "subslide"
    }
   },
   "source": [
    "In deze les gaan we dieper in op **iterators** en **generators**, fundamentele concepten in Python die iteraties over data compact, flexibel en krachtig maken. We behandelen wat ze zijn, hoe ze werken, en hoe je ze zelf kunt maken."
   ]
  },
  {
   "cell_type": "markdown",
   "id": "c71d5aef-51e1-4417-ac5e-db335d336325",
   "metadata": {
    "slideshow": {
     "slide_type": "slide"
    }
   },
   "source": [
    "### **1. Wat zijn Iterators?**\n",
    "\n",
    "Een iterator in Python is een object dat een iterator protocol implementeert. Dit betekent dat het:\n",
    "\n",
    "1. Een methode `__iter__()` heeft, die het iteratorobject zelf retourneert.\n",
    "2. Een methode `__next__()` heeft, die het volgende element in de reeks retourneert. Als er geen elementen meer zijn, roept deze een `StopIteration`-uitzondering op.\n",
    "\n",
    "Met iterators kun je data element voor element ophalen zonder dat de volledige data in het geheugen geladen hoeft te worden. Iterators worden vaak gebruikt in combinatie met `for`-lussen."
   ]
  },
  {
   "cell_type": "code",
   "execution_count": 2,
   "id": "1f743ac8-6aaf-45b6-99a9-6bb063e0f06f",
   "metadata": {
    "slideshow": {
     "slide_type": "subslide"
    }
   },
   "outputs": [
    {
     "name": "stdout",
     "output_type": "stream",
     "text": [
      "a\n",
      "b\n",
      "c\n"
     ]
    }
   ],
   "source": [
    "# Voorbeeld van een iterator in actie\n",
    "\n",
    "s = 'abc'\n",
    "it = iter(s)\n",
    "print(next(it))  # Uitvoer: 'a'\n",
    "print(next(it))  # Uitvoer: 'b'\n",
    "print(next(it))  # Uitvoer: 'c'\n",
    "\n",
    "# Volgende oproep:\n",
    "# StopIteration-exceptie\n",
    "\n",
    "# Hier zien we dat `iter(s)` een iterator maakt en dat `next()` telkens het volgende element ophaalt."
   ]
  },
  {
   "cell_type": "markdown",
   "id": "7f556e0a-93b9-4fa5-885a-cb421520b273",
   "metadata": {
    "slideshow": {
     "slide_type": "slide"
    }
   },
   "source": [
    "### **2. Iterators maken in klassen**\n",
    "Je kunt zelf een iterator maken door de methoden `__iter__()` en `__next__()` te definiëren in een klasse.\n",
    "\n",
    "**Voorbeeld: Iterator voor omgekeerde strings**"
   ]
  },
  {
   "cell_type": "code",
   "execution_count": 41,
   "id": "60845c47-2dff-42b0-8b35-0da035a77909",
   "metadata": {
    "slideshow": {
     "slide_type": "subslide"
    }
   },
   "outputs": [
    {
     "name": "stdout",
     "output_type": "stream",
     "text": [
      "m\n",
      "a\n",
      "p\n",
      "s\n"
     ]
    }
   ],
   "source": [
    "class Reverse:\n",
    "    \"\"\"Iterator voor het achteruit doorlopen van een reeks.\"\"\"\n",
    "    def __init__(self, data):\n",
    "        self.data = data\n",
    "        self.index = len(data)\n",
    "\n",
    "    def __iter__(self):\n",
    "        return self\n",
    "\n",
    "    def __next__(self):\n",
    "        if self.index == 0:\n",
    "            raise StopIteration\n",
    "        self.index -= 1\n",
    "        return self.data[self.index]\n",
    "\n",
    "rev = Reverse('spam')\n",
    "for char in rev:\n",
    "    print(char)\n",
    "\n",
    "# Hier gebruiken we een klasse om een iterator te maken die een string achterstevoren doorloopt. \n",
    "# De `__iter__()` retourneert `self`, en `__next__()` beheert de iteratielogica."
   ]
  },
  {
   "cell_type": "markdown",
   "id": "ce5a79ac-d010-4d28-b7b4-4e3c11777d94",
   "metadata": {
    "slideshow": {
     "slide_type": "slide"
    }
   },
   "source": [
    "### **3. Wat zijn Generators?**"
   ]
  },
  {
   "cell_type": "markdown",
   "id": "093a1684-f171-4707-b5e8-47f643c38433",
   "metadata": {
    "slideshow": {
     "slide_type": "subslide"
    }
   },
   "source": [
    "Generators zijn een compactere en eenvoudigere manier om iterators te maken. In plaats van een klasse te definiëren met `__iter__()` en `__next__()`, gebruik je een functie met het sleutelwoord `yield`. Een generatorfunctie retourneert een generatorobject.  \n",
    "\n",
    "Generators zijn dus niet direct gekoppeld aan objectgeoriënteerd programmeren (OOP). Ze zijn een voorbeeld van functionele programmeerstijl in Python en vereisen geen klassen of methoden. Terwijl iterators in OOP vaak met klassen worden geïmplementeerd (door `__iter__()` en `__next__()` te definiëren), bieden generators een eenvoudiger alternatief.  \n",
    "\n",
    "Het gebruik van het sleutelwoord `yield` zorgt ervoor dat Python de iteratorfunctionaliteit automatisch beheert, wat de code leesbaarder en minder complex maakt."
   ]
  },
  {
   "cell_type": "code",
   "execution_count": 6,
   "id": "03c6ab85-2915-4d26-80fd-60237f5ec1f7",
   "metadata": {
    "slideshow": {
     "slide_type": "subslide"
    }
   },
   "outputs": [
    {
     "name": "stdout",
     "output_type": "stream",
     "text": [
      "f\n",
      "l\n",
      "o\n",
      "g\n"
     ]
    }
   ],
   "source": [
    "# Voorbeeld: Generator voor omgekeerde strings\n",
    "\n",
    "def reverse(data):\n",
    "    for index in range(len(data)-1, -1, -1):\n",
    "        yield data[index]\n",
    "\n",
    "for char in reverse('golf'):\n",
    "    print(char)\n",
    "\n",
    "# Elke keer dat `yield` wordt aangeroepen, pauzeert de functie en onthoudt waar deze gebleven is. \n",
    "# Bij een volgende oproep wordt de uitvoering hervat vanaf dat punt."
   ]
  },
  {
   "cell_type": "markdown",
   "id": "3c626b7d-232b-41f4-875c-fc424c767a42",
   "metadata": {
    "slideshow": {
     "slide_type": "subslide"
    }
   },
   "source": [
    "**Hoe werken generators?**  \n",
    "\n",
    "- Generators zijn eenmalig (exhaustible):\n",
    "    - Een generator is een soort \"lazy iterator\" die waarden één voor één produceert op het moment dat je erom vraagt. Zodra een waarde is geproduceerd, \"vergeet\" de generator die waarde. Als de generator eenmaal is uitgeput (alle waarden zijn geproduceerd), kan deze niet opnieuw worden gebruikt.\n",
    "- Geen opslag van gegevens:\n",
    "    - In tegenstelling tot lijsten of andere containers slaat een generator geen waarden op in het geheugen. Het onthoudt alleen de huidige staat en hoe verder te gaan om de volgende waarde te genereren."
   ]
  },
  {
   "cell_type": "code",
   "execution_count": 31,
   "id": "9571a34e-ed89-4423-b69d-c3f2871fd1e4",
   "metadata": {
    "slideshow": {
     "slide_type": "subslide"
    }
   },
   "outputs": [
    {
     "data": {
      "text/plain": [
       "<generator object square at 0x7de93d79a0c0>"
      ]
     },
     "execution_count": 31,
     "metadata": {},
     "output_type": "execute_result"
    }
   ],
   "source": [
    "def square(nums):\n",
    "    for num in nums:\n",
    "        yield num ** 2\n",
    "\n",
    "# onderstaande geeft enkel een generator object\n",
    "results = square([1,2,3])\n",
    "results"
   ]
  },
  {
   "cell_type": "code",
   "execution_count": 33,
   "id": "ebe7835a-a491-4d28-bd6d-cfb74bf11fcd",
   "metadata": {
    "slideshow": {
     "slide_type": "subslide"
    }
   },
   "outputs": [
    {
     "name": "stdout",
     "output_type": "stream",
     "text": [
      "<generator object square at 0x7de93d79a0c0>\n"
     ]
    },
    {
     "data": {
      "text/plain": [
       "[1, 4, 9]"
      ]
     },
     "execution_count": 33,
     "metadata": {},
     "output_type": "execute_result"
    }
   ],
   "source": [
    "print(results)\n",
    "\n",
    "# pas wanneer we een list maken van deze elementen worden ze effectief berekend!\n",
    "list(results)"
   ]
  },
  {
   "cell_type": "code",
   "execution_count": 34,
   "id": "9bfc56b0-b407-4f0b-bb4d-76a11a056e91",
   "metadata": {
    "slideshow": {
     "slide_type": "subslide"
    }
   },
   "outputs": [
    {
     "data": {
      "text/plain": [
       "[]"
      ]
     },
     "execution_count": 34,
     "metadata": {},
     "output_type": "execute_result"
    }
   ],
   "source": [
    "# indien we dezelfde generator nog eens opvragen...\n",
    "list(results)"
   ]
  },
  {
   "cell_type": "markdown",
   "id": "cef745c2-82c2-4bd8-b78c-50d874271276",
   "metadata": {
    "slideshow": {
     "slide_type": "slide"
    }
   },
   "source": [
    "**Zoals eerder aangegeven: eenmalig en exhaustief!**"
   ]
  },
  {
   "cell_type": "markdown",
   "id": "f9f14411-d712-4e90-bc2b-3c830213e0f0",
   "metadata": {
    "slideshow": {
     "slide_type": "subslide"
    }
   },
   "source": [
    "**Voordelen van Generators**  \n",
    "\n",
    "- Geen noodzaak om `__iter__()` en `__next__()` expliciet te implementeren.\n",
    "- De interne status en lokale variabelen worden automatisch beheerd.\n",
    "- Efficiënter in geheugenverbruik dan lijst-gebaseerde iteraties."
   ]
  },
  {
   "cell_type": "markdown",
   "id": "fc9fc8c0-bba8-4a78-8d63-4b3941fc3242",
   "metadata": {
    "slideshow": {
     "slide_type": "slide"
    }
   },
   "source": [
    "### **4. Generator-expressions**  \n",
    "\n",
    "Generator-uitdrukkingen bieden een compacte syntaxis die lijkt op list-comprehensions, maar ronde haakjes gebruikt in plaats van vierkante."
   ]
  },
  {
   "cell_type": "code",
   "execution_count": 8,
   "id": "0f6fc35c-4e9a-4f1c-8baa-f64b5fa81930",
   "metadata": {
    "slideshow": {
     "slide_type": "slide"
    }
   },
   "outputs": [
    {
     "name": "stdout",
     "output_type": "stream",
     "text": [
      "285\n",
      "260\n"
     ]
    }
   ],
   "source": [
    "# Voorbeelden van generator-expressions\n",
    "\n",
    "# Som van kwadraten\n",
    "total = sum(i * i for i in range(10))\n",
    "print(total)\n",
    "\n",
    "# Inwendig product\n",
    "xvec = [10, 20, 30]\n",
    "yvec = [7, 5, 3]\n",
    "product = sum(x * y for x, y in zip(xvec, yvec))\n",
    "print(product)"
   ]
  },
  {
   "cell_type": "markdown",
   "id": "0e229ce1-5b42-4fe0-8376-a45c1922771f",
   "metadata": {
    "slideshow": {
     "slide_type": "subslide"
    }
   },
   "source": [
    "#### **Generator versus Lijst-comprehensions**\n",
    "- **Generator-expressions** evalueren elk element on-demand, wat efficiënter is qua geheugen.\n",
    "- **List-comprehensions** evalueren alle elementen in één keer en slaan ze op in het geheugen."
   ]
  },
  {
   "cell_type": "markdown",
   "id": "da1b11ce-1eb0-4d90-a7bb-6fc238cf941b",
   "metadata": {
    "slideshow": {
     "slide_type": "slide"
    }
   },
   "source": [
    "### **5. Toepassingen en Praktijkvoorbeelden**"
   ]
  },
  {
   "cell_type": "markdown",
   "id": "03f24825-6dbd-4f5b-8791-0d18a976ded6",
   "metadata": {
    "slideshow": {
     "slide_type": "subslide"
    }
   },
   "source": [
    "**Data streaming**  \n",
    "\n",
    "Generators zijn ideaal voor situaties waarin data in een stroom wordt verwerkt, zoals bij het lezen van grote bestanden of datastromen over een netwerk.\n",
    "\n",
    "```python\n",
    "def read_large_file(file_path):\n",
    "    with open(file_path) as f:\n",
    "        for line in f:\n",
    "            yield line.strip()\n",
    "\n",
    "for line in read_large_file(\"bigfile.txt\"):\n",
    "    print(line)\n",
    "```"
   ]
  },
  {
   "cell_type": "markdown",
   "id": "25e5d9ea-3bd0-4557-9fd9-c7b726294911",
   "metadata": {
    "slideshow": {
     "slide_type": "subslide"
    }
   },
   "source": [
    "**Oneindige reeksen**  \n",
    "\n",
    "Generators kunnen ook oneindige reeksen produceren:\n",
    "\n",
    "```python\n",
    "def infinite_counter(start=0):\n",
    "    while True:\n",
    "        yield start\n",
    "        start += 1\n",
    "\n",
    "counter = infinite_counter()\n",
    "print(next(counter))  # Uitvoer: 0\n",
    "print(next(counter))  # Uitvoer: 1\n",
    "```"
   ]
  },
  {
   "cell_type": "markdown",
   "id": "86f73a5d-1ad0-4c40-a89c-5fe9a7ef809e",
   "metadata": {
    "slideshow": {
     "slide_type": "subslide"
    }
   },
   "source": [
    "**Iterators in Data Science**\n",
    "\n",
    "Iterators zijn bijzonder nuttig in data science vanwege hun efficiëntie en flexibiliteit. Enkele toepassingen zijn:\n",
    "\n",
    "- **Lazy Loading van Data:** Bij het werken met grote datasets (zoals CSV's of databases) kunnen iterators gebruikt worden om data rij voor rij in te lezen, zonder alles tegelijk in het geheugen te laden.\n",
    "\n",
    "    ```python\n",
    "    import csv\n",
    "\n",
    "    def csv_reader(file_name):\n",
    "        with open(file_name) as file:\n",
    "            reader = csv.reader(file)\n",
    "            for row in reader:\n",
    "                yield row\n",
    "\n",
    "    for row in csv_reader(\"large_data.csv\"):\n",
    "        print(row)\n",
    "    ```"
   ]
  },
  {
   "cell_type": "markdown",
   "id": "072c348d-52c3-4c80-a6ce-eea5fe1cb164",
   "metadata": {
    "slideshow": {
     "slide_type": "subslide"
    }
   },
   "source": [
    "**Batchverwerking:**  \n",
    "\n",
    "Iterators kunnen worden gebruikt om data in batches te verwerken, wat nuttig is voor machine learning of big data-toepassingen.\n",
    "\n",
    "```python\n",
    "    def batch_iterator(data, batch_size):\n",
    "        for i in range(0, len(data), batch_size):\n",
    "            yield data[i:i+batch_size]\n",
    "\n",
    "    data = list(range(100))\n",
    "    for batch in batch_iterator(data, 10):\n",
    "        print(batch)\n",
    "```"
   ]
  },
  {
   "cell_type": "markdown",
   "id": "d52e9c1b-0bd1-4d3a-affc-d62a3163b00d",
   "metadata": {
    "slideshow": {
     "slide_type": "slide"
    }
   },
   "source": [
    "**Pipelines:** In data science worden iterators vaak gebruikt in verwerkingpipelines, waarbij data in stappen wordt getransformeerd."
   ]
  },
  {
   "cell_type": "code",
   "execution_count": 36,
   "id": "9ce7b118-1315-4973-9984-d089da65367c",
   "metadata": {
    "slideshow": {
     "slide_type": "slide"
    }
   },
   "outputs": [],
   "source": [
    "def square(nums):\n",
    "    for num in nums:\n",
    "        yield num ** 2\n",
    "\n",
    "def double(nums):\n",
    "    for num in nums:\n",
    "        yield num * 2\n",
    "\n",
    "nums = range(10)\n",
    "pipeline = double(square(nums))"
   ]
  },
  {
   "cell_type": "code",
   "execution_count": 37,
   "id": "56675ddd-221d-4af5-b6af-37bc6cb74a3f",
   "metadata": {
    "slideshow": {
     "slide_type": "slide"
    }
   },
   "outputs": [
    {
     "name": "stdout",
     "output_type": "stream",
     "text": [
      "0\n",
      "2\n",
      "8\n",
      "18\n",
      "32\n",
      "50\n",
      "72\n",
      "98\n",
      "128\n",
      "162\n"
     ]
    }
   ],
   "source": [
    "for result in pipeline:\n",
    "    print(result)"
   ]
  },
  {
   "cell_type": "markdown",
   "id": "b4b935b9-c58f-45bc-a7a8-58ed66112a0d",
   "metadata": {
    "slideshow": {
     "slide_type": "slide"
    }
   },
   "source": [
    "### **6. Samenvatting**  \n",
    "\n",
    "- **Iterators** bieden een uniforme manier om door collecties te lopen, met `__iter__()` en `__next__()`.\n",
    "- **Generators** maken iterators eenvoudiger door gebruik van het `yield`-statement.\n",
    "- **Generator-uitdrukkingen** zijn compacte, geheugen-efficiënte manieren om iteraties te beschrijven.\n",
    "- **Iterators in data science** helpen bij het efficiënt verwerken van grote datasets, batchverwerking en het opzetten van flexibele verwerkingpipelines.\n",
    "\n",
    "Gebruik iterators en generators in je code om flexibele en efficiënte iteraties mogelijk te maken!\n"
   ]
  },
  {
   "cell_type": "markdown",
   "id": "ea1dcfa6-1fba-4955-805b-7e783a01d17f",
   "metadata": {
    "slideshow": {
     "slide_type": "slide"
    }
   },
   "source": [
    "### **7. Overzichtsvragen**"
   ]
  },
  {
   "cell_type": "markdown",
   "id": "02e7d42e-3c82-4e28-916b-7a7f728b0f14",
   "metadata": {
    "slideshow": {
     "slide_type": "slide"
    }
   },
   "source": [
    "1. **Wat is het verschil tussen een iterator en een iterable?**"
   ]
  },
  {
   "cell_type": "markdown",
   "id": "1d16cc75-8061-47cc-865a-eac84a5ea832",
   "metadata": {
    "slideshow": {
     "slide_type": "subslide"
    }
   },
   "source": [
    "> Een iterable is een object waarover je kunt itereren, zoals lijsten of strings. Een iterator is een object dat het protocol `__iter__()` en `__next__()` implementeert om elementen één voor één op te halen."
   ]
  },
  {
   "cell_type": "markdown",
   "id": "ff669511-0aca-4605-bd2d-7d8e25e1ff90",
   "metadata": {
    "slideshow": {
     "slide_type": "slide"
    }
   },
   "source": [
    "2. **Wat doet het `yield`-statement in een generator?**"
   ]
  },
  {
   "cell_type": "markdown",
   "id": "15c9ecf7-932b-4436-8d88-8b59406bca9d",
   "metadata": {
    "slideshow": {
     "slide_type": "subslide"
    }
   },
   "source": [
    "> Het `yield`-statement pauzeert de functie en retourneert een waarde. Bij de volgende oproep hervat de functie vanaf het punt waar deze is gestopt."
   ]
  },
  {
   "cell_type": "markdown",
   "id": "57c7e30b-0218-41a0-bad7-7d88aaa707f3",
   "metadata": {
    "slideshow": {
     "slide_type": "slide"
    }
   },
   "source": [
    "3. **Waarom zijn generators efficiënter in geheugenverbruik dan lijst-comprehensions?**"
   ]
  },
  {
   "cell_type": "markdown",
   "id": "c1dbbd58-a047-47f6-9ea1-ca8dd90e7d60",
   "metadata": {
    "slideshow": {
     "slide_type": "subslide"
    }
   },
   "source": [
    " > Generators evalueren elementen on-demand, terwijl lijst-comprehensions de volledige lijst in het geheugen laden."
   ]
  },
  {
   "cell_type": "markdown",
   "id": "8940a4af-b7fb-49d8-884e-f24e8e054a83",
   "metadata": {
    "slideshow": {
     "slide_type": "slide"
    }
   },
   "source": [
    "4. **Hoe kun je een klasse implementeren die als iterator fungeert?**"
   ]
  },
  {
   "cell_type": "markdown",
   "id": "7d638986-1dd6-4806-9a5a-f3216db7283c",
   "metadata": {
    "slideshow": {
     "slide_type": "subslide"
    }
   },
   "source": [
    "> Door de methoden `__iter__()` en `__next__()` te definiëren. `__iter__()` retourneert het iteratorobject en `__next__()` haalt het volgende element op of roept een `StopIteration`-uitzondering op."
   ]
  },
  {
   "cell_type": "markdown",
   "id": "5d2cd92a-ca6a-4767-9b3a-e7d8f6bcb18b",
   "metadata": {
    "slideshow": {
     "slide_type": "slide"
    }
   },
   "source": [
    "5. **Wat zijn enkele toepassingen van iterators in data science?**"
   ]
  },
  {
   "cell_type": "markdown",
   "id": "5446dbef-02d4-450d-a124-71047b54ec37",
   "metadata": {
    "slideshow": {
     "slide_type": "subslide"
    }
   },
   "source": [
    "> Iterators worden gebruikt voor lazy loading, batchverwerking en pipelines voor efficiënte dataverwerking."
   ]
  }
 ],
 "metadata": {
  "celltoolbar": "Slideshow",
  "kernelspec": {
   "display_name": "Python 3 (ipykernel)",
   "language": "python",
   "name": "python3"
  },
  "language_info": {
   "codemirror_mode": {
    "name": "ipython",
    "version": 3
   },
   "file_extension": ".py",
   "mimetype": "text/x-python",
   "name": "python",
   "nbconvert_exporter": "python",
   "pygments_lexer": "ipython3",
   "version": "3.12.7"
  }
 },
 "nbformat": 4,
 "nbformat_minor": 5
}
