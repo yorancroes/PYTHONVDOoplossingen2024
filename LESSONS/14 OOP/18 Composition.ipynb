{
 "cells": [
  {
   "cell_type": "markdown",
   "id": "65f8aca6-9c21-4eb7-8539-4ecfdffa1118",
   "metadata": {
    "slideshow": {
     "slide_type": "slide"
    }
   },
   "source": [
    "![alt text](../../pythonexposed-high-resolution-logo-black.jpg \"Optionele titel\")"
   ]
  },
  {
   "cell_type": "markdown",
   "id": "15c80d5d-c3b5-47ae-95c3-659e775874b0",
   "metadata": {
    "slideshow": {
     "slide_type": "subslide"
    }
   },
   "source": [
    "> # \"Favor composition over inheritance.\""
   ]
  },
  {
   "cell_type": "markdown",
   "id": "997ec241-aa1b-4862-bbad-abbbf7409510",
   "metadata": {
    "slideshow": {
     "slide_type": "slide"
    }
   },
   "source": [
    "## Even terug naar inheritance...\n",
    "\n",
    "*Inheritance is een manier om een hiërarchie te creëren waarin een subklasse eigenschappen en gedrag van een superklasse erft.*\n",
    "\n",
    "**Wanneer gebruik je inheritance?**\n",
    "- \"Is een\"-relatie: Gebruik inheritance als de subklasse een specifieke vorm is van de superklasse. Dit wordt vaak een \"is-a\"-relatie genoemd.\n",
    "    - Bijvoorbeeld: Een Hond is een Dier.\n",
    "- Codehergebruik: Als je meerdere klassen hebt die sterk op elkaar lijken, kun je een gemeenschappelijke superklasse maken om duplicatie te voorkomen.\n",
    "- Polymorfisme: Gebruik inheritance als je polymorf gedrag wilt, waarbij een subklasse methodes van de superklasse kan overschrijven.\n",
    "\n",
    "**Voordelen van inheritance:**\n",
    "- Eenvoudig codehergebruik: De subklasse kan automatisch alle eigenschappen en methodes van de superklasse overnemen.\n",
    "- Polymorfisme: Subklassen kunnen zich anders gedragen, afhankelijk van hun eigen implementatie (method-overriding).\n",
    "- Hiërarchieën: Geschikt voor het modelleren van hiërarchische structuren.\n",
    "\n",
    "**Nadelen van inheritance:**\n",
    "- Strakke koppeling: De subklasse is sterk afhankelijk van de superklasse. Als de superklasse verandert, kan dit onverwachte fouten in de subklasse veroorzaken.\n",
    "- Beperkte flexibiliteit: Inheritance werkt alleen voor een enkele hiërarchie (bijvoorbeeld een klasse kan slechts één superklasse hebben in Python, hoewel multiple inheritance mogelijk is).\n",
    "- Overgebruik kan leiden tot rigide en complexe structuren: Wanneer je te diep geneste hiërarchieën hebt, wordt de code moeilijk te onderhouden."
   ]
  },
  {
   "cell_type": "markdown",
   "id": "8de89aed-6cd3-4662-a2e8-6f1aa39e6ea2",
   "metadata": {
    "slideshow": {
     "slide_type": "slide"
    }
   },
   "source": [
    "#### **Voorbeeld met inheritance: een werknemersbeheersysteem**\n",
    "\n",
    "Overweeg een systeem dat verschillende soorten werknemers beheert:\n",
    "\n",
    "- **Uurloonwerknemer:** Wordt betaald op basis van gewerkte uren en een uurloon.\n",
    "- **Salariswerknemer:** Ontvangt een vast maandelijks salaris.\n",
    "- **Freelancer:** Wordt per uur betaald, maar heeft ook een btw-nummer.\n",
    "\n",
    "Met overerving kan het systeem als volgt worden opgebouwd:"
   ]
  },
  {
   "cell_type": "markdown",
   "id": "3d0eb87e-0ac8-4bed-8902-002bda3954fb",
   "metadata": {
    "slideshow": {
     "slide_type": "slide"
    }
   },
   "source": [
    "```python\n",
    "from abc import ABC, abstractmethod\n",
    "\n",
    "class Werknemer(ABC):\n",
    "    def __init__(self, naam, id):\n",
    "        self.naam = naam\n",
    "        self.id = id\n",
    "\n",
    "    @abstractmethod\n",
    "    def bereken_salaris(self):\n",
    "        pass\n",
    "\n",
    "class UurloonWerknemer(Werknemer):\n",
    "    def __init__(self, naam, id, uurloon, uren_gewerkt, vaste_kosten):\n",
    "        super().__init__(naam, id)\n",
    "        self.uurloon = uurloon\n",
    "        self.uren_gewerkt = uren_gewerkt\n",
    "        self.vaste_kosten = vaste_kosten\n",
    "\n",
    "    def bereken_salaris(self):\n",
    "        return self.uurloon * self.uren_gewerkt + self.vaste_kosten\n",
    "\n",
    "class SalarisWerknemer(Werknemer):\n",
    "    def __init__(self, naam, id, maandsalaris):\n",
    "        super().__init__(naam, id)\n",
    "        self.maandsalaris = maandsalaris\n",
    "\n",
    "    def bereken_salaris(self):\n",
    "        return self.maandsalaris\n",
    "\n",
    "class Freelancer(Werknemer):\n",
    "    def __init__(self, naam, id, uurloon, uren_gewerkt, btw_nummer):\n",
    "        super().__init__(naam, id)\n",
    "        self.uurloon = uurloon\n",
    "        self.uren_gewerkt = uren_gewerkt\n",
    "        self.btw_nummer = btw_nummer\n",
    "\n",
    "    def bereken_salaris(self):\n",
    "        return self.uurloon * self.uren_gewerkt\n",
    "```"
   ]
  },
  {
   "cell_type": "markdown",
   "id": "a6eb5d20-3960-4d74-bd2e-60954eccc91b",
   "metadata": {
    "slideshow": {
     "slide_type": "slide"
    }
   },
   "source": [
    "Om commissies toe te voegen, kunnen we subklassen maken zoals `UurloonWerknemerMetCommissie`, `FreelancerMetCommissie`, enz. Dit leidt echter tot een explosie van klassen als er ook een bonussysteem moet worden toegevoegd:\n",
    "\n",
    "```python\n",
    "class UurloonWerknemerMetCommissie(UurloonWerknemer):\n",
    "    def __init__(self, naam, id, uurloon, uren_gewerkt, vaste_kosten, commissie):\n",
    "        super().__init__(naam, id, uurloon, uren_gewerkt, vaste_kosten)\n",
    "        self.commissie = commissie\n",
    "\n",
    "    def bereken_salaris(self):\n",
    "        return super().bereken_salaris() + self.commissie\n",
    "\n",
    "class FreelancerMetCommissie(Freelancer):\n",
    "    def __init__(self, naam, id, uurloon, uren_gewerkt, btw_nummer, commissie):\n",
    "        super().__init__(naam, id, uurloon, uren_gewerkt, btw_nummer)\n",
    "        self.commissie = commissie\n",
    "\n",
    "    def bereken_salaris(self):\n",
    "        return super().bereken_salaris() + self.commissie\n",
    "```\n",
    "\n",
    "Als er ook bonussen toegevoegd worden, ontstaan nog meer subklassen zoals `UurloonWerknemerMetCommissieEnBonus`. Dit maakt het systeem complex en moeilijk te beheren.  We hebben dus bij voorkeur een andere oplossing voor dit probleem nodig!"
   ]
  },
  {
   "cell_type": "markdown",
   "id": "85332641-a749-4936-afff-15f41edaaa40",
   "metadata": {
    "slideshow": {
     "slide_type": "slide"
    }
   },
   "source": [
    "## Enter Composition...\n",
    "\n",
    "*Composition is een manier om klassen te bouwen door andere klassen te gebruiken als componenten in plaats van eigenschappen te erven.*\n",
    "\n",
    "**Wanneer gebruik je composition?**\n",
    "- Gebruik composition als een klasse gebruik maakt van andere klassen. Dit wordt vaak een \"has-a\"-relatie genoemd.\n",
    "    - Bijvoorbeeld: Een Auto heeft een Motor.\n",
    "- Losse koppeling: Als je flexibele objecten wilt die eenvoudig kunnen worden aangepast of vervangen, gebruik je composition.\n",
    "- Meerdere verantwoordelijkheden: Als een klasse functionaliteit nodig heeft van verschillende bronnen, gebruik dan composition in plaats van inheritance.\n",
    "\n",
    "**Voordelen van composition:**\n",
    "- Losse koppeling: Klassen zijn minder afhankelijk van elkaar en kunnen gemakkelijker worden vervangen of aangepast.\n",
    "- Flexibiliteit: Je kunt eenvoudig objecten samenstellen met verschillende componenten, afhankelijk van de situatie.\n",
    "- Herbruikbaarheid: Componenten kunnen in meerdere klassen worden hergebruikt zonder hiërarchieën te creëren.\n",
    "\n",
    "**Nadelen van composition:**\n",
    "- Meer code nodig: Het kan complexer lijken omdat je expliciete delegatie (verwijzing naar methods in gerelateerde klassen) moet implementeren in plaats van automatisch gedrag te erven.\n",
    "- Kan minder intuïtief zijn: Voor beginners lijkt inheritance vaak eenvoudiger en logischer."
   ]
  },
  {
   "cell_type": "markdown",
   "id": "db03d293-6189-43a3-b187-7baa8e0554ca",
   "metadata": {
    "slideshow": {
     "slide_type": "slide"
    }
   },
   "source": [
    "```python\n",
    "    class Motor:\n",
    "        def start(self):\n",
    "            print(\"Motor start\")\n",
    "    \n",
    "    class Auto:\n",
    "        def __init__(self):\n",
    "            self.motor = Motor()  # De auto heeft een motor\n",
    "    \n",
    "        def rijden(self):\n",
    "            self.motor.start()\n",
    "            print(\"De auto rijdt\")\n",
    "```"
   ]
  },
  {
   "cell_type": "markdown",
   "id": "d70a47d6-0b53-4b6d-a021-4f52abbb004f",
   "metadata": {
    "slideshow": {
     "slide_type": "slide"
    }
   },
   "source": [
    "## Quiz: composition of inheritance?"
   ]
  },
  {
   "cell_type": "markdown",
   "id": "866484a0-7f0d-4630-b5b4-39ab76a8bbaa",
   "metadata": {
    "slideshow": {
     "slide_type": "slide"
    }
   },
   "source": [
    "Q: Je maakt een applicatie voor een dierenopvang. Er zijn verschillende soorten dieren, zoals honden en katten. Sommige dieren hebben unieke eigenschappen, zoals \"blaffen\" voor honden en \"miauwen\" voor katten. Moet je inheritance of composition gebruiken?"
   ]
  },
  {
   "cell_type": "markdown",
   "id": "37aaa2cd-7a9a-4ec4-871e-5e554a40f440",
   "metadata": {
    "slideshow": {
     "slide_type": "subslide"
    }
   },
   "source": [
    "> A: Gebruik inheritance. Een hond is een dier en een kat is een dier. Beide delen gedrag zoals \"eten\", maar hebben unieke methodes zoals \"blaffen\" of \"miauwen\"."
   ]
  },
  {
   "cell_type": "markdown",
   "id": "d285d6db-6b92-4ce2-8b26-721c871a2365",
   "metadata": {
    "slideshow": {
     "slide_type": "slide"
    }
   },
   "source": [
    "Q: Je bouwt een systeem voor een fabriek die auto's maakt. Elke auto heeft een motor, wielen, en een carrosserie. Elk onderdeel kan in verschillende typen voorkomen, bijvoorbeeld een elektrische of benzinemotor. Moet je inheritance of composition gebruiken?"
   ]
  },
  {
   "cell_type": "markdown",
   "id": "e7d5a2d0-3f0a-4fc6-94b1-380be482b13e",
   "metadata": {
    "slideshow": {
     "slide_type": "subslide"
    }
   },
   "source": [
    "> A: Gebruik composition. Een auto heeft een motor, heeft wielen, en heeft een carrosserie. Deze onderdelen zijn onafhankelijke componenten die kunnen worden vervangen of aangepast."
   ]
  },
  {
   "cell_type": "markdown",
   "id": "eb4236e1-7155-47db-a9ed-850a0f2708cc",
   "metadata": {
    "slideshow": {
     "slide_type": "slide"
    }
   },
   "source": [
    "Q: Je ontwikkelt een kassasysteem voor verschillende winkels. Sommige winkels bieden kortingen, terwijl andere een standaard prijsstructuur gebruiken. Moet je inheritance of composition gebruiken?"
   ]
  },
  {
   "cell_type": "markdown",
   "id": "8d1e81a6-ac72-46ed-90d3-34c817ca723c",
   "metadata": {
    "slideshow": {
     "slide_type": "subslide"
    }
   },
   "source": [
    "> A: Gebruik composition. Het kassasysteem heeft een prijscalculator, en die calculator kan worden aangepast afhankelijk van de winkel. Dit maakt het systeem flexibeler."
   ]
  },
  {
   "cell_type": "markdown",
   "id": "ffab6afe-cfe4-4cc4-99b1-9888f5129aff",
   "metadata": {
    "slideshow": {
     "slide_type": "slide"
    }
   },
   "source": [
    "#### **Oplossing werknemersbeheersysteem met Compositie**\n",
    "\n",
    "In plaats van een hiërarchie van subklassen te maken, kunnen we gebruik maken van compositie om dit probleem op te lossen. Door functionaliteiten zoals commissies en bonussen op te splitsen in aparte klassen, kunnen we deze dynamisch combineren met werknemers. Dit maakt het systeem flexibeler en eenvoudiger te beheren.\n",
    "\n",
    "Hier is hoe dit eruit kan zien:\n",
    "\n",
    "```python\n",
    "class Commissie:\n",
    "    def __init__(self, bedrag_per_contract, aantal_contracten):\n",
    "        self.bedrag_per_contract = bedrag_per_contract\n",
    "        self.aantal_contracten = aantal_contracten\n",
    "\n",
    "    def bereken_commissie(self):\n",
    "        return self.bedrag_per_contract * self.aantal_contracten\n",
    "\n",
    "class Bonus:\n",
    "    def __init__(self, bedrag):\n",
    "        self.bedrag = bedrag\n",
    "\n",
    "    def bereken_bonus(self):\n",
    "        return self.bedrag\n",
    "\n",
    "class Werknemer:\n",
    "    def __init__(self, naam, id, contract):\n",
    "        self.naam = naam\n",
    "        self.id = id\n",
    "        self.contract = contract\n",
    "        self.commissie = None\n",
    "        self.bonus = None\n",
    "\n",
    "    def voeg_commissie_toe(self, commissie):\n",
    "        self.commissie = commissie\n",
    "\n",
    "    def voeg_bonus_toe(self, bonus):\n",
    "        self.bonus = bonus\n",
    "\n",
    "    def bereken_salaris(self):\n",
    "        salaris = self.contract.bereken_betaling()\n",
    "        if self.commissie:\n",
    "            salaris += self.commissie.bereken_commissie()\n",
    "        if self.bonus:\n",
    "            salaris += self.bonus.bereken_bonus()\n",
    "        return salaris\n",
    "\n",
    "class UurContract:\n",
    "    def __init__(self, uurloon, uren_gewerkt, vaste_kosten):\n",
    "        self.uurloon = uurloon\n",
    "        self.uren_gewerkt = uren_gewerkt\n",
    "        self.vaste_kosten = vaste_kosten\n",
    "\n",
    "    def bereken_betaling(self):\n",
    "        return self.uurloon * self.uren_gewerkt + self.vaste_kosten\n",
    "```"
   ]
  },
  {
   "cell_type": "markdown",
   "id": "95dde12d-cb86-4990-905f-37d89a229eae",
   "metadata": {
    "slideshow": {
     "slide_type": "slide"
    }
   },
   "source": [
    "Met deze aanpak kun je eenvoudig werknemers maken en combineren met commissies en bonussen zonder nieuwe subklassen toe te voegen:\n",
    "\n",
    "```python\n",
    "# Voorbeeld van gebruik\n",
    "contract = UurContract(uurloon=50, uren_gewerkt=40, vaste_kosten=100)\n",
    "werknemer = Werknemer(\"Jan\", 1, contract)\n",
    "commissie = Commissie(bedrag_per_contract=500, aantal_contracten=3)\n",
    "bonus = Bonus(bedrag=1000)\n",
    "\n",
    "werknemer.voeg_commissie_toe(commissie)\n",
    "werknemer.voeg_bonus_toe(bonus)\n",
    "\n",
    "print(f\"Salaris van {werknemer.naam}: {werknemer.bereken_salaris()}\")\n",
    "```"
   ]
  },
  {
   "cell_type": "markdown",
   "id": "fe2217a1-14a2-4b4c-9269-c32622eac635",
   "metadata": {
    "slideshow": {
     "slide_type": "slide"
    }
   },
   "source": [
    "#### **Extra context voor data scientists**\n",
    "\n",
    "In data science zijn schaalbaarheid en modulariteit essentieel. Denk bijvoorbeeld aan een machine learning-pipeline waarin verschillende preprocessingtaken (zoals normalisatie of featurization) onafhankelijk van elkaar moeten werken. Door compositie te gebruiken, kun je deze taken als modulaire componenten definiëren en flexibel combineren. Dit zorgt voor herbruikbare en onderhoudbare code.\n",
    "\n",
    "Voorbeeld:"
   ]
  },
  {
   "cell_type": "code",
   "execution_count": 1,
   "id": "848a009b-93da-4b16-848a-8ddcba118550",
   "metadata": {
    "slideshow": {
     "slide_type": "slide"
    }
   },
   "outputs": [
    {
     "name": "stdout",
     "output_type": "stream",
     "text": [
      "\n",
      "Originele data: [1, 2, 3, 4, 5]\n",
      "\n",
      "Uitvoeren Normalisatie\n",
      "Output: [-1.41421356 -0.70710678  0.          0.70710678  1.41421356]\n",
      "\n",
      "Uitvoeren Featurization\n",
      "Output: [2.  0.5 0.  0.5 2. ]\n",
      "\n",
      "Eindresultaat: [2.  0.5 0.  0.5 2. ]\n"
     ]
    }
   ],
   "source": [
    "import numpy as np\n",
    "\n",
    "class Normalisatie:\n",
    "    \"\"\"schalen van data zodat deze een gemiddelde van 0 en een standaarddeviatie van 1 krijgt (Z-score normalisatie)\"\"\"\n",
    "    name = 'Normalisatie'\n",
    "    def transform(self, arr):\n",
    "        return (arr - arr.mean()) / arr.std()\n",
    "\n",
    "class Featurization:\n",
    "    \"\"\"omzetten van alle features naar een hogere orde (in dit geval 2)\"\"\"\n",
    "    name = 'Featurization'\n",
    "    def transform(self, data):\n",
    "        return data**2\n",
    "\n",
    "class DataPipeline:\n",
    "    def __init__(self):\n",
    "        self.stappen = []\n",
    "\n",
    "    def voeg_stap_toe(self, stap):\n",
    "        self.stappen.append(stap)\n",
    "\n",
    "    def transform(self, data):\n",
    "        arr = np.array(data)\n",
    "        for stap in self.stappen:\n",
    "            print(f\"\\nUitvoeren {stap.name}\")\n",
    "            arr = stap.transform(arr)\n",
    "            print(f\"Output: {arr}\")\n",
    "        return arr\n",
    "\n",
    "pipeline = DataPipeline()\n",
    "pipeline.voeg_stap_toe(Normalisatie())\n",
    "pipeline.voeg_stap_toe(Featurization())\n",
    "\n",
    "data = [1, 2, 3, 4, 5]\n",
    "\n",
    "print(f\"\\nOriginele data: {data}\")\n",
    "getransformeerde_data = pipeline.transform(data)\n",
    "print(f\"\\nEindresultaat: {getransformeerde_data}\")"
   ]
  },
  {
   "cell_type": "markdown",
   "id": "ff0b13f0-4c91-4bd8-afe7-188536effb38",
   "metadata": {
    "slideshow": {
     "slide_type": "slide"
    }
   },
   "source": [
    "#### **Voordelen van Compositie**\n",
    "\n",
    "1. **Flexibiliteit:** Functionaliteiten kunnen eenvoudig worden toegevoegd of aangepast zonder de bestaande structuur te wijzigen.\n",
    "2. **Eenvoud:** Vermindert de complexiteit van een hiërarchie van subklassen.\n",
    "3. **Modulariteit:** Elk onderdeel (zoals commissie of bonus) kan onafhankelijk worden getest en beheerd.\n",
    "4. **Toepasselijk voor data science:** Geschikt voor modulaire workflows, zoals preprocessingtaken of machine learning-pijplijnen."
   ]
  },
  {
   "cell_type": "markdown",
   "id": "8d3058f6-645d-43dc-a113-6f088f7c6373",
   "metadata": {
    "slideshow": {
     "slide_type": "slide"
    }
   },
   "source": [
    "#### **Conclusie**\n",
    "\n",
    "Overerving kan leiden tot een explosie van subklassen als er veel variaties nodig zijn. Compositie biedt een flexibelere en meer onderhoudbare oplossing door functionaliteiten op te splitsen in kleinere, modulaire klassen die dynamisch kunnen worden gecombineerd. Dit maakt het systeem eenvoudiger, schaalbaarder en gemakkelijker te begrijpen, zowel voor traditionele programmeerproblemen als voor data science-workflows."
   ]
  },
  {
   "cell_type": "markdown",
   "id": "e1dabd9f-d412-46e2-b427-1dd61bfed380",
   "metadata": {
    "slideshow": {
     "slide_type": "slide"
    }
   },
   "source": [
    "#### **Wat hebben we geleerd?**"
   ]
  },
  {
   "cell_type": "markdown",
   "id": "3b4b83c5-074a-4afd-98e6-119bf97e1770",
   "metadata": {
    "slideshow": {
     "slide_type": "slide"
    }
   },
   "source": [
    "1. **Wat is het belangrijkste verschil tussen overerving en compositie?**"
   ]
  },
  {
   "cell_type": "markdown",
   "id": "f849defb-992e-43ae-b0c8-1228186c0dd9",
   "metadata": {
    "slideshow": {
     "slide_type": "subslide"
    }
   },
   "source": [
    "> Overerving gebruikt een \"is-een\"-relatie terwijl compositie een \"heeft-een\"-relatie gebruikt. "
   ]
  },
  {
   "cell_type": "markdown",
   "id": "d1fc0032-5df8-4bd2-9387-5d6694425169",
   "metadata": {
    "slideshow": {
     "slide_type": "slide"
    }
   },
   "source": [
    "2. **Wat zijn de nadelen van overmatig gebruik van overerving?**"
   ]
  },
  {
   "cell_type": "markdown",
   "id": "9f87e560-c309-45d6-b627-782821712233",
   "metadata": {
    "slideshow": {
     "slide_type": "subslide"
    }
   },
   "source": [
    "> Het kan leiden tot klasse-explosie, strakke koppeling, en moeilijk onderhoudbare code."
   ]
  },
  {
   "cell_type": "markdown",
   "id": "8321236d-0dde-4573-8fc2-8001bf32d27d",
   "metadata": {
    "slideshow": {
     "slide_type": "slide"
    }
   },
   "source": [
    "3. **Hoe lost compositie het probleem van klasse-explosie op?**"
   ]
  },
  {
   "cell_type": "markdown",
   "id": "3fdd01f7-575f-4c34-9de7-3d2316504155",
   "metadata": {
    "slideshow": {
     "slide_type": "subslide"
    }
   },
   "source": [
    "> Door functionaliteiten op te splitsen in losse componenten die dynamisch gecombineerd kunnen worden."
   ]
  },
  {
   "cell_type": "markdown",
   "id": "63dc3d7e-52d6-4755-9984-0d56b92c1a2c",
   "metadata": {
    "slideshow": {
     "slide_type": "slide"
    }
   },
   "source": [
    "4. **Waarom is compositie nuttig in data science-workflows?**"
   ]
  },
  {
   "cell_type": "markdown",
   "id": "31d77eec-5f39-42b4-bcc7-ec4d950777b4",
   "metadata": {
    "slideshow": {
     "slide_type": "subslide"
    }
   },
   "source": [
    "> Het biedt schaalbare, modulaire oplossingen die eenvoudig kunnen worden aangepast en uitgebreid."
   ]
  },
  {
   "cell_type": "markdown",
   "id": "ff504be1-cc50-4c99-99b8-1be93127c07b",
   "metadata": {
    "slideshow": {
     "slide_type": "slide"
    }
   },
   "source": [
    "5. **Wat is een voorbeeld van compositie in een machine learning-pijplijn?**"
   ]
  },
  {
   "cell_type": "markdown",
   "id": "4fe60a0f-4015-4de9-8b9d-53d7ca3bf733",
   "metadata": {
    "slideshow": {
     "slide_type": "subslide"
    }
   },
   "source": [
    "> Een pijplijn waarin normalisatie en featurization als losse stappen worden uitgevoerd."
   ]
  },
  {
   "cell_type": "markdown",
   "id": "280a5eb4-b0f0-46ae-af90-3f1809be6c10",
   "metadata": {
    "slideshow": {
     "slide_type": "slide"
    }
   },
   "source": [
    "6. **Waarom is modulariteit belangrijk in OOP?**"
   ]
  },
  {
   "cell_type": "markdown",
   "id": "ff987c7f-91c6-4c77-b4d3-13b36f6ffe78",
   "metadata": {
    "slideshow": {
     "slide_type": "subslide"
    }
   },
   "source": [
    "> Het maakt code herbruikbaar, onderhoudbaar en eenvoudiger te testen."
   ]
  },
  {
   "cell_type": "markdown",
   "id": "974fceb5-c1f0-4197-8f81-f6a429a425f1",
   "metadata": {
    "slideshow": {
     "slide_type": "slide"
    }
   },
   "source": [
    "7. **Hoe kun je een bonus of commissie toevoegen aan een werknemer zonder subklassen?**"
   ]
  },
  {
   "cell_type": "markdown",
   "id": "75da7bf6-f5d8-49c0-b640-70f5ebf4b565",
   "metadata": {
    "slideshow": {
     "slide_type": "subslide"
    }
   },
   "source": [
    "> Door aparte klassen voor bonus en commissie te maken en deze te koppelen aan een werknemer via compositie."
   ]
  },
  {
   "cell_type": "markdown",
   "id": "0433d0fc-b893-4100-9a15-6a0245759f0a",
   "metadata": {
    "slideshow": {
     "slide_type": "slide"
    }
   },
   "source": [
    "8. **Wat zijn enkele voordelen van compositie ten opzichte van overerving?**"
   ]
  },
  {
   "cell_type": "markdown",
   "id": "026bb7b0-5133-4252-abe6-c7bfda500dd8",
   "metadata": {
    "slideshow": {
     "slide_type": "subslide"
    }
   },
   "source": [
    "> Flexibiliteit, eenvoud, modulariteit en een lagere koppeling tussen componenten."
   ]
  },
  {
   "cell_type": "markdown",
   "id": "e178269d-7ebf-4a8d-8d6f-c0b6e6193923",
   "metadata": {
    "slideshow": {
     "slide_type": "slide"
    }
   },
   "source": [
    "9. **Hoe kan je flexibiliteit bereiken met compositie?**"
   ]
  },
  {
   "cell_type": "markdown",
   "id": "59266275-c5f2-47fd-85c5-61416c0f273b",
   "metadata": {
    "slideshow": {
     "slide_type": "subslide"
    }
   },
   "source": [
    "> Door componenten los van elkaar te ontwerpen en ze naar behoefte te combineren."
   ]
  }
 ],
 "metadata": {
  "celltoolbar": "Slideshow",
  "kernelspec": {
   "display_name": "Python 3 (ipykernel)",
   "language": "python",
   "name": "python3"
  },
  "language_info": {
   "codemirror_mode": {
    "name": "ipython",
    "version": 3
   },
   "file_extension": ".py",
   "mimetype": "text/x-python",
   "name": "python",
   "nbconvert_exporter": "python",
   "pygments_lexer": "ipython3",
   "version": "3.11.6"
  }
 },
 "nbformat": 4,
 "nbformat_minor": 5
}
